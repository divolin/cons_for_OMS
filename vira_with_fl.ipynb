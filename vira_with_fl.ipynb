{
 "cells": [
  {
   "cell_type": "code",
   "execution_count": 1,
   "metadata": {},
   "outputs": [],
   "source": [
    "from func import read_sam, read_fasta, read_fastq, write_fastq, fastq_to_fasta, quality, read_seq_from_file, convert_to_phred, write_seq_in_file_with_length, write_seq_in_file_with_length_and_name, muscle, muscle_with_gap1000, per_nucl_in_cal, percetn_of_nucl_in_cal, count_gaps, count_nucl_in_cal, consensus, reverse_complement, delete_gap, delete_insert, sort_fasta, start_probability, matrix_of_MDI, probability_of_trans"
   ]
  },
  {
   "cell_type": "code",
   "execution_count": 1,
   "metadata": {},
   "outputs": [
    {
     "name": "stdout",
     "output_type": "stream",
     "text": [
      "Time for reading/generating the reference: 0:00:00.000643 h\n",
      "Time for simulation of 20 reads: 0:00:00.079374 h.\n"
     ]
    }
   ],
   "source": [
    "!simlord --generate-reference 0.6 10000 --save-reference random.fasta -n 20  myreads -fl 10000"
   ]
  },
  {
   "cell_type": "code",
   "execution_count": 2,
   "metadata": {},
   "outputs": [],
   "source": [
    "\n",
    "\n",
    "random_fasta = read_seq_from_file('random.fasta')\n",
    "list_rand_seq = []\n",
    "list_rand_seq.append(reverse_complement(random_fasta[0]))\n",
    "write_seq_in_file_with_length('random_compl.fasta', list_rand_seq, 0, 0)\n",
    "\n"
   ]
  },
  {
   "cell_type": "code",
   "execution_count": 1,
   "metadata": {},
   "outputs": [
    {
     "name": "stdout",
     "output_type": "stream",
     "text": [
      "Time for reading/generating the reference: 0:00:00.000112 h\n",
      "Time for simulation of 20 reads: 0:00:00.075620 h.\n"
     ]
    }
   ],
   "source": [
    "!simlord --read-reference random_compl.fasta -n 20  myreads_compl -fl 10000"
   ]
  },
  {
   "cell_type": "code",
   "execution_count": 4,
   "metadata": {},
   "outputs": [],
   "source": []
  },
  {
   "cell_type": "code",
   "execution_count": 3,
   "metadata": {},
   "outputs": [],
   "source": []
  },
  {
   "cell_type": "code",
   "execution_count": 7,
   "metadata": {},
   "outputs": [
    {
     "name": "stderr",
     "output_type": "stream",
     "text": [
      "100%|██████████| 500/500 [00:06<00:00, 76.94it/s] \n"
     ]
    }
   ],
   "source": [
    "from tqdm import tqdm\n",
    "import re\n",
    "\n",
    "path_to_reads = 'myreads.sam'\n",
    "\n",
    "if path_to_reads[-3:] == 'sam':\n",
    "    sequence = read_sam('myreads.sam')\n",
    "elif path_to_reads[-5:] == 'fastq':\n",
    "    sequence = read_fastq('myreads.fastq')\n",
    "elif path_to_reads[-5:] == 'fasta':\n",
    "    sequence = read_fasta('myreads.fasta')\n",
    "write_seq_in_file_with_length('myreads.fasta', sequence, 0, 0)\n",
    "\n",
    "# подсчёт средней длины последовательности, чтобы избавиться от слишком коротких и слишком длинных последовательностей\n",
    "alligment = read_seq_from_file('myreads.fasta')\n",
    "avg_length = sum(len(word) for word in alligment) / len(alligment)\n",
    "list_allig = []\n",
    "list_need_seq = []\n",
    "for j, i in enumerate(alligment):\n",
    "    if len(i) >= avg_length / 1.6 or len(i) <= avg_length / 0.66:\n",
    "        list_allig.append(i)\n",
    "        list_need_seq.append(j)\n",
    "write_seq_in_file_with_length('myreads.fasta', list_allig, 0, 0)\n",
    "\n",
    "# Стартовые позиции последовательности, у нас всегда 0\n",
    "list_startpos = []\n",
    "for i in list_allig:\n",
    "    list_startpos.append(0)\n",
    "\n",
    "# Узнавание какая последовательность самая длинная и её индекс\n",
    "sequence = read_seq_from_file('myreads.fasta')\n",
    "maxi_index = max([len(word) for word in sequence])\n",
    "index_max = 0\n",
    "for j, i in enumerate(sequence):\n",
    "    if len(i) == maxi_index:\n",
    "        index_max = j\n",
    "\n",
    "# Основная часть, в которой сначала проверяется подходит ли нам последовательность учитывая стартовую позицию\n",
    "# Далее отрезается часть последовательности от indi до indi + 80, где indi это индекс, который увеличивается на половину длины выравнивания \n",
    "# Далее считается количество пропусков и нуклеотидов и заменяется в изначальных последовательностях куски нуклеотидов на выравненные \n",
    "list_already_use = []\n",
    "list_lish_gap = []\n",
    "indi = 0\n",
    "count_nucl = 0\n",
    "for start in tqdm(range(0, 20000, 40)):\n",
    "    list_use_seq = []\n",
    "    list_use_seq_index = []\n",
    "    \n",
    "\n",
    "    for j, seq in enumerate(sequence):\n",
    "        if count_nucl >= list_startpos[j]:\n",
    "            if j not in list_already_use:\n",
    "                sequence[j] = indi * '-' + seq + (10000 - len(seq) - list_startpos[j]) * '-'\n",
    "                list_already_use.append(j)\n",
    "            gap_flag = False\n",
    "            for i in seq[indi:indi + 80]:\n",
    "                if i != '-':\n",
    "                    gap_flag = True\n",
    "                    continue\n",
    "            if gap_flag:\n",
    "                list_use_seq.append(sequence[j])\n",
    "                list_use_seq_index.append(j)    \n",
    "\n",
    "    write_seq_in_file_with_length_and_name(f'allig/reads_{indi}-{indi + 80}.fasta', list_use_seq, list_use_seq_index, indi, indi + 80)\n",
    "    muscle(f'allig/reads_{indi}-{indi + 80}.fasta', f'allig/allig_{indi}-{indi + 80}.fasta')\n",
    "\n",
    "    list_seq_with_insert = []\n",
    "    sorted_seqs = sort_fasta(f'allig/allig_{indi}-{indi + 80}.fasta')\n",
    "    for rec in sorted_seqs:\n",
    "        list_seq_with_insert.append(str(rec.seq))\n",
    "    write_seq_in_file_with_length_and_name(f'allig/allig_{indi}-{indi + 80}.fasta', list_seq_with_insert, list_use_seq_index,  0, 0)\n",
    "\n",
    "    alligment = read_seq_from_file(f'allig/allig_{indi}-{indi + 80}.fasta')\n",
    "\n",
    "\n",
    "\n",
    "    tmp = int(0.5 * len(alligment[0]))\n",
    "\n",
    "    list_allig_index = []\n",
    "    list_count_gap = []\n",
    "    for j, seq in enumerate(alligment):\n",
    "        tmp2 = seq[:tmp].count('-')\n",
    "        list_count_gap.append(tmp2)\n",
    "        list_allig_index.append(tmp - tmp2)\n",
    "    \n",
    "    for i in range(len(alligment)):\n",
    "        alligment[i] = alligment[i][:tmp]\n",
    "\n",
    "    for j, i in enumerate(list_use_seq_index):\n",
    "        if i == index_max:\n",
    "            count_nucl += int(list_allig_index[j] * 0.93)\n",
    "        sequence[i] = sequence[i][:indi] + alligment[j] + sequence[i][list_allig_index[j] + indi:]\n",
    "    indi += tmp\n",
    "\n",
    "# Дополнение строк до одинаковой длины\n",
    "list_length = []\n",
    "for i in sequence:\n",
    "    list_length.append(len(i))\n",
    "maxi = max(list_length)\n",
    "for j, i in enumerate(sequence):\n",
    "    while len(sequence[j]) < maxi:\n",
    "        sequence[j] = sequence[j] + '-'\n",
    "\n",
    "write_seq_in_file_with_length('allig_seq.fasta', sequence, 0, 0)\n",
    "\n",
    "# Постройка консенсуса \n",
    "list_consensus = []\n",
    "alligment = read_seq_from_file('allig_seq.fasta')\n",
    "count_nucl = per_nucl_in_cal(alligment)\n",
    "count_gap = count_gaps (alligment)\n",
    "alligment = delete_gap(alligment, count_gap, count_nucl, 50 / 100)\n",
    "# Запись множественного выравнивания в файл\n",
    "write_seq_in_file_with_length('multiple_alignment.fasta', alligment, 0, 0)\n",
    "pi = start_probability (alligment)\n",
    "a = matrix_of_MDI(alligment)\n",
    "A = probability_of_trans(alligment, a)\n",
    "count = count_nucl_in_cal(alligment)\n",
    "b = percetn_of_nucl_in_cal(count)\n",
    "consensuss = consensus(alligment, b)\n",
    "# Запись консенсуса в файл\n",
    "write_seq_in_file_with_length('consensus.fasta', [consensuss], 0, 0)\n",
    "# Расчёт качества\n",
    "consi = read_seq_from_file('consensus.fasta')\n",
    "multiple_allig = read_seq_from_file('multiple_alignment.fasta')\n",
    "list_seq = consi + multiple_allig\n",
    "write_seq_in_file_with_length('consensus_and_multiple.fasta', list_seq, 0, 0)\n",
    "list_prob_quality = quality(list_seq)\n",
    "phred_string = convert_to_phred(list_prob_quality)\n",
    "write_fastq('consensus.fastq', consi[0][:-100], phred_string)\n"
   ]
  },
  {
   "cell_type": "code",
   "execution_count": 8,
   "metadata": {},
   "outputs": [
    {
     "data": {
      "text/plain": [
       "'~y~~~~u~yy~~~~y~~y~uu~~u~p~~yuy~~~~~uyy~~yy~u~~~~y~~upuuy~p~~~~yyyyy~u~yyu~~u~~u~~~yy~~~~~~yg~~~~yyy~y~~~~~~y~~uuyu~uyyuu~~~y~~y~yuy~~u~~y~~~~uuy~~u~~~u~~pu~~y~y~y~y~p~y~~~~~y~y~y~byy~y~uy~yyu~yy~y~~~uu~y~y~~~~yy~yyy~~~pyyu~~~~~~~y~y~~~y~~~u~yyy~~~~~~yyyp~y~~~yp~yyy~uyy~y~~y~~~~u~~y~u~~yy~yy~uu~p~~~~~u~yy~y~~yu~~uuypuy~~~uuuyy~y~u~~~~yy~~~u~u~y~~yyy~u~~~~~y~y~~y~~pk~~~~~y~~~y~u~~~~uy~~~~yyy~k~u~yyp~y~~~y~~kp~~yu~yy~u~yu~~y~u~~~~y~~y~u~y~~p~~~u~~~y~y~~~uyu~~yy~~y~~yu~pu~y~~y~~~y~yy~~yyyy~u~~y~~~~yyu~~~~yyyy~yyy~yyy~~y~~~p~p~~~ypppyy~~~~~~~uy~y~~yy~~~y~~u~~~~~~u~~~~~y~y~py~~~up~~~uyyyu~~y~y~u~yyu~~~y~~~yy~yp~yy~~~u~y~~~yp~~uy~~u~~~uk~~y~u~~~~py~uyyyyk~yy~~~yy~u~y~~k~~yyuyuyuy~~~~p~~~pyy~~~~y~u~~u~y~~y~~uyuyyyyy~y~~y~y~u~~yyy~~~~~u~~~upyu~~~u~~~y~~~~y~y~~~~~~yu~~~uyy~~y~~y~~~y~~~~~~u~~~~~u~p~y~~y~~gp~p~p~~y~p~y~~~~yyp~~~~~~y~y~~~yu~p~~~yypu~py~uyyp~~~~uuy~~y~~~y~~~~p~~yyy~~kyy~y~uy~uy~~y~u~~~~~y~~~~~~~~~~~~yy~y~u~~~y~~u~y~y~yu~~y~~~yuu~~u~yu~~y~~~y~~~yy~~yp~y~uy~p~yu~~~u~~u~y~~~~~y~~~~~~~u~~~~yp~~~~~~y~y~p~~~yp~~u~uy~uy~~~y~~yu~yy~~p~p~~~~uu~~~~u~uu~~~~y~~uu~~y~~uy~yu~p~~~~y~~~~y~~~~yp~~y~y~~~~~~p~~~~~~u~~~k~~~~~y~~p~uy~~u~y~yy~py~y~yuyy~u~~u~~~y~uy~~~~y~~y~y~u~~~yyy~~y~yu~yu~yy~~~u~u~~yp~p~~u~~p~~~~~~yk~~u~uy~u~ypyyu~~y~~~y~u~k~yyy~uu~~y~y~pu~yy~~pu~~yy~~y~~y~~~~~k~~y~~yyu~~yyyyyu~~~u~pyyy~y~~yy~~~~uk~~~y~y~~yu~yuy~~y~~yk~~~~u~k~~~~~~y~y~~ypy~u~~yy~~~y~yyy~~yy~yyy~~p~y~~yy~u~yy~~~y~~~~uu~yu~yu~yy~y~yy~uyy~y~~uy~yp~yy~p~~y~y~~~yuy~~y~yy~~~yyu~yuy~~y~yyy~~~yu~~~y~~~~yy~~u~~~~~u~yu~y~~k~~p~u~yy~uyy~~~p~~~~u~~uy~uu~y~~~~u~p~~~~~yu~y~y~~~~~k~~~y~g~~u~~yuy~~~~~u~~~u~y~~k~~~~~u~~y~~yy~yuy~y~y~~y~~~y~~~~~~y~~~yyu~y~uu~y~y~~yy~~yyy~y~~~~y~~~~~p~~~yy~pu~p~yyp~~~u~~y~~y~~ppu~~~~yuu~~~~~~~y~u~~~p~~~~~~y~~~y~~u~~~~~y~~~~~~uy~~~~p~yu~p~~u~~yy~~y~yp~~~~~yuu~~k~u~~~y~~~u~~~y~~u~~y~~~~uyyy~~yu~~~u~~u~yy~~y~y~~g~~~~u~u~yu~~~~u~~yyg~yyy~~~~up~uyy~y~y~~~yyy~~yuy~~~~~y~yp~~~uu~~~u~~yp~~k~~~u~~yuu~yy~~~~yyu~uyuy~u~yu~~~yyp~~yp~~p~y~p~~~p~~y~u~yu~~~~yy~~p~u~~~u~u~~~~uy~~yp~~~y~~~~~~yy~~~g~~u~~~~~~yy~~uyyy~yp~~~~~u~yyy~~~yy~p~~u~~y~~u~~~ky~yu~~~p~~~~~py~p~u~~yy~y~ku~~u~g~~~~~py~~y~p~y~u~~~y~y~u~~yuy~yyyyuy~yu~~~~~uyy~uk~y~u~yyy~y~~~yy~y~~~~yy~~~~u~yu~yy~y~y~~u~~uy~~yyyy~y~~~~yyyy~yuu~~~u~~~y~~~~yyp~~~u~p~yyu~uu~~ypyy~~~~p~~~~u~y~~yyp~yyu~yu~uy~y~u~~u~yp~~~y~~~u~~k~~~y~u~~~u~up~~yypy~y~~u~~~~u~~y~~~uuu~yy~y~~u~~~~yu~yy~p~~~u~p~~~~~~p~y~~up~~y~~~~y~~~yu~yu~~yy~u~~~uy~y~~k~~~~uyg~~~yy~yp~yy~u~~~~~y~~~~~yy~u~~k~~yy~yy~u~y~~~~y~y~yyu~~~yyuu~y~~uy~~u~~uyy~u~~yp~~~y~p~~~u~yu~~~y~~y~yy~u~yuyu~~y~p~u~~~yu~~y~yy~yy~~y~yk~~~~~~~u~pyy~~~p~~y~y~~~~yyu~~k~y~~yy~y~pu~~y~~~uyu~pp~y~y~y~~~~y~~y~~yu~b~~~~~~~uu~y~y~p~~u~~y~~~u~yyy~y~~yy~~~~~y~yy~y~~yuy~~k~~p~~~yyy~~u~p~~kuu~~~y~y~~~uy~~~~~~uu~y~~y~~~~~y~p~~~~y~~~uu~~~~yy~u~~y~y~yy~~yyyuy~u~~~y~~~~~~y~y~~~y~u~y~~~~p~yy~~~~~y~~~~~yy~~~y~~~uy~~~~~~~~yy~y~~yy~~~u~~~~~p~u~~y~~~yy~yy~u~~uy~~~~u~p~~y~u~~~y~uyy~~~y~~~~~u~~~~~~~~~~~y~~yuy~y~y~y~yuy~~~~yyy~u~~yu~~u~~~uk~~yy~~yy~~~~~y~y~~~~~y~~yy~y~~yu~u~y~~~~~~p~yyy~~p~~p~u~~y~y~~~~~y~yu~~y~yyp~y~~~~~~~~u~~~y~~~y~~y~y~~yu~uyy~~~~~~y~~yyy~~y~~~~~g~~y~~~~y~y~~yy~~yyy~~~y~~~~~~yyk~~~yy~y~~~~~~~~y~y~~y~~~uu~~~y~~~y~y~p~y~yy~~~~u~~~~~~~~~y~yyy~~~~uy~y~~~~y~~~~uyy~~y~~~~~~~~~y~~~~y~~~~~y~y~y~~~p~~~y~yuyyy~~yy~~~~~y~~~y~~~~~u~~y~~~~p~~~~~up~y~~~y~~~yy~u~~~~y~~~yuuk~~~~~~~~~y~uu~~~~y~yp~~~~~~u~~y~y~~~~~y~y~~yy~yyyu~~~y~uy~~~~~~p~~~~~~~~~u~y~u~~~uy~~~~~y~~~~~~~~~~uuyy~~~~y~y~~~~~yyup~y~~~~~~~y~~~~~~y~u~y~y~yy~uuy~~~~~~~~u~~~y~~~yyy~~~~~y~~~y~y~y~yy~~y~~~~~~y~~~~u~~u~y~~~uy~~yp~~~y~y~~yy~y~y~~~uu~y~~yp~~~~~~yy~~~~~~p~~~~~~~~yuu~y~~u~~yyy~~~~~~yy~~~~~~y~u~~~~~~~p~yy~y~yk~y~~~uy~~y~~~u~y~~~~~~~~u~~~~y~~~y~y~y~~~~yy~~~~yy~~~~p~yyyy~yy~y~~yu~~~yy~y~~y~~~~yy~~~~~y~~u~y~~~yy~~y~~~~y~yy~y~~~y~uy~u~~y~~~~~y~~~~~~~~~~~y~~yy~~~yy~~~~~~~~y~yy~k~~~~y~~~~~~yk~~~~~~~y~u~u~~~y~u~~~y~uu~~~~~~~~~~u~~~~~u~~y~~u~y~~y~~p~~~~~~~~~y~~yy~yyyp~p~~~y~~~~~u~~u~~~~~~~~~~~~y~~y~~y~~u~y~~~u~y~~~~~u~~~y~~~~py~y~u~y~~~p~~yy~y~~~~y~~~y~~u~~~~p~~uyyu~~u~~u~y~y~y~~u~~~~uu~u~~~~~~~y~yy~y~y~u~~~~~~~p~~y~~~u~~~~~~u~~~~~~~~~~y~~~~y~yuy~~~~yyy~~yuy~~~~~~~~~~~y~y~~~~y~~u~~~~~~yu~~~~~y~~~u~~~~y~y~~y~~~~~~~~~~y~y~yu~~y~~~yyu~~~~g~u~~y~~~~yy~y~~p~u~~u~yu~~~~~~~y~y~~~u~~~~~yy~~yu~~y~~~~y~yp~yy~~~y~~~~y~~~y~~~y~u~yu~~uy~y~yu~~~~~~y~yu~~y~~~~y~~~~~~y~~u~yy~~~p~yyu~~y~~~~~y~y~~~~~~~y~~~~u~~~~~~y~~yy~~yy~~~y~~y~~~yyu~~~~u~~~~y~u~~u~~y~~u~~u~~~~~y~y~y~~~~~~~~~~~~yy~~y~~~~~~~~yy~~~u~~~~y~yy~~~y~u~~uu~~yy~~y~~~~~uy~~~u~~~~u~~y~u~~~~~u~y~~y~~y~yy~~~~yy~u~~y~~~~~y~~~~~~~u~y~yy~y~~~~~~yyy~~~~~~y~~u~~~~y~~~~~yyy~y~~y~~~~~~~y~~~u~~~u~~~~~u~~y~k~~~~~~~~yu~~y~~~~~~yy~y~~~y~y~y~~~y~~y~~~yu~yy~~~yyyyy~~y~~~yy~~u~~y~~~y~~~y~yyu~~~u~y~~~~y~~y~~~y~~~u~~~~y~~~y~~~~~~~~~~~y~~~~~~~~~~y~u~~~~y~~~yu~~~~y~~~y~~~y~yy~~~~~~y~~~~~~yy~~y~~y~~~~~~p~~~~~y~~~~~~~~~~~y~~~~~~~u~~~~~~~~~~~y~~~~yy~~y~~yk~u~~~~~u~~~~~~~y~~yu~~~y~~y~~~~~~yu~~yy~~~~~y~y~y~~~~~~~~~~~~~y~y~yy~~y~y~yy~~y~~y~~~~~y~uyy~y~~y~y~~yy~y~~uyp~~y~y~~~~~~~y~u~~y~~~~~yy~y~~~y~~~~~~y~~~~y~~y~~~~y~~~~~~~~y~u~~y~~~~~~~~~~~~y~~y~~u~~~~~y~y~~~~~y~~y~y~~~~yyy~~~~~~~~yy~~~~~u~y~~y~~~~~~y~~~~~p~y~~yy~~~~u~u~u~~p~~~k~~~~u~u~yy~~~~~~~~y~~~yy~~~~~~~~~~~~y~u~y~y~yyy~~yy~~~~~uy~~yy~~uy~~y~~~~~~y~~~~yu~y~~u~~~y~~~~~yy~~~y~u~~yy~~~y~k~~~~~~~u~~~~~yy~u~y~y~y~~y~y~~y~~~~~~~~~~u~~~~~y~y~~uuyu~~~~ypk~~~yy~~~~~~~~~~~~y~~~~~~~~~~~~~~yu~y~~~~~~~~y~yy~~~y~y~~~~~uy~~~y~~~~~~~~~~~~~~y~~~~~~y~~~uy~~~~~y~~yy~y~y~~y~~~y~~~yy~y~y~~~~y~u~y~~~y~yy~~y~~~~~~~y~~~y~~~~~~~~~~~y~uyy~y~y~~~y~~~~~~~y~y~y~~~y~y~y~~~u~~~~~~y~~~~y~u~~~yy~~yy~y~~u~~~~~~~~y~~~~~yy~~u~~y~~~~~~~~y~~~~~~~uyyy~~~y~~~y~~~~y~y~~yy~y~~~~p~~~~~~~y~~yy~~~~~~~~~~y~~~y~~yu~yy~~~~~~~~~~y~~~~~~~~u~~~~~~~~~y~~~~y~~~y~~~~y~~~~~~~~~yy~~~y~~~~~~~u~~~~~~~~y~~~~~~~~y~y~~~yyy~~~~~~~~~~~~~~~~y~~~~~~y~y~~~~~y~~y~~~~y~~~~~~~~~y~y~~~yy~~y~~~y~~y~yyyy~~~~~~p~~~~~~y~~yy~y~yy~~k~~~y~~~~~~~~~~y~~~~~~~yyy~~~~~~~~~~~y~~~~~~y~~~~~~~~u~~~~~y~~~~~~~y~~~~y~~~~~~~y~y~~~~~yu~~~~~~~u~~~~~~~~~yu~~~~~~~~~~~~yu~~~y~~~~~y~u~y~y~y~~~~y~~~~~~~~~~~yyy~~~~y~y~~~y~~y~y~~~u~~~~~~~~~~y~~y~u~~yy~~~~~y~~~~y~~~~~~~yy~~yy~~~~~~~~~~y~~p~~~~~~~y~~y~y~~~~~~~~y~~y~uu~~~~~~~~~~~y~u~~u~y~~y~~y~~~~~~~~~y~~~y~~~~~~y~~~~y~~yy~~~yy~~~~~~~~~~~~y~~y~y~~~~~~y~~~~y~y~~~~~y~~~y~p~~~~~~yy~~u~y~y~~~~~y~~y~~~~~~y~~y~~~~u~~y~y~~~~~~~~~uy~~yy~~y~~~~y~~~~~~~y~u~~~y~~~~~y~~~~~y~~p~~~~~u~u~~~~~~~yy~~u~y~y~~~~~y~~~~~~~y~~~~~~~~~~y~~~~~~~~~~~y~y~~~~~~y~~~~y~~~p~~~yy~~~~y~~~~y~~~~~y~~y~yy~~~~~~~y~~~y~~~~~u~~~~~~~~y~~~~y~~~yu~~~y~yy~~~y~~y~y~y~~~~~~~y~~~~~uy~yy~~~yp~y~~~u~~~~y~~yy~~~~u~~~~~~~~~~~~~~yy~~y~~~~~~~~~~~~~~~~yy~~y~~~y~~~~~~~~~~yuy~~~~u~~~~~~~~~~py~~~~y~~u~~~~~~y~~y~~~u~~~~~~y~~~~~~y~~~yu~~yy~~~~y~~y~~~~~y~~~y~~~~~~~y~u~~~~~y~~~~yy~~~~~~~~~yy~~~~~y~y~~y~~~~~~~~~~~~~~~~y~~~y~~~~~~~~~~~~y~y~~~~y~~~~~~y~p~~~y~~y~~~~~uy~~~~y~uy~y~y~~~yy~~~~~y~yy~~~y~~~~~~~~~~~~~y~~~~yyu~~~~u~~p~~u~~~~~~~~~~~~y~~~yy~~~yy~~~~y~~yy~~y~y~~y~~~~yu~~y~~~~~y~y~~y~uy~~~y~p~~~~~~~~~yyu~~yyu~~~~~~~~~~~~~~~y~~~~~~~~~~yy~~~~~~~~~~~y~~~~~y~~~~u~~~~~~yy~~~~y~~yy~y~u~yy~~~~y~~~y~~~~y~~~~~~~~u~~~~~~~~~y~~y~y~~y~~~~~~~~~~~~~~~~~~y~~~~~~~y~y~~~y~~~~~~~~y~~~y~~~~u~~~~y~~~~~~y~~~~~~~~~~~y~~~u~~~~y~~y~~~y~~u~y~~u~~~~~~~~~p~~~u~~~~~~~uy~~~~~~~~~~y~~~~~~~~~~~yy~y~~~y~y~u~y~yu~~~~~~~~~~~~u~~y~y~~y~~~~~~~u~~~~~~~~~~~~y~~~~~u~y~~~~y~~uy~y~~~~~~~~u~~~y~~~~~~~~~~~~~~~~~y~y~~y~y~~ypp~y~~u~~~~~y~yy~~yyu~~y~~~~~~yyyy~~~~~~~~~~yu~~~~y~~~y~~~~~~y~~~~~y~~y~~~~~~u~~~~~~~~~~~~~y~y~~~~~y~~p~~~~~~~~~~y~~~~~~~yy~~~~~~~~y~y~u~~~~~~y~~~~~y~y~~~yy~~y~u~~y~~~y~y~y~~~~yy~y~~~y~~~~~~~~~u~~~~y~~y~~~y~~~y~~~~~~~~yyy~~~~~~y~y~~y~~~~~~u~~y~~y~~y~~~~~~~~~~~yy~~~~~y~~~~~~~~~~yyy~~~~~y~~~~~~~~u~~y~y~~~~~~~~~~~y~~~~~~~~y~~y~~~y~y~~~~~y~~y~~y~~~~~~yy~~~~~~~~~~yu~y~~~~~u~~~y~~~~~~y~y~~~~yy~y~~~~~u~~~y~~~~~~~~~~y~~~y~~y~~~~~uy~~y~y~~~~~~~~~~~u~y~~yy~~~~~~~~u~~~~~y~~~y~~~~~y~u~~~~~~~~~y~u~~y~~~~~~y~~~~~~~~~y~~~~~~~~~~~~~y~~~~~~~~y~~~u~~~~~yuy~~y~~~y~~~~yy~u~~~yy~~y~~~y~y~u~~~~~~~~~~~~~~~~~y~y~~~y~~y~u~~~~yy~~y~~~~~~~yy~p~~~~~~~~~y~~u~~~~~u~y~~y~~u~~~~~~~~~~~~y~~~~y~~yy~~~~~~~~y~~y~~~y~~~p~~~~~~~yy~~~y~~~~~~~~y~~y~yy~~~~~~~~~~~~~y~~~~u~~~~uy~y~~~y~~~~~y~~~~~~~~~~~~~~~~~~~yyy~~~~y~~y~~u~~~~~y~~~~~~~~~~y~y~~~~y~y~~~k~~y~~~~y~~~~p~~~~~~~y~y~~y~~~p~~u~~~~~~~~~y~~~~yy~y~~~k~~~y~~~~~y~y~~y~u~~~~~y~y~~~~~~~y~~~~u~~~~~~~y~~y~~~~y~~~u~~~~~y~~~~~~~~y~~~~yy~~~y~y~~~yyu~~~~yyu~~~~~y~~~~~~~~~~yk~~~~~yy~~~y~~~y~~~~~~~~~~~u~~~u~~~~y~u~~y~~~~~y~~~~~y~~~u~~y~~y~y~~~~~~~~yy~~~~~~y~yy~~~y~~~~~~~~~y~~~~~y~y~y~~~~~~~~~~~~~~~~~yy~y~~~~yyy~~uy~~~~y~~~~~u~~~~~~~~~y~~~~u~~~~~y~~y~~~~y~~yu~~~~~~~~~~~~~~~y~~y~~y~~~~~~~~yy~~~~~~~u~~~~y~y~yy~~y~u~~~~uyu~~~~yy~~~~yyyy~y~~~yy~~~~~~~~~~~~~~y~~~~u~~y~yy~~~~~~~~~~~~~~~~u~y~~~~~~~~~y~~~y~~~~~~~~y~~~~~~~~~~~~~~y~~~~~~~~~y~~y~y~y~~~~~~~~yy~y~~~~~~~~~~~~~~~~~~y~~~y~~~~~~~u~~~~~~~~~~~~~y~~~~~~~~~~y~~~yu~~~y~~y~~yy~~yu~~~~~~~y~~~~~~~~u~~y~yy~~~~~~~y~~~u~y~~~~~~~~~~~~~~y~~~~~y~~~~~yy~~~~y~~~~y~~~~~~uu~~~~~~~yy~~~~~~~y~~~~y~~~~~~y~~y~~~~~~~y~~~~~~~y~~~~~y~~~~~~y~~~~~~~~~y~~~~~~~~~p~~~~~~~y~u~~y~y~y~~~~~~~~~y~~y~~~~~~y~y~~y~~~~~~~~y~y~~y~~y~uy~~~~uy~y~u~~~~~yy~~~~~y~~y~u~~~~~~~~y~~yy~~~u~y~~~~~~~~~y~~~y~~~~~~~~u~~~y~~~~~~y~y~yy~u~yy~~~~~~u~~~yu~~~~~~y~~y~u~y~~~~~~~~~~~~~y~~~~~~u~~~~y~~~~y~~~y~~y~~~~~~~~~~y~~yy~~~~~~~p~~y~~u~~y~~~~~~y~~u~~~~~~y~~~~~y~~~~~~~~~yyu~~~uy~~yy~~~~~~~~~~~y~~~~~~y~yy~~~~~~y~~y~u~~~~~y~~~~y~~~~~~~~~~~~~~u~~~~y~yu~~~~uu~y~~~y~~~y~~~~~~u~~~~~y~~~y~~~~~~yyy~~~yyyy~y~~~y~~~~~~yy~~y~~~yy~~~~y~~~~y~~y~~y~~y~p~~~~u~y~~~~~y~yy~u~y~~~y~~~y~~~~~~~~~~~~~~~~y~~~u~~~~~yp~~~~~~~y~~~~~~~~~~y~y~y~~y~yy~~~~y~~~~~~u~~~y~~~~~~~~y~y~~~~~~~yy~~~y~~y~~~~y~y~~~~~~u~~~~p~y~u~~~~y~~y~~y~~y~~~~~~~~y~y~~~~~~y~~~~~yy~~~~~~~~y~'"
      ]
     },
     "execution_count": 8,
     "metadata": {},
     "output_type": "execute_result"
    }
   ],
   "source": [
    "phred_string\n",
    "\n"
   ]
  },
  {
   "cell_type": "code",
   "execution_count": 4,
   "metadata": {},
   "outputs": [],
   "source": [
    "\n"
   ]
  },
  {
   "cell_type": "code",
   "execution_count": null,
   "metadata": {},
   "outputs": [],
   "source": []
  },
  {
   "cell_type": "code",
   "execution_count": null,
   "metadata": {},
   "outputs": [],
   "source": [
    "# Постройка консенсусов с разным процентом на пропуски, далее из них строится окончательный консенсус\n",
    "list_consensus = []\n",
    "for j in range(45, 76, 5):\n",
    "    alligment = read_seq_from_file('allig_seq.fasta')\n",
    "    count_nucl = per_nucl_in_cal(alligment)\n",
    "    count_gap = count_gaps (alligment)\n",
    "    alligment = delete_gap(alligment, count_gap, count_nucl, j / 100)\n",
    "    if j == 50:\n",
    "        write_seq_in_file_with_length('multiple_alignment.fasta', alligment, 0, 0)\n",
    "    pi = start_probability (alligment)\n",
    "    a = matrix_of_MDI(alligment)\n",
    "    A = probability_of_trans(alligment, a)\n",
    "    count = count_nucl_in_cal(alligment)\n",
    "    b = percetn_of_nucl_in_cal(count)\n",
    "    consensuss = consensus(alligment, b)\n",
    "    if j == 50:\n",
    "        write_seq_in_file_with_length('consensus_50.fasta', [consensuss], 0, 0)\n",
    "    list_consensus.append(consensuss)\n",
    "write_seq_in_file_with_length('list_cons.fasta', list_consensus, 0, 0)\n",
    "muscle('list_cons.fasta', 'allig_cons.fasta')\n",
    "\n",
    "list_seq_for_startpos = []\n",
    "sorted_seqs = sort_fasta(\"allig_cons.fasta\")\n",
    "for rec in sorted_seqs:\n",
    "    list_seq_for_startpos.append(str(rec.seq))\n",
    "write_seq_in_file_with_length('allig_cons.fasta', list_seq_for_startpos, 0, 0)\n",
    "\n",
    "alligment = read_seq_from_file('allig_cons.fasta')\n",
    "count_nucl = per_nucl_in_cal(alligment)\n",
    "count_gap = count_gaps (alligment)\n",
    "alligment = delete_gap(alligment, count_gap, count_nucl, 50 / 100)\n",
    "pi = start_probability (alligment)\n",
    "a = matrix_of_MDI(alligment)\n",
    "A = probability_of_trans(alligment, a)\n",
    "count = count_nucl_in_cal(alligment)\n",
    "b = percetn_of_nucl_in_cal(count)\n",
    "consensuss = consensus(alligment, b)\n",
    "\n",
    "write_seq_in_file_with_length('consensus.fasta', [consensuss], 0, 0)"
   ]
  },
  {
   "cell_type": "code",
   "execution_count": null,
   "metadata": {},
   "outputs": [],
   "source": []
  },
  {
   "attachments": {},
   "cell_type": "markdown",
   "metadata": {},
   "source": [
    "Комплементарная"
   ]
  },
  {
   "cell_type": "code",
   "execution_count": null,
   "metadata": {},
   "outputs": [
    {
     "name": "stderr",
     "output_type": "stream",
     "text": [
      "  0%|          | 0/750 [00:00<?, ?it/s]"
     ]
    },
    {
     "name": "stdout",
     "output_type": "stream",
     "text": [
      "0\n"
     ]
    },
    {
     "name": "stderr",
     "output_type": "stream",
     "text": [
      "  0%|          | 1/750 [00:00<03:47,  3.29it/s]"
     ]
    },
    {
     "name": "stdout",
     "output_type": "stream",
     "text": [
      "[0, 5, 7, 8, 11, 12, 13, 14]\n",
      "37\n"
     ]
    },
    {
     "name": "stderr",
     "output_type": "stream",
     "text": [
      "  0%|          | 2/750 [00:00<03:52,  3.21it/s]"
     ]
    },
    {
     "name": "stdout",
     "output_type": "stream",
     "text": [
      "[0, 5, 7, 8, 11, 12, 13, 14]\n",
      "76\n"
     ]
    },
    {
     "name": "stderr",
     "output_type": "stream",
     "text": [
      "  0%|          | 3/750 [00:00<04:01,  3.09it/s]"
     ]
    },
    {
     "name": "stdout",
     "output_type": "stream",
     "text": [
      "[0, 5, 7, 8, 11, 12, 13, 14]\n",
      "112\n"
     ]
    },
    {
     "name": "stderr",
     "output_type": "stream",
     "text": [
      "  1%|          | 4/750 [00:01<04:38,  2.67it/s]"
     ]
    },
    {
     "name": "stdout",
     "output_type": "stream",
     "text": [
      "[0, 5, 7, 8, 11, 12, 13, 14]\n",
      "152\n"
     ]
    },
    {
     "name": "stderr",
     "output_type": "stream",
     "text": [
      "  1%|          | 5/750 [00:01<04:47,  2.59it/s]"
     ]
    },
    {
     "name": "stdout",
     "output_type": "stream",
     "text": [
      "[0, 5, 7, 8, 11, 12, 13, 14]\n",
      "191\n"
     ]
    },
    {
     "name": "stderr",
     "output_type": "stream",
     "text": [
      "  1%|          | 6/750 [00:02<04:50,  2.56it/s]"
     ]
    },
    {
     "name": "stdout",
     "output_type": "stream",
     "text": [
      "[0, 5, 7, 8, 11, 12, 13, 14]\n",
      "230\n"
     ]
    },
    {
     "name": "stderr",
     "output_type": "stream",
     "text": [
      "  1%|          | 7/750 [00:02<04:47,  2.58it/s]"
     ]
    },
    {
     "name": "stdout",
     "output_type": "stream",
     "text": [
      "[0, 5, 7, 8, 11, 12, 13, 14]\n",
      "267\n"
     ]
    },
    {
     "name": "stderr",
     "output_type": "stream",
     "text": [
      "  1%|          | 8/750 [00:02<04:44,  2.61it/s]"
     ]
    },
    {
     "name": "stdout",
     "output_type": "stream",
     "text": [
      "[0, 5, 7, 8, 11, 12, 13, 14]\n",
      "306\n"
     ]
    },
    {
     "name": "stderr",
     "output_type": "stream",
     "text": [
      "  1%|          | 9/750 [00:03<04:34,  2.70it/s]"
     ]
    },
    {
     "name": "stdout",
     "output_type": "stream",
     "text": [
      "[0, 5, 7, 8, 11, 12, 13, 14]\n",
      "339\n"
     ]
    },
    {
     "name": "stderr",
     "output_type": "stream",
     "text": [
      "  1%|▏         | 10/750 [00:03<04:31,  2.72it/s]"
     ]
    },
    {
     "name": "stdout",
     "output_type": "stream",
     "text": [
      "[0, 5, 7, 8, 11, 12, 13, 14]\n",
      "377\n"
     ]
    },
    {
     "name": "stderr",
     "output_type": "stream",
     "text": [
      "  1%|▏         | 11/750 [00:04<04:26,  2.78it/s]"
     ]
    },
    {
     "name": "stdout",
     "output_type": "stream",
     "text": [
      "[0, 5, 7, 8, 11, 12, 13, 14]\n",
      "415\n"
     ]
    },
    {
     "name": "stderr",
     "output_type": "stream",
     "text": [
      "  2%|▏         | 12/750 [00:04<04:22,  2.82it/s]"
     ]
    },
    {
     "name": "stdout",
     "output_type": "stream",
     "text": [
      "[0, 5, 7, 8, 11, 12, 13, 14]\n",
      "449\n"
     ]
    },
    {
     "name": "stderr",
     "output_type": "stream",
     "text": [
      "  2%|▏         | 13/750 [00:04<04:43,  2.60it/s]"
     ]
    },
    {
     "name": "stdout",
     "output_type": "stream",
     "text": [
      "[0, 5, 7, 8, 11, 12, 13, 14]\n",
      "485\n"
     ]
    },
    {
     "name": "stderr",
     "output_type": "stream",
     "text": [
      "  2%|▏         | 14/750 [00:05<04:34,  2.68it/s]"
     ]
    },
    {
     "name": "stdout",
     "output_type": "stream",
     "text": [
      "[0, 5, 7, 8, 11, 12, 13, 14]\n",
      "522\n"
     ]
    },
    {
     "name": "stderr",
     "output_type": "stream",
     "text": [
      "  2%|▏         | 15/750 [00:05<04:31,  2.70it/s]"
     ]
    },
    {
     "name": "stdout",
     "output_type": "stream",
     "text": [
      "[0, 5, 7, 8, 11, 12, 13, 14]\n",
      "556\n"
     ]
    },
    {
     "name": "stderr",
     "output_type": "stream",
     "text": [
      "  2%|▏         | 16/750 [00:05<04:24,  2.77it/s]"
     ]
    },
    {
     "name": "stdout",
     "output_type": "stream",
     "text": [
      "[0, 5, 7, 8, 11, 12, 13, 14]\n",
      "594\n"
     ]
    },
    {
     "name": "stderr",
     "output_type": "stream",
     "text": [
      "  2%|▏         | 17/750 [00:06<04:18,  2.83it/s]"
     ]
    },
    {
     "name": "stdout",
     "output_type": "stream",
     "text": [
      "[0, 5, 7, 8, 11, 12, 13, 14]\n",
      "633\n"
     ]
    },
    {
     "name": "stderr",
     "output_type": "stream",
     "text": [
      "  2%|▏         | 18/750 [00:06<04:14,  2.87it/s]"
     ]
    },
    {
     "name": "stdout",
     "output_type": "stream",
     "text": [
      "[0, 5, 7, 8, 11, 12, 13, 14]\n",
      "670\n"
     ]
    },
    {
     "name": "stderr",
     "output_type": "stream",
     "text": [
      "  3%|▎         | 19/750 [00:06<04:13,  2.89it/s]"
     ]
    },
    {
     "name": "stdout",
     "output_type": "stream",
     "text": [
      "[0, 5, 7, 8, 11, 12, 13, 14]\n",
      "705\n"
     ]
    },
    {
     "name": "stderr",
     "output_type": "stream",
     "text": [
      "  3%|▎         | 20/750 [00:07<04:12,  2.89it/s]"
     ]
    },
    {
     "name": "stdout",
     "output_type": "stream",
     "text": [
      "[0, 5, 7, 8, 11, 12, 13, 14]\n",
      "743\n"
     ]
    },
    {
     "name": "stderr",
     "output_type": "stream",
     "text": [
      "  3%|▎         | 21/750 [00:07<04:12,  2.89it/s]"
     ]
    },
    {
     "name": "stdout",
     "output_type": "stream",
     "text": [
      "[0, 3, 5, 7, 8, 11, 12, 13, 14]\n",
      "776\n"
     ]
    },
    {
     "name": "stderr",
     "output_type": "stream",
     "text": [
      "  3%|▎         | 22/750 [00:07<04:09,  2.92it/s]"
     ]
    },
    {
     "name": "stdout",
     "output_type": "stream",
     "text": [
      "[0, 3, 5, 7, 8, 11, 12, 13, 14]\n",
      "810\n"
     ]
    },
    {
     "name": "stderr",
     "output_type": "stream",
     "text": [
      "  3%|▎         | 23/750 [00:08<04:09,  2.91it/s]"
     ]
    },
    {
     "name": "stdout",
     "output_type": "stream",
     "text": [
      "[0, 3, 5, 7, 8, 11, 12, 13, 14]\n",
      "848\n"
     ]
    },
    {
     "name": "stderr",
     "output_type": "stream",
     "text": [
      "  3%|▎         | 24/750 [00:08<04:26,  2.72it/s]"
     ]
    },
    {
     "name": "stdout",
     "output_type": "stream",
     "text": [
      "[0, 3, 5, 7, 8, 11, 12, 13, 14]\n",
      "884\n"
     ]
    },
    {
     "name": "stderr",
     "output_type": "stream",
     "text": [
      "  3%|▎         | 25/750 [00:09<04:22,  2.77it/s]"
     ]
    },
    {
     "name": "stdout",
     "output_type": "stream",
     "text": [
      "[0, 3, 5, 7, 8, 11, 12, 13, 14]\n",
      "923\n"
     ]
    },
    {
     "name": "stderr",
     "output_type": "stream",
     "text": [
      "  3%|▎         | 26/750 [00:09<04:20,  2.78it/s]"
     ]
    },
    {
     "name": "stdout",
     "output_type": "stream",
     "text": [
      "[0, 3, 5, 6, 7, 8, 11, 12, 13, 14]\n",
      "957\n"
     ]
    },
    {
     "name": "stderr",
     "output_type": "stream",
     "text": [
      "  4%|▎         | 27/750 [00:09<04:47,  2.51it/s]"
     ]
    },
    {
     "name": "stdout",
     "output_type": "stream",
     "text": [
      "[0, 3, 5, 6, 7, 8, 11, 12, 13, 14]\n",
      "988\n"
     ]
    },
    {
     "name": "stderr",
     "output_type": "stream",
     "text": [
      "  4%|▎         | 28/750 [00:10<04:36,  2.61it/s]"
     ]
    },
    {
     "name": "stdout",
     "output_type": "stream",
     "text": [
      "[0, 3, 5, 6, 7, 8, 11, 12, 13, 14]\n",
      "1026\n"
     ]
    },
    {
     "name": "stderr",
     "output_type": "stream",
     "text": [
      "  4%|▍         | 29/750 [00:10<04:30,  2.67it/s]"
     ]
    },
    {
     "name": "stdout",
     "output_type": "stream",
     "text": [
      "[0, 3, 5, 6, 7, 8, 11, 12, 13, 14]\n",
      "1061\n"
     ]
    },
    {
     "name": "stderr",
     "output_type": "stream",
     "text": [
      "  4%|▍         | 30/750 [00:10<04:20,  2.76it/s]"
     ]
    },
    {
     "name": "stdout",
     "output_type": "stream",
     "text": [
      "[0, 3, 5, 6, 7, 8, 11, 12, 13, 14]\n",
      "1099\n"
     ]
    },
    {
     "name": "stderr",
     "output_type": "stream",
     "text": [
      "  4%|▍         | 31/750 [00:11<04:36,  2.60it/s]"
     ]
    },
    {
     "name": "stdout",
     "output_type": "stream",
     "text": [
      "[0, 3, 5, 6, 7, 8, 11, 12, 13, 14]\n",
      "1140\n"
     ]
    },
    {
     "name": "stderr",
     "output_type": "stream",
     "text": [
      "  4%|▍         | 32/750 [00:11<04:28,  2.68it/s]"
     ]
    },
    {
     "name": "stdout",
     "output_type": "stream",
     "text": [
      "[0, 3, 5, 6, 7, 8, 11, 12, 13, 14]\n",
      "1176\n"
     ]
    },
    {
     "name": "stderr",
     "output_type": "stream",
     "text": [
      "  4%|▍         | 33/750 [00:12<04:21,  2.74it/s]"
     ]
    },
    {
     "name": "stdout",
     "output_type": "stream",
     "text": [
      "[0, 3, 5, 6, 7, 8, 11, 12, 13, 14]\n",
      "1214\n"
     ]
    },
    {
     "name": "stderr",
     "output_type": "stream",
     "text": [
      "  5%|▍         | 34/750 [00:12<04:20,  2.75it/s]"
     ]
    },
    {
     "name": "stdout",
     "output_type": "stream",
     "text": [
      "[0, 3, 5, 6, 7, 8, 11, 12, 13, 14]\n",
      "1250\n"
     ]
    },
    {
     "name": "stderr",
     "output_type": "stream",
     "text": [
      "  5%|▍         | 35/750 [00:12<04:28,  2.66it/s]"
     ]
    },
    {
     "name": "stdout",
     "output_type": "stream",
     "text": [
      "[0, 3, 5, 6, 7, 8, 11, 12, 13, 14]\n",
      "1291\n"
     ]
    },
    {
     "name": "stderr",
     "output_type": "stream",
     "text": [
      "  5%|▍         | 36/750 [00:13<04:17,  2.77it/s]"
     ]
    },
    {
     "name": "stdout",
     "output_type": "stream",
     "text": [
      "[0, 3, 5, 6, 7, 8, 11, 12, 13, 14]\n",
      "1325\n"
     ]
    },
    {
     "name": "stderr",
     "output_type": "stream",
     "text": [
      "  5%|▍         | 37/750 [00:13<04:12,  2.83it/s]"
     ]
    },
    {
     "name": "stdout",
     "output_type": "stream",
     "text": [
      "[0, 3, 5, 6, 7, 8, 11, 12, 13, 14]\n",
      "1366\n"
     ]
    },
    {
     "name": "stderr",
     "output_type": "stream",
     "text": [
      "  5%|▌         | 38/750 [00:13<04:08,  2.87it/s]"
     ]
    },
    {
     "name": "stdout",
     "output_type": "stream",
     "text": [
      "[0, 3, 5, 6, 7, 8, 11, 12, 13, 14]\n",
      "1404\n"
     ]
    },
    {
     "name": "stderr",
     "output_type": "stream",
     "text": [
      "  5%|▌         | 39/750 [00:14<04:06,  2.88it/s]"
     ]
    },
    {
     "name": "stdout",
     "output_type": "stream",
     "text": [
      "[0, 3, 5, 6, 7, 8, 11, 12, 13, 14]\n",
      "1440\n"
     ]
    },
    {
     "name": "stderr",
     "output_type": "stream",
     "text": [
      "  5%|▌         | 40/750 [00:14<04:07,  2.87it/s]"
     ]
    },
    {
     "name": "stdout",
     "output_type": "stream",
     "text": [
      "[0, 3, 5, 6, 7, 8, 11, 12, 13, 14]\n",
      "1478\n"
     ]
    },
    {
     "name": "stderr",
     "output_type": "stream",
     "text": [
      "  5%|▌         | 41/750 [00:14<04:19,  2.73it/s]"
     ]
    },
    {
     "name": "stdout",
     "output_type": "stream",
     "text": [
      "[0, 3, 5, 6, 7, 8, 11, 12, 13, 14]\n",
      "1513\n"
     ]
    },
    {
     "name": "stderr",
     "output_type": "stream",
     "text": [
      "  6%|▌         | 42/750 [00:15<04:18,  2.74it/s]"
     ]
    },
    {
     "name": "stdout",
     "output_type": "stream",
     "text": [
      "[0, 3, 5, 6, 7, 8, 11, 12, 13, 14]\n",
      "1550\n"
     ]
    },
    {
     "name": "stderr",
     "output_type": "stream",
     "text": [
      "  6%|▌         | 43/750 [00:15<04:14,  2.77it/s]"
     ]
    },
    {
     "name": "stdout",
     "output_type": "stream",
     "text": [
      "[0, 3, 5, 6, 7, 8, 11, 12, 13, 14]\n",
      "1588\n"
     ]
    },
    {
     "name": "stderr",
     "output_type": "stream",
     "text": [
      "  6%|▌         | 44/750 [00:16<04:32,  2.59it/s]"
     ]
    },
    {
     "name": "stdout",
     "output_type": "stream",
     "text": [
      "[0, 3, 5, 6, 7, 8, 11, 12, 13, 14]\n",
      "1625\n"
     ]
    },
    {
     "name": "stderr",
     "output_type": "stream",
     "text": [
      "  6%|▌         | 45/750 [00:16<04:22,  2.68it/s]"
     ]
    },
    {
     "name": "stdout",
     "output_type": "stream",
     "text": [
      "[0, 3, 5, 6, 7, 8, 11, 12, 13, 14]\n",
      "1662\n"
     ]
    },
    {
     "name": "stderr",
     "output_type": "stream",
     "text": [
      "  6%|▌         | 46/750 [00:16<04:38,  2.53it/s]"
     ]
    },
    {
     "name": "stdout",
     "output_type": "stream",
     "text": [
      "[0, 3, 5, 6, 7, 8, 11, 12, 13, 14]\n",
      "1700\n"
     ]
    },
    {
     "name": "stderr",
     "output_type": "stream",
     "text": [
      "  6%|▋         | 47/750 [00:17<04:25,  2.65it/s]"
     ]
    },
    {
     "name": "stdout",
     "output_type": "stream",
     "text": [
      "[0, 3, 5, 6, 7, 8, 11, 12, 13, 14]\n",
      "1737\n"
     ]
    },
    {
     "name": "stderr",
     "output_type": "stream",
     "text": [
      "  6%|▋         | 48/750 [00:17<04:17,  2.73it/s]"
     ]
    },
    {
     "name": "stdout",
     "output_type": "stream",
     "text": [
      "[0, 3, 5, 6, 7, 8, 11, 12, 13, 14]\n",
      "1775\n"
     ]
    },
    {
     "name": "stderr",
     "output_type": "stream",
     "text": [
      "  7%|▋         | 49/750 [00:17<04:39,  2.51it/s]"
     ]
    },
    {
     "name": "stdout",
     "output_type": "stream",
     "text": [
      "[0, 3, 5, 6, 7, 8, 11, 12, 13, 14]\n",
      "1811\n"
     ]
    },
    {
     "name": "stderr",
     "output_type": "stream",
     "text": [
      "  7%|▋         | 50/750 [00:18<04:31,  2.58it/s]"
     ]
    },
    {
     "name": "stdout",
     "output_type": "stream",
     "text": [
      "[0, 3, 5, 6, 7, 8, 11, 12, 13, 14]\n",
      "1851\n"
     ]
    },
    {
     "name": "stderr",
     "output_type": "stream",
     "text": [
      "  7%|▋         | 51/750 [00:18<04:39,  2.50it/s]"
     ]
    },
    {
     "name": "stdout",
     "output_type": "stream",
     "text": [
      "[0, 3, 5, 6, 7, 8, 11, 12, 13, 14]\n",
      "1887\n"
     ]
    },
    {
     "name": "stderr",
     "output_type": "stream",
     "text": [
      "  7%|▋         | 52/750 [00:19<04:45,  2.44it/s]"
     ]
    },
    {
     "name": "stdout",
     "output_type": "stream",
     "text": [
      "[0, 3, 5, 6, 7, 8, 11, 12, 13, 14]\n",
      "1922\n"
     ]
    },
    {
     "name": "stderr",
     "output_type": "stream",
     "text": [
      "  7%|▋         | 53/750 [00:19<04:31,  2.57it/s]"
     ]
    },
    {
     "name": "stdout",
     "output_type": "stream",
     "text": [
      "[0, 3, 5, 6, 7, 8, 11, 12, 13, 14]\n",
      "1962\n"
     ]
    },
    {
     "name": "stderr",
     "output_type": "stream",
     "text": [
      "  7%|▋         | 54/750 [00:19<04:27,  2.60it/s]"
     ]
    },
    {
     "name": "stdout",
     "output_type": "stream",
     "text": [
      "[0, 3, 5, 6, 7, 8, 11, 12, 13, 14]\n",
      "1999\n"
     ]
    },
    {
     "name": "stderr",
     "output_type": "stream",
     "text": [
      "  7%|▋         | 55/750 [00:20<04:20,  2.67it/s]"
     ]
    },
    {
     "name": "stdout",
     "output_type": "stream",
     "text": [
      "[0, 3, 5, 6, 7, 8, 11, 12, 13, 14]\n",
      "2037\n"
     ]
    },
    {
     "name": "stderr",
     "output_type": "stream",
     "text": [
      "  7%|▋         | 56/750 [00:20<04:31,  2.56it/s]"
     ]
    },
    {
     "name": "stdout",
     "output_type": "stream",
     "text": [
      "[0, 3, 5, 6, 7, 8, 11, 12, 13, 14]\n",
      "2075\n"
     ]
    },
    {
     "name": "stderr",
     "output_type": "stream",
     "text": [
      "  8%|▊         | 57/750 [00:21<04:19,  2.67it/s]"
     ]
    },
    {
     "name": "stdout",
     "output_type": "stream",
     "text": [
      "[0, 3, 5, 6, 7, 8, 11, 12, 13, 14]\n",
      "2114\n"
     ]
    },
    {
     "name": "stderr",
     "output_type": "stream",
     "text": [
      "  8%|▊         | 58/750 [00:21<04:12,  2.74it/s]"
     ]
    },
    {
     "name": "stdout",
     "output_type": "stream",
     "text": [
      "[0, 3, 5, 6, 7, 8, 11, 12, 13, 14]\n",
      "2151\n"
     ]
    },
    {
     "name": "stderr",
     "output_type": "stream",
     "text": [
      "  8%|▊         | 59/750 [00:21<04:32,  2.54it/s]"
     ]
    },
    {
     "name": "stdout",
     "output_type": "stream",
     "text": [
      "[0, 3, 5, 6, 7, 8, 11, 12, 13, 14]\n",
      "2190\n"
     ]
    },
    {
     "name": "stderr",
     "output_type": "stream",
     "text": [
      "  8%|▊         | 60/750 [00:22<04:19,  2.66it/s]"
     ]
    },
    {
     "name": "stdout",
     "output_type": "stream",
     "text": [
      "[0, 3, 4, 5, 6, 7, 8, 11, 12, 13, 14]\n",
      "2231\n"
     ]
    },
    {
     "name": "stderr",
     "output_type": "stream",
     "text": [
      "  8%|▊         | 61/750 [00:22<04:16,  2.68it/s]"
     ]
    },
    {
     "name": "stdout",
     "output_type": "stream",
     "text": [
      "[0, 3, 4, 5, 6, 7, 8, 11, 12, 13, 14]\n",
      "2271\n"
     ]
    },
    {
     "name": "stderr",
     "output_type": "stream",
     "text": [
      "  8%|▊         | 62/750 [00:22<04:13,  2.72it/s]"
     ]
    },
    {
     "name": "stdout",
     "output_type": "stream",
     "text": [
      "[0, 3, 4, 5, 6, 7, 8, 11, 12, 13, 14]\n",
      "2305\n"
     ]
    },
    {
     "name": "stderr",
     "output_type": "stream",
     "text": [
      "  8%|▊         | 63/750 [00:23<04:05,  2.79it/s]"
     ]
    },
    {
     "name": "stdout",
     "output_type": "stream",
     "text": [
      "[0, 3, 4, 5, 6, 7, 8, 11, 12, 13, 14]\n",
      "2342\n"
     ]
    },
    {
     "name": "stderr",
     "output_type": "stream",
     "text": [
      "  9%|▊         | 64/750 [00:23<04:08,  2.76it/s]"
     ]
    },
    {
     "name": "stdout",
     "output_type": "stream",
     "text": [
      "[0, 3, 4, 5, 6, 7, 8, 11, 12, 13, 14]\n",
      "2376\n"
     ]
    },
    {
     "name": "stderr",
     "output_type": "stream",
     "text": [
      "  9%|▊         | 65/750 [00:23<04:09,  2.74it/s]"
     ]
    },
    {
     "name": "stdout",
     "output_type": "stream",
     "text": [
      "[0, 3, 4, 5, 6, 7, 8, 11, 12, 13, 14]\n",
      "2415\n"
     ]
    },
    {
     "name": "stderr",
     "output_type": "stream",
     "text": [
      "  9%|▉         | 66/750 [00:24<04:24,  2.59it/s]"
     ]
    },
    {
     "name": "stdout",
     "output_type": "stream",
     "text": [
      "[0, 3, 4, 5, 6, 7, 8, 11, 12, 13, 14]\n",
      "2455\n"
     ]
    },
    {
     "name": "stderr",
     "output_type": "stream",
     "text": [
      "  9%|▉         | 67/750 [00:24<04:14,  2.68it/s]"
     ]
    },
    {
     "name": "stdout",
     "output_type": "stream",
     "text": [
      "[0, 3, 4, 5, 6, 7, 8, 11, 12, 13, 14]\n",
      "2490\n"
     ]
    },
    {
     "name": "stderr",
     "output_type": "stream",
     "text": [
      "  9%|▉         | 68/750 [00:25<04:12,  2.71it/s]"
     ]
    },
    {
     "name": "stdout",
     "output_type": "stream",
     "text": [
      "[0, 3, 4, 5, 6, 7, 8, 9, 11, 12, 13, 14]\n",
      "2525\n"
     ]
    },
    {
     "name": "stderr",
     "output_type": "stream",
     "text": [
      "  9%|▉         | 69/750 [00:25<04:06,  2.76it/s]"
     ]
    },
    {
     "name": "stdout",
     "output_type": "stream",
     "text": [
      "[0, 3, 4, 5, 6, 7, 8, 9, 11, 12, 13, 14]\n",
      "2563\n"
     ]
    },
    {
     "name": "stderr",
     "output_type": "stream",
     "text": [
      "  9%|▉         | 70/750 [00:25<04:03,  2.80it/s]"
     ]
    },
    {
     "name": "stdout",
     "output_type": "stream",
     "text": [
      "[0, 3, 4, 5, 6, 7, 8, 9, 11, 12, 13, 14]\n",
      "2602\n"
     ]
    },
    {
     "name": "stderr",
     "output_type": "stream",
     "text": [
      "  9%|▉         | 71/750 [00:26<03:58,  2.85it/s]"
     ]
    },
    {
     "name": "stdout",
     "output_type": "stream",
     "text": [
      "[0, 3, 4, 5, 6, 7, 8, 9, 11, 12, 13, 14]\n",
      "2636\n"
     ]
    },
    {
     "name": "stderr",
     "output_type": "stream",
     "text": [
      " 10%|▉         | 72/750 [00:26<04:10,  2.71it/s]"
     ]
    },
    {
     "name": "stdout",
     "output_type": "stream",
     "text": [
      "[0, 3, 4, 5, 6, 7, 8, 9, 11, 12, 13, 14]\n",
      "2673\n"
     ]
    },
    {
     "name": "stderr",
     "output_type": "stream",
     "text": [
      " 10%|▉         | 73/750 [00:26<04:04,  2.77it/s]"
     ]
    },
    {
     "name": "stdout",
     "output_type": "stream",
     "text": [
      "[0, 3, 4, 5, 6, 7, 8, 9, 11, 12, 13, 14]\n",
      "2710\n"
     ]
    },
    {
     "name": "stderr",
     "output_type": "stream",
     "text": [
      " 10%|▉         | 74/750 [00:27<03:59,  2.82it/s]"
     ]
    },
    {
     "name": "stdout",
     "output_type": "stream",
     "text": [
      "[0, 3, 4, 5, 6, 7, 8, 9, 11, 12, 13, 14]\n",
      "2739\n"
     ]
    },
    {
     "name": "stderr",
     "output_type": "stream",
     "text": [
      " 10%|█         | 75/750 [00:27<03:59,  2.81it/s]"
     ]
    },
    {
     "name": "stdout",
     "output_type": "stream",
     "text": [
      "[0, 3, 4, 5, 6, 7, 8, 9, 11, 12, 13, 14]\n",
      "2778\n"
     ]
    },
    {
     "name": "stderr",
     "output_type": "stream",
     "text": [
      " 10%|█         | 76/750 [00:27<03:56,  2.85it/s]"
     ]
    },
    {
     "name": "stdout",
     "output_type": "stream",
     "text": [
      "[0, 3, 4, 5, 6, 7, 8, 9, 11, 12, 13, 14]\n",
      "2818\n"
     ]
    },
    {
     "name": "stderr",
     "output_type": "stream",
     "text": [
      " 10%|█         | 77/750 [00:28<03:53,  2.88it/s]"
     ]
    },
    {
     "name": "stdout",
     "output_type": "stream",
     "text": [
      "[0, 3, 4, 5, 6, 7, 8, 9, 11, 12, 13, 14]\n",
      "2858\n"
     ]
    },
    {
     "name": "stderr",
     "output_type": "stream",
     "text": [
      " 10%|█         | 78/750 [00:28<04:03,  2.76it/s]"
     ]
    },
    {
     "name": "stdout",
     "output_type": "stream",
     "text": [
      "[0, 3, 4, 5, 6, 7, 8, 9, 11, 12, 13, 14]\n",
      "2896\n"
     ]
    },
    {
     "name": "stderr",
     "output_type": "stream",
     "text": [
      " 11%|█         | 79/750 [00:29<03:59,  2.80it/s]"
     ]
    },
    {
     "name": "stdout",
     "output_type": "stream",
     "text": [
      "[0, 3, 4, 5, 6, 7, 8, 9, 11, 12, 13, 14]\n",
      "2935\n"
     ]
    },
    {
     "name": "stderr",
     "output_type": "stream",
     "text": [
      " 11%|█         | 80/750 [00:29<03:57,  2.82it/s]"
     ]
    },
    {
     "name": "stdout",
     "output_type": "stream",
     "text": [
      "[0, 3, 4, 5, 6, 7, 8, 9, 11, 12, 13, 14]\n",
      "2973\n"
     ]
    },
    {
     "name": "stderr",
     "output_type": "stream",
     "text": [
      " 11%|█         | 81/750 [00:29<03:56,  2.83it/s]"
     ]
    },
    {
     "name": "stdout",
     "output_type": "stream",
     "text": [
      "[0, 3, 4, 5, 6, 7, 8, 9, 11, 12, 13, 14]\n",
      "3011\n"
     ]
    },
    {
     "name": "stderr",
     "output_type": "stream",
     "text": [
      " 11%|█         | 82/750 [00:30<03:57,  2.81it/s]"
     ]
    },
    {
     "name": "stdout",
     "output_type": "stream",
     "text": [
      "[0, 3, 4, 5, 6, 7, 8, 9, 11, 12, 13, 14]\n",
      "3050\n"
     ]
    },
    {
     "name": "stderr",
     "output_type": "stream",
     "text": [
      " 11%|█         | 83/750 [00:30<04:13,  2.63it/s]"
     ]
    },
    {
     "name": "stdout",
     "output_type": "stream",
     "text": [
      "[0, 3, 4, 5, 6, 7, 8, 9, 11, 12, 13, 14]\n",
      "3087\n"
     ]
    },
    {
     "name": "stderr",
     "output_type": "stream",
     "text": [
      " 11%|█         | 84/750 [00:30<04:06,  2.70it/s]"
     ]
    },
    {
     "name": "stdout",
     "output_type": "stream",
     "text": [
      "[0, 3, 4, 5, 6, 7, 8, 9, 11, 12, 13, 14]\n",
      "3125\n"
     ]
    },
    {
     "name": "stderr",
     "output_type": "stream",
     "text": [
      " 11%|█▏        | 85/750 [00:31<04:08,  2.68it/s]"
     ]
    },
    {
     "name": "stdout",
     "output_type": "stream",
     "text": [
      "[0, 3, 4, 5, 6, 7, 8, 9, 11, 12, 13, 14]\n",
      "3164\n"
     ]
    },
    {
     "name": "stderr",
     "output_type": "stream",
     "text": [
      " 11%|█▏        | 86/750 [00:31<04:07,  2.68it/s]"
     ]
    },
    {
     "name": "stdout",
     "output_type": "stream",
     "text": [
      "[0, 3, 4, 5, 6, 7, 8, 9, 10, 11, 12, 13, 14]\n",
      "3199\n"
     ]
    },
    {
     "name": "stderr",
     "output_type": "stream",
     "text": [
      " 12%|█▏        | 87/750 [00:31<04:02,  2.73it/s]"
     ]
    },
    {
     "name": "stdout",
     "output_type": "stream",
     "text": [
      "[0, 1, 3, 4, 5, 6, 7, 8, 9, 10, 11, 12, 13, 14]\n",
      "3242\n"
     ]
    },
    {
     "name": "stderr",
     "output_type": "stream",
     "text": [
      " 12%|█▏        | 88/750 [00:32<04:21,  2.53it/s]"
     ]
    },
    {
     "name": "stdout",
     "output_type": "stream",
     "text": [
      "[0, 1, 3, 4, 5, 6, 7, 8, 9, 10, 11, 12, 13, 14]\n",
      "3280\n"
     ]
    },
    {
     "name": "stderr",
     "output_type": "stream",
     "text": [
      " 12%|█▏        | 89/750 [00:32<04:14,  2.60it/s]"
     ]
    },
    {
     "name": "stdout",
     "output_type": "stream",
     "text": [
      "[0, 1, 3, 4, 5, 6, 7, 8, 9, 10, 11, 12, 13, 14]\n",
      "3318\n"
     ]
    },
    {
     "name": "stderr",
     "output_type": "stream",
     "text": [
      " 12%|█▏        | 90/750 [00:33<04:25,  2.49it/s]"
     ]
    },
    {
     "name": "stdout",
     "output_type": "stream",
     "text": [
      "[0, 1, 3, 4, 5, 6, 7, 8, 9, 10, 11, 12, 13, 14]\n",
      "3351\n"
     ]
    },
    {
     "name": "stderr",
     "output_type": "stream",
     "text": [
      " 12%|█▏        | 91/750 [00:33<04:10,  2.64it/s]"
     ]
    },
    {
     "name": "stdout",
     "output_type": "stream",
     "text": [
      "[0, 1, 3, 4, 5, 6, 7, 8, 9, 10, 11, 12, 13, 14]\n",
      "3390\n"
     ]
    },
    {
     "name": "stderr",
     "output_type": "stream",
     "text": [
      " 12%|█▏        | 92/750 [00:33<04:03,  2.71it/s]"
     ]
    },
    {
     "name": "stdout",
     "output_type": "stream",
     "text": [
      "[0, 1, 3, 4, 5, 6, 7, 8, 9, 10, 11, 12, 13, 14]\n",
      "3426\n"
     ]
    },
    {
     "name": "stderr",
     "output_type": "stream",
     "text": [
      " 12%|█▏        | 93/750 [00:34<04:11,  2.61it/s]"
     ]
    },
    {
     "name": "stdout",
     "output_type": "stream",
     "text": [
      "[0, 1, 3, 4, 5, 6, 7, 8, 9, 10, 11, 12, 13, 14]\n",
      "3469\n"
     ]
    },
    {
     "name": "stderr",
     "output_type": "stream",
     "text": [
      " 13%|█▎        | 94/750 [00:34<04:05,  2.68it/s]"
     ]
    },
    {
     "name": "stdout",
     "output_type": "stream",
     "text": [
      "[0, 1, 3, 4, 5, 6, 7, 8, 9, 10, 11, 12, 13, 14]\n",
      "3509\n"
     ]
    },
    {
     "name": "stderr",
     "output_type": "stream",
     "text": [
      " 13%|█▎        | 95/750 [00:35<04:01,  2.71it/s]"
     ]
    },
    {
     "name": "stdout",
     "output_type": "stream",
     "text": [
      "[0, 1, 3, 4, 5, 6, 7, 8, 9, 10, 11, 12, 13, 14]\n",
      "3547\n"
     ]
    },
    {
     "name": "stderr",
     "output_type": "stream",
     "text": [
      " 13%|█▎        | 96/750 [00:35<03:58,  2.74it/s]"
     ]
    },
    {
     "name": "stdout",
     "output_type": "stream",
     "text": [
      "[0, 1, 3, 4, 5, 6, 7, 8, 9, 10, 11, 12, 13, 14]\n",
      "3584\n"
     ]
    },
    {
     "name": "stderr",
     "output_type": "stream",
     "text": [
      " 13%|█▎        | 97/750 [00:35<04:05,  2.65it/s]"
     ]
    },
    {
     "name": "stdout",
     "output_type": "stream",
     "text": [
      "[0, 1, 3, 4, 5, 6, 7, 8, 9, 10, 11, 12, 13, 14]\n",
      "3623\n"
     ]
    },
    {
     "name": "stderr",
     "output_type": "stream",
     "text": [
      " 13%|█▎        | 98/750 [00:36<03:55,  2.76it/s]"
     ]
    },
    {
     "name": "stdout",
     "output_type": "stream",
     "text": [
      "[0, 1, 3, 4, 5, 6, 7, 8, 9, 10, 11, 12, 13, 14]\n",
      "3662\n"
     ]
    },
    {
     "name": "stderr",
     "output_type": "stream",
     "text": [
      " 13%|█▎        | 99/750 [00:36<03:52,  2.80it/s]"
     ]
    },
    {
     "name": "stdout",
     "output_type": "stream",
     "text": [
      "[0, 1, 3, 4, 5, 6, 7, 8, 9, 10, 11, 12, 13, 14]\n",
      "3698\n"
     ]
    },
    {
     "name": "stderr",
     "output_type": "stream",
     "text": [
      " 13%|█▎        | 100/750 [00:36<03:58,  2.72it/s]"
     ]
    },
    {
     "name": "stdout",
     "output_type": "stream",
     "text": [
      "[0, 1, 3, 4, 5, 6, 7, 8, 9, 10, 11, 12, 13, 14]\n",
      "3732\n"
     ]
    },
    {
     "name": "stderr",
     "output_type": "stream",
     "text": [
      " 13%|█▎        | 101/750 [00:37<04:19,  2.50it/s]"
     ]
    },
    {
     "name": "stdout",
     "output_type": "stream",
     "text": [
      "[0, 1, 3, 4, 5, 6, 7, 8, 9, 10, 11, 12, 13, 14]\n",
      "3765\n"
     ]
    },
    {
     "name": "stderr",
     "output_type": "stream",
     "text": [
      " 14%|█▎        | 102/750 [00:37<04:10,  2.58it/s]"
     ]
    },
    {
     "name": "stdout",
     "output_type": "stream",
     "text": [
      "[0, 1, 3, 4, 5, 6, 7, 8, 9, 10, 11, 12, 13, 14]\n",
      "3806\n"
     ]
    },
    {
     "name": "stderr",
     "output_type": "stream",
     "text": [
      " 14%|█▎        | 103/750 [00:38<04:08,  2.61it/s]"
     ]
    },
    {
     "name": "stdout",
     "output_type": "stream",
     "text": [
      "[0, 1, 3, 4, 5, 6, 7, 8, 9, 10, 11, 12, 13, 14]\n",
      "3844\n"
     ]
    },
    {
     "name": "stderr",
     "output_type": "stream",
     "text": [
      " 14%|█▍        | 104/750 [00:38<04:00,  2.69it/s]"
     ]
    },
    {
     "name": "stdout",
     "output_type": "stream",
     "text": [
      "[0, 1, 3, 4, 5, 6, 7, 8, 9, 10, 11, 12, 13, 14]\n",
      "3882\n"
     ]
    },
    {
     "name": "stderr",
     "output_type": "stream",
     "text": [
      " 14%|█▍        | 105/750 [00:38<04:04,  2.64it/s]"
     ]
    },
    {
     "name": "stdout",
     "output_type": "stream",
     "text": [
      "[0, 1, 3, 4, 5, 6, 7, 8, 9, 10, 11, 12, 13, 14]\n",
      "3920\n"
     ]
    },
    {
     "name": "stderr",
     "output_type": "stream",
     "text": [
      " 14%|█▍        | 106/750 [00:39<03:59,  2.69it/s]"
     ]
    },
    {
     "name": "stdout",
     "output_type": "stream",
     "text": [
      "[0, 1, 3, 4, 5, 6, 7, 8, 9, 10, 11, 12, 13, 14]\n",
      "3958\n"
     ]
    },
    {
     "name": "stderr",
     "output_type": "stream",
     "text": [
      " 14%|█▍        | 107/750 [00:39<03:52,  2.76it/s]"
     ]
    },
    {
     "name": "stdout",
     "output_type": "stream",
     "text": [
      "[0, 1, 3, 4, 5, 6, 7, 8, 9, 10, 11, 12, 13, 14]\n",
      "3996\n"
     ]
    },
    {
     "name": "stderr",
     "output_type": "stream",
     "text": [
      " 14%|█▍        | 108/750 [00:39<03:49,  2.79it/s]"
     ]
    },
    {
     "name": "stdout",
     "output_type": "stream",
     "text": [
      "[0, 1, 3, 4, 5, 6, 7, 8, 9, 10, 11, 12, 13, 14]\n",
      "4037\n"
     ]
    },
    {
     "name": "stderr",
     "output_type": "stream",
     "text": [
      " 15%|█▍        | 109/750 [00:40<03:46,  2.83it/s]"
     ]
    },
    {
     "name": "stdout",
     "output_type": "stream",
     "text": [
      "[0, 1, 2, 3, 4, 5, 6, 7, 8, 9, 10, 11, 12, 13, 14]\n",
      "4077\n"
     ]
    },
    {
     "name": "stderr",
     "output_type": "stream",
     "text": [
      " 15%|█▍        | 110/750 [00:40<03:49,  2.79it/s]"
     ]
    },
    {
     "name": "stdout",
     "output_type": "stream",
     "text": [
      "[0, 1, 2, 3, 4, 5, 6, 7, 8, 9, 10, 11, 12, 13, 14]\n",
      "4115\n"
     ]
    },
    {
     "name": "stderr",
     "output_type": "stream",
     "text": [
      " 15%|█▍        | 111/750 [00:40<03:45,  2.83it/s]"
     ]
    },
    {
     "name": "stdout",
     "output_type": "stream",
     "text": [
      "[0, 1, 2, 3, 4, 5, 6, 7, 8, 9, 10, 11, 12, 13, 14]\n",
      "4154\n"
     ]
    },
    {
     "name": "stderr",
     "output_type": "stream",
     "text": [
      " 15%|█▍        | 112/750 [00:41<03:52,  2.75it/s]"
     ]
    },
    {
     "name": "stdout",
     "output_type": "stream",
     "text": [
      "[0, 1, 2, 3, 4, 5, 6, 7, 8, 9, 10, 11, 12, 13, 14]\n",
      "4185\n"
     ]
    },
    {
     "name": "stderr",
     "output_type": "stream",
     "text": [
      " 15%|█▌        | 113/750 [00:41<04:01,  2.64it/s]"
     ]
    },
    {
     "name": "stdout",
     "output_type": "stream",
     "text": [
      "[0, 1, 2, 3, 4, 5, 6, 7, 8, 9, 10, 11, 12, 13, 14]\n",
      "4228\n"
     ]
    },
    {
     "name": "stderr",
     "output_type": "stream",
     "text": [
      " 15%|█▌        | 114/750 [00:42<03:55,  2.70it/s]"
     ]
    },
    {
     "name": "stdout",
     "output_type": "stream",
     "text": [
      "[0, 1, 2, 3, 4, 5, 6, 7, 8, 9, 10, 11, 12, 13, 14]\n",
      "4266\n"
     ]
    },
    {
     "name": "stderr",
     "output_type": "stream",
     "text": [
      " 15%|█▌        | 115/750 [00:42<03:49,  2.77it/s]"
     ]
    },
    {
     "name": "stdout",
     "output_type": "stream",
     "text": [
      "[0, 1, 2, 3, 4, 5, 6, 7, 8, 9, 10, 11, 12, 13, 14]\n",
      "4304\n"
     ]
    },
    {
     "name": "stderr",
     "output_type": "stream",
     "text": [
      " 15%|█▌        | 116/750 [00:42<03:47,  2.79it/s]"
     ]
    },
    {
     "name": "stdout",
     "output_type": "stream",
     "text": [
      "[0, 1, 2, 3, 4, 5, 6, 7, 8, 9, 10, 11, 12, 13, 14]\n",
      "4342\n"
     ]
    },
    {
     "name": "stderr",
     "output_type": "stream",
     "text": [
      " 16%|█▌        | 117/750 [00:43<03:46,  2.79it/s]"
     ]
    },
    {
     "name": "stdout",
     "output_type": "stream",
     "text": [
      "[0, 1, 2, 3, 4, 5, 6, 7, 8, 9, 10, 11, 12, 13, 14]\n",
      "4382\n"
     ]
    },
    {
     "name": "stderr",
     "output_type": "stream",
     "text": [
      " 16%|█▌        | 118/750 [00:43<03:46,  2.79it/s]"
     ]
    },
    {
     "name": "stdout",
     "output_type": "stream",
     "text": [
      "[0, 1, 2, 3, 4, 5, 6, 7, 8, 9, 10, 11, 12, 13, 14]\n",
      "4419\n"
     ]
    },
    {
     "name": "stderr",
     "output_type": "stream",
     "text": [
      " 16%|█▌        | 119/750 [00:43<03:46,  2.78it/s]"
     ]
    },
    {
     "name": "stdout",
     "output_type": "stream",
     "text": [
      "[0, 1, 2, 3, 4, 5, 6, 7, 8, 9, 10, 11, 12, 13, 14]\n",
      "4455\n"
     ]
    },
    {
     "name": "stderr",
     "output_type": "stream",
     "text": [
      " 16%|█▌        | 120/750 [00:44<03:49,  2.74it/s]"
     ]
    },
    {
     "name": "stdout",
     "output_type": "stream",
     "text": [
      "[0, 1, 2, 3, 4, 5, 6, 7, 8, 9, 10, 11, 12, 13, 14]\n",
      "4496\n"
     ]
    },
    {
     "name": "stderr",
     "output_type": "stream",
     "text": [
      " 16%|█▌        | 121/750 [00:44<03:44,  2.80it/s]"
     ]
    },
    {
     "name": "stdout",
     "output_type": "stream",
     "text": [
      "[0, 1, 2, 3, 4, 5, 6, 7, 8, 9, 10, 11, 12, 13, 14]\n",
      "4533\n"
     ]
    },
    {
     "name": "stderr",
     "output_type": "stream",
     "text": [
      " 16%|█▋        | 122/750 [00:44<03:45,  2.79it/s]"
     ]
    },
    {
     "name": "stdout",
     "output_type": "stream",
     "text": [
      "[0, 1, 2, 3, 4, 5, 6, 7, 8, 9, 10, 11, 12, 13, 14]\n",
      "4570\n"
     ]
    },
    {
     "name": "stderr",
     "output_type": "stream",
     "text": [
      " 16%|█▋        | 123/750 [00:45<03:44,  2.79it/s]"
     ]
    },
    {
     "name": "stdout",
     "output_type": "stream",
     "text": [
      "[0, 1, 2, 3, 4, 5, 6, 7, 8, 9, 10, 11, 12, 13, 14]\n",
      "4607\n"
     ]
    },
    {
     "name": "stderr",
     "output_type": "stream",
     "text": [
      " 17%|█▋        | 124/750 [00:45<03:47,  2.75it/s]"
     ]
    },
    {
     "name": "stdout",
     "output_type": "stream",
     "text": [
      "[0, 1, 2, 3, 4, 5, 6, 7, 8, 9, 10, 11, 12, 13, 14]\n",
      "4643\n"
     ]
    },
    {
     "name": "stderr",
     "output_type": "stream",
     "text": [
      " 17%|█▋        | 125/750 [00:46<04:01,  2.59it/s]"
     ]
    },
    {
     "name": "stdout",
     "output_type": "stream",
     "text": [
      "[0, 1, 2, 3, 4, 5, 6, 7, 8, 9, 10, 11, 12, 13, 14]\n",
      "4676\n"
     ]
    },
    {
     "name": "stderr",
     "output_type": "stream",
     "text": [
      " 17%|█▋        | 126/750 [00:46<03:54,  2.66it/s]"
     ]
    },
    {
     "name": "stdout",
     "output_type": "stream",
     "text": [
      "[0, 1, 2, 3, 4, 5, 6, 7, 8, 9, 10, 11, 12, 13, 14]\n",
      "4714\n"
     ]
    },
    {
     "name": "stderr",
     "output_type": "stream",
     "text": [
      " 17%|█▋        | 127/750 [00:46<03:53,  2.67it/s]"
     ]
    },
    {
     "name": "stdout",
     "output_type": "stream",
     "text": [
      "[0, 1, 2, 3, 4, 5, 6, 7, 8, 9, 10, 11, 12, 13, 14]\n",
      "4754\n"
     ]
    },
    {
     "name": "stderr",
     "output_type": "stream",
     "text": [
      " 17%|█▋        | 128/750 [00:47<03:47,  2.73it/s]"
     ]
    },
    {
     "name": "stdout",
     "output_type": "stream",
     "text": [
      "[0, 1, 2, 3, 4, 5, 6, 7, 8, 9, 10, 11, 12, 13, 14]\n",
      "4792\n"
     ]
    },
    {
     "name": "stderr",
     "output_type": "stream",
     "text": [
      " 17%|█▋        | 129/750 [00:47<03:44,  2.76it/s]"
     ]
    },
    {
     "name": "stdout",
     "output_type": "stream",
     "text": [
      "[0, 1, 2, 3, 4, 5, 6, 7, 8, 9, 10, 11, 12, 13, 14]\n",
      "4830\n"
     ]
    },
    {
     "name": "stderr",
     "output_type": "stream",
     "text": [
      " 17%|█▋        | 130/750 [00:47<03:45,  2.75it/s]"
     ]
    },
    {
     "name": "stdout",
     "output_type": "stream",
     "text": [
      "[0, 1, 2, 3, 4, 5, 6, 7, 8, 9, 10, 11, 12, 13, 14]\n",
      "4868\n"
     ]
    },
    {
     "name": "stderr",
     "output_type": "stream",
     "text": [
      " 17%|█▋        | 131/750 [00:48<03:43,  2.77it/s]"
     ]
    },
    {
     "name": "stdout",
     "output_type": "stream",
     "text": [
      "[0, 1, 2, 3, 4, 5, 6, 7, 8, 9, 10, 11, 12, 13, 14]\n",
      "4906\n"
     ]
    },
    {
     "name": "stderr",
     "output_type": "stream",
     "text": [
      " 18%|█▊        | 132/750 [00:48<03:47,  2.72it/s]"
     ]
    },
    {
     "name": "stdout",
     "output_type": "stream",
     "text": [
      "[0, 1, 2, 3, 4, 5, 6, 7, 8, 9, 10, 11, 12, 13, 14]\n",
      "4944\n"
     ]
    },
    {
     "name": "stderr",
     "output_type": "stream",
     "text": [
      " 18%|█▊        | 133/750 [00:48<03:45,  2.74it/s]"
     ]
    },
    {
     "name": "stdout",
     "output_type": "stream",
     "text": [
      "[0, 1, 2, 3, 4, 5, 6, 7, 8, 9, 10, 11, 12, 13, 14]\n",
      "4988\n"
     ]
    },
    {
     "name": "stderr",
     "output_type": "stream",
     "text": [
      " 18%|█▊        | 134/750 [00:49<03:44,  2.74it/s]"
     ]
    },
    {
     "name": "stdout",
     "output_type": "stream",
     "text": [
      "[0, 1, 2, 3, 4, 5, 6, 7, 8, 9, 10, 11, 12, 13, 14]\n",
      "5023\n"
     ]
    },
    {
     "name": "stderr",
     "output_type": "stream",
     "text": [
      " 18%|█▊        | 135/750 [00:49<03:43,  2.76it/s]"
     ]
    },
    {
     "name": "stdout",
     "output_type": "stream",
     "text": [
      "[0, 1, 2, 3, 4, 5, 6, 7, 8, 9, 10, 11, 12, 13, 14]\n",
      "5065\n"
     ]
    },
    {
     "name": "stderr",
     "output_type": "stream",
     "text": [
      " 18%|█▊        | 136/750 [00:50<03:43,  2.75it/s]"
     ]
    },
    {
     "name": "stdout",
     "output_type": "stream",
     "text": [
      "[0, 1, 2, 3, 4, 5, 6, 7, 8, 9, 10, 11, 12, 13, 14]\n",
      "5108\n"
     ]
    },
    {
     "name": "stderr",
     "output_type": "stream",
     "text": [
      " 18%|█▊        | 137/750 [00:50<03:38,  2.80it/s]"
     ]
    },
    {
     "name": "stdout",
     "output_type": "stream",
     "text": [
      "[0, 1, 2, 3, 4, 5, 6, 7, 8, 9, 10, 11, 12, 13, 14]\n",
      "5150\n"
     ]
    },
    {
     "name": "stderr",
     "output_type": "stream",
     "text": [
      " 18%|█▊        | 138/750 [00:50<03:38,  2.80it/s]"
     ]
    },
    {
     "name": "stdout",
     "output_type": "stream",
     "text": [
      "[0, 1, 2, 3, 4, 5, 6, 7, 8, 9, 10, 11, 12, 13, 14]\n",
      "5189\n"
     ]
    },
    {
     "name": "stderr",
     "output_type": "stream",
     "text": [
      " 19%|█▊        | 139/750 [00:51<04:00,  2.54it/s]"
     ]
    },
    {
     "name": "stdout",
     "output_type": "stream",
     "text": [
      "[0, 1, 2, 3, 4, 5, 6, 7, 8, 9, 10, 11, 12, 13, 14]\n",
      "5227\n"
     ]
    },
    {
     "name": "stderr",
     "output_type": "stream",
     "text": [
      " 19%|█▊        | 140/750 [00:51<04:13,  2.41it/s]"
     ]
    },
    {
     "name": "stdout",
     "output_type": "stream",
     "text": [
      "[0, 1, 2, 3, 4, 5, 6, 7, 8, 9, 10, 11, 12, 13, 14]\n",
      "5264\n"
     ]
    },
    {
     "name": "stderr",
     "output_type": "stream",
     "text": [
      " 19%|█▉        | 141/750 [00:52<03:59,  2.54it/s]"
     ]
    },
    {
     "name": "stdout",
     "output_type": "stream",
     "text": [
      "[0, 1, 2, 3, 4, 5, 6, 7, 8, 9, 10, 11, 12, 13, 14]\n",
      "5305\n"
     ]
    },
    {
     "name": "stderr",
     "output_type": "stream",
     "text": [
      " 19%|█▉        | 142/750 [00:52<03:59,  2.53it/s]"
     ]
    },
    {
     "name": "stdout",
     "output_type": "stream",
     "text": [
      "[0, 1, 2, 3, 4, 5, 6, 7, 8, 9, 10, 11, 12, 13, 14]\n",
      "5342\n"
     ]
    },
    {
     "name": "stderr",
     "output_type": "stream",
     "text": [
      " 19%|█▉        | 143/750 [00:52<04:09,  2.43it/s]"
     ]
    },
    {
     "name": "stdout",
     "output_type": "stream",
     "text": [
      "[0, 1, 2, 3, 4, 5, 6, 7, 8, 9, 10, 11, 12, 13, 14]\n",
      "5382\n"
     ]
    },
    {
     "name": "stderr",
     "output_type": "stream",
     "text": [
      " 19%|█▉        | 144/750 [00:53<03:58,  2.54it/s]"
     ]
    },
    {
     "name": "stdout",
     "output_type": "stream",
     "text": [
      "[0, 1, 2, 3, 4, 5, 6, 7, 8, 9, 10, 11, 12, 13, 14]\n",
      "5420\n"
     ]
    },
    {
     "name": "stderr",
     "output_type": "stream",
     "text": [
      " 19%|█▉        | 145/750 [00:53<03:51,  2.61it/s]"
     ]
    },
    {
     "name": "stdout",
     "output_type": "stream",
     "text": [
      "[0, 1, 2, 3, 4, 5, 6, 7, 8, 9, 10, 11, 12, 13, 14]\n",
      "5456\n"
     ]
    },
    {
     "name": "stderr",
     "output_type": "stream",
     "text": [
      " 19%|█▉        | 146/750 [00:53<03:54,  2.58it/s]"
     ]
    },
    {
     "name": "stdout",
     "output_type": "stream",
     "text": [
      "[0, 1, 2, 3, 4, 5, 6, 7, 8, 9, 10, 11, 12, 13, 14]\n",
      "5494\n"
     ]
    },
    {
     "name": "stderr",
     "output_type": "stream",
     "text": [
      " 20%|█▉        | 147/750 [00:54<03:54,  2.57it/s]"
     ]
    },
    {
     "name": "stdout",
     "output_type": "stream",
     "text": [
      "[0, 1, 2, 3, 4, 5, 6, 7, 8, 9, 10, 11, 12, 13, 14]\n",
      "5527\n"
     ]
    },
    {
     "name": "stderr",
     "output_type": "stream",
     "text": [
      " 20%|█▉        | 148/750 [00:54<03:54,  2.57it/s]"
     ]
    },
    {
     "name": "stdout",
     "output_type": "stream",
     "text": [
      "[0, 1, 2, 3, 4, 5, 6, 7, 8, 9, 10, 11, 12, 13, 14]\n",
      "5570\n"
     ]
    },
    {
     "name": "stderr",
     "output_type": "stream",
     "text": [
      " 20%|█▉        | 149/750 [00:55<04:01,  2.49it/s]"
     ]
    },
    {
     "name": "stdout",
     "output_type": "stream",
     "text": [
      "[0, 1, 2, 3, 4, 5, 6, 7, 8, 9, 10, 11, 12, 13, 14]\n",
      "5605\n"
     ]
    },
    {
     "name": "stderr",
     "output_type": "stream",
     "text": [
      " 20%|██        | 150/750 [00:55<03:49,  2.62it/s]"
     ]
    },
    {
     "name": "stdout",
     "output_type": "stream",
     "text": [
      "[0, 1, 2, 3, 4, 5, 6, 7, 8, 9, 10, 11, 12, 13, 14]\n",
      "5645\n"
     ]
    },
    {
     "name": "stderr",
     "output_type": "stream",
     "text": [
      " 20%|██        | 151/750 [00:55<03:48,  2.62it/s]"
     ]
    },
    {
     "name": "stdout",
     "output_type": "stream",
     "text": [
      "[0, 1, 2, 3, 4, 5, 6, 7, 8, 9, 10, 11, 12, 13, 14]\n",
      "5683\n"
     ]
    },
    {
     "name": "stderr",
     "output_type": "stream",
     "text": [
      " 20%|██        | 152/750 [00:56<03:43,  2.68it/s]"
     ]
    },
    {
     "name": "stdout",
     "output_type": "stream",
     "text": [
      "[0, 1, 2, 3, 4, 5, 6, 7, 8, 9, 10, 11, 12, 13, 14]\n",
      "5722\n"
     ]
    },
    {
     "name": "stderr",
     "output_type": "stream",
     "text": [
      " 20%|██        | 153/750 [00:56<03:46,  2.63it/s]"
     ]
    },
    {
     "name": "stdout",
     "output_type": "stream",
     "text": [
      "[0, 1, 2, 3, 4, 5, 6, 7, 8, 9, 10, 11, 12, 13, 14]\n",
      "5762\n"
     ]
    },
    {
     "name": "stderr",
     "output_type": "stream",
     "text": [
      " 21%|██        | 154/750 [00:57<03:40,  2.70it/s]"
     ]
    },
    {
     "name": "stdout",
     "output_type": "stream",
     "text": [
      "[0, 1, 2, 3, 4, 5, 6, 7, 8, 9, 10, 11, 12, 13, 14]\n",
      "5801\n"
     ]
    },
    {
     "name": "stderr",
     "output_type": "stream",
     "text": [
      " 21%|██        | 155/750 [00:57<03:38,  2.73it/s]"
     ]
    },
    {
     "name": "stdout",
     "output_type": "stream",
     "text": [
      "[0, 1, 2, 3, 4, 5, 6, 7, 8, 9, 10, 11, 12, 13, 14]\n",
      "5839\n"
     ]
    },
    {
     "name": "stderr",
     "output_type": "stream",
     "text": [
      " 21%|██        | 156/750 [00:57<03:35,  2.76it/s]"
     ]
    },
    {
     "name": "stdout",
     "output_type": "stream",
     "text": [
      "[0, 1, 2, 3, 4, 5, 6, 7, 8, 9, 10, 11, 12, 13, 14]\n",
      "5877\n"
     ]
    },
    {
     "name": "stderr",
     "output_type": "stream",
     "text": [
      " 21%|██        | 157/750 [00:58<03:37,  2.73it/s]"
     ]
    },
    {
     "name": "stdout",
     "output_type": "stream",
     "text": [
      "[0, 1, 2, 3, 4, 5, 6, 7, 8, 9, 10, 11, 12, 13, 14]\n",
      "5919\n"
     ]
    },
    {
     "name": "stderr",
     "output_type": "stream",
     "text": [
      " 21%|██        | 158/750 [00:58<03:14,  3.04it/s]"
     ]
    },
    {
     "name": "stdout",
     "output_type": "stream",
     "text": [
      "[0, 1, 2, 3, 4, 5, 6, 7, 8, 9, 10, 11, 12, 13, 14]\n",
      "5955\n"
     ]
    },
    {
     "name": "stderr",
     "output_type": "stream",
     "text": [
      " 21%|██        | 159/750 [00:58<03:27,  2.84it/s]"
     ]
    },
    {
     "name": "stdout",
     "output_type": "stream",
     "text": [
      "[0, 1, 2, 3, 4, 5, 6, 7, 8, 9, 10, 11, 12, 13, 14]\n",
      "5995\n"
     ]
    },
    {
     "name": "stderr",
     "output_type": "stream",
     "text": [
      " 21%|██▏       | 160/750 [00:59<03:23,  2.90it/s]"
     ]
    },
    {
     "name": "stdout",
     "output_type": "stream",
     "text": [
      "[0, 1, 2, 3, 4, 5, 6, 7, 8, 9, 10, 11, 12, 13, 14]\n",
      "6036\n"
     ]
    },
    {
     "name": "stderr",
     "output_type": "stream",
     "text": [
      " 21%|██▏       | 161/750 [00:59<02:55,  3.35it/s]"
     ]
    },
    {
     "name": "stdout",
     "output_type": "stream",
     "text": [
      "[0, 1, 2, 3, 4, 5, 6, 7, 8, 9, 10, 11, 12, 13, 14]\n",
      "6075\n"
     ]
    },
    {
     "name": "stderr",
     "output_type": "stream",
     "text": [
      " 22%|██▏       | 162/750 [00:59<02:37,  3.74it/s]"
     ]
    },
    {
     "name": "stdout",
     "output_type": "stream",
     "text": [
      "[0, 1, 2, 3, 4, 5, 6, 7, 8, 9, 10, 11, 12, 13, 14]\n",
      "6116\n"
     ]
    },
    {
     "name": "stderr",
     "output_type": "stream",
     "text": [
      " 22%|██▏       | 163/750 [00:59<02:22,  4.12it/s]"
     ]
    },
    {
     "name": "stdout",
     "output_type": "stream",
     "text": [
      "[0, 1, 2, 3, 4, 5, 6, 7, 8, 9, 10, 11, 12, 13, 14]\n",
      "6154\n"
     ]
    },
    {
     "name": "stderr",
     "output_type": "stream",
     "text": [
      " 22%|██▏       | 164/750 [00:59<02:13,  4.40it/s]"
     ]
    },
    {
     "name": "stdout",
     "output_type": "stream",
     "text": [
      "[0, 1, 2, 3, 4, 5, 6, 7, 8, 9, 10, 11, 12, 13, 14]\n",
      "6193\n"
     ]
    },
    {
     "name": "stderr",
     "output_type": "stream",
     "text": [
      " 22%|██▏       | 165/750 [01:00<02:05,  4.67it/s]"
     ]
    },
    {
     "name": "stdout",
     "output_type": "stream",
     "text": [
      "[0, 1, 2, 3, 4, 5, 6, 7, 8, 9, 10, 11, 12, 13, 14]\n",
      "6230\n"
     ]
    },
    {
     "name": "stderr",
     "output_type": "stream",
     "text": [
      " 22%|██▏       | 166/750 [01:00<02:01,  4.81it/s]"
     ]
    },
    {
     "name": "stdout",
     "output_type": "stream",
     "text": [
      "[0, 1, 2, 3, 4, 5, 6, 7, 8, 9, 10, 11, 12, 13, 14]\n",
      "6270\n"
     ]
    },
    {
     "name": "stderr",
     "output_type": "stream",
     "text": [
      " 22%|██▏       | 167/750 [01:00<01:57,  4.96it/s]"
     ]
    },
    {
     "name": "stdout",
     "output_type": "stream",
     "text": [
      "[0, 1, 2, 3, 4, 5, 6, 7, 8, 9, 10, 11, 12, 13, 14]\n",
      "6307\n"
     ]
    },
    {
     "name": "stderr",
     "output_type": "stream",
     "text": [
      " 22%|██▏       | 168/750 [01:00<01:56,  4.99it/s]"
     ]
    },
    {
     "name": "stdout",
     "output_type": "stream",
     "text": [
      "[0, 1, 2, 3, 4, 5, 6, 7, 8, 9, 10, 11, 12, 13, 14]\n",
      "6345\n"
     ]
    },
    {
     "name": "stderr",
     "output_type": "stream",
     "text": [
      " 23%|██▎       | 169/750 [01:00<01:53,  5.12it/s]"
     ]
    },
    {
     "name": "stdout",
     "output_type": "stream",
     "text": [
      "[0, 1, 2, 3, 4, 5, 6, 7, 8, 9, 10, 11, 12, 13, 14]\n",
      "6383\n"
     ]
    },
    {
     "name": "stderr",
     "output_type": "stream",
     "text": [
      " 23%|██▎       | 170/750 [01:00<01:52,  5.15it/s]"
     ]
    },
    {
     "name": "stdout",
     "output_type": "stream",
     "text": [
      "[0, 1, 2, 3, 4, 5, 6, 7, 8, 9, 10, 11, 12, 13, 14]\n",
      "6424\n"
     ]
    },
    {
     "name": "stderr",
     "output_type": "stream",
     "text": [
      " 23%|██▎       | 171/750 [01:01<01:50,  5.24it/s]"
     ]
    },
    {
     "name": "stdout",
     "output_type": "stream",
     "text": [
      "[0, 1, 2, 3, 4, 5, 6, 7, 8, 9, 10, 11, 12, 13, 14]\n",
      "6462\n"
     ]
    },
    {
     "name": "stderr",
     "output_type": "stream",
     "text": [
      " 23%|██▎       | 172/750 [01:01<01:51,  5.21it/s]"
     ]
    },
    {
     "name": "stdout",
     "output_type": "stream",
     "text": [
      "[0, 1, 2, 3, 4, 5, 6, 7, 8, 9, 10, 11, 12, 13, 14]\n",
      "6501\n"
     ]
    },
    {
     "name": "stderr",
     "output_type": "stream",
     "text": [
      " 23%|██▎       | 173/750 [01:01<01:51,  5.18it/s]"
     ]
    },
    {
     "name": "stdout",
     "output_type": "stream",
     "text": [
      "[0, 1, 2, 3, 4, 5, 6, 7, 8, 9, 10, 11, 12, 13, 14]\n",
      "6541\n"
     ]
    },
    {
     "name": "stderr",
     "output_type": "stream",
     "text": [
      " 23%|██▎       | 174/750 [01:01<01:51,  5.16it/s]"
     ]
    },
    {
     "name": "stdout",
     "output_type": "stream",
     "text": [
      "[0, 1, 2, 3, 4, 5, 6, 7, 8, 9, 10, 11, 12, 13, 14]\n",
      "6575\n"
     ]
    },
    {
     "name": "stderr",
     "output_type": "stream",
     "text": [
      " 23%|██▎       | 175/750 [01:01<01:50,  5.21it/s]"
     ]
    },
    {
     "name": "stdout",
     "output_type": "stream",
     "text": [
      "[0, 1, 2, 3, 4, 5, 6, 7, 8, 9, 10, 11, 12, 13, 14]\n",
      "6616\n"
     ]
    },
    {
     "name": "stderr",
     "output_type": "stream",
     "text": [
      " 23%|██▎       | 176/750 [01:02<01:50,  5.18it/s]"
     ]
    },
    {
     "name": "stdout",
     "output_type": "stream",
     "text": [
      "[0, 1, 2, 3, 4, 5, 6, 7, 8, 9, 10, 11, 12, 13, 14]\n",
      "6653\n"
     ]
    },
    {
     "name": "stderr",
     "output_type": "stream",
     "text": [
      " 24%|██▎       | 177/750 [01:02<01:51,  5.13it/s]"
     ]
    },
    {
     "name": "stdout",
     "output_type": "stream",
     "text": [
      "[0, 1, 2, 3, 4, 5, 6, 7, 8, 9, 10, 11, 12, 13, 14]\n",
      "6692\n"
     ]
    },
    {
     "name": "stderr",
     "output_type": "stream",
     "text": [
      " 24%|██▎       | 178/750 [01:02<01:52,  5.10it/s]"
     ]
    },
    {
     "name": "stdout",
     "output_type": "stream",
     "text": [
      "[0, 1, 2, 3, 4, 5, 6, 7, 8, 9, 10, 11, 12, 13, 14]\n",
      "6731\n"
     ]
    },
    {
     "name": "stderr",
     "output_type": "stream",
     "text": [
      " 24%|██▍       | 179/750 [01:02<01:52,  5.06it/s]"
     ]
    },
    {
     "name": "stdout",
     "output_type": "stream",
     "text": [
      "[0, 1, 2, 3, 4, 5, 6, 7, 8, 9, 10, 11, 12, 13, 14]\n",
      "6768\n"
     ]
    },
    {
     "name": "stderr",
     "output_type": "stream",
     "text": [
      " 24%|██▍       | 180/750 [01:02<01:52,  5.08it/s]"
     ]
    },
    {
     "name": "stdout",
     "output_type": "stream",
     "text": [
      "[0, 1, 2, 3, 4, 5, 6, 7, 8, 9, 10, 11, 12, 13, 14]\n",
      "6806\n"
     ]
    },
    {
     "name": "stderr",
     "output_type": "stream",
     "text": [
      " 24%|██▍       | 181/750 [01:03<01:51,  5.09it/s]"
     ]
    },
    {
     "name": "stdout",
     "output_type": "stream",
     "text": [
      "[0, 1, 2, 3, 4, 5, 6, 7, 8, 9, 10, 11, 12, 13, 14]\n",
      "6844\n"
     ]
    },
    {
     "name": "stderr",
     "output_type": "stream",
     "text": [
      " 24%|██▍       | 182/750 [01:03<01:51,  5.11it/s]"
     ]
    },
    {
     "name": "stdout",
     "output_type": "stream",
     "text": [
      "[0, 1, 2, 3, 4, 5, 6, 7, 8, 9, 10, 11, 12, 13, 14]\n",
      "6882\n"
     ]
    },
    {
     "name": "stderr",
     "output_type": "stream",
     "text": [
      " 24%|██▍       | 183/750 [01:03<01:51,  5.07it/s]"
     ]
    },
    {
     "name": "stdout",
     "output_type": "stream",
     "text": [
      "[0, 1, 2, 3, 4, 5, 6, 7, 8, 9, 10, 11, 12, 13, 14]\n",
      "6920\n"
     ]
    },
    {
     "name": "stderr",
     "output_type": "stream",
     "text": [
      " 25%|██▍       | 184/750 [01:03<01:51,  5.07it/s]"
     ]
    },
    {
     "name": "stdout",
     "output_type": "stream",
     "text": [
      "[0, 1, 2, 3, 4, 5, 6, 7, 8, 9, 10, 11, 12, 13, 14]\n",
      "6958\n"
     ]
    },
    {
     "name": "stderr",
     "output_type": "stream",
     "text": [
      " 25%|██▍       | 185/750 [01:03<01:50,  5.09it/s]"
     ]
    },
    {
     "name": "stdout",
     "output_type": "stream",
     "text": [
      "[0, 1, 2, 3, 4, 5, 6, 7, 8, 9, 10, 11, 12, 13, 14]\n",
      "6996\n"
     ]
    },
    {
     "name": "stderr",
     "output_type": "stream",
     "text": [
      " 25%|██▍       | 186/750 [01:04<01:50,  5.10it/s]"
     ]
    },
    {
     "name": "stdout",
     "output_type": "stream",
     "text": [
      "[0, 1, 2, 3, 4, 5, 6, 7, 8, 9, 10, 11, 12, 13, 14]\n",
      "7033\n"
     ]
    },
    {
     "name": "stderr",
     "output_type": "stream",
     "text": [
      " 25%|██▍       | 187/750 [01:04<01:50,  5.09it/s]"
     ]
    },
    {
     "name": "stdout",
     "output_type": "stream",
     "text": [
      "[0, 1, 2, 3, 4, 5, 6, 7, 8, 9, 10, 11, 12, 13, 14]\n",
      "7071\n"
     ]
    },
    {
     "name": "stderr",
     "output_type": "stream",
     "text": [
      " 25%|██▌       | 188/750 [01:04<01:50,  5.09it/s]"
     ]
    },
    {
     "name": "stdout",
     "output_type": "stream",
     "text": [
      "[0, 1, 2, 3, 4, 5, 6, 7, 8, 9, 10, 11, 12, 13, 14]\n",
      "7105\n"
     ]
    },
    {
     "name": "stderr",
     "output_type": "stream",
     "text": [
      " 25%|██▌       | 189/750 [01:04<01:50,  5.10it/s]"
     ]
    },
    {
     "name": "stdout",
     "output_type": "stream",
     "text": [
      "[0, 1, 2, 3, 4, 5, 6, 7, 8, 9, 10, 11, 12, 13, 14]\n",
      "7146\n"
     ]
    },
    {
     "name": "stderr",
     "output_type": "stream",
     "text": [
      " 25%|██▌       | 190/750 [01:04<01:48,  5.14it/s]"
     ]
    },
    {
     "name": "stdout",
     "output_type": "stream",
     "text": [
      "[0, 1, 2, 3, 4, 5, 6, 7, 8, 9, 10, 11, 12, 13, 14]\n",
      "7185\n"
     ]
    },
    {
     "name": "stderr",
     "output_type": "stream",
     "text": [
      " 25%|██▌       | 191/750 [01:05<01:47,  5.22it/s]"
     ]
    },
    {
     "name": "stdout",
     "output_type": "stream",
     "text": [
      "[0, 1, 2, 3, 4, 5, 6, 7, 8, 9, 10, 11, 12, 13, 14]\n",
      "7224\n"
     ]
    },
    {
     "name": "stderr",
     "output_type": "stream",
     "text": [
      " 26%|██▌       | 192/750 [01:05<01:47,  5.20it/s]"
     ]
    },
    {
     "name": "stdout",
     "output_type": "stream",
     "text": [
      "[0, 1, 2, 3, 4, 5, 6, 7, 8, 9, 10, 11, 12, 13, 14]\n",
      "7263\n"
     ]
    },
    {
     "name": "stderr",
     "output_type": "stream",
     "text": [
      " 26%|██▌       | 193/750 [01:05<01:47,  5.20it/s]"
     ]
    },
    {
     "name": "stdout",
     "output_type": "stream",
     "text": [
      "[0, 1, 2, 3, 4, 5, 6, 7, 8, 9, 10, 11, 12, 13, 14]\n",
      "7306\n"
     ]
    },
    {
     "name": "stderr",
     "output_type": "stream",
     "text": [
      " 26%|██▌       | 194/750 [01:05<01:48,  5.14it/s]"
     ]
    },
    {
     "name": "stdout",
     "output_type": "stream",
     "text": [
      "[0, 1, 2, 3, 4, 5, 6, 7, 8, 9, 10, 11, 12, 13, 14]\n",
      "7345\n"
     ]
    },
    {
     "name": "stderr",
     "output_type": "stream",
     "text": [
      " 26%|██▌       | 195/750 [01:05<01:48,  5.10it/s]"
     ]
    },
    {
     "name": "stdout",
     "output_type": "stream",
     "text": [
      "[0, 1, 2, 3, 4, 5, 6, 7, 8, 9, 10, 11, 12, 13, 14]\n",
      "7383\n"
     ]
    },
    {
     "name": "stderr",
     "output_type": "stream",
     "text": [
      " 26%|██▌       | 196/750 [01:06<01:48,  5.12it/s]"
     ]
    },
    {
     "name": "stdout",
     "output_type": "stream",
     "text": [
      "[0, 1, 2, 3, 4, 5, 6, 7, 8, 9, 10, 11, 12, 13, 14]\n",
      "7424\n"
     ]
    },
    {
     "name": "stderr",
     "output_type": "stream",
     "text": [
      " 26%|██▋       | 197/750 [01:06<01:46,  5.18it/s]"
     ]
    },
    {
     "name": "stdout",
     "output_type": "stream",
     "text": [
      "[0, 1, 2, 3, 4, 5, 6, 7, 8, 9, 10, 11, 12, 13, 14]\n",
      "7462\n"
     ]
    },
    {
     "name": "stderr",
     "output_type": "stream",
     "text": [
      " 26%|██▋       | 198/750 [01:06<01:45,  5.21it/s]"
     ]
    },
    {
     "name": "stdout",
     "output_type": "stream",
     "text": [
      "[0, 1, 2, 3, 4, 5, 6, 7, 8, 9, 10, 11, 12, 13, 14]\n",
      "7501\n"
     ]
    },
    {
     "name": "stderr",
     "output_type": "stream",
     "text": [
      " 27%|██▋       | 199/750 [01:06<01:46,  5.19it/s]"
     ]
    },
    {
     "name": "stdout",
     "output_type": "stream",
     "text": [
      "[0, 1, 2, 3, 4, 5, 6, 7, 8, 9, 10, 11, 12, 13, 14]\n",
      "7541\n"
     ]
    },
    {
     "name": "stderr",
     "output_type": "stream",
     "text": [
      " 27%|██▋       | 200/750 [01:06<01:46,  5.17it/s]"
     ]
    },
    {
     "name": "stdout",
     "output_type": "stream",
     "text": [
      "[0, 1, 2, 3, 4, 5, 6, 7, 8, 9, 10, 11, 12, 13, 14]\n",
      "7580\n"
     ]
    },
    {
     "name": "stderr",
     "output_type": "stream",
     "text": [
      " 27%|██▋       | 201/750 [01:07<01:44,  5.24it/s]"
     ]
    },
    {
     "name": "stdout",
     "output_type": "stream",
     "text": [
      "[0, 1, 2, 3, 4, 5, 6, 7, 8, 9, 10, 11, 12, 13, 14]\n",
      "7618\n"
     ]
    },
    {
     "name": "stderr",
     "output_type": "stream",
     "text": [
      " 27%|██▋       | 202/750 [01:07<01:45,  5.19it/s]"
     ]
    },
    {
     "name": "stdout",
     "output_type": "stream",
     "text": [
      "[0, 1, 2, 3, 4, 5, 6, 7, 8, 9, 10, 11, 12, 13, 14]\n",
      "7659\n"
     ]
    },
    {
     "name": "stderr",
     "output_type": "stream",
     "text": [
      " 27%|██▋       | 203/750 [01:07<01:45,  5.16it/s]"
     ]
    },
    {
     "name": "stdout",
     "output_type": "stream",
     "text": [
      "[0, 1, 2, 3, 4, 5, 6, 7, 8, 9, 10, 11, 12, 13, 14]\n",
      "7702\n"
     ]
    },
    {
     "name": "stderr",
     "output_type": "stream",
     "text": [
      " 27%|██▋       | 204/750 [01:07<01:46,  5.15it/s]"
     ]
    },
    {
     "name": "stdout",
     "output_type": "stream",
     "text": [
      "[0, 1, 2, 3, 4, 5, 6, 7, 8, 9, 10, 11, 12, 13, 14]\n",
      "7740\n"
     ]
    },
    {
     "name": "stderr",
     "output_type": "stream",
     "text": [
      " 27%|██▋       | 205/750 [01:07<01:45,  5.18it/s]"
     ]
    },
    {
     "name": "stdout",
     "output_type": "stream",
     "text": [
      "[0, 1, 2, 3, 4, 5, 6, 7, 8, 9, 10, 11, 12, 13, 14]\n",
      "7775\n"
     ]
    },
    {
     "name": "stderr",
     "output_type": "stream",
     "text": [
      " 27%|██▋       | 206/750 [01:07<01:43,  5.25it/s]"
     ]
    },
    {
     "name": "stdout",
     "output_type": "stream",
     "text": [
      "[0, 1, 2, 3, 4, 5, 6, 7, 8, 9, 10, 11, 12, 13, 14]\n",
      "7814\n"
     ]
    },
    {
     "name": "stderr",
     "output_type": "stream",
     "text": [
      " 28%|██▊       | 207/750 [01:08<01:44,  5.21it/s]"
     ]
    },
    {
     "name": "stdout",
     "output_type": "stream",
     "text": [
      "[0, 1, 2, 3, 4, 5, 6, 7, 8, 9, 10, 11, 12, 13, 14]\n",
      "7857\n"
     ]
    },
    {
     "name": "stderr",
     "output_type": "stream",
     "text": [
      " 28%|██▊       | 208/750 [01:08<01:43,  5.26it/s]"
     ]
    },
    {
     "name": "stdout",
     "output_type": "stream",
     "text": [
      "[0, 1, 2, 3, 4, 5, 6, 7, 8, 9, 10, 11, 12, 13, 14]\n",
      "7895\n"
     ]
    },
    {
     "name": "stderr",
     "output_type": "stream",
     "text": [
      " 28%|██▊       | 209/750 [01:08<01:43,  5.23it/s]"
     ]
    },
    {
     "name": "stdout",
     "output_type": "stream",
     "text": [
      "[0, 1, 2, 3, 4, 5, 6, 7, 8, 9, 10, 11, 12, 13, 14]\n",
      "7934\n"
     ]
    },
    {
     "name": "stderr",
     "output_type": "stream",
     "text": [
      " 28%|██▊       | 210/750 [01:08<01:42,  5.25it/s]"
     ]
    },
    {
     "name": "stdout",
     "output_type": "stream",
     "text": [
      "[0, 1, 2, 3, 4, 5, 6, 7, 8, 9, 10, 11, 12, 13, 14]\n",
      "7974\n"
     ]
    },
    {
     "name": "stderr",
     "output_type": "stream",
     "text": [
      " 28%|██▊       | 211/750 [01:08<01:41,  5.30it/s]"
     ]
    },
    {
     "name": "stdout",
     "output_type": "stream",
     "text": [
      "[0, 1, 2, 3, 4, 5, 6, 7, 8, 9, 10, 11, 12, 13, 14]\n",
      "8011\n"
     ]
    },
    {
     "name": "stderr",
     "output_type": "stream",
     "text": [
      " 28%|██▊       | 212/750 [01:09<01:42,  5.23it/s]"
     ]
    },
    {
     "name": "stdout",
     "output_type": "stream",
     "text": [
      "[0, 1, 2, 3, 4, 5, 6, 7, 8, 9, 10, 11, 12, 13, 14]\n",
      "8052\n"
     ]
    },
    {
     "name": "stderr",
     "output_type": "stream",
     "text": [
      " 28%|██▊       | 213/750 [01:09<01:41,  5.29it/s]"
     ]
    },
    {
     "name": "stdout",
     "output_type": "stream",
     "text": [
      "[0, 1, 2, 3, 4, 5, 6, 7, 8, 9, 10, 11, 12, 13, 14]\n",
      "8092\n"
     ]
    },
    {
     "name": "stderr",
     "output_type": "stream",
     "text": [
      " 29%|██▊       | 214/750 [01:09<01:43,  5.17it/s]"
     ]
    },
    {
     "name": "stdout",
     "output_type": "stream",
     "text": [
      "[0, 1, 2, 3, 4, 5, 6, 7, 8, 9, 10, 11, 12, 13, 14]\n",
      "8128\n"
     ]
    },
    {
     "name": "stderr",
     "output_type": "stream",
     "text": [
      " 29%|██▊       | 215/750 [01:09<01:43,  5.15it/s]"
     ]
    },
    {
     "name": "stdout",
     "output_type": "stream",
     "text": [
      "[0, 1, 2, 3, 4, 5, 6, 7, 8, 9, 10, 11, 12, 13, 14]\n",
      "8173\n"
     ]
    },
    {
     "name": "stderr",
     "output_type": "stream",
     "text": [
      " 29%|██▉       | 216/750 [01:09<01:43,  5.17it/s]"
     ]
    },
    {
     "name": "stdout",
     "output_type": "stream",
     "text": [
      "[0, 1, 2, 3, 4, 5, 6, 7, 8, 9, 10, 11, 12, 13, 14]\n",
      "8211\n"
     ]
    },
    {
     "name": "stderr",
     "output_type": "stream",
     "text": [
      " 29%|██▉       | 217/750 [01:10<01:43,  5.16it/s]"
     ]
    },
    {
     "name": "stdout",
     "output_type": "stream",
     "text": [
      "[0, 1, 2, 3, 4, 5, 6, 7, 8, 9, 10, 11, 12, 13, 14]\n",
      "8248\n"
     ]
    },
    {
     "name": "stderr",
     "output_type": "stream",
     "text": [
      " 29%|██▉       | 218/750 [01:10<01:42,  5.19it/s]"
     ]
    },
    {
     "name": "stdout",
     "output_type": "stream",
     "text": [
      "[0, 1, 2, 3, 4, 5, 6, 7, 8, 9, 10, 11, 12, 13, 14]\n",
      "8290\n"
     ]
    },
    {
     "name": "stderr",
     "output_type": "stream",
     "text": [
      " 29%|██▉       | 219/750 [01:10<01:41,  5.21it/s]"
     ]
    },
    {
     "name": "stdout",
     "output_type": "stream",
     "text": [
      "[0, 1, 2, 3, 4, 5, 6, 7, 8, 9, 10, 11, 12, 13, 14]\n",
      "8327\n"
     ]
    },
    {
     "name": "stderr",
     "output_type": "stream",
     "text": [
      " 29%|██▉       | 220/750 [01:10<01:41,  5.20it/s]"
     ]
    },
    {
     "name": "stdout",
     "output_type": "stream",
     "text": [
      "[0, 1, 2, 3, 4, 5, 6, 7, 8, 9, 10, 11, 12, 13, 14]\n",
      "8368\n"
     ]
    },
    {
     "name": "stderr",
     "output_type": "stream",
     "text": [
      " 29%|██▉       | 221/750 [01:10<01:41,  5.22it/s]"
     ]
    },
    {
     "name": "stdout",
     "output_type": "stream",
     "text": [
      "[0, 1, 2, 3, 4, 5, 6, 7, 8, 9, 10, 11, 12, 13, 14]\n",
      "8407\n"
     ]
    },
    {
     "name": "stderr",
     "output_type": "stream",
     "text": [
      " 30%|██▉       | 222/750 [01:11<01:40,  5.25it/s]"
     ]
    },
    {
     "name": "stdout",
     "output_type": "stream",
     "text": [
      "[0, 1, 2, 3, 4, 5, 6, 7, 8, 9, 10, 11, 12, 13, 14]\n",
      "8445\n"
     ]
    },
    {
     "name": "stderr",
     "output_type": "stream",
     "text": [
      " 30%|██▉       | 223/750 [01:11<01:40,  5.25it/s]"
     ]
    },
    {
     "name": "stdout",
     "output_type": "stream",
     "text": [
      "[0, 1, 2, 3, 4, 5, 6, 7, 8, 9, 10, 11, 12, 13, 14]\n",
      "8484\n"
     ]
    },
    {
     "name": "stderr",
     "output_type": "stream",
     "text": [
      " 30%|██▉       | 224/750 [01:11<01:39,  5.26it/s]"
     ]
    },
    {
     "name": "stdout",
     "output_type": "stream",
     "text": [
      "[0, 1, 2, 3, 4, 5, 6, 7, 8, 9, 10, 11, 12, 13, 14]\n",
      "8519\n"
     ]
    },
    {
     "name": "stderr",
     "output_type": "stream",
     "text": [
      " 30%|███       | 225/750 [01:11<01:39,  5.30it/s]"
     ]
    },
    {
     "name": "stdout",
     "output_type": "stream",
     "text": [
      "[0, 1, 2, 3, 4, 5, 6, 7, 8, 9, 10, 11, 12, 13, 14]\n",
      "8557\n"
     ]
    },
    {
     "name": "stderr",
     "output_type": "stream",
     "text": [
      " 30%|███       | 226/750 [01:11<01:38,  5.31it/s]"
     ]
    },
    {
     "name": "stdout",
     "output_type": "stream",
     "text": [
      "[0, 1, 2, 3, 4, 5, 6, 7, 8, 9, 10, 11, 12, 13, 14]\n",
      "8594\n"
     ]
    },
    {
     "name": "stderr",
     "output_type": "stream",
     "text": [
      " 30%|███       | 227/750 [01:11<01:37,  5.34it/s]"
     ]
    },
    {
     "name": "stdout",
     "output_type": "stream",
     "text": [
      "[0, 1, 2, 3, 4, 5, 6, 7, 8, 9, 10, 11, 12, 13, 14]\n",
      "8635\n"
     ]
    },
    {
     "name": "stderr",
     "output_type": "stream",
     "text": [
      " 30%|███       | 228/750 [01:12<01:37,  5.36it/s]"
     ]
    },
    {
     "name": "stdout",
     "output_type": "stream",
     "text": [
      "[0, 1, 2, 3, 4, 5, 6, 7, 8, 9, 10, 11, 12, 13, 14]\n",
      "8671\n"
     ]
    },
    {
     "name": "stderr",
     "output_type": "stream",
     "text": [
      " 31%|███       | 229/750 [01:12<01:36,  5.38it/s]"
     ]
    },
    {
     "name": "stdout",
     "output_type": "stream",
     "text": [
      "[0, 1, 2, 3, 4, 5, 6, 7, 8, 9, 10, 11, 12, 13, 14]\n",
      "8714\n"
     ]
    },
    {
     "name": "stderr",
     "output_type": "stream",
     "text": [
      " 31%|███       | 230/750 [01:12<01:38,  5.28it/s]"
     ]
    },
    {
     "name": "stdout",
     "output_type": "stream",
     "text": [
      "[0, 1, 2, 3, 4, 5, 6, 7, 8, 9, 10, 11, 12, 13, 14]\n",
      "8752\n"
     ]
    },
    {
     "name": "stderr",
     "output_type": "stream",
     "text": [
      " 31%|███       | 231/750 [01:12<01:38,  5.28it/s]"
     ]
    },
    {
     "name": "stdout",
     "output_type": "stream",
     "text": [
      "[0, 1, 2, 3, 4, 5, 6, 7, 8, 9, 10, 11, 12, 13, 14]\n",
      "8795\n"
     ]
    },
    {
     "name": "stderr",
     "output_type": "stream",
     "text": [
      " 31%|███       | 232/750 [01:12<01:38,  5.27it/s]"
     ]
    },
    {
     "name": "stdout",
     "output_type": "stream",
     "text": [
      "[0, 1, 2, 3, 5, 6, 7, 8, 10, 11, 12, 13, 14]\n",
      "8831\n"
     ]
    },
    {
     "name": "stderr",
     "output_type": "stream",
     "text": [
      " 31%|███       | 233/750 [01:13<01:36,  5.34it/s]"
     ]
    },
    {
     "name": "stdout",
     "output_type": "stream",
     "text": [
      "[0, 1, 2, 3, 5, 6, 7, 8, 10, 11, 12, 13, 14]\n",
      "8869\n"
     ]
    },
    {
     "name": "stderr",
     "output_type": "stream",
     "text": [
      " 31%|███       | 234/750 [01:13<01:36,  5.37it/s]"
     ]
    },
    {
     "name": "stdout",
     "output_type": "stream",
     "text": [
      "[0, 1, 3, 5, 6, 7, 8, 10, 11, 12, 13, 14]\n",
      "8909\n"
     ]
    },
    {
     "name": "stderr",
     "output_type": "stream",
     "text": [
      " 31%|███▏      | 235/750 [01:13<01:36,  5.31it/s]"
     ]
    },
    {
     "name": "stdout",
     "output_type": "stream",
     "text": [
      "[0, 1, 3, 5, 6, 7, 8, 10, 11, 12, 13, 14]\n",
      "8947\n"
     ]
    },
    {
     "name": "stderr",
     "output_type": "stream",
     "text": [
      " 31%|███▏      | 236/750 [01:13<01:36,  5.34it/s]"
     ]
    },
    {
     "name": "stdout",
     "output_type": "stream",
     "text": [
      "[0, 1, 3, 5, 6, 7, 8, 10, 11, 12, 13, 14]\n",
      "8986\n"
     ]
    },
    {
     "name": "stderr",
     "output_type": "stream",
     "text": [
      " 32%|███▏      | 237/750 [01:13<01:37,  5.24it/s]"
     ]
    },
    {
     "name": "stdout",
     "output_type": "stream",
     "text": [
      "[0, 1, 3, 5, 6, 7, 8, 10, 11, 12, 13, 14]\n",
      "9023\n"
     ]
    },
    {
     "name": "stderr",
     "output_type": "stream",
     "text": [
      " 32%|███▏      | 238/750 [01:14<01:36,  5.29it/s]"
     ]
    },
    {
     "name": "stdout",
     "output_type": "stream",
     "text": [
      "[0, 1, 3, 5, 6, 7, 8, 11, 12, 13, 14]\n",
      "9061\n"
     ]
    },
    {
     "name": "stderr",
     "output_type": "stream",
     "text": [
      " 32%|███▏      | 239/750 [01:14<01:35,  5.33it/s]"
     ]
    },
    {
     "name": "stdout",
     "output_type": "stream",
     "text": [
      "[0, 1, 3, 5, 6, 7, 8, 11, 12, 13, 14]\n",
      "9097\n"
     ]
    },
    {
     "name": "stderr",
     "output_type": "stream",
     "text": [
      " 32%|███▏      | 240/750 [01:14<01:35,  5.34it/s]"
     ]
    },
    {
     "name": "stdout",
     "output_type": "stream",
     "text": [
      "[0, 1, 3, 5, 6, 7, 8, 11, 12, 13, 14]\n",
      "9134\n"
     ]
    },
    {
     "name": "stderr",
     "output_type": "stream",
     "text": [
      " 32%|███▏      | 241/750 [01:14<01:34,  5.38it/s]"
     ]
    },
    {
     "name": "stdout",
     "output_type": "stream",
     "text": [
      "[0, 1, 3, 5, 6, 7, 8, 11, 12, 13, 14]\n",
      "9173\n"
     ]
    },
    {
     "name": "stderr",
     "output_type": "stream",
     "text": [
      " 32%|███▏      | 242/750 [01:14<01:34,  5.38it/s]"
     ]
    },
    {
     "name": "stdout",
     "output_type": "stream",
     "text": [
      "[0, 1, 3, 5, 6, 7, 8, 11, 12, 13, 14]\n",
      "9210\n"
     ]
    },
    {
     "name": "stderr",
     "output_type": "stream",
     "text": [
      " 32%|███▏      | 243/750 [01:14<01:33,  5.41it/s]"
     ]
    },
    {
     "name": "stdout",
     "output_type": "stream",
     "text": [
      "[0, 1, 3, 5, 6, 7, 8, 11, 12, 13, 14]\n",
      "9247\n"
     ]
    },
    {
     "name": "stderr",
     "output_type": "stream",
     "text": [
      " 33%|███▎      | 244/750 [01:15<01:34,  5.38it/s]"
     ]
    },
    {
     "name": "stdout",
     "output_type": "stream",
     "text": [
      "[0, 1, 3, 5, 6, 7, 8, 11, 12, 13, 14]\n",
      "9285\n"
     ]
    },
    {
     "name": "stderr",
     "output_type": "stream",
     "text": [
      " 33%|███▎      | 245/750 [01:15<01:34,  5.34it/s]"
     ]
    },
    {
     "name": "stdout",
     "output_type": "stream",
     "text": [
      "[0, 1, 3, 5, 7, 8, 11, 12, 14]\n",
      "9325\n"
     ]
    },
    {
     "name": "stderr",
     "output_type": "stream",
     "text": [
      " 33%|███▎      | 246/750 [01:15<01:33,  5.37it/s]"
     ]
    },
    {
     "name": "stdout",
     "output_type": "stream",
     "text": [
      "[0, 1, 3, 5, 7, 8, 11, 12, 14]\n",
      "9360\n"
     ]
    },
    {
     "name": "stderr",
     "output_type": "stream",
     "text": [
      " 33%|███▎      | 247/750 [01:15<01:32,  5.46it/s]"
     ]
    },
    {
     "name": "stdout",
     "output_type": "stream",
     "text": [
      "[0, 3, 5, 7, 8, 11, 12, 14]\n",
      "9379\n"
     ]
    },
    {
     "name": "stderr",
     "output_type": "stream",
     "text": [
      " 33%|███▎      | 248/750 [01:15<01:31,  5.50it/s]"
     ]
    },
    {
     "name": "stdout",
     "output_type": "stream",
     "text": [
      "[0, 5, 8, 12, 14]\n",
      "9379\n"
     ]
    },
    {
     "name": "stderr",
     "output_type": "stream",
     "text": [
      " 33%|███▎      | 249/750 [01:16<01:29,  5.61it/s]"
     ]
    },
    {
     "name": "stdout",
     "output_type": "stream",
     "text": [
      "[0, 8, 12]\n",
      "9379\n"
     ]
    },
    {
     "name": "stderr",
     "output_type": "stream",
     "text": [
      " 33%|███▎      | 250/750 [01:16<01:28,  5.64it/s]"
     ]
    },
    {
     "name": "stdout",
     "output_type": "stream",
     "text": [
      "[0, 8, 12]\n",
      "9379\n"
     ]
    },
    {
     "name": "stderr",
     "output_type": "stream",
     "text": [
      " 33%|███▎      | 251/750 [01:16<01:27,  5.69it/s]"
     ]
    },
    {
     "name": "stdout",
     "output_type": "stream",
     "text": [
      "[12]\n",
      "9379\n"
     ]
    },
    {
     "name": "stderr",
     "output_type": "stream",
     "text": [
      " 34%|███▎      | 252/750 [01:16<01:26,  5.73it/s]"
     ]
    },
    {
     "name": "stdout",
     "output_type": "stream",
     "text": [
      "[12]\n",
      "9379\n"
     ]
    },
    {
     "name": "stderr",
     "output_type": "stream",
     "text": [
      " 34%|███▎      | 253/750 [01:16<01:26,  5.76it/s]"
     ]
    },
    {
     "name": "stdout",
     "output_type": "stream",
     "text": [
      "[12]\n",
      "9379\n"
     ]
    },
    {
     "name": "stderr",
     "output_type": "stream",
     "text": [
      " 34%|███▍      | 254/750 [01:16<01:26,  5.73it/s]"
     ]
    },
    {
     "name": "stdout",
     "output_type": "stream",
     "text": [
      "[12]\n",
      "9379\n"
     ]
    },
    {
     "name": "stderr",
     "output_type": "stream",
     "text": [
      " 34%|███▍      | 255/750 [01:17<01:26,  5.73it/s]"
     ]
    },
    {
     "name": "stdout",
     "output_type": "stream",
     "text": [
      "[12]\n",
      "9379\n"
     ]
    },
    {
     "name": "stderr",
     "output_type": "stream",
     "text": [
      " 34%|███▍      | 256/750 [01:17<01:27,  5.68it/s]"
     ]
    },
    {
     "name": "stdout",
     "output_type": "stream",
     "text": [
      "[12]\n",
      "9379\n"
     ]
    },
    {
     "name": "stderr",
     "output_type": "stream",
     "text": [
      " 34%|███▍      | 257/750 [01:17<01:27,  5.66it/s]"
     ]
    },
    {
     "name": "stdout",
     "output_type": "stream",
     "text": [
      "[12]\n",
      "9379\n"
     ]
    },
    {
     "name": "stderr",
     "output_type": "stream",
     "text": [
      " 34%|███▍      | 258/750 [01:17<01:28,  5.55it/s]"
     ]
    },
    {
     "name": "stdout",
     "output_type": "stream",
     "text": [
      "[12]\n",
      "9379\n"
     ]
    },
    {
     "name": "stderr",
     "output_type": "stream",
     "text": [
      " 35%|███▍      | 259/750 [01:17<01:28,  5.57it/s]"
     ]
    },
    {
     "name": "stdout",
     "output_type": "stream",
     "text": [
      "[12]\n",
      "9379\n"
     ]
    },
    {
     "name": "stderr",
     "output_type": "stream",
     "text": [
      " 35%|███▍      | 260/750 [01:17<01:27,  5.58it/s]"
     ]
    },
    {
     "name": "stdout",
     "output_type": "stream",
     "text": [
      "[12]\n",
      "9379\n"
     ]
    },
    {
     "name": "stderr",
     "output_type": "stream",
     "text": [
      " 35%|███▍      | 261/750 [01:18<01:27,  5.57it/s]"
     ]
    },
    {
     "name": "stdout",
     "output_type": "stream",
     "text": [
      "[12]\n",
      "9379\n"
     ]
    },
    {
     "name": "stderr",
     "output_type": "stream",
     "text": [
      " 35%|███▍      | 262/750 [01:18<01:27,  5.61it/s]"
     ]
    },
    {
     "name": "stdout",
     "output_type": "stream",
     "text": [
      "[12]\n",
      "9379\n"
     ]
    },
    {
     "name": "stderr",
     "output_type": "stream",
     "text": [
      " 35%|███▌      | 263/750 [01:18<01:27,  5.59it/s]"
     ]
    },
    {
     "name": "stdout",
     "output_type": "stream",
     "text": [
      "[12]\n",
      "9379\n"
     ]
    },
    {
     "name": "stderr",
     "output_type": "stream",
     "text": [
      " 35%|███▌      | 264/750 [01:18<01:26,  5.62it/s]"
     ]
    },
    {
     "name": "stdout",
     "output_type": "stream",
     "text": [
      "[12]\n",
      "9379\n"
     ]
    },
    {
     "name": "stderr",
     "output_type": "stream",
     "text": [
      " 35%|███▌      | 265/750 [01:18<01:25,  5.65it/s]"
     ]
    },
    {
     "name": "stdout",
     "output_type": "stream",
     "text": [
      "[12]\n",
      "9379\n"
     ]
    },
    {
     "name": "stderr",
     "output_type": "stream",
     "text": [
      " 35%|███▌      | 266/750 [01:19<01:25,  5.65it/s]"
     ]
    },
    {
     "name": "stdout",
     "output_type": "stream",
     "text": [
      "[12]\n",
      "9379\n"
     ]
    },
    {
     "name": "stderr",
     "output_type": "stream",
     "text": [
      " 36%|███▌      | 267/750 [01:19<01:26,  5.55it/s]"
     ]
    },
    {
     "name": "stdout",
     "output_type": "stream",
     "text": [
      "[12]\n",
      "9379\n"
     ]
    },
    {
     "name": "stderr",
     "output_type": "stream",
     "text": [
      " 36%|███▌      | 268/750 [01:19<01:25,  5.64it/s]"
     ]
    },
    {
     "name": "stdout",
     "output_type": "stream",
     "text": [
      "[12]\n",
      "9379\n"
     ]
    },
    {
     "name": "stderr",
     "output_type": "stream",
     "text": [
      " 36%|███▌      | 269/750 [01:19<01:24,  5.70it/s]"
     ]
    },
    {
     "name": "stdout",
     "output_type": "stream",
     "text": [
      "[12]\n",
      "9379\n"
     ]
    },
    {
     "name": "stderr",
     "output_type": "stream",
     "text": [
      " 36%|███▌      | 270/750 [01:19<01:23,  5.73it/s]"
     ]
    },
    {
     "name": "stdout",
     "output_type": "stream",
     "text": [
      "[12]\n",
      "9379\n"
     ]
    },
    {
     "name": "stderr",
     "output_type": "stream",
     "text": [
      " 36%|███▌      | 271/750 [01:19<01:24,  5.68it/s]"
     ]
    },
    {
     "name": "stdout",
     "output_type": "stream",
     "text": [
      "[12]\n",
      "9379\n"
     ]
    },
    {
     "name": "stderr",
     "output_type": "stream",
     "text": [
      " 36%|███▋      | 272/750 [01:20<01:24,  5.67it/s]"
     ]
    },
    {
     "name": "stdout",
     "output_type": "stream",
     "text": [
      "[12]\n",
      "9379\n"
     ]
    },
    {
     "name": "stderr",
     "output_type": "stream",
     "text": [
      " 36%|███▋      | 273/750 [01:20<01:24,  5.67it/s]"
     ]
    },
    {
     "name": "stdout",
     "output_type": "stream",
     "text": [
      "[12]\n",
      "9379\n"
     ]
    },
    {
     "name": "stderr",
     "output_type": "stream",
     "text": [
      " 37%|███▋      | 274/750 [01:20<01:23,  5.67it/s]"
     ]
    },
    {
     "name": "stdout",
     "output_type": "stream",
     "text": [
      "[12]\n",
      "9379\n"
     ]
    },
    {
     "name": "stderr",
     "output_type": "stream",
     "text": [
      " 37%|███▋      | 275/750 [01:20<01:24,  5.61it/s]"
     ]
    },
    {
     "name": "stdout",
     "output_type": "stream",
     "text": [
      "[12]\n",
      "9379\n"
     ]
    },
    {
     "name": "stderr",
     "output_type": "stream",
     "text": [
      " 37%|███▋      | 276/750 [01:20<01:24,  5.61it/s]"
     ]
    },
    {
     "name": "stdout",
     "output_type": "stream",
     "text": [
      "[12]\n",
      "9379\n"
     ]
    },
    {
     "name": "stderr",
     "output_type": "stream",
     "text": [
      " 37%|███▋      | 277/750 [01:21<01:24,  5.60it/s]"
     ]
    },
    {
     "name": "stdout",
     "output_type": "stream",
     "text": [
      "[12]\n",
      "9379\n"
     ]
    },
    {
     "name": "stderr",
     "output_type": "stream",
     "text": [
      " 37%|███▋      | 278/750 [01:21<01:24,  5.59it/s]"
     ]
    },
    {
     "name": "stdout",
     "output_type": "stream",
     "text": [
      "[12]\n",
      "9379\n"
     ]
    },
    {
     "name": "stderr",
     "output_type": "stream",
     "text": [
      " 37%|███▋      | 279/750 [01:21<01:24,  5.60it/s]"
     ]
    },
    {
     "name": "stdout",
     "output_type": "stream",
     "text": [
      "[12]\n",
      "9379\n"
     ]
    },
    {
     "name": "stderr",
     "output_type": "stream",
     "text": [
      " 37%|███▋      | 280/750 [01:21<01:23,  5.66it/s]"
     ]
    },
    {
     "name": "stdout",
     "output_type": "stream",
     "text": [
      "[12]\n",
      "9379\n"
     ]
    },
    {
     "name": "stderr",
     "output_type": "stream",
     "text": [
      " 37%|███▋      | 281/750 [01:21<01:22,  5.68it/s]"
     ]
    },
    {
     "name": "stdout",
     "output_type": "stream",
     "text": [
      "[12]\n",
      "9379\n"
     ]
    },
    {
     "name": "stderr",
     "output_type": "stream",
     "text": [
      " 38%|███▊      | 282/750 [01:21<01:21,  5.73it/s]"
     ]
    },
    {
     "name": "stdout",
     "output_type": "stream",
     "text": [
      "[12]\n",
      "9379\n"
     ]
    },
    {
     "name": "stderr",
     "output_type": "stream",
     "text": [
      " 38%|███▊      | 283/750 [01:22<01:21,  5.70it/s]"
     ]
    },
    {
     "name": "stdout",
     "output_type": "stream",
     "text": [
      "[12]\n",
      "9379\n"
     ]
    },
    {
     "name": "stderr",
     "output_type": "stream",
     "text": [
      " 38%|███▊      | 284/750 [01:22<01:21,  5.73it/s]"
     ]
    },
    {
     "name": "stdout",
     "output_type": "stream",
     "text": [
      "[12]\n",
      "9379\n"
     ]
    },
    {
     "name": "stderr",
     "output_type": "stream",
     "text": [
      " 38%|███▊      | 285/750 [01:22<01:20,  5.75it/s]"
     ]
    },
    {
     "name": "stdout",
     "output_type": "stream",
     "text": [
      "[12]\n",
      "9379\n"
     ]
    },
    {
     "name": "stderr",
     "output_type": "stream",
     "text": [
      " 38%|███▊      | 286/750 [01:22<01:20,  5.77it/s]"
     ]
    },
    {
     "name": "stdout",
     "output_type": "stream",
     "text": [
      "[12]\n",
      "9379\n"
     ]
    },
    {
     "name": "stderr",
     "output_type": "stream",
     "text": [
      " 38%|███▊      | 287/750 [01:22<01:20,  5.78it/s]"
     ]
    },
    {
     "name": "stdout",
     "output_type": "stream",
     "text": [
      "[12]\n",
      "9379\n"
     ]
    },
    {
     "name": "stderr",
     "output_type": "stream",
     "text": [
      " 38%|███▊      | 288/750 [01:22<01:19,  5.78it/s]"
     ]
    },
    {
     "name": "stdout",
     "output_type": "stream",
     "text": [
      "[12]\n",
      "9379\n"
     ]
    },
    {
     "name": "stderr",
     "output_type": "stream",
     "text": [
      " 39%|███▊      | 289/750 [01:23<01:19,  5.81it/s]"
     ]
    },
    {
     "name": "stdout",
     "output_type": "stream",
     "text": [
      "[12]\n",
      "9379\n"
     ]
    },
    {
     "name": "stderr",
     "output_type": "stream",
     "text": [
      " 39%|███▊      | 290/750 [01:23<01:20,  5.73it/s]"
     ]
    },
    {
     "name": "stdout",
     "output_type": "stream",
     "text": [
      "[12]\n",
      "9379\n"
     ]
    },
    {
     "name": "stderr",
     "output_type": "stream",
     "text": [
      " 39%|███▉      | 291/750 [01:23<01:21,  5.63it/s]"
     ]
    },
    {
     "name": "stdout",
     "output_type": "stream",
     "text": [
      "[12]\n",
      "9379\n"
     ]
    },
    {
     "name": "stderr",
     "output_type": "stream",
     "text": [
      " 39%|███▉      | 292/750 [01:23<01:21,  5.63it/s]"
     ]
    },
    {
     "name": "stdout",
     "output_type": "stream",
     "text": [
      "[12]\n",
      "9379\n"
     ]
    },
    {
     "name": "stderr",
     "output_type": "stream",
     "text": [
      " 39%|███▉      | 293/750 [01:23<01:20,  5.67it/s]"
     ]
    },
    {
     "name": "stdout",
     "output_type": "stream",
     "text": [
      "[12]\n",
      "9379\n"
     ]
    },
    {
     "name": "stderr",
     "output_type": "stream",
     "text": [
      " 39%|███▉      | 294/750 [01:23<01:20,  5.68it/s]"
     ]
    },
    {
     "name": "stdout",
     "output_type": "stream",
     "text": [
      "[12]\n",
      "9379\n"
     ]
    },
    {
     "name": "stderr",
     "output_type": "stream",
     "text": [
      " 39%|███▉      | 295/750 [01:24<01:20,  5.66it/s]"
     ]
    },
    {
     "name": "stdout",
     "output_type": "stream",
     "text": [
      "[12]\n",
      "9379\n"
     ]
    },
    {
     "name": "stderr",
     "output_type": "stream",
     "text": [
      " 39%|███▉      | 296/750 [01:24<01:21,  5.60it/s]"
     ]
    },
    {
     "name": "stdout",
     "output_type": "stream",
     "text": [
      "[12]\n",
      "9379\n"
     ]
    },
    {
     "name": "stderr",
     "output_type": "stream",
     "text": [
      " 40%|███▉      | 297/750 [01:24<01:20,  5.61it/s]"
     ]
    },
    {
     "name": "stdout",
     "output_type": "stream",
     "text": [
      "[12]\n",
      "9379\n"
     ]
    },
    {
     "name": "stderr",
     "output_type": "stream",
     "text": [
      " 40%|███▉      | 298/750 [01:24<01:20,  5.58it/s]"
     ]
    },
    {
     "name": "stdout",
     "output_type": "stream",
     "text": [
      "[12]\n",
      "9379\n"
     ]
    },
    {
     "name": "stderr",
     "output_type": "stream",
     "text": [
      " 40%|███▉      | 299/750 [01:24<01:20,  5.59it/s]"
     ]
    },
    {
     "name": "stdout",
     "output_type": "stream",
     "text": [
      "[12]\n",
      "9379\n"
     ]
    },
    {
     "name": "stderr",
     "output_type": "stream",
     "text": [
      " 40%|████      | 300/750 [01:25<01:20,  5.56it/s]"
     ]
    },
    {
     "name": "stdout",
     "output_type": "stream",
     "text": [
      "[12]\n",
      "9379\n"
     ]
    },
    {
     "name": "stderr",
     "output_type": "stream",
     "text": [
      " 40%|████      | 301/750 [01:25<01:20,  5.59it/s]"
     ]
    },
    {
     "name": "stdout",
     "output_type": "stream",
     "text": [
      "[12]\n",
      "9379\n"
     ]
    },
    {
     "name": "stderr",
     "output_type": "stream",
     "text": [
      " 40%|████      | 302/750 [01:25<01:19,  5.62it/s]"
     ]
    },
    {
     "name": "stdout",
     "output_type": "stream",
     "text": [
      "[12]\n",
      "9379\n"
     ]
    },
    {
     "name": "stderr",
     "output_type": "stream",
     "text": [
      " 40%|████      | 303/750 [01:25<01:19,  5.60it/s]"
     ]
    },
    {
     "name": "stdout",
     "output_type": "stream",
     "text": [
      "[12]\n",
      "9379\n"
     ]
    },
    {
     "name": "stderr",
     "output_type": "stream",
     "text": [
      " 41%|████      | 304/750 [01:25<01:19,  5.59it/s]"
     ]
    },
    {
     "name": "stdout",
     "output_type": "stream",
     "text": [
      "[12]\n",
      "9379\n"
     ]
    },
    {
     "name": "stderr",
     "output_type": "stream",
     "text": [
      " 41%|████      | 305/750 [01:25<01:20,  5.54it/s]"
     ]
    },
    {
     "name": "stdout",
     "output_type": "stream",
     "text": [
      "[12]\n",
      "9379\n"
     ]
    },
    {
     "name": "stderr",
     "output_type": "stream",
     "text": [
      " 41%|████      | 306/750 [01:26<01:20,  5.54it/s]"
     ]
    },
    {
     "name": "stdout",
     "output_type": "stream",
     "text": [
      "[12]\n",
      "9379\n"
     ]
    },
    {
     "name": "stderr",
     "output_type": "stream",
     "text": [
      " 41%|████      | 307/750 [01:26<01:19,  5.56it/s]"
     ]
    },
    {
     "name": "stdout",
     "output_type": "stream",
     "text": [
      "[12]\n",
      "9379\n"
     ]
    },
    {
     "name": "stderr",
     "output_type": "stream",
     "text": [
      " 41%|████      | 308/750 [01:26<01:20,  5.51it/s]"
     ]
    },
    {
     "name": "stdout",
     "output_type": "stream",
     "text": [
      "[12]\n",
      "9379\n"
     ]
    },
    {
     "name": "stderr",
     "output_type": "stream",
     "text": [
      " 41%|████      | 309/750 [01:26<01:20,  5.50it/s]"
     ]
    },
    {
     "name": "stdout",
     "output_type": "stream",
     "text": [
      "[12]\n",
      "9379\n"
     ]
    },
    {
     "name": "stderr",
     "output_type": "stream",
     "text": [
      " 41%|████▏     | 310/750 [01:26<01:19,  5.54it/s]"
     ]
    },
    {
     "name": "stdout",
     "output_type": "stream",
     "text": [
      "[12]\n",
      "9379\n"
     ]
    },
    {
     "name": "stderr",
     "output_type": "stream",
     "text": [
      " 41%|████▏     | 311/750 [01:27<01:19,  5.53it/s]"
     ]
    },
    {
     "name": "stdout",
     "output_type": "stream",
     "text": [
      "[12]\n",
      "9379\n"
     ]
    },
    {
     "name": "stderr",
     "output_type": "stream",
     "text": [
      " 42%|████▏     | 312/750 [01:27<01:18,  5.56it/s]"
     ]
    },
    {
     "name": "stdout",
     "output_type": "stream",
     "text": [
      "[12]\n",
      "9379\n"
     ]
    },
    {
     "name": "stderr",
     "output_type": "stream",
     "text": [
      " 42%|████▏     | 313/750 [01:27<01:18,  5.55it/s]"
     ]
    },
    {
     "name": "stdout",
     "output_type": "stream",
     "text": [
      "[12]\n",
      "9379\n"
     ]
    },
    {
     "name": "stderr",
     "output_type": "stream",
     "text": [
      " 42%|████▏     | 314/750 [01:27<01:18,  5.53it/s]"
     ]
    },
    {
     "name": "stdout",
     "output_type": "stream",
     "text": [
      "[12]\n",
      "9379\n"
     ]
    },
    {
     "name": "stderr",
     "output_type": "stream",
     "text": [
      " 42%|████▏     | 315/750 [01:27<01:18,  5.52it/s]"
     ]
    },
    {
     "name": "stdout",
     "output_type": "stream",
     "text": [
      "[12]\n",
      "9379\n"
     ]
    },
    {
     "name": "stderr",
     "output_type": "stream",
     "text": [
      " 42%|████▏     | 316/750 [01:27<01:18,  5.53it/s]"
     ]
    },
    {
     "name": "stdout",
     "output_type": "stream",
     "text": [
      "[12]\n",
      "9379\n"
     ]
    },
    {
     "name": "stderr",
     "output_type": "stream",
     "text": [
      " 42%|████▏     | 317/750 [01:28<01:17,  5.56it/s]"
     ]
    },
    {
     "name": "stdout",
     "output_type": "stream",
     "text": [
      "[12]\n",
      "9379\n"
     ]
    },
    {
     "name": "stderr",
     "output_type": "stream",
     "text": [
      " 42%|████▏     | 318/750 [01:28<01:17,  5.56it/s]"
     ]
    },
    {
     "name": "stdout",
     "output_type": "stream",
     "text": [
      "[12]\n",
      "9379\n"
     ]
    },
    {
     "name": "stderr",
     "output_type": "stream",
     "text": [
      " 43%|████▎     | 319/750 [01:28<01:18,  5.52it/s]"
     ]
    },
    {
     "name": "stdout",
     "output_type": "stream",
     "text": [
      "[12]\n",
      "9379\n"
     ]
    },
    {
     "name": "stderr",
     "output_type": "stream",
     "text": [
      " 43%|████▎     | 320/750 [01:28<01:17,  5.52it/s]"
     ]
    },
    {
     "name": "stdout",
     "output_type": "stream",
     "text": [
      "[12]\n",
      "9379\n"
     ]
    },
    {
     "name": "stderr",
     "output_type": "stream",
     "text": [
      " 43%|████▎     | 321/750 [01:28<01:18,  5.47it/s]"
     ]
    },
    {
     "name": "stdout",
     "output_type": "stream",
     "text": [
      "[12]\n",
      "9379\n"
     ]
    },
    {
     "name": "stderr",
     "output_type": "stream",
     "text": [
      " 43%|████▎     | 322/750 [01:29<01:17,  5.53it/s]"
     ]
    },
    {
     "name": "stdout",
     "output_type": "stream",
     "text": [
      "[12]\n",
      "9379\n"
     ]
    },
    {
     "name": "stderr",
     "output_type": "stream",
     "text": [
      " 43%|████▎     | 323/750 [01:29<01:17,  5.53it/s]"
     ]
    },
    {
     "name": "stdout",
     "output_type": "stream",
     "text": [
      "[12]\n",
      "9379\n"
     ]
    },
    {
     "name": "stderr",
     "output_type": "stream",
     "text": [
      " 43%|████▎     | 324/750 [01:29<01:17,  5.48it/s]"
     ]
    },
    {
     "name": "stdout",
     "output_type": "stream",
     "text": [
      "[12]\n",
      "9379\n"
     ]
    },
    {
     "name": "stderr",
     "output_type": "stream",
     "text": [
      " 43%|████▎     | 325/750 [01:29<01:17,  5.50it/s]"
     ]
    },
    {
     "name": "stdout",
     "output_type": "stream",
     "text": [
      "[12]\n",
      "9379\n"
     ]
    },
    {
     "name": "stderr",
     "output_type": "stream",
     "text": [
      " 43%|████▎     | 326/750 [01:29<01:17,  5.48it/s]"
     ]
    },
    {
     "name": "stdout",
     "output_type": "stream",
     "text": [
      "[12]\n",
      "9379\n"
     ]
    },
    {
     "name": "stderr",
     "output_type": "stream",
     "text": [
      " 44%|████▎     | 327/750 [01:29<01:17,  5.49it/s]"
     ]
    },
    {
     "name": "stdout",
     "output_type": "stream",
     "text": [
      "[12]\n",
      "9379\n"
     ]
    },
    {
     "name": "stderr",
     "output_type": "stream",
     "text": [
      " 44%|████▎     | 328/750 [01:30<01:16,  5.52it/s]"
     ]
    },
    {
     "name": "stdout",
     "output_type": "stream",
     "text": [
      "[12]\n",
      "9379\n"
     ]
    },
    {
     "name": "stderr",
     "output_type": "stream",
     "text": [
      " 44%|████▍     | 329/750 [01:30<01:16,  5.50it/s]"
     ]
    },
    {
     "name": "stdout",
     "output_type": "stream",
     "text": [
      "[12]\n",
      "9379\n"
     ]
    },
    {
     "name": "stderr",
     "output_type": "stream",
     "text": [
      " 44%|████▍     | 330/750 [01:30<01:16,  5.50it/s]"
     ]
    },
    {
     "name": "stdout",
     "output_type": "stream",
     "text": [
      "[12]\n",
      "9379\n"
     ]
    },
    {
     "name": "stderr",
     "output_type": "stream",
     "text": [
      " 44%|████▍     | 331/750 [01:30<01:16,  5.51it/s]"
     ]
    },
    {
     "name": "stdout",
     "output_type": "stream",
     "text": [
      "[12]\n",
      "9379\n"
     ]
    },
    {
     "name": "stderr",
     "output_type": "stream",
     "text": [
      " 44%|████▍     | 332/750 [01:30<01:15,  5.55it/s]"
     ]
    },
    {
     "name": "stdout",
     "output_type": "stream",
     "text": [
      "[12]\n",
      "9379\n"
     ]
    },
    {
     "name": "stderr",
     "output_type": "stream",
     "text": [
      " 44%|████▍     | 333/750 [01:31<01:15,  5.53it/s]"
     ]
    },
    {
     "name": "stdout",
     "output_type": "stream",
     "text": [
      "[12]\n",
      "9379\n"
     ]
    },
    {
     "name": "stderr",
     "output_type": "stream",
     "text": [
      " 45%|████▍     | 334/750 [01:31<01:15,  5.51it/s]"
     ]
    },
    {
     "name": "stdout",
     "output_type": "stream",
     "text": [
      "[12]\n",
      "9379\n"
     ]
    },
    {
     "name": "stderr",
     "output_type": "stream",
     "text": [
      " 45%|████▍     | 335/750 [01:31<01:15,  5.49it/s]"
     ]
    },
    {
     "name": "stdout",
     "output_type": "stream",
     "text": [
      "[12]\n",
      "9379\n"
     ]
    },
    {
     "name": "stderr",
     "output_type": "stream",
     "text": [
      " 45%|████▍     | 336/750 [01:31<01:15,  5.49it/s]"
     ]
    },
    {
     "name": "stdout",
     "output_type": "stream",
     "text": [
      "[12]\n",
      "9379\n"
     ]
    },
    {
     "name": "stderr",
     "output_type": "stream",
     "text": [
      " 45%|████▍     | 337/750 [01:31<01:14,  5.52it/s]"
     ]
    },
    {
     "name": "stdout",
     "output_type": "stream",
     "text": [
      "[12]\n",
      "9379\n"
     ]
    },
    {
     "name": "stderr",
     "output_type": "stream",
     "text": [
      " 45%|████▌     | 338/750 [01:31<01:15,  5.48it/s]"
     ]
    },
    {
     "name": "stdout",
     "output_type": "stream",
     "text": [
      "[12]\n",
      "9379\n"
     ]
    },
    {
     "name": "stderr",
     "output_type": "stream",
     "text": [
      " 45%|████▌     | 339/750 [01:32<01:14,  5.52it/s]"
     ]
    },
    {
     "name": "stdout",
     "output_type": "stream",
     "text": [
      "[12]\n",
      "9379\n"
     ]
    },
    {
     "name": "stderr",
     "output_type": "stream",
     "text": [
      " 45%|████▌     | 340/750 [01:32<01:14,  5.51it/s]"
     ]
    },
    {
     "name": "stdout",
     "output_type": "stream",
     "text": [
      "[12]\n",
      "9379\n"
     ]
    },
    {
     "name": "stderr",
     "output_type": "stream",
     "text": [
      " 45%|████▌     | 341/750 [01:32<01:14,  5.47it/s]"
     ]
    },
    {
     "name": "stdout",
     "output_type": "stream",
     "text": [
      "[12]\n",
      "9379\n"
     ]
    },
    {
     "name": "stderr",
     "output_type": "stream",
     "text": [
      " 46%|████▌     | 342/750 [01:32<01:14,  5.51it/s]"
     ]
    },
    {
     "name": "stdout",
     "output_type": "stream",
     "text": [
      "[12]\n",
      "9379\n"
     ]
    },
    {
     "name": "stderr",
     "output_type": "stream",
     "text": [
      " 46%|████▌     | 343/750 [01:32<01:13,  5.56it/s]"
     ]
    },
    {
     "name": "stdout",
     "output_type": "stream",
     "text": [
      "[12]\n",
      "9379\n"
     ]
    },
    {
     "name": "stderr",
     "output_type": "stream",
     "text": [
      " 46%|████▌     | 344/750 [01:33<01:12,  5.60it/s]"
     ]
    },
    {
     "name": "stdout",
     "output_type": "stream",
     "text": [
      "[12]\n",
      "9379\n"
     ]
    },
    {
     "name": "stderr",
     "output_type": "stream",
     "text": [
      " 46%|████▌     | 345/750 [01:33<01:11,  5.65it/s]"
     ]
    },
    {
     "name": "stdout",
     "output_type": "stream",
     "text": [
      "[12]\n",
      "9379\n"
     ]
    },
    {
     "name": "stderr",
     "output_type": "stream",
     "text": [
      " 46%|████▌     | 346/750 [01:33<01:12,  5.58it/s]"
     ]
    },
    {
     "name": "stdout",
     "output_type": "stream",
     "text": [
      "[12]\n",
      "9379\n"
     ]
    },
    {
     "name": "stderr",
     "output_type": "stream",
     "text": [
      " 46%|████▋     | 347/750 [01:33<01:13,  5.50it/s]"
     ]
    },
    {
     "name": "stdout",
     "output_type": "stream",
     "text": [
      "[12]\n",
      "9379\n"
     ]
    },
    {
     "name": "stderr",
     "output_type": "stream",
     "text": [
      " 46%|████▋     | 348/750 [01:33<01:12,  5.52it/s]"
     ]
    },
    {
     "name": "stdout",
     "output_type": "stream",
     "text": [
      "[12]\n",
      "9379\n"
     ]
    },
    {
     "name": "stderr",
     "output_type": "stream",
     "text": [
      " 47%|████▋     | 349/750 [01:33<01:12,  5.53it/s]"
     ]
    },
    {
     "name": "stdout",
     "output_type": "stream",
     "text": [
      "[12]\n",
      "9379\n"
     ]
    },
    {
     "name": "stderr",
     "output_type": "stream",
     "text": [
      " 47%|████▋     | 350/750 [01:34<01:13,  5.45it/s]"
     ]
    },
    {
     "name": "stdout",
     "output_type": "stream",
     "text": [
      "[12]\n",
      "9379\n"
     ]
    },
    {
     "name": "stderr",
     "output_type": "stream",
     "text": [
      " 47%|████▋     | 351/750 [01:34<01:13,  5.46it/s]"
     ]
    },
    {
     "name": "stdout",
     "output_type": "stream",
     "text": [
      "[12]\n",
      "9379\n"
     ]
    },
    {
     "name": "stderr",
     "output_type": "stream",
     "text": [
      " 47%|████▋     | 352/750 [01:34<01:12,  5.47it/s]"
     ]
    },
    {
     "name": "stdout",
     "output_type": "stream",
     "text": [
      "[12]\n",
      "9379\n"
     ]
    },
    {
     "name": "stderr",
     "output_type": "stream",
     "text": [
      " 47%|████▋     | 353/750 [01:34<01:13,  5.40it/s]"
     ]
    },
    {
     "name": "stdout",
     "output_type": "stream",
     "text": [
      "[12]\n",
      "9379\n"
     ]
    },
    {
     "name": "stderr",
     "output_type": "stream",
     "text": [
      " 47%|████▋     | 354/750 [01:34<01:12,  5.44it/s]"
     ]
    },
    {
     "name": "stdout",
     "output_type": "stream",
     "text": [
      "[12]\n",
      "9379\n"
     ]
    },
    {
     "name": "stderr",
     "output_type": "stream",
     "text": [
      " 47%|████▋     | 355/750 [01:35<01:13,  5.38it/s]"
     ]
    },
    {
     "name": "stdout",
     "output_type": "stream",
     "text": [
      "[12]\n",
      "9379\n"
     ]
    },
    {
     "name": "stderr",
     "output_type": "stream",
     "text": [
      " 47%|████▋     | 356/750 [01:35<01:12,  5.45it/s]"
     ]
    },
    {
     "name": "stdout",
     "output_type": "stream",
     "text": [
      "[12]\n",
      "9379\n"
     ]
    },
    {
     "name": "stderr",
     "output_type": "stream",
     "text": [
      " 48%|████▊     | 357/750 [01:35<01:12,  5.45it/s]"
     ]
    },
    {
     "name": "stdout",
     "output_type": "stream",
     "text": [
      "[12]\n",
      "9379\n"
     ]
    },
    {
     "name": "stderr",
     "output_type": "stream",
     "text": [
      " 48%|████▊     | 358/750 [01:35<01:11,  5.47it/s]"
     ]
    },
    {
     "name": "stdout",
     "output_type": "stream",
     "text": [
      "[12]\n",
      "9379\n"
     ]
    },
    {
     "name": "stderr",
     "output_type": "stream",
     "text": [
      " 48%|████▊     | 359/750 [01:35<01:12,  5.39it/s]"
     ]
    },
    {
     "name": "stdout",
     "output_type": "stream",
     "text": [
      "[12]\n",
      "9379\n"
     ]
    },
    {
     "name": "stderr",
     "output_type": "stream",
     "text": [
      " 48%|████▊     | 360/750 [01:35<01:12,  5.35it/s]"
     ]
    },
    {
     "name": "stdout",
     "output_type": "stream",
     "text": [
      "[12]\n",
      "9379\n"
     ]
    },
    {
     "name": "stderr",
     "output_type": "stream",
     "text": [
      " 48%|████▊     | 361/750 [01:36<01:12,  5.37it/s]"
     ]
    },
    {
     "name": "stdout",
     "output_type": "stream",
     "text": [
      "[12]\n",
      "9379\n"
     ]
    },
    {
     "name": "stderr",
     "output_type": "stream",
     "text": [
      " 48%|████▊     | 362/750 [01:36<01:11,  5.43it/s]"
     ]
    },
    {
     "name": "stdout",
     "output_type": "stream",
     "text": [
      "[12]\n",
      "9379\n"
     ]
    },
    {
     "name": "stderr",
     "output_type": "stream",
     "text": [
      " 48%|████▊     | 363/750 [01:36<01:10,  5.49it/s]"
     ]
    },
    {
     "name": "stdout",
     "output_type": "stream",
     "text": [
      "[12]\n",
      "9379\n"
     ]
    },
    {
     "name": "stderr",
     "output_type": "stream",
     "text": [
      " 49%|████▊     | 364/750 [01:36<01:10,  5.51it/s]"
     ]
    },
    {
     "name": "stdout",
     "output_type": "stream",
     "text": [
      "[12]\n",
      "9379\n"
     ]
    },
    {
     "name": "stderr",
     "output_type": "stream",
     "text": [
      " 49%|████▊     | 365/750 [01:36<01:09,  5.56it/s]"
     ]
    },
    {
     "name": "stdout",
     "output_type": "stream",
     "text": [
      "[12]\n",
      "9379\n"
     ]
    },
    {
     "name": "stderr",
     "output_type": "stream",
     "text": [
      " 49%|████▉     | 366/750 [01:37<01:08,  5.59it/s]"
     ]
    },
    {
     "name": "stdout",
     "output_type": "stream",
     "text": [
      "[12]\n",
      "9379\n"
     ]
    },
    {
     "name": "stderr",
     "output_type": "stream",
     "text": [
      " 49%|████▉     | 367/750 [01:37<01:08,  5.60it/s]"
     ]
    },
    {
     "name": "stdout",
     "output_type": "stream",
     "text": [
      "[12]\n",
      "9379\n"
     ]
    },
    {
     "name": "stderr",
     "output_type": "stream",
     "text": [
      " 49%|████▉     | 368/750 [01:37<01:08,  5.59it/s]"
     ]
    },
    {
     "name": "stdout",
     "output_type": "stream",
     "text": [
      "[12]\n",
      "9379\n"
     ]
    },
    {
     "name": "stderr",
     "output_type": "stream",
     "text": [
      " 49%|████▉     | 369/750 [01:37<01:08,  5.56it/s]"
     ]
    },
    {
     "name": "stdout",
     "output_type": "stream",
     "text": [
      "[12]\n",
      "9379\n"
     ]
    },
    {
     "name": "stderr",
     "output_type": "stream",
     "text": [
      " 49%|████▉     | 370/750 [01:37<01:08,  5.55it/s]"
     ]
    },
    {
     "name": "stdout",
     "output_type": "stream",
     "text": [
      "[12]\n",
      "9379\n"
     ]
    },
    {
     "name": "stderr",
     "output_type": "stream",
     "text": [
      " 49%|████▉     | 371/750 [01:37<01:08,  5.56it/s]"
     ]
    },
    {
     "name": "stdout",
     "output_type": "stream",
     "text": [
      "[12]\n",
      "9379\n"
     ]
    },
    {
     "name": "stderr",
     "output_type": "stream",
     "text": [
      " 50%|████▉     | 372/750 [01:38<01:07,  5.57it/s]"
     ]
    },
    {
     "name": "stdout",
     "output_type": "stream",
     "text": [
      "[12]\n",
      "9379\n"
     ]
    },
    {
     "name": "stderr",
     "output_type": "stream",
     "text": [
      " 50%|████▉     | 373/750 [01:38<01:08,  5.52it/s]"
     ]
    },
    {
     "name": "stdout",
     "output_type": "stream",
     "text": [
      "[12]\n",
      "9379\n"
     ]
    },
    {
     "name": "stderr",
     "output_type": "stream",
     "text": [
      " 50%|████▉     | 374/750 [01:38<01:07,  5.55it/s]"
     ]
    },
    {
     "name": "stdout",
     "output_type": "stream",
     "text": [
      "[12]\n",
      "9379\n"
     ]
    },
    {
     "name": "stderr",
     "output_type": "stream",
     "text": [
      " 50%|█████     | 375/750 [01:38<01:07,  5.56it/s]"
     ]
    },
    {
     "name": "stdout",
     "output_type": "stream",
     "text": [
      "[12]\n",
      "9379\n"
     ]
    },
    {
     "name": "stderr",
     "output_type": "stream",
     "text": [
      " 50%|█████     | 376/750 [01:38<01:08,  5.49it/s]"
     ]
    },
    {
     "name": "stdout",
     "output_type": "stream",
     "text": [
      "[12]\n",
      "9379\n"
     ]
    },
    {
     "name": "stderr",
     "output_type": "stream",
     "text": [
      " 50%|█████     | 377/750 [01:39<01:08,  5.48it/s]"
     ]
    },
    {
     "name": "stdout",
     "output_type": "stream",
     "text": [
      "[12]\n",
      "9379\n"
     ]
    },
    {
     "name": "stderr",
     "output_type": "stream",
     "text": [
      " 50%|█████     | 378/750 [01:39<01:07,  5.49it/s]"
     ]
    },
    {
     "name": "stdout",
     "output_type": "stream",
     "text": [
      "[12]\n",
      "9379\n"
     ]
    },
    {
     "name": "stderr",
     "output_type": "stream",
     "text": [
      " 51%|█████     | 379/750 [01:39<01:07,  5.50it/s]"
     ]
    },
    {
     "name": "stdout",
     "output_type": "stream",
     "text": [
      "[12]\n",
      "9379\n"
     ]
    },
    {
     "name": "stderr",
     "output_type": "stream",
     "text": [
      " 51%|█████     | 380/750 [01:39<01:07,  5.45it/s]"
     ]
    },
    {
     "name": "stdout",
     "output_type": "stream",
     "text": [
      "[12]\n",
      "9379\n"
     ]
    },
    {
     "name": "stderr",
     "output_type": "stream",
     "text": [
      " 51%|█████     | 381/750 [01:39<01:07,  5.47it/s]"
     ]
    },
    {
     "name": "stdout",
     "output_type": "stream",
     "text": [
      "[12]\n",
      "9379\n"
     ]
    },
    {
     "name": "stderr",
     "output_type": "stream",
     "text": [
      " 51%|█████     | 382/750 [01:39<01:07,  5.44it/s]"
     ]
    },
    {
     "name": "stdout",
     "output_type": "stream",
     "text": [
      "[12]\n",
      "9379\n"
     ]
    },
    {
     "name": "stderr",
     "output_type": "stream",
     "text": [
      " 51%|█████     | 383/750 [01:40<01:06,  5.50it/s]"
     ]
    },
    {
     "name": "stdout",
     "output_type": "stream",
     "text": [
      "[12]\n",
      "9379\n"
     ]
    },
    {
     "name": "stderr",
     "output_type": "stream",
     "text": [
      " 51%|█████     | 384/750 [01:40<01:06,  5.48it/s]"
     ]
    },
    {
     "name": "stdout",
     "output_type": "stream",
     "text": [
      "[12]\n",
      "9379\n"
     ]
    },
    {
     "name": "stderr",
     "output_type": "stream",
     "text": [
      " 51%|█████▏    | 385/750 [01:40<01:07,  5.41it/s]"
     ]
    },
    {
     "name": "stdout",
     "output_type": "stream",
     "text": [
      "[12]\n",
      "9379\n"
     ]
    },
    {
     "name": "stderr",
     "output_type": "stream",
     "text": [
      " 51%|█████▏    | 386/750 [01:40<01:06,  5.48it/s]"
     ]
    },
    {
     "name": "stdout",
     "output_type": "stream",
     "text": [
      "[12]\n",
      "9379\n"
     ]
    },
    {
     "name": "stderr",
     "output_type": "stream",
     "text": [
      " 52%|█████▏    | 387/750 [01:40<01:06,  5.43it/s]"
     ]
    },
    {
     "name": "stdout",
     "output_type": "stream",
     "text": [
      "[12]\n",
      "9379\n"
     ]
    },
    {
     "name": "stderr",
     "output_type": "stream",
     "text": [
      " 52%|█████▏    | 388/750 [01:41<01:05,  5.49it/s]"
     ]
    },
    {
     "name": "stdout",
     "output_type": "stream",
     "text": [
      "[12]\n",
      "9379\n"
     ]
    },
    {
     "name": "stderr",
     "output_type": "stream",
     "text": [
      " 52%|█████▏    | 389/750 [01:41<01:06,  5.46it/s]"
     ]
    },
    {
     "name": "stdout",
     "output_type": "stream",
     "text": [
      "[12]\n",
      "9379\n"
     ]
    },
    {
     "name": "stderr",
     "output_type": "stream",
     "text": [
      " 52%|█████▏    | 390/750 [01:41<01:05,  5.48it/s]"
     ]
    },
    {
     "name": "stdout",
     "output_type": "stream",
     "text": [
      "[12]\n",
      "9379\n"
     ]
    },
    {
     "name": "stderr",
     "output_type": "stream",
     "text": [
      " 52%|█████▏    | 391/750 [01:41<01:05,  5.47it/s]"
     ]
    },
    {
     "name": "stdout",
     "output_type": "stream",
     "text": [
      "[12]\n",
      "9379\n"
     ]
    },
    {
     "name": "stderr",
     "output_type": "stream",
     "text": [
      " 52%|█████▏    | 392/750 [01:41<01:06,  5.40it/s]"
     ]
    },
    {
     "name": "stdout",
     "output_type": "stream",
     "text": [
      "[12]\n",
      "9379\n"
     ]
    },
    {
     "name": "stderr",
     "output_type": "stream",
     "text": [
      " 52%|█████▏    | 393/750 [01:41<01:06,  5.41it/s]"
     ]
    },
    {
     "name": "stdout",
     "output_type": "stream",
     "text": [
      "[12]\n",
      "9379\n"
     ]
    },
    {
     "name": "stderr",
     "output_type": "stream",
     "text": [
      " 53%|█████▎    | 394/750 [01:42<01:05,  5.41it/s]"
     ]
    },
    {
     "name": "stdout",
     "output_type": "stream",
     "text": [
      "[12]\n",
      "9379\n"
     ]
    },
    {
     "name": "stderr",
     "output_type": "stream",
     "text": [
      " 53%|█████▎    | 395/750 [01:42<01:05,  5.46it/s]"
     ]
    },
    {
     "name": "stdout",
     "output_type": "stream",
     "text": [
      "[12]\n",
      "9379\n"
     ]
    },
    {
     "name": "stderr",
     "output_type": "stream",
     "text": [
      " 53%|█████▎    | 396/750 [01:42<01:05,  5.44it/s]"
     ]
    },
    {
     "name": "stdout",
     "output_type": "stream",
     "text": [
      "[12]\n",
      "9379\n"
     ]
    },
    {
     "name": "stderr",
     "output_type": "stream",
     "text": [
      " 53%|█████▎    | 397/750 [01:42<01:04,  5.43it/s]"
     ]
    },
    {
     "name": "stdout",
     "output_type": "stream",
     "text": [
      "[12]\n",
      "9379\n"
     ]
    },
    {
     "name": "stderr",
     "output_type": "stream",
     "text": [
      " 53%|█████▎    | 398/750 [01:42<01:04,  5.48it/s]"
     ]
    },
    {
     "name": "stdout",
     "output_type": "stream",
     "text": [
      "[12]\n",
      "9379\n"
     ]
    },
    {
     "name": "stderr",
     "output_type": "stream",
     "text": [
      " 53%|█████▎    | 399/750 [01:43<01:03,  5.50it/s]"
     ]
    },
    {
     "name": "stdout",
     "output_type": "stream",
     "text": [
      "[12]\n",
      "9379\n"
     ]
    },
    {
     "name": "stderr",
     "output_type": "stream",
     "text": [
      " 53%|█████▎    | 400/750 [01:43<01:03,  5.49it/s]"
     ]
    },
    {
     "name": "stdout",
     "output_type": "stream",
     "text": [
      "[12]\n",
      "9379\n"
     ]
    },
    {
     "name": "stderr",
     "output_type": "stream",
     "text": [
      " 53%|█████▎    | 401/750 [01:43<01:03,  5.50it/s]"
     ]
    },
    {
     "name": "stdout",
     "output_type": "stream",
     "text": [
      "[12]\n",
      "9379\n"
     ]
    },
    {
     "name": "stderr",
     "output_type": "stream",
     "text": [
      " 54%|█████▎    | 402/750 [01:43<01:03,  5.49it/s]"
     ]
    },
    {
     "name": "stdout",
     "output_type": "stream",
     "text": [
      "[12]\n",
      "9379\n"
     ]
    },
    {
     "name": "stderr",
     "output_type": "stream",
     "text": [
      " 54%|█████▎    | 403/750 [01:43<01:03,  5.46it/s]"
     ]
    },
    {
     "name": "stdout",
     "output_type": "stream",
     "text": [
      "[12]\n",
      "9379\n"
     ]
    },
    {
     "name": "stderr",
     "output_type": "stream",
     "text": [
      " 54%|█████▍    | 404/750 [01:43<01:03,  5.43it/s]"
     ]
    },
    {
     "name": "stdout",
     "output_type": "stream",
     "text": [
      "[12]\n",
      "9379\n"
     ]
    },
    {
     "name": "stderr",
     "output_type": "stream",
     "text": [
      " 54%|█████▍    | 405/750 [01:44<01:03,  5.42it/s]"
     ]
    },
    {
     "name": "stdout",
     "output_type": "stream",
     "text": [
      "[12]\n",
      "9379\n"
     ]
    },
    {
     "name": "stderr",
     "output_type": "stream",
     "text": [
      " 54%|█████▍    | 406/750 [01:44<01:03,  5.39it/s]"
     ]
    },
    {
     "name": "stdout",
     "output_type": "stream",
     "text": [
      "[12]\n",
      "9379\n"
     ]
    },
    {
     "name": "stderr",
     "output_type": "stream",
     "text": [
      " 54%|█████▍    | 407/750 [01:44<01:03,  5.41it/s]"
     ]
    },
    {
     "name": "stdout",
     "output_type": "stream",
     "text": [
      "[12]\n",
      "9379\n"
     ]
    },
    {
     "name": "stderr",
     "output_type": "stream",
     "text": [
      " 54%|█████▍    | 408/750 [01:44<01:02,  5.47it/s]"
     ]
    },
    {
     "name": "stdout",
     "output_type": "stream",
     "text": [
      "[12]\n",
      "9379\n"
     ]
    },
    {
     "name": "stderr",
     "output_type": "stream",
     "text": [
      " 55%|█████▍    | 409/750 [01:44<01:02,  5.44it/s]"
     ]
    },
    {
     "name": "stdout",
     "output_type": "stream",
     "text": [
      "[12]\n",
      "9379\n"
     ]
    },
    {
     "name": "stderr",
     "output_type": "stream",
     "text": [
      " 55%|█████▍    | 410/750 [01:45<01:01,  5.50it/s]"
     ]
    },
    {
     "name": "stdout",
     "output_type": "stream",
     "text": [
      "[12]\n",
      "9379\n"
     ]
    },
    {
     "name": "stderr",
     "output_type": "stream",
     "text": [
      " 55%|█████▍    | 411/750 [01:45<01:02,  5.46it/s]"
     ]
    },
    {
     "name": "stdout",
     "output_type": "stream",
     "text": [
      "[12]\n",
      "9379\n"
     ]
    },
    {
     "name": "stderr",
     "output_type": "stream",
     "text": [
      " 55%|█████▍    | 412/750 [01:45<01:01,  5.45it/s]"
     ]
    },
    {
     "name": "stdout",
     "output_type": "stream",
     "text": [
      "[12]\n",
      "9379\n"
     ]
    },
    {
     "name": "stderr",
     "output_type": "stream",
     "text": [
      " 55%|█████▌    | 413/750 [01:45<01:02,  5.43it/s]"
     ]
    },
    {
     "name": "stdout",
     "output_type": "stream",
     "text": [
      "[12]\n",
      "9379\n"
     ]
    },
    {
     "name": "stderr",
     "output_type": "stream",
     "text": [
      " 55%|█████▌    | 414/750 [01:45<01:01,  5.43it/s]"
     ]
    },
    {
     "name": "stdout",
     "output_type": "stream",
     "text": [
      "[12]\n",
      "9379\n"
     ]
    },
    {
     "name": "stderr",
     "output_type": "stream",
     "text": [
      " 55%|█████▌    | 415/750 [01:46<01:02,  5.40it/s]"
     ]
    },
    {
     "name": "stdout",
     "output_type": "stream",
     "text": [
      "[12]\n",
      "9379\n"
     ]
    },
    {
     "name": "stderr",
     "output_type": "stream",
     "text": [
      " 55%|█████▌    | 416/750 [01:46<01:01,  5.46it/s]"
     ]
    },
    {
     "name": "stdout",
     "output_type": "stream",
     "text": [
      "[12]\n",
      "9379\n"
     ]
    },
    {
     "name": "stderr",
     "output_type": "stream",
     "text": [
      " 56%|█████▌    | 417/750 [01:46<01:01,  5.44it/s]"
     ]
    },
    {
     "name": "stdout",
     "output_type": "stream",
     "text": [
      "[12]\n",
      "9379\n"
     ]
    },
    {
     "name": "stderr",
     "output_type": "stream",
     "text": [
      " 56%|█████▌    | 418/750 [01:46<01:00,  5.44it/s]"
     ]
    },
    {
     "name": "stdout",
     "output_type": "stream",
     "text": [
      "[12]\n",
      "9379\n"
     ]
    },
    {
     "name": "stderr",
     "output_type": "stream",
     "text": [
      " 56%|█████▌    | 419/750 [01:46<01:01,  5.42it/s]"
     ]
    },
    {
     "name": "stdout",
     "output_type": "stream",
     "text": [
      "[12]\n",
      "9379\n"
     ]
    },
    {
     "name": "stderr",
     "output_type": "stream",
     "text": [
      " 56%|█████▌    | 420/750 [01:46<01:01,  5.40it/s]"
     ]
    },
    {
     "name": "stdout",
     "output_type": "stream",
     "text": [
      "[12]\n",
      "9379\n"
     ]
    },
    {
     "name": "stderr",
     "output_type": "stream",
     "text": [
      " 56%|█████▌    | 421/750 [01:47<01:00,  5.44it/s]"
     ]
    },
    {
     "name": "stdout",
     "output_type": "stream",
     "text": [
      "[12]\n",
      "9379\n"
     ]
    },
    {
     "name": "stderr",
     "output_type": "stream",
     "text": [
      " 56%|█████▋    | 422/750 [01:47<01:00,  5.42it/s]"
     ]
    },
    {
     "name": "stdout",
     "output_type": "stream",
     "text": [
      "[12]\n",
      "9379\n"
     ]
    },
    {
     "name": "stderr",
     "output_type": "stream",
     "text": [
      " 56%|█████▋    | 423/750 [01:47<00:59,  5.46it/s]"
     ]
    },
    {
     "name": "stdout",
     "output_type": "stream",
     "text": [
      "[12]\n",
      "9379\n"
     ]
    },
    {
     "name": "stderr",
     "output_type": "stream",
     "text": [
      " 57%|█████▋    | 424/750 [01:47<01:00,  5.40it/s]"
     ]
    },
    {
     "name": "stdout",
     "output_type": "stream",
     "text": [
      "[12]\n",
      "9379\n"
     ]
    },
    {
     "name": "stderr",
     "output_type": "stream",
     "text": [
      " 57%|█████▋    | 425/750 [01:47<00:59,  5.45it/s]"
     ]
    },
    {
     "name": "stdout",
     "output_type": "stream",
     "text": [
      "[12]\n",
      "9379\n"
     ]
    },
    {
     "name": "stderr",
     "output_type": "stream",
     "text": [
      " 57%|█████▋    | 426/750 [01:48<00:59,  5.43it/s]"
     ]
    },
    {
     "name": "stdout",
     "output_type": "stream",
     "text": [
      "[12]\n",
      "9379\n"
     ]
    },
    {
     "name": "stderr",
     "output_type": "stream",
     "text": [
      " 57%|█████▋    | 427/750 [01:48<00:59,  5.39it/s]"
     ]
    },
    {
     "name": "stdout",
     "output_type": "stream",
     "text": [
      "[12]\n",
      "9379\n"
     ]
    },
    {
     "name": "stderr",
     "output_type": "stream",
     "text": [
      " 57%|█████▋    | 428/750 [01:48<00:59,  5.41it/s]"
     ]
    },
    {
     "name": "stdout",
     "output_type": "stream",
     "text": [
      "[12]\n",
      "9379\n"
     ]
    },
    {
     "name": "stderr",
     "output_type": "stream",
     "text": [
      " 57%|█████▋    | 429/750 [01:48<00:58,  5.48it/s]"
     ]
    },
    {
     "name": "stdout",
     "output_type": "stream",
     "text": [
      "[12]\n",
      "9379\n"
     ]
    },
    {
     "name": "stderr",
     "output_type": "stream",
     "text": [
      " 57%|█████▋    | 430/750 [01:48<00:58,  5.44it/s]"
     ]
    },
    {
     "name": "stdout",
     "output_type": "stream",
     "text": [
      "[12]\n",
      "9379\n"
     ]
    },
    {
     "name": "stderr",
     "output_type": "stream",
     "text": [
      " 57%|█████▋    | 431/750 [01:48<00:58,  5.41it/s]"
     ]
    },
    {
     "name": "stdout",
     "output_type": "stream",
     "text": [
      "[12]\n",
      "9379\n"
     ]
    },
    {
     "name": "stderr",
     "output_type": "stream",
     "text": [
      " 58%|█████▊    | 432/750 [01:49<00:58,  5.39it/s]"
     ]
    },
    {
     "name": "stdout",
     "output_type": "stream",
     "text": [
      "[12]\n",
      "9379\n"
     ]
    },
    {
     "name": "stderr",
     "output_type": "stream",
     "text": [
      " 58%|█████▊    | 433/750 [01:49<00:58,  5.46it/s]"
     ]
    },
    {
     "name": "stdout",
     "output_type": "stream",
     "text": [
      "[12]\n",
      "9379\n"
     ]
    },
    {
     "name": "stderr",
     "output_type": "stream",
     "text": [
      " 58%|█████▊    | 434/750 [01:49<00:58,  5.40it/s]"
     ]
    },
    {
     "name": "stdout",
     "output_type": "stream",
     "text": [
      "[12]\n",
      "9379\n"
     ]
    },
    {
     "name": "stderr",
     "output_type": "stream",
     "text": [
      " 58%|█████▊    | 435/750 [01:49<00:58,  5.39it/s]"
     ]
    },
    {
     "name": "stdout",
     "output_type": "stream",
     "text": [
      "[12]\n",
      "9379\n"
     ]
    },
    {
     "name": "stderr",
     "output_type": "stream",
     "text": [
      " 58%|█████▊    | 436/750 [01:49<00:57,  5.42it/s]"
     ]
    },
    {
     "name": "stdout",
     "output_type": "stream",
     "text": [
      "[12]\n",
      "9379\n"
     ]
    },
    {
     "name": "stderr",
     "output_type": "stream",
     "text": [
      " 58%|█████▊    | 437/750 [01:50<00:58,  5.38it/s]"
     ]
    },
    {
     "name": "stdout",
     "output_type": "stream",
     "text": [
      "[12]\n",
      "9379\n"
     ]
    },
    {
     "name": "stderr",
     "output_type": "stream",
     "text": [
      " 58%|█████▊    | 438/750 [01:50<00:57,  5.38it/s]"
     ]
    },
    {
     "name": "stdout",
     "output_type": "stream",
     "text": [
      "[12]\n",
      "9379\n"
     ]
    },
    {
     "name": "stderr",
     "output_type": "stream",
     "text": [
      " 59%|█████▊    | 439/750 [01:50<00:57,  5.40it/s]"
     ]
    },
    {
     "name": "stdout",
     "output_type": "stream",
     "text": [
      "[12]\n",
      "9379\n"
     ]
    },
    {
     "name": "stderr",
     "output_type": "stream",
     "text": [
      " 59%|█████▊    | 440/750 [01:50<00:58,  5.34it/s]"
     ]
    },
    {
     "name": "stdout",
     "output_type": "stream",
     "text": [
      "[12]\n",
      "9379\n"
     ]
    },
    {
     "name": "stderr",
     "output_type": "stream",
     "text": [
      " 59%|█████▉    | 441/750 [01:50<00:57,  5.39it/s]"
     ]
    },
    {
     "name": "stdout",
     "output_type": "stream",
     "text": [
      "[12]\n",
      "9379\n"
     ]
    },
    {
     "name": "stderr",
     "output_type": "stream",
     "text": [
      " 59%|█████▉    | 442/750 [01:51<00:57,  5.36it/s]"
     ]
    },
    {
     "name": "stdout",
     "output_type": "stream",
     "text": [
      "[12]\n",
      "9379\n"
     ]
    },
    {
     "name": "stderr",
     "output_type": "stream",
     "text": [
      " 59%|█████▉    | 443/750 [01:51<00:57,  5.34it/s]"
     ]
    },
    {
     "name": "stdout",
     "output_type": "stream",
     "text": [
      "[12]\n",
      "9379\n"
     ]
    },
    {
     "name": "stderr",
     "output_type": "stream",
     "text": [
      " 59%|█████▉    | 444/750 [01:51<00:57,  5.36it/s]"
     ]
    },
    {
     "name": "stdout",
     "output_type": "stream",
     "text": [
      "[12]\n",
      "9379\n"
     ]
    },
    {
     "name": "stderr",
     "output_type": "stream",
     "text": [
      " 59%|█████▉    | 445/750 [01:51<00:56,  5.41it/s]"
     ]
    },
    {
     "name": "stdout",
     "output_type": "stream",
     "text": [
      "[12]\n",
      "9379\n"
     ]
    },
    {
     "name": "stderr",
     "output_type": "stream",
     "text": [
      " 59%|█████▉    | 446/750 [01:51<00:55,  5.44it/s]"
     ]
    },
    {
     "name": "stdout",
     "output_type": "stream",
     "text": [
      "[12]\n",
      "9379\n"
     ]
    },
    {
     "name": "stderr",
     "output_type": "stream",
     "text": [
      " 60%|█████▉    | 447/750 [01:51<00:56,  5.38it/s]"
     ]
    },
    {
     "name": "stdout",
     "output_type": "stream",
     "text": [
      "[12]\n",
      "9379\n"
     ]
    },
    {
     "name": "stderr",
     "output_type": "stream",
     "text": [
      " 60%|█████▉    | 448/750 [01:52<00:56,  5.36it/s]"
     ]
    },
    {
     "name": "stdout",
     "output_type": "stream",
     "text": [
      "[12]\n",
      "9379\n"
     ]
    },
    {
     "name": "stderr",
     "output_type": "stream",
     "text": [
      " 60%|█████▉    | 449/750 [01:52<00:55,  5.39it/s]"
     ]
    },
    {
     "name": "stdout",
     "output_type": "stream",
     "text": [
      "[12]\n",
      "9379\n"
     ]
    },
    {
     "name": "stderr",
     "output_type": "stream",
     "text": [
      " 60%|██████    | 450/750 [01:52<00:55,  5.39it/s]"
     ]
    },
    {
     "name": "stdout",
     "output_type": "stream",
     "text": [
      "[12]\n",
      "9379\n"
     ]
    },
    {
     "name": "stderr",
     "output_type": "stream",
     "text": [
      " 60%|██████    | 451/750 [01:52<00:55,  5.41it/s]"
     ]
    },
    {
     "name": "stdout",
     "output_type": "stream",
     "text": [
      "[12]\n",
      "9379\n"
     ]
    },
    {
     "name": "stderr",
     "output_type": "stream",
     "text": [
      " 60%|██████    | 452/750 [01:52<00:55,  5.41it/s]"
     ]
    },
    {
     "name": "stdout",
     "output_type": "stream",
     "text": [
      "[12]\n",
      "9379\n"
     ]
    },
    {
     "name": "stderr",
     "output_type": "stream",
     "text": [
      " 60%|██████    | 453/750 [01:53<00:55,  5.37it/s]"
     ]
    },
    {
     "name": "stdout",
     "output_type": "stream",
     "text": [
      "[12]\n",
      "9379\n"
     ]
    },
    {
     "name": "stderr",
     "output_type": "stream",
     "text": [
      " 61%|██████    | 454/750 [01:53<00:55,  5.37it/s]"
     ]
    },
    {
     "name": "stdout",
     "output_type": "stream",
     "text": [
      "[12]\n",
      "9379\n"
     ]
    },
    {
     "name": "stderr",
     "output_type": "stream",
     "text": [
      " 61%|██████    | 455/750 [01:53<00:55,  5.36it/s]"
     ]
    },
    {
     "name": "stdout",
     "output_type": "stream",
     "text": [
      "[12]\n",
      "9379\n"
     ]
    },
    {
     "name": "stderr",
     "output_type": "stream",
     "text": [
      " 61%|██████    | 456/750 [01:53<00:54,  5.42it/s]"
     ]
    },
    {
     "name": "stdout",
     "output_type": "stream",
     "text": [
      "[12]\n",
      "9379\n"
     ]
    },
    {
     "name": "stderr",
     "output_type": "stream",
     "text": [
      " 61%|██████    | 457/750 [01:53<00:54,  5.42it/s]"
     ]
    },
    {
     "name": "stdout",
     "output_type": "stream",
     "text": [
      "[12]\n",
      "9379\n"
     ]
    },
    {
     "name": "stderr",
     "output_type": "stream",
     "text": [
      " 61%|██████    | 458/750 [01:53<00:54,  5.40it/s]"
     ]
    },
    {
     "name": "stdout",
     "output_type": "stream",
     "text": [
      "[12]\n",
      "9379\n"
     ]
    },
    {
     "name": "stderr",
     "output_type": "stream",
     "text": [
      " 61%|██████    | 459/750 [01:54<00:53,  5.40it/s]"
     ]
    },
    {
     "name": "stdout",
     "output_type": "stream",
     "text": [
      "[12]\n",
      "9379\n"
     ]
    },
    {
     "name": "stderr",
     "output_type": "stream",
     "text": [
      " 61%|██████▏   | 460/750 [01:54<00:54,  5.33it/s]"
     ]
    },
    {
     "name": "stdout",
     "output_type": "stream",
     "text": [
      "[12]\n",
      "9379\n"
     ]
    },
    {
     "name": "stderr",
     "output_type": "stream",
     "text": [
      " 61%|██████▏   | 461/750 [01:54<00:53,  5.36it/s]"
     ]
    },
    {
     "name": "stdout",
     "output_type": "stream",
     "text": [
      "[12]\n",
      "9379\n"
     ]
    },
    {
     "name": "stderr",
     "output_type": "stream",
     "text": [
      " 62%|██████▏   | 462/750 [01:54<00:53,  5.39it/s]"
     ]
    },
    {
     "name": "stdout",
     "output_type": "stream",
     "text": [
      "[12]\n",
      "9379\n"
     ]
    },
    {
     "name": "stderr",
     "output_type": "stream",
     "text": [
      " 62%|██████▏   | 463/750 [01:54<00:52,  5.43it/s]"
     ]
    },
    {
     "name": "stdout",
     "output_type": "stream",
     "text": [
      "[12]\n",
      "9379\n"
     ]
    },
    {
     "name": "stderr",
     "output_type": "stream",
     "text": [
      " 62%|██████▏   | 464/750 [01:55<00:53,  5.38it/s]"
     ]
    },
    {
     "name": "stdout",
     "output_type": "stream",
     "text": [
      "[12]\n",
      "9379\n"
     ]
    },
    {
     "name": "stderr",
     "output_type": "stream",
     "text": [
      " 62%|██████▏   | 465/750 [01:55<00:52,  5.38it/s]"
     ]
    },
    {
     "name": "stdout",
     "output_type": "stream",
     "text": [
      "[12]\n",
      "9379\n"
     ]
    },
    {
     "name": "stderr",
     "output_type": "stream",
     "text": [
      " 62%|██████▏   | 466/750 [01:55<00:52,  5.37it/s]"
     ]
    },
    {
     "name": "stdout",
     "output_type": "stream",
     "text": [
      "[12]\n",
      "9379\n"
     ]
    },
    {
     "name": "stderr",
     "output_type": "stream",
     "text": [
      " 62%|██████▏   | 467/750 [01:55<00:52,  5.40it/s]"
     ]
    },
    {
     "name": "stdout",
     "output_type": "stream",
     "text": [
      "[12]\n",
      "9379\n"
     ]
    },
    {
     "name": "stderr",
     "output_type": "stream",
     "text": [
      " 62%|██████▏   | 468/750 [01:55<00:51,  5.46it/s]"
     ]
    },
    {
     "name": "stdout",
     "output_type": "stream",
     "text": [
      "[12]\n",
      "9379\n"
     ]
    },
    {
     "name": "stderr",
     "output_type": "stream",
     "text": [
      " 63%|██████▎   | 469/750 [01:56<00:51,  5.43it/s]"
     ]
    },
    {
     "name": "stdout",
     "output_type": "stream",
     "text": [
      "[12]\n",
      "9379\n"
     ]
    },
    {
     "name": "stderr",
     "output_type": "stream",
     "text": [
      " 63%|██████▎   | 470/750 [01:56<00:50,  5.50it/s]"
     ]
    },
    {
     "name": "stdout",
     "output_type": "stream",
     "text": [
      "[12]\n",
      "9379\n"
     ]
    },
    {
     "name": "stderr",
     "output_type": "stream",
     "text": [
      " 63%|██████▎   | 471/750 [01:56<00:50,  5.50it/s]"
     ]
    },
    {
     "name": "stdout",
     "output_type": "stream",
     "text": [
      "[12]\n",
      "9379\n"
     ]
    },
    {
     "name": "stderr",
     "output_type": "stream",
     "text": [
      " 63%|██████▎   | 472/750 [01:56<00:50,  5.47it/s]"
     ]
    },
    {
     "name": "stdout",
     "output_type": "stream",
     "text": [
      "[12]\n",
      "9379\n"
     ]
    },
    {
     "name": "stderr",
     "output_type": "stream",
     "text": [
      " 63%|██████▎   | 473/750 [01:56<00:50,  5.44it/s]"
     ]
    },
    {
     "name": "stdout",
     "output_type": "stream",
     "text": [
      "[12]\n",
      "9379\n"
     ]
    },
    {
     "name": "stderr",
     "output_type": "stream",
     "text": [
      " 63%|██████▎   | 474/750 [01:56<00:50,  5.44it/s]"
     ]
    },
    {
     "name": "stdout",
     "output_type": "stream",
     "text": [
      "[12]\n",
      "9379\n"
     ]
    },
    {
     "name": "stderr",
     "output_type": "stream",
     "text": [
      " 63%|██████▎   | 475/750 [01:57<00:50,  5.40it/s]"
     ]
    },
    {
     "name": "stdout",
     "output_type": "stream",
     "text": [
      "[12]\n",
      "9379\n"
     ]
    },
    {
     "name": "stderr",
     "output_type": "stream",
     "text": [
      " 63%|██████▎   | 476/750 [01:57<00:50,  5.43it/s]"
     ]
    },
    {
     "name": "stdout",
     "output_type": "stream",
     "text": [
      "[12]\n",
      "9379\n"
     ]
    },
    {
     "name": "stderr",
     "output_type": "stream",
     "text": [
      " 64%|██████▎   | 477/750 [01:57<00:49,  5.50it/s]"
     ]
    },
    {
     "name": "stdout",
     "output_type": "stream",
     "text": [
      "[12]\n",
      "9379\n"
     ]
    },
    {
     "name": "stderr",
     "output_type": "stream",
     "text": [
      " 64%|██████▎   | 478/750 [01:57<00:49,  5.44it/s]"
     ]
    },
    {
     "name": "stdout",
     "output_type": "stream",
     "text": [
      "[12]\n",
      "9379\n"
     ]
    },
    {
     "name": "stderr",
     "output_type": "stream",
     "text": [
      " 64%|██████▍   | 479/750 [01:57<00:49,  5.45it/s]"
     ]
    },
    {
     "name": "stdout",
     "output_type": "stream",
     "text": [
      "[12]\n",
      "9379\n"
     ]
    },
    {
     "name": "stderr",
     "output_type": "stream",
     "text": [
      " 64%|██████▍   | 480/750 [01:58<00:50,  5.40it/s]"
     ]
    },
    {
     "name": "stdout",
     "output_type": "stream",
     "text": [
      "[12]\n",
      "9379\n"
     ]
    },
    {
     "name": "stderr",
     "output_type": "stream",
     "text": [
      " 64%|██████▍   | 481/750 [01:58<00:49,  5.42it/s]"
     ]
    },
    {
     "name": "stdout",
     "output_type": "stream",
     "text": [
      "[12]\n",
      "9379\n"
     ]
    },
    {
     "name": "stderr",
     "output_type": "stream",
     "text": [
      " 64%|██████▍   | 482/750 [01:58<00:49,  5.37it/s]"
     ]
    },
    {
     "name": "stdout",
     "output_type": "stream",
     "text": [
      "[12]\n",
      "9379\n"
     ]
    },
    {
     "name": "stderr",
     "output_type": "stream",
     "text": [
      " 64%|██████▍   | 483/750 [01:58<00:49,  5.41it/s]"
     ]
    },
    {
     "name": "stdout",
     "output_type": "stream",
     "text": [
      "[12]\n",
      "9379\n"
     ]
    },
    {
     "name": "stderr",
     "output_type": "stream",
     "text": [
      " 65%|██████▍   | 484/750 [01:58<00:49,  5.40it/s]"
     ]
    },
    {
     "name": "stdout",
     "output_type": "stream",
     "text": [
      "[12]\n",
      "9379\n"
     ]
    },
    {
     "name": "stderr",
     "output_type": "stream",
     "text": [
      " 65%|██████▍   | 485/750 [01:58<00:49,  5.39it/s]"
     ]
    },
    {
     "name": "stdout",
     "output_type": "stream",
     "text": [
      "[12]\n",
      "9379\n"
     ]
    },
    {
     "name": "stderr",
     "output_type": "stream",
     "text": [
      " 65%|██████▍   | 486/750 [01:59<00:48,  5.39it/s]"
     ]
    },
    {
     "name": "stdout",
     "output_type": "stream",
     "text": [
      "[12]\n",
      "9379\n"
     ]
    },
    {
     "name": "stderr",
     "output_type": "stream",
     "text": [
      " 65%|██████▍   | 487/750 [01:59<00:48,  5.42it/s]"
     ]
    },
    {
     "name": "stdout",
     "output_type": "stream",
     "text": [
      "[12]\n",
      "9379\n"
     ]
    },
    {
     "name": "stderr",
     "output_type": "stream",
     "text": [
      " 65%|██████▌   | 488/750 [01:59<00:47,  5.49it/s]"
     ]
    },
    {
     "name": "stdout",
     "output_type": "stream",
     "text": [
      "[12]\n",
      "9379\n"
     ]
    },
    {
     "name": "stderr",
     "output_type": "stream",
     "text": [
      " 65%|██████▌   | 489/750 [01:59<00:47,  5.46it/s]"
     ]
    },
    {
     "name": "stdout",
     "output_type": "stream",
     "text": [
      "[12]\n",
      "9379\n"
     ]
    },
    {
     "name": "stderr",
     "output_type": "stream",
     "text": [
      " 65%|██████▌   | 490/750 [01:59<00:47,  5.45it/s]"
     ]
    },
    {
     "name": "stdout",
     "output_type": "stream",
     "text": [
      "[12]\n",
      "9379\n"
     ]
    },
    {
     "name": "stderr",
     "output_type": "stream",
     "text": [
      " 65%|██████▌   | 491/750 [02:00<00:47,  5.45it/s]"
     ]
    },
    {
     "name": "stdout",
     "output_type": "stream",
     "text": [
      "[12]\n",
      "9379\n"
     ]
    },
    {
     "name": "stderr",
     "output_type": "stream",
     "text": [
      " 66%|██████▌   | 492/750 [02:00<00:47,  5.46it/s]"
     ]
    },
    {
     "name": "stdout",
     "output_type": "stream",
     "text": [
      "[12]\n",
      "9379\n"
     ]
    },
    {
     "name": "stderr",
     "output_type": "stream",
     "text": [
      " 66%|██████▌   | 493/750 [02:00<00:46,  5.50it/s]"
     ]
    },
    {
     "name": "stdout",
     "output_type": "stream",
     "text": [
      "[12]\n",
      "9379\n"
     ]
    },
    {
     "name": "stderr",
     "output_type": "stream",
     "text": [
      " 66%|██████▌   | 494/750 [02:00<00:46,  5.49it/s]"
     ]
    },
    {
     "name": "stdout",
     "output_type": "stream",
     "text": [
      "[12]\n",
      "9379\n"
     ]
    },
    {
     "name": "stderr",
     "output_type": "stream",
     "text": [
      " 66%|██████▌   | 495/750 [02:00<00:46,  5.46it/s]"
     ]
    },
    {
     "name": "stdout",
     "output_type": "stream",
     "text": [
      "[12]\n",
      "9379\n"
     ]
    },
    {
     "name": "stderr",
     "output_type": "stream",
     "text": [
      " 66%|██████▌   | 496/750 [02:00<00:46,  5.47it/s]"
     ]
    },
    {
     "name": "stdout",
     "output_type": "stream",
     "text": [
      "[12]\n",
      "9379\n"
     ]
    },
    {
     "name": "stderr",
     "output_type": "stream",
     "text": [
      " 66%|██████▋   | 497/750 [02:01<00:46,  5.43it/s]"
     ]
    },
    {
     "name": "stdout",
     "output_type": "stream",
     "text": [
      "[12]\n",
      "9379\n"
     ]
    },
    {
     "name": "stderr",
     "output_type": "stream",
     "text": [
      " 66%|██████▋   | 498/750 [02:01<00:46,  5.44it/s]"
     ]
    },
    {
     "name": "stdout",
     "output_type": "stream",
     "text": [
      "[12]\n",
      "9379\n"
     ]
    },
    {
     "name": "stderr",
     "output_type": "stream",
     "text": [
      " 67%|██████▋   | 499/750 [02:01<00:45,  5.49it/s]"
     ]
    },
    {
     "name": "stdout",
     "output_type": "stream",
     "text": [
      "[12]\n",
      "9379\n"
     ]
    },
    {
     "name": "stderr",
     "output_type": "stream",
     "text": [
      " 67%|██████▋   | 500/750 [02:01<00:45,  5.53it/s]"
     ]
    },
    {
     "name": "stdout",
     "output_type": "stream",
     "text": [
      "[12]\n",
      "9379\n"
     ]
    },
    {
     "name": "stderr",
     "output_type": "stream",
     "text": [
      " 67%|██████▋   | 501/750 [02:01<00:45,  5.49it/s]"
     ]
    },
    {
     "name": "stdout",
     "output_type": "stream",
     "text": [
      "[12]\n",
      "9379\n"
     ]
    },
    {
     "name": "stderr",
     "output_type": "stream",
     "text": [
      " 67%|██████▋   | 502/750 [02:02<00:45,  5.49it/s]"
     ]
    },
    {
     "name": "stdout",
     "output_type": "stream",
     "text": [
      "[12]\n",
      "9379\n"
     ]
    },
    {
     "name": "stderr",
     "output_type": "stream",
     "text": [
      " 67%|██████▋   | 503/750 [02:02<00:45,  5.44it/s]"
     ]
    },
    {
     "name": "stdout",
     "output_type": "stream",
     "text": [
      "[12]\n",
      "9379\n"
     ]
    },
    {
     "name": "stderr",
     "output_type": "stream",
     "text": [
      " 67%|██████▋   | 504/750 [02:02<00:45,  5.43it/s]"
     ]
    },
    {
     "name": "stdout",
     "output_type": "stream",
     "text": [
      "[12]\n",
      "9379\n"
     ]
    },
    {
     "name": "stderr",
     "output_type": "stream",
     "text": [
      " 67%|██████▋   | 505/750 [02:02<00:44,  5.46it/s]"
     ]
    },
    {
     "name": "stdout",
     "output_type": "stream",
     "text": [
      "[12]\n",
      "9379\n"
     ]
    },
    {
     "name": "stderr",
     "output_type": "stream",
     "text": [
      " 67%|██████▋   | 506/750 [02:02<00:44,  5.45it/s]"
     ]
    },
    {
     "name": "stdout",
     "output_type": "stream",
     "text": [
      "[12]\n",
      "9379\n"
     ]
    },
    {
     "name": "stderr",
     "output_type": "stream",
     "text": [
      " 68%|██████▊   | 507/750 [02:02<00:44,  5.44it/s]"
     ]
    },
    {
     "name": "stdout",
     "output_type": "stream",
     "text": [
      "[12]\n",
      "9379\n"
     ]
    },
    {
     "name": "stderr",
     "output_type": "stream",
     "text": [
      " 68%|██████▊   | 508/750 [02:03<00:44,  5.41it/s]"
     ]
    },
    {
     "name": "stdout",
     "output_type": "stream",
     "text": [
      "[12]\n",
      "9379\n"
     ]
    },
    {
     "name": "stderr",
     "output_type": "stream",
     "text": [
      " 68%|██████▊   | 509/750 [02:03<00:45,  5.32it/s]"
     ]
    },
    {
     "name": "stdout",
     "output_type": "stream",
     "text": [
      "[12]\n",
      "9379\n"
     ]
    },
    {
     "name": "stderr",
     "output_type": "stream",
     "text": [
      " 68%|██████▊   | 510/750 [02:03<00:44,  5.37it/s]"
     ]
    },
    {
     "name": "stdout",
     "output_type": "stream",
     "text": [
      "[12]\n",
      "9379\n"
     ]
    },
    {
     "name": "stderr",
     "output_type": "stream",
     "text": [
      " 68%|██████▊   | 511/750 [02:03<00:44,  5.41it/s]"
     ]
    },
    {
     "name": "stdout",
     "output_type": "stream",
     "text": [
      "[12]\n",
      "9379\n"
     ]
    },
    {
     "name": "stderr",
     "output_type": "stream",
     "text": [
      " 68%|██████▊   | 512/750 [02:03<00:43,  5.44it/s]"
     ]
    },
    {
     "name": "stdout",
     "output_type": "stream",
     "text": [
      "[12]\n",
      "9379\n"
     ]
    },
    {
     "name": "stderr",
     "output_type": "stream",
     "text": [
      " 68%|██████▊   | 513/750 [02:04<00:43,  5.43it/s]"
     ]
    },
    {
     "name": "stdout",
     "output_type": "stream",
     "text": [
      "[12]\n",
      "9379\n"
     ]
    },
    {
     "name": "stderr",
     "output_type": "stream",
     "text": [
      " 69%|██████▊   | 514/750 [02:04<00:43,  5.46it/s]"
     ]
    },
    {
     "name": "stdout",
     "output_type": "stream",
     "text": [
      "[12]\n",
      "9379\n"
     ]
    },
    {
     "name": "stderr",
     "output_type": "stream",
     "text": [
      " 69%|██████▊   | 515/750 [02:04<00:42,  5.48it/s]"
     ]
    },
    {
     "name": "stdout",
     "output_type": "stream",
     "text": [
      "[12]\n",
      "9379\n"
     ]
    },
    {
     "name": "stderr",
     "output_type": "stream",
     "text": [
      " 69%|██████▉   | 516/750 [02:04<00:42,  5.48it/s]"
     ]
    },
    {
     "name": "stdout",
     "output_type": "stream",
     "text": [
      "[12]\n",
      "9379\n"
     ]
    },
    {
     "name": "stderr",
     "output_type": "stream",
     "text": [
      " 69%|██████▉   | 517/750 [02:04<00:42,  5.44it/s]"
     ]
    },
    {
     "name": "stdout",
     "output_type": "stream",
     "text": [
      "[12]\n",
      "9379\n"
     ]
    },
    {
     "name": "stderr",
     "output_type": "stream",
     "text": [
      " 69%|██████▉   | 518/750 [02:05<00:42,  5.42it/s]"
     ]
    },
    {
     "name": "stdout",
     "output_type": "stream",
     "text": [
      "[12]\n",
      "9379\n"
     ]
    },
    {
     "name": "stderr",
     "output_type": "stream",
     "text": [
      " 69%|██████▉   | 519/750 [02:05<00:42,  5.41it/s]"
     ]
    },
    {
     "name": "stdout",
     "output_type": "stream",
     "text": [
      "[12]\n",
      "9379\n"
     ]
    },
    {
     "name": "stderr",
     "output_type": "stream",
     "text": [
      " 69%|██████▉   | 520/750 [02:05<00:42,  5.40it/s]"
     ]
    },
    {
     "name": "stdout",
     "output_type": "stream",
     "text": [
      "[12]\n",
      "9379\n"
     ]
    },
    {
     "name": "stderr",
     "output_type": "stream",
     "text": [
      " 69%|██████▉   | 521/750 [02:05<00:42,  5.33it/s]"
     ]
    },
    {
     "name": "stdout",
     "output_type": "stream",
     "text": [
      "[12]\n",
      "9379\n"
     ]
    },
    {
     "name": "stderr",
     "output_type": "stream",
     "text": [
      " 70%|██████▉   | 522/750 [02:05<00:42,  5.33it/s]"
     ]
    },
    {
     "name": "stdout",
     "output_type": "stream",
     "text": [
      "[12]\n",
      "9379\n"
     ]
    },
    {
     "name": "stderr",
     "output_type": "stream",
     "text": [
      " 70%|██████▉   | 523/750 [02:05<00:42,  5.39it/s]"
     ]
    },
    {
     "name": "stdout",
     "output_type": "stream",
     "text": [
      "[12]\n",
      "9379\n"
     ]
    },
    {
     "name": "stderr",
     "output_type": "stream",
     "text": [
      " 70%|██████▉   | 524/750 [02:06<00:41,  5.38it/s]"
     ]
    },
    {
     "name": "stdout",
     "output_type": "stream",
     "text": [
      "[12]\n",
      "9379\n"
     ]
    },
    {
     "name": "stderr",
     "output_type": "stream",
     "text": [
      " 70%|███████   | 525/750 [02:06<00:41,  5.46it/s]"
     ]
    },
    {
     "name": "stdout",
     "output_type": "stream",
     "text": [
      "[12]\n",
      "9379\n"
     ]
    },
    {
     "name": "stderr",
     "output_type": "stream",
     "text": [
      " 70%|███████   | 526/750 [02:06<00:40,  5.48it/s]"
     ]
    },
    {
     "name": "stdout",
     "output_type": "stream",
     "text": [
      "[12]\n",
      "9379\n"
     ]
    },
    {
     "name": "stderr",
     "output_type": "stream",
     "text": [
      " 70%|███████   | 527/750 [02:06<00:40,  5.49it/s]"
     ]
    },
    {
     "name": "stdout",
     "output_type": "stream",
     "text": [
      "[12]\n",
      "9379\n"
     ]
    },
    {
     "name": "stderr",
     "output_type": "stream",
     "text": [
      " 70%|███████   | 528/750 [02:06<00:40,  5.54it/s]"
     ]
    },
    {
     "name": "stdout",
     "output_type": "stream",
     "text": [
      "[12]\n",
      "9379\n"
     ]
    },
    {
     "name": "stderr",
     "output_type": "stream",
     "text": [
      " 71%|███████   | 529/750 [02:07<00:39,  5.53it/s]"
     ]
    },
    {
     "name": "stdout",
     "output_type": "stream",
     "text": [
      "[12]\n",
      "9379\n"
     ]
    },
    {
     "name": "stderr",
     "output_type": "stream",
     "text": [
      " 71%|███████   | 530/750 [02:07<00:40,  5.46it/s]"
     ]
    },
    {
     "name": "stdout",
     "output_type": "stream",
     "text": [
      "[12]\n",
      "9379\n"
     ]
    },
    {
     "name": "stderr",
     "output_type": "stream",
     "text": [
      " 71%|███████   | 531/750 [02:07<00:40,  5.45it/s]"
     ]
    },
    {
     "name": "stdout",
     "output_type": "stream",
     "text": [
      "[12]\n",
      "9379\n"
     ]
    },
    {
     "name": "stderr",
     "output_type": "stream",
     "text": [
      " 71%|███████   | 532/750 [02:07<00:39,  5.46it/s]"
     ]
    },
    {
     "name": "stdout",
     "output_type": "stream",
     "text": [
      "[12]\n",
      "9379\n"
     ]
    },
    {
     "name": "stderr",
     "output_type": "stream",
     "text": [
      " 71%|███████   | 533/750 [02:07<00:40,  5.42it/s]"
     ]
    },
    {
     "name": "stdout",
     "output_type": "stream",
     "text": [
      "[12]\n",
      "9379\n"
     ]
    },
    {
     "name": "stderr",
     "output_type": "stream",
     "text": [
      " 71%|███████   | 534/750 [02:07<00:39,  5.47it/s]"
     ]
    },
    {
     "name": "stdout",
     "output_type": "stream",
     "text": [
      "[12]\n",
      "9379\n"
     ]
    },
    {
     "name": "stderr",
     "output_type": "stream",
     "text": [
      " 71%|███████▏  | 535/750 [02:08<00:39,  5.47it/s]"
     ]
    },
    {
     "name": "stdout",
     "output_type": "stream",
     "text": [
      "[12]\n",
      "9379\n"
     ]
    },
    {
     "name": "stderr",
     "output_type": "stream",
     "text": [
      " 71%|███████▏  | 536/750 [02:08<00:39,  5.47it/s]"
     ]
    },
    {
     "name": "stdout",
     "output_type": "stream",
     "text": [
      "[12]\n",
      "9379\n"
     ]
    },
    {
     "name": "stderr",
     "output_type": "stream",
     "text": [
      " 72%|███████▏  | 537/750 [02:08<00:39,  5.45it/s]"
     ]
    },
    {
     "name": "stdout",
     "output_type": "stream",
     "text": [
      "[12]\n",
      "9379\n"
     ]
    },
    {
     "name": "stderr",
     "output_type": "stream",
     "text": [
      " 72%|███████▏  | 538/750 [02:08<00:39,  5.37it/s]"
     ]
    },
    {
     "name": "stdout",
     "output_type": "stream",
     "text": [
      "[12]\n",
      "9379\n"
     ]
    },
    {
     "name": "stderr",
     "output_type": "stream",
     "text": [
      " 72%|███████▏  | 539/750 [02:08<00:38,  5.43it/s]"
     ]
    },
    {
     "name": "stdout",
     "output_type": "stream",
     "text": [
      "[12]\n",
      "9379\n"
     ]
    },
    {
     "name": "stderr",
     "output_type": "stream",
     "text": [
      " 72%|███████▏  | 540/750 [02:09<00:38,  5.45it/s]"
     ]
    },
    {
     "name": "stdout",
     "output_type": "stream",
     "text": [
      "[12]\n",
      "9379\n"
     ]
    },
    {
     "name": "stderr",
     "output_type": "stream",
     "text": [
      " 72%|███████▏  | 541/750 [02:09<00:38,  5.45it/s]"
     ]
    },
    {
     "name": "stdout",
     "output_type": "stream",
     "text": [
      "[12]\n",
      "9379\n"
     ]
    },
    {
     "name": "stderr",
     "output_type": "stream",
     "text": [
      " 72%|███████▏  | 542/750 [02:09<00:38,  5.45it/s]"
     ]
    },
    {
     "name": "stdout",
     "output_type": "stream",
     "text": [
      "[12]\n",
      "9379\n"
     ]
    },
    {
     "name": "stderr",
     "output_type": "stream",
     "text": [
      " 72%|███████▏  | 543/750 [02:09<00:38,  5.42it/s]"
     ]
    },
    {
     "name": "stdout",
     "output_type": "stream",
     "text": [
      "[12]\n",
      "9379\n"
     ]
    },
    {
     "name": "stderr",
     "output_type": "stream",
     "text": [
      " 73%|███████▎  | 544/750 [02:09<00:38,  5.40it/s]"
     ]
    },
    {
     "name": "stdout",
     "output_type": "stream",
     "text": [
      "[12]\n",
      "9379\n"
     ]
    },
    {
     "name": "stderr",
     "output_type": "stream",
     "text": [
      " 73%|███████▎  | 545/750 [02:09<00:37,  5.44it/s]"
     ]
    },
    {
     "name": "stdout",
     "output_type": "stream",
     "text": [
      "[12]\n",
      "9379\n"
     ]
    },
    {
     "name": "stderr",
     "output_type": "stream",
     "text": [
      " 73%|███████▎  | 546/750 [02:10<00:38,  5.33it/s]"
     ]
    },
    {
     "name": "stdout",
     "output_type": "stream",
     "text": [
      "[12]\n",
      "9379\n"
     ]
    },
    {
     "name": "stderr",
     "output_type": "stream",
     "text": [
      " 73%|███████▎  | 547/750 [02:10<00:38,  5.32it/s]"
     ]
    },
    {
     "name": "stdout",
     "output_type": "stream",
     "text": [
      "[12]\n",
      "9379\n"
     ]
    },
    {
     "name": "stderr",
     "output_type": "stream",
     "text": [
      " 73%|███████▎  | 548/750 [02:10<00:37,  5.36it/s]"
     ]
    },
    {
     "name": "stdout",
     "output_type": "stream",
     "text": [
      "[12]\n",
      "9379\n"
     ]
    },
    {
     "name": "stderr",
     "output_type": "stream",
     "text": [
      " 73%|███████▎  | 549/750 [02:10<00:37,  5.42it/s]"
     ]
    },
    {
     "name": "stdout",
     "output_type": "stream",
     "text": [
      "[12]\n",
      "9379\n"
     ]
    },
    {
     "name": "stderr",
     "output_type": "stream",
     "text": [
      " 73%|███████▎  | 550/750 [02:10<00:36,  5.44it/s]"
     ]
    },
    {
     "name": "stdout",
     "output_type": "stream",
     "text": [
      "[12]\n",
      "9379\n"
     ]
    },
    {
     "name": "stderr",
     "output_type": "stream",
     "text": [
      " 73%|███████▎  | 551/750 [02:11<00:35,  5.58it/s]"
     ]
    },
    {
     "name": "stdout",
     "output_type": "stream",
     "text": [
      "[12]\n",
      "9379\n"
     ]
    },
    {
     "name": "stderr",
     "output_type": "stream",
     "text": [
      " 74%|███████▎  | 552/750 [02:11<00:35,  5.57it/s]"
     ]
    },
    {
     "name": "stdout",
     "output_type": "stream",
     "text": [
      "[12]\n",
      "9379\n"
     ]
    },
    {
     "name": "stderr",
     "output_type": "stream",
     "text": [
      " 74%|███████▎  | 553/750 [02:11<00:35,  5.56it/s]"
     ]
    },
    {
     "name": "stdout",
     "output_type": "stream",
     "text": [
      "[12]\n",
      "9379\n"
     ]
    },
    {
     "name": "stderr",
     "output_type": "stream",
     "text": [
      " 74%|███████▍  | 554/750 [02:11<00:35,  5.54it/s]"
     ]
    },
    {
     "name": "stdout",
     "output_type": "stream",
     "text": [
      "[12]\n",
      "9379\n"
     ]
    },
    {
     "name": "stderr",
     "output_type": "stream",
     "text": [
      " 74%|███████▍  | 555/750 [02:11<00:35,  5.53it/s]"
     ]
    },
    {
     "name": "stdout",
     "output_type": "stream",
     "text": [
      "[12]\n",
      "9379\n"
     ]
    },
    {
     "name": "stderr",
     "output_type": "stream",
     "text": [
      " 74%|███████▍  | 556/750 [02:11<00:35,  5.48it/s]"
     ]
    },
    {
     "name": "stdout",
     "output_type": "stream",
     "text": [
      "[12]\n",
      "9379\n"
     ]
    },
    {
     "name": "stderr",
     "output_type": "stream",
     "text": [
      " 74%|███████▍  | 557/750 [02:12<00:35,  5.45it/s]"
     ]
    },
    {
     "name": "stdout",
     "output_type": "stream",
     "text": [
      "[12]\n",
      "9379\n"
     ]
    },
    {
     "name": "stderr",
     "output_type": "stream",
     "text": [
      " 74%|███████▍  | 558/750 [02:12<00:35,  5.45it/s]"
     ]
    },
    {
     "name": "stdout",
     "output_type": "stream",
     "text": [
      "[12]\n",
      "9379\n"
     ]
    },
    {
     "name": "stderr",
     "output_type": "stream",
     "text": [
      " 75%|███████▍  | 559/750 [02:12<00:34,  5.47it/s]"
     ]
    },
    {
     "name": "stdout",
     "output_type": "stream",
     "text": [
      "[12]\n",
      "9379\n"
     ]
    },
    {
     "name": "stderr",
     "output_type": "stream",
     "text": [
      " 75%|███████▍  | 560/750 [02:12<00:34,  5.47it/s]"
     ]
    },
    {
     "name": "stdout",
     "output_type": "stream",
     "text": [
      "[12]\n",
      "9379\n"
     ]
    },
    {
     "name": "stderr",
     "output_type": "stream",
     "text": [
      " 75%|███████▍  | 561/750 [02:12<00:34,  5.50it/s]"
     ]
    },
    {
     "name": "stdout",
     "output_type": "stream",
     "text": [
      "[12]\n",
      "9379\n"
     ]
    },
    {
     "name": "stderr",
     "output_type": "stream",
     "text": [
      " 75%|███████▍  | 562/750 [02:13<00:34,  5.42it/s]"
     ]
    },
    {
     "name": "stdout",
     "output_type": "stream",
     "text": [
      "[12]\n",
      "9379\n"
     ]
    },
    {
     "name": "stderr",
     "output_type": "stream",
     "text": [
      " 75%|███████▌  | 563/750 [02:13<00:34,  5.40it/s]"
     ]
    },
    {
     "name": "stdout",
     "output_type": "stream",
     "text": [
      "[12]\n",
      "9379\n"
     ]
    },
    {
     "name": "stderr",
     "output_type": "stream",
     "text": [
      " 75%|███████▌  | 564/750 [02:13<00:34,  5.37it/s]"
     ]
    },
    {
     "name": "stdout",
     "output_type": "stream",
     "text": [
      "[12]\n",
      "9379\n"
     ]
    },
    {
     "name": "stderr",
     "output_type": "stream",
     "text": [
      " 75%|███████▌  | 565/750 [02:13<00:34,  5.42it/s]"
     ]
    },
    {
     "name": "stdout",
     "output_type": "stream",
     "text": [
      "[12]\n",
      "9379\n"
     ]
    },
    {
     "name": "stderr",
     "output_type": "stream",
     "text": [
      " 75%|███████▌  | 566/750 [02:13<00:33,  5.45it/s]"
     ]
    },
    {
     "name": "stdout",
     "output_type": "stream",
     "text": [
      "[12]\n",
      "9379\n"
     ]
    },
    {
     "name": "stderr",
     "output_type": "stream",
     "text": [
      " 76%|███████▌  | 567/750 [02:14<00:33,  5.44it/s]"
     ]
    },
    {
     "name": "stdout",
     "output_type": "stream",
     "text": [
      "[12]\n",
      "9379\n"
     ]
    },
    {
     "name": "stderr",
     "output_type": "stream",
     "text": [
      " 76%|███████▌  | 568/750 [02:14<00:33,  5.48it/s]"
     ]
    },
    {
     "name": "stdout",
     "output_type": "stream",
     "text": [
      "[12]\n",
      "9379\n"
     ]
    },
    {
     "name": "stderr",
     "output_type": "stream",
     "text": [
      " 76%|███████▌  | 569/750 [02:14<00:33,  5.40it/s]"
     ]
    },
    {
     "name": "stdout",
     "output_type": "stream",
     "text": [
      "[12]\n",
      "9379\n"
     ]
    },
    {
     "name": "stderr",
     "output_type": "stream",
     "text": [
      " 76%|███████▌  | 570/750 [02:14<00:33,  5.33it/s]"
     ]
    },
    {
     "name": "stdout",
     "output_type": "stream",
     "text": [
      "[12]\n",
      "9379\n"
     ]
    },
    {
     "name": "stderr",
     "output_type": "stream",
     "text": [
      " 76%|███████▌  | 571/750 [02:14<00:33,  5.42it/s]"
     ]
    },
    {
     "name": "stdout",
     "output_type": "stream",
     "text": [
      "[12]\n",
      "9379\n"
     ]
    },
    {
     "name": "stderr",
     "output_type": "stream",
     "text": [
      " 76%|███████▋  | 572/750 [02:14<00:32,  5.47it/s]"
     ]
    },
    {
     "name": "stdout",
     "output_type": "stream",
     "text": [
      "[12]\n",
      "9379\n"
     ]
    },
    {
     "name": "stderr",
     "output_type": "stream",
     "text": [
      " 76%|███████▋  | 573/750 [02:15<00:32,  5.42it/s]"
     ]
    },
    {
     "name": "stdout",
     "output_type": "stream",
     "text": [
      "[12]\n",
      "9379\n"
     ]
    },
    {
     "name": "stderr",
     "output_type": "stream",
     "text": [
      " 77%|███████▋  | 574/750 [02:15<00:32,  5.46it/s]"
     ]
    },
    {
     "name": "stdout",
     "output_type": "stream",
     "text": [
      "[12]\n",
      "9379\n"
     ]
    },
    {
     "name": "stderr",
     "output_type": "stream",
     "text": [
      " 77%|███████▋  | 575/750 [02:15<00:31,  5.47it/s]"
     ]
    },
    {
     "name": "stdout",
     "output_type": "stream",
     "text": [
      "[12]\n",
      "9379\n"
     ]
    },
    {
     "name": "stderr",
     "output_type": "stream",
     "text": [
      " 77%|███████▋  | 576/750 [02:15<00:31,  5.44it/s]"
     ]
    },
    {
     "name": "stdout",
     "output_type": "stream",
     "text": [
      "[12]\n",
      "9379\n"
     ]
    },
    {
     "name": "stderr",
     "output_type": "stream",
     "text": [
      " 77%|███████▋  | 577/750 [02:15<00:31,  5.42it/s]"
     ]
    },
    {
     "name": "stdout",
     "output_type": "stream",
     "text": [
      "[12]\n",
      "9379\n"
     ]
    },
    {
     "name": "stderr",
     "output_type": "stream",
     "text": [
      " 77%|███████▋  | 578/750 [02:16<00:31,  5.43it/s]"
     ]
    },
    {
     "name": "stdout",
     "output_type": "stream",
     "text": [
      "[12]\n",
      "9379\n"
     ]
    },
    {
     "name": "stderr",
     "output_type": "stream",
     "text": [
      " 77%|███████▋  | 579/750 [02:16<00:31,  5.41it/s]"
     ]
    },
    {
     "name": "stdout",
     "output_type": "stream",
     "text": [
      "[12]\n",
      "9379\n"
     ]
    },
    {
     "name": "stderr",
     "output_type": "stream",
     "text": [
      " 77%|███████▋  | 580/750 [02:16<00:31,  5.44it/s]"
     ]
    },
    {
     "name": "stdout",
     "output_type": "stream",
     "text": [
      "[12]\n",
      "9379\n"
     ]
    },
    {
     "name": "stderr",
     "output_type": "stream",
     "text": [
      " 77%|███████▋  | 581/750 [02:16<00:31,  5.40it/s]"
     ]
    },
    {
     "name": "stdout",
     "output_type": "stream",
     "text": [
      "[12]\n",
      "9379\n"
     ]
    },
    {
     "name": "stderr",
     "output_type": "stream",
     "text": [
      " 78%|███████▊  | 582/750 [02:16<00:30,  5.43it/s]"
     ]
    },
    {
     "name": "stdout",
     "output_type": "stream",
     "text": [
      "[12]\n",
      "9379\n"
     ]
    },
    {
     "name": "stderr",
     "output_type": "stream",
     "text": [
      " 78%|███████▊  | 583/750 [02:16<00:30,  5.49it/s]"
     ]
    },
    {
     "name": "stdout",
     "output_type": "stream",
     "text": [
      "[12]\n",
      "9379\n"
     ]
    },
    {
     "name": "stderr",
     "output_type": "stream",
     "text": [
      " 78%|███████▊  | 584/750 [02:17<00:29,  5.55it/s]"
     ]
    },
    {
     "name": "stdout",
     "output_type": "stream",
     "text": [
      "[12]\n",
      "9379\n"
     ]
    },
    {
     "name": "stderr",
     "output_type": "stream",
     "text": [
      " 78%|███████▊  | 585/750 [02:17<00:29,  5.50it/s]"
     ]
    },
    {
     "name": "stdout",
     "output_type": "stream",
     "text": [
      "[12]\n",
      "9379\n"
     ]
    },
    {
     "name": "stderr",
     "output_type": "stream",
     "text": [
      " 78%|███████▊  | 586/750 [02:17<00:29,  5.54it/s]"
     ]
    },
    {
     "name": "stdout",
     "output_type": "stream",
     "text": [
      "[12]\n",
      "9379\n"
     ]
    },
    {
     "name": "stderr",
     "output_type": "stream",
     "text": [
      " 78%|███████▊  | 587/750 [02:17<00:29,  5.46it/s]"
     ]
    },
    {
     "name": "stdout",
     "output_type": "stream",
     "text": [
      "[12]\n",
      "9379\n"
     ]
    },
    {
     "name": "stderr",
     "output_type": "stream",
     "text": [
      " 78%|███████▊  | 588/750 [02:17<00:29,  5.42it/s]"
     ]
    },
    {
     "name": "stdout",
     "output_type": "stream",
     "text": [
      "[12]\n",
      "9379\n"
     ]
    },
    {
     "name": "stderr",
     "output_type": "stream",
     "text": [
      " 79%|███████▊  | 589/750 [02:18<00:29,  5.44it/s]"
     ]
    },
    {
     "name": "stdout",
     "output_type": "stream",
     "text": [
      "[12]\n",
      "9379\n"
     ]
    },
    {
     "name": "stderr",
     "output_type": "stream",
     "text": [
      " 79%|███████▊  | 590/750 [02:18<00:29,  5.47it/s]"
     ]
    },
    {
     "name": "stdout",
     "output_type": "stream",
     "text": [
      "[12]\n",
      "9379\n"
     ]
    },
    {
     "name": "stderr",
     "output_type": "stream",
     "text": [
      " 79%|███████▉  | 591/750 [02:18<00:29,  5.47it/s]"
     ]
    },
    {
     "name": "stdout",
     "output_type": "stream",
     "text": [
      "[12]\n",
      "9379\n"
     ]
    },
    {
     "name": "stderr",
     "output_type": "stream",
     "text": [
      " 79%|███████▉  | 592/750 [02:18<00:29,  5.41it/s]"
     ]
    },
    {
     "name": "stdout",
     "output_type": "stream",
     "text": [
      "[12]\n",
      "9379\n"
     ]
    },
    {
     "name": "stderr",
     "output_type": "stream",
     "text": [
      " 79%|███████▉  | 593/750 [02:18<00:28,  5.43it/s]"
     ]
    },
    {
     "name": "stdout",
     "output_type": "stream",
     "text": [
      "[12]\n",
      "9379\n"
     ]
    },
    {
     "name": "stderr",
     "output_type": "stream",
     "text": [
      " 79%|███████▉  | 594/750 [02:18<00:28,  5.40it/s]"
     ]
    },
    {
     "name": "stdout",
     "output_type": "stream",
     "text": [
      "[12]\n",
      "9379\n"
     ]
    },
    {
     "name": "stderr",
     "output_type": "stream",
     "text": [
      " 79%|███████▉  | 595/750 [02:19<00:28,  5.39it/s]"
     ]
    },
    {
     "name": "stdout",
     "output_type": "stream",
     "text": [
      "[12]\n",
      "9379\n"
     ]
    },
    {
     "name": "stderr",
     "output_type": "stream",
     "text": [
      " 79%|███████▉  | 596/750 [02:19<00:28,  5.41it/s]"
     ]
    },
    {
     "name": "stdout",
     "output_type": "stream",
     "text": [
      "[12]\n",
      "9379\n"
     ]
    },
    {
     "name": "stderr",
     "output_type": "stream",
     "text": [
      " 80%|███████▉  | 597/750 [02:19<00:28,  5.38it/s]"
     ]
    },
    {
     "name": "stdout",
     "output_type": "stream",
     "text": [
      "[12]\n",
      "9379\n"
     ]
    },
    {
     "name": "stderr",
     "output_type": "stream",
     "text": [
      " 80%|███████▉  | 598/750 [02:19<00:28,  5.39it/s]"
     ]
    },
    {
     "name": "stdout",
     "output_type": "stream",
     "text": [
      "[12]\n",
      "9379\n"
     ]
    },
    {
     "name": "stderr",
     "output_type": "stream",
     "text": [
      " 80%|███████▉  | 599/750 [02:19<00:27,  5.44it/s]"
     ]
    },
    {
     "name": "stdout",
     "output_type": "stream",
     "text": [
      "[12]\n",
      "9379\n"
     ]
    },
    {
     "name": "stderr",
     "output_type": "stream",
     "text": [
      " 80%|████████  | 600/750 [02:20<00:27,  5.47it/s]"
     ]
    },
    {
     "name": "stdout",
     "output_type": "stream",
     "text": [
      "[12]\n",
      "9379\n"
     ]
    },
    {
     "name": "stderr",
     "output_type": "stream",
     "text": [
      " 80%|████████  | 601/750 [02:20<00:27,  5.49it/s]"
     ]
    },
    {
     "name": "stdout",
     "output_type": "stream",
     "text": [
      "[12]\n",
      "9379\n"
     ]
    },
    {
     "name": "stderr",
     "output_type": "stream",
     "text": [
      " 80%|████████  | 602/750 [02:20<00:26,  5.50it/s]"
     ]
    },
    {
     "name": "stdout",
     "output_type": "stream",
     "text": [
      "[12]\n",
      "9379\n"
     ]
    },
    {
     "name": "stderr",
     "output_type": "stream",
     "text": [
      " 80%|████████  | 603/750 [02:20<00:27,  5.43it/s]"
     ]
    },
    {
     "name": "stdout",
     "output_type": "stream",
     "text": [
      "[12]\n",
      "9379\n"
     ]
    },
    {
     "name": "stderr",
     "output_type": "stream",
     "text": [
      " 81%|████████  | 604/750 [02:20<00:26,  5.41it/s]"
     ]
    },
    {
     "name": "stdout",
     "output_type": "stream",
     "text": [
      "[12]\n",
      "9379\n"
     ]
    },
    {
     "name": "stderr",
     "output_type": "stream",
     "text": [
      " 81%|████████  | 605/750 [02:20<00:26,  5.42it/s]"
     ]
    },
    {
     "name": "stdout",
     "output_type": "stream",
     "text": [
      "[12]\n",
      "9379\n"
     ]
    },
    {
     "name": "stderr",
     "output_type": "stream",
     "text": [
      " 81%|████████  | 606/750 [02:21<00:26,  5.41it/s]"
     ]
    },
    {
     "name": "stdout",
     "output_type": "stream",
     "text": [
      "[12]\n",
      "9379\n"
     ]
    },
    {
     "name": "stderr",
     "output_type": "stream",
     "text": [
      " 81%|████████  | 607/750 [02:21<00:26,  5.42it/s]"
     ]
    },
    {
     "name": "stdout",
     "output_type": "stream",
     "text": [
      "[12]\n",
      "9379\n"
     ]
    },
    {
     "name": "stderr",
     "output_type": "stream",
     "text": [
      " 81%|████████  | 608/750 [02:21<00:26,  5.45it/s]"
     ]
    },
    {
     "name": "stdout",
     "output_type": "stream",
     "text": [
      "[12]\n",
      "9379\n"
     ]
    },
    {
     "name": "stderr",
     "output_type": "stream",
     "text": [
      " 81%|████████  | 609/750 [02:21<00:25,  5.50it/s]"
     ]
    },
    {
     "name": "stdout",
     "output_type": "stream",
     "text": [
      "[12]\n",
      "9379\n"
     ]
    },
    {
     "name": "stderr",
     "output_type": "stream",
     "text": [
      " 81%|████████▏ | 610/750 [02:21<00:25,  5.51it/s]"
     ]
    },
    {
     "name": "stdout",
     "output_type": "stream",
     "text": [
      "[12]\n",
      "9379\n"
     ]
    },
    {
     "name": "stderr",
     "output_type": "stream",
     "text": [
      " 81%|████████▏ | 611/750 [02:22<00:25,  5.56it/s]"
     ]
    },
    {
     "name": "stdout",
     "output_type": "stream",
     "text": [
      "[12]\n",
      "9379\n"
     ]
    },
    {
     "name": "stderr",
     "output_type": "stream",
     "text": [
      " 82%|████████▏ | 612/750 [02:22<00:25,  5.49it/s]"
     ]
    },
    {
     "name": "stdout",
     "output_type": "stream",
     "text": [
      "[12]\n",
      "9379\n"
     ]
    },
    {
     "name": "stderr",
     "output_type": "stream",
     "text": [
      " 82%|████████▏ | 613/750 [02:22<00:24,  5.48it/s]"
     ]
    },
    {
     "name": "stdout",
     "output_type": "stream",
     "text": [
      "[12]\n",
      "9379\n"
     ]
    },
    {
     "name": "stderr",
     "output_type": "stream",
     "text": [
      " 82%|████████▏ | 614/750 [02:22<00:24,  5.45it/s]"
     ]
    },
    {
     "name": "stdout",
     "output_type": "stream",
     "text": [
      "[12]\n",
      "9379\n"
     ]
    },
    {
     "name": "stderr",
     "output_type": "stream",
     "text": [
      " 82%|████████▏ | 615/750 [02:22<00:24,  5.45it/s]"
     ]
    },
    {
     "name": "stdout",
     "output_type": "stream",
     "text": [
      "[12]\n",
      "9379\n"
     ]
    },
    {
     "name": "stderr",
     "output_type": "stream",
     "text": [
      " 82%|████████▏ | 616/750 [02:23<00:24,  5.41it/s]"
     ]
    },
    {
     "name": "stdout",
     "output_type": "stream",
     "text": [
      "[12]\n",
      "9379\n"
     ]
    },
    {
     "name": "stderr",
     "output_type": "stream",
     "text": [
      " 82%|████████▏ | 617/750 [02:23<00:24,  5.45it/s]"
     ]
    },
    {
     "name": "stdout",
     "output_type": "stream",
     "text": [
      "[12]\n",
      "9379\n"
     ]
    },
    {
     "name": "stderr",
     "output_type": "stream",
     "text": [
      " 82%|████████▏ | 618/750 [02:23<00:24,  5.46it/s]"
     ]
    },
    {
     "name": "stdout",
     "output_type": "stream",
     "text": [
      "[12]\n",
      "9379\n"
     ]
    },
    {
     "name": "stderr",
     "output_type": "stream",
     "text": [
      " 83%|████████▎ | 619/750 [02:23<00:24,  5.43it/s]"
     ]
    },
    {
     "name": "stdout",
     "output_type": "stream",
     "text": [
      "[12]\n",
      "9379\n"
     ]
    },
    {
     "name": "stderr",
     "output_type": "stream",
     "text": [
      " 83%|████████▎ | 620/750 [02:23<00:23,  5.43it/s]"
     ]
    },
    {
     "name": "stdout",
     "output_type": "stream",
     "text": [
      "[12]\n",
      "9379\n"
     ]
    },
    {
     "name": "stderr",
     "output_type": "stream",
     "text": [
      " 83%|████████▎ | 621/750 [02:23<00:23,  5.43it/s]"
     ]
    },
    {
     "name": "stdout",
     "output_type": "stream",
     "text": [
      "[12]\n",
      "9379\n"
     ]
    },
    {
     "name": "stderr",
     "output_type": "stream",
     "text": [
      " 83%|████████▎ | 622/750 [02:24<00:23,  5.44it/s]"
     ]
    },
    {
     "name": "stdout",
     "output_type": "stream",
     "text": [
      "[12]\n",
      "9379\n"
     ]
    },
    {
     "name": "stderr",
     "output_type": "stream",
     "text": [
      " 83%|████████▎ | 623/750 [02:24<00:23,  5.42it/s]"
     ]
    },
    {
     "name": "stdout",
     "output_type": "stream",
     "text": [
      "[12]\n",
      "9379\n"
     ]
    },
    {
     "name": "stderr",
     "output_type": "stream",
     "text": [
      " 83%|████████▎ | 624/750 [02:24<00:23,  5.40it/s]"
     ]
    },
    {
     "name": "stdout",
     "output_type": "stream",
     "text": [
      "[12]\n",
      "9379\n"
     ]
    },
    {
     "name": "stderr",
     "output_type": "stream",
     "text": [
      " 83%|████████▎ | 625/750 [02:24<00:23,  5.42it/s]"
     ]
    },
    {
     "name": "stdout",
     "output_type": "stream",
     "text": [
      "[12]\n",
      "9379\n"
     ]
    },
    {
     "name": "stderr",
     "output_type": "stream",
     "text": [
      " 83%|████████▎ | 626/750 [02:24<00:23,  5.39it/s]"
     ]
    },
    {
     "name": "stdout",
     "output_type": "stream",
     "text": [
      "[12]\n",
      "9379\n"
     ]
    },
    {
     "name": "stderr",
     "output_type": "stream",
     "text": [
      " 84%|████████▎ | 627/750 [02:25<00:22,  5.41it/s]"
     ]
    },
    {
     "name": "stdout",
     "output_type": "stream",
     "text": [
      "[12]\n",
      "9379\n"
     ]
    },
    {
     "name": "stderr",
     "output_type": "stream",
     "text": [
      " 84%|████████▎ | 628/750 [02:25<00:22,  5.45it/s]"
     ]
    },
    {
     "name": "stdout",
     "output_type": "stream",
     "text": [
      "[12]\n",
      "9379\n"
     ]
    },
    {
     "name": "stderr",
     "output_type": "stream",
     "text": [
      " 84%|████████▍ | 629/750 [02:25<00:22,  5.46it/s]"
     ]
    },
    {
     "name": "stdout",
     "output_type": "stream",
     "text": [
      "[12]\n",
      "9379\n"
     ]
    },
    {
     "name": "stderr",
     "output_type": "stream",
     "text": [
      " 84%|████████▍ | 630/750 [02:25<00:21,  5.45it/s]"
     ]
    },
    {
     "name": "stdout",
     "output_type": "stream",
     "text": [
      "[12]\n",
      "9379\n"
     ]
    },
    {
     "name": "stderr",
     "output_type": "stream",
     "text": [
      " 84%|████████▍ | 631/750 [02:25<00:21,  5.43it/s]"
     ]
    },
    {
     "name": "stdout",
     "output_type": "stream",
     "text": [
      "[12]\n",
      "9379\n"
     ]
    },
    {
     "name": "stderr",
     "output_type": "stream",
     "text": [
      " 84%|████████▍ | 632/750 [02:25<00:21,  5.44it/s]"
     ]
    },
    {
     "name": "stdout",
     "output_type": "stream",
     "text": [
      "[12]\n",
      "9379\n"
     ]
    },
    {
     "name": "stderr",
     "output_type": "stream",
     "text": [
      " 84%|████████▍ | 633/750 [02:26<00:21,  5.46it/s]"
     ]
    },
    {
     "name": "stdout",
     "output_type": "stream",
     "text": [
      "[12]\n",
      "9379\n"
     ]
    },
    {
     "name": "stderr",
     "output_type": "stream",
     "text": [
      " 85%|████████▍ | 634/750 [02:26<00:21,  5.46it/s]"
     ]
    },
    {
     "name": "stdout",
     "output_type": "stream",
     "text": [
      "[12]\n",
      "9379\n"
     ]
    },
    {
     "name": "stderr",
     "output_type": "stream",
     "text": [
      " 85%|████████▍ | 635/750 [02:26<00:21,  5.47it/s]"
     ]
    },
    {
     "name": "stdout",
     "output_type": "stream",
     "text": [
      "[12]\n",
      "9379\n"
     ]
    },
    {
     "name": "stderr",
     "output_type": "stream",
     "text": [
      " 85%|████████▍ | 636/750 [02:26<00:20,  5.51it/s]"
     ]
    },
    {
     "name": "stdout",
     "output_type": "stream",
     "text": [
      "[12]\n",
      "9379\n"
     ]
    },
    {
     "name": "stderr",
     "output_type": "stream",
     "text": [
      " 85%|████████▍ | 637/750 [02:26<00:20,  5.47it/s]"
     ]
    },
    {
     "name": "stdout",
     "output_type": "stream",
     "text": [
      "[12]\n",
      "9379\n"
     ]
    },
    {
     "name": "stderr",
     "output_type": "stream",
     "text": [
      " 85%|████████▌ | 638/750 [02:27<00:20,  5.43it/s]"
     ]
    },
    {
     "name": "stdout",
     "output_type": "stream",
     "text": [
      "[12]\n",
      "9379\n"
     ]
    },
    {
     "name": "stderr",
     "output_type": "stream",
     "text": [
      " 85%|████████▌ | 639/750 [02:27<00:20,  5.43it/s]"
     ]
    },
    {
     "name": "stdout",
     "output_type": "stream",
     "text": [
      "[12]\n",
      "9379\n"
     ]
    },
    {
     "name": "stderr",
     "output_type": "stream",
     "text": [
      " 85%|████████▌ | 640/750 [02:27<00:20,  5.37it/s]"
     ]
    },
    {
     "name": "stdout",
     "output_type": "stream",
     "text": [
      "[12]\n",
      "9379\n"
     ]
    },
    {
     "name": "stderr",
     "output_type": "stream",
     "text": [
      " 85%|████████▌ | 641/750 [02:27<00:20,  5.41it/s]"
     ]
    },
    {
     "name": "stdout",
     "output_type": "stream",
     "text": [
      "[12]\n",
      "9379\n"
     ]
    },
    {
     "name": "stderr",
     "output_type": "stream",
     "text": [
      " 86%|████████▌ | 642/750 [02:27<00:19,  5.40it/s]"
     ]
    },
    {
     "name": "stdout",
     "output_type": "stream",
     "text": [
      "[12]\n",
      "9379\n"
     ]
    },
    {
     "name": "stderr",
     "output_type": "stream",
     "text": [
      " 86%|████████▌ | 643/750 [02:27<00:19,  5.47it/s]"
     ]
    },
    {
     "name": "stdout",
     "output_type": "stream",
     "text": [
      "[12]\n",
      "9379\n"
     ]
    },
    {
     "name": "stderr",
     "output_type": "stream",
     "text": [
      " 86%|████████▌ | 644/750 [02:28<00:19,  5.43it/s]"
     ]
    },
    {
     "name": "stdout",
     "output_type": "stream",
     "text": [
      "[12]\n",
      "9379\n"
     ]
    },
    {
     "name": "stderr",
     "output_type": "stream",
     "text": [
      " 86%|████████▌ | 645/750 [02:28<00:19,  5.37it/s]"
     ]
    },
    {
     "name": "stdout",
     "output_type": "stream",
     "text": [
      "[12]\n",
      "9379\n"
     ]
    },
    {
     "name": "stderr",
     "output_type": "stream",
     "text": [
      " 86%|████████▌ | 646/750 [02:28<00:19,  5.37it/s]"
     ]
    },
    {
     "name": "stdout",
     "output_type": "stream",
     "text": [
      "[12]\n",
      "9379\n"
     ]
    },
    {
     "name": "stderr",
     "output_type": "stream",
     "text": [
      " 86%|████████▋ | 647/750 [02:28<00:19,  5.42it/s]"
     ]
    },
    {
     "name": "stdout",
     "output_type": "stream",
     "text": [
      "[12]\n",
      "9379\n"
     ]
    },
    {
     "name": "stderr",
     "output_type": "stream",
     "text": [
      " 86%|████████▋ | 648/750 [02:28<00:18,  5.47it/s]"
     ]
    },
    {
     "name": "stdout",
     "output_type": "stream",
     "text": [
      "[12]\n",
      "9379\n"
     ]
    },
    {
     "name": "stderr",
     "output_type": "stream",
     "text": [
      " 87%|████████▋ | 649/750 [02:29<00:18,  5.45it/s]"
     ]
    },
    {
     "name": "stdout",
     "output_type": "stream",
     "text": [
      "[12]\n",
      "9379\n"
     ]
    },
    {
     "name": "stderr",
     "output_type": "stream",
     "text": [
      " 87%|████████▋ | 650/750 [02:29<00:18,  5.39it/s]"
     ]
    },
    {
     "name": "stdout",
     "output_type": "stream",
     "text": [
      "[12]\n",
      "9379\n"
     ]
    },
    {
     "name": "stderr",
     "output_type": "stream",
     "text": [
      " 87%|████████▋ | 651/750 [02:29<00:18,  5.43it/s]"
     ]
    },
    {
     "name": "stdout",
     "output_type": "stream",
     "text": [
      "[12]\n",
      "9379\n"
     ]
    },
    {
     "name": "stderr",
     "output_type": "stream",
     "text": [
      " 87%|████████▋ | 652/750 [02:29<00:18,  5.41it/s]"
     ]
    },
    {
     "name": "stdout",
     "output_type": "stream",
     "text": [
      "[12]\n",
      "9379\n"
     ]
    },
    {
     "name": "stderr",
     "output_type": "stream",
     "text": [
      " 87%|████████▋ | 653/750 [02:29<00:17,  5.40it/s]"
     ]
    },
    {
     "name": "stdout",
     "output_type": "stream",
     "text": [
      "[12]\n",
      "9379\n"
     ]
    },
    {
     "name": "stderr",
     "output_type": "stream",
     "text": [
      " 87%|████████▋ | 654/750 [02:30<00:18,  5.33it/s]"
     ]
    },
    {
     "name": "stdout",
     "output_type": "stream",
     "text": [
      "[12]\n",
      "9379\n"
     ]
    },
    {
     "name": "stderr",
     "output_type": "stream",
     "text": [
      " 87%|████████▋ | 655/750 [02:30<00:18,  5.27it/s]"
     ]
    },
    {
     "name": "stdout",
     "output_type": "stream",
     "text": [
      "[12]\n",
      "9379\n"
     ]
    },
    {
     "name": "stderr",
     "output_type": "stream",
     "text": [
      " 87%|████████▋ | 656/750 [02:30<00:17,  5.31it/s]"
     ]
    },
    {
     "name": "stdout",
     "output_type": "stream",
     "text": [
      "[12]\n",
      "9379\n"
     ]
    },
    {
     "name": "stderr",
     "output_type": "stream",
     "text": [
      " 88%|████████▊ | 657/750 [02:30<00:17,  5.35it/s]"
     ]
    },
    {
     "name": "stdout",
     "output_type": "stream",
     "text": [
      "[12]\n",
      "9379\n"
     ]
    },
    {
     "name": "stderr",
     "output_type": "stream",
     "text": [
      " 88%|████████▊ | 658/750 [02:30<00:17,  5.40it/s]"
     ]
    },
    {
     "name": "stdout",
     "output_type": "stream",
     "text": [
      "[12]\n",
      "9379\n"
     ]
    },
    {
     "name": "stderr",
     "output_type": "stream",
     "text": [
      " 88%|████████▊ | 659/750 [02:30<00:16,  5.39it/s]"
     ]
    },
    {
     "name": "stdout",
     "output_type": "stream",
     "text": [
      "[12]\n",
      "9379\n"
     ]
    },
    {
     "name": "stderr",
     "output_type": "stream",
     "text": [
      " 88%|████████▊ | 660/750 [02:31<00:16,  5.44it/s]"
     ]
    },
    {
     "name": "stdout",
     "output_type": "stream",
     "text": [
      "[12]\n",
      "9379\n"
     ]
    },
    {
     "name": "stderr",
     "output_type": "stream",
     "text": [
      " 88%|████████▊ | 661/750 [02:31<00:16,  5.45it/s]"
     ]
    },
    {
     "name": "stdout",
     "output_type": "stream",
     "text": [
      "[12]\n",
      "9379\n"
     ]
    },
    {
     "name": "stderr",
     "output_type": "stream",
     "text": [
      " 88%|████████▊ | 662/750 [02:31<00:16,  5.50it/s]"
     ]
    },
    {
     "name": "stdout",
     "output_type": "stream",
     "text": [
      "[12]\n",
      "9379\n"
     ]
    },
    {
     "name": "stderr",
     "output_type": "stream",
     "text": [
      " 88%|████████▊ | 663/750 [02:31<00:15,  5.44it/s]"
     ]
    },
    {
     "name": "stdout",
     "output_type": "stream",
     "text": [
      "[12]\n",
      "9379\n"
     ]
    },
    {
     "name": "stderr",
     "output_type": "stream",
     "text": [
      " 89%|████████▊ | 664/750 [02:31<00:15,  5.39it/s]"
     ]
    },
    {
     "name": "stdout",
     "output_type": "stream",
     "text": [
      "[12]\n",
      "9379\n"
     ]
    },
    {
     "name": "stderr",
     "output_type": "stream",
     "text": [
      " 89%|████████▊ | 665/750 [02:32<00:15,  5.41it/s]"
     ]
    },
    {
     "name": "stdout",
     "output_type": "stream",
     "text": [
      "[12]\n",
      "9379\n"
     ]
    },
    {
     "name": "stderr",
     "output_type": "stream",
     "text": [
      " 89%|████████▉ | 666/750 [02:32<00:15,  5.45it/s]"
     ]
    },
    {
     "name": "stdout",
     "output_type": "stream",
     "text": [
      "[12]\n",
      "9379\n"
     ]
    },
    {
     "name": "stderr",
     "output_type": "stream",
     "text": [
      " 89%|████████▉ | 667/750 [02:32<00:15,  5.46it/s]"
     ]
    },
    {
     "name": "stdout",
     "output_type": "stream",
     "text": [
      "[12]\n",
      "9379\n"
     ]
    },
    {
     "name": "stderr",
     "output_type": "stream",
     "text": [
      " 89%|████████▉ | 668/750 [02:32<00:15,  5.41it/s]"
     ]
    },
    {
     "name": "stdout",
     "output_type": "stream",
     "text": [
      "[12]\n",
      "9379\n"
     ]
    },
    {
     "name": "stderr",
     "output_type": "stream",
     "text": [
      " 89%|████████▉ | 669/750 [02:32<00:15,  5.38it/s]"
     ]
    },
    {
     "name": "stdout",
     "output_type": "stream",
     "text": [
      "[12]\n",
      "9379\n"
     ]
    },
    {
     "name": "stderr",
     "output_type": "stream",
     "text": [
      " 89%|████████▉ | 670/750 [02:32<00:14,  5.36it/s]"
     ]
    },
    {
     "name": "stdout",
     "output_type": "stream",
     "text": [
      "[12]\n",
      "9379\n"
     ]
    },
    {
     "name": "stderr",
     "output_type": "stream",
     "text": [
      " 89%|████████▉ | 671/750 [02:33<00:14,  5.42it/s]"
     ]
    },
    {
     "name": "stdout",
     "output_type": "stream",
     "text": [
      "[12]\n",
      "9379\n"
     ]
    },
    {
     "name": "stderr",
     "output_type": "stream",
     "text": [
      " 90%|████████▉ | 672/750 [02:33<00:13,  5.57it/s]"
     ]
    },
    {
     "name": "stdout",
     "output_type": "stream",
     "text": [
      "[12]\n",
      "9379\n"
     ]
    },
    {
     "name": "stderr",
     "output_type": "stream",
     "text": [
      " 90%|████████▉ | 673/750 [02:33<00:14,  5.49it/s]"
     ]
    },
    {
     "name": "stdout",
     "output_type": "stream",
     "text": [
      "[12]\n",
      "9379\n"
     ]
    },
    {
     "name": "stderr",
     "output_type": "stream",
     "text": [
      " 90%|████████▉ | 674/750 [02:33<00:13,  5.48it/s]"
     ]
    },
    {
     "name": "stdout",
     "output_type": "stream",
     "text": [
      "[12]\n",
      "9379\n"
     ]
    },
    {
     "name": "stderr",
     "output_type": "stream",
     "text": [
      " 90%|█████████ | 675/750 [02:33<00:13,  5.46it/s]"
     ]
    },
    {
     "name": "stdout",
     "output_type": "stream",
     "text": [
      "[12]\n",
      "9379\n"
     ]
    },
    {
     "name": "stderr",
     "output_type": "stream",
     "text": [
      " 90%|█████████ | 676/750 [02:34<00:13,  5.45it/s]"
     ]
    },
    {
     "name": "stdout",
     "output_type": "stream",
     "text": [
      "[12]\n",
      "9379\n"
     ]
    },
    {
     "name": "stderr",
     "output_type": "stream",
     "text": [
      " 90%|█████████ | 677/750 [02:34<00:13,  5.44it/s]"
     ]
    },
    {
     "name": "stdout",
     "output_type": "stream",
     "text": [
      "[12]\n",
      "9379\n"
     ]
    },
    {
     "name": "stderr",
     "output_type": "stream",
     "text": [
      " 90%|█████████ | 678/750 [02:34<00:13,  5.45it/s]"
     ]
    },
    {
     "name": "stdout",
     "output_type": "stream",
     "text": [
      "[12]\n",
      "9379\n"
     ]
    },
    {
     "name": "stderr",
     "output_type": "stream",
     "text": [
      " 91%|█████████ | 679/750 [02:34<00:13,  5.42it/s]"
     ]
    },
    {
     "name": "stdout",
     "output_type": "stream",
     "text": [
      "[12]\n",
      "9379\n"
     ]
    },
    {
     "name": "stderr",
     "output_type": "stream",
     "text": [
      " 91%|█████████ | 680/750 [02:34<00:12,  5.41it/s]"
     ]
    },
    {
     "name": "stdout",
     "output_type": "stream",
     "text": [
      "[12]\n",
      "9379\n"
     ]
    },
    {
     "name": "stderr",
     "output_type": "stream",
     "text": [
      " 91%|█████████ | 681/750 [02:34<00:12,  5.41it/s]"
     ]
    },
    {
     "name": "stdout",
     "output_type": "stream",
     "text": [
      "[12]\n",
      "9379\n"
     ]
    },
    {
     "name": "stderr",
     "output_type": "stream",
     "text": [
      " 91%|█████████ | 682/750 [02:35<00:12,  5.43it/s]"
     ]
    },
    {
     "name": "stdout",
     "output_type": "stream",
     "text": [
      "[12]\n",
      "9379\n"
     ]
    },
    {
     "name": "stderr",
     "output_type": "stream",
     "text": [
      " 91%|█████████ | 683/750 [02:35<00:12,  5.42it/s]"
     ]
    },
    {
     "name": "stdout",
     "output_type": "stream",
     "text": [
      "[12]\n",
      "9379\n"
     ]
    },
    {
     "name": "stderr",
     "output_type": "stream",
     "text": [
      " 91%|█████████ | 684/750 [02:35<00:12,  5.36it/s]"
     ]
    },
    {
     "name": "stdout",
     "output_type": "stream",
     "text": [
      "[12]\n",
      "9379\n"
     ]
    },
    {
     "name": "stderr",
     "output_type": "stream",
     "text": [
      " 91%|█████████▏| 685/750 [02:35<00:11,  5.43it/s]"
     ]
    },
    {
     "name": "stdout",
     "output_type": "stream",
     "text": [
      "[12]\n",
      "9379\n"
     ]
    },
    {
     "name": "stderr",
     "output_type": "stream",
     "text": [
      " 91%|█████████▏| 686/750 [02:35<00:11,  5.40it/s]"
     ]
    },
    {
     "name": "stdout",
     "output_type": "stream",
     "text": [
      "[12]\n",
      "9379\n"
     ]
    },
    {
     "name": "stderr",
     "output_type": "stream",
     "text": [
      " 92%|█████████▏| 687/750 [02:36<00:11,  5.42it/s]"
     ]
    },
    {
     "name": "stdout",
     "output_type": "stream",
     "text": [
      "[12]\n",
      "9379\n"
     ]
    },
    {
     "name": "stderr",
     "output_type": "stream",
     "text": [
      " 92%|█████████▏| 688/750 [02:36<00:11,  5.42it/s]"
     ]
    },
    {
     "name": "stdout",
     "output_type": "stream",
     "text": [
      "[12]\n",
      "9379\n"
     ]
    },
    {
     "name": "stderr",
     "output_type": "stream",
     "text": [
      " 92%|█████████▏| 689/750 [02:36<00:11,  5.44it/s]"
     ]
    },
    {
     "name": "stdout",
     "output_type": "stream",
     "text": [
      "[12]\n",
      "9379\n"
     ]
    },
    {
     "name": "stderr",
     "output_type": "stream",
     "text": [
      " 92%|█████████▏| 690/750 [02:36<00:10,  5.47it/s]"
     ]
    },
    {
     "name": "stdout",
     "output_type": "stream",
     "text": [
      "[12]\n",
      "9379\n"
     ]
    },
    {
     "name": "stderr",
     "output_type": "stream",
     "text": [
      " 92%|█████████▏| 691/750 [02:36<00:10,  5.46it/s]"
     ]
    },
    {
     "name": "stdout",
     "output_type": "stream",
     "text": [
      "[12]\n",
      "9379\n"
     ]
    },
    {
     "name": "stderr",
     "output_type": "stream",
     "text": [
      " 92%|█████████▏| 692/750 [02:37<00:10,  5.47it/s]"
     ]
    },
    {
     "name": "stdout",
     "output_type": "stream",
     "text": [
      "[12]\n",
      "9379\n"
     ]
    },
    {
     "name": "stderr",
     "output_type": "stream",
     "text": [
      " 92%|█████████▏| 693/750 [02:37<00:10,  5.36it/s]"
     ]
    },
    {
     "name": "stdout",
     "output_type": "stream",
     "text": [
      "[12]\n",
      "9379\n"
     ]
    },
    {
     "name": "stderr",
     "output_type": "stream",
     "text": [
      " 93%|█████████▎| 694/750 [02:37<00:10,  5.41it/s]"
     ]
    },
    {
     "name": "stdout",
     "output_type": "stream",
     "text": [
      "[12]\n",
      "9379\n"
     ]
    },
    {
     "name": "stderr",
     "output_type": "stream",
     "text": [
      " 93%|█████████▎| 695/750 [02:37<00:10,  5.35it/s]"
     ]
    },
    {
     "name": "stdout",
     "output_type": "stream",
     "text": [
      "[12]\n",
      "9379\n"
     ]
    },
    {
     "name": "stderr",
     "output_type": "stream",
     "text": [
      " 93%|█████████▎| 696/750 [02:37<00:10,  5.35it/s]"
     ]
    },
    {
     "name": "stdout",
     "output_type": "stream",
     "text": [
      "[12]\n",
      "9379\n"
     ]
    },
    {
     "name": "stderr",
     "output_type": "stream",
     "text": [
      " 93%|█████████▎| 697/750 [02:37<00:09,  5.35it/s]"
     ]
    },
    {
     "name": "stdout",
     "output_type": "stream",
     "text": [
      "[12]\n",
      "9379\n"
     ]
    },
    {
     "name": "stderr",
     "output_type": "stream",
     "text": [
      " 93%|█████████▎| 698/750 [02:38<00:09,  5.35it/s]"
     ]
    },
    {
     "name": "stdout",
     "output_type": "stream",
     "text": [
      "[12]\n",
      "9379\n"
     ]
    },
    {
     "name": "stderr",
     "output_type": "stream",
     "text": [
      " 93%|█████████▎| 699/750 [02:38<00:09,  5.39it/s]"
     ]
    },
    {
     "name": "stdout",
     "output_type": "stream",
     "text": [
      "[12]\n",
      "9379\n"
     ]
    },
    {
     "name": "stderr",
     "output_type": "stream",
     "text": [
      " 93%|█████████▎| 700/750 [02:38<00:09,  5.37it/s]"
     ]
    },
    {
     "name": "stdout",
     "output_type": "stream",
     "text": [
      "[12]\n",
      "9379\n"
     ]
    },
    {
     "name": "stderr",
     "output_type": "stream",
     "text": [
      " 93%|█████████▎| 701/750 [02:38<00:09,  5.41it/s]"
     ]
    },
    {
     "name": "stdout",
     "output_type": "stream",
     "text": [
      "[12]\n",
      "9379\n"
     ]
    },
    {
     "name": "stderr",
     "output_type": "stream",
     "text": [
      " 94%|█████████▎| 702/750 [02:38<00:08,  5.47it/s]"
     ]
    },
    {
     "name": "stdout",
     "output_type": "stream",
     "text": [
      "[12]\n",
      "9379\n"
     ]
    },
    {
     "name": "stderr",
     "output_type": "stream",
     "text": [
      " 94%|█████████▎| 703/750 [02:39<00:08,  5.46it/s]"
     ]
    },
    {
     "name": "stdout",
     "output_type": "stream",
     "text": [
      "[12]\n",
      "9379\n"
     ]
    },
    {
     "name": "stderr",
     "output_type": "stream",
     "text": [
      " 94%|█████████▍| 704/750 [02:39<00:08,  5.47it/s]"
     ]
    },
    {
     "name": "stdout",
     "output_type": "stream",
     "text": [
      "[12]\n",
      "9379\n"
     ]
    },
    {
     "name": "stderr",
     "output_type": "stream",
     "text": [
      " 94%|█████████▍| 705/750 [02:39<00:08,  5.41it/s]"
     ]
    },
    {
     "name": "stdout",
     "output_type": "stream",
     "text": [
      "[12]\n",
      "9379\n"
     ]
    },
    {
     "name": "stderr",
     "output_type": "stream",
     "text": [
      " 94%|█████████▍| 706/750 [02:39<00:08,  5.40it/s]"
     ]
    },
    {
     "name": "stdout",
     "output_type": "stream",
     "text": [
      "[12]\n",
      "9379\n"
     ]
    },
    {
     "name": "stderr",
     "output_type": "stream",
     "text": [
      " 94%|█████████▍| 707/750 [02:39<00:07,  5.41it/s]"
     ]
    },
    {
     "name": "stdout",
     "output_type": "stream",
     "text": [
      "[12]\n",
      "9379\n"
     ]
    },
    {
     "name": "stderr",
     "output_type": "stream",
     "text": [
      " 94%|█████████▍| 708/750 [02:39<00:07,  5.40it/s]"
     ]
    },
    {
     "name": "stdout",
     "output_type": "stream",
     "text": [
      "[12]\n",
      "9379\n"
     ]
    },
    {
     "name": "stderr",
     "output_type": "stream",
     "text": [
      " 95%|█████████▍| 709/750 [02:40<00:07,  5.42it/s]"
     ]
    },
    {
     "name": "stdout",
     "output_type": "stream",
     "text": [
      "[12]\n",
      "9379\n"
     ]
    },
    {
     "name": "stderr",
     "output_type": "stream",
     "text": [
      " 95%|█████████▍| 710/750 [02:40<00:07,  5.38it/s]"
     ]
    },
    {
     "name": "stdout",
     "output_type": "stream",
     "text": [
      "[12]\n",
      "9379\n"
     ]
    },
    {
     "name": "stderr",
     "output_type": "stream",
     "text": [
      " 95%|█████████▍| 711/750 [02:40<00:07,  5.45it/s]"
     ]
    },
    {
     "name": "stdout",
     "output_type": "stream",
     "text": [
      "[12]\n",
      "9379\n"
     ]
    },
    {
     "name": "stderr",
     "output_type": "stream",
     "text": [
      " 95%|█████████▍| 712/750 [02:40<00:07,  5.42it/s]"
     ]
    },
    {
     "name": "stdout",
     "output_type": "stream",
     "text": [
      "[12]\n",
      "9379\n"
     ]
    },
    {
     "name": "stderr",
     "output_type": "stream",
     "text": [
      " 95%|█████████▌| 713/750 [02:40<00:06,  5.44it/s]"
     ]
    },
    {
     "name": "stdout",
     "output_type": "stream",
     "text": [
      "[12]\n",
      "9379\n"
     ]
    },
    {
     "name": "stderr",
     "output_type": "stream",
     "text": [
      " 95%|█████████▌| 714/750 [02:41<00:06,  5.36it/s]"
     ]
    },
    {
     "name": "stdout",
     "output_type": "stream",
     "text": [
      "[12]\n",
      "9379\n"
     ]
    },
    {
     "name": "stderr",
     "output_type": "stream",
     "text": [
      " 95%|█████████▌| 715/750 [02:41<00:06,  5.42it/s]"
     ]
    },
    {
     "name": "stdout",
     "output_type": "stream",
     "text": [
      "[12]\n",
      "9379\n"
     ]
    },
    {
     "name": "stderr",
     "output_type": "stream",
     "text": [
      " 95%|█████████▌| 716/750 [02:41<00:06,  5.42it/s]"
     ]
    },
    {
     "name": "stdout",
     "output_type": "stream",
     "text": [
      "[12]\n",
      "9379\n"
     ]
    },
    {
     "name": "stderr",
     "output_type": "stream",
     "text": [
      " 96%|█████████▌| 717/750 [02:41<00:06,  5.41it/s]"
     ]
    },
    {
     "name": "stdout",
     "output_type": "stream",
     "text": [
      "[12]\n",
      "9379\n"
     ]
    },
    {
     "name": "stderr",
     "output_type": "stream",
     "text": [
      " 96%|█████████▌| 718/750 [02:41<00:05,  5.35it/s]"
     ]
    },
    {
     "name": "stdout",
     "output_type": "stream",
     "text": [
      "[12]\n",
      "9379\n"
     ]
    },
    {
     "name": "stderr",
     "output_type": "stream",
     "text": [
      " 96%|█████████▌| 719/750 [02:42<00:05,  5.36it/s]"
     ]
    },
    {
     "name": "stdout",
     "output_type": "stream",
     "text": [
      "[12]\n",
      "9379\n"
     ]
    },
    {
     "name": "stderr",
     "output_type": "stream",
     "text": [
      " 96%|█████████▌| 720/750 [02:42<00:05,  5.38it/s]"
     ]
    },
    {
     "name": "stdout",
     "output_type": "stream",
     "text": [
      "[12]\n",
      "9379\n"
     ]
    },
    {
     "name": "stderr",
     "output_type": "stream",
     "text": [
      " 96%|█████████▌| 721/750 [02:42<00:05,  5.42it/s]"
     ]
    },
    {
     "name": "stdout",
     "output_type": "stream",
     "text": [
      "[12]\n",
      "9379\n"
     ]
    },
    {
     "name": "stderr",
     "output_type": "stream",
     "text": [
      " 96%|█████████▋| 722/750 [02:42<00:05,  5.39it/s]"
     ]
    },
    {
     "name": "stdout",
     "output_type": "stream",
     "text": [
      "[12]\n",
      "9379\n"
     ]
    },
    {
     "name": "stderr",
     "output_type": "stream",
     "text": [
      " 96%|█████████▋| 723/750 [02:42<00:05,  5.36it/s]"
     ]
    },
    {
     "name": "stdout",
     "output_type": "stream",
     "text": [
      "[12]\n",
      "9379\n"
     ]
    },
    {
     "name": "stderr",
     "output_type": "stream",
     "text": [
      " 97%|█████████▋| 724/750 [02:42<00:04,  5.42it/s]"
     ]
    },
    {
     "name": "stdout",
     "output_type": "stream",
     "text": [
      "[12]\n",
      "9379\n"
     ]
    },
    {
     "name": "stderr",
     "output_type": "stream",
     "text": [
      " 97%|█████████▋| 725/750 [02:43<00:04,  5.42it/s]"
     ]
    },
    {
     "name": "stdout",
     "output_type": "stream",
     "text": [
      "[12]\n",
      "9379\n"
     ]
    },
    {
     "name": "stderr",
     "output_type": "stream",
     "text": [
      " 97%|█████████▋| 726/750 [02:43<00:04,  5.48it/s]"
     ]
    },
    {
     "name": "stdout",
     "output_type": "stream",
     "text": [
      "[12]\n",
      "9379\n"
     ]
    },
    {
     "name": "stderr",
     "output_type": "stream",
     "text": [
      " 97%|█████████▋| 727/750 [02:43<00:04,  5.52it/s]"
     ]
    },
    {
     "name": "stdout",
     "output_type": "stream",
     "text": [
      "[12]\n",
      "9379\n"
     ]
    },
    {
     "name": "stderr",
     "output_type": "stream",
     "text": [
      " 97%|█████████▋| 728/750 [02:43<00:04,  5.42it/s]"
     ]
    },
    {
     "name": "stdout",
     "output_type": "stream",
     "text": [
      "[12]\n",
      "9379\n"
     ]
    },
    {
     "name": "stderr",
     "output_type": "stream",
     "text": [
      " 97%|█████████▋| 729/750 [02:43<00:03,  5.44it/s]"
     ]
    },
    {
     "name": "stdout",
     "output_type": "stream",
     "text": [
      "[12]\n",
      "9379\n"
     ]
    },
    {
     "name": "stderr",
     "output_type": "stream",
     "text": [
      " 97%|█████████▋| 730/750 [02:44<00:03,  5.44it/s]"
     ]
    },
    {
     "name": "stdout",
     "output_type": "stream",
     "text": [
      "[12]\n",
      "9379\n"
     ]
    },
    {
     "name": "stderr",
     "output_type": "stream",
     "text": [
      " 97%|█████████▋| 731/750 [02:44<00:03,  5.45it/s]"
     ]
    },
    {
     "name": "stdout",
     "output_type": "stream",
     "text": [
      "[12]\n",
      "9379\n"
     ]
    },
    {
     "name": "stderr",
     "output_type": "stream",
     "text": [
      " 98%|█████████▊| 732/750 [02:44<00:03,  5.47it/s]"
     ]
    },
    {
     "name": "stdout",
     "output_type": "stream",
     "text": [
      "[12]\n",
      "9379\n"
     ]
    },
    {
     "name": "stderr",
     "output_type": "stream",
     "text": [
      " 98%|█████████▊| 733/750 [02:44<00:03,  5.44it/s]"
     ]
    },
    {
     "name": "stdout",
     "output_type": "stream",
     "text": [
      "[12]\n",
      "9379\n"
     ]
    },
    {
     "name": "stderr",
     "output_type": "stream",
     "text": [
      " 98%|█████████▊| 734/750 [02:44<00:02,  5.41it/s]"
     ]
    },
    {
     "name": "stdout",
     "output_type": "stream",
     "text": [
      "[12]\n",
      "9379\n"
     ]
    },
    {
     "name": "stderr",
     "output_type": "stream",
     "text": [
      " 98%|█████████▊| 735/750 [02:44<00:02,  5.40it/s]"
     ]
    },
    {
     "name": "stdout",
     "output_type": "stream",
     "text": [
      "[12]\n",
      "9379\n"
     ]
    },
    {
     "name": "stderr",
     "output_type": "stream",
     "text": [
      " 98%|█████████▊| 736/750 [02:45<00:02,  5.41it/s]"
     ]
    },
    {
     "name": "stdout",
     "output_type": "stream",
     "text": [
      "[12]\n",
      "9379\n"
     ]
    },
    {
     "name": "stderr",
     "output_type": "stream",
     "text": [
      " 98%|█████████▊| 737/750 [02:45<00:02,  5.44it/s]"
     ]
    },
    {
     "name": "stdout",
     "output_type": "stream",
     "text": [
      "[12]\n",
      "9379\n"
     ]
    },
    {
     "name": "stderr",
     "output_type": "stream",
     "text": [
      " 98%|█████████▊| 738/750 [02:45<00:02,  5.47it/s]"
     ]
    },
    {
     "name": "stdout",
     "output_type": "stream",
     "text": [
      "[12]\n",
      "9379\n"
     ]
    },
    {
     "name": "stderr",
     "output_type": "stream",
     "text": [
      " 99%|█████████▊| 739/750 [02:45<00:02,  5.48it/s]"
     ]
    },
    {
     "name": "stdout",
     "output_type": "stream",
     "text": [
      "[12]\n",
      "9379\n"
     ]
    },
    {
     "name": "stderr",
     "output_type": "stream",
     "text": [
      " 99%|█████████▊| 740/750 [02:45<00:01,  5.45it/s]"
     ]
    },
    {
     "name": "stdout",
     "output_type": "stream",
     "text": [
      "[12]\n",
      "9379\n"
     ]
    },
    {
     "name": "stderr",
     "output_type": "stream",
     "text": [
      " 99%|█████████▉| 741/750 [02:46<00:01,  5.44it/s]"
     ]
    },
    {
     "name": "stdout",
     "output_type": "stream",
     "text": [
      "[12]\n",
      "9379\n"
     ]
    },
    {
     "name": "stderr",
     "output_type": "stream",
     "text": [
      " 99%|█████████▉| 742/750 [02:46<00:01,  5.38it/s]"
     ]
    },
    {
     "name": "stdout",
     "output_type": "stream",
     "text": [
      "[12]\n",
      "9379\n"
     ]
    },
    {
     "name": "stderr",
     "output_type": "stream",
     "text": [
      " 99%|█████████▉| 743/750 [02:46<00:01,  5.42it/s]"
     ]
    },
    {
     "name": "stdout",
     "output_type": "stream",
     "text": [
      "[12]\n",
      "9379\n"
     ]
    },
    {
     "name": "stderr",
     "output_type": "stream",
     "text": [
      " 99%|█████████▉| 744/750 [02:46<00:01,  5.43it/s]"
     ]
    },
    {
     "name": "stdout",
     "output_type": "stream",
     "text": [
      "[12]\n",
      "9379\n"
     ]
    },
    {
     "name": "stderr",
     "output_type": "stream",
     "text": [
      " 99%|█████████▉| 745/750 [02:46<00:00,  5.42it/s]"
     ]
    },
    {
     "name": "stdout",
     "output_type": "stream",
     "text": [
      "[12]\n",
      "9379\n"
     ]
    },
    {
     "name": "stderr",
     "output_type": "stream",
     "text": [
      " 99%|█████████▉| 746/750 [02:46<00:00,  5.44it/s]"
     ]
    },
    {
     "name": "stdout",
     "output_type": "stream",
     "text": [
      "[12]\n",
      "9379\n"
     ]
    },
    {
     "name": "stderr",
     "output_type": "stream",
     "text": [
      "100%|█████████▉| 747/750 [02:47<00:00,  5.43it/s]"
     ]
    },
    {
     "name": "stdout",
     "output_type": "stream",
     "text": [
      "[12]\n",
      "9379\n"
     ]
    },
    {
     "name": "stderr",
     "output_type": "stream",
     "text": [
      "100%|█████████▉| 748/750 [02:47<00:00,  5.43it/s]"
     ]
    },
    {
     "name": "stdout",
     "output_type": "stream",
     "text": [
      "[12]\n",
      "9379\n"
     ]
    },
    {
     "name": "stderr",
     "output_type": "stream",
     "text": [
      "100%|█████████▉| 749/750 [02:47<00:00,  5.44it/s]"
     ]
    },
    {
     "name": "stdout",
     "output_type": "stream",
     "text": [
      "[12]\n",
      "9379\n"
     ]
    },
    {
     "name": "stderr",
     "output_type": "stream",
     "text": [
      "100%|██████████| 750/750 [02:47<00:00,  4.47it/s]"
     ]
    },
    {
     "name": "stdout",
     "output_type": "stream",
     "text": [
      "[12]\n"
     ]
    },
    {
     "name": "stderr",
     "output_type": "stream",
     "text": [
      "\n"
     ]
    }
   ],
   "source": [
    "from tqdm import tqdm\n",
    "import re\n",
    "\n",
    "sequence = []\n",
    "\n",
    "with open(\"myreads_compl.sam\", \"r\") as sam_file:\n",
    "    for line in sam_file:\n",
    "        if line.startswith(\"@\"):  # пропускаем заголовочные строки\n",
    "            continue\n",
    "        parts = line.strip().split(\"\\t\")\n",
    "        sequence.append(parts[9])  # получаем последовательность\n",
    "\n",
    "write_seq_in_file_with_length('myreads_compl.fasta', sequence, 0, 0)\n",
    "\n",
    "alligment = read_seq_from_file('myreads_compl.fasta')\n",
    "avg_length = sum(len(word) for word in alligment) / len(alligment)\n",
    "\n",
    "\n",
    "list_allig = []\n",
    "list_need_seq = []\n",
    "for j, i in enumerate(alligment):\n",
    "    if len(i) >= avg_length / 1.6:\n",
    "        list_allig.append(i)\n",
    "        list_need_seq.append(j)\n",
    "\n",
    "write_seq_in_file_with_length('myreads_compl.fasta', list_allig, 0, 0)\n",
    "\n",
    "\n",
    "\n",
    "file_path = \"myreads_compl.sam\"  # указать путь к файлу\n",
    "list_startpos = []\n",
    "\n",
    "count_seq = 0\n",
    "with open(file_path, \"r\") as file:\n",
    "    for line in file:\n",
    "        match = re.search(r\"startpos=(\\d+)\", line)  # ищем подстроку \"startpos=\" и значения после нее\n",
    "        if match:\n",
    "            value = int(match.group(1))  # извлекаем значение и преобразуем его в целое число\n",
    "            if 0 <= value <= 10000 and count_seq in list_need_seq:  # проверяем ограничение диапазона\n",
    "                list_startpos.append(value)\n",
    "                count_seq += 1\n",
    "            else:\n",
    "                count_seq += 1\n",
    "\n",
    "\n",
    "\n",
    "indi = 0\n",
    "count_nucl = 0\n",
    "sequence = read_seq_from_file('myreads_compl.fasta')\n",
    "\n",
    "maxi_index = max([len(word) for word in sequence])\n",
    "index_max = 0\n",
    "for j, i in enumerate(sequence):\n",
    "    if len(i) == maxi_index:\n",
    "        index_max = j\n",
    "\n",
    "for start in tqdm(range(0, 30000, 40)):\n",
    "    list_use_seq = []\n",
    "    list_use_seq_index = []\n",
    "\n",
    "    for j, seq in enumerate(sequence):\n",
    "        if count_nucl + 20 > list_startpos[j] > count_nucl - 20:\n",
    "            if list_startpos[j] > count_nucl:\n",
    "                sequence[j] = indi * '-' + ('-' * (list_startpos[j] - count_nucl))  + seq + (10000 - len(seq) - list_startpos[j]) * '-'\n",
    "                list_use_seq.append(indi * '-' + ('-' * (list_startpos[j] - count_nucl)) + seq)\n",
    "            elif list_startpos[j] <= count_nucl:\n",
    "                sequence[j] = indi * '-' + seq[count_nucl - list_startpos[j]:] + (10000 - len(seq) - list_startpos[j]) * '-'\n",
    "                list_use_seq.append(indi * '-' + seq[count_nucl - list_startpos[j]:])\n",
    "            list_use_seq_index.append(j)\n",
    "        elif count_nucl > list_startpos[j]:\n",
    "            gap_flag = False\n",
    "            for i in seq[indi:indi + 80]:\n",
    "                if i != '-':\n",
    "                    gap_flag = True\n",
    "                    continue\n",
    "            if gap_flag:\n",
    "                list_use_seq.append(seq)\n",
    "                list_use_seq_index.append(j)\n",
    "    print(count_nucl)\n",
    "    write_seq_in_file_with_length_and_name('output.fasta', list_use_seq, list_use_seq_index, indi, indi + 80)\n",
    "    muscle('output.fasta', 'allig.fasta')\n",
    "\n",
    "    list_seq_with_insert = []\n",
    "    sorted_seqs = sort_fasta(\"allig.fasta\")\n",
    "    for rec in sorted_seqs:\n",
    "        list_seq_with_insert.append(str(rec.seq))\n",
    "    write_seq_in_file_with_length_and_name('allig.fasta', list_seq_with_insert, list_use_seq_index,  0, 0)\n",
    "\n",
    "    alligment = read_seq_from_file('allig.fasta')\n",
    "\n",
    "    tmp = int(0.65 * len(alligment[0]))\n",
    "\n",
    "    list_allig_index = []\n",
    "    list_count_gap = []\n",
    "    for j, seq in enumerate(alligment):\n",
    "        tmp2 = seq[:tmp].count('-')\n",
    "        list_count_gap.append(tmp2)\n",
    "        \n",
    "        list_allig_index.append(tmp - tmp2)\n",
    "    \n",
    "    for i in range(len(alligment)):\n",
    "        alligment[i] = alligment[i][:tmp]\n",
    "    \n",
    "\n",
    "    for j, i in enumerate(list_use_seq_index):\n",
    "        if i == index_max:\n",
    "            count_nucl += int(list_allig_index[j] * 0.95)\n",
    "        sequence[i] = sequence[i][:indi] + alligment[j] + sequence[i][list_allig_index[j] + indi:]\n",
    "    indi += tmp\n",
    "    \n",
    "\n",
    "list_length = []\n",
    "\n",
    "for i in sequence:\n",
    "    list_length.append(len(i))\n",
    "\n",
    "maxi = max(list_length)\n",
    "\n",
    "for j, i in enumerate(sequence):\n",
    "    while len(sequence[j]) < maxi:\n",
    "        sequence[j] = sequence[j] + '-'\n",
    "\n",
    "write_seq_in_file_with_length('allig_seq_compl.fasta', sequence, 0, 0)\n",
    "\n",
    "list_consensus = []\n",
    "\n",
    "for j in range(45, 86, 5):\n",
    "    alligment = read_seq_from_file('allig_seq_compl.fasta')\n",
    "    count_nucl = per_nucl_in_cal(alligment)\n",
    "    count_gap = count_gaps (alligment)\n",
    "    alligment = delete_gap(alligment, count_gap, count_nucl, j / 100)\n",
    "    pi = start_probability (alligment)\n",
    "    a = matrix_of_MDI(alligment)\n",
    "    A = probability_of_trans(alligment, a)\n",
    "    count = count_nucl_in_cal(alligment)\n",
    "    b = percetn_of_nucl_in_cal(count)\n",
    "    consensuss = consensus(alligment, b)\n",
    "    list_consensus.append(consensuss)\n",
    "write_seq_in_file_with_length('list_cons_compl.fasta', list_consensus, 0, 0)\n",
    "muscle('list_cons_compl.fasta', 'allig_cons_compl.fasta')\n",
    "\n",
    "list_seq_for_startpos = []\n",
    "sorted_seqs = sort_fasta(\"allig_cons_compl.fasta\")\n",
    "for rec in sorted_seqs:\n",
    "    list_seq_for_startpos.append(str(rec.seq))\n",
    "write_seq_in_file_with_length('allig_cons_compl.fasta', list_seq_for_startpos, 0, 0)\n",
    "\n",
    "list_consensus = []\n",
    "\n",
    "for j in range(45, 86, 5):\n",
    "    alligment = read_seq_from_file('allig_cons_compl.fasta')\n",
    "    count_nucl = per_nucl_in_cal(alligment)\n",
    "    count_gap = count_gaps (alligment)\n",
    "    alligment = delete_gap(alligment, count_gap, count_nucl, j / 100)\n",
    "    pi = start_probability (alligment)\n",
    "    a = matrix_of_MDI(alligment)\n",
    "    A = probability_of_trans(alligment, a)\n",
    "    count = count_nucl_in_cal(alligment)\n",
    "    b = percetn_of_nucl_in_cal(count)\n",
    "    consensuss = consensus(alligment, b)\n",
    "    list_consensus.append(consensuss)\n",
    "\n",
    "write_seq_in_file_with_length('list_cons_from_cons_compl.fasta', list_consensus, 0, 0)"
   ]
  },
  {
   "cell_type": "code",
   "execution_count": null,
   "metadata": {},
   "outputs": [],
   "source": []
  },
  {
   "cell_type": "code",
   "execution_count": null,
   "metadata": {},
   "outputs": [],
   "source": []
  },
  {
   "cell_type": "code",
   "execution_count": 21,
   "metadata": {},
   "outputs": [
    {
     "name": "stdout",
     "output_type": "stream",
     "text": [
      "12653\n",
      "6568\n"
     ]
    }
   ],
   "source": [
    "consi_compl = read_seq_from_file('list_cons_from_cons_compl.fasta')\n",
    "right_consi_compl = consi_compl[1]\n",
    "right_consi_compl = reverse_complement(right_consi_compl)\n",
    "\n",
    "consi = read_seq_from_file('list_cons_from_cons.fasta')\n",
    "right_consi = consi[1]\n",
    "\n",
    "list_consi = [right_consi, right_consi_compl]\n",
    "write_seq_in_file_with_length('consi_two_seq.fasta', list_consi, 0, 0)\n",
    "muscle('consi_two_seq.fasta', 'consi_two_seq_allig.fasta')\n",
    "\n",
    "two_seq = read_seq_from_file('consi_two_seq_allig.fasta')\n",
    "\n",
    "count_nucl = per_nucl_in_cal(two_seq)\n",
    "count_gap = count_gaps (two_seq)\n",
    "two_seq = delete_gap(two_seq, count_gap, count_nucl, 70 / 100)\n",
    "pi = start_probability (two_seq)\n",
    "a = matrix_of_MDI(two_seq)\n",
    "A = probability_of_trans(two_seq, a)\n",
    "count = count_nucl_in_cal(two_seq)\n",
    "b = percetn_of_nucl_in_cal(count)\n",
    "consensuss = consensus(two_seq, b)\n",
    "\n",
    "list_consi = []\n",
    "list_consi.append(consensuss)\n",
    "tmp = read_seq_from_file('random.fasta')\n",
    "list_consi.append(tmp[0])\n",
    "\n",
    "write_seq_in_file_with_length('consi.fasta', list_consi, 0, 0)\n",
    "\n",
    "muscle('consi.fasta', 'consi_allig.fasta')\n",
    "\n",
    "alligment = read_seq_from_file('consi_allig.fasta')\n",
    "\n",
    "count_sovp = 0\n",
    "for i in range(len(min(alligment))):\n",
    "    if alligment[0][i] == alligment[1][i]:\n",
    "        count_sovp += 1\n",
    "\n",
    "print(len(alligment[0]))\n",
    "print(count_sovp)"
   ]
  },
  {
   "attachments": {},
   "cell_type": "markdown",
   "metadata": {},
   "source": [
    "HMM"
   ]
  },
  {
   "cell_type": "code",
   "execution_count": 22,
   "metadata": {},
   "outputs": [
    {
     "name": "stdout",
     "output_type": "stream",
     "text": [
      "# hmmbuild :: profile HMM construction from multiple sequence alignments\n",
      "# HMMER 3.3.2 (Nov 2020); http://hmmer.org/\n",
      "# Copyright (C) 2020 Howard Hughes Medical Institute.\n",
      "# Freely distributed under the BSD open source license.\n",
      "# - - - - - - - - - - - - - - - - - - - - - - - - - - - - - - - - - - - -\n",
      "# input alignment file:             allig_seq.fasta\n",
      "# output HMM file:                  allig_seq_hmmer\n",
      "# - - - - - - - - - - - - - - - - - - - - - - - - - - - - - - - - - - - -\n",
      "\n",
      "# idx name                  nseq  alen  mlen     W eff_nseq re/pos description\n",
      "#---- -------------------- ----- ----- ----- ----- -------- ------ -----------\n",
      "1     allig_seq               16 16037  9471 10435     1.86  0.621 \n",
      "\n",
      "# CPU time: 0.95u 0.01s 00:00:00.96 Elapsed: 00:00:00.95\n",
      "# hmmbuild :: profile HMM construction from multiple sequence alignments\n",
      "# HMMER 3.3.2 (Nov 2020); http://hmmer.org/\n",
      "# Copyright (C) 2020 Howard Hughes Medical Institute.\n",
      "# Freely distributed under the BSD open source license.\n",
      "# - - - - - - - - - - - - - - - - - - - - - - - - - - - - - - - - - - - -\n",
      "# input alignment file:             allig_seq_compl.fasta\n",
      "# output HMM file:                  allig_seq_hmmer_compl\n",
      "# - - - - - - - - - - - - - - - - - - - - - - - - - - - - - - - - - - - -\n",
      "\n",
      "# idx name                  nseq  alen  mlen     W eff_nseq re/pos description\n",
      "#---- -------------------- ----- ----- ----- ----- -------- ------ -----------\n",
      "1     allig_seq_compl         15 15740  9510 10487     2.02  0.620 \n",
      "\n",
      "# CPU time: 0.96u 0.00s 00:00:00.96 Elapsed: 00:00:00.97\n",
      "12654\n",
      "6569\n"
     ]
    }
   ],
   "source": [
    "!hmmbuild allig_seq_hmmer allig_seq.fasta\n",
    "!hmmbuild allig_seq_hmmer_compl allig_seq_compl.fasta\n",
    "!hmmemit -c allig_seq_hmmer > allig_seq_hmmer.fasta\n",
    "!hmmemit -c allig_seq_hmmer_compl > allig_seq_hmmer_compl.fasta\n",
    "\n",
    "sequ_compl = read_seq_from_file('allig_seq_hmmer_compl.fasta')\n",
    "sequ_compl[0] = reverse_complement(sequ_compl[0])\n",
    "sequ = read_seq_from_file('allig_seq_hmmer.fasta')\n",
    "sequ.append(sequ_compl[0])\n",
    "\n",
    "write_seq_in_file_with_length('consi_two_seq_hmmer.fasta', sequ, 0, 0)\n",
    "muscle('consi_two_seq_hmmer.fasta', 'consi_two_seq_allig_hmmer.fasta')\n",
    "\n",
    "two_seq = read_seq_from_file('consi_two_seq_allig_hmmer.fasta')\n",
    "\n",
    "count_nucl = per_nucl_in_cal(two_seq)\n",
    "count_gap = count_gaps (two_seq)\n",
    "two_seq = delete_gap(two_seq, count_gap, count_nucl, 60 / 100)\n",
    "pi = start_probability (two_seq)\n",
    "a = matrix_of_MDI(two_seq)\n",
    "A = probability_of_trans(two_seq, a)\n",
    "count = count_nucl_in_cal(two_seq)\n",
    "b = percetn_of_nucl_in_cal(count)\n",
    "consensuss = consensus(two_seq, b)\n",
    "\n",
    "\n",
    "list_consi = []\n",
    "list_consi.append(consensuss)\n",
    "tmp = read_seq_from_file('random.fasta')\n",
    "list_consi.append(tmp[0])\n",
    "\n",
    "write_seq_in_file_with_length('consi.fasta', list_consi, 0, 0)\n",
    "\n",
    "muscle('consi.fasta', 'consi_allig.fasta')\n",
    "\n",
    "alligment = read_seq_from_file('consi_allig.fasta')\n",
    "\n",
    "count_sovp = 0\n",
    "for i in range(len(min(alligment))):\n",
    "    if alligment[0][i] == alligment[1][i]:\n",
    "        count_sovp += 1\n",
    "\n",
    "print(len(alligment[0]))\n",
    "print(count_sovp)"
   ]
  },
  {
   "cell_type": "code",
   "execution_count": null,
   "metadata": {},
   "outputs": [],
   "source": []
  },
  {
   "cell_type": "code",
   "execution_count": null,
   "metadata": {},
   "outputs": [],
   "source": []
  },
  {
   "cell_type": "code",
   "execution_count": null,
   "metadata": {},
   "outputs": [],
   "source": []
  },
  {
   "cell_type": "code",
   "execution_count": null,
   "metadata": {},
   "outputs": [],
   "source": []
  },
  {
   "attachments": {},
   "cell_type": "markdown",
   "metadata": {},
   "source": [
    "выравнивание на драфт и последующая сборка чистового"
   ]
  },
  {
   "cell_type": "code",
   "execution_count": null,
   "metadata": {},
   "outputs": [],
   "source": [
    "consi = read_seq_from_file('list_cons_from_cons.fasta')\n",
    "right_consi = consi[5]\n",
    "\n",
    "list_draft_and_reads = []\n",
    "list_draft_and_reads.append(right_consi)\n",
    "list_reads = read_seq_from_file('myreads.fasta')\n",
    "\n",
    "for i in list_reads:\n",
    "    list_draft_and_reads.append(i)\n",
    "\n",
    "write_seq_in_file_with_length('draft_and_reads.fasta', list_draft_and_reads, 0, 0)\n",
    "muscle('draft_and_reads.fasta', 'draft_and_reads_align.fasta')"
   ]
  },
  {
   "cell_type": "code",
   "execution_count": null,
   "metadata": {},
   "outputs": [],
   "source": [
    "list_consensus = []\n",
    "\n",
    "for j in range(45, 86, 5):\n",
    "    alligment = read_seq_from_file('draft_and_reads_align.fasta')\n",
    "    count_nucl = per_nucl_in_cal(alligment)\n",
    "    count_gap = count_gaps (alligment)\n",
    "    alligment = delete_gap(alligment, count_gap, count_nucl, j / 100)\n",
    "    pi = start_probability (alligment)\n",
    "    a = matrix_of_MDI(alligment)\n",
    "    A = probability_of_trans(alligment, a)\n",
    "    count = count_nucl_in_cal(alligment)\n",
    "    b = percetn_of_nucl_in_cal(count)\n",
    "    consensuss = consensus(alligment, b)\n",
    "    list_consensus.append(consensuss)"
   ]
  },
  {
   "cell_type": "code",
   "execution_count": null,
   "metadata": {},
   "outputs": [],
   "source": [
    "write_seq_in_file_with_length('hmm_draft_and_reads_align.fasta', list_consensus, 0, 0)"
   ]
  },
  {
   "cell_type": "code",
   "execution_count": null,
   "metadata": {},
   "outputs": [],
   "source": []
  },
  {
   "cell_type": "code",
   "execution_count": null,
   "metadata": {},
   "outputs": [],
   "source": []
  },
  {
   "cell_type": "code",
   "execution_count": 46,
   "metadata": {},
   "outputs": [
    {
     "data": {
      "text/plain": [
       "[432,\n",
       " 1586,\n",
       " 3716,\n",
       " 471,\n",
       " 0,\n",
       " 1626,\n",
       " 0,\n",
       " 652,\n",
       " 2888,\n",
       " 798,\n",
       " 538,\n",
       " 0,\n",
       " 895,\n",
       " 3158,\n",
       " 1167,\n",
       " 1072]"
      ]
     },
     "execution_count": 46,
     "metadata": {},
     "output_type": "execute_result"
    }
   ],
   "source": [
    "list_startpos"
   ]
  },
  {
   "cell_type": "code",
   "execution_count": 47,
   "metadata": {},
   "outputs": [],
   "source": [
    "triple_seq = read_seq_from_file('simlord_with_cigar.fasta')"
   ]
  },
  {
   "cell_type": "code",
   "execution_count": 48,
   "metadata": {},
   "outputs": [
    {
     "data": {
      "text/plain": [
       "['------------------------------------------------------------------------------------------------------------------------------------------------------------------------------------------------------------------------------------------------------------------------------------------------------------------------------------------------------------------------------------------------------------------------------------------------C-TATAGTTCACCG-CGCAAGGCGCAGTGCC-CGTGA-TCGCGTTGCGCCGGCC-GCCTCGGCAGTGACTCATCCGGTTGG-CGCGAGCCC-AGCGTAGCGCACGGCGATG-ACGTTCCCGCGAGTACTCTCC-TGAGGACGCGCACATC-CGCTGGGGCCACCTA-TCCCTAAC-GCGCGCAATGTAGCATCCGTACGATGTGTTTCTGACCACCCTCGCGGGGGCTCCCGTCCTTTCCCGATCAGTGCGTCACTATTCG--TAGACATGAGCCCGG-GCCCGCTTCTCCCCATCGG-CCTAGCCCCTCTCGGAACCCGCCATGAGCTAAAGGCCG-T--GCGGACCACAGCGGCAG-AGCTACGA-GCGCCGGAGCCACACCGTCCCA-CCCGGTCGCG-C-GGATGCAGCACCCATTATCT-TCA-GCAGTGGTTAGGATACCCACTATGTACT-AAAGTCCGCCCGGGAC-GTA-GGGGTAGGTGCGCTAAAG--ACAATCCTGTTGCGGGGACCT-CAGA-AGTGCTTGCTGGAATGTGGTGTAGCTTGT-AA-GGGGAACGCCCCTGGGACCCTATCCGGACGTGCGACCTTCCGGTGTGACTTACTCCGATCTCAGAAGCCGCC-GG-ACGCGCGCCTGGTCAGACC-CACTACTGGC-CCGTTGGGGGGCCTAAGCAGAGGCAGCGTGAAGCTCCTCATGGCATTCGACG-G-TGTGAGCGGAGAGTGCCTGCCGCGATGCTAGAGCTCTC-CGGAGGTAAAGGCCGCACACGGTAGGTGG-CCGGTGTTCACACA-CCGATGTGAGGGGGGCTGCGTACGTACCCCGACGCATAGACGCAAACAATGTGCCCATTCACAGTCCAATAGGC-CACC-CCGGGGTGCCATGTGGCTGA-ACTGAGCAGG-TCCTCCTAGCACCCTCCCGGAGGATT-CAC-GTGCGCCAGATAGCGTTCCCGGCAGGGCTGGGCCGGTCGCCAGGAGCGGTCACTTGC-GAGTCGTTCGAGTGCGATGTCCGAGATACCTATGTTGAAAGTCCCTCGAATACCCATAAGCTAGGTGGGT-ATCTAGCCGGCCAAGCGCTTGAGTTACGTTGCGCAAGCAATACAAGGCGCTGGGGCTCATGTACTGCTTTCTTCGCCTGAGCAGACCACTGATCGTTGCCAGCTGGCCGGGTAGAACGCGCGGGGGGTTTCCGCATACCGGTGCAAAAGCCGCTGTGAGCCAGTCTCTCCGCCGAGCCGTGCTCCAACCTCAGGCTCCTAGCTCGGCAAAAGCCGTGGGCTCCGATACATCCAATACACGCACGCCCGTTGTGGTT-GACCGGTTGCAGATGGGGTGCG-AGGCGGCCCCGTTCCCCCCGCTTCACGGGGTAAGATACGACGGCAGATAGCAGCTACCATTTGGCGGTGATGCCTTTCGCTCTAAGCCGCCTGACGGAGATCTTAAACAGGAGTCGCGTGGCTCGCAA-GAGGCAGAGTGACTCGACCATTGGTCAGCCCCCGCGCTGCGC-CGGCCGGTAAGCAGCGAGGTCCCCA-CCTTGCGCAAGGTGGATGGTATGCCATGGTTCCTCCAGGCAGAGGGCCCCTTCGTAGCGATTCCGCCTTGGCACTTGCGAACACGGGAAACCCCAAGTCACTCGCGGGAAGGATC-GTT-CGTCTGGACGGGAGGATTTACGCCGT-TACGAGCGCAATACGCCATTGTCAAGGGCACGGGAGAGGCGGTTAAGGCTTATCCCTCACGAGGACGAGACGATTGCGG-CCAGTTGGTTAGAAGCAGGTATTGGCGGTGGGCCGCCGCGAGGCTTCCGCACGGTCGCAGTGACATCGATCGACCCAAGGCTCGCATCGAACCAATTCCG-GCCGGGTCCGCACGAGAGGAGAGAAGCATGAAGCGCCATAGGTCCTACTCGCGGAGCGCTCGTGCAGTCATAGGGGTGGCTGGCCCCT-CCGGGGGCACGTTCTCGGATCAGCTCGGTGTTGTAAGAGCCTGCAGTTAGCGCCGA-CATGTGTGCCTAAGACGGGAGATGGGCAGGCATTGATTAGGGTCGGCATTGCAATCCGAGTCGCCCACGGCCGGAACCGCCCTCCGAAAGCGAGGCTCCTAGGCACTTGCAGGCCTCCAGACTGCGGTAAGCAAATAAGGCTCGACTCTGTTGGGCCCAGGGCGTTCGGGGGTACACATTAAGCAGGAGGTCAGACTCACA-ATGTCCAAGATCAGGGTGCGTGCAATTATTGTTG-CGCGGC-TCTGACGGACCAAGCGTGTGAACTATTGTGGGCTAAGTCGGGGCCGGAGATTGCTCACTCC-CGGAGATATCCGTTGTTTCG-GGTCGTTCGGTATAGCGCGACGAGCATCCGGTGGATTAAC-GCATTACGCGTTCTTTCTGCGTCCGCCGA-ACGGGTCAGTGCGCAACGACACCGGTAGCTTTCACATCGAATTCAGTGACCACCTATAGGCCTGCCTGGGCCGCCGGGCCCTGACGCACTCTGAGATCATCCGGGCGGTCCAGC-ACGGGCTACCGCCGACGCGGTGAGTCTATCCCTGGCTTGCCAATGG-TTGACGGGAACGCTACACCTGCATCTCGTGACTCCCCCTCTTGCCGTCAGTGTCTAACCATGGGAAGGGGGGCTGGCGGTGGGTTGTAGCATAAGAATGGATCTAATGGC-CGCGCACTGGGGGTTCGAACAGTGGGACCGACGGGGG-GCCT-CG-CGCGGATCCAGGGGCAGCCTTACCAGGGTATCGATTCCTGTACCCTTCTCGTTGTGCCAGCGATGCTTAAGCGACGACTTTGGCGATGACCCGGGG-TGATGGTGATCGCAGTCGGTCACTCCTCCCACAGGAAAACAGTGAAGGCGCCTGCGGGGTTCGCCACGCCCTCACCCGCCATTACAACGGGGTTTTGTACTCTGACCCGCCGCGTCACGGTCCACCAGCCAGGCCAAAGGTCACCCCGAGCCTGGACTCACGCCCACAACCAATCCGGGGAAGCGGATCGTGTTCCTACGGTTCTGACGCCGCTCACGTGACGCCGTTGCACGATCCCTATTTTTGGGCTCCCGGCTGCCA-CCGGTTTGTC-TGTCCTTCGCTCCGTAAGTCGAGCACCTATGCTGTCGAGA-GGCCCGCCCTTGAGGGTTACCAAGGGGCGTTTAGTTTTTTCCTGTAGGGGTAGC-CAGGGCTTGCCTCCTCCCAAAGCTAGATTCTTGCCCCAGGCAATTGCGGTGAGACCTGAAGCGTTCGTAGCCATCCATCCTGCTCGAGTGGACTGCCGGCCCTCTGGCAACGGGACGCGCCTCCGCCCCTGGCACGCGGAATCCTCGACCGCCCAAGGCGGAGGCAGCGTGTTCGTGCCCCGGTTCCTCCGACATGCGC-CCACATACCCGCCGCCCGTGTCTTAGTATGAGGCGGGCGGAACCCCCTTATATGGCACCGCTTGGCAGTGCCCGATCTCACGGCG-CGGCCAGGGTCAAGT-GGCCGCGTGCGGCGGACGTTCCCCAACACCCCAGACCGTTT-GCGGTTTGAGCTACGTTAT-GGGGAGTGCGACGAACCTCAGGCTGTGTATCAGATACCAACGTGCGCCCGGGATGAGATCGGAGGGGGGATAGGGTATGGATTGTCGGAGGCTTCTGACATGAGTCATGCTTACGACCGAACCTCTGCA-ACGGTCCAGCGACG--AATGACTACACTGGCCTGCGCGTCTGACTGGAACTCGGAGGCCCCCGCAATGCCCATTCAGGCGGTATAGCGTGTTCTGGCAGCTGT-ATGGTGACCTCAACTGAGGCTCCTCAAGCAGAGGTTATTGAGTGCCTG-AGTGCCGGTTGTCGACCGCCTTAAACTCCTAGGCCTCCTTTCCCGAAGGGCTGCGACTCCACTCGG-ACGGCATGTAGACACTGGGTATGGGGGACACCACCCGGCACTCTCGTAAGCGTTCGGCCTCGCCAGCATGGACTCATCGTGAAGCATCCGTTCAGGCTGAGGTGCACACCGGGGAGACAAGTAGCTTGGCTCGGATCACGAAGTTTTCCGTTCAAATGCGCCCGTAATGTCCGGAATTTGGGCACGAGCAGGGTGTCAAGATCGGTTGCCCAAGTGAGCCTGACCAGCGAATGTACGTCCAACCGTGGTTCCAAGC-CTTAATTCGACTCTCTCATCAAACCCGAGTACCGGCCGACAGGAGCGGTCAACTTTGCAACCTCTCCCGGTCGCCCCCGCCGGGTCGGTTGATCCAATTCAAC-CCTTCGGCGGG-GATGGGGAACTCTGAGCATCGAAGGCGGCATTCCGCATTTTACCGTTACTGC-ATCGGCCTGTGTCCAAAGCACCCACCCCTGCGGAGGCGCCTTACACAGATAAGGTGTGAGGGGACATTGCTAATCAACGACTGCATCTAGGTCGAGTAACCCGAAACATTGGGCGGGCGTCCGAGCGCCGTGCGAGGGCGGGTGGGTCTGGTCCCCCACGTCCGTCTGCCTGCGGACCAG-AGACTTTGCGGTTGACCTGGTCGTTCGGGCTTGCCCGTGACGATGGAGGGTTC-AGCATGAACGCGTATTCCGGGCAGA-ACAGCTGCCGGCGTAAGGGGGTG-AGGGGCACACTTGTCCACCCCAGCCCTGTGCACATACTCACCGGACCTTGGCCACCGAACACCACGCCCCCGCGTCATACCCCTATGTACCATCGAAGACGATGAGGGGTACTTAGACGTCCAGAGGCACCCACCTG-CGTGGAGAGCACGTGCTGCTGTCGGGACCACGCACCCGCAGG-AGCCGTGATTTCCACAAAAGTAATGCGTAGCCCGGGGCTCTTCACAGGTGAACGTAGCTCGGCGCCCCCC-GATGTATGCTTAGGCGAAGGATCAGGTACAAGCACATTTGGAATTGTAACTAGGAGAAGGTGGCGTCGCCTCGCTCATCAAGGTTGTGGGTGACCCAGTCTAGCTATCCGTCTACGATGTATATTCTCGGCACGCTCTACATGCACACTGTGATGGTGAACCCAAAGGGTTGGCGCGGGAC-AACTGGTGCTCCGTTTCCGCG-CGCCGTC-ATTCGAGTCGGCATGGCAGGGACCAGAGAAGTCCGCCGGCCAGCGGAGCGATACCGCTCTTCCCAGCAGGACAGCACGGTCGGATTGACTTGGAAAAGGACATCTATAATCACACTCGTCGCGGGACCCGCTAGTCG-CGGGTCTTAGGATCGCTACGCCAGTACCTAACATAGGGCCC-GCGTTATGACCGGTCGCAGACGAGCTCTCGGGGCAGG-GGGGTCG-AGGCAGCCAAATGCACAGCCATTGGGCTAGCAGGGGAAACCAAAAAGACGCCCCTCGATCTGGCGGTGCGCTAGCCACGCCCGATTCGAGATTACCACGGCCAGTAGC-GGAGTACCGACCTCGTCACGGGCTAGACGGCTGGCTGAA-GGTGCCTGGTCGGTTCGGCCAGCTTACCGGGCAGACCGGCAACCCGATCGCGCTAACCGGGGCCTGACCGCGAGCACGGTTCGCTACGACGAGCAAAGGGAACTTCGCGCCGCGTCTCGTCGCATCAGAGCAGACGGCCGAGCTGGCACGCCCGCTGCGGACAGGTTTGCGCGGGCCACGCTAAGTAGTTAGGACTCATTTCGCGTAGGGGACGGGCGCTCGGT-GACTCTAGGTGATGTCATCTCCTCAGCCACCAGCGGTCGGCATCAAGCAGAGGCCAGTGAGGGTGCCCTGCGCGCCTACGTCGGTGCAACCGCGTCATG-CACCGCGATCAGTAGGTCGTGCCGTCGGGTAACATTCTTTGTGAATTCTT-AACCCCCAGGAGCTGCACGACCTGTGGGCTTCCTGTCAGACTCCGGTGACCGGTCCGCGCCCC-TGCCGGCTCCTCTGTCGGACGCAACGGGGGATTCGGAACCCACGTAGTTGGGGACGTGTTTCGCGCAATGCCACCAGCAC-TAGGAGGTCCTTTCGAAGTTCGTTAATCGCCCCTCGGTGCTGACCTCCATTCCCGTAGC--TA-ACGG-CTCGTGCGGTACGTCACTCAGGATACCCCTGCATGACTGGTGGTGGTATCGACTTGGCCAGGGCACGG-TAAGCCTGCGTAGGGCGTGCCG-GGCCGCAAGCATCCCATACGTGGGGCTCCCTAGCGTCCCTGCAGTGGGGCCTTGACAAGGTTGCGTGGGATAACTAA-ACCTAACAGCTACTCCGCCTCGGGTTGTAGCACACGGGCAGGGGGAGGGACGGATGGCTTCCCGC-CC-GGCGCTCCCATTCGGTACGTGGAGTGGCATATCG-TGCCTCGCCGCCTCGCACATCGCGCGGCTTTTGACGCTCACCTCAG-GCCCTTAGACTATACGAAGGGGGCAATATAGGTCCGTGGATGGACGCCGATCGCAGGCCGTCGGTAATCTATGCCCGTACGGCTCAGGCCCGGA-G-AGATACGGCATCCCCGAGGGCCGGTCCCAGCTCTTGATAACCCCATGAAAAATTAGGCTTTCCTCACAAGTCTATCGGGGGCCCATTGCCCGTTGGTTTTCGAGGCAACATTGGTGGTCCGCGTACGGAGCATTGTTCC-GGCGGGAAGCCCGGGCTTGCGGCTCCATGATGTACGGCTTTCGGCGAAGTGGCGCAGGTCAGCAGGCTCACTGATGAGCCCGCGGGAGGTGACACAGGGTGAGAGCCCAGAGCTCTGTGAAGCTTTCCTGTTCTGCATGCCTTGCGGTGCCCGGTTCACGCCCTATGCGAA-CTTCGACGGGAT-TTCGTTTTAGGGGCGCCAGGCTCTCAACGTCGACCTACAGCACTACACTCGCATGGCTGCGCTCCAGCCAGAGTGGCTTACGACGCAACAG-ATACCCGTCCGGCGGCCTCCAAGAACTCTGACGTATCGCCTCAGCGCCTACGTCAAGTCGCCCGCCGTTATGAGGCGCGGTGAGCCGTCACAGGTCCGGCCCCCAAGC-AGCGCGGACTCCGGTCTTCGACCCCACCGGCCCGGCGGGAAAAGTCGAACGAGTCAATACGGCACC-CCGGCCCGTTCAATCCGTGTTCCCGG-CTAGCGCC-AGATTCTTGTTGCATGGCGG-CGAGAGCCCCAGAGCTAGAGGGGCGCCGCCAAAGGGAAGGGCGCGCGCTCAGCTTCTGTAGCACGACCTTCGA-GTACGCGCTTTCCGCGGCAAAGTGGTT-CGACCTCATTAGTACCGGCGTGACATGGGGGCACATAATCGCGGAGGGAGACCTGTCGCACCCGTGTGG-ACTACCAAAGCCTTGTGCTAAAGCTTACGCGGTGGGTAAGGGAGACTGGCTACCCCCCGATGACT-CCTTGCTCCCAA-AGAACTCGATCGGCTAGAAGGCGACTCCGCCATCAGCTCGTGCGGAATCGACGAAGTTCAGACGGGG-CTAGTCAACCGACCTCTCATCGGCCAGCCACCCGTCATGCGTCGCGCAGGAGACGGACGCTGCGGCCAAGTTTCCGTTTATCGGAACC',\n",
       " '--------------------------------------------------------------------------------------------------------------------------------------------------------------------------------------------------------------------------------------------------------------------------------------------------------------------------------------------------------------------------------------------------------------------------------------------------------------------------------------------------------------------------------------------------------------------------------------------------------------------------------------------------------------------------------------------------------------------------------------------------------------------------------------------------------------------------------------------------------------------------------------------------------------------------------------------------------------------------------------------------------------------------------------------------------------------------------------------------------------------------------------------------------------------------------------------------------------------------------------------------------------------------------------------------------------------------------------------------------------------------------------------------------------------------------------------------------------------------------------------------------------------------------------------------------------------------------------------------------------------------------------------------TGAGCAGACCACTGATCGTTGCCAGCTGGCCGGGTAGAACGCGCGGGGGGTTTCCGCATACCGGTGCAAAAGCC-CTGTGAGCCAGTC-CTCCGCCGAGCCGTGCTCCAACCTCAGGCTCCTAGCTCGGCAAAAGCCGTGGGCTCCGATACATCCAATACACGCACGC-CGTTGTGGTTTGACCGGTTGCAGATGGGGTGCGGAGGCGGCCCCGTTCCCCCCGCTTCACGGGGTAAGATACGACGGCAGATAGCAGCTACCATTTGGCGGTGATGCCTTTCGCTCTAAGCCGCCTGACGGAGATCTTAAACAGGAGTCGCGTGGCTCGCAAGGAGGCAGAGTGACTCGACCATTGGTCAGCCCCCGCGCTGCGCTCGGCCGGTAAGCAGCGAGGTCCCCATCCTTGCGCAAGGTGGATGGTATGCCATGGTTCCTCCAGGCAGAGGGCCCCTTCGTAGCGATTCCGCCTTGGCACTTGCGAACACGGGAAACCCCAAGTCACTCGCGGGAAGGATCTGTTGCGTCTGGACGGGAGGATTTACGCCGTCTACGAGCGCAATACGCCATTGTCAAGGGCACGGGAGAGGCGGTTAAGGCTTATCCCTCACGAGGACGAGACGATTGCGGACCAGTTGGTTAGAAGCAGGTATTGGCGGTGGGCCGCCGCGA-GCTTCCGCACGGTCGCAG-GACATCGATCGACCCAAGGCTCGCATCGAACCAATTCCGGGCCGGGTACGCACGAGAGGAGAGAAGCATGAAGCGCCATAGGTCCTACTCGCGGAGCGCTCGTGCAGTCATAGGGGTGGCTGGCCCCTCCCGGGGGCACGTTCTCGGATCAGCTCGGTGTTGTAAGAGCCTGCAGTTAGCGCCGATCATGTGTGCCTAAGACGGGAGATGGGCAGGCATTGA-TAGGGTCGGCATTGCAATCCGAGTCGCCCACGGCCGGAACCGCCCTCC-AAAGCGAGGCTCCTAGGCACTTGCAGGCCTGCAGACT-CGGTAAGCAAATAAGGCTCGACTCTGTTGGGCCCAGGGCGTTCGGGGGTACACATTAAGCAGGAGGTC-GACTCACACATGTCCAAGATCAGGGTGCGTGCAATTATTG-TGGCGCGGCCTCTGACGGACCAAGCGTGTGAACTATTGTGGGCTAAGTCGGGGCCGGAGATTGCTCACTCCGCGGAGATATCCGTTGTTTCGAGGTCGTTCGGTATAGCGCGACGAGCATCCGGAGGATTAACCGCATTACGCGTTCTTTCTGCG-CCGCCGACACGGGTCAGTGCGCAACGACACCGTTAGCTTTCACATCGAATTCAGTGACCACCTA-AGGCCTGCCTGGGCCGCCGGGCCCTGACGCACTCTG-GATCATCCGGGCGGTCCAGCCACGGGCTACCGCCGACGCGGTGAGTCTATCTCTGGCTTGCCAATGGTTTGACGGGAACGCTACACCTGCATCTCGTGACTCCCCCTCTTGCCGTCAGTGTCTAACCATGGGAAGGGGGGCTGGCGGTGGGTTGTAGCATAAGAATGGATCTAATGGCCCGCGCACTGGGGGTTCGAACAGTGGGACCGACGGGGGGGCCTCGGA-GCGGATCCAGGGGCAGCCTTACCAGGGTATCGATTCCTGTACCCTTCTCGTTGTGCCA-CGATGCTTAAGCGACGACTTTGGCGATGACCCGGGGCTGATGGTGATCGCAGTCGGTCACTCCTCCCACAGGAAAACAGTGAAGGCGCCTGCGGGGTTCGCCACGCCCTCA-CCGCCATTACAACGGGGTTTTGTACTCTGACCCGCCGCGTCACGGTCCACCAGCCAGGC-AAAGGTCACCCCGAGCCTGGACTCACG-CCACAACCAATCCGG-GAAGCGGATCGTGTTCCTACGGTTCTGACGCCGCTCACGTGACGCCGTTGCACGATCCCTATTTTTGGGCTCCCGGCTGCCACCCGGTTTGTCCTGTCCTTCGCTCCGTAAGTCGAGCACCTATGCTGTCGAGATGGCCCGCCCTTGAGGGTTACCAAGGGGCGTTTAGTTTTTTCCTGTAGGGGTAGCCCAG-GCTTGCCTCCTCCCAAAGCTAGATTCTTGCCCCAGGCAATTGCGGTGAGACCTGAAGCGTTCGTAGCCATCCATCCTGCTCGAGTGGACTGCCGGCCCTCTGGCAACGGGACGCGCCTCCGCCCCTGGCACGCGGAATCCTCGACCGCCCAAGGCGGAGGCAGCG-GTTCGTGCCCCGGTTCCTCCGACATGCGCGCCACATACCCGCCACCCGTGTCTTAGTATGAGGCGGGCGGAACCCCCTTATATGGCACCGCTTGGCAGTGCCCGATCTCACGGCGCCGGCCAGGGTCAAGTGGGCCGCGTGCGGCG-ACGTTCC-CAACACCCCAGACCGTTTAGCGGTTTGAGCTACGTTATTGGGGAGTGCGACGAACCTCAGGCTGTGTATCAGATACCAACGTGCGCCCGGGATGAGATCGGAGGGGGGATAGGGTATGGATTGTCGGAGGCTTCTGACATGAGTCATGCTTACGACCGAACCTCTGCAGAC-GTCCAGCGACGCCAATGACTACACTGGCCTGCGCGTCTGAC-GGAACTCGGAGGCCCCCGCAATGCCCATTCAGGCGGTATAGCGTGTTCTGGCAGCTGTGATGGTGACCTCAACTGAGGCTCCTCAAGCAGAGGTTATTGAGTGCCTGTAGTACCGGTTGTCGACCGCCTTAAACTC-TAGGCCTCCTTTCCCGAAGGGCTGCGACTCCACTCGGTACGGCATGTAGACACTGGGTATGGGGGACACCACCCGGCACTCT-G-AAGCGTTCGGCCTCGCCAGCATGGACTCATCGTGAAGCATCCGTTCAGGCTGAGGTGCACACCGGGGAGACAAGTAGCTTGGCTCG-ATCACGAAGTTTTCCATT-AAATGCGCCCGTAATGTCCGGAATTTGGGCACGAGCAGGGTGTCAAGATCGGTTGC-CAAGTGAGCCTGACCAGCGAATGTACGTCCAACCGTGGTTCCAAGCGCTTAATTCGACTCTCTCATCAAACCCGAGTACCGGCCGAC-GGAGCGGTCAACTTTGCAACCTCTCCCGG-CGCCCCCGCCGGGTCGGTTGATCCAATTCAACCCCT-CGGCGGGCGATGGGGAACTCTGAGCATCGAAGGCGGCATTCCG-ATTTTACCGTTACTGCGATCGGCCTGTGTCCAAAGCACCCACCCCTGCGGAGGCGCCTTACACAGATAAGGTGTGAGGGGACATTGCTAATC-ACGACTGCATCTAGGTCGAGTAACCCGAAACATTGGGCGGGCGTCCGAGCGCCCTGCGACGGCGGG-GGGTCTGGTCCCCCACGTCCGTCTGCCTGCGGACCAGCAGACTTTGCGGTTGACCTGGTC-TTCGGGCTTGCCCGTGACGATGGAGGGTTCCAGCATGAACGCGT-TTCCGGGCAGATACAGCTGCCGGCGTAAGGGGGTGAAGGGGCACACTTGTCCACCCCAGCCCTGTGCACATACTCACCGGACCTTGGCCACCGAACACCACGCCC-CGCGTCATACCCCTATGTACCATCGAAGACGA-GAGGGGTACTTAGACGTCCAGAGGCACCCACCTGTCGTGGAGAGCACGTGCTGCTGTCGGGACCACGCACCCGCAGGGAG-CGTGATTTCCACAAAAGTAATGCGTAGCCCGGGCCTCTTCACAGGTGAACGTAGCTCGGC-CCCCCCGGATGTATGCTTAGGC-AAGGATCAGGTACAAGCACATTTGGAATTGTAACTAGGAGA-G-TGGCGTCGCCTCGCTCATCAAGGTTGTGGGTGACCCAGTCTAGCTTT-CGTCTACGATGTATATTCTCGGCACGC-CTACATGAACAC-GTGATGGTGAACCCAAAGGGTT-GCGCGGGACTAACTGGTGCTCCGTTTCCGCGTCGCCGTCAATTCGAGTCGGCATGGCA-GGACCAGAGAAGTCCGCCGGCCAGCGGAGCGATACCGCTCTTCCCAGCAGGACAGCACGGTCGGATTGACTTGG-AAAGGACATCTATAA-CACACTCGTCGCGGGACCCGCTAGGCGCCGGGTCTTAGGATCGCTACGCCAGTACCTAACATAGGGCCCGGCGTTATGACCGGTCGCAGACGAGCTCTCGGGGCAGGCGGGGTCGCAGGCAGC-AAATGCACAGCCATTGG-C-AGCAGGGGAAACCAAAAAGACGCCCCCCGATCTGGCGGTGCGCTAGCCACGCCCGATTCGAGATTACCACGGCCAGTAGCGGGAGTACC-ACCTCGTCACGGGCTAGACGGCTGGCTGAAGGGTGCCTGGTCGGTTCGGCCAGCTTACCGGGCAGACCGGCAACCCGATCGCGCTAACCGGGGCCTGACCGCGAGCACGGTTCGCTACGACGAGCAAAGGGAACTTCGCGCCGCGTCTCGTCGCATCAGCGCAGACGGCCGAGCTGGCACGCCCGCT-CGGACAGGTTTGCGCGGGCCACGCTAAGTAGTTAGGACTCATTTCGCGTAGGGGACGGGCGCTCGGTAGACTCTAGGTGATGTCATCTCCTCAGCCACCAGCGGTCGGCATCAAGCAGAGGCCAGTGAGGGTGCCCTGCGCGCCTACGTCGGTGCAACCGCGTCATGTCACCGCGATCAGTAGGTCGTGCCGTCGGGTTACATTCTTTGTGAATTCTTCAACCCCCAGGAGCTGCACGACCTGTGGGCTTCCTGTCAGACTCCGGTGACCGGTCCGCGCCCCCTGCCGGCTCCTCTG-CGGACGCAACGGGGGATTCGGAACCCACGTAGTTGGGGACGTGTTTCGCGCAATGCCACCAGCACCTAGGAGGTCCTTTCGAAGTTCGTTAATCGCCCCTCGGTGCTGGCCTCCATTCCCGTAGCGTT-GACGGTCTCGTGCGGTACGTCACTCA-GATACCCC-GCATGACTGGTGGTGGT-TCGACTTGGCCAGGGCACGGTTAAGCCTGCGTAGGGCGTGCCGCGGCCGCAAGCATCCCATACGTGGGGCTCCCTAGCGTCCCTGCAGTGGGGCCTTGACAAGGTT-CGTGGGATAACTAAGACCTAACAGCTACTCCGCCTCGGGTTGTAGCACACGGGCAGGGGGAGGGACGGATGGCTTCCCGCCCCAGGTGC-CCCATTCGGTACGTGGAGTGGCATATCGCTGCCTCGCCGCCTCGCAC-TCGCGCGGCTTTTGACGCTCACCTCAGTGCCCTTAGACTATACGAAGGGGGCAATATAGGTCCGTGGATGGACGCCGATCGCAGGCCGTCGGTAATCTATGCCCGTACGGCTCAGGCCCGGACGGAGATACGGCATCCCCGAGGGCCGGTCCCAGCTCTTGATAACCCCATGAAAAATTAGGCTTTCCTCACAAGTCTATCGGGGGC-CATTGCCCGTTGGTTT-CGAGGCAACATTGGTGGT-CGCGTACGGAGCATTGTTCCCGGCGGGAAGCCCGGGCTTGCGGCTCCATGATGTACGGCTTTCGGCGAAGTGGCGCAGGTCAGCAGGCTCACTGATGAGCCCGCGGGAGGTGACACAGGGTGAGAGCC-AGAGCTCTGT-AAGCTTTCCCGTTCTGCATGCCTTGCGGTGCCCGGTTCACGCCCTATGCGAAGCTTCGACGGGATATTCGTTTTAGGGGCGCCAGGCTCTCA-CGTCGACCTACAGCACTACACTCGCATGGCTGCGCTCCAGCCAGAGTGGCTTACGACGCAACAGTATACCCGTCCGGCGGCCTCCAAGAACTCTGACGTATCGCCTCAGCGCCTACGTCAAGTCGCCCGCCG-TATGAGGCGCGGTGAGCCGTCACAGGTCCGGCCCCCAAGCAAGCGCGGACTCCGGTCTTCGACCCCACCGGCCCGGCGGGAAAAGTCGAACGAGTCAATACGGCACCTCCGG-CCGTTCAATCCGTGTTCCCGGACTAGCGCCGAGATTCTTGTTGCATGGCGGGCGA-AGCCCCAGAGCTAGAGGGGCGCCGCCAAAGGGAAGGGCGCGCGCTC-GCTTCTGTAGCACGACCTTCGATGTACG-GCTTTCCGCGGCAAA',\n",
       " '--------------------------------------------------------------------------------------------------------------------------------------------------------------------------------------------------------------------------------------------------------------------------------------------------------------------------------------------------------------------------------------------------------------------------------------------------------------------------------------------------------------------------------------------------------------------------------------------------------------------------------------------------------------------------------------------------------------------------------------------------------------------------------------------------------------------------------------------------------------------------------------------------------------------------------------------------------------------------------------------------------------------------------------------------------------------------------------------------------------------------------------------------------------------------------------------------------------------------------------------------------------------------------------------------------------------------------------------------------------------------------------------------------------------------------------------------------------------------------------------------------------------------------------------------------------------------------------------------------------------------------------------------------------------------------------------------------------------------------------------------------------------------------------------------------------------------------------------------------------------------------------------------------------------------------------------------------------------------------------------------------------------------------------------------------------------------------------------------------------------------------------------------------------------------------------------------------------------------------------------------------------------------------------------------------------------------------------------------------------------------------------------------------------------------------------------------------------------------------------------------------------------------------------------------------------------------------------------------------------------------------------------------------------------------------------------------------------------------------------------------------------------------------------------------------------------------------------------------------------------------------------------------------------------------------------------------------------------------------------------------------------------------------------------------------------------------------------------------------------------------------------------------------------------------------------------------------------------------------------------------------------------------------------------------------------------------------------------------------------------------------------------------------------------------------------------------------------------------------------------------------------------------------------------------------------------------------------------------------------------------------------------------------------------------------------------------------------------------------------------------------------------------------------------------------------------------------------------------------------------ATCCATCCTGCTCGAGTGGACTGCCGGCCCTCTGGCAACG-GACGCGCCTCCGC-CCTGGCACGCGGAATCCTCGACCGCCCAA-G-GGAGGCAGCGTGTTCGTGCCCCGGTTCCTCCGACATGCGC-C-ACA-ACCCGCCGCCCGTGTCTTAGTATGAGGCGGGCGGAACCC-CTTA-ATAGC-CCGCT-GGCAGTACCCGATCTCACGGCGCCGGCCAGGGTCAAGTGGGCCGCGTGCGGCGGACGTTCCCCAACACCCCAGACCGTTTAGCGGTTTGAGCTAGGTTATTGGGGAGTGCGACGAACCTCAGGCT-TGTATCAGATACCAACGTGCGCCCGGGATGAGATC-GAGGGGGGATAGGGTATAGATTGTCGGAGGCTTCTGACAT-AGTCATGCTTACGACCGAACCTCTGCA-ACGGTCCAGCGACGCCAATGACTACACTGGTCTGCGCGTCTGACTGGAACTCGGAGGCCCCCGCAATGCCCATTCAGGCGGTATAGCGTGTTCTGGCAGCTGTG-TGGTGACCTCAACTGAGGCTCCTCAAGCAGAGGTTATTGAGTGCCTGTAGTGCCGGTTGTCGACCGCCTTAAACTCCTAGGCCTCCTTTCCCGAAGGGCTGCGACTCCACTCGGTACGGCATGTAGACACTGGGTATGGGGGACACCACCCGGCACTCTCGTAAGCGTTCGGCCTCGCCAGCATGGACTCATCGTGAAGCATCCGTTCAGGCT-AGGTGCACACCGG-GAGACAAGTAGCTTGGCTCGGATCACGAAGTTTTCCGTTCAAATGCGCCCGTAATGTCCGGAATTTGG-CACGAGCAGGGTGTCAAGATCGGTTGCCCAAGTGAGCCTGACCAGCGAATGTACGTCCAACCGTGGTTCCAAG-GCTTAATTCGACTC-CTCATCAAACCCGAGTACCGGCCGA-AGGAGCGGTCAACTTTGCAACCT-TC-CGGTC-CCCCCGCCGGGTCGGTTGATCCAATTCAACCCCTTCGGCGGGCGATGGGGAACTCT-AGCATCGAAGGCGGCATTCCGCATTTTACCGTTACTGCGA-CGGCCTGTGTCCAAAGCACCCACCCCTGCGGAGGCGCCTTACACAGATAAGGTGTGAGGGGACA-T-CTAATCAACGAC-GCATCTAGGTCGAGTAACCCGAAACATTGGGCGGGCGTCCGAGCGCCCTGCGACGGCG-GTGGGTCTGGTCCCCCACGTCCGTCTGCCTGCGGACCAGCAGACTTTGCGGTTGACCTGGTCGTTCGGGC-TGCCCGTGACGATGGAG-GTTCCAGCATGAACGCGTATTCCGGGCAGATACAGCTGCCGGCGTAAGGGGGTGAAGGGGCACACTTGTCCACCCCAGCCCTGTGCACATACTCACCGGACCTTGGCCACCGAACACC-CGCCCCCGCGTCATACCCCTATGTACCATCGAAGACGATGAGGGGTACTTAGACGTCCAGAGGCACCCACCTGTCGTGGAGAGCACGTGCTGCTGTCGG-ACCACGCACCCGCAGGGAGCCGTGATTTCCA-AAAAGTAATGCGTAGCCCG-GCCTCTTCACAGG-GAACGTAGCTCGGCGCCCCCCGGATGTATGCTTAGGCGAAGGATCAGGTACAAGCACATTT-GAATTGTAACTAGGAGAAGGTGGCGTCGCCTCGCTCA-CAAGGTTGTGGGTGACCCAGTCTAGCTATCCGTCT-CGATGTATATTCTCGGCACGC-CTACATGAACACTGTGATGGTGAACC-AAAGGGTTGGCGCGGGACTAACTGGTGCTCCGTTTCCGCGTCGCCGTCAATTC-AGTCGGCATGGCA-GGACCAGAGAAGTCCGCCGGCCAGCGGAGCGATACCGCTCTTCCCAGCAGGACAGCACGGTCGGATTGACT-GGAAAAGGACATCTATAATCACACTCGTCGCGGGACCCGCTAGGCGCCGGGTCTTAGGATCGCTACGCCAGTACCTAA-ATAGGG-CCGGCGTTATGACCGGTCGCAGACGAGCTCTCGGGGCAGGCGGGGTCGCAGGCAGCCAAATGCACAGCCATTGGGCTAGCAGGGGAAACCAAAAAGACGCCCCTCGATCTGGCGGTGCGCTAGCCAC-CCCGATTCGAGATTACCACGGCCAGTAGC-GGAGTACCGACCTCGTCACGGGCTAGACGGCTGGCTGAAGGGTGCCTGGTCGGTTCGGCCAGCTTACCGGGCAGACCGGCAACCC-ATCGCGCTAACCGGGGCCTGACCGCGAGCACGGTTCGCTACGACGAGCAAAGGGAACTTCGCGCCGCGTCTCGTCGCATCAGAGCAGACGGCCGAGCTGGCACGCCCGCTGCGGACAGGTTTGCGCGGGCCACGCTAAGTAGTTAGGACTCATTTCGCGTAGGGGACGGGCGCTCGGTAGACTCTAGGTGATGTCATCTCCTCAGCCACCAGCGGTCGGCAT-AAGCAGAGGCCAGTGAGGGTGCCCTGCGCGCCTACGTCGGTGCAATCGCGTCATGTCACCGCGATCAGTAGGTCGTGCCGTCG-GTTACATTCTTTGTGAATTCTTCAACCCCCAGGAGCTGCACGACCTGTGGGCTTCCTGTCAGACTCCGGTGACCGGTCCGCGCCCCCTGCCGGCTCCTCTGTCGGACGCAACGGGGGATTCGGAACCCACGTAGTTGGGGACGTGTTTCGCGCAATGCCACCAGCACCTAGGAGGTCCTTTCGAAGTTCGTTAATCGCCCCTCGGTGCTGGCCTCCATTCCCGTAGCGTTAGACGG-CTCGTGCGGTA-GTCACTCAGGATACCCCTGCATGACTGGTGGTGGTATCGACTTGGCCAGGGCACGGTTAAGCCTGCGTAGGGCGTGCCGCGGCCGCAAGCATCCCATACGTGGGGCTCCCTAGCGTCCCTGCAGTGGGGCCTTGACAAGGTTGCGTGGGATAACTAAGACCT-ACAGCTACTCCGCCTCGGGTTGTAGCACACGGGCAGGGGGAGGGACGGATGGCTTCCCGCCCCAGGTGCTCCCATTCGGTACGTGGAGTGGCATATCGCTGCCTCGCCGCCTCGCACATCGCGCG-CTTTTGACGCTCACCTCAGTGCCCTTAGACTATACGAAGGGGGCAATATAGGTCCGTGGATGGACGCCGATCGCAGGCCGTCGGTAAT-TATGCCCGTACGGCTCAGGCCCGGACGGAGATACGGCATCCCC-AGGGCCGGTCCCAGCTCTTGATAACCCCATGAAAAATTAGGCG-TCCTCACAAGTCTATCGGGGGCCCATTGCCCGTTGGTT--CGAGGCAACAT-GGTGGTCCGCGTACGGAGCATTGTTCCCGGCGGGAAGCCCGGGCTTGCGGCTCCATGATGTACGGCTTTCGGCGAAGTGGCGCAGGTCAGCAGGCTCA-TGATGAGCCCGC-GGAGGTGACACAGGGTGAGAGCCCAGAGCTCTGTGAAGCTTTCCCGTTCTGCATGCCTTGC-GTGCCCGGTTCACGCCCTATGCGAAGCTTC-ACGGGATATTCG-TTTAGGGGCGCCAGGCTCTCAACGTCGACCTACAGCACTACACTCGCATGGCTGCGCTCCAGCCAGAGTGGCTTACGACGCAACAGTATACCCGTCCGGCGGCCTCCAAGAACTCTGACGTATCGCCTCAGCGCCTACGTCAAGTCGCCCGCCGTTATGAGGCGCGGTGAGCCGTCACAGGTCCGGCCCCCAAGCAAGCGCGGACTCCGGTCTTCGACCCCACCGGCCCGGCGGGAAAAGTCGAACGA-TCAATACGGCACCTCCGGCCCGTTCAATCCGTGTACCCGGACTAGCGCCGAGATTCTTGTTGCATGGCGGGCGAGAGCCCCAGAGCTAGAGGGGCGCCGCCAAAGGGAAGGGCGCGCGCTCAGCTTCTGTAGCACGAC-TTCGATGTACGCGCTTTCCGCGGCAAAGTGGTTCCGACCTCATTAGTACCGGCGTGACATGGGGGCACATAATCGCGGAGG-AGACCTGTCGCACCCGTGTGGTACTACCAAAGCCTTGTGCTAAAGCTTACGCGGTGGGTAAGGGAGACTGGCTACCCCCCGATGACTCCCTTGCTCCCAACAGAACTCGATCGGCTAGAAGGCGACTCCGCCATCAGCT-GTGCGGAATCGACGAAGTTCAGACGGGGGCTAGT',\n",
       " '---------------------------------------------------------------------------------------------------------------------------------------------------------------------------------------------------------------------------------------------------------------------------------------------------------------------------------------------------------------------------------------------------------------------------------------------------------------------------------------CGCGTTGCGCCGGCCAGCCTCGGCAGTGACTAATCCGGTTGGCCGCGAGCCCG-GCGTAGCGCACGGCGATG-ACGTTCCCGCGAGTACTCTCCGTGAGGACGCG-TCATCTCGCTGGGGCCGCCTAGTCCCTAACCGCGCGC-ATGTAGCATCCGTACGATGTGTTTCTCACCACCCTCGCGGGGGCTC-CGTCC-TTCCCGATCAGTGCGT-ACTATTCGC-T-GACATGAGCCCGGCGCCCGCTTC-CCCC-TCGGACCTAGCCCCTCACGGAACCCGCCATGAGCGAAAGGCCTCTGGGCGG-CCACAGCGACAGAAGCTACGAGGCGCCGGAGCCACACCGTCCCAGCCCGGTCGCGACGGGATGCAG-ACCCATTATCTTTCACGCAGTGCTTAGGATACCCACTATGTAC-GAAA-TCCGCCGGGGCCGGTAAGGGGTAGGTGCGCGAAAGGCACAAT-CTGTTGCGGGGACCTCCAGATAGTT-TTGCTGGAATGTGGTGTAGCTTGTGAACAGGGAACGCCC-TGGGACCCTATCCGGAC-TGCGACCTCCCGGGGTGACTTACTCCGATCTCAGAAGC-GCCCGGCACGCGCGCTTGGTCAGACCGCACTACTGG-GCCGTTGGGCGGCCTAAGCAGAGGCAGCGTGAAGCTCC-CATGGCATTCGCCGGGCTGTGAGCGGAGAGTGCCTGC-GCGAT-CTAGAG-TCTCGCAGAGGTAAAGGCCGCAC-CGG-AGGTGGGCCGGCGTTCACACATCCGATGTGAGGG-GGCTG-ATACG-ACCCCGACGCATAGACGCAAACAATGTGCCCATTAACAGTCCAATAGTCGCA-CCCCGGGGTGCCATGTGGCTGAGACTGAGCA-GGT-CTCCTAGCACCCTCCCGGAGGATTACACGGTGCG-CAGATAGCGT-CCCGGCAGGAC-GGGCCGGTCG-C-GGAGC-GT-ACTTGCGGAGTCGTTCGAT-GCGATGTCCGAGATCCCTATGTTGAAAGTCCCTCGAATACCCAT-AGCTAGGTGGGTGATCTA-CCGGCCAAGCGCTTCAGTT-CGTTGCGCAAGCAATACAAGGCGCTGGGGCTCATGTACTGCTTTCTTCGCCTG-GCAGACCCCTGATC-TTGCCAGCTGGCC-GG-AGAACGCGCGGGGGGTTTCCGCATACCGGTGCAAAAGCCCCTG-GAGCCAGTCTCTCCGCCGAGCCGT-CTC-AACCTCAGGCTC-TAGCTCGGCAAAAGCCGTGGGCTCCGATACATCCAATACACGCACGCCCGTTGTGGT-TGAC-GGTTGCAGATGGGGTGCGGAGGCGGCCCCGTTCCCCCCGCTTCACGGGGTAAGATACGACGGCAGATAGCAGCTACCATTTGGCGGTGCTGCCTTTCGCTCTAAG-CGCCTGACGGAGATCTTAAACAGGAGTCGCGTGGCTC-CAAGGAGGCAGAGTGACTCGACCATTGGT-AGCCCCCGCGCTGCGCTCGGCCGGTAAGCAGCGAGG-CCCCATCCTTGCGCAAGG-GGATGCTA-GCCA-GGTTCCTACAGGCAG--GGC-CCTTCGTAGCGATTCCGCCTTGGCACT-GCGAACACGGGAAACCC--AG-CACTCGCGGGAAGGATCTGTTG-GTCTGGACGGGAGGATTTACGCCGTCTACGAGCGCAATACGCCATTGTCAAGGGCACGGGAGAGGCGGTTAAGGCTTATCCCTCACGAGG-CGAGACGA-TGCGGACCAGTTGGTTAGAAGCAGGTATTGGCGGTGGGCCGCCGCGAGGCTTCCGCAC-GTCGCAGTGACATCGATCGACCCAAGGCTCGCATCGAACCAATTCCGGGC-GGGTACGCACGAGAGGAGGGAA-CATGAAGCGCCATAGGTCCTAC-CGCGGAGC-CTCGTGCAGTCATAGGGGTGG-TGGCCCCTCCCGGGGGCACGTTCTCGGATCAGCTCGGTGTTGTAAGAG-CTGCAGTTAGCGCCGA-CATGT-TGCCTAA-ACGGGAGATGGGCAGGCATTGATTAGGGTCGGCATTGCAATCTGAGTCGCCCACGGCCGGAACCG-CCTCCGAAAGCGAGGCTCCTA-GCACTTGCAGGCCTGCAG-CTGCGGTAAGCAAATAAGGCTCG-CTCTGTT-GGCCCAGGGCGTTCGGGGGTACA-ATTAAGCAGGAGGTCAGTCTCACACATGT-CAAGATGAG-GTGCGTGCAATTATTGTTGGCGCGGCCTCTGACGGACCAAGCGTGTGAACTATTGTGGGCTAAGTCGGGGC-GG-GATTGCTCACTCCGCGGAGATATCCGTTGTTTCGAGGTCGTTCGGTATAGCGCG-CGAGCATCCGGTGGATTAACCGCATTACGCGTTCTTTCTGCGTCCGCCGACACGGGTCAGTGCGCA-CGACA-CGGTAGCTTTCA-ATCGAATTCA-TGACCACCTATAGGCCTGCCTGGGCCGCCGGGCCCTGACGCACTCTGA-ATCATCCGGGCG-TCCAGCCA--GGCTACCGCCGACGCGGTGA-TCTATCCCTGGCTTGC-AATGGTTTGACGGGAACGCTACACCTGCATCTCGTGACTCCCCCTCTTGCCGTCAGTGTCTAACAATGGGAAGGGGGGCTG-CGGTGGGTT-TAGCACAAGGATGGATCTAATGGCCCGCGCACTGGGGGTTCGAACAGTGGGACCGACGGGGGGGCCTCCGACGCGGA-CCAGGGGCAGCCTTACCAGGGTATCGATTCCTGTACCCTTCTCGTTGTGCCAGCGATGCTTAAGCGACGACTTTGGCGATGACCCGGGGCTGATGGTGATCGCAGTCGGTCACTCCTCCCACAGGAAAACAGTGAAGGCGCCTGCGGGGTTCGCCACGCCCTCACCCGCCATTACAACGGGGTTTTGCACTCTGACCCGCCGCGTCACGGTCCACCAGCCAGGCCAAAGGTCACCCCGAGCCTGGACTCACGCCCACAACCAATCCGGGGAAGCGGATCGTGTTCCTACGGTTCTGACGCCGCTCACGTG-CGCCGTTGCACGATCCCTATTTTTGGGCTCC-GGCTGCCACCCGGTTTGTCCTGTCCTTCGCTCCGTAAGTCGAGCACCTATGCTGTCGAGATGGCCCGCCCTTGAGGGTTACCAAGGGGCGTTTAGTTTTTTCCTGTAGGGGTAGCCCAGGGCTTGCCTCCTCCCAAAGCTAGATTCTTGCCCCAGGCAATTGCGGTGAGACCTGAAGCGTTCGTAGCCATCCATCCTGCTCGAGTGGACTGCCGGCCCTCTGGCAACGGGACGCGCCTCCGCC-CTGGCACGCGGAATCCTCGACCGCCCAAGGCGGAGGCAGCG-GTTCGTGCCC-GGTT-CTCCGACATGCGCGCCACATACCCGCCGCCCGTGTCTTACTATGAGGCGGGCGGAACCCCCTTATATGGCACCGCTTGGCAGTGCCCGATCTCACGGCGCCGGCCAGGGTCAAGTGGGCC-CGTGCGGCGGACGTTCCCCAACACCCCAGACCGTTTAGCGGTTTGAGCTACGTTATTGGGGAGTGCTACGAACCTCAGGCTGTGTATCAGATACCAACGTGCGGC-GGGACGAGATCGGAGGGGGGATAGGGTATGG-TTGTCGGAGGCTTCTGACATGAGTCATGCTTACGACCGAACCTCTGCAGACGGTCCAGCGACGCCAATGACTACACTGGCCTGCGCGTCTGACTGGAACTCGGAGGCCCCCGCAATGCCCATTCAGGCGGTATAGCGTGTTCTGGCAGCTGTGATGGTGACCTCAACTGAGGCTCCTCAAGCAGAGGTTATTGAGTGCCTGTAGTGCCGGTTGTCGACCGCCTTAAACTCCTAGGCCTCCTTTCCCGAA-GGCTGCGACTCCACTCGGTACGGCAT-TAGACACTGGGTATGGGGGACACCAC-CGGCACTCTCGTAAGCGTTCGGCCTCGCCAGCATGGACTCATCGTGAAGCATCCGTTCAGGCTGAGGTGCACACCGGGGAGACAAGTAGCTTGGCTCGGATCACGAAGTTTTCCGTTCAAATGCGCCCGTAATGTCCGGAATTTGGGCACGAGCAGGGTGTCAAGATCGGTTGCACAA-TGAGCCTGACCAGCGAATGTACGTCCAAC-G-GGTTCCAAGCGCTTAATTCGACTCTCTCATCAAACCCGAGTA-CGGCCGACAGGAGCGGTCAACTTT-CAACCTCTCCCGGTCGCCCCCGCCGGG-CGG-TGATCCAATTC-ACCCCTTCGGCGGGCGATGGGGAACTCTGAGCATCGAAGGCGG-ATTCCGCATTTTACCGTTACTGCGATCGGCCTGTGTCCAAAGCACC-ACCCCTGCGGAGGCGCCTTACACAGATAAGGTGTGAGGGGACATTGCTAATCAACGACTGCATCTAGGTCGAGTAACCCGAAAC-TTGGGCGGGCGTCCGAGCGCCCTGCGACGGCGGGTGGGTCTGGTCCCCCACGTCCGTATGCCTGCGGACCAGCAGACTTTGCGGTTGACCTGGTCGTTCGGGCTTGCCCGTGAC-ATGGAGGGTTCCA-CATG-ACGCGTAT-CCGGGCAGATACAGCTGCCGGCGTAAG-GGGTGAAGGGGCACACTTGTCCACCCCAGCCCTGTGCACATAC-CACCGGA-CTTGGCCACCAAACACCACGCCCCCGCGTCATACCCCTATGTACCATCGAAGACGATGA-GGGTACTTAGACGTCC-GAGGCACCCACCTGTCGTGGAGAGCACGTGCTGCTGTC-GGACCACGCACCCGCAGGGAGCCGTGATTTCCACAAAAGTAATGCGT-GCCCGGGCCTCTTCACAGGTGAACGTAGCTCGGCGCCCCCCGGATGTATGCTTAGGCGAAGGATCAGGTACAAGCACATTTGGAAT-GTAACTAGG-GAAGGTGGCGTCGCCTCGCTCATCAAGGTTGTGGGTGACCCAGTCTAGCTATCCGTC-ACGATGTATATTCTC-GCACGCTCTACATGAACACTGTGATGGTGAACCCAAAGGGTTG-CGCGGGACTAACTGGTGCTCCGTTTCCGCGTCGCCGTCAATTCGAGTCGGCATGGCAGGGACCAGAGAAGTCCGCCGGCCAGCGGA-CGATACCGCTCTTCCCAGCAGGACAGCACGGTCGGATTGACTTGGAAAAGGACATCTATAATCACACTC-TCGC-GGACCCGCTAGGCGCCGGGTCTTAGGATCG-TACGCCAGTACCTAACATAGGGCCCGGCGTTATGACCGGTCGCAGACGAGCTCTCGGGGCAGGCGGGGTCGCAGGCAG-CAA-TGCACAGCCAT-GGGCTAGCAGGGGAAACCAAAAAGACGCCCCTCGATCTGGCG-TGCGCTAGCCACG-CCGATTCGAGATTACCACGGCCAGTAGCGG-AGTACCGACCTCGTCACGGGCTA--CGGCTGGCTGAAGGGTGCCTGGTCGGTTCGGCCAGCTTACCGGGCAGACC--CAACCCGATCGCGCTAACCGGGGCCTG-CCGCGAGCACGGTTCGCTACGACGAGCAAAGGT-ACTTCGCGCCGCGTCTCGTCG-ATCAGAGCAGACGGC-GAGCTGGCACGCCCGCTGCGGACAGGTTTG-GCGGGCCACGCTAAGTAGTTAGGACTCAT-TCGCGTAGGGGACG-GCGCTCGGTA-ACTCTAGGTGATGTCATCTCCTCAGCCACCAGCGGTCGGCATCAAGCAGAGGCCAGTGAGGGTGCCCTGCGCGCCTACGTCGGTGCAACCGC-TCATGTCACCG-GATCAGTAGGTCGT-CCGTCGGGTTACAT-CTTTGTGAATTCTTCAACCCCCAGGAGCTG-ACGACCTGTGGGCTTCCTGTCAGACTCCGGTGACCGGTCCGCGCCCCCTGCCGGCTCCTCTGTCGGACGCAACGGGGGATTCGGAACCCACGTAGTTGGGGACGTGTTTCGCGCAATGCCACCAGCACCTAGGAGGTCCTTTCGCAGTTCGTTAATCGCCCCTCGGTGCTGGCCTCCATTCCCGTAGCGTTAGACGGTCTCGTGCGGTACTTCACTCAGGATACCCCTGCATGACTGGTGGTGGTATCGACTTTGCCAGGGCACGGTTA-GCCTGC--AGGGCGTGC-GCGGCCGCAAGCATCCCATACGTGGGGCTCCCTAGCGTCCCTGCAGTGGGGCCTTGACAAGGTTGCGTGGGATAACTAAGACCTAACAGCTACTCCGCCTCGGGTTGTAGCAC-CGGGCAGGGGGAGGGACGGATGGCTTCCCG-CCCAGGTGCTCCCATTCGGTACGTGGAGTGGCATAT-GCTGCCTCGCCGCCTCGCAC-TCGCGCGGCTTTTGACGCTCACCTCAGTGCTCTTAGACTATACGAAG-GGGCAATATAGGTCCGTGGATGGACGCCGATCGCAGGCCGTCGGTAATCTATGCCCGTACGGCTCAGTCCCGGACGGAGATACGGCATCCCCGAGGGCCGGTCCCAGCTCTTGATAACCCCATGAAAAATTAGGCTTTCCTCACAAGTCTATCGGGGGCC-ATTGCCCGTTGGTTTTCGAGGCAACATTGG-GGTCCGCGTACGGAGCATTGTTCCCGGCGGGAAGCCCGGGCTTGCGGCTCCATGATGTACGGCTTTCGGCGAAGTGGCGCAGGTCAGCAGGCTCACTGATGAGCCCGCG-GAGGTGGCACAGGGTGAGAGCCCAGAGCTCT-TGAAGCTTTCCCGTTCTGCATG-CTTGCGGTGCCCGGTTCACGCCCTATGCGAAGCTTCGGCGGGTTATTCGTTTTAGGG-CGCCAGGCTCTCA-CGTCG-CCTACAGCACTACACTCGCATGGCTGCGCTCCAGCCAGAGTGGCTTACGACGCAACAGTATACCCGTCCGGCGGCCTCCAAGAACTCTGACGTATCGCCTCAGCGCCTACG-CAAGTCGCCCGCCGT-ATG-GGCGCGGTGAGCCGT-ACAGGTCCGGCC-CCAAGCAAGCGC-AACTCCGGTCTTCGACCCCACCGGCCCGGCGGGAAAAGTCGAACGAGTCAATACGGCACCTCCGGCCCGTTCAATCCGTGTT-CCGGACTAGCGCCGAGATTCTTGTTGCATGGC-GGCGAGAGCCCCAGAGCTAGAGGGGCGCCGCCAAAGGGAAGGGCGCGC-CTCAGCTTCTGTAGCACGACCTTCGATGTACGCGCTTTCCGCGGCAAAGTGGTTCCGACCTCATTAGTACCGGCGTGA-ATGGGGGC-CATAATCGCGGAGGGAGACCTGTCGCACCCGTGTGGTACTACCAAAGCCTTGTGCTAAAGCTTACGCGGTGGGTAAGGGAGACTGGCTACCCCCCGATGA-TCCCTTGCTCCCAACAGAACTC-ATCGGCTAGAAGGCGACTCCGCCATCAGCTCGTGCGGAATCGACGAAGT-CAGACGGGGGCTA-TCAACCGGCCTCTCATCGGCCAGCCACCC-TCATGCGTCGCGCAGGAGACGGACGCTGCGGCCAAGTTTCCGTTTATCGGAACCTGCTATCCAAATACTTCCGAGCG-GTGTGCCAGACCATGTGTCACATGCACCTTCCGATAACCGGCACTTCTCATAGTGCCCTGGACATTCACCTGTA-GTTGTCGCAG-G-AGCCTACCAGGGTT-AGG-CGGA-AGACATTTTCGTTCCTACACAAGACGATCTC-ATCTCGGATACGAGTAGACGTGCAATCCTAGCCTACCCCATGGCTCCCCTGACCTGACCTTAGGCGAGCCCCCATTGGAGCAGAAGGTCCGATTTCCCGTGATGTGCGATCGGGGTCCATCGCAGTTGCACTAGCTCACGATTACA-CGA-TTCTAACGACTGTAACCGTGGCGCACGCATGTCTCTAGGGTTCAGTAAGCGGCCGTCGGGGGCGAGGGTAAGCATTCCTC-ATAGACCTAAGGGGGCAGATTTCGCGAATGCAGGTTTCGAGCAGGAGACGGCAAAGAACTTACGCTTGGTTGG-ACAGGGGAGCGTCAACT-CCCGCCGCCGAGCACTCTCGAGGTCCAGATGGGGCCCCGATTGTCTAGTACGGGGCATCAAGCTCACACTTGAGTTTTGTTGATATGTCAGGCCTCG-AGGTTGCC-AGATTCACATCGACTGTCGTAGTGGGGGTCTAGCCGTAACGAGGGCTACTCAGGCCCAAACAACAAGCA-GCCCCTTACCATTACCCTACGGCCACGCTGAGGCCACACCGCCCTAAGCCATCTATACGAGCCCCGCTGGCCGAGGCCCCTCGTAATGCCCCCCTGTAAACATGGCTGC-TTCGCGGGGGGTTGGGAACGTGTTTGTAGTGTGTGTATTAAAGTCCTGGCCGACAGACGTCACCGCCCCCCGGGGC-ACCA-GCGACGGAACT-CTATAATTTGTACGAAGTGCTTGGGCTTCCAG-GCTCAATTACGTACGCGTGATCGGGCTCTCGCCTTGTTAATCCGAAAC-CGGGTCACCGGTTGAACCAAACCCTGAGAATGGCGGGGGTGGATACGATCCACGCAGCGACCGCCGTAGAA-AGACTCGCGCACCCCCGGCTTGGGGAGAGGGCGCCAGGCCTTGATA-GGTGACCGGTGTGGGTTTCCGGCGGGAGCTA-TCTTCTGGTGGCTCAGGTTGGTAAACTAACCGCGGCGCTAGCACAGGAAGTGACCACCCCGCCCACATGCGCGCTGACATGCGAAGTAATCCAA-CGGGCGCTCTACTCGGGCAAAGCGCAGTAACCGATAC-AATACCTTACGGCTGGCA-GGACGTCAGAGGAGCTATGGTACTGGAGCTGAGACAGGGGTGCGGACGC',\n",
       " 'CTCGTCATGG-ACACATC-TGCTACGAGCC-GAGACTGTTGAAAGCCCGAGGAAGCGTGCCAG-ACCGA-GCGCA-G-AGCGACTTA-CTAG-CAGAGT-AGACGTGTCGCTTGAGCGTCCGCAGTACAGGGAAGTGG-ACGACGTCCTGAGGCCCTGAA-GTG-CGAAGGCCACTT-GACCCGGTACTCTAGCAAGAGCA-CGGG-CCTTCG-CGGTCGTCCAGGGTTGCGA--TAAGACG-CGCCCCAAGCCAGTCATCAG-CCGCGCTGTCTCTACACCGACCAGGCCTCTTCGGGGAAA-G-ACACAGCGCTATTGTGG-TTAGAACA-CATCAGAGGT-CC-AACCGAGCCTACCTCGCT-CTCCCACCGCC-CCACTTCATTCATGCGGCGGAACGGCGTACGCACATACCGCCAGGGAGAGTCACCTTATAGTTCACC--CGCAAGGCGCAGTGCCGC-TGATTCGCGTTGCGCCGGCCAGCCTCGGGAGTGACTAATCCGGTT-GCCGCG-GCCCGAGCGTAGCGCACGGCGATGTACGTT-CCGCGAGTACTC-CCGTGAGGA-GCGCTCATCTCGCTGGGGCCGCCTAGTCCCTAACCGCGCGCAATGTAGCATCCGTACGATGTGTTTCTGACCACCCTC-CGGGCGCTCCC-TCCTTT-CCGATCAGTGCGTCACTATTCGCTTAGACATG-GCCCGGCGCCCGCTTCTCCCCATCGGACCTAGCCCCTCTCGGAACCCGCCATGAGCGAAAGGCCGCTGGGCGGACCACAGCGGCAGATGCT-C-AGGC-CCGGAGCCACACCGTCCCAGCCCGG-CGCGACGG-ATGCAGC-CCCATTATCTTTCACGCA-TGG-TAGGA-ACCCAATATGTACTAAAAGT-CGC-G-GGCCGGT-AGGGGTAGGTGCGCGAAAGGCACAATCCTGTT-CGGGGACCTCCAGATAGTGC-TGCTGGAATGTGGTGTAGC-TGTGAACAGGGATCGCCCCTGGGACCCTATCCGGACTTGCGACCTCCCG-GGTGACTTACGCCGATCTCAGAA-CCG-CCGGCACGCGCGCTTGGTCAGACCGCACTACTGGCG-TGTTGGGGGGCC-AAGCAGAGGCAGCGTGAAGCTCCTCATGGCATTCG-CGGGCTGTGAGCGGAGAGTGCCTGCCGCGATGCTAGAGC-CT-GCG-AGGTAAAGGCCGCACACGGTAGGTGGGCCGGCGTTCAGACATCCGATGTGAGGG-GGCTGCATACGT-C-CCTAC-CATAGACGCA-ACAATGTGCCCATTAACAGTCCAATAGTCGCACCCCCGGGGTGCCATGTG-CTGAGACTGAGCAGG-AC-TC-TAG-ACCCTCC-GCAGGATTCCACGGTGCTCCAGATAGCGT-CCCGGCAGGACTGGGCCGGTC-C-AGGAGCGGTCACTTG-GG-GTCGTTCGAGTGCGATGTCCGA-AT-CCTA-GTTGAAAGTCCC-CGAATACCCATAAGCTAG-TGGGTGATCTAGCCGGCCAA-CGCTTGAGTTACGTTGCGCAAGCAATACAAGGCGCTGGGGCTCAT-TACTGCTTTCTTCGCCT-AGCAGACCACTGATCGTTGCC-GC-GGCCGGGTA-AACGCGCGGGGG-TTTCCGCATACCGGTGCAAAAGCCGCTGGGAGCCAGTATCTCCGCCGAGCCGTGCTCCAACCTCAGGCTCCTAGCTCGGC-AAAGCCGTGGGCTCCGATACATCCAATAC-CGCA-GCC-GTT-TGGATTGACCGG-TGCAG-TGGGGTGCGGAGGCGGCCCCGTTCCCCCCGCTTCACGGGGTAAGATACG-C-GCAGATAGGAGCT-CCATTTGGCGGTGATGCCTTTCGCTC-AAGCCGCCTGACGGAGATCTTAAACAGGA-TCGCGTGGTTCGCAAGGAG-CAGAGTGACTCGACCATTGGT-AGCCCCCGCGCTGCGCTCGGCCGGTAAGCAGCGAGGTCCCCATCCTTGCGCAAGGTGGATGGTATGCCATGGTTCCTCCAGGCAGAGGGCCCCTTCGTAGCGATTCCGCCTTGGCACT-GCGAACACGGGAA-CCCCA-GTCACTCGCCGGAAGGA-CTGTTGCGTCTGGACGGGAGG-TTT-CGCCGTCTACGAGCGCAATACGCCATTGTCAAGGGCACGG-AG-GGCGGTT-AGGCTTATCCCTCACGAGGACGAGA-GATTGCGGAA-AGTTGGTT-GAAGCAGGTATTGGCGTTGGGCCGCCG-GAGGCTTCCGCACGG-CGCAGTGACATCGATCGACCCAAGGCTCGCATCGAACCAATTCCGGGCCGGGTACGCACGAGAGGAGAGAAGCATGAAGCGCCATAGGTCCTACTCGCGGAGCGCTCGTGCAGTCATAGGGGTGGCTGGCCCCTCCCGGGGGCACGTTCTCGGATCAGCTCGGTGTTGTAAGAGCCTGCAGTTAGCGCCGATCATGTGTGCCTAAGACGGGAGATGGGCAGGCATTGATTAGGGTCGGCATTGCAATCCGAGTCGCCCACGGCCGGAACCGCCCTCCGAAAGCGAGGCTCCTAGGCACTTGCAGGCCTGCAGACTGCGGTAAGCAAATAAGGCTCGACTCTGTTGGGCCCAGGGCGTTCGGGGGTACACATTAAGCAGGAGGTCAGACTCACACATGTCCAAGATCAGGGTGCGTGCAATTATTGTTGGCGCGGCCTCTGACGGACCAAGCGTGTGAACTATTGTGGGCTAAGTCGGGGCCGGAGATTGCTCACTCCGCGGAGATATCCGTTGTTTCGAGGTCGTTCGGTATAGCGCGACGAGCATCCGGTGGATTAACCGCATTACGCGTTCTTTCTGCGTCCGCCGACACGGGTCAGTGCGCAACGACACCGGTAGCTTTCACATC-AATTCAGTGACCACCTATAGGCCTGCCTGGGCCGCCGGGCCCTGACGCACTCTGAGATCATCCGGGCGGTCCAGCCACGGGCTACCGCCGACGCGGTGAGT-TATCCCTGGCTTGCCAATGGTTTGACGGGAACGCTACACCTGCATCTCGTGACTCCCCCTCTTGCCGTCAGTGTCTAACCATGGGAAGGGGGGCTGG-GGTGGG-TGTAGCATAAGAATGGATCTAATGGCCCGCGCACTGGGGGTTCGAACAGT-GGACCGACGGGGGGGCCTCCGACGCGGATCCAGGGGCAGCCTTACCAGGGTATCGATTCCTGTACC-TTCTCGTTGTGCCAGCGATGCTTAAG-GACGACTTT-GCGATGACCCGGGGCT-ATGGTGATCGCAGTCGGTCACTCCTCCCACAGGAAAACAGTGAAGGCGCCTGCGGGGTTCGCCACGCCCTCACGCGCCATGACAACGGGGTTTTGTACTCTGACCCGCCGCGTCACGG-CCACCAGCCAGGCCAAAGGTCACCCCGAGCCTGGACTCACGCCCACAACCAATCC-GGGAAGCGGATCGTGTTCCTACGGTTCTGACGCCGCTCACGTGACGCCGT-GCACGATCCCTAT-TTTGGGCTCCC-GCTGCCACCCGGTTTGTCCTGTCCTTCGCTCCGTAAGTCGAGCACCTATGCTGTCGAGATGGCCCGCCCTTGAGGGTTACCAAGGGGCGTTTAGTTTTTTCCTGTAGGGGTAGCCCAGGGCTTGCCTCCTCCCAAAGCTAGATTCTTGCCCCAGGCAATTGCGGTGAGACCTGAAGCGTTCGTAGC-ATCCATCCTGCTCGAGTGGACT-CCGGCCCTCTGGCAACGGGACGCGCCTCCGCC-CTGGCACGCGGAATCCTCGACCGCCCAAGGCGGAGGCAGCGTGTTCGTGCCCCGGTTCCTCCGACATGCGCGCCACATACCCGCCGCCCGTGTCTTAGTATGAGGCGGGCGGAACCCCCTTATATGGCACCGCTTGGCAGTGCCCGATCTCACGGCGCCGGCCAGGGTCAAGTGGGCCGCGTGCGGCGGACGTTCCCCAAC-CCCCAGACCGTTTAGCGGTTTGAGCTACGTTATTGGGGAGTGCGACGAACCTCAGGCTGTGTATCAGATACCAACGTGCGCCCGGGATGAGATCGGAGGGGGGATAGGGTATGGATTGTCGGAGGCTTCTGACATGAGTCATGCTTACGACCGAACCTCTGCAGACG-TCCAGCGACGCCAATGACTACACTGGCCTGCGCGTCTGACTGGAACTCGGAGGCCCCCGCAATGCCCATTCAGGCGGTATAGCGTGTTCTGGCAGCTGTGATGGTGACCTCAACTGAGGCTCCTCAAGCAG-GGTTATTGAGTGCCTGTAGTGCCGGTTGTCGACCGCCTTAAACTCCTAGGCCTCCTTTCCCGAAGGGCTGCGACTCCACTCGGTACGGCATGTAGACACTGGGTATGGGGGACACCACCCGGCACTCTCGTAAGCGTTCGG-CTCGCCAGCATGGACTCATCGTG-AGCATCCG-TCAGGCTGAGGTGCACACCGGGGAGACAAGTAGCTTGGCTCGGATCACGAAGTTTTCCGTTCAAATGCGCCCGTAATGTCCGGAATTTGGGCACGAGCAGGGTGTCAAGATCGGTTGCCCA-GTGAGCCTGACCAGCGAATGTACGTCCAACCGTGGTTCCAAGCGCTTAATTCGACTCTCTCATCAAACCCGAGTACCGGCCGACAGGAGCGGTCAACTTTGCAACCTCTCCCGGTCGCCCCCGCCGGGTCGGTTG-TCCAATTCAACCCCTTCGGCGGGCGATGGGGAACTCTGAGCATCGAAGGCGGCATTCCGCATTTTACCGTTACTGCGA-CGGCCTGTGTCCAAAGCACCCACCCCTGCGGAGGCGCCTTACACAGATAAGGTGTGAGGGGACATTGCTGATCAACGACTGCATCTAGGTCGAGTAACCCGAAACATTGGGCGGGCGTCCGAGCGCCCTGCGAC-GCGGGTGGGTCTGGTCACCCACGTCCGTC-G-CTGCGGACCAGCAGACTTTGCGGTTGACCTGGTCGTTCGGGCTTGCCCGTGACGATGGAGGGTTCC-GCATGAA-G-GTATTCCGGGCAGATACAGCTGCCGGCGTAAGGGGGTGAAGGGGCACACTTGTCCACCCCAGCCCTGTGCACATACTCACCGGACCTTGGCCACCGAACAC-A-GCCCCC-CGTCATACCCCTATGTACCATCGAAGACGATGAGGGGTACTTAGACGTCCAGAGGCACCCACCTGTCGTGGAGAGCACGTGCTGCTGTCGGGACCACGCACCCGCAGGGAGCCGTGATTTCCACAAAAGTAA-GCGTAGCCCGGGCCTCTTCACAGGTGAACGTAGCTCGGCGCCCCCCGGATGTATGCTTAGGCGAAGGATCAGGTACAAGCACATTTGGAATTGTAACTAGGAGAAGGTGGCGTCGCC-CGCTCATCAAGGTTGTGG-TGACCCAGTCTAGCTATC-GTCTACGATGTATATTCTCGGCACGCTCTACATGAACACTGTGATGGTGAACCCAAAGGGTTGGCGCGGGACTAACTGGTGCTCCGTTTCCGCGTCGCCGTCAATTCGAGTCGGCATGGCAGGGACCAGAGAAGTCCGCCGGCCAGCGGAGCGATACCGCTCTTCCCAGCAGGAC-GCACGGTCGGATTGA-TTGGAAAAGGAC-TCTATAATCACACT-GTCGCGGGACCCGCTA-GCGCCGGGTCTTAGGATCGCTACGCCAGTAC-TAACATAGGGCCCGGCGTTATGACCGGTCGCAGACGAGCTCT-GGGGCAGGCGGGGTCGCAGGCAGCCAAATGCACAGCCATTGGGCTAGCAGGGGAAACCAAAAAGATGCCCCTCGATCTGGCGGTGCGCTAGCCACGCCCGATTCGAGATTAC-ACGGCCAGTAGCGGGAGTACCGACCTCGTCACGGGCTAGACGGCTGGC-GAAGGGTGCCTGGTCGGTTCGGCCAGCTTACCGGGCAGACCGGCAACCCGATCGCGCTAACCGGGGCCTGACCGCGAGCACGGTTCGC-ACGACGAGCAAAGGGAACTTCGCGCCGCGTCTCGTCGCATCAGAGCAGACGGCCGA-CTGGCACGCCCGCTGCGGACAGGTTTGCGCGGGCCACGCTAAGTAGTTAGGACTCATTTCGCGTAGGGGACGGGCG-TCGGTAGACTCTAGGTGATGTCATCTCCTCAGCCACCAGCGGTCGGCATCAAGCAGAGGCCAGTGAGGGTGCCCTGCGCGCCTACGTCGGTGCAACCGCGTCATGTCACCGCGATCAGTAGG-CGTGCCGTCGGGTTACATTCTTTGTGAATTCTTC-ACC-CCAGGAGCTGCACGACCTGTGGGCTTCCTGTCAGACTCCGGTGACCGGTCCGCGCCCCCTGCCGGCTCCTCTGTCGGACG-AACGGGGGATTCGGAACCCACGTAGTTGGGGACGTGTTTCGCGCAATGCCACCAGCACCTAGGAGGTCCTTTCGAAGTTCGTTAATCGCCCCTCGGTGCTGGCCTCCATTCCCGTAGCGTTAGACGGTCTCGTGCGGTACGTCACTCAGGATACCCCTGCATGACTGGTGGTGGTATCGACTTGGCCAGGGCACGG-TAAGCCTGCGTAGGGCGTGCCGCGGCCGCAAGCATCCCATACGTGGGGCTCCCTAGCGTCCCTGCAGTGGGGCCTTGACAAGGTTGCGTGGGATAACTAAGACCTAACAGCTACTCCGCCTCGGGTTGTAGCACACGGGCAGGGGGAGGGACGGATGGC-TCCCGCCCCAGGTGCTCCCATTCGGTACGTGGAGTGGCATATCGCTGCCTCGCCGCCTCGCACATCGCGCGGCTTTTGACGCTCACCTCAGTGCCCTTA-ACTATACGAAGGGGGCAATATAGGTCCGTGGATGGACGCCGATCGCAGGCCGTCGGTAATCTATGCCCGTACGGCTCAGGCCCGGACGGAGATAC-GCCTCCCCGAGGGCCGGTCCCAGCTCTTGATAACCCCATGAAAAATTAGGCTTTCCTCACAAGTCTATCGGGGGCCCATTGCCCGTTGGTTTTCGAGGCAACATTGGTGGTCCGCGTACGGAGCATTGTTCCCGGCGGGAAGCCCGGGCTTGCGGCTCCATGATGTACGGCTTTCGGCGAAGTGGCGCAGGTCAGCAGGCTCACTGATGAGCCCGCGGGAGGTGACACAGGGTGAGAGCCCAGAGCTCTGTGAAGCTTTCCCGTTCTGCATGCCTTGCGGTGCCCGGTTCACGCCCTA-GCGAAGCTTCGACGGGATATTCGTTTTAGGGGCGCCAGGCTCTCAACGTC-ACCTACAGCACTACACTCGCATGGCTGCGCTCCAGCCAGAGTGGCTTACGACGCAACAGTATACCCGTCCGGCGGCCTCCAAGAACTCTGACGTATCGCCTCAGCGCCTACG-CAAGTTGCCCGCCGTTATGAGGCGCGGTGAGCCGTCACAGGTCCGGCCCCCAAGCAAGCGCGGACTCCGGTCTTCGACCCC-CCGGCCCGGCGGGAAAAGTCGAACGAGTCAATACGGCACCTCCGGCCCGTTCAATCCGTGTTCCCGGACTAGCGCCGAGATTCTTGTTGCATGGCGGGCGAGAGCCCCAGAGCTAGAGGGGCGCCGCCAAAGGG-A-G-CGCGCGCTCAGCTTCTGTAGCACGACCTTCGATGTACGCGCTTTCCGCGGCAAAGTGGTTCCGACCTCATTAGTACCGGCGTGACATGGGGGCACATAATCGCGGAGGGAGACCTGTCGCACCCGTGTGGTACTACCAAAGCCTTGTGCTAAAGCTTACGCGGTGGGTAAGGGAGACTGGCTACCCCCCGATGACTCCCTTGCTCCCAACAGAACTCGATCGGCTAGAAGGCGACTCCGCCATCAGCTCGTGCGGAATCGACGAAGT-CAGACGGGGGCTAGTCAACCGGCCTCTCATCGGCCAGCCACCCGTCATGCGTCGCGCAGGAGACGGACGCTGCGGCCAAGTTTCCGTTT-TCGGAACCTGCTATCCAAATACTTCCGAGCGAGTGTGCCAGACCATGTGTCACATGCACCTTCCGATAACCGGCACTTCTCATAGTGCCCTGGACATTCACCTGTAGGTTGTCGCAGAGTAGCCTACCAGGGTTAAGGCCGGACAGACATTTTCGTTCCTACACAAGACGATCTCTATCTCGGATACGAGTAGACGTGCAATCCTAGCCTACCCCA-GGCTCCCCTGACCTGACCTTAGGCGAGCCCC-ATTGGGGCAGAAGGTCCGATTTCCCGTGATGTGCGATCGGGGTCCATCGCAGTTGCA-TAGCTCACGATTACACCGATTTCTA-CGACTGTAACCGTGGCGCACGCATGTCTCTAGGGTTCAGTAAGCGGCCGTCGGGGGCGAGGGTAAGCATTCCTCAATAGACCTAAGGGGGCAGATTTCGCGAATGCAGGTTTCGAGCAGGAGACGGCAAAGAACTTACGCT-G-TTGGTACAGGGGAGCGTCAACTTCCCGCCGCCGAGCACTCTCGAGG-CCAGATGGGGCCCCGATTGTCTAGTACGGGGGACCAAGCTCACACTTGAGTTTTGTTGAT-TGTCAGGCCTGGGAGGTTGCCTAGATTCACATCGACTGTCGTAGTGGGGGTCTAGCCGTAACGAGGGCTACTCAGGCCCAAACAACAAGCACGCCCCTTACCATTACCCTACGGCCACGCTGAGGCCACACCGCCCTAAGCCATCTATACGAGCCCCG-TGACCGAGGCCCCTCGTAATGCCCCCCTGTAAACATGGCTGCGTTCGCGGGGGGTTGGGAACGTG-TTGTAGTGTGTGTATTAAAGTCCTGGCCGACAGACGT-ACC-CCCCCCGGGGCAACCATGCGACGGAACTCCTATAATTTGTACGAAGTGCTTGGGCTTCCAGGGCTCAATTACGTACGCGTG-TCGGGCTCTCGCCTTGTTAATCCGAAACCCGGGTCACCGGTTGA-CCAAACCCTGAGAATGGCGGGGGTGGATACGATC-ACGCAGCGACCGCCGTAGGACAGACTCGCGCACCCCCGGCTTGGGGAGAGGGCGCCAGGCCTTGATAAGGTGACCGGTGTGGGTTTCCGGCGGGAGCTAATCTTCTGGTGGCTCAGGTTGGTAAACTAACCGCGGCGCTAGCACAGGAAGTGACCACC-CGCCCACATGCGCGCTGAC-TGCGAAGTAA-C-AACCGGGC-CTCTACTCGGGCAAAGCGCAGTAACCGATACGAATACCTTACGGCTGGCATGGACGTCAGAGGAGCTATGGTACTGGAGCTGAGACAGGGGTG-GCACGCGCGTGGTGGATGCCGGCTGCGGCTCACCCC--GCCGTACGCGACCAATTGGTTGATAGGTCTTGT-GATGCAGTGCGGCGGCCCAAGTGTCACAGGGCCGACGCATCACTCAGATCTTTTCCTGTCTGGGCGTTCCAGC-CGCGTCGCGGAAGGGGGCCAACCGTTTACCAGCGCCTT-GCCAGTCCATTACGCGACATGTTGGCGGGCCGGGGTCGACCCGGGGTAACTCAACACGGAACATTCT-GGGCGTAGTCGCGGCCGTACCCTATTTGCCCAGGAGTAGCGGAATGTCGTTAAGGCAGTGAACCTGGGCACTGGCGTGCTCTA',\n",
       " '------------------------------------------------------------------------------------------------------------------------------------------------------------------------------------------------------------------------------------------------------------------------------------------------------------------------------------------------------------------------------------------------------------------------------------------------------------------------------------------------------------------------------------------------------------------------------------------------------------------------------------------------------------------------------------------------------------------------------------------------------------------------------------------------------------------------------------------------------------------------------------------------------------------------------------------------------------------------------------------------------------------------------------------------------------------------------------------------------------------------------------------------------------------------------------------------------------------------------------------------------------------------------------------------------------------------------------------------------------------------------------------------------------------------------------------------------------------------------------------------------------------------------------------------------------------------------------------------------------------------------------------------------------------------------------------GCGCGGGG-GTTTCCGCATACCGGTGCAAAAGCCGCTGTGAGCCAGTCTCTCCGCCGAGCCGTGCTCCAACCTCAGGCTCCTAGCTCGGCAAAAGCCGTGGGCTCCGATACATCCAATACACGCACGCCCGTTGTGGTTTGACCGGTTGCAGATGGGGTGCGGAGGC-GCCCCGTTCCCCCCGCTT-ACGGGGTAAGATACGACGGCAGATAGCAGCTACCATTTGGCGGTGATGCCTTTCGCTCTAAGCCGCCTGACGGAGATCTTAAACAGGAGTCGCGTGGCTCGCAAGGAGGCAGAGTGACTCGACCATTGGTCAGC-CCCGCGCTGCGCTCGGCCGGTAAGCAGCGAGG-CCCCATCCTTGCGCAAGGTGGATGGTATGCCATGGTTCCTCCAGG-AGAGGGCCCCTTCGTAGCGATTCCGCCTTGGCACTTGCGAACACGGGAAACCCCAAGTCACTCGCGGGAAGGATCTGTTGCGTCTGGACGGGAGGATTTACGCCGTCTACGAGCGCAATACGCCATTGTCAAGGGCACGGGAGAGGCGGTTAAGGCTTATCCCTCACGAGGACGAGACGATTGCGGACCAGTTGGTTAGAAGCAGGTATTGGCGGTGGGCCGCCGCGAGGCTTCCGCACG-TCGCAGTGACATCGATCGACCCAAGGCTCGCATCGAACCAATTCCGGGCCGGGTACGCACGAGAGGAGAGAAGCATGAAGCGCCATAGGTCCTACTCGCGGAGCGCTCGT-CAGTCATAGG-GTGGCTGGCCCCTCCCGGGGGCACGTTCTCGGATCAGCTCGGTGTTGTAAGAGCCTGCAGTTAGCG-CGATCATGTGTGCCTAAGACGGGAGATGGGCAGGCATTGATTAGGGTCGGCATTGCAATCCGAGTCGCCCACGGCCGGAACCGCCCTCCGAAAGCGAGGCTCCTAGGCACTTGCAGGCCTGCAGACTGCGGTAAGCAAATAAGGCTCGACTCTGTTGGGCCCAGGGCGTTCGGGGGTACACATTAAGCAGGAGGTCAGACTCACACATGT-CAAGATCAGGGTGCGTGCAATTATTGTTGGCGCGGCCTCTGACGGACCAAGCGTGTG-ACTATTGT-GGCTAAGTCGGGGCCGGAGATTGCTCACTCCGCGGAGATATCCGTTGTTTCGAGGTCGTTCGGTATAGCGCGACGAG-ATCCGGTGGATTAACCGCATTACGCGTTCTTTCTGCGTCCGCCGACACGGGTCAGTGCGCAACGACACCGGTAGCTTTCACATCGAATTCAGTGACCACCTATAGGCCTGCCTGGGCCGCCGGGCCCTGACGCACTCTGAGATCATCCGGGCGGTCCAGCCACGGGCTACCGCCGACGCGGTGAGTCTATCCCTGGCTTGCCAATGGTTTGACGGGAACGCTACACCTGCATCTCGTGACTCCCCCTCTTGCCGTCAGTGT-T--CCATGGGAAGGGGGGCTGGCGGTAGGTTGTAGCATAAGAATGGATCTAATGGCCCGCGCACTGGGGGTTCGAACAGTGGGACCGACGGGGGGGCCTCCGACGCGGATCCAGGGGCAGCCTTACCAGGGTATCGATTC-TGTACCCTTCTCGTTGTGCCAGCGATGCTTAAGCGACGACTTTGGCGATGACCCGGGGCTGATGGTGATCGCAGTCG-TCACTCCTCCCACAGGAAAACAGTGAAGGCGCCTGCGGGGTTCGCCACGCCCTCAC-CGCCATTACAACGGGGTTTTGTACTCTGACCCGCCGCGTCACGGTCCACCAGCCAGGCCAAAGGTCACCCCGAGCCTGGACTCACGCCCACAACCAATCCGGGGAAGCGGATCGTGTTCCTACGGTTCTGACGCCGTTCACGTGACGCCGTTGCACGATCCCTATTTTTGGGCTCCCGGCTGCCACCCGGTTTGTCCTGTCCTTCGCTCCG-AAGTCGAGCACCTATGCTGTCGAGATGGCCCGCCCTTGAGGGTTACCAAGGGGCGTTTAGTTTTTTCCTGTAGGGGTAGCCCAGGGCTTGCCTCCTCCCAAAGCTAGATTCTTGCCCCAGGCAATTGCGGTGAGACCTGAAGCGTTCGTAGC-ATCCATCCTGCTCGAGTGGACTGCCGGCCCTCTGGCAACGGGACGCGCCTCCGCCCC-GGCACGCGGAATCCTCGACCGCCCAAGGCGGAGGCAGCGT-TTCGTGCCCCGGTTCCTCCGACATGCGCGCCACATACCCGCCGCCCGTGTCTTAGTATGAGGCGGGCGGAA-CCCCTTATATGGCACCGCTTGGCAGTGCCCGATCTCACGGCGCCGGCCAGGGTCAAGTGGGCCGCGTGCGGCGGACGTTCCCCAACACCCCAGACCGTTTAGCGGTTTGAGCTACGTTATTGGGGAGTGCGACGAACCTCAGGCTGTGTATCAGATACCAACGTGCGCCCG-GATGAGATCGGAGGG-GGATAGGGTA-GGATTGTCGGAGGCTTCTGACATGAGTCATGCTTACGACCGAACCTCTGCAGACGGTCCAGCGACGCCAATGACTACACTGGCCTGCGCGTCTGACTGGAACTCGGAGGCCCCCGCAATGCCCATTCAGGCGGTA-AGCGTGTTCTGGCAGCTGTGATGGTG-CCTCAACTGAGGCTCCTCAAGCTGAGGTTATTGAGTGCC-GTAGTGCCGGTTGTCGACCGCCTTAAAC-CCTAGGCCTCCTTTCCCGAAGGGCTGCGACTCCACTCGGTACGGCATGTAGACACTGGGTATGGGGGACACCACCCGGCACTCTCGTAAGCGTTCGG-CTC-CCAGCATGGACTCATCGT-AAGCATCC-TTCAGG-TGAGGTGCACACCGGGGAGACAAGTAGCTTGGCTCGGATCACGAAGTTTTCCGTTCAAATGCGCCCGTAATGTCCGGAATTTGGG-ACGAGCAGGGTGTCAAGATCGGTTGCCCAAGTGAGCCTGACCAGCGAATGTA-GTCCAACCGTG-TTCCAAGCGCTTAATTCGACTCTCTCATCAAACCCGAGTACCGGCCGACAGGAGCGG-CAACTTTGCAACCTCTCCCGGTCGCCCCCGCCGGGTCGGTTGATCCAATTCAACCCCTTCGGCGGGCGATGGGGAACTCTGAGCATCGAAGGCGGCATTCCGCATTTTACCGTTACTGCGATCGGCCTGTGTCCAAAGCACCCACCCCTGCGGAGGCGCCTTACACAG-TAAGGTGTGAGGGGACATTGCTAATCAACGA-TGCATCTAGGTC-AGTAACCCGAAACATTGGGCGGGCGTC-GAGCGCCCTGCGACGGCGGGTGGGTCTGGTCCCCCACGTCCGTCTGCCTGCGGACCAGCAGACTTTGCGGTTGACCTGGTCGTTCGGGCTTGCCCGTGACGATGGAGG-TTCCAGCATGAACCCGTATTCCGGGCAGATACAGCTGTCGGCGTAAGGGGGTGAAGGGGCACACTTGTCC-CCCCAGCCCTGTGCACATACTCACC-GACCTTGGCCACCGAACACCACGCCCCCGCGTCATACCCCTATGTACCATCGAAGACGATGAGGGGT--TTAGACGTCCAGAGGCACCCAC-TGTCGTGGAGAGCACGTGCTGCTGTCGGGACCACGCACCCGCAGGGAGCCGTGATTTCCACAAAAGTAATGCGTAGCCCGGGCCTCTTCACAGGTGAACGTAGCTCGGCGCCCCCCGGATGTATGCTTAGGCGAAGGATCAGGTACA-GCACATTTGGAATTGTAACTAGGAGAAGGTGGCGTCGCCTCGCT-ATCAAGGTTGTGGGTGACCCAGTCTAGCTATCCGTCTACGATGTATATTCTCGGCACGCTCTACATGAACACTGTGATGGTGAACCCAAAGGGTTGGCGCGGGACTAACTGGTGCTCCGTTTCCGCGTCGCCGTCAATTCGAGTCGGCATGGCAGGGACCAGAGAAGTCCGCCGGCCAGCGGAGCGATACCGCTCTTCCCAGCAGGACAGGACGGTCGGATTGACTTGGAAAAGGACATCTATAATCACACTCGTCGCGGGACCCGCTAGGCGCCGGGTCTT-GGATCGCTACGCCAGTACCTAACATAGGGC-CGGCGTTATGACCGGTCGCAGACGAGCTCTCGGGGCAGGCGGGGTCGCAGGCAGCCAAATGCACAG-CATTGGGC-AGCAGGGGAAACCAAAAAGACGCCCCTCGATCTGGCGGTGCGCTAGCCACGCCCGATTCGAGATTACCACGGCCAGTAGCGGGAGTACCGACCTCGTCACGGGCTAGACGGCTGGCTGAA-GGTGCCTGGTCGGTTCGGCCAGCTTACCGGGCAG-CCGGCAACCCGATCGCGCTAACCGGGGCCTGACCGC-AGCACGGTTCGCTACGACGAGCAAAGGGAACTTCGCGCCGCGTCTCGTCGCATCAGAGCAGACGGCCGAGCTGGCACGCCCGCTGCGGACAGGTTTGCGCGGGCCACGCTAAGTAGTTAGGACTCATGTCGCGTAGGGGACGGGCGCTCGGTAGACTCTAGGTGATGTCATCTCCTC-GCCACCAGCGGTCGGCATCAAGCAGAGGCCAGTGAGGGTGCCCTGCGCGCCTACGTCGGTGCAACC-CGTCATGTCACCGCGA-CAGTAGGTCGTGCCGTCGGGTTACATTCTTTGTGAATTCTTCAACCCCAAGGAGCT-CACGACCTGTGGGCTTCCTGTCAGACTCCGGTGTCCGGTCCGCGCCCCCTGCCGGCTCCTCTGTCGGACGCAACGGGGGATTCGGAACCCACGTAG-TGGGGACGTGTTTCGCGCAATGCCACCAGCACCTAGGAGGTCCTTTCGA-GTTCGTTAATCGCCCCTCGGTGCTGGCCTCCATTCCCGTAGCGTTAGACGGTCTCGT-CG-TACGTCACTCAGGATACCCCTGCATGACTGGTGG-GGTA-CGACTTGGCCAGGGCACGGTTAAGCCTGCGTAGGGCGTGCCGCGGCC-CAAGCATCCC-TACGTGGGGCTCCCTAGCGTCCCTGCAGTGGGGCCTTGA-AAGGTTGCGTGGGATAACTAAGACCTAACAGCTACTCCGCCTCGGGTTGTAGCACACGGGCAGGGGGAGGGACGGATGGCTTCCCGCCCCAGGTGCTCC-ATTCGGTACGTGGAGTGGCATATCGCTGCCTCGCCGCCTCGCACATCGCGCGGCTTTTGACGCTCACCTCAGTGCCCTTAGACTATACGAAGG-GGCAATATAGGTCCGTGGATGGACGCCGATCGCAGGCCGTCGGTAATCTATGCCCGTACGGCTCAGGCCCGGACGGAGAGACGGCATCCCCGAGGGCCGGTCCCAGCTCT-GATAACCCCATGAAAAATTAGGCTTTCCTCACAAGTCTATCGG-GGCCCTTTGCCCGTTGGTTTTCGAGGCAACATTGGTGGTCCGCGTACGGAGCATTGTTCCCGGCGGGA-GCCCGGG-TTGCGGCTCCATGATGTACGGCTTTCGGCGAAGTGGCGCAGGTCAGCAGGCTCACTGATGAGCCCGCGGGAGGTGACACAGGGTGAGAGCCCAGAGCTCTGTGTAGCTTTCCCGTTCTGCATGCC-TGCGGTGCCCGGTTCACGCCCTATGCGAAGCTTCGACGGGATATTCGTTTTAGGGGCGCCAGGCTCTCAACGTCGACCTACAGCACTACACTCGCATGGCTGCGCTCCAGCCAGAGTGGCTTACGACGCAACAGTATACCCGTCCGGCGGCCTCCAAGA-CTCTGACGTATCGCCTCAGCGCCTACGTCAAGTCGCCCGCCGTTATGAGGCGCGGTGAGCCGTCACAGGTCCGGCCCCCAAGCAAGCGCGGACTCCGGTCTTCGACCCC-CCGGCC-GGCGGGAAAAGTCGAACGAGTCAATACGGCACCTCCGGCCCGTTCAATCCGTGTTCCCGGACTAGCGCCGAGATTCTTGTTGCATGGCGGGCGAGAGCCCCAGAGCTAGAGGGGCGCCGCCAAAGGGAAGGGCGCGCGCTCAGCTTCTGTAGCACGACCTTCGATGTACGCGCTTTCCGCGGCAAAGTGGTTCCGACCTCATTAGTAC-GGCGTGACATGGGGGCACATAATCGCGGAGGGAGACCTGTCGCACCCGTGTGGTACTACCAAAGCCTTGTGCTAAAGCTTACGCGGTGGGTAAGGGAGACTGGCTACCCCCCGATGACTCCCTTGCTCCCAACAGAACTCG-TCGGCTA-AAGGCGATTCCGCCATCAGCTCGTGCGGAATCGACGAAGTTCAGACGGGGGCTAGTCAACCGGCCTCTCATCGGCCAGCCACCCGTCATGCGTCGCGCAGGAGACGGAC-CTGCGGC-AAGTTT-CGTTTATCGGAACCTGCTATCCAAATACTTCCG-GCGAGTGTGCCAGACCATGTGTCACATGCACCTTCCGATAACCGGCACTTCTCATAGTGCCCTGGACATTCACCTGTAGGTTGTCGCAGAGTAGCCTACCAGGGTTAAGGCCGGACAGACATTTTCGTTC-TACACAAGACGATCTCTATCTCGGA-ACGAGTAGACGTGCAATCCTAGCCTACCCCATGGCTCCCCTGACCTGACCTTAGGCGAGCCCCCATTGGAGCAGAAGGTCCGATTTCCCGTGATGTGCGATCGGGGT-CATCGCAGTTGCACTAGCTCACGATTACACTGATTTCTAACGACTGTAACCGTGG-GCACGCATGTCTCTAGGGTTCAGTAAGCGGCCGTCGGGGGCGAGGGTAAGCATTCC-CA-TAGACCTAAGGGGGCAGATTTCGCGAATGCAGG-TTCGAGCAGGAGACGGCAAAGAACTTACGCTTGGTTGGTACAGGGGAGC-TCAACTTCCCGCCGCCGAGCACTCTCG-GGTCCAGATGGGGCCCCGATTGTCT-GTACGGGGGACCAAGCTCAC-CTTGAGTTTTGTTGATATGTCAGGCCTGGGAGGTTGCCTAGATTCACATCGACTGTCGTAGTGGGGGTCTAGCCGTAACGAGGGCTAC-CAGGCCCAAACAACAAGCACGCCCCTTACCATTACCCTACGGCCACGCTGAGGCCACACCGCCCTAAGCCATCTATACGAGCCCCGCTGGCCGAGGCCCCTCGTAATGCCCCCCTGTAAACATGGCTGCGTTCGCGGGGGGTTGGGAACGTGTTTGTAGTGTGTGTATTAAAGTCCTGGCCGACAGACGTCACCGCCCCCTGGG',\n",
       " 'CTCGTCATGGTACACATCCTGCTACGAGCCATAGACTGTTGAAAGCCCGAGGAAGCGTGCCAGGCCCGATGCGCAGGGAGCGACTTAGCTAGGCAGAGTGAGACGTGTCGCTTGAGCGTCCGCAGTACA-GGAAGTGGCACGACGTCCTGAGGCCCTGAACGTGGCGTAGGCCACTTTGACCCGGTACTCTAGCAAGAGCAACGGGACCTTCGACGGTCGTCCAGGGTTGCGACGTAAGACGGCGCCCCAAGCCAGTCATCAGCCCGCGCTGTCTATACACCGACCAGGCCTCTCCGGGGAAATGCACACAGCGCTATTGTGCTTTAGAACAACATCAGAGGTCCCTAACCGAGCCTACCTCGCTGCTCCCACCGCCACCACTTCATTCATGCGGCGGAACGGCGTACGCACATACCGCCAGGGAGAGTCACCTTATAGTTCACC-GCGCAAGGCGCAGTGCCGCGTGATTCGCGTTGCGCCGGCCAGCCTCGGCAGTGACTAATCCGGTTGGCCGCGAGCCCGAGCGTAGCGCACGGCGATGTACGTTCCCGCGAGTACTCTCCGTGAGGACGCGCTCATCTCGCTGGGGCCGCCTAGTCC-TAACC-CGCGCAATGTAGCATCCGTACGATGTGTTTCTGACCACCCTCGCGGGGGCTCCCGTCCTTTCCCGATCAG-GCGTCAC-ATTCGCTTAGACATGAGCCCGGCGCCCGCTTCTCCCCATCGGACCTAGCCCCTCTCGGAACCCGCCATGAGCGAAAGGCCGCTGG-CGGACCACAGCGGCAGAAGCTACGAGGCGCCGGAGCCACACCGTCCCAGCCCGGTCGCGACGGGATGCAGCACCCATTATCTTTCACGCAGTGGTTAGGATACCCACTATGTACTAAAAGTCCGCCGGGGCCGGTAAGGGGTAGGTGCGCGAAAGGCACAATCCTGTTGCGGGGACCTCCAGATAGTGCTTGCTGGAATGTGGTGTAGCTTGTGAACAGGGAACGCCCCTGGGACCCTATCCGGACGTGCGACCTCCCGGGGTGACTTACTCCGATCTCAGAAGCCGCCCGGCACGCGCGCTTGGTCAGACCGCACTACTGGCGCCGTTGGGGGGCCTAAGCAGAGGCAGCGTGAAGCTCCTCATGGCATTCGACGGGCTGTGAGCGGAGAGTGCCTGCCGCGATGCTAGAGCTCTCGCGGAGGTAAAGGCCGCACACGGTAGGTGGGCCGGCGTTCACACATCCGATGTGAGGGGGGCTGCATACGTACCCCGACGCATAGACGCAAACAATGTGCCCATTAACAGTCCAATAGTCGCACCCCCGGGGTGCCATGTGGCTGAGACTGAGCAGGGTCCTCCTAGCACCCTCCCGGAGGATTCCACGGTGCGCCAGATAGCGTTCCCGGCAGGACTGGGCCGGTCGCCAGGAGCGGTCACTTGCGGAGTCGTTCGAGTGCGATGTCCG-GATACCTATGTTGAAAGTCCCTCGAATACCCATAAGCTAGGTGGGTGATCTAGCCGGCCAAGCGCTTGAGTTACGTTGCGCAAGCAATACAAGGCGCTGGGGCTCATGTACTGCTTTCTTCGCCTGAGCAGACCACTGATCGTTGCCAGCTGGCCGGGTAGAACGCGCGGGGGGTTTCCGCATACCGGTGCAAAAGCCGCTGTGAGCCAGTCTCTCCGCCGAGCCGTGCTCCAACCTCAGGCTCCTAGCTCGGCAAAAGCCGTGGGCTCCGATACATCCAATACACGCACGCCCGTTGTGGTTTGACCGGTTGCAGATGGGGTGCGGAGGCGGCCCCGTTCCCCCCGCTTCACGGGGTAAGA-ACGACGGCAGATAGCAGCTACCATT-GGCGGTGATGCCTTTCGCTCTAAGCCGCCTGACGGAGATCTTAAACAGGAGTCGCGTGGCTCGCAAGGAGGCAGAGTGACTCGACCATTGGTCAGCCCCCGCGCTGCGCTCGGCCGGTAAGCAGCGAGGTCCCCATCCTTGCGCAAGGTGGATGGTATGCCATGGTTCCTCCAGGCAGAGGGCCCCTTCGTAGCGATTCCGCCTTGGCACTTGCGAACACGGGAAACCCCAAGTCACTCGCGGGAAGGATCTGTTGCGTCTGGACGGGAGGATTTACGCCGTCTACGAGCGCAATTCGCCATTGTCAAGGGCACGGGAGAGGCGGTTAAGGCTTATCCCTCACGAGGACGAGACGATTGCGGACCAGTTGGTTAGAAGCAGGTATTGGCGGTGGGCCGCCGCGAGGCTT-CGCACGGTCGCAGTGACATCGATCGACCCAAGGCTCGCATCGAACCAATTCCGGGCCGGGTACGCACGAGAGGAGAGAAGCATGAAGCGCCATAGGTCCTACTCGCGGAGCGCTC-TGCAGTCATAGGGGTGGCTGGCCCCTCCCGGGGGCACGTTCTCGGATCAGCTCGGTGTTGTAAGAGCCTGCAGTTAGCGCCGATCATGTGTGCCTAAGACGGGAGATGGGCAGGCATTG-TTAGGGTCGGCATTGCAATCCGAGTCGCCCACGGCCGGAACCGCCCTCCGAAAG-GAGGCTCCTAGGCACTTGCAGGCCTGCA-ACTGCGGTAAGCAAATAAGGCTCGACTCTGTTGGGCCCAGGGCGTTCGGGGGTACACATTAAGCAGGAGGTCAGACTCACACATGTCCAAGATCAGGGTGCGTGCAATTATTGTTGGCGCGGCCTCTGACGGACCAAGCGTGTGAACTATTGTGGGCTAAGT-GGGGCCGGAGATTGCTCACTCCGC-GAGATATCCGTTGTTTCGAGGTCGTTCGGTATAGCGCGACGAGCATCCGGTGGATTAACCGCATTACGCGTTCTTTCTGCGTCCGCCGACACGGGTCAGTGCGCAACGACACCGGTAGCTTTCACATCGAATTCAGTGACCACC-ATAGGCC-GCCTGGGCCGCCGGGCCCTGACGCACTCTGAGATCATCC-GGCGGTC-AGCCACGGGCTACCGCCGACGCGGTGAGTCTATCCCTGGCTTGCC-A-GGTTTGAAGGGAACGCTACACCTGCATCTCGTGACTCC-CCTCTTGCCGTCAGTGTCTAACCATGGGAAGGGGGGCTGGCGGTGGGTTGTAGCATAAGAATGGATCTAATGG-CCGCGCACTGGGGGTTCGAACAGTGGGACCGACGGGGGGGCCTCCGACGCGGATCCAGGGGCAGCCTTACCAGGGTATCGATTCCTGTACCCTTCTCG-TGTGCCAGCGATGCTTAAGCGACGACTTTGGCGATGACCCGGGGCTGATGGTGATCGCAGTCGGTCACTCCTCCCACAGGAAAACAGTGAAGGCGCCTGCGGGGTTCGCCACGCCCTCACCCGCCA-TACAACGGGGTTTTGTACTCTGACCCGCCGCGTCACGGTCCACCAGCCAGGCCAAAGGTCACCCCGAGCC-GG-CTCACGCCCACAACCAATCCGGGGAAGCGGATCGTGTTCCTACGGTTCTGACGCCGCTCACGTGACGCCGTTGCACGATCCCTATTTTTGGGCTCCCGGCTGCCACCCGGTTTGTCCTGTCCTTCGCTCCCTAAGTCGAGCACCTATGCTGTCGAGATGGCCCGCCCTTGAGGGTTACCAAGGGGCGTTTAGTTTTTTCCTGTAGGGGTA-CCCAGGGCTTGCCTCCTCCCAAAGCTAGATTCTTGCCCCAGGCAATTGCGGTGAGACCTGAAGCGTTCGTAGCCATCCATCC-GCTCGAGTGGACTGCCGGCCCTCTGGCAACGGGACGCGCCTCCGCCCCTGGCACGCGGAATCCTCGACCGCCCAAGGCGGAGGCAGCGTGTTCGTGCCCCGGTTCCTCCGACATGCGCGCCACATACCCGCCGCCCGTGTCTTAGTATGAGGCGGGCGGAACCC-CTTATATGGCACCGCTTAGCAGTGCCCGATCTCACGGCGCCGGCCAGGGTCAAGTGGGCCGCGTGCGGCGGACGTTCCCCAACACCCCAGACCGTTTAGCGGTTTGAGCTACGTTATTGGGGAGTGCGACGAACC-CAGGCTGTGTATCAGATACCAACGTGCGCCC-GGATGAGATCGGAGGGGGGATAGGGTATGGATTGTCGGAGGCTTCTGACATGAGTCATGCTTACGACCGAACCTCTGCAGACGGTCCAGCGACGCCAATGACTACACTGGCCTGCGCGTCTGACTGGAACTCGGAGGCCCCCGCAATGCGCATTCAGGCGGTATAGCGTGTTCTGGCAGCTGTGATGGTGACCTCAACTGAGGCTCCTC-AGCAGAGGTTATTGAGTGCCTGTAGTGCCGGTTGTCGACCGCCTTAAACTCCTAGGCCTCCTTTCCCGAAGG-CTGCGACTCCACTCGGTACGGCATGTAGACACTGGGTATGGGGGACACCACCC-GCACTCTCGTAAGCGTTCGGCCTCGCCAGCATGGACTCATCGTGAAGCATCCGTTCAGGCTGAGGTGCACACCGGGGAGACAAGTAGCTTGGCTCGGATCACGAAGTTTTCCGTTCAAATGCGCCCGTAATTTCCGGAATTTGGGCACGAGCAGGGTGTCAAGATCGGTTGCCCAAGTGAGCCTGACCAGCGAATGTACGTCCAACCGTGGTTCCAAGCGCTTAATTCGACTCTCTCATCAAACCCGAGTACCGGCCGACAGGAGCGGTCAACTTTGCAACCTCTCCCGGTCG-CCCCGCCGGGTCGGTTGATCCAATTCAACCCCTTCGGCGGGCGATGGGGAACTCTGAGCATCGAAGGCGGCATTCCGCATTTTACCGTTAC-GCGATCGGCCTGTGTCCAAAGCACCCACCCCTGCGGAGGCGCCTTACACAGATAAGGTGTGAGGGGACATTGCTAATCAACGACTGCATCTAGGTCGAGTAACCCGAAACATTGGGCGGGCGTC-GAGCGCCCTGCGACGGCGGGTGGGTCTGGTCCCCCACGTCCGTCTGCCTGCGGACCAGCAGACTTTGCGGTTGACCTGGTCGTTCGGGCTTGCCCGTGACGATGGAGGGTTCCAGCATGAACGCGTATTCCGGGCAGATACAGCTGCCGGCGTAAGGGGGTGAAGGGGCACTCTTGTCCACCCCAGCCCTGTGCACATACTCACCGGACCTTGGCCACCGAACACCACGCCCCCGCGTCATACCCCTATGTACCATCGAAGACGATGAGGGGTACTTAGACGTCCAGAGGCACCCACCTGTCG-GGAGAGCACGTGCTGCTGTCGGGACCACGCACCCGCAGGGAGCCGTGATTTCC-CAAAAGTAATGCGTAGCCCGGGCCTCTTCACAGGTGAACGTAGCTCGGCGCCCCCCGGATGTATGCTTAGGCGAAGGATCAGGTACAAGCACATTTGGAATTGTAACTAGGAGAAGGTGGCGTCGCCTCGCTCATCAAGGTTGTGGGTGACCCAGTCTAGCTATCCGTCTACGATGTATATTCTCG-CACGCTCTACATGAACACTGTGATGGTGAACCCAAAGGGTTGGCGCGGGACTAACTGGTGCTCCGTTTCCGCGTCGCCGTCAATTCGAGTCGGCATGGCAGGGACCAGAGAAGTCCGCCGGCCAGCGGAGCGATACCGCTCTTT-C-GCAGGACAGCACGGTCGGATTGACTTGGAAAAGGAC-TCTATAATCACACTCGTCGCGGGACCCGCT-GGCGCCGGGTCTTAGGATCGCTACGCCAGTACCTAACATAGGGCCCGGCGTTATGACCGGTCGCAGACGAGCTCTCGGGGCAGGCGGGGTCGCAGGCAGCCAAATGCACAGCCATTGGGCTAGCAGGGGAAACCAAAAAGACGCCCCTCGATCTGGCGGTGCGCTAGCCACGCCCGATTCGAGATTACCACGGCCAGTAGCGGGAGTACCGACCTCGTCACGGGCTAGACGGCTGGCTGAAGGGTGCCTGGTCGGTTCGGCCAGCTTACCGGGCAGACCGGCAACCCGATCGCGCTAACCGGGGCCTGACCGCGAGCACG-TTCGCTACGACGAGCAAAGGGAACTTCGCGCCGCGTCTCGTCGCATCAGAGCAGACGGCCGAGCTGGCACGCCCGCTGCGGACAGGTTTGCGCGGGCCACGCTAAGTAGTTAGGACTCACTTC-CGTAGGGGACGGGCGCTCGGTAGACTCTAGGTGATGTCATCTCCTCAGCCACCAGCGGTCGGCATCAAGCAGAGGCCAGTGAGGGTGCCCTGCGCGCCTACGTCG-TGCAACCGCGTCATGTCACCGCGATCAGTAGGTCGT-CCGTCGGGTTACATTCTTTGTGAATTCTTCAACCCCCAGGAGCTGCACGACCTGTGGGCTTCCTGTCAGACTCCGGTGACCGGTCCGCGCCCCCTGCCGGCTCCTCTGTCGGACGCAACGGGGGATTCGGAACCCACGTAGTTGGGGACGTGTTTCGCGCAATGCCACCAGCACCTAGGAGGTCCT-TCGAAGTTCGTTAAT-GCCC-TCGGTGCTGGCCTCCATTCCCGTAGCGTTAGACGGTCTCGTGCGGTACGTCACTCAGGATACCCCTGCATGACTGGTGGTGGTATCGACTTGGCCAGGGCACGGTTAAGCCTGCGTAGGGCGTGCCGCGGCCGCAAGCATC-CATACGTGGGGCTCCCTAGCGTCCCTGCAGTGGGGCCTTGACAAGGTTGCGTGGGATAACTAAGACCTAACAGCTACTCCGCCTCGGGTTGTAGCACACGGGCAGGGGGAGGGACGGATGGCTTCCCGCCCCAGGTGCTCCCATTCGGTACGTGGAGTGGCATATCGCT-CCTCGCCGCCTCGCACATCGCGCGGCTTTTGACGCTCACCTCAGTGCCCTTAGACTA-ACGAAGGGGGCAATATAGGTCCGTGGATGGACGCCGATCGCAGGCCGTCGGTAATCTATGCCCGTACGGCTCAGGCCCGGACGGAGATACGGCATCCCCGAGGGCCGGT-CCAGCTCTTGATAACCCCATGAAAAATTAGGCTTTCCTCACAAGTCTATCGGGGGCCCATTGCCCGTTGGTTTTCGAGGCAACATTGGTGGTCCGCGTACGGAGCATTGTTC-CGGCGGGAAGCCCGGGCTTGCGGCTCCATGATGTACGGCTTTCGGCGAAGTGGCGCAGGTCAGCAGGCTCACTGATGAGCCCGCGGGAGGTGACACAGGGTGAGAGC-CAGAGCTCTGTGAAGCTTTCCCGTTCTGCATGCCTTGCGGTGCCCGGTTCACGCCCTATGCGAAGCTTCG-CGGGATATTCGTTTTAGGGGCGCCAGGCTCTCAACGTCGACCTACAGCACTACACTCGCATGGCTGCGCTCCAGCCAGAGTGGCTTACGACGCAACAGTATACCCGTCCGGCGGCCTCCAAGAACTCTGACGTATCGCCTCAGCGCCTACGTCAAGTCGCCCGCCGTTATGAGGCGCGGTGAGCCGTCACAGGTC-GGCCCCCAAGCAAGCGCGGACTCCGGTCTTCGACCCCACCGGCCCGGCGGGAAAAGTCGAACGAGTCAATACGGCACCTCCGGCCCGTTCAATCCGTGTTCCCGGACTAGCGCCGAGATTCTTGTTGCATGGCGGGCGAGAGCCCCAGAGCTAGAGGGGCG-CGCCAAAGGGAAGGGCGCGCGCTCAGCTTCTGTAGCACGACCTTCGATGTACGCGCTTTCCGCGGCAAAGTGGTTCCGACCTCATTAGTACCGGCGTGACATGGGGGCACATAATCGCGGAGGGAGACCTGTCGCACCCGTGTGGTACTACCAAAGCCTTGTGCT-AAGCTTACGCGGTGGGTAAGGGAGACTGGCTACCCCCCGATGACTCCCTTGCTCCCAACAGAACTCGATCGGCTAGAAGGCGACTCC-CCATCAGCTCGTGCGGAATCGACGAAGTTCAGACGGGGGCTAGTCAACCGGCCTCTCATCGGCCAGCCACCCGTCATGCGTCGCG-AGGAG-CGGACGCTGCGGCCAAGTTTCCGTTTATCGGAACCTGCTATCCAAATACTTCCGAGCGAGTGTGCCAGACCATGTGTCACATGCACCTTCCGATAACCGGCACTTCTCATAGTGCC-TGGACATTCACCTGTAGGTTGTCGCAGAGTAGCCTACCAGGGTTAAGGCCGGACAGACATTTTCGTTCCTACACAAGACGATC-CTATCTCGGATACGAGTAGACGTGCAATCCTAGCCTA-CCCATGGCTCCCCTGACCTGACCTTAGGCGAGCCCCCATTGGAGCAGAAGGTCCGATTT-CCGTGATGTGCGATCGGGGTCCATCGCAGTTGCACTAGCTCACGATTACACCGAGTTCTAACGACTGTA-CCGTGGCGCACGCATGTCTCTAGGGT-CAGTAAGCGGCCGTCGGGGGCGAGGGTAAGCATTCCTCAATAGACCTAAGGGGGCAGATTTCGCGAATGCAGGTTTCGAGCAGGAGACGGCAAAGAACTTACG-TTGGTTGG-ACAGGGGAGCGTCAACTTCCCGCCGCCGAGCACT-TCGAGGTCCAGATGGGGC-CCGATTGTCTAGTA-GGGGGACCAAGCTCACACTTGAGTTTT-TTGATATGTCAGGCCTGGGAGGTTGCCTAGATTCACATCGACTGTCGTAGTGGGGGTCTAGCCGTAACGAGGGCTACTCAGGCCCAAACAACAAGCACGCCCCTTACCATTACCCTACGGCCACGCT-AGGCCACACCGCCCTAAGCCA-CTATACGAGCCCCGCTGGCCGA-G-CCCTCGTAATGCCCCCCTGTAAACATGGCTGCGTTCGCGGGGGGTTGGGAACGTGTTTGTAGTGTGTGTATTAAAGTCCTGGCCGACAGACGTCACCGCCCCCCGGGGCAACCATGCGACGGAACTCCTATAATTTGTACGAAGTGCTTGGGCTTCCAGGGCTCAATTACGTACGCGTGATCGGGCTCTCGCCTTGTTAATCCGAAACCCGGGTCACCGGTTGAACCAAACCCTGAGAATGGCGGGGGTGGATACGATCCACGCAGCGACCGCCGTAGGACAGACTCGCGCACCCCCGGCTTGGGGAGAGGGCGCCAGGCCTTGATAAGGTGACCGGTGTGGGTTTCCGGCGGGAGCTAATCTTCTGGTGGCTCAGGTTGGTAAACTAACCGCGGCGCTAGCACAGGAAGTGACCACCCCGCCCACATGCGCGCTGACATGCGAAGTAATCCAACCGGGCGCTCTACTCGGGCAAAGCGCAGTAACCGATACGAATACCTTACGGCTGGCATGGACGTCAGAGGAGCTATGGTACTGGAGCTGAGACAGGGGTGCGGACGCGCGTGGTGGATGCCGGCTGCGGCTCACCCCTGGCCGTACGCGACCAATTGGT-GATAGGTCTTGTTGATGCAGTGCGGCGGCCCAAGTGTCACAGGGCCGACGCATCACTCAGATCTT-TCCTGTCTGGGCGTTCCAGCCCGCGTCGCGGAAGGGGGCCAACCGTTTACCAGCGCCTTAGCCAGTCCATTACGCGACATGTTGGCGGGCCGGGGT-GACCCGGGGTAACTCAACACGGAACATTCTAGGGCGTAGTCGCGGCCGTACCCTATTTGCCCAGGAGTAGCGGAATGTCGTTAAGGCAGTGAACCTGGGCACTGGCGTGCTCTAAGCAGAGCCTGTGATGAGGAGATCCCGAACGGCGTG--CTCTTTTTGATTTGCCG-CG',\n",
       " '----------------------------------------------------------------------------------------------------------------------------------------------------------------------------------------------------------------------------------------------------------------------------------------------------------------------------------------------------------------------------------------------------------------------------------------------------------------------------------------------------------------------------------------------------------------------------------------------------------------------------------------------------------------------------CGGGGGCTCCCGTCCTTTCCCGATCAGTGCGTCACTATTCGCTTAGACATGAGCCCGGCGCCCGCTTCTCCCCATCGGACCTAGCCCCTCTCGGAACCCGCCATGAGCGAAAGGCCGCTGGGCGGACCACAGCGGCAGAAGCTACGAGGCGCCGGAGCCACACCGTCCCAGCCCGGTCGCGACGGGATGCAGCACCCATTATCTTTCACGCAGTGGTTAGGATACCCACTATGTACTAAAAGTCCGCCGGGGCCGGTAAGGGGTAGGTGCGCGAAAGGCACAATCCTGTTGCGGGGACCTCCAGATAGTGCTTGCTGGAATGTGGTGTAGCTTGTGAACAGGGAACGCCCCTGGGACCCTATCCGGACGTGCGACCTCCCGGGGTGACTTACTCCGATCTCAGAAGCCGCCCGGCACGCGCGCTTGGTCAGACCGCACTACTGGCGCCGTTGGGGGGCCTAAGCAGAGGCAGCGTGAAGCTCCTCATGGCATTCGACGGGCTGTGAGCGGAGAGTGCCTGCCGCGATGCTAGAGCTCTCGCGGAGGTAAAGGCCGCACACGGTAGGTGGGCCGGCGTTCACACATCCGATGTGAGGGGGGCTGCATACGTACCCCGACGCATAGACGCAAACAATGTGCCCATTAACAGTCCAATAGTCGCACCCCCGGGGTGCCATGTGGCTGAGACTGAGCAGGGTCCTCCTAGCACCCTCCCGGAGGATTCCACGGTGCGCCAGATAGCGTTCCCGGCAGGACTGGGCCGGTCGCCAGGAGCGGTCACTTGCGGAGTCGTTCGAGTGCGATGTCCGAGATACCTATGTTGAAAGTCCCTCGAATACCCATAAGCTAGGTGGGTGATCTAGCCGGCCAAGCGCTTGAGTTACGTTGCGCAAGCAATACAAGGCGCTGGGGCTCATGTACTGCTTTCTTCGCCTGAGCAGACCACTGATCGTTGCCAGCTGGCCGGGTAGAACGCGCGGGGGGTTTCCGCATACCGGTGCAAAAGCCGCTGTGAGCCAGTCTCTCCGCCGAGCCGTGCTCCAACCTCAGGCTCCTAGCTCGGCAAAAGCCGTGGGCTCCGATACATCCAATACACGCACGCCCGTTGTGGTTTGACCGGTTGCAGATGGGGTGCGGAGGCGGCCCCGTTCCCCCCGCTTCACGGGGTAAGATACGACGGCAGATAGCA-CTACCATTTGGCGGTGATGCCTTTCGCTCTAAGCCGCCTGACGGAGATCTTAAACAGGAGTCGCGTGGCTCGCAAGGAGGCAGAGTGACTCGACCATTGGTCAGCCCCCGCGCTGCGCTCGGCCGGTAAGCAGCGAGGTCCCCATCCTTGCGCAAGGTGGATGGTATGCCATGGTTCCTCCAGGCAGAGGGCCCCTTCG-AGCGATTCCGCCTTGGCACTTGCGAA-ACGGGAAACCCCAAGTCACTCGCGGGAAGGATCTGTTGCGTCT-GACGGGAGGATTTACGCCGTCTACGAGCGCAATACGCCATTGTCAAGGGCACGGGAGAGGCGGTTAAGGCTTATCCCTCACGAGGACGAGACGATTGCGGACCAGTTGGTTAGAAGCAGGTATTGGCGGT-GGCCGCCGCGAGGCTTCCGCACGGTCGCAGTGACATCGATCGACCCAAGGCTCGCATCGAACCAATTCCGGGCCGGGTACGCACGAGAGGAGAGAAGCATGAAGCGCCATAGGTCCTAC-CGCGGAGCGCTCGTGCAGTCATAGGGGTGGCTGGCCCCTCCCGGGGGCACGTTCTCGGATCAGCTCGGTGTTGTAAGAGCCTGCAGTTAGCGCCGATCATGTGTGCCTAAGACGGGAGATGGGCAGGCATTGATTAGGGTCGGCATTGCAATCCGAGTCGCCCACGGCCGGAACCGCCCTCCGAAAGCGAGGCTCCTAGGCACTTGCAGGCCTGCAGACTGCGGTAAGCAAATAAGGCTCGACTCTGTTGGGCCCAGGGCGTTCGGGGGTACACATTAAGCAGGAGGTCAGACTCACACATGTCCAAGATCAGGGTGCGTGCAATTATTGTTGGCGCGGCCTCTGACGGACCAAGCGTGTGAACTATTGTGGGCTAAGTCGGGGCCGGAGATTGCTCACTCCGCGGAGATATCCGTTGTTTCGAGGTCGTTCGGTATAGCGCGACGAGCATCCGGTGGATTAACCGCATTACGCGTTCTTTCTGCGTCCGCCGACACGGGTCAGTGCGCAACGACACCGGTAGCTTTCACATCGAATTCAGTGACCACCTATAGGCCTGCCTGGGCCGCCGGGCCCTGACGCACTCTGAGATCATCCGGGCGGTCCAGCCACGGGCTACCGCCGACGCGGTGAGTCTATCCCTGGCTTGCCAATGGTTTGACGGGAACGCTACACC-GCATCTCGTGACTCCCCCTCTTGCCGTCAGTGTCTAACCATGGGAAGGGGGGCTGGCGGTGGGTTGTAGCATAAGAATGGATCTAATGGCCCGCGCACTGGGGGTTCGAACAGTGGGACCGACGGGGGGGCCTCCGACGCGGATCCAGGGGCAG-CTTACCAGGGTTTCGATTCCTGTACCCTTCTCGTTGTGCCAGCGATGCTTAAGCGACGACTTTGGCGATG-CCCGGGGCTGATGGTGATCGCAGTCGGTCACTCCTCCCACAGGAAAACAGTGAAGGCGCCTGCGGGGTTCGCCACGCCCTCACCCGCCATTACAACGGGGTTTTGTACTCTGACCCGCCGCGTCACGGTCCACCAGCCAGGCCAAAGGTCACCCCGAGCCTGGACTCACGCCCACAACCAA-CCGGGGAAGCGGATCGTGTTCCTACGGTTCTGACGCCGCTCACGTGACGCCGTTGCACGATCCCTATTTTTGGGCTCCCGGCTGCCACCCGGTTTGTCCTGTCCTTCGCTCCGTAAGTCGAGCACCTATGCTGTCGAGATGGCCCGCCCTTGAGGGTTACCAAGGGGCGTTTAGTTTTTTCCTGTAGGGGTAGCCCAGGGCTTGCCTCCTCCCAAAGCTAGATTCTTGCCCCAGGCAATTGCGGTGAGACCTGAAGCGTTCGTAGCCATCCATCCTGCTCGAGTGGACTGCCGGCCCTCTGGCAACGGGACGCGCCTCC-CCCCTGGCACGCGGAATCCTCGACCGCC-AAGGCGGAGGCAGCGTGTTCGTGCCCCGGTTCCTCCGACATGCGCGCCACATACCCGCCGCCCGTGTCTTAGTATGAGGCGGGCGGAACCCCCTTATATGGCACCGCTTGGCAGTGCCCGATCTCA-GGCGCCGGCCAGGGTCAAGTGGGCCGCGTGCGGCGGACGTTCCCCAACACCCCAGACCGTTTAGCGGTTTGAGCTACGTTATTGGGGAGTGCGACGAACCTCAGGCTGTGTATCAGATACCAACGTGCGCCCGGGATGAGATCGGAAGGGGGATAGGGTATGGATTGTCGGAGGCTTCTGACATGAGTCATGCTTACGACCGAACCTCTGCAGACGGTCCAGCGACGCCAATGACTACACTGGCCTGCGCGTCTGACTGG-ACTCGGAGGCCCCCGCAATGCCCATTCAGGCGGTATAGCGTGTTCTGGCAGCTGTGAAGGTGACC-CAACTGAGGCTCCTCAAGCAGAGGTTATTGAGTGCCTGTAGTGCCGGTTGTCGACCGCCTTAAACTCCTAGGCCTCCTTTCCCGAAGGGCTGCGACTCCACTCGGTACGGCATGTAGACACTGGGTATGGGGGACACCACCCGGCACTCTCGTAAGCGTTCGGCCTCGCCAGCATGGACTCATCGTGAAGCATCCGTTCAGGCTGAGGTGCACACCGGGGAGACAAGTAGCTTGGCTCGGATCACGAAGTTTTCCGTTCAAATGCGCCCGTAATGTCCGGAATTTGGGCACGAGCAGGGTGTCAAGATCGGTTGCCCAAGTGAGCCTGACCAGCGAATGTACG-CCAACCGTGGTT-CAAGCGCTTAATTCGACTCTCTCATCAAACCCGAGTACCGGCCGACAGGAGCGGTCAACTTTGCAACCTCTCCCGGTCGCCCCCGCCGGGTCGGTTGATCCAATTCAACCCCTTCGGCGGGCGATGGGGAACTCTGAGCATCGAAGGCGGCATTCCGCATTTTACCGTTACTGCGATCGGCCTGTGTCCAAAGCACCCACCCCTGCGGAGGCGCCTTACACAGATAAGGTGTGAGGGGACATTGCTAATCAACGACTGCATCTAGGTCGAGTAACCCGAAACATTGGGCGGGCGTCCGAGCGCCCTGCGACGGCGGGTGGGTCTGGTCCCCCACGTCCGTCTGCCTGCGGACCAGCAGACTTTGCGGTTGACCTGGTCGTTCGGGCTTGCCCGTGACGATGGAGGGTTCCAGCATGAACGCGTATTCCGGGCAGATACAGCTGCCGGCGTAAGGGGGTGAAGGGGCACACTTGTCCACCCCAGCCCTGTGCACATACTCACCGGACCTTGGCCACCGAACACCACGCCCCCGCGTCATACCCCTATGTACCATCGAAGACGATGAGGGGTACTTAGACGTCCAGAGGCACCCACCTGTCGTGGAGAGCACGTGCTGCTGTCGGGACCACGCACCCGCAGGGAGCCGTGATTTCCAC-AA-GTAATGCGTAGCCCGGGCCTCTTCACAGGTGAACGTAGCTCGGCGCCCCCCGGATGTA-GCTTAGGCGAAGGATCAGGTACAAGCACATTTGGAATTGTAACTAGGAGAAGGTGGCGTCGCCTCGCTCATCAAGGTTGTGGGTGACCCAGTCTAGCTATCCGTCTACGATGTATATTCTCGGCACGCTCTACATGAACACTGTGATGGTGAACCCAAAGGGTTGGCGCGGGACTAACTGGTGCTCCGTTTCCGCGTCGCCGTC-ATTCGAGTCGGCATGGCAGGGACCAGAGAAGTCCGCCGGCCAGCGGAGCGATACCGCTCTTCCCAGCAGGACAGCACGGTCGGATTGACTTGGAAAAGGACATCTATAATCACACTCGTCGCGGGACCCGCTAGGCGCCGGGTCTTAGGATCGCTACGCCAGTACCTAACATAGGGCCCGGCGTTATGACCGGTCGCAGACGAGCTCTCGGGGCAGGCGGGGTCGCAGGCAGCCAAATGCACAGCCATTGGGCTAGCAGGGGAAACCAAAAAGACGCCCCTCGATCTGGCGGTGCGCTAGCCACGCCCGATTCGAGATTACCACGGCCAGTAGCGGGAGTACCGACCTCGTCACGGGCTAGACGGCTGGCTGAAGGGTGCCTGGTCGGTTCGGCCAGCTTACCGGGCAGACCGGCAACC-GATCGCGCTAACCGGGGCCTGACCGCGAGCACGGTTCGCTACGACGAGCAAAGGGAACTTCGCGCCGCGTCTCGTCGCATCAGAGCAGACGGCCGAGCTGGCACGCCCGCTGCGGACAGGTTTGCGCGGGCCACGCTAAGTAGTTAGGACTCATTTCGCGTAGGGGACGGGCG-TCGGTAGACTCTAGGTGATGTCATCTCCTCAGCCACCAGCGGTCGGCATCAAGCAGAGGCCAGTGA-GGTGCCCTGCGCGCCTACGTCGGTGCAACCGCGTCATGTCACCGCGATCAGTAGGTCGTGCCGTCGGGTTACATTCTTTGTGAATTCTTCAACCCCCAGGAGCTGCACGACCTGTGGGCTTCCTGTCAGACTCCGGTGACCGGTCCGCGCCCCCTGCCGGCTCCTCTGTCGGACGCAACGGGGGATTCGGAACCCACGTAGTTGGGGACGTGTTTCGCGCAATGCCACCAGCACCTAGGAGGTCCTTTCGAAGTTCGTTAATCGCCCCTCGGTGCTGGCCTCCATTCCCGTAGCGTTAGACGGTCTCGTGCGGTACGTCACTCAGGATACCCCTGCATGACTGGTGGTGGTATCGACTTGGCCAGGGCACGGTTAAGCCTGCGTAGGGCGTGCCGCGGCCGCAAGCATCCCATACGTGGGGCTCCCTAGCGTCCCTGCAGTGGGGCCTTGACAAGGTTGCGTGGGATAACTAAGACCTAACAGCTACTCCGCCTCGGGTTGTAGCACACGGGCAGGGGGAGGGACGGATGGCTTCCCGCCCCAGGTGCTCCCATTCGGTACGTGGAGTGGCATATCGCTGCCTCGCCGCCT-GCACATCGCGCGGCTTTTGACGCTCACCTCAGTGCCCTTAGACTATACGAAGGGGGCAATATAGGTCCGTGGATGGACGCCGATCGCAGGCCGTCGGTAATCTATGCCCGTACGGCTCAGGCCCGGACGGAGATACGGCATCCCCGAGGGCCGGTCCCAGCTCTTGATAACCCCATGAAAAATTAGGCTTTCCTCACAAGTCTATCGGGGGCCCATTGCCCGTTGGTTTTCGAGGCAACATTGGTGGTCCGCGTACGGAGCATTGTTCCCGGCGGGAAGCCCGGGCTTGCGGCTCCATGATGTACGGCTTTCGGCGAAGTGGCGCAGGTCAGCAGGCTCACTGATGAGCCCGCGGGAGGTGACACAGGGTGAGAGCCCAGAGCTCTGTGAAGCTTTCCCGTTCTGCATGCCTTGCGGTGCCCGGTTCACGCCCTATGCGAAGCTTCGACGGGATATTCGTTTTAGGGGCGCCAGGCTCTCAACGTCGACCTACAGCACTACACTCGCATGGCTGCGCTCCAGCCAGAGTGGCTTACGACGCAACAGTATACCCGTCCGGCGGCCTCCAAGAAC-CTGACGTATCGCCTCAGCGCCTACGTCAAGTCGCCCGCCGTTATGAGGCGCGGTGAGCCGTCACAGGTCCGGCCCCCAAGCAAGCGCGGACTCCGGTCTTCGACCCCACCGGCCCGGCGGGAAAAGTCGAACGAGTCAATACGGCACCTCCGGCCCGTTCAATCCGTGTTC-CGGACTAGCGCCGAGATTCTTGTTGCATGGCGGGCGAGAGCCCCAGAGCTAGAGGGGCGCCGCCAAAGGGAAGGGCGC-CGCTCAGCTTCTGTAGCACGACCTTCGATGTACGCGCTTTCCGCGGCAAAGTGGT-CCGACCTCATTAGTACCGGCGTGACATGGGGGCACATAATCGCGGAGGGAGACCTGTCGCACCCGTGTGGTACTACCAAAGCCTTGTGCTAAAGCTTACGCGGTGGGTAAGGGAGACTGGCTACCCCC-GATGACTCCCTTGCTCCCAACAGAACTCGATCGGCTAGAAGGCGACTCCGCCATCAGCTCGTGCGGAATCGACGAAGTTCAGACGGGGGCTAGTCAACCGGCCTCTCATCGGCCAGCCACCCGTCATGCGTCGCGCAGGAGACGGACGCTGCGGCCAAGTTTCCGTTTATCGGAACCTGCTATCCAAATACTTCCGAGCGAGTGTGCCAGACCATGTGTCACATGCACCTTCCGATAACCGGCACTTCTCATAGT-CCCTGGACATTCACCTGTAGGT-GTCGCAGAGTAGCCTACCAGGGTTAAGGCCGGACAGACATTTTCGTTCCTACACAAGACGATCTCTATCTCGGATACGAGTAGACGTGCAATCCTA-CCTACCCCATGGCTCCCCTGACCTGACCTTAGGCGAGCCCCCATTGGAGCAGAAGGTCCGATTTCCCGTGATGTGCGATCGGGGTCCAT-GCAGTTGCACTAGCTCACGATTACACCGATTTCTAACGACTGTAACCGTGGCGCACGCATGTCTCTAGGGTTCAGTAAGCGGCCGTCGGGGGCGAGGGTAAGCATTCCTCAATAGACCTAAGGGGGCAGATTTCGCGAATGCAGGTTTCGAGCAGGAGACGGCAAAGAACTTACGCTTGGTTGGTACAGGGGAGCGTCAACTTCCCGCCGCCGAGCACTCTCGAGGTCCAGATGGGGCCCCGATTGTCTAGTACGGGGGACCAAGCTCACACTTGAGTTTTGTTGATATGTCAGGCCTGGGAGGTTGCCTAGATTCACATCGACTGTCGTAGTGGGGGTCTAGCCGTAACGAGGGCTACTCAGGCCCAAACAACAAGCACGCCCCTTACCATTACCCTACGGCCACGCTGAGGCCACACCGCCCTAAGCCATCTATACGAGCCCCGCTGGCCGAGGCCCCTCGTAATGCCCCCCTGTAAACATGGCTGCGT-CGCGGGGGGTTGGGAACGTGTTTGTAGTGTGTGTATTAAAGTCCTGGCCGACAGACGTCACCGCCCCCCGGGGCAACCATGCGACGGAACTCCTATAATTTGTACGAAGTGCTTGGGCTTCCAGGGCTCAATTACGTACGCGTGATCGGGCTCTCGCCTTGTTAATCCGAAACCCGGGTCACCGGTTGAACCAAACCCTGAGAATGGCGGGGGTGGATACGATCCACGCAGCGACCGCCGTAGGACAGACTCGCGCACCCCCGGCTTGGGGAGAGGGCGCCAGGCCTTGATAAGGTGACCGGTGTGGGTTTCCGGCGGGAGCTAATCTTCTGGTGGCTCAGGTTGGTAAACTAACCGCGGCGCTAGCACAGGAAGTGACCACCCCGCCCACATGCGCGCTGACATGCGAAGTAATCCAACCGGGCGCTCTACTCGGGCAAAGCGCAGTAACCGATACGAATACCTTACGGCTGGCATGGACGTCAGAGGAGCTATGGTACTGGAGCTGAGACAGGGGTGCGGACGCGCGTGGTGGATGCCGGCTGCGGCTCACCCCTGGCCGTACGCGACCAATTGGTTGATAGGTCTTGTTGATGCAGTG',\n",
       " '--------------------------------------------------------------------------------------------------------------------------------------------------------------------------------------------------------------------------------------------------------------------------------------------------------------------------------------------------------------------------------------------------------------------------------------------------------------------------------------------------------------------------------------------------------------------------------------------------------------------------------------------------------------------------------------------------------------------------------------------------------------------------------------------------------------------------------------------------------------------------------------------------------------------------------------------------------------------------------------------------------------------------------------------------------------------------------------------------------------------------------------------------------------------------------------------------------------------------------------------------------------------------------------------------------------------------------------------------------------------------------------------------------------------------------------------------------------------------------------------------------------------------------------------------------------------------------------------------------------------------------------------------------------------------------------------------------------------------------------------------------------------------------------------------------------------------------------------------------------------------------------------------------------------------------------------------------------------------------------------------------------------------------------------------------------------------------------------------------------------------------------------------------------------------------------------------------------------------------------------------------------------------------------------------------------------------------------------------------------------------------------------------------------------------------------------------------------------------------------------------------------------------------------------------------------------------------------------------------------------------------------------------------------------------------------------------------------------------------------------------------------------------------------------------------------------------------------------------------------------------------------------------------------------------------------------------------------------------------------------------------TTTCACATCGAATTCAGTGACCACCTATAGGCCTGCCTGGGCCGCCGGG-CCTGACGCAC-CTG-GATCA-CCGGGCGGTCCAGCCACGGG--A-CGCCGACGCGGTGAGTCTATCCCTGGCTTGCCAATGGTTT-ACGGGAACGCTACACCTGCATCTCGTGACTCCCCCTCTTGCCGT-GGTGTCTAACCATGGGAAGGGGGGCTGGCGGTG-GTTGTAGCATAAGAATGGATCTAATGGCCCGCGCACTGGGGGTTCGAACAGTGGGACCGACGGGGGGG-CTCCG-CGCGGATCCAGGGGCAGCCATACCAGG-TATCGATTCCTGTACCCTTCTCGTTGTGCCAGCGATGCTTA-GCGA-GACT-TGGCGATGACC-GGGGCTGA-GGTGAT-GCAGTC-GTCACTCCTCCCACAGGAAAACAG-GAAGGCGCCTGCGGGGTTCGCCACGCCCTCA-CCGCCATTACAA-GGGGTTTTGTACTCTGACCCGCC-CGTCACG-TCTACCAGCCAGGCCAAAGGTCTCCCC-AGCCTGGACTCACGCCCACAACC-ATCCGGGGAAG-GGA-CGTGTTCCTACGGTTCTGACGCCGCTCACGTGACGCCGTTGCACGATCC-TATTTTTGGGCTCCCGGCTGCCACCCGGTTTGTCCTGTCCTTCGCTCCGTAAG-CGAGCACCTATGCTGTCGAGATGGCCCGCCCTTGAGGGTTACCAAGGGGCGTATAGTT-TTTCCTG-AGGGGTAGCCCAGGGCTTGCCTCCTCCCAAAGCTAGATTCTTGCCCCAGGCAATTGCGGTGAGACCTGAAGCGTTCGTAGCCATCCATCCTGCTCGAGTGGACTGCCGGCCCTCGGGCAACGGGACGCGCCTGCGCCCCTGGCACGCGGAATCCTCG-CCGCCCAAGGCGGAGGC-GCGTGTTCGTGCCCCGGTTCCTCGGACATGCGCGCCACATACCCGCCGCCCGTGTCTTAGTATGAGGC-GGCGGAACCCCCTTATATGGCACCGCTTGGCAGTGCCCGATCTCACGGCGCCGGCCAGGGTCAAGTGGGCCGC-TGCGGCGGACGTTCCCCAACACCCCAGACCGTTTAGCGGTTTGAGCTAC-TTATTGGGGAGTGCGACGAACCTCAGGCTGTGTATCAGATACCAACGT-CGCCCGGGAT-AGATCGGAGGGGGGATAGGGTATGGATTGTCGGAGGCTTCTGACATGAGTCATGCTTACGACCGAACCTCTGC-GACGG-CC-GCGACGCCAATGACTACACTG--CTGCGCGTCTGACTGGAACTCGGAGGCCCCCGCAATGCC-ATTCAGGCGGTATAGCGTGTTCTGGCAGC-GTGATGGTGACCTCAACTGA-GCTCCTC-AGCAGAGGTTATTGAGTGCCTGTAGTG-CGGTTGTCG-CCGCCTTAAAC-CCTAGGCCTCCTTTCCCGAAGGGCTGCGACTCCACTCGGTACGGCATGTAGACACTGGGTATGGGGGACACCACCCGGCACACTCGTAAGCGTTCGG-CTCGCCAGCATGGACTCATCGTGAAGCATCCGTTCAGGC-GAGGTGCA-ACC-GGGAGACAAGTAGCTTGGCTCGGATCACGAAGTTTTCCGTTCAAATGCGCCCGTAATGTCCGGAATTTGGGCACGAGCAGGGTGTCAAGATCGGTTGCCCAAGTGAGCCTGACCAGCGAAT-TACGTCCAACCGTGGTTCCAAGCGCTTAATTCGACTCTCTCATCAAAC-CGAGTACCGGCCGACAGGAGCGGTCAACTTTGCAACCTCTCCCGGTCGCCCCCGCCGGGTCGGTTGATCCAATTCAACCCCTTCGGCGGGCGATGGGGAACTCTGAGCATCGAAGGCGGCATTCCGCATTTTACCGTTACTGCGATCGGCCTGTGTCCAAAGCACCCACCCCTGCGGAGGCGCCTTACACAGATAAGGTGTGAGGGGACATTGCTAATCAACGACTGCATCTAGGTCGAGTAACCCGAAACATTGGGCGGGCGTCCGAGCGCCCTGCGACGGCGGGTGGGTCTGGTCCCCCACGTCCGTCTGCCTGCGGACCAGCAGACTTTGCG-TTGACCTGGTCGTTCGGGCTTGCCCGTGACGATGGAGGGTTCCAGCATGAACGCGTATTCCGGGCAGATACAGCTGCCGGCG-AAGGGGGTGAAGGGGCACACTTGTCCACCCCAGCCCTGTGCA-ATACTCACCGGACCTTGGCCACCGAACACCACGCCCCCGCGTCATACCCCTA--T-CCATCGAAGACGATGAGGGGTACTTAGACGTCCAGAGGCACCCACCTGTCGTGGAGAGCACGTGCTGCTGTCGGGACCACGCACCCGCAGGGAGCCGTGATTTCCACAAAAGTAATGCGTAGCCCGGGCCTCTTCAC-GGTGAACGTAGCTCGGCGCCCCCCGGATGTATGCTTAGGCGAAGGATCAGGTACA-GCACATTTGGAATTGTAACTAGGAGAAGGTGGCGTCGCCTCGC-CATCAAGGTTGTGGGTGACCCAGTCTAGCTATC-GTCTACGATGTATATTCTCGGCACGCTCTACATGAACACTGTGATGGTGAACCCAAAGGGTTGGCGCGGGACTAACTGGTGC-CCGTTTCCGCGTCGCCGTCAATTCGAGTCGGCATGGCAGGGA-CAGAGAAGTCCGCCGGCCAGCGGAGCGATACCGCTCTTCCCAGCAGGAC-GCACGGTCGGATTGACTTGGAAAAGGACATCTATAATCACACTCGTCGCGGGACCCGCTAGGCGCCGGGTCTTAGGATCGCTA-GCCAGTACCTAACATAGGGCCCGGCGTT-TGACCGGTCGCAGACGAGCTC-CGGGGCAGGCGGGGTCTCAGGCAGCCAAGTGCACAGCCATTGGGCTAGCAGGGGAAACCAAAAAGACGCCCCTCGATCTGGCTGTGCGCTAGCCACGCCCGATTCGAGATTACCACGGCCAGTAGCGGGAGTACCGACCTCGTCACGGGCTAGACGGCTGGCTGAAGGGTGCCTGGTCGGTTCGGCCAGCTTACCGGGCAGACCGGCAACCCGATCGCGCTAAC-GGGGCCTGACCGCGAGCACGGTTCGCTACGACGAGCAAAGGGAACTTCGCGCCGCGTCTCGTCGCATCAGAGCAGACGGCCGAGCTGGCACGCCCGCTGCGGACAGGTTTGCGCGGGCCACGCTAAGTAGTTAGGACTCATTTCGCGT-GGGGACGGGCGCTCGGTAGACTCTAGGTG-TGTCATCTCCTCAGCCACCAGCGGTCGGCATCAAGCAGAGGCCAGTGAGGGTGGCCTGCGCGCCTACGTCGGTGCAACCGCGTCATGTCA-CGCGATCAGTAGGTCGTGCGGTCGGGTTACATTCTTTGTGAATTCTTCAACCCCCAGGAGCTGCACGACCTGTGGGCTTCCTGTCAGACTCCGGTGACCGGTCCGCGCCCCCTGCCGGCTCCTCTGTCGGACGCAACGGGGGATTCGGAACCC-CGTAGTTGGGGACGTGTTTCGCGCAATGCCACCAGCACCTAGGA-GTCCTTTCGAAGTTCGTTAATCGCCCC-CGGTGCTGGCCTCCATTCCCGTAGCGTTAGACGGTCTCGTGCGGTACGTCACTCAGGATACCCCTGCAT-ACTGGTGGTGGTATCGACTTGGCCAGGGCACGGTTAAGCCTGCGTAGGGCGTGCCGCGGCCGCAAGCATCCCATACGTGGGGCTCCCTAGCGTCCCTGCAGTGGGGCCTTGACAAGGTTGCGTGGGATAACTAAGACCTAACAGCTACTCCGCCTCGGGTTGTAGCACACGGGCAGGGGGAGGGACGGATGGCTTCCCGCCCCAGGTGCTCCCATTCGGTACGTG-AGTGGCATATCGCTGCCTCGCCGCCTCGCACATCGCGCGGCTTTTGACGCTCACCTCAGTGCCCTTAGACTATACGAAGGGGGCAATATAGGTCCGTGGATGGACGCCGATCGC-GGCCGTCGGTAATCTATGCCCGTACGGCTCAGGCCCGGACGGAGATACGGCATCCCCGAGGGCCGGTCCCAGCTCTTGATAACCCCATGAAAAATTAGGCTTTCCTCACAAGTCTATCGGGGGCCCATTGCCCGTTGGTTTTCGAGGCAACATTGGTGGTCCGCGTACGGAGCATTGTTCCCGGCGGGAAGCCCGGGCTTGCGGCTCCATGATGTACGGCTTTCGGCGAAGTGGCGCAGGTCAGC-GGCTCACTGATGAGCCCGCGGGAGGTGA-ACAGGGTGAGAGCCCAGAGCTCTGTGAAGCTTTCCCGTTCTGCATGCCTTGCGGTGCCCGGTTCACGCCCTATGCG-AGCTTCGACGGGATATTCGTTTTAGGGGCGCCAGGCTCTCAACGTCGACCTACAGCACTACACTCGCATGGCTGCGCTCCAGC-AGAGTGGCTTACGACGCAACAGTATACCCGTCCGGCGGCCTCCAAGAACTCTGACGTATCGCCTCAGCGCCTACGTCAAGTCGCCCGCCGTTATGAGGCGCGGTGAGCCGTCACAGGTCCGGCC-CCAAGCAAACGCGGACTCCGGTCTTCGACCCCACCGGCCC-GCGGGAAAAGTCGAACGAGTCAATACGGCACCTCCGGCCCGTTCAATCCGTGTTCCCGGACTAGCGCCGAGATTCTTGTTGCATGGCGGGCGAGAGCCCCAGAGCTAGAGGGGCGCCGCCAAAGGGAAGGGCGCGCGCTCAGCTTCTGTAGCACGACCTTCGATGTACGCGCTTTCCGCGGCAAAGTGGTTCCGACCTCATTAGTACCGGCGTGACATGGGGGCACATAATCGCGGAGGGAGACCTGTCGCA-CCGTGTGGTACTACCAAAGCCTTGTGCTAAAGCTTACGCGGT-GGTAA-GGAGACTGGCTACCCCCCGATGACTCCCTTGCTCCCAACAGAACTCGATCGGCTAGAAGGCGACTCCGCCATCAGCTCGTGCGGAATCGACGAAGTTCAGACGGGGGCT-GTCAACCGGCCTCTCATCGGCCAG-CACCCGTCATGCGTCGCGCAGGAGACGGACGC-GCGGCCAAGTTTCCGTTTATCGGAACCTGCTATCCAAATACTTCCGAGCGAGTGTGCCAGACCATGTGTCACATGCAC',\n",
       " '------------------------------------------------------------------------------------------------------------------------------------------------------------------------------------------------------------------------------------------------------------------------------------------------------------------------------------------------------------------------------------------------------------------------------------------------------------------------------------------------------------------------------------------------------------------------------------------------------------------------------------------------------------------------------------------------------------------------------------------------------------------------------------------------------------------------------AGGCGCCGGAGCCACACCGTCCCAGC-CGGTCGCGA-GGGATGAAGCACCCATTC-CTTTCACGCAGT-GTTAGGATACCCACTATGTACTTAAAGTCCG-CGGGGCCGGTAAGGGGTAGGTGCGC-AAAGGCACCATCCTGTTGCGGGG-CCT-CAGATAGTGCTTGCTGGAATGTGGTGTAGCTTGTGAACAG-GAACGCCC-TGGGACCCTATCCGGACG-G-GACCTCCCGGGGTG-CTTAC-CCGATC-CAGAAGCCG-CCGGC-CGCGCG-TTGGTCACCCCGCACTACTGGCGCCGTTGGGGGCCCTAAGCAGAGGC-GCGTGAAGCTCCTTA-GGCATTCGA-GGGCTGTGAGCGGAGAGTGCCTGCCGCGAAGCTAGAGCTCTCGCGGAGGTAAAGGCCG-ACACGGTAGGTGGGCCAGCGT-CACA-ATCCGAGGTGAGGGGGGCTGCATA-GTACC-CGACGCATAGACGCAAACA-T-TGCCCATTAACAGTCCAATAG-CGCACCTCCGG-GTGCCATGTGGCTGA-A-TGAGCAGGGTCCTCCTAGCACGCTCCCGGAGGATTCCACGGTGCGCCAGATAGCGTTCCCGACAGGACTGGGC-GGTCGCCAGGAGCGGTCACTTGCGGAGTCGTTCGAGTGCGATGTCCGAGATACCTATGTTGA--GTCCCGCGAAT-CCCATAAGCTAGGTGGGT-ATCTACCCGGCCAAGCGCTTGA-TTACGTTGCGCAGGCAATACAAGGCGCTGGGGCTCATGTACTGC-TTCTTCGCCTGAGCTGACCACTGATCGTTG-CAGC-GGCCGGGT-GAACGC-CGGGGGGTTTCCGCATACCGGTGCAAAAGCCGCTGTGAGCCAGTCTCTCCGCCGAGCAGTGCTCCAACCTCAGGCTCCTAGCTCGGCA-AA-CC-TGGGCTC-GATACATCCAATACACGCACGCCCGT-GT-GTTTGACCGGTTGCAGAGGGGGTGCGGAGGCGGCCCCGTTCCCCCCGCT-CA-GGGGTAAGATACGACG-CAGATA-CAGCT-CCATTTGGCGG-GATGCCTTTCG--CTAAGCCGCCTTACGGAGATC-TAAACAGGAGTCGCGTGGCTCGCAA-GAGGCAGAG-GACTCGACC-TTGGTCAGCCCCCGCGCTGCGCT-GGC-GGTAAG-AGTGA-GTCCCCATCCTTGCGCAAGGTG-ATGGTATGCCATAGTTCCTCCAGGCAGAGGGCCCCTTCGTAGCGATT-CGCCTTGGCACTCGCGAACACGGGAAACCCCAAGTCACTCGCGGGAAGGATCTGTTGCGTCTGGACGGGAGGATTTAC-CCGT-TACGAGCGCAATACG-CATTGTCAAGGGCACGG-AGAGGCGGT-AAGG-TTATCGC-CACGAGGACGAGACGATTGCGGACC-GTTGGC-AGAAGCAGGTATTGGCGGTGGGCCGCCGCGAGGCTTCCGCACG-TCGCAGTGA-ATCGATCG-CCCAAGGCTCGCATCGAACCAATTCCGGGCCGGG-ACG--CGAGAGGAGAGAAGCATGAAGCGCCATAGGTCCTACTCGCGGAGC-CTCG-GCA-TC-TAGGGGTGGCTGGC-CCTC-CGGGGGCAC-TTC-CGG-TC-GCTCGG-G-TGAAAGAGCCT-CAGTTAGCGCCGATCATGTGCGCCTAAG-CGGG-GATGGGCAGGC-TTGATTAGGGTCGGCATTGCAA-CCG--TCGCCCACGGCCGGAACCG-CCTCCGAAAGCGAGGCT-CTAGGCACTT-CAGGCCTGCAGACTGCGGTA-GCAAATAAGGCTCGACTCTGTTGGGCGCA--GCGTTCGGG-GT-CACATTAAGCAGGAGGTCAGA-TCACACATGTCCAAGATCAGGGTGCGTGCAATTATTGTTGGCGCGG-CTCTGACGGACCAGGCG-GTGAA-TATTGTGGGCTAA-TCGGGGCCGGAGATTCCT-ACTCCG-GGAGATATCCGTTGTTTCGAGGTCGTTCGGTATAGCGCG-CG-GCA-CCGGTGGATTAACCGCATTACGCGTTCTTTCTGCGTCCGCCGAC-CGCGTCACTG-GCAACGACACCGGTAGCTTTCACATCGAATTC-GTGACCACCTATAGGCCTGCCTCG-CCGCCGGGCCCTGACGCACTCTGAGATCATCCG-G-GGTCCAGCCACGGGCTACGGCCGACGCGGTGAGTCTATC-CTGGCTTGCCAATGG-TTGACGGGAACGCTACACCTGCATCTCGTGAC-C-CCCTCTTGCCGTCAGTGT-TAAC-AT-GGAAGGTGGG-TGGCGGTGGGTTGTAGCATAAGAATGGATCTAATGG-CCGCGCACT-GGGGTTCGAACAGT-GGAC-GACGGGGGGGCCTCCGACGCGGATCCAGGGGCTGCC--AC-AGGGTATCGATTCCTGTACCCTTCTCGTTGTG-CAG-GATGATTAAGCGACGA-TTTGGCGATGACCCGGG-CTGATGGT-ATCGCAGTCGGTCACTACTCCCACAG-AAAACAGTGAAGGCGCCTGCGGGC-TCGCCACGCCCTCACCCGCCATTACAATGGGGTTTT-TA-TCTG-CCCGC-GCGTCACGGTCCACCAGCCAGGCCAAAGGTCACCCCGAGCCTGGA-TCACGCCCACAACCAATCCGGGGAA-CGGATCG-GTTCCTACGGTTCTGA-G-CGCTCAC-TGACGCCGTTGCAC-ATCCC-ATTTTTGGGCTC-CG-CTG-CAC-CGGTTTGTCCTGTCCTTCGCTCCGTAACCCGAGCAC-TATGCTGTC-AGATGGCCCGCCCTTGAGGGTAAC-AAGGG-CGTTTAGTTTTTTC-TGT-GGGGT-GCCC-GGG--TGCTTCCTCCCAAAGCT-GATTCTTGCCC-AGGCA-TTGCGGTGAGACCTGAAGCGTTCGTAGCCATCCATCCTGCT-GAGTGGA-T-CCGGCCCTCTGGCAACGGGACGCGCCTCCGC-CCT-GCACGCGGAATCCACGACCGCCCAAGGCGGAGGCAGC-TGTTCGTGCCCCG-TTCCTCCGACATGCGCGCCACATACCCGCC-CT-GTG-CTTAGTATGAGGCGGGCGGAACCCCCTTATATGG-ACCGCTTGGCAG-GCCCGATCTCACGGCG-CGGC-AGGGTCAAGTGGGCCGCGTGCGGCGGACGTTCCC-AACACCCCAGACCGTTTAGCGGT-TGAGCTACGTTATTGGGGAGTGCGACGAACCTCAGGCTGTGTATCAGATACCAACGTGCGCCCGGGATGAGATCGGAGGGGGGATAGGGTATGGATTGTCGGAGGCTTCTGACATGAGTCATGCTTACGACCGAACCTCTGCAGACGGTCCAGCGACGCCAATGACTACACTGGCCTGCGCGTCTGACTGGAACTCGGAGGCCCCCGCAATGCCCATTCAGGCGGTATA-CGTGTTCTGGCAG-TGTGATGGTGACCTCAACTGAGGCTCCTCAAGCAGAGG-TATTGAGTGCCTGTAGTGCCGGTTGTCGACCGCCTTAAACTCCTAGGCCTCCTTTCCCGAAGGGCTGCGACTC-ACTCGGTACGGCATGTAGACACTGGGTATGGGGGACACCACCCGGCACTCTCGTTAGCGTT-GGCCTCGCCAGCATGGACTCATCGTGAAGCATCCGTTCAGGCTGAGGTGCACAC-GGGGAGACAAGTAGCTTGGCTCGGATCACGAAGTTTTCCGTTCAAATGCGCCCGTAATGTCCGGAATTTGGGCACGAGCAGGGTGTCAAGATCGGTTGCCCAAGTGAGCCTGACCAGCGAATGTACGTCCAACCGTGGTTCCA-GCGCTTAATTCGACTCTCTCCTCAA-CCCGAGTACCGGCCGACAGGAGCGGTCAACTTTGCAACCTCTCCCGGTCG-CCCCGCCGGGTCGGTTGATCCAATTCAACCCCTTCGGCGGGCG-TGGGGAACTCTGAGCA-CGAAGGCGGCATTCCGCATTTTACCGTTACTGCGATCGGCCTGTGTCCAAAGCACCCACCCCTGCGGAGGCGCCTTACACAGATAAGGTGTGAGGGGACATTGCTAATCAACGACTGCATCTAGGTCGAGTAA-CCGAAACATTGGGCGGGCGTCCGAGCGCCCTGCGACGGCGGGTGGGTCTGGTCCC-CACGTCCGTCTGCCTGCGGACCAGCAGACTTTGCGGTTGACCTGGTTAT-CGGGCTTGCCCGTGACGATGGAGGGTTCCAGCATGAA-GCGTAT-CCGGGCAGATACAGCTGCCGGCGTAAGG-GGTGAAGGGGCACACTTGTCCACCCCAGCCCTGTGCA-ATACTCACCGGACCTTGGCCAC-GAACACCACGCCCCCGCGTCATACCCCTATGTACCATCGAAGACGATGAGGGGTACTTAGACGTCCAGAGGCACCCACCTGTCGTGGAGAGCACGTGCTGCTGTCGGGACCACGCAC-CGCAGGGAGCCGTGATTTCCACAAAAGTAATGCGTA-CCCGGGCCTCTTCACAGGTGAACGTAGCTCGGCGCCCCCCG-AAGTATGCTTAGGCGAAGGATCAGGTACAAGCA-ATTTGGAATTGTAACTAGGAGAAGGTGGCGTCGCCTCGCTCATCAAGGTTGTGGGTGACCCAGTCTAGCTATCCGTCTACGA-GTATATTCTCGGCACGCTCTACATGAACACTGTGATGGTGAACCCAAAGGGTTGGCGCGGGACTAACTGGTG-TCCGTTTC-GCGTCGCCGTCAATTCGAGTCGGCATGGCAGGGACCAGAGAAGTCCGCCG-CCAGCGGAGCGATACCGCTCTTCCCAGCAGGACAGCACGG-CGGATTGACT-GG-AAAGGACATCTATA-TCACA-TCGTCGCGGGACCCGCTAGGCGCCGGGTCTTAGGAT-GCCACGCCAGTACCTAACATAGGGCC-GGCGTTATGACCGGTCGCAGACGAGCTCTCGGGGCAGGCGGGGTC-CAGGCAGCCAAATGCACAGCCATTGGGCTAGCAGGGGAAACCAAAAAGACGCCCCTCGATCTGGCGGTGCGCT-GCCACGCCCGATTCGAGATTACCACGGCCAGTAGCGGGAGTACCGACCTCGTCACGGGCTAGACGGCTGGCTGAAGGGTGCCTGGTCGGTTCGGCCAGCT-ACCGGGCAGACCGGCAACCCGATCGCGCTAACCGGGGCCTGACCGCGAGCACGGTTCGCTACGACGAGCAAAGGGAACTTCGCGCCGCGTCTCGT-GCATCAGAGCAGACGGCCGAGCTGGCACGCCCGCTGCGGACAGGTTTGCGCGGGCCACGC-AAGTAGTTAGGACTCATTTCGCGTAGGGG-CGGGCGCTCGGTTGACTCTAGGTGATGTCATCTCCTCAGCCACCAGCGGTCGGCATCAAGCAGAGGCCAGTGAGGGTGCCCTGCGCGCCTACGTCGGTACAACCGCGTCATGTCACCGCGATCAGTAGGTCGTGCCGTCGGGTTACATTCTTTGTGAATTCTTCAACCCCCAGGAGCTGCACGACCTGTGGGCTTCCT-TCAGACTCCGGTGACCGGTCCGCGCCCCCTGCCGGCTCCTCTGTCGGACGCAACGGG-GATTCGGAA-CCAC-TAGTTGGGGAC-TGTTTCGCGCAATGCCACCAGCACCTAGGAGGTCCTTTCGAAGTTCGTTAATCGCCCCTCGGTGCTGGCCTCCATTCCCGTAGCGTTAGACGGTCTCGTGCGGTACGTCACTCAGGATACCCCTGCATGACTGGTGGTGGTATCGACTTGGCCAGGGCACGGTTAAGCCTGCGTAGGGCGTGCCGCGGCCGCAAGCATCCCATACGTGGGGCTCCCTAGCGTCCCTGCAGTGGGGCCTTGACAAGGTTGCGTGGGATAACTAAGACCTAACAGCTAC-CCGCCTCGGGTTGTAGCACACGGG-AGGGGGATGGACGGATGGCTTCCCGCCCCAGGTGCTCCCATTCGGTACGTGGAGTGGCA-ATCGCTGCCTCGCCGCCTCGCACATC-CGCGGCTTTTGACGCTCACCTCAGTGCCCTTAGACTATACGAAGGGGGCAATATAGGTCCGTGGATGGACGCCGATCACAGGCCGTCGGTAATCTATGCCCGTACGGCTCAGGCCCGGACGGA-ATACGGCATCCCCGAGGGCCGGTCCCAGCTCTTGATAACCCCA-GAAAAATTAGGCTTTCCTCACAAGTCTATCGGGGGCCCATTGCCCGTTGGTTTTCGAGGCAACATTGGTGGTCCGCGTACGGAGCATTGTTCCCGGCGGGAAGCCCGGGCTTGCGGCTCCATGATGTACGGCTTTCGGCGAAG-GGCGCAGGTCAGCAGGCTCACTGATGAGC-CGCGGGAGG-GACACAGGGTGAGAGCCCAGAGCTCTGTGAAGCTTTCCCGTTCTGCATGCCTTGCGGT-CCCGGTTCACGCCCTATGCGAAGCTTCGACGGGATATTCGTTTTAGGGGCGCCAGGCTCTCAACGTCGACCTA-AGCACTACACTCGCATGGCTG-GCTCCAGCCAGAGTGGCTTACGACGCAACAGTATACCCGTCCGGAGGCCTCCAAGAACTCTGACGTATCGCCTCAGCGCCTACGTCAAGTCGCCCGCCGTTATGAGGCGCGGTGAGCCGTCACAGGTCCGGCCCCCAAGCAAGCGCGGACTCCGGT-TTCGACCCCACCGGCCCGGCGGGAAACGTCGAACGAGTCAATACGGC-CCTCCGGCCCGTTCAA-CCGTGTTCCCGGACTAGCGCCGAGATTCTTGTTGCATGGCGGGCGAG-GCCC-AGAGCTAGAGGGGCGCCGCCAAAGG-AAGGGCGCGCGCTCAGCTTCT-TAGCACGACCTTCGATGTACGCGCTTTCCGCGGCAAAGTGGTTCCGAC-TCATTAGTACCGG-GTGACATGGGGGCACATA-TCGCGGAGGGAGACCT-TCGCACC-GTGTGGTACTACCAAAGCCTTGTGCTAACGCTTACGCGGTGGGTAAGGGAGACTGGCTACCCCCCGATGACTCCCTTGCTCCCAACAGAACTCGATCGGCTAGAAGGCGACTCCGCCATCAGCTCGTGCGGAATCGACGAAGTTCAGACGGGGGCTAGTCAACCGGCCTCTCATCGGCCAGCCACCCGTCATGCGTCGCGCAGGAGCCGGACGCTGCGGCCAAGTTTCCGTTTATC-GAACCTGCTATCCAAATACTTCCGAGCGAG-GTGCCAGACCATGTGTCACATGCACATTCCGATAACCGGCACTTCTCATAGTG-CCTGGCCATTCACCTGTAGG-TGTCGCAGAGTAGCCTACCAGGGTTAAGGCCGGACAGACATTTTCGTTCCTACACAAGACGATCTCTATCTCGGATACGAGTAGACGTGCAATCCT-GCCTACCCCATGGCTCCCCTGACCTGACCTTAGGCGAGCCCCCATTGGAGCAGAAGGTCCGATTTCCCGTGATGTGCGATCGGGGTCCATCGCAGTTGCACTAGCTCACGATTACACCGATTTCTAACGACTGTAACCGTGGCGCACGCATGTCTCTAGGGTTCAGTAAGCGGCCGTCGGGGGCGAGGGTAAGCA-TCCTCAATAGACCTAAGGGGGCAGATTTCGCGA-TG-AGGTTTC-AGCAGGAGACGGCAAAGAACTTACGCTTGGTTGGTACAGGGGAGCGTCAACTTCCCGCCGCCGAGCACTCTCGAGGTCCAGATGGGGCCCCGATTGTCTAGTACGGGGGACCAAGCTCACACTTGAGTTTTGTTGATATGTCAGGCCTGGGAGGTT-CCTAGATTCACATCGA-TGTCGTAGTGGGGGTCTAG-CGTAACGAGGGCTAC',\n",
       " '----------------------------------------------------------------------------------------------------------------------------------------------------------------------------------------------------------------------------------------------------------------------------------------------------------------------------------------------------------------------------------------------------------------------------------------------------------------------------------------------------------------------------------------------------------CGATGTACGTTCCCGCGAGTACTCTCCGTGAGGACGCGCTC-TCTCGCTGGGGC-GCCTAGTCCCTAACCGCG-GCAATGTAGCATCCGTACGAT-TGTT-CTGAC-TCCCTCGGGGGGG-TCCCGTCCTTTCCCG-TCGGTGCGTCACTATTCGCTTAGACATGAGCCC-GCGCCCGCTTCTCCCCATCGGACCTAGCCCCT-TCGGAACCCGCCATGAGCGAAAGGCCGCTGGG-GGACCACAGCGGCA-AAGC-ACGAGGC-CCGGAGCC-CAC-GTCCCAGCCCGGTCG-GACGGGATGCAGCACCCATTAT-TTTCACGCAG-GGTTAGGATACCCACCATGTACTAAAAGTCCGCC-GGGCCGGTAAGGGGTAGGTGCGCG-GAGGCACAAT-CTGTTGCGGGGACCTCCAGA-AGTGCTTGCTGCAATGTGGTGTAGCTTGTGAACAGGGAACGCCCC-GGGACCC-ATCCGGACGTGCGACCTCCCGGGG-GGC-TACTCCGATCTCAGAAG-CGCGC-GCACGCGCGCTTGGTCAGACCG-ACTACTGGCGCCGTTGGGGGGCCTA-GCAGA-GCCGCGTGAAGCTC-TCATGGCA-TCGACGG-CTGTGAGCGGAGAGTG-CTGGCGCGATGCTAGAGCTCTCGCGGAGGTAAAGGCCGCA-ACGGTAGGTGGGCCGGCGTTCACACATCCGATGTGAGG-GGGCTGCATACGTACCCCGACGCATAGACGCAAACAAAGTG-CCATT-ACAGTCCAAT--TCGCACCCCC-GGGTGCCATGTGGCTGAGACTGAGCAGGGTCCTCCTA-TAC-C--CCGGAGGATTCCACGGTGC-CCAGATAGCGATCCCGGCAGGA-TGGGCCGGT-GCCAGGAGCGGTCACTTGCGGAGTCGTTCGA-TGCGAT-TCCGAAATACCTATGTTGAAAGTCCCTC-AGTACCCATAAGCTAGG-GGGTTATCTAGCCGGCCAAGCGCTTGAGTTACGTTG-GCAAGCAAT-CAA-GCGCTGGGGCTCATGTACTGCTTTCTTCGC-TGAGCAGACCACTGATCGTTGCCAGCTGGCCGGGTAGAACGCGCGGGGG-TTTCCGCATACCGGTGCGAAAGCCGCTGTGAGCCAGT-T-TCCGCCGAGCCGTGCTCCAACCTCAGGCTC-TA-CTCGGC-AAAGCCGTGGGCTCCGATACACCCAATACACG-ACGCCCGTTGTGGTTAGACCGGTTGCAGATGGGGTGCGG-GGCGGCCCCGTTCCCCCCGCTTCAC-GGGTA-GATACGACGGCAGATAGCAGCTACCATTT-GCGGTGATGCCTTTCG-TCTAAGCCGCCTGACG-AGATCTTAAACAGGAGTCGC-TGGCTCGCAAGGAGGCAGAGTGACTCGACCATTGGTCAGCCCCCGCGC-GCGCTCGGCCGGTAAGCAGCGAGGTCCCCATCCTTGCGCAAGGTGG-TGGTATGC-ATGGTTCCTACAGGCAGAGGGCCCCTTCGTAGCGATTCCGTCTTGGCACTTGC-AACACGGGAA-CCCCAAGTCACTCGCGGTAGGGA-CTGTT-CGTCTAGACGGGAGCATTTAC--CGTCTACGAGC-CAATACGCCATT-TCAAGGGCAC-GG-GAGGCGGTT--GGCTTATCCCTCACGAGGACGAGACGATTGC-GACCAGTTGGTTAGAAG-AGGTATT-GCGGTGGGCCGCCGCGAGGCTTCCGCACG-TCGCAGTGACATCGATCGACCC-AGGCTCGCATCGGACCAA-TCCGGGCCGGGTACGCACGAGAGGAGTGAAGGATGAAGCGCCATAGGTC-TACTCGCGGAGCGCTCGTGCAGTCGTAGGGGT-GC-GG-CCCTCCCGGGGGCACGTTCTCGGATCAGCTAGGTGTTGTAAGAGCCTGCAGTTAGCGCCGATCATGTGTGCCTAAGACGG-AGATGGGCAGGCATTGATTAGAGTCGGCATTGCAATCCGAGTCGCCCACGGCCGGAACCGCCCTCCG-AAGCGAG-CTCCTAGGCACTTGCAGGCCTGCAGACTGCGGTAAGCAAATAAGGCTCGACTCTGTTGGGCCCAG-GCGTTCGGGGGTACACATTAAGCAGGAGGTCAGACTCACACATGTCCAAGA-CAGGGTGCGTGCAATTATTGTTGGCGCGGCCTCTGA-GGACCAAGCGTGTGAACAATTGTGGGCTAAGTCGGTGCCGGAGATTGCTCACTCCGCGGAGATATCCGTTGTTTCGAGGTCGTTCGGTATAGCGCGACGAGCATCCGG-GGATTAAC-GCATTACGCGTTCTTT-TGCGTCCGCCGACACGGGTCAGTGCGCAACGACACCGGTATCTTTCACATC-AATTCAGTGACCACCTATAGGCCTGC-TGGGCCGCCGGGCCCTGACGCACTCTGAGATC-TCAGGGCGGTCC-GCCACGGGCTACCGCC-ACGCGGTGAGTCTAT-CCT-GCTTGCCAATGGTTTGACGGGAACGCTACACCTGCATCTCGTGACTCCCCCTCTTGC-GTCAGTGTCTAACCATGGGAAGGGGGGCTGGCGGTGGGTTGTAGCATAAGAATGGATCTAATGGCCCGCGCACTGGGGGTTCGAACAGTGGGACCGACGGGGGGGCCTCCGACGCGGATCCAGGGGCAGCCTTACCAGGGTATCGATTCCTGTACCCTTCTCGTTGTGCCAGCGATGCTTAAGCGACGACTTTGGCGATGACCCGGGGCTGAT-GTGATCGCAGTCGGTCACTCCT-CCACAGGAAAACAGTGAAGGCGCCTGCGGGGTTCGCCACTCCCTCACCCGCCATTACAACGGGGTTTTGTACTCTGACCCGCCGCGTCACGGTCCACCAGCCAGGCCAAAGGTCACCCCGAGCCTGGACTCACGCCCACAACCAATCCGGGGAAGCGGATCGTGTTCCTACGGTTCTGACGCCGCTCACGTGACGCCGTTGCACGATCCCT-TTTTTGGGCTCCCGGCTGCCACCCGGTTTGTCCTGTCCTTCGCTCCGTAAGTCG-GCACCTATGCTGTCGAGATGGCCCGCCCTTGAG-GTTACCAAGGGGCGTTTAGTTTTTTCCTGTAGGGGTAGCCC-GGGCTTGCCT-CTCCCAAAGCTAGATTCTTGCCCCAGGCAATTGCGGTGAGACCTGAAGCGTTCGTAGCCATCCATCCTGCTCGAGTGGACTGCCGGCCCTCTGGCAACGGGACGCGC-TCCGCCCCTGGCACGC-GAATCCTCGACCGCCCAAGGCGGAGGCAGCGTGTTCGTGCCCCGG-TCCTCCGACATGCGCGCCACATACCCGCCGCCCGTGTCTTAGTATGAGGCGGGCGGAACCCCCTTATATGGCACCGCTTGGCAGTGCCCGATCTCACGGCGCCGGCCAGGGTCAAGTGGGCCGCGTGCGGCGGACGTTCCCCAACACCCCAGACCG-TTAGCGGTTTGAGCTACGTTATTGGGGAGTGCGACGAACCTCAGGCTGTGTATCAGATACCAACGTGCGCCCGGGATGAGATCGGAGGGGGGATAGGGTATGGATTGTCGGAGGCTTCTGACATGAGTCATGCTTACGACCGAACCTCTGCAGACGGTCCAGC-ACGCC-ATGACTACACTGGCCTGCGCG-CTGACTGGAACTCGGAGGCCCCCGCAATGCCCATTCAGGCGGTATAGCGTGTTCTGGCAGCTGTGATGGTGACCTCAACTGTGGCTCCTCAAGCAGAGGTTATTGAGTGCCTGTAGTGCCGGTTGTCGACCGCCTTAAACTCCTAGGCCTCCTTTCCCGAAGGGCTGCGACTCCACTCGGTACGGCATGTAGACACTGGGTATGGGGGACACCACCCGGC-CTCTCGTAAGCGTTCGGCCTCGCCAGCATGGACTCATCGTGAAGCATCCGTTCAGGCTGAGGTG-ACACCGGGGAGACAAGTAGCTTGGCTCGGATCACGAAGTT-TCCGTTCAAATGCGCCCGTAATGTCCGGAATTTGGGCACGAGCAGGGTGTCAAGATCGGTTGCC-AAGTGAGCCTGACCAGCGAATGTACGTCCAACCGTGGTTCCAAGCGCTTAATTCGACTCTCTCATCAAACC-GA-TACCGGCCGACAGGAGCGGTCAACTTTGCAACCTCTCCCGGTCGCCC-CGCCGGGTCGGTTGATCCAATTCAACCCCTTCGGCGGGCGATGGGGAACTCTGAGCATCGAAGGCGGCA-TCCGCATTTTACCGTTACTGCGATCGGCCTGTGTCCAAAGCACCCCCCCCTGCGGAGGCGCCTTACA--GATAAGGTGTGAGGGGACATTGCTAATCAACGACTGCATC-AGGTCGAGTAACCCGAAACATTGGGCGGGCGTCCGAGCGCCCTGCGACGGCGGGTGGGTCTGGTCCCCCACGTCCGTCTGCCTGCGGACCAGCAGACTTTGCGGTTGACCTGGTCGTTCGGGCTTGCCCGTGACGATGGAGGGTTCCAGCATGAACGCGTATTCCGGGCAGATACAGCTGCCGGCGTAAGGGGGTGAAGGGGCACACTTGTCCACCC-AGCCCTGTGCACATACTCACCGGACCTTGGCCACCGAACACCACGCCCCCGCGTCATACCCCTATGTACCATCGAAGACGATGAGGGGTACTTAGACGTCCAGAGGCACCCACCTGTCGTGGAGAGCACGTGCTGCTGTCGGGACCACGCACCCGCAGGGAGCCGTGATTTCCACA-AAGTAATGCGTAGCCCGGGCCTCTTCACAGGTGAACGTAGCTCGGCGCCCCCCGGATGTATGCTTAGGCGAAGGATCAGGTACAAGCACATTTGGAATTGTAACTAGGAGAAGGTGGCGTCGCCTCGCTCATCAAGGTTGTGGGTGACCCAGTCTAGCTATCCGTCTACGATGTATATTCTCGGCACGCTCTACATGAACACTGTGATGGTGAACCCAAAGGGTTGGCGCGGGACTAACTGGTGCT-CGTTTCC-CGTCGCCGTCAATTCGAGTCGGCATGGCAGGGACCAGAGAAGTCCGCCGGCCAGCGGAGCGATACCGCTCTT-CCAGCAGGACAGCACGGTCGGATTGACTTGGAAAAGGACATCTATAATCACACTCGTCGCGGGACCCGCTAGGCGCCGGGTCTTAGGATCGCTACGCCAGTACCTAACATAGGGCCCG-CGTTATGACCGGTCGCAGACGAGCTCTCGGGGCAGGCGGGGTCGCAGGCAGCCAAATGCACAGCCATTGGGCTAGCAGGGGAAACCAAAAAGACGCCCCTCGATCTGGCGGTGCGCTAGCCACGCCCGATTCGAGATTACCACG-CCAGTAGCGGGAGTACCGACCTCGTCACGGGCTAGACGGCTGGCTGAAGGGTGCCTGGTCGGTTCGGCCAGCTTACCGGGCAGACCGGCAACCCGATCGCGCTAACCGGGGCCTGACCGCGAGCACGGTTCGCTACGACGAGCAAAGGGAACTTCGCTCCGCGTCTCGTCGCAT-AGAGCAGACGGCC-AG-TGGCACGCCCGCTGCGGACAGGTTTGCGCGGGCCACGCTAAGTAGTTAGGACTCATTTCGCGTAGGGGACG-GCGCTCGGTAGACTCTAGGTGATGTCATCTCCTCAGCCACCAGCGGTCGGCATCAAGCAGAGGCCAGTGAGGGTGCCCTGCGCGCCTACGTCGGTGCAACCGCGTCATGTCACCGCGATCAGTAGGTCGTGCCGTCGGGTTACATTCTTTGTGAATTCTTCAACCCCCAGGAGCTGCACGACCTGTGGGCTTCCTGTCAGACTCCGGTGACCGGTCCGCGCCCCCTGCCGGCTCCTCTGTCGGACGCAACGGGGGATTCGGAACCCACGTAGT-GGGGACGTGTTTCGCGCAATGCCACCAGCACCTAGGAGGTCCTTTCGAAGTTCGTTAATCGCCCCTCGGTGCTGGCCTCCATTCCCGTAGCGTT-GACGGTCTCGTGCGGTACGTCACTCAGGATACCCCTGCATGACTGGTGGTGGTATCGACTTGGCCAGGGCACGGTTAAGCCTGCGTAGGGCGTGCCGCGGCCGCAAGCATCCCATACGTGGGGCTCCCTAGCGTCCCTGCAGTGGGGCCTTGACAAGGTTGCGTGGGATAACTA-GACCTAACAGCTACTCCGCCTCGGGTTGTAGCACACGGGCAGGGGGAGGGACGGATGGCTTCCCGC-CCAGGTGCTACCATTCGGTACGTGGAGTGGCATATCGCTGCCTCGCCGCCTCGCAC-TCGCGCGGCTTTTGACGCTCACCTCAGTGCCCTTAGACTATACGAAGGGGGCAATATAGGTCCGTGGATGGACGCCGATCGCAGGCCGTCGGTAATCTATGCCCGTACGGCTCAGGCCC-GACGGAGATACGGCATCCCCGAGGGCCGGTCCCAGCTCTTGATAACCCCATGAAAAATTAGGCTTTCCTCACAAGTCTATCGGGGGCCCATTGCCCGTTGGTTTTCGAGGCAACATTGGTGGTCCGCGTACGGAGCATTGTTCCCGGCGGGAAGCCCGGGCTTGCGGCTCCATG-TGTACGGCTTTCGGCGAAGTGGCGCAGGTCAGCAGGCTCACTGATGAGCCCGCGGGAGGTGACACAGGGTGAGAGCCCAGAGCTCTGTGAAGCTTTCCCGTTCTGCATGCCTTGCGGTGCCCGGTTCACGCCCTATGCGA-GCTTCGACGGGATATTCGTTTTAGGGGCGCCAGGCTCTCAACGTCGACCTACAGCACTACACTCGCATGGCTGCGCTCCAGCCAGAGTGGCTTACGACGCAACAGTATACCCGTCCGGCGGCCTCCAAGAACTCTGACGTATCGCCTCAGCGCGTACGTCAAGTCGCCCGCCGTTATGAGGCGCGGTGAGCCGTCACAGGTC-GGCCCCCAAGCAAGCGCGGACTCCGGTCTTCGACCCCACCGGCCCGGCGGGAAAAGTCGAACGAGTCAATACGGCACCTCCGGCCCGTTCAATCCGT-TTCCCGGACTAGCGCCGAGATTCTTGTTGCATGGCGGGCGAGAGCCCCAGAGCTAGAGGGGCGCCGCCAAAGGGAAGGGCGCGCGCTCAGCTTCTGTAGCACGACCTTCGATGTACGCGCTTTCCGCGGCAAAGTGGTT-CGACCTCATTAGTACCGGCGTGACATGGGGGCACATAATCGCGGAGGGAGACCTGTCGCACCCGTGTGGTACTACCAAAGCCTTGTGCTAAAGCTTACGCGGTGGGTAAGGGAGACTGGCTACCCCCCGATGACTCCCTTGCTCCCAACAGAACTCGATCGGCTAGAAGGCGACTCCGCCATCAGCTCGTGCGGAATCGACGAAGTTCAGACGGGGGCTAGTCAACCGGCCTCTCATCGGCCAGCCACCCGTCATGCGTCGCGCAGGAGACGGACGCTGCGGCCAAGTTTCCGTTTATCGGAACCTGCTATCCAAATACTTCCGAGCGAGTGTGCCAGACCATGTGTCACATGCACCTTCCGATAACCGGCACTTCTCATAGTGCCCTGGACATTCACCTGTAGGTTGTCGCAGAGTAGCCTACCAGGGTTAAGGCCGGACAGACATTTTCGTTC-TACACAAGACGATCTCTATCTCGGATACGAGTAGACGTGCAATCCTAGCCTACCC-ATGGCTCCCCTGACCTGACCTTAGGCGAGCCCCCATTGGAGCAGAAGGTCCGATTTCCCGT-ATGTGCGATCGTGGTCCATCGCAG-TGCAC-AGCTCACGATTACACCGATTTCT-ACGACTGTAACCGTGGCGCACGCATGTCTCTAGGGTTCAGTAAGCGGCCGTCGGGGGCGAGGGTAAGCATTCCTCAATAGACCTAAGGGGGCAGATTTCGCGAATGCAGGTTTCGAGCAGGAGACGGC-AAGAACTTACGCTTGGTTGGTACAGGGGAGCGTCAACTTCCCGCCGCCGAGCACTCTC-AGGTCC-GATGGGGCCCCGATTGTCTAGTACGGGGGACCAAGCTCACACTTGAGTTTTGTTGATATGTCAGGCCTGGGAGGTTGC-AAGATTCACATCGACTGTCGTAGTGGGGGTCTAGCCGTAACGAGGGCTACTCAGGCCCAAACAACAAGCACGCCCCTTACCATTACCCTACGGCCACGCTGAGGCCACACCGCCCTAAGCCATCTATACGAGCCCCGCTGGCCGAGGCCCCTCGTAATGCCCCCCTGTAAACATGGCTGCGTTCGCGGGGGGTTGGGAACGT-TTTGTAGTGTGTGTATTAAAGTCCTGGCCGACAGACGTCACCGCCCCCCGGGGCAACCATGCGACGGAACTCCTATAATTTGTACGAAGTGCTTGGGCTTCCAGGGCTCAATTACGTA-GCGTGATCGGGCTCTC-CCTTGTTAATCCGAAACCCGGGTCACCGGTTGAACCAAACCCTGAGAATGGCGGGGGTGGATACGATCCACGCAGCGACCGCCGTAGGAAAGACTCGCGCACCCCCGGCTTGGGGAGAGGGCGCCAGGCCTTGATAAGGTGACCGGTGTGGGTTTCCGGCGGGAGCTAATCTTCTGGTGGCTCAGGTTGGTAAACTAACCGCGGCGCTAGCACAGGAAGTGACCACCCCGCCCACATGCGCGCTGACATGCGAAGTAATCCAACCGGGCGCTCTACTCGGGCAAAGCGCAGTAACCGATACGAATACCTTACGGCTGGCATGGACG-CAGAGGA-CTATGGTACTGGAG-TGAGACAGGGGTGCGGACGCGCGTGGTGGATGCCGGCTGCGGCTCACCCCTGGCCGTACG-GACCAATTGGTTGATAGGTCTTGTTGATGCAGTGCGGCGGCC',\n",
       " 'CTCGTCATGGTACACATCCTGCTACGAGCCAGAGACTGTTGAAAGCCCGAGGAAGCGTGCCAGGACCGATGCGCAGGGAGCGACTTAGCTAGGCAGAGTGAGACGTGTCGCTTGAGCGTCCGCAGTACAGGGAAGTGGCACGACGTCCTGAGGCCCTGAACGTGGCGTAGGCCACTTTGACCCGGTA-TCTAGCAAGAGCAACGGGACCTTCGACGGTCGTCCAGGGTTGCGACGTAAGACGGCGCCCCAAGCCAGTCATCAGCCCGCGCTGTCTATACACCGACCAGGCCTCTCCGGGGAAATGCACACAGCGCTATTGTGCTTTAGAACAACATCAGAGGTCCCTAACCGAGCCTACCTCGCTGCTCCCACCGCCACCACTTCATTC-TGCGGCGGAACGGCGTACGCACATACCGCCAGGGAGAGTCACCTTATAGTTCACCGGCGCAAGGCGCAGTGCCGCGTGATTCGCGTTGCGCCGGCCAGCCTCGGCAGTGACTAATCCGGTTGGCCGCGAGCCCGAG-GTAGCGCACGGCGATGTACGTTCCCGCGAGTACTCTCCGTGAGGACGCGCTCATCTCGCTGGGGCCGCCTAGTCCCTAACCGCGCGCAATGTAGCATCCGTACGATGTGTTTCTGACCACCCTCGCGGGGGCTCCCGTCCTTTC-CGATCAGTG-GTCACTATTCGCTTAGACATGAGCCCGGCGCCCGCTTCTCCCCATCGGACCTAGCCCCTCTCGGAACCCGCCATGAGCGAAAGGCCGCTGGGCGGACCACAGCGGCAGAAGCTACGAGGCGCC-GAGCC-CACCGTCCCAGCCCGGTCGCGACGGGATGCAGCACCCA-TATCTTTCACGCAGTGGTTAGGATACCCACTATG-AGTAAAAGTCCGCCGGGGCCGGTAAGGGGTAGGTGCGCGAAAGGCACAATCCTGTTGCGGGGACCTCCAGATA-TGCTTGCTGGAATGTGGTG-AGCTTGTGAACAGGGAACGCCCCTGGGACCCTATCCGGACGTGCGAC-TCCCGGGGTGACTTACTCCGATCTCAGAAGCCGCCCGGCACGCG-GCTTGGTCAGACCGCACTACT-GCGCCGTTGGGGGGCCTAAGCAGAGGCAGCGTGAAGCTCCTCATGGCATTCGACGGGCTGTGAGCGGAGAGTGCCTGCCGCGATGCTAGAGCTCTCGCGGAGGTAAAGGCCGCACACGGTAGGTGGGCCGGCGTTCACACATCCGATGTGAGGGGGGCTGCATACGTACCCCGACGCATAGACGCAAACAATGTGCCCATTAACAGTCCAATAGTCGCACCCCCGGGGTGCCATGTGGCTGAGACTGAGC-GGGTCCTCCTAGCACCCTCCCGGAGGATTCCACGGTGCGCCAGATAGCGTTCCCGGCAGG-CTGGGCCGGTCGCCAGGAGCGGTCACTT-CGGAGTCGTTCGAGTGCGATGTCCGAGA-ACCTATGTTGAAAGTCCCTC-AATACCCATAAGCTAGGTGGGTGATCTAGCCGGCCAAGCGCTTGAGTTACGTTGCGCAAGCAATACAAGGCGCTGGGGCTCATGTACTGC-TTCTTCGCCTGAGCAGACCACTGATCGTTGCCAGC-GGCCGGGTAGAACGCGCGGGGGGTTTCCGCATACCGGTGCAAAAGCCGCTGTGAGCCAGTCTCTCCGC-GAGCCGTGCTCCAACCTCAGGCTCCTAGCTCGGCAAAAGCCGTGGGCTCCGATACATCCAATACACGCACGCCCGTTGTGGTTTGACCGGTTGCAGATGGGGTGCGGAGGCGGCCCCGTTCCCCCCGCTTCACGGGGTAAGATACGACGGCAGATAGCA-CTACCATTTGGCGGTGATGCCTTTCGCTCTAAGCCGCCTGACGGAGATCTTAAACAGGAGTCGCGTGGCTCGCAAGGAGGCAGAGTGACTCGACCATTGGTCAGCCCCCGCGCTGCGCTCGGCCGGTAAGCAG-GAGGTCCCCATCCTTGCGCAAGGTGGATGGTATGCCATGGTTCCT-CAGGCAGAGGGCCCCTTCGTAGCGATTCCGCCTTGGCACTTGCGAACACGGGAAACCCCAAGTCACTCGCGGGAAGGATCTGTTGCGTCTGGACGGGAGGATTTA-GCCGTCTACGAGCGCAATACGCCATTG-CAAGGGCACGGGAGAGGCGGTTAAGGCTTATCCCTCACGAGGACGAGACGATTG-GGACCAGTTGGTTAGAAGCAGGTATTGGCGGTGGGCCGCCGCGAGGCTTCCGCACGGTCGCAGTGACATCGATCGACCCAAGGCTC--ATCGAACCAATTCCGGGCCGGGTACGCACGAGAGGAGAGAAGCATGAAGCGCCATAGGTCCTACTCGCGGAGCGCTCGTGCAGTCATAGGGGTGGCTGGCCCCTCCCGGGGGCACGTTCTCGGATCAGCTCGGTGTTGTAAGAGCCTGCAGTTAGCGCCGATCATGTGTGCCTAAGACGGGA-ATGG-CAGGCATTGATTAGGGTCGGCATTGCAATCCGAGTCGCCCACGGCCGGAACCGCCCTCCGAAAGCGAGGCTCCTAGGCACTTGCAGGCCTGCAGACTGCGGTAAGCAAATA-GGCTCGACTCTGTTGGGCCCAGGGCGTTCGGGGGTACACATTAAGCAGGAGG-CAGACTCACACATGTCCAAGATCAGGGTGCGTGCAATTATTGTTGGCGCGGCCTGT-ACGGACCAAGCGTGTGAACTATTGTGGGCTAAGTCGGGGCCGGAGATTGCTCACTCCGCGGAGATATCCGTTGTTTCGAGGTCGTTCGGTA-AGCGCGACGAGCATCCGGTGGATTAACCGCATTACGCGTTCTTTCTGCGTCCGCCGACACGGGTCAGTGCGCAACGACACCGGTAGCTTTCACATCG-ATTCAGTGACCACCTATAGGCCTGCCTGGGCCGCCGGGCCCTGACGCACTCTG-GATCATCCGGGCGGTCCAGCCACGGGCTACCGCCGACGCGGTGAGTCTATCCCTGGCTTGCCA-TGGTTTGACGGGAACGCTACACCTGCATCTCGTGACTCCCCCTCTTGCCG-CAG-GTCTAACCAT-GGAAGGGGGGCTGGCGGTGGGTTGTAGCATAAGAATGGATCTAATGGCCCGCGCACTGGG-GTTCGAACAGTGGGACCGACGGGGGGGCCTCCGACGCGGATCCAGGGGCAGCCTTACCAGGGTATCGATTCCTGTACCCTTCTCGTTGTGCCAGCGATGCTTAAGCGACGACTTTGGCGATGACCCGGGGCTGATGGTGATCGCAGTCGGTCACTCCTCCCACAGGAAAACAGTGAAGGCGCCTGCGGGGTTCGCCACGCCCTCACCC-CCATTACAACGGGG-TTTGTACTCTGACCCGCCGCGTCACGGTCCACCAGCCAGGCCAAAGGTCACCCCGAGCCTGGACTCACGCCCACAACCAATCCGGGGAAG-GGATCGTGTTCCTACGGTTCTGACGCCGCTCACGTGACGCCGTTGCACGATCCCTATTTTTGGGCTCC-GGCTGCCAGCCGGTTTGTCCTGTCCTTCGCTCCGTAAGTCGAGCACCTATGCTGTCGAGATGGCCCGCCCTTGAGGGTTACCAAGGGGCGTTTAGTTTTTTCCTGTAGGGGTAGCCC-GGGCTTG-CTCCTACCAAAGCTAGATTC-TGCCCCAGGCAATTGCGGTGAGACCTGAAGCGTTCGTAGCCATCCATCCTGCTCGAGTGGACTGCCGGCCCTCTGGCA-CGGGACGCGCCTCCGCCCCTGGCACGCGGAATC-TCGACCGCCCAAGGCGGAGGCAGCGTGT-CGTGCCCCGGTTCCTCCGACATGCGCGCCACATACCCGCCGCCCGTGTCTTAGTATGAGGCGGGCGGA-CCCCCTTATATGGCACTGCTTG-CAGTGCCCGATCTCACGGCGCCGGCCAGGGTCAAGTGGGCCGCGTGCGGCGGACGTTCCCCAACACCC-AGACCGTTTAG-GGTTTGAGCTACGTTATTGGGGAGTGCGACGAACCTCAGGCTGTGTATCAGATACCAACGTGCGCCCGGGATGAGATCGGAGGGGGGAT-GGGTATGGATTGTCGGAGGCT-CTGACATGAGTCATGCTTACGACCGAACCTCTGCAGACGGTCCAGCGACGCCAATGACTACACTGGCCTGCGCGTCTGACTGGAACTCGGAGGCCCCCGCAA-GCCCATTCAGGCGGTATA-CGTGTTCTGGCAGCTGTGATGGTGACCTCCACTGAGGCTCCTCAAGCAGAGGTTATTGAGTGCCTGTAGTGCCGGTTGTCGACCGCCTTAAA-TCCTAGGCCTCCTTTCCCGAAGGGCTGCGACTCCACTCGGTACGGCATGTAGACACTGGGTATGGGGGACACCACCCGGCACTCTCGTAAGCGTTCGGC-TCGCCAGCATGGACTCATCGTGAAGCATCCGTTCAGGCTGAGGTGCACACCGGGG-GACAAGTAGCTTGGCTCGGATCACGAAGTTTT-CGTTCAAATGCGCCCGTAATGTCCGGAATTTGGGCACGAGCAGGGTGTC-AGATCGGTTGCCCAAGTGAGCCTGACCAGCGAATGTACGTCCAACCGTGGTTCCAAGCGCTTAATTCGACTCTCTCATCAAACCCGAGTACCGGCCGACAGGAGCGGTCAACTTTGCAACCTCTCCCGGTCGCCCCCGCCGGGTCGGTTGATCCAATTCAACCCCTTCGGCGGGCGATGGGGAACTCTGAGCATCGAAGGCGGCATTCCGCATTT-ACCGTTACTGCGATCGGCCTGTGTCCAAAGCACCCACCCCT-CGGAGGCGCCTTACACAGATAAGGTGTGAGGGGACATTGCTAATCAACGACTGCATCTAGGTCGAGTAACCCGAAACATTGGGCGGGCGT-CGAGCGCCCTGCGACGGCGGGTGGGTCTGGT-CCCCACGTCCGTCTGCCTGCGGACCAGCAGACTT-GCGGTTGACCTGGTCGTTCGGGCT-GCCCGTGACGATGGAGGGTTCCAG-ATGAACGCGTATTCCGGGCAGATACAGCTGCCGGCGTAAGGGGGTGAAGG-GCACACTTGTCCACCC-AGCCCTGTGCACATACTCACCGGACCTTGGCCACCGAACACCACGCCCCCGCGTCATACCCCTATGTACCATCGAAGACGATGAGGGGTACTTAGACGTCCAGAGGCACCCACCTGTCGTGGAGAGCACGTGCTGCTGTCGGGACCACGCACCCGCAGGGAGCCGTGATTTCCACAAAAGTAATGCGTAGCCCGGGCCTCTTCACA-GTGAACGTAGC-CGGCGCCCCCCGGATGTATGCTTAGGCGAAGGATCAGGTACAAGCACATT-GGAATTGTAACTAGGAGA-GGTGGCGTCGCCT-GCTCATCAAGGTTGTGGGTGACCCAGTCTAGCTATCCGTCTACGATGTATATTCTCGGCACGCTCTACATGAACACTGTGATGGTGAACCCAAAGGGTTGGCGCGGGA-TAACTGGTGCTCCGTTTCCGCGTCGC-GTCAATTCGAGTCGGCATGGCAGGGACCA-AGAAGTCCGCCGGCCAGCGGAGCGATACCGCTCTTCCCAGCACGACAGCACGGTCGGATTGACTTGGAAAAGGACATCTATAATCACAC-CGTCGCGGGACCCGCTAGGCGCCGGGTCTTAGGATCGCTACGCCAGTACCTAACATAGGGCCCGGCGTTATGACCGGTCGCAGACGAGCTCTCGGGGCAGGCGGGGTCGCAGGCAGCCAAATGCACAGCC-TTGGGCTAGCAGGGGAAACCAAAAAGACGCCCC-CGAT-TGGCGGTGCGCTAGCCACGCCCGATTCGAGATTACCACGGCCAGTAGCGGGAGTACCGACCTCGTCACGGGCTAGACGGC-GGCTGAAGGGTGCCTGGTCG-TTCGGCCAGCTTACCGGGCAGACCGGCAACCC-ATCGC-CTAACCGGGGCCTGACCGCGA-CACGGTTCGCTACGACGAGCAAAGGGAACTTCGCGCCG-GTCTCGTCGCATCAGAGCAGACGGCCGAGCTGGCACGCCCGCTGCGGACAGGTTTGCGCGGGCCACGCTAAGTAGTTAGGACTCATTTCGCGTAGGGGACGGGCGCTCGGTAGACTCTAGGTGATGTCATCTCCTCAGCCACCAGCGGTCGGCATCAAGCAGAGGCCAGTGAGGGTGCCCTGCGCGCCTACGTCGGTGCAACCGCGTCATGTCACCGCGATCAGTAGGTCGTGCCGTCGGGTTACATTCTTTGTGAATTCTTCAACCCCCAGGAGCTGCACGACCTG-GGGCTTCCTGTCAGACTCCGGTGACCGGTCCGCGCCCCCTGCCGGCTCCTCTGTCGGACTCAACGGGGGATTCGGAACCCACGTAGTTGGGGACGTGTTTCGCGCAATGCCACCAGCACCTAGGAGGTCCTTTCGAAGTTCGTTA-TCGCCCC-CGGTGCTGGCCTCCATTCCCGTAGCGTTAGACGGTCTCGTGC-GTACGTCACTCAGGATACTCCTGCATGACTGGTGGTGGTATCGACTTGGCCAGGGCACGGTTAAGCCTGCGTAGGGCGTGCCGCGGCCGCAAGC--CCCATACGTGGGGCTCCCTAGCGTCCCTG-AGTGGGGCCTTGACAAGGTTGCGTGGGATAACTAAGACCTAACAGCTACTCCGCCTCGGGTTGTAGCACACGGGCAGGGGGAGGGACGGATGGCTTCCCGCCCCAGGTGCTCCCATTCGGTACGTGGAGTGGCATATCGCTGCCTCGCCGCCTCGCACATCGCGCGG-TTTTGACGCTCACCTCAGTGCCCTTAGACTATACGAAGGGGGCAATATAGGTCCGTGG-TGGACGCCGATCGCAGGCCGTCGGTAATCTATGCCCGTACGGCTCAGGCCCGGACGGAGATACGGCATCCCCGAGGGCCGGTCCCAGCTCTTGATAACCCCATGAAAAATTAGGCTTTCCTCACAA-TCTATCGGGGGCCCATTGCCCGTTGGTTTTCGAGGCAACATTGGTGGTCAGCGTACGGAGCATTGTTCCCGGCGGGAAGCCCGGGCTTGCGGCTCCATGATGTACGGCTTTCGGCGAAGTG-CGCAGGTCAGCAGGCTCACTGATGAGCCCGCGGG-GGTGACACAGGGTGAGAGCCCAGAGCTCTGTGAAGCTTTCCCGTTCTGCATGCCTTGCGGTGCCCGGTTCAC-CCCTATGCGAAGCTTC-ACGGGATATTCGTTT-AGGGGCGCCAGGCTCTCAACGTCGACCTAC-G-ACTACACTCGCATGGCTGCGCTCCAGCCAGAGTGGCTTACGACGCAACAGTATACCCGTCCGGCGGCCTCCAAGAACTCTGACGTATCGCCTCAGCGCCTACGTCAAGTCGCCCGCCGTTATGAGGCGCGG-GAGCCGTCACAGGTCCGGC-CCCAAGCAAGCGCGGACTCCGGTCTTCGACCCCACCGGCCCGGCGGGAAAAGTCGAACGAGTCAATACGGCACCTCCGGCCCGTTCAATCCGTGTTCCCGG-CTAGCGCCGAGATTCTTGTT-CATGGCGGGCGAGAGCCCCAGAGCTAGAGGGGCGCCGCCAAAGGGAAGGGCGCGCGCTCAGCTTCTGTAG-ACGACCTTCGATGTACGCGCTTTCCGCGGCAAAGTGGTTCCGACCTCATTAGTACCGGCGTGACATGGGGGCACATAATCGCGGAGGGAGACCTGTCGCACCCGTGTGGTACTACCAAAGCCTTGTGCTA-AGCT-ACGCGG-GGGTAAGGGAGACTGGCTACCCCCCGATGACTCCCTTGCTCCCAACAGAACTCGATCGGCTAGAAGGCGACTCCGCCATCAGCTCGTGCGGAATCGACGAAGTTCAGACGGGGGCTAGTCAACCGGCCTCTCA-C-GCCAGCCACCCGTCAT-CGTCGCGCAGGAGACGGAC-CTGCGGCCAAGTTTCCGTTTATCGGAACCTGCTATCCAAATACTTCCGAGCGAGTGTGCCAGACCATGTGTCACATGC-CCTTCCGATAACCGGCACTTCTCATAGTGCCCTGGACATTCACCTGTAGGTTGTCGC-GAGTAGCCTACCAGGGTTAAG-CCGGACAGACATTTTCGTTCCTACACAAGACGATCTCTATCTCGGATACGAGTAGACGTGCAATCCTAGCCTACCCCATGGCTCCCCTGACCTGACCTTAGGCGAGCCCCCATTGGAGCAGAAGGTCCGATTTCCCGTGATGTGCGATCGGGGTCCATCGCAGTTGCACTAGCTCACGATTACACCGATTTCTAACGACTGTA-CCGTGGCGCACGCATGTCTCTAGGGTTCAGTAAGCGGCCGTCG-GGGCGAGGGTAAGCATTCCTCAATAGACCTAAGGGGGCAGATTTCGCGAATGCAGGTTTCGAGCAGGAGACGGCAAAGAACTTACGCTTGGTTGGTACAGGGGAGCGTCAACTTCCCGCCGCCGAGCACTCTCGAGGTCCAGATGGGGCCCCGATTGTCTAGTACGGGGGACCA-GCTCACACTTGAGTTTTGTTGATATGTCAGGCCTGGGAGGTTGCCTAGATTCACATCGACTGTCGTAGTGGGGGTCTAGCCGTAACGAGGGCTACTCAGGCCCAAACAACAAGCAC-CCCCTTACCATTA-CCTACGGCCACGCTGAGGCCACACCGCCCTAAGCCATCTATACGAGCCCCG-TGGCCGAGGCCCCTCGTAATGCCCCCCTGTAAACATGGCTGCGTTCGCGGGGGGTTGGGAACGTGTTTGTAGTGTGTGTATTAAAGTCCTGGCCGACAGACGTCACCGCCCCCCGGGGCAACCATGCGACGGAACTCCTATAATTTGTACGAAGTGCTTGGGCTTCCAGGGCTCA-TTACGT-CGCGTGATCGGGCTCTCGCCTTGTTAATCCGAAACCCGGGTCACCGGTTGAACCAAACCCTGAGAATGGCGGGGGT-GATACGATCCACGCAGCGACCGCCGTAGGACAGACTCGCGCACCCCCGGCTTGGGGAGAGGGCGCCAGGCCTTGATAAGGTGACCGGTGTGGGTTTCCGGCGGGAGCTAATCTTCTGGTGGCTCAGGTTGGTAAACTAACCGCGGCGCTAGCACAGGAAGTGACCACCCCGCCCACATGC-CGATGACATGCGAAGTAATCCAACCGGGCGCTCTACTCGGGCAAAGCGCAGTAACCGATACGAATACCTTACGGCTGGCATGGACG-CAGAGG-GCTATGGTACTGGAGCTGAGACAGGGGTGCGGACGCGCGTGGTGGATGCCGGCTGCGGCTCACCCCTGGCCGTACGCGACCAATTGGTTGATAGGTCTTGTTGATGCAGTGCGGCGGCCCAAGTGTCACAGGGCCGACGCATCACTCAGATCTTTCCCTGTCTGGGCGTTCCAGCCCGCGTCG-GGAAGGGGGCCAACCGTTTAC-AGCGCCTTAGCCAGTCCATTACGCGACATGTTGGCGGGCCGGGGTCGACCCGGGGTAACTCAACACGGAACATTCTAGGGCGTAGTCGCGGCCGTACCCTATTTGCCCAGGAGTAGCGGAATGTCGTTAAGGCAGTGAACCTGGGCACTGGCG-GCTCTAAGCAGAGCCTGTGATGAGGAGATCCCG',\n",
       " '-------------------------------------------------------------------------------------------------------------------------------------------------------------------------------------------------------------------------------------------------------------------------------------------------------------------------------------------------------------------------------------------------------------------------------------------------------------------------------------------------------------------------------------------------------------------------------------------------------------------------------------------------------------------------------------------------------------------------------------------------------------------------------------------------------------------------------------------------------------------------------------------------------------------------------CCGCCGGGGCCGGTAAGGGGTAGGTGCGCGAAAGGCACAATCCTGTTGCGGGGACCTCCAGATAGTGCTTGCTGGAATGTGGTGTAGCTTGTGAACAGGGAACGCCCCTGGGACCCTATCCGGACGTGCGACCTCCCGGGGTGACTTACTCCGATCTCAGAAGCCGCCCGGCACGCGCGCTT-GTCAGACCGCACTACTGGCGCCGTTGGGGGGCCTAAGCAGAGGCAGCGTGAAGCTCCTCATGGCATTCGACGGGCTG-GAGCGGAGAGTGCCTGCCGCGATGCT-GAGCTCTCGCGGAGGTAAAGGCCGCACACGGTAGGTGGGCCGGCGTTCACACATCCGATGTGAGGGGGGCTGCATACGTACCCCGACGCATAGACGCAAACAATGTGCCCATTAACAGTCCAATAGTCGCACCCCCGGGGTGCCATGTGGCTGAGACTGAGCAGGGTCCTCCTAGCACCCTCCCGGAGGATTCCACGGTGCGCCAGATAGCGTTCCCGGCAGGACTGGGCCGGTCGCCAGG-GCGGTCACTTGCGGAGTCGTTCGAGTGCGATGTCCGAGATACCTATGTTGAAAGTCCCTCGAATACCCATAAGCTAGGTGGGTGATCTAGCCGGCCAAGCGCTTGAG-TACGTTGCGCAAGCAATACAAGGCGCTGGGGCTCATGT-CTGCTTTCTTCGCCTGAGCAGACCACTGATCGTTGCCAGCTGGCCGGGTAGAACGCGCGGGGGGTTTCCGCATACCGGTGCAAAAGCCGCTGTGAGCCAGTCTCTCCGCCGAGCCGTGCTCCAACCTCAGGCTCCTAGCTCGGCAAAAGCCGTGGGCTCCGATAC-TCCAATACACGCACGCCCGTTG-GGTTTGACCGGTTGCAGATGGGGTGCGGAGGCGGCCCCGTTCCCCCCGCTTCACGGGGTAAGATACGACGGCAGATAGCAGCTACCATTTGGCGGTGATGCCTTTCGCTCTAAGCCGCCTGACGGAGATCTTAAACAGGAGTCGCCTGGCTCGCAAGGAGGCAGAGTGACTCGACCATTGGTCAGCCCCCGCGCTGCGCTCGGCCGGTAAGCAGCGAGGTCCCCATCCTT-CGCAAGGTGGATGGTATGCCATGGTTCCTCCAGGCAGAGGGCCCCTTCGTAGCGATTCCGCCTTGGCACTTGCGAACACGGGAAACCCCAAGTCACTCGCGGGAAGGATCTGTTGCGTCTGGACGGGAGGATTTACGCCGTCTACGAGCGCAATACGCCATTGTCAAGGGCACGGGAGAGGCGGTTAAGGCTTATCCCTCACGAGGACGAGACGATTGCGGACCAGTTGGTTAGAAGCAGGTATTGGCGGTGGGCCGCCGCGAGGCTTCCGCACGGTCGCAGTGACATCGATCGACCCAAGGCTCGCATCGAACCAATTCCGGG-CGGGTACGCACGAGAGGAGAGAAGCATGAAGCGCCATAGGTCCTACTCGCGGAGCGCTCGTGCAGTCATAGGGGTGGC-GGCCCCTCCCGGGGGCACGTTCTCGGATCA-CTCGGTGTTGTAAGAGCCTGCAGTTAGCGCCGATCATGTGTGCCTAAGACGGGAGATGGGCAGGCATTGATTAGGGTCGGCATTGCAATCCGAGTCGCCCACGGCCGGAACCGCCCTCCGAAAGCGAGGCTCCTAGGCACTTGCAGGCCTGCAGACTGCGGTAAGCAAATAAGGCTCGACTCTGTTGGGCCCAGGGCGTTCGGGGGTACACATTAAGCAGGAGGTCAGACTCACACATGTCCAAGATCAGGGTGCGTGCAATTATTGTTGGCGCGGCCTCTGACGGACCAAGCGTGTGAACTATTGTGGGCTAAGTCGGGGCCGGAGATTGCTCACTCCGCGGAGATATCCGTTGTTTCGAGGTCGTTCGGTATAGCGCGACGAGCATCCGGTGGATTAACCGCATTACGCGTTCTTTCTGCGTCCGCCGACACGGGTCAGTGCGCAACGACACCGGTAGCTTTCACATCGAATTCAGTGACCACCTATAGGCCTGCCTGGGCCGCCGGGCCCTGACGCACTCTGAGATCATCCGGGCGGTCCAGCCACGGGCTACCGCCGACGCGGTGAGTCTATCCCTGGCTTGCCAATGGTTTGACGGGAACGCTACACCTGCATCTCGTGACTCCCCCTCTTGCCGTCAGTGTCTAACCATGGGAAGGGGGGCTGGCGGTGGGTTGTAGCATAAGAATGGATCTAATGGCCCGCGCACTGGGGGTTCGAACAGTGGGACCGACGGGGGGGCCTCCGACGCGGATCCAGGGGCAGCCTTACCAGGGTATCGATTCCTGTACCCTTCTCGTTGTGCCAGCGATGCTTAAGCGACGACTTTGGCGATGACCCGGGGCTGATGGTGATCGCAGTCGGTCACTCCTCCCACAGGAAAACAGTGAAGGCGCCTGCGGGGTTCGCCACGCCCTCACCCGCCATTACAACGGGGTTTTGTACTCTGACCCGCCGCCTCACGGTCCACCAGCCAGGCCAAAGGTCACC-CGAGCCTGGACTCACGCCCACAACCAATCCGGGGAAGCGGATCGTGTTCCTACGGTTCTGACGCCGCTCACGTGACGCCGTTGCACGATCCCTATTTTTGGGCTCCCGGCTGCCACCCGGTTTGTCCTGTCCTTCGCTCCGTAAGTCGAGCACCTATGCTGTCGAGATGGCCCGCCCTTGAGGGTTACC-AGGGGCGTTTAGTTTTTTCCTGTAGGGGTAGCCCAGGGCTTGCCTCCTCCCAAAGCTAGATTCTTGCCCCAGGCAATTGCGGTGAGACCTGAAGCGTTCGTAGCCATCCATCCTGCTCGAGTGGACTGCCGGCCCTCTGGCAACGGGACGCGCCTCCGCCCCTGGCACGCGGAATCCTCGACCGCCCAAGGCGGAGGCAGCGTGTTCGTGCCCCGGTTCCTCCGACATGCGCGCCACATACCCGCCGCCCGTGTCTTAGTATGAGGCGGGCGGAACCCC-TTATATGGCACCGCTTGGCAGTGCCCGATCTC-CGGCGCCGGCCAGGGTCAAGTGGGCCGCGTGCGGCGGACGTTCCCCAACACCCCAGACCGTTTAGCGGTTTGAGCTACGTTATTGGGGAGTGCGACGAACCTCAGGCTGTGTATCAGATACCAACGTGCGCCCGGGATGAGATCGGAGGGGGGATAGGGTATGGATTGTCGGAGGCTTCTGACATGAGTCATGCTTACGACCGAACCTCTGCAGACGGTCCAGCGACGCCAATGACTACACTGGCCTGCGCGTCTGACTGGAACTCGGAGGCCCCCGCAATGCCCATTCAGGCGGTATAGCGTGTTCTGGCAGCTGTGATGGTGACCTCAACTGAGGCTCCTCAAGCAGAGGTTATTGAGTGCCTGTAGTGCCGGTTGTCGACCGCCTTAAACTCCTAGGCCTCCTTTCCCGAAGGGCTGCGACTCCACTCGGTACGGCATGTAGACACTGGGTATGGGGGACACCACCCGGCACTCTCGTAAGCGTTCGGCCTCGCCAGCATGGACTCATCGTGAAGCATCCGTTCAGGCTGAGGTGCACACCGGGGAGACAAGTAGCTTGGCTCGGATCACGAAGTTTTCCGTTCAAATGCGCCCGTAATGTCCGGAATTTGGGCACGAGCAGGGTGTCAAGATCGGTTGCCCAAGTGAGCCTGACCAGCGAATGTACGTCCAACCGTGGTTCCAAGCGCTTAATTCGACTCGCTCATCAAACCCGAGTACCGGCCGACAGGAGCGGTCAACTTTGCAACCTCTCCCGGTCGCCCCCGCCGGGTCGGTTGATCCAATTCAACCCCTTCGGCGGGCGATGGGGAACTCTGAGCATCGAAGGCGGCATTCCGCATTTTACCGTTACTGCGATCGGCCTGTGTCCAAAGCACCCACCCCTGCGGAGGCGCCTTACACAGATAAGGTGTGAGGGGACATTGCTAATCAACGACTGCATCTAGGTCGAGTAACCCGAAACATTGGG-GGGCGTCCGAGCGCCCTGCGACGGCGGGTGGGTCGGGTCCCCCACGTCCG-CTGCCTGCGGACCAGCAGACTTTGCGGTTGACCTGGTCGTTCGGGCTTGCCCGTGAC-ATGGAGGGTTCCAGCATGAACGCG-ATTCCGGGCAGATACAGCTGCCGGCGTAAGGGGGGGAAGGGGCACACTTGTCCACCCCAGCCCTGTGCACATACTCACCGGACCT-GGCCACCGAA-ACCACGCCCCCGCGTCATACCCCTATGTACCATCGA-GACGATGAGGGGTACTTAGAC-TCCAGAGGCACCCACCTG-CGTGGAGAGCACGTGCTGCTGTCGGGACCACGCACCCGCAGGGAGCCGTGATTTCCACAAAAGTAATGCGTAGCCC-GGCCTCTTCACAGGTGAACGTAGCTCG-CGCCCCCCGGATGTATGCTTAGGCGAAGGATCAG-T-CAAGCACATTTGGAAT-GTAACTAGGAG-AGGTGGCGTCGCCTCGCTCATCAAGGTTGTGGGTGACCCAGTCTAGCTATCCGTCTACGATGTATATTCTCGGCACGCTCTACATGAACACTGTGATGGTGAACCCAA-GGGTTGGCGCGGGACTAACTGGTGCTCCGTTTCCGCGTCGCCTTCAATTCGAGTCGGCATGGCAGGGACCAGAGAAGTCCGCCGGCCAGCGGAG-GATACCGCTCTTCCCAGCAGGACAGCACGGTCGGATTGACTTGGAAAAGGACA-CTATAATCACACTCGTCGCGGGACCCGCTAGGCGCCGGGTCTTAGGATCGCTACGCCAGT-CCTAACATAGGGCCCGGCGTTATGACCGGTCGCAGACGAGCTCTCGGGGCAGGCGGGGTCGCAGGCAGCCAAATGCAC--CCATTGGGCTAGCAGGGGAAACCAAAAA-ACGCCCCTCGATCTGGCGGTGCG-TAGCCACGCCCGATTCGAGATTACCACGGCCAGTAGCGGGAGTACCGACCTCGTCACGGGCCAGACGGCGGGCTGAAGGGTGCCTGGTCGGTTCGGCCAGCTT-CCGGGCAGACCGGCAACCCGATCGCGCTAACCGGGGCCTGACCGCGAGCACGGTTCG-TACGACGTGCAAAGGGAACTTCGCGCCGCGTCTCGTCGCATCAGAGCA-ACGGCCGAGCTGGC-CGCCCGCTGCGGACAGGTTTGCGCGGGCCACGCTAAGTAGTT-GGACTCATTTCGCGTAGGGGACGGGCGCTCGGTAGACTCTAGGTGATGTCATCTCCTCAGCCACCAGCGGTCGGCATCAAGCAGAGGCCAGTGAGGGTGCCCTCCGCGCCTACGTCGGTGCAA-CGCGTCATGTCACCGCGATCAGTAGGTCGTGCCGTCGG-TTACATTCTTTG-GAA--CTTCA-CCCCCAGGAGCTGCACGACCTGTGGGCTTCCTGTCAGACTCCGGTGACCGGTCCGCGCCCCCTGCCGGCTCCTCTGTCGGACGCAACGGGGGATTCGGAACCCACGTAGTTGGGGACGTGTTTCGCGCAATGCCACCAGCAC-TAGGAGGTCCTTTCGAAGTTCGTTAATC-CCCCTCGGTGCTGGCCTCCATT-CCGTAGCGTTAGACGGTCTCGTGCGGTACGTCACTC-GGATACCCCTGCATGACTGGTGGTGGTATCGACTT-GCCAGGGCACGGTTAAGCCTGCGTAGGGCGTGCCGCGGCCGCAAGCATCCCATACGTGGGGCTCCCTAGCGTCCCTGCAGTGGGGCCTTGACAAGGTTGCGTGGGATAACTAAGACCTAACAGCTACTCCGCCTCGGGTTGTAGCACACG-GCAGGGGGAGGGACGGATGGCTTCCCGCCCCAGGTGCTCCCATTCGGTACGGGGAGTGGCATATCGCTCCCTCGCCGCCTCGCACATCGC-CGGCTTTTGACGCTCACCTCAGTGCCCTTAGACTATA-GAAGGGGGCAATATAGGTCCGGGGATGGACGCCGATCGCAGGCCGTCGGTAATCTATGCCCGTACGGCTCAGGCCCGGACGGAGATACGGCATCCCCGAGGGCCGGTCCCAGCTCTTGA-AACCCCATGAAAAATTAGGCTTTCCTCACAAGTCTATCGGGGGCCCATTGCCCGTTGGTTTTCGAGGCAACATTGGTGGTCCGCGTACGGAGCATTGTTCCCGGCGGGAAGCCCGGGCTT-CG-CTCCATGATGTACGGCTTCCGGCGAAGTGGCGCAGGTCAGCAGGCT-ACTGATGAGCCCGCGGGAGGTGACACAGGGTGAGAGCCCAGAGCTCTGTGAAGCTTTCCCGTTCTGCATGCCTTGCGG-GCCCGGTTC-CGCCCTATGCGAAGCTTCGACGGGATATTC-TTCTAGGGGCGCCAGGCTCTCAACGTCGACCTACAGCACTACACTCGCATGGCTGCGCTCCAGCCAGAGTGGCTTACGACGCAACAGTATACCCGTCCGGCGGCCTCCAAGAACTCTGAC-TATCGCCTCAGCGCCTACGT-AAGTCGCCCGCCGTTATGAGGCGCGGTGA-CCGTCACAGGTCCGGCCCCCAAGCAAGCGCGGACTCCGGTCTTCGACCCCACCGGCCCGGCGGGAAAAGT-GAACGAGTCAATACGGC-CCTCCGGCCCGTTCAATCCGTGTTCCCGGACTAGCGCCGAGATTCTTGTTGCATGGCGGGCGAGAGCCCCAGAGCTAGAGGGGCGCCGCCAAAGGGAAGGGCGCGCGCTCAGCTTCTGTAGCACGACCTTCG-TGTACGCGCTTTCCGCGGCAAAGTGGTTCCGACCTCATTAGTACCGGCGTGACATGG-GGCACATAATCGCGGAGGGAG-CCTGTCGCACCCGTGTGGTACTACCAAAGCCTTGTGCTAAAGCTTACGCGGTGGGTAAGGGAGAC--GCTACCCCCCGATGACTCCCTTGCTCCCAACAGAAC-CGATCGGC-AGAAGGCGACTCCGCCATCAGCTCGTGCGGAATCGACGAAGTTCAGACGGGGGCTAGT--ACCGGCCTCTCATCGGCCAGCCACCCGTCATGCGTCGCGCAGGAGACGGACGCTGC-GCCAAGTTTCCGTTTATC-GAACCTGCTATCCAAATACTTCCGAGCGAGTGTGCCAGACCATGTGTCACATGCACCTTCCGATAACCGGCACTTCTCATAGTGCCCTGGACATTCACCTGTAGGTTGTCGCAGAGTAGCCTACCAGGGTTAAGGCCGGACAGACATTTTCGTTCCTACACA-GACGATCTCTATCTCGGATACGAGTAGACGT-CAATCCTAGCCTAGCCCATGGCTCCCCTGACCTAACCTTAGGCGAGCCCCCATTGGAGCAGAAGGTCCGATTTCCCGTGATGTGCGATCGGGGTCCATCGCAGTTGCAC-AG-TCA-GATTACACCGATTTCTAACGACTGTAACCGTGGCGCACGCATGTCTCTAGGGTTCAGTAAGCGGCCGTCGGGGGC-AGGGTAAGCATTCCTCAATAGACCTAAGGGGGCAGATTTCGCGAATGCAGGTTTCGAGCAGGAGACGGCA-AGAACTTACGCTTGGTTGGTACAGGGGAGCGTCAACTTCCCGCCGCCGAGCACTCTCGAGGTCCAGATGGGGCCCCGATTGTCTAGTACGGGGGACCAAGCTCACACTTGAGTTTTGTTGATATGTCAGGCCTGGGAGGTTGCCTAG-TTCACATCGACTGTCGTAGTGGGGGTCTAGCCGTAACGAGGGCTACTCAGGCCCAAACAACAAGCACGCCCCTTACCATTACCCAACGGCCACGCTGAGGCCACACCGCCCTAAGCCATCTATACGAGCCCC',\n",
       " '--------------------------------------------------------------------------------------------------------------------------------------------------------------------------------------------------------------------------------------------------------------------------------------------------------------------------------------------------------------------------------------------------------------------------------------------------------------------------------------------------------------------------------------------------------------------------------------------------------------------------------------------------------------------------------------------------------------------------------------------------------------------------------------------------------------------------------------------------------------------------------------------------------------------------------------------------------------------------------------------------------------------------------------------------------------------------------------------------------------------------------------------------------------------------------------------------------------------------------------------------------------------------------------------------------------------------------------------------------------------------------------------------------------------------------------------------------------------------------------------------------------------------------------------------------------------------------------------------------------------------------------------------------------------------------------------------------------------------------------------------------------------------------------------------------------------------------------------------------------------------------------------------------------------------------------------------------------------------------------------------------------------------------------------------------------------------------------------------------------------------------------------------------------------------------------------------------------------------------------------------------------------------------------------------------------------------------------------------------------------------------------------------------------------------------------------------------------------------------------------------------------------------------------------------------------------------------------------------------------------------------------------------------------------------------------------------------------------------------------------------------------------------------------------------------------------------------------------------------------------------------------------------------------------------------------------------------------------------------------------------------------------------------------------------------------------------------------------------------------------------------------------------------------------------------------------------------------------------------------------------------------------------------------ACCGACGGGGGGGCCTCCGACGCGGATCCAGGGGCAGCCTTACCAGGGTATCGATTCCTGTACCCTTCTCGTTGTGCCAGCGATGCTTAAGCGACGACTTTGGCGATGACCCGGGGCTGATGGTGATCGCAGTCGGTCACTCCTCCCACAGGAAAACAGTGAAGGCGCCTGCGGGGTTCGCCACGCCCTCACCCGC-ATTACAACGGGGTTTTGTACTCTGACCCGCC-CG-C-CGGTCCACCAGCCAGGCCAAAGGTCACCCCGAGCCTGGACTCACGCCCACAACCAATCCGGGGAAGCGGATCGTGTTCCTACGGTTCTGACGCCGCTCACGTGACGCCGTTGCACGTTC-CTATTTTTGGGCTCCCGGCTGCCACCCG-TTTGTCCTGTCCTTCGCTCCGTAAGTCGAGCACCTATGCTGTCGAGATGGCCCGCCCTT-AGGGTTACCAAGGGGCGTTTAGTTTTTTCCTGTAGGGGTAGCCCAGGGCTTGCCTCCTCCCAAAGC-AGATTCTTGCCCCAGGCAATTGCGGTGAGACCTGAAGCGTTCGTAGCCATCCATC-TGCTCGAGTGGACTGCCGGCCCTCTGGCAACGGGACGCGCCTCCGCCCCTGG-ACGCGGAATCCTCGACCGCCCAAGGCG-AGGCAGCGTGTTCGTGCCCCGGTT-CTCCGACATGCGCGCCACATACCCGCCGCCCGTGTCTTAGTATGAGGCGGGCGGAACCCCCTTATATGGCACCGCTTGGCAGTGCCCGATCTCACGGCGCCGGCCAGGGTCAAGTGGGCCGCGTACGGCGGACGTTC-CCAACACCCC-GA-CGTTTAGCGGTTTGAGCTACGTTATTGGGGAGTGCGACGAACCTCAGGCTGTGTATCAGATACCAACGTGCGCCCGGGATGAGATCGGAGGGGGGATAGGGT-TGGATTGTCGGAGG-TTCTGACATGAGTCATGCTTACGACCGAACCTCTGCAGACGGTCCAGCGACGCCAATGACTACACTGGCCTGCGCGTCTGACTGGAACTCGGAGGCCCCCGCAATGCCCATTCAGGCGGTATAGCGTGTTCTGGCAGCTGTGATGGTGACCTCAACTGAGGCTCCTCAAGCAGAGGTTATTGAGTGCCTGTAGTGCCGGTTGTCGACCGCCTTAAACTCCTAGGCCTCCTTTCCCGAAGGGCTGCGACTCCACTCGGTACGGCATGTAGACACTGGGTATGGG-GACACCACCCGGCACTCTCGTAAGCGTTCGGCCTCGCCAGCATGGACTCATCGTGAAGCATCCGTTCAGGCTGAGGTGCACACCGGGGAGACAA-TAGCTTGGCTCGGATCACGAAGTTTTCCGTTCAAATGCGCCCGTAATGTCCGGAATTTGGGCACGAGCAGGGTGTCAAGATCGGTTGCCCAAGTGAGG-TGACCAGCGAATGTACGTCCAACCGTGGTTCCAAGCGCTTAATTCGACTCTCTCATCAAACCCGAGTACC-GCCGACAGGAGCGGTCAACTTTGCAACCTCTCCCGGTCGCCCCCGCCGGGTCGGTTGATCC-ATTCAACCCCTTCGGCGGGCGATGGGG-ACTCTGAGCATCGAAGGCGGCATTCCGCATTTTACCGTTACTGCGATCGGCCTGTGTCCAAAGCACCCACCCCTGCGGAGGCGCCTTACACAGATAAGG-GTGAGGGGACATTGCTAATCAACGACTGCATCTAGGTCGAGTAACCCGAAACATTGGGCGGGCGTCCGA-CGCCCTGCGACGGCGGGTGGGTCTGGTCCCCCA--TCCGTCTGCCTGCGGACCACCAGAC-TTGCGGTTGACCTGGTCGTTCGGGCTTGCCCGTGACGATGGAGGGTTCCAGCATGAACGCGTATTCCGGGCAGATACAGCTGCCGGCGTAAGGGGGTGAAGGGGCACACTTGTCCACCGCAGCCCTGTGCACATACTCACCGGACCTTGGCCACCGAACACCACGCCCCCGCGT-ATACCCCTATGTACCATCGAAGACGATGAGGGGTACTTAGACGTCCAGAGGCACCCACCTGTCGTGGAGAGCACGTGCTGCTGTCGGGACCACGCACCCGCAGGGAGCCGTGATTTCCACAAAAGTAATGCGTAGCCCGGGCCTCTTCACAGGTGAACG-AGCTCGGCGCCCCCCGGATGTATGCTTAGGCGAAGGATCAGGTACA-GCACATTTGGAATTGTAACTAGGAGAAGGTGGCGTCGCCTCGCACATCAAGGTTGTGGGTGACCCAGT-TAGCTATCCGTCTACGATGTATATTCTCGGCACGC-CTACATGAACACTGTGATGGTGAACCCAAAGGGTTGGCGCGGGACTA-CTGGTGCTCCGTTTCCGCGTCGCCGTCAATTCGTGTCGGCATGGCAGGGACCAGAGAAGTCCGCCGGCCAGCGGAGCGATACCGCTCTTCCCAGCAGGACAGCACGGTCGGATTGACTTGGAAAAGGACATCTATAATCACACTCGTCGCGGGACCC-CTAGGCGCCGGGTCTTAGGATCGCTACGCCAGTACCTAACATAGGGCCCGGC-TTATGACCGGTCGCAGACGAGCTCTCGGGGCAGGCGGGGTCGCAGGCAGCCAAATGCACAGCCATTGGGCTAGCAGGGGAAACCAAAAAGACGCCCCTCGATCTGGCGGTGCGCTAGCCACGCCCGATTCGAGATTACCACGG-CAGTAGCGGGAGTACCGACCTCGTCACGGGCTAGACGGCTGGCTGAAGGGTGCCTGGTCGGTTCGGCCAGCTTACCGGGCAGACCGGCAACCCGAT-GCGCTAACCGGGGCCTGACCGCGAGCACGGTTCGCTACGACGAGCAAAGGGAACTTCGCGCCGCGTCTCGTCGCATCAGAGCAGACGGCCGAGCTGGCACGCCCGCTGCGGACAGGTTTGCGCGGGCCACGCTAAGTAGTTAGGACTCATTTCGCGTAGGGGACGGGCGCTCGGTAGACTCTAGGTGATGTCATCTCCTCAGCCACCAGCGGTCGGCATCAAGCAGAGGCCAGTGAGGGTGCCCTGCGCGCCTACGTCGGTGCAACCGCGTCATGTCACCGCGATCAGTAGGTCGTGCCGTCGGGTTACATTCTTTGTGAATTCTTCAACCCCCGGGAGCTGCACGACCTGTGGGCTTCCTGTCAGACTCCGG-GACCGGTCCGCGCCCCCTGCCGGCTCCTCTGTCGGACGCAACGGGGGATTCGGAACCCACGTAGTTGGGGACGTGTTTCGCG-AATGCCACCA-CACCTAGGAGGTCCTTTCGAAGTTCGTTAATCGCCCCTCGGTGCTGGCCTCCATTCCCGTAGCGTTAGACGGTCTCGTGCGGTACGTCACT-AGGATACCCCTGCATGACTGG-GGTGGTATCGACTT-GCCAGGGCACGGATAAGCCTGCGTAGGGCGTGCCGCGGCCGCA-GCATCCCATACGTGGGGCTCCCTAGCGTCCCTGCAGTGGGGCCTTGACAAGGTTGCGTGGGATAACTAAGACCTAACAGCTACTCCGCCTCGGGTTGTAGCACACGGGCAGGGGGAGGGACGGATGG-TTCCCGCCCCAGGTGCTCCCATTCGGTACGTGGAGTGGCATATCGCTGCCTCGCCGCCTCGCACATCGCGCGGCTTTTGACGCTCACCTCAGTGCCCTTAGACTATACGAAGGGGGCAATATAGGTCCGTGGATGGACGCCGATCGCAGGCCGTCGGTAATCTATGCCCGTACGGCTCAGGCCCGGACGGAGATACGGCATCCCCGAGGGC-GGTCCCAGCTCTTGATAACCCCATGAAAAATTAGGCTTTCCTCACAAGTCTATCGGGGGCCCATTGCCCGTTGGTTTTCGAGGCAACATTGGTGGTCCGCGTACGGAGCATTGTTCCCGGCGGGAAGCCCGGGCTTGCGGCTCCATGATGTACGGCTTTCGGCGAAGTGGCGCAGGTCAGCAGGCTCACTGATGAGCCCGCGGGAGGTGACACAGGGTGAGAGCCCAGAGCTCTGTGAAGCTTTCCCGTTCTGCATGCCTTGCGGTGCCCGGTTCACGCCCTATGCGAAGCTTCGACGGGATATT-GTTTTAGGGGCGCCAGGCTCTCAACGTCGACCTACAGCACTACACTCGCATGGCTGCGCTCCAGCCAGAGTGGCTTACGACGCAACAGTATACCCGTCCGGCGGCCTCCAAGAACTCTGACGTATCGCCTCAGCGCCTACGTCAAGTCGCCCGCCGTTATGAGGCGCGGTGAGCCGTCACAGGTCCGGCCCCCAAGCAAGCGCGGACTCCGGTCTTCGACCCCACCGGCCCGGCGGGAAAAGTCGAACGAGTCAATACGGCACCTCCGGCCCGTTCAATCCGTGTTCCCGGACTAGCGCCGAGATTCTTGTTGCATGGCGGGCGAGAGCCCCAGAGCTAGAGGGGCGCCGCCAAAGGGAAGGGCGCGCGCTCAGCTTCTGTAGCACGACCTTCGATGTACGCGCTTTCCGCGGCAAAGTGGTTCCGACCTCATTAGTACCGGCGTGACATGGGGGCACATAATCGCGGAGGGAGACCTGTCGCACCCGTGTGGTACTACCAAAGCCTTGTGCTAAAGCTTACGCGGTGGGTAAGGGAGACTGGCTACCCCCCGATGACTCCCTTGCTCCCAACA-AACTCGATCGGCTAGAAGGCGACTCCGCCATCAGCTCGTGCGGAATCGACGAAGTTCAGACGGGGGCTAGTCAACCGGCCTCTCATCGGCCAGCCACCCGTCATGCGTCGCGCAGGAGACGGACGCTGCGGCCAAGTTTCCGTTTATCGGAACCTGCTATCCAAATACTTCCGAGCGAGTGTGCCAGACCATGTGTCACATGCACCTTCCGATAACCGGCACTTCTCATAGTGCCCTGGACATTCACCTGTAGGTTGTCGCAGAGTAGCCTACCAGGGTTAAGGCCGGACAGACATTTTCGTTCCTACACAAGACGATCTCTATCTCGGATACGAGTAGACGTGCAATCCTAGCCTACCCCATGGCTCCCCTGACCTGACCTTAGGCGAGCCCCCATTGGAGCAGAAGGTCCGATTTCCCGTGATGTGCGATCGGGGTCCATCGCAGTTGCACTAGCTCACGATTACACCGATTTCTAACGACTGTAACCGTGGCGCACGCATGTCTCTAGGGTTCAGTAAGCGGCCGTCGGGGGCGAGGGTAAGCATTCCTCAATAGACCTAAGGGGGCAGATTTCGCGAATGCAGGTTTCGAGCAGGAGACGGCAAAGAACTTACGCTTGGTTGGTACAGGGGAGCGTCAACTTCCCGCCGCCGAGCACTCTCGAGGTCCA-ATGGGGCCCCGATTGTCTAGTACGGGGGACCAAGCTCACACTTGAGTTTTGTTGATATGTCAGGCCTGGGAGGTTGCCTAGATTCACATCGACTGTCGTAGTGGGGGTCTAGCCGTAACGAGGGCTACTCAGGCCCAAACAACAAGCACGCCCCTTACCATTACCCTACGGCCACGCTGAGGCCACACCGCCCTAAGCCATCTATACGAGCCCCGCTGGCCGAGGCCCCTCGTAATGCCCCCCTGTAAACATGGCTGCGTTCGCGGGGGGTTGGGAACGTGTTTGTAGTGTGTGTATTAAAGTCCTGGCCGACAGACGTCACCGCCCCCCGGGGCAACCATGCGACGGAACTCCTATAATTTGTACGA-GTGCTTGG-CTTCCAGGGCTCAATTACGTACGCGTGATCGGGCTCTCGCCTTGTTAATCCGAAACCCGGGTCACCGGTTGAACCAAACCCTGAGAATGGCGGGGGTGGATACGATCCACGCAGCGACCGCCGTAGGACAGACTCGCGCACCCCCGGCTTGGGGAGAGGGCGCCAGGCCTTGATAAGGTGACCGGTGTGGGTTTCCGGCGGGAGCTAATCTTCTGGTGGCTCAGGTTGGTAAACTAACCGCGGCGCTAGCACAGGAAGTGACCACCCCGCCCACATGCGCGCTGACATGCGAAGTAATCCAACCGGGCGCTCTACTCGGGCAAAGCGCAGTAACCGATACGAATACCTTACGGCTGGCATGGACGTCAGAGGAGCTATGGTACTGGAGCTGAGACAGGGGTGCGGACGCGCGTGGTGGATGCCGGCTGCGGCTCACCCCTGGCCGTACGCGACCAATTGGTTGATAGGTCTTGTTGATGCAGTGCGGCGGCCCAAGTGTCACAGGGCCGACGCATCACTCAGATCTTTTCCTGTCTGGGCGTTCCAGCCCGCGTCGCGGAAGGGGGCCAACCGTTTACCAGCGCCTTAGCCAGTCCATTACGCGACATGTTGGCGGGCCGGGGTCGA-CCGGGGTAACTCAACACGGAACATTCTAGGGCGTAGTCGCGGCCGTACCCTATTTGCCCAGGAGTAGCGGAATGTCGTTAAGGCAGTGAACCTGGGCACTGGCGTGCTCTAAGCAGAGCCTGTGATGAGGAGATCCCGAACGGCGTGTGCTCTTTTTGATTTGCCGACGGAGACCAGCGCTTCACCGCCATTTGCCCAGCATGACGGACCTTGCCACCGCGACTTGATGTTGCCGCGAAGAGAACTGATGCGTACC',\n",
       " '---------------------------------------------------------------------------------------------------------------------------------------------------------------------------------------------------------------------------------------------------------------------------------------------------------------------------------------------------------------------------------------------------------------------------------------------------------------------------------------------------------------------------------------------------------------------------------------------------------------------------------------------------------------------------------------------------------------------------------------------------------------------------------------------------------------------------------------------------------------------------------------------------------------------------------------------------------------------------------------------------------------------------------------------------------------------------------------------------------------------------------------------------------------------------------------------------------------GCCTGCCGCGATGCTAGAGCTCTCGCGGAGGTAAAGGCCGCACACGGTAGGTGGGCCGGCGTTCACACATCCGATGTGAGGGGGG-TGC-TACGTACCCCGACGCATAGACG-AAACAATGTGCCCATTAACAGTCCAATAGTCGCACCCCCGGGGTGCCATGTGGCTGAGACTGAGCAGGGTCCTCCTAGCACCCTCCCGGAGGATTCCACGGTGCGCCAGATAGCGTTCCCGGCAGGACTG-GCCGGTCGCCAGGAGCGGTCACTTGCGGAGTCGTTCGAGTGCGATGTCCGAGATACCTATGTTGAAAGTTCCTCGAATACCCATAAGCTAGGTGGGTGATCTAGCCGGCCAAGCGCTTGAGTTACGTTGCGCAAGCAATACA-GGCGCTGGGGCTCATGTACTGCTTTCTTCGCCTGAGCAGACCACTGATCGTTGCCAGCTG-C-GGGTACAACGCGCGG-G-GTTTCCGCATACCGGTGCAAAAGCCGCTGTGAGCCAGTCTCTCCGCCGAGCCGTGCTCCAACCTCAGGCTCCTAGCTCGGCAAAAGCCGTGGGCTCCGATACATCCAATACACGCACGCCCGTTGTGGTTTGACCGGTCGCAGATGGGGTGCGGAGGCGGCCCCGTTCCCCCCGCTTCACGGGGTAAGATACGACGGCAG-TAGCAGCTACCATTTGGCGGTGATGCCTTTCGCTCTAAGCCGCCTGACGGAGATCTTAAACAGGAGTCGCGTGGCTCGCAAGGAGGCAGAGTGACTCGACCATTGGTCA-CCCCCGCGCTGCGCTCGGCCGGTAAGCAGCGAGGTCCCCATCCTTGCGCAAGGTGGATGGTATGCCATGGTTCCTCCAGGCAGAGGGCCCCTTCGTAGCGATTCCGCCTTGGCACTTGCGAACACGGGAAACCCCAAGTCACTCGCGGGAAGGATCTGTTGCGTCTGGACGGGAGGATTTACGCCGTCTACGAGCGCAATACGCCATTGTCAAGGGCACGGGAGAGGCGGTTAAGGCTTATCCCTCACGAGGACGAGACGATTGCGGACCAGTTGGTTAGAAGCAGGTATTGGCGGTGGGCCGCCGCGAGGCTTCCGCACGGTCGCAGTGACATCGATCGACCCAAGGCTCGCATCGAACCAATTCCGGGCCGGGTA-GCACGAGAGGAGAGAAGCATGAAGCGCCATAGGTCCTACTCGCGGAGCGCTCGTGCAG-CATAGGGGTGGCTGGCCCCTCCCGGGGGCACGTTCTCGGATCAGCTCGGT-TTGTAAGAGCCTGCAG-TAGCGCCGATCATGTGTGCCTAAGACGGGAGATGGG-AGGCATTGATTAGGGTCGGCATTGCAATCCGAGTCGCCCACGGCCGGAACCGCCCTCCGA-AGCGAGGCTCCTAGGCA-TTGCAGGCCTGCAGACTGCGGTAAGCAAATAAGGCTCGACTCTGTTGGGCCCAGGGCGTTC-GGGGTACACATTAAGCAGGACGTCAGACTCACACATGTCC-AGATCAGGGTGCGTGCAATTATTGTTGGCGCGGCCTCTGACGGACCAAGCGTGTGAACTATTGTGGGCTAAGTCGGGGCCGGAGATTGCTCACTCCGCGGAGATAT-CGTTGTTTCGAGGTCGTTCGGTATAGCGCGACGAGCATCCGGTGGATTAACCGCATTACGCGTTCTTTCTGCGTCCGCCGACACGGGTCAGTGCGCAACGACACCGGTAGCTTTCACATCGAATTCAGTGACCACCTATAGGCCTGCCTGGGCCGCCGGGCCCTGACGCACTCTGAGATCATCCGGGCGGTCCAGCCACGGGCTACCGCC-ACGCGG-GAGTCTATCCCTG-CTTGCCAATGGTTTGACGGGAACGCTACACCTGCATCTCGTGACTCCCCCTCTTGCCGTCAGTGTCTAACCATGGGA-GGGGGGCTGGCGGTGGGTTGTAGCATAAGAATGGATCTAATGGCCCGCGCACTGGGGGTTCGAACAGTGGGACCG-CG-GGGG-CCTCCGA-GCGGATC-AGGGGCAGCCTTACCAGGGTATCGATTCCTGTACCCTTCTCGTTGTGCCAGCGATGCTTAA-CGACGACTTTGGCGATGACCCGGGGCTGATGGTGATCGCAGTCGGTCACTCCTCCCACAGGAAAACAGTGAAGGCGCCTGCGGGGTTCGCCACGCCCTCACCCGCCATTACAACGGGGTTTTGTACTCTGACCCGCCGCGTCACGGTCCACCAGCCAGGCCAAAGGTCACCCCGAGCCTGGACTCACGCCCACAACCAATCCGGGGAAGC-GATCGTGTTC-TACGG-TCT--CGCCGCTCACGTGACGCCGTTGCACGATCCCTATTTTTGGGCTCCCGGCTGCCACCCGGTTTGTCCTGTCCTTCGCTCCGTAAGTCGAGCACCTATGCTGTCGAGATGGCCCGCCCTTGAGGGTTACCAAGGGGCGTTTAGTTTTTTCCTGTAGGGGTAGCC-AGGGCTTGCCTCCTCCCAAAGCTAGATTCTTGCCCCAGGCAATTGCGGTGAGACCTGAAGCGTTCGTAGCCATCCATCCTGCTCGAGTGGACTGCCGGCCCTCTGGCAACGGGACGCGCCTCCGCCCCTGGCACGCGGAATCCTCGACCGCCCAAGGCGGAGGCAGCGTGT-CGTGCCCCGGTTCCTCCGACATGCGCGC-ACATACCCGCCGCCCGTGTCTTAGTATGAGGCGGGC-GAACCCCCTTATATGGCACCGCTTGGCAGTGCCCGATCTCACGGCGCCGGCCAGGGACAAGTGGGTCGCGTGCGGCGGACGTTCCCCAACACCCCAGACCGTTTAGCGGTTTGAGCTACGTTATTGGGGAGTGCGACGAACCTCAGGCTGTGTATCA-ATACCAACGTGCGCCCGGGATGAGATCGGAGGGGGGATAGGGTA-GGATTGTCGGAGGCT-CTGACATGAGTCAT-CTTACGACCGAACCTCTGCAGACGGTCCAGCGACGCCAATGACTACACTG-CCTGCGCGTCTGACTGG-ACTCGGAGGCCCCCGCAATGCCCATTCAGGCGGTATAGCGTGTTCTGGCAGCTGTGATGGTGACCTCAACTGAGGCTCCTCAAGCAGAGGTTATTGAGTGCCTGTAGTGCCGGTTGTCGACCGCCTTAAACTCCTAGGCCTCCTTTCCCGAAGGGCTGCGACTCCACTCGGTACGGCATGTAGACACTGGGTATGGGGGACACCACCCGGCACTCTCGTAAGCGTTCGGCCTCGCCAGCATGAA-TCATCGTGAAGCATCCGTTCAGGCTGA-GTGCAC-CCGGGGAGACAAGTAGCTTGGCTCGGATCACGAAGTTTTACGTTCAAATGCGCCCGTA-TGTCCGGAATTTGGGCACGAGCAGGGTGTCAAGATCGGTTGCCCAAGTGAGCCTGACCAGCGAATGTACGTCCAACCGTGGT-CCA-GCGCTTAATTCGACTCTCTCATCAAACCCGAGTACCGGCCGACAGGAGCGGTCAAC-TTGCAACCTCTCCCGGTCGCCCCCGCCGGGTCGGTTGATCCAATTCAACCCCTTCGGCGGGCGATGGGGAACTCTGAGCATC-AAGGCGGCATTCCGCATTTTACCGTTACTGCGATCG-CCTGTGTCCAAAGCACCCACCCCTGCGGAGGCGCCTTACACAGATAAGGTGTGAGGGGACATTGCTAATCAACGACTGCATCTAGGTCGAGTAACCCGAAACA-TGGGCGGGCGTCCGAGCGCCCTGCGACGGCGG-TGG-TCTGGTCCCCCACGTCA-TCTGCCTGCGGACCAGCAGACTTTGCGGTTGACCTGGTCGTTCGGGCTTGCCCGTGACGATGGAGGGTTCC-GCATGAACGCGTA-TCCGGGCAGATACAGCTGCC-GCGTAAGGGGGTGAAGGGGCACACTTGTC-ACCACAGCCCTGTGCACATACTCACCGGACCTTGGCCACCGAACACCACGCCCCCGCGTCATACCCCTATGTACCATCGAAGACGATGAGGGGTACTTAGACGTCCAGAGGCACCCACCTGTCGTGGAGAGCACGTGCTGCTGTCGGGACCACGCACCCGCAGGGAGCCGTGATTTCCA-AAAAGTAATGCGTAGCCCGGGCCTCTTCACAGGTGAACGTAGCTCGGCGCCCCCCGGATGTATGCTTAGGCGAAGGACCAGGTACAAGCACATTTGGAATTGTAACTAGGAGAAGGTGGCGTCGCCTCGCTCATCAAGGTTGTGGGTGACCCAGTCTAG-TATCCGTCTAC-A-GTATATTCTCGGCACGCTCTACATGAACACTGTGATGG-GAACCCAAAGGGTTGGCGCGGGACTAA-TGGTGCTCCGTTTCCGCGTCGCCGTCAATTCGAGTCGGCATGGCAGGGACCAGAGAAGTCCGCCGGCCAGCGGAGCGATACCGCTCTTCCCAGCAGGACAGCACGGTCGGATTGACTTGGAA-AGG-CATC-ATAATCACACTCGTCGCGGGACCCG-TAGGCGCCGGGTCTTAGGATCGCTACGCCAGTACCTAACATAGGGCCCGGCGTTATGACCGGTCGCAGACGAGCTCTCGGGGCAGGCGGGGTCGCAGGCAGCCAAATGCACAGCCATTG-GCTAGCAGGGGAAACCAAAAAGACGCCCCTCGATCTGGCGGTGCGCTAGCCACGCCCGATT-GAGATTACCA-GGCCAGTAGCGGGAGTACCGACCTCGTCAC-GGCTAGACGGCTGGCTGAAGGGTGCCTGGTCGGTTCGGCCAGCTTACCGGGCAGACCGGCAACCCGATCGCGCTAACCGGGGCCTGACCGCGAGCACGGTTCGCTACGACGAGCAAAGGGAACTTCGCGCCGCGTCTCGTCGCATCAGAGCAGACGGCCGAGCTGGCACGCCCGCTGCGGACAGGTTTGCGCGGG-CACGCTAAGTAGTTAGGACTCATTTCGCGTAGGGGACGGGCGCTCGGTAGACTCTAGGTGATGTCATCTC-TCAGCCACCAGCGGTCGGCATCAAGCAGAGGCCAGTGAGGGTGCCCTGCGCGCCTACGTCGGTGCAAC-GCGTCATGTCACCGCGATCAGTAGG-CGTGCCGTCGGGTTACATTCT-TGTG-ATTCTTCAACCCCCAGGAGCTGCACGACCTGTGGGCTTCCTGTC-GACTCCGGTGACCGGTCCGCGCCCCCTGCCGGCTCCTCTGTCGGACGCAACGGGGGATT-GGAACCCACGTAGTTGG-GACGTGTTTCGCGCAATGCCACCAGCACCTAGGAGGTCCTTTCGAAGTTCGTTAATCGCCCCTCGGT-CTGGCCTCCATTCCCGTAGCGTTAGACGGTCTCGTGCGGTACGTCACTCA-GATACCCCTGCATGACTGGTGGTGGTATCGACTTGG-CAGGGCACGGTTAAGCCTGCGTAGGGCGTGCCGCGGCCGCAAGCATCCCATACGTGGGGCTCCCTAGCGTCCCTGCAG-GGGGCCTTGACAAGGTTGCGTGGGATAAC-AAGACCTAACAGCTACTCCGCCTCGGGTTGTAGCACACGGGCAGGGGGAGGGACGGATGGCTTCCCGCCCCAGGTGCTCCCATTCGGT-CGTGGAGTGGCATATCGCTGCCTCGCCG-CTCGCACATC-CGCGGCTTTTGACGCTCACCTCAGTGCCCTTAGACTATACGAAGGGGGCAATATAGGTCCGTGGATGGACGCCGATCGCAGGCCGTCGGTAATCTATGCCCGTACGGCTCAGGCCCGGACGGAGATACGGCATCCCCGAGGGCCGGTCCCAGCTCTTGAT-ACCCCATGAAAAATTAGGCTTTCCTCACAAGTCTATCGG--GCCCATTGCCCGTTGGTTTTCGAGGCAACATTGGTGGTCCGCGTACGGAGCATTGTTCCCGGCGGGAAGCCCGGGCTTGCGGCTCCATGATGTACGGCTTTCGGCGAAGTGGCGCAGGTCAGCAGGCTCACTGATGAGCCCGCGGGAGGTGACACAGGGTG-GAGCCCAGAGCTCTGTGAAGCTTTCCCGTTCTGCATGCCTTGCGGTGCCCGGTTCACGCCCTATGCGAA-CTTCGACGGGATATTCGTTTTAGGGGCGCCAGGCTCTCAACGTCGACCTACAGCACTACACTCGCATGGCTGCGCTCCAGCCAGAGTGGCTTACGACGCAACAGTATACCCGTCCGGCGGCCTCCA',\n",
       " '----------------------------------------------------------------------------------------------------------------------------------------------------------------------------------------------------------------------------------------------------------------------------------------------------------------------------------------------------------------------------------------------------------------------------------------------------------------------------------------------------------------------------------------------------------------------------------------------------------------------------------------------------------------------------------------------------------------------------------------------------------------------------------------------------------------------------------------------------------------------------------------------------------------------------------------------------------------------------------------------------------------------------------------------------------------------------------------------------------------CGCTTGGTCAGACCGCACTACTGGCGCCGTTGGGGGGCCTAAGCAGAGGCAGCGTGAAGCTCCTCATGGCATTCGACGGGCTGTGAGCGGAGAGTGCCTGCCGCGATGCTAGAGCTCTCGCGGAGGTAAAGGCCGCACACGGTAGGTGGGCCGGCGTTCACACATCCGATGTGAGGGGGGCTGCATACGTACCCCGACGCATAGACGCAAACAATGTGCCCATTAACAGT-CAATAGTCGCACCCCCGGGGTGCCATGTGGCTGAGACTGAGCAGGGTCCTCCTAGCACCCTCCCGGAGGATTCCACGGTGCGCCAGATAGCGTTCCCGGCAGGACTGGGCCGGTCGCCAGGAGCGGTCACTTGCGGAGTCGTTCGAGTGCGATGTCCGAGATACCTATGTTGAAAGTCCCTCGAATACCCATAAGCTAGGTGGGTGATCTAGCCGGCCAAGCGCTTGAGTTACGTTGCGCAAGCAATACAAGGCGCTGGGGCTCATGTACTGCTTTCTTCGCCTGAGCAGACCACTGATCGTTGCCAGCTGGCCGGGTAGAACTCGCGGGGGGTTTCCGCATACCGGTGCAAAAGCCGCTGTGAGCCAGTCTCTCCGCCGAGCCGTGCTCCAACCTCAGGCTCCTAGCTCGGCAAAAGCCGTGGGCTCCGATACATCCAATACACGCACGCCCGTTGTGGTTTGACCGGTTGCAGATGGGGTGCGGAGGCGGCCCCGTTCCCCCCGCTTCACGGGGTAAGATACGACGGCAGATAGCAGCTACCATTTGGCGGTGATGCCTTTCGCTCTAAGCCGCCTGACGGAGATCTT-AACAGGAGTCGCGTGGCTCGCAAGGAGGCAGAGTGACTCGACCATTGGTCAGCCCCCGCGCTGCGCTCGGCCGGTAAGCAGCGAGGTCCCCATCCTTGCGCAAGGTGGATGGTATGCCATGGTTCCTCCAGGCAGAGGGCCCCTTCGTAGCGATTCCGCCTTGGCACTTGCGAACACGGGAAACCCCAAGTCACTCGCGGGAAGGATCTGTTGCGTCTGGACGGGAGGATTTACGCCGTCTACGAGCGCAATACGCCATTGTCAAGGGCACGGGAGAGGCGGTTAAGA-TTATCCCTCACGAGGACGAGACGATTGCGGACCAGTTGGTTAGAAGCAGGTATTGGCGGTGGGCCGCCGCGAGGCTTCCGCACGGTCGCAGTGACATCGATCGACCCAAGGCTCGCATCGAACCAATTCCGGGCCGGGTACGCACGAGAGGAGAGAAGCATGAAGCGCCATAGGTCCTACTCGCGGAGCGCTCGTGCAGTCATAGGGGTGGCTGGCCCCTCCCGGGGGCAC-TTCTCGGATCAGCTCGGTGTCGTAAGAGCCTGCAGTTAGCGCCGATCATGTGTGCCTAAGACGGGAGATGGGCAGGCATTGATTAGGGTCGGCATTGCAATCCGAGTCGCCCACGGCCGGAACCGCCCTCCGAAAGCGAGGCTCCTAGGCACTTGCAGGCCTGCAGACTGCGGTAAGCAAATAAGGCTCGACTCTGTTGGGCCCAGGGCGTTCGGGGGTACACATTAAGCAGGAGGTCAGACTCACACATGTCCAAGATCAGGGTGCGTGCAATTATTGTTGGCGCGGCCTCTGACGGACCAAGCGTGTGAACTATTGTGGGCTAAGTCGGGGCCGGA-ATTGCTCACTCCGCGGAGATATCCGTTGTTTCGAGG-CGTTCGGTATAGCGCGACGAGCATCCGGTGGATTAACCGCATTACGCGTTCTTTCTGCGTCCGCCGACACGGGTCAGTGCGCAACGACACCGGTAGCTTTCACATCGAATTCAGTGACCACCTATAGGCCTGCCTGGGCCGCCGGGCCCTGACGCACTCTGAGATCATCCGGGCGGTCCAGCCACGGGCTACCGCCGACGCGGTGAGTCTATCCCTGGCTTGCCAATGGTTTGACGGGAACGCTACACCTGC-TCTCGTGACTCCCCCTCTTGCCGTCAGTGTCTAACCATGGGAAGGGGGGCTGGCGGTGGGTTGTAGCATAAGAATGGATCTAATGGCCCGCGCACTGGGGGTTCGAACAGTGGGACCGACGGGGGGGCCTCCGACGCGGATCCAGGGGCAGCCTTACCAGGGTATCGATTCCTGTACCCTTCTCGTTGTGCCAGCGATGCTTAAGCGAC-ACTTTGGCGATGACCCGGGGCTGATGGTGATCGCAGTCGGTCACTCCTCCCACAGGAAAACAGTGAAGGCGCCTGCGGGGTTCGCCACGCCCTCACCCGCCATTACAACGGGGTTTTGTACTCTGACCCGCCGCGTCACGGTCCACCAGCCAGGCCAAAGGT-ACCCCGAGCCTGGACTCACGCCCACAACCAATCCGGGGAAGCGGATCGTGTTCCTACGGTTCTGACGCCGCTCACGTGACGCCGTTGCACGATCCCTATTTTTGGGCTCCCGGCTGCCACCCGGTTTGTCCTGTCCTTCGCTCCGTAAGTCGAGCACCTATGCTGTCGAGATGGCCCGCCCTTGAGGGTTACCAAGGGGCGTTTAGTTTTTTCCTGTAGGGGTAGCCCAGGGCTTGCCTCCTCCCAAAGCTAGATTCTTGCCCCAGGCAATTGCGGTGAGACCTGAAGCGTTCGTAGCCATCCATCCTGCT-GAGTGGACTGCCGGCCCTCTGGCAACGGGACGCGCCTCCGCCCCTGGCACGCGGAATCCTCGACCGCCCAAGGCGGAGGCAGCGTGTTCGTGCCCCGGTTCCTCCGACATGCGCGCCACATACCCGCCGCCCGTGTCTTAGTATGAGGCGGGCGGAACCCCCT-ATATGGCACCGCTTGGCAGTGCCCGATCTCACGGCGCCGGCCAGGGTCAAGTGGGCCGCGTGCGGCGGACGTTCCCCAACACCCCAGACCGTTTAGCGGTTTGAGCTACGTTATTGGGGAGTGCGACGAACCTCAGGCTGTGTATCAGATACCAACGTGCGCCCGGGATGAGATCGGAGGGGGGATAGGGTATGGATTGT-GGAGGCTTCTGACATGAGTCATGCTTACGACCGAACCTCTGCAGACGGTCCAGCGACGCCAATGACT-CACTGGCCTGCGCGTCTGACTGGAACTCGGAGGCCCCCGCAATG-CCATTCAGGCGGTATAGCGTGTTCTGGCAGCTGTGATGGTGACCTCAACTGAGGCTCCTCAAGCAGAGGTTATTGAGTGCCTGTAGTGCCGGTTGTCGACCGCCTTAAACTCCTAGGCCTCCTTTCCCGAAGGGCTGCGACTCCACTCGGTACGGCATGTAGA-ACTGGGTATGGGGGACACCACCCGGCACTCTCGTAAGCGTTCGGCCTCGCCAGCATGGACTCATCGTGAAGCATCCGTTCAGGCTGAGGTGCACACCGGGGAGACAAGTAGCTTGGCTCGGATCACGAAGTTTTCCGTTCAAATGCGCCCGTAATGTCCGGAATTTGGGCACGAGCAGGGTGTCAAGATCGGTTGCCCAAGTGAGCCTGACCAGCGAATGTACGTCCAACCGTGGTTCCAAGCGCTTAATTCGACTCTCTCATCAAACCCGAGTACCGGCCGACAGGAGCGGTCAACTTTGCAACCTCTCCCGGTCGCCCCCGCCGGGTCGGTTGATCCAATTCAACCCCTTCGGCGGGCGATGGGGAACTCTGAGCATCGAAGGCGGCATTCCGCATTTTACCGTTACTGCGATCGGCCTGTGTCCAAAGCACCCACCCCTGCGGAGGCGCCTTACACAGATAAGGTGTGAGGGGACATTGCTAATCAACGACTGCATCTAGGTCGAGTAACCCGAAACATTGGGCGGGCGTCCGAGCGCCCTGCGACGGCGGGTGGGTCTGGTCCCCCACGTCCGTCTGCCTGCGGACCAGCAGACTTTGCGGTTGACCTGGTCGTTCGGGCTTGCCCGTGACGATGGAGGGTTCCAGCATGAACGCGTATTCCGGGCAGATACAGCTGCCGGCGTAAGGGGG-GAAGGGGCACACTTGTCCACCCCAGCCCTGTGCACATACTCACCGGACCT-GGCCACCGAACACCACGCCCCCGCGTCATACCCCTATGTACCATCGAAGACGATGAGGGGTACTTAGACGTCCAGAGGCACCCACCTGTCGTGGAGAGCACGTGCTGCTGTCGGGACCACGCACCCGCAGGGAGCCGTGATTTCCACAAAAGTAATGCGTAGCCCGGGCCTCTTCACAGGTGAACGTAGCTCGGCGCCCCCCGGATGTATGCTTAGGCGAAGGATCAGGTACAAGCACATT-GGAATTGTAACTAGGAGAAGGTGGCGTCGCCTCGCTCATCAAGGTTGTGGGTGACCCAGTCTAG-TATCCGTCTACGATGTATATTCTCG-CACGCTCTACATGAACACTGTGATGGTGAACCCAAAGGGTTGGCGCGGGACTAACTGGTGCTCCGTT-CCGCGTCGCCGTCAATTCGAGTCGGCATGGCAGGGACCAGAGAAGTCCGCCGGCCAGCGGAGCGATACCGCTCTTCCCAGCAG-ACAGCACGGTCGGATTGACTTGGAAAAGGACATCTATAATCACACTCGTCGCGGGACCCGCTAGGCGCCGGGTCTTAGGATCGCTACGCCAGTACCT-ACATAGGGCCCGGCGTTATGACCGGTCGCAGACGAGCTCTCGGGGCAGGCGGGGTCGCAGGCAGCCAAAT-CACAGCCATTGGGCTAGCAGGGGAAACCA-AAAGACGCCCCTCGATCTGGCGGTGCGCTAGCCACGCCCGATTCGAGATTACCACGGCCAGTAGCGGGAGTACCGACCTCGTCACGGGCTAGACGGCTGG-TGAAGGGTGCCTGGTCGGTTCGGCCAGCTTACCGGGCAGACCGGCAACCCGATCGCGCTAACCGGGGCCTGACCGCGAGCACGGTTCGCTACGACGAGCAAAGGGAACTTCGCGCCGCGTCTCGTCGCATCAGAGCAGACGGCCGAGCTGGCACGCCCGCTGCGGACAGGTTTGCGCGGGCCACGCTAAGTAGTTAGGACTCATTTCGCGTAGGGGACGGGCGCTCGGTAGACTCTAGGTGATGTGATCTCCTCAGCCACCAGCGGTCGGCATCAAGCAGAGGCCAGTGAGGGTGCCCTGCGCGCCTACGTCGGTGCAACCGCGTCATGTCACCGCGATCAGTAGGTCGTGCCGTCGGGTTACATTCTTTGTGAATTCTTCAACCCCCAGGAGCTGCACGACCTGTGGGCTTCCTGTCA-ACTCCGGTGACCGGTCCGCGCCCCCTGCCGGCTCCTCTGTCGGAC-CAACGGGGGATTCGGAACCCACGTAGTTGGGGACGTGTTTCGCGCAATGCCACCAGCACCTAGGAGGTCCTTTCGAAGTTCGTTAATCGCCCCTCGGTGCTGGCCTCCATTCCCGTAGCGTTAGACGGTCTCGTGCGGTACGTCACTCAGGATACCCCTGCATGACTGGTGGTGGTATCGACTTGGCCAGGGCACGGTTAAGCCTGCGTAGGGCGTGCCGCGGCCGCAAGCATCCCATACGTGGGGCTCCCTAGCGTCCCTGCAGTGGGGC-TTGACAAGG-TGCGTGGGATAACTAAGACCTAACAGCTACTCCGCCTCGGGTTGTAGCACACGGGCAGGGGGAGGGACGGATGGCTTCCCGCCCCAGGTGCTCCCATTCGGTACGTGGAGTGGCATATCGCTGCCTCGCCGCCTCGCACATCGCGCGGCTTTTGACGCTCACCTCAGTGCCCTTAGACT-TACGAAGGGGGCAATATAGGTCCGTGGATGGACGCCGATCGCAGGCCGTCGGTAATCTATGCCCGTACGGCTCAGGCCCGGACGGAGATACGGCA']"
      ]
     },
     "execution_count": 48,
     "metadata": {},
     "output_type": "execute_result"
    }
   ],
   "source": [
    "for i in range(len(triple_seq)):\n",
    "    triple_seq[i] = list_startpos[i] * '-' + triple_seq[i]\n",
    "triple_seq"
   ]
  },
  {
   "cell_type": "code",
   "execution_count": 49,
   "metadata": {},
   "outputs": [],
   "source": [
    "write_seq_in_file_with_length('simlord_with_cigar_right.fasta', triple_seq, 0, 0)"
   ]
  },
  {
   "attachments": {},
   "cell_type": "markdown",
   "metadata": {},
   "source": [
    "Сравнить с ХММ драфтовые консенсусы \n",
    "Выровнять на драфт\n",
    "полировать с помощью arrow\n",
    "Сделать свою полировку"
   ]
  },
  {
   "cell_type": "code",
   "execution_count": null,
   "metadata": {},
   "outputs": [],
   "source": []
  },
  {
   "cell_type": "code",
   "execution_count": null,
   "metadata": {},
   "outputs": [],
   "source": [
    "\n",
    "list_rand_seq = []\n",
    "list_rand_seq.append(reverse_complement(consensuss))\n"
   ]
  },
  {
   "cell_type": "code",
   "execution_count": null,
   "metadata": {},
   "outputs": [],
   "source": [
    "list_rand_seq"
   ]
  },
  {
   "cell_type": "code",
   "execution_count": null,
   "metadata": {},
   "outputs": [],
   "source": [
    "write_seq_in_file_with_length('random_compl.fasta', list_rand_seq, 0, 0)"
   ]
  },
  {
   "cell_type": "code",
   "execution_count": null,
   "metadata": {},
   "outputs": [],
   "source": [
    "\n"
   ]
  },
  {
   "cell_type": "code",
   "execution_count": null,
   "metadata": {},
   "outputs": [],
   "source": [
    "muscle('consi.fasta', 'cons.fasta')"
   ]
  },
  {
   "cell_type": "code",
   "execution_count": 41,
   "metadata": {},
   "outputs": [],
   "source": [
    "import re\n",
    "\n",
    "sequence = []\n",
    "cigar = []\n",
    "\n",
    "with open(\"myreads.sam\", \"r\") as sam_file:\n",
    "    for line in sam_file:\n",
    "        if line.startswith(\"@\"):  # пропускаем заголовочные строки\n",
    "            continue\n",
    "        parts = line.strip().split(\"\\t\")\n",
    "        sequence.append(parts[9])  # получаем последовательность\n",
    "        cigar.append(parts[5])  # получаем строку CIGAR\n",
    "        # далее можно использовать код, приведенный в предыдущем ответе, для обработки строки CIGAR и получения результирующей последовательности"
   ]
  },
  {
   "cell_type": "code",
   "execution_count": 42,
   "metadata": {},
   "outputs": [
    {
     "name": "stdout",
     "output_type": "stream",
     "text": [
      "CTATAGTTCAACCGCCGCAAGGCGCAGTGCGCGCGTGATGCGTCGTTGCGACCGGCCGCCTCGGCAGTGACTCATCCGGTTGAGCGCGGAGCCCAGCGTAGCGCACGGCGATGACGTTCCCGCGATGTACTCTCACTGAGGACGCGCACATCCCGCTGGGGCCACCTATCCCTTAACTGCAGCGCAATGTAATCGCATCCGTACGATGTGTTTCTGACCACCCACTCGCTTGGGCGGACGTCCCGTTGTCCTTTCCCCGATCAAGCTGCGTTCACTACTTCGTAGACATGAGTACCCGGGGCCCGCTCTCTTCCCCATCGGCCTAGCCCCTCTCGGAACCCCGCACATGACGCGTAACAGGGCCGGTGCGGGCTACCACAGCTGGCAGAGCTACGAAGCGCCGGAGCCCACACCGTTCCCACCCGGTCGCGCGGATGCAGCACCCATCTATGCTTCAGCATGTGGTTAGGATACCCAACTATGTACTAAAGTCCGCCCGGTGGACAAAGTAGGGGTAGGTGCTGCTGAAAAGACAAATCCTGTTGCGGGGAGCCTCAGTAAGTGCTTGACCTGGAAATGTGGTGCTAGCTTAGTCCAAGGCGGAACGCCCCTGGGGACCCTATCCGGACGTGCGACCTTCCGGATGATGACATTACCTCGCGATCTCACAGAAGCCGCCGGACACGCCGCGCCTGGCTTCAGACCCACTACTGGCCCCGTTGGGGGGCCATAAGCATGAGGCATGCGGTGAAGCTCCTCATGGGGTCATTCTGACTGGTGTGAGCGGAGAAGTGCCTGCCGCGATGCTAGAGCTCTCTCGGAGGTAAAGGCCGCACACGGTAGGGTGGCCGGTGTTCACAGCACCGATGTGAGGGGGGCTGCGTAACGTACCCCGAACGCGCATAGCACGCAAGACAATTGTGCCCATTCACAGTCGCAATAGGCCACACCCGGGGTAGCCATGTGGCTGGAGACTGAAGCAGTGTCCGTCACTAGCACCCTCCGCAGGAGGATTCACGTGCGCCTAGATAGCGTTCTCCGGCACGGGCTGGGCCGGTCGCCAGTGAGCGGTCACGTTGCGAGTCGTTCGAGTGCGATGTCCCGAGATACCTATGTTGAAAGTCCCTCGAATACCCATAAGTCTAGGTGGGTATCTAGCCGGCCAAGCGCTTTGAGTTACGTTGCGCAAGCAATACAAGGCGCTGGGGCTCATAGTACTGCTTTCTTCGCCTGAGCAGACACAACTGATCGTTGCCAGGCTGGCCGGGTAGAACGCGCGGGGGGTTTCCGGCATACCGGTGCAAAAAGCACGCTGTGAGCCAGTCTCTCCTGCCGAGCCGTGCTCCAACCTCAGGCTCCCTAGCTCGGCATAAAGGCCGTGGGCTCCGATACATCCAATACACGCACGCCCGTTGTGGTTGACCGGTTGCAGATGGGGTGCGAGGCGGCCCCGTTCCCGCCCGCTTCACGGGGGTAAGATACGACGGCAGATAGCAGCTACCATTTGGCGGTGATGCCTTTCGCTCTAAGCCGCCTGACGGAGATTCTTAAACAGGAGATCGCGTGGCTCGCAAGAGGCAGAGTGACATCGACCCATCTGGTCAGCCCCCGCGCTGCGCCGGCCGGGTAAGCAGCGAGGTCCCCACCCTTGCGCAAGGTGGATGGTATGCCCATGGTTCCTCCAGGCAGAGGGCCCCTTTCGTAGCGATTCCAGCCTTGGCACGTTGCGAACACGGGAAACCCCAAGTCACTCGCGGGAAGGATCCGTTCGTCTGGACGGGAGGATTTACGCGCGTCTACGAGCGCAATACGCCATTGTCAAGGGCACGGGAGAGAGCGGTTAAGGCTTCATCCCTCAACGAGGACGAGACGATTGCGGCCAGTTGGTTAGAAGCAGGTATTGGCGGGTGGGCCGCCGCGAGGCTTCCGCACGGTCGCAGTGACATCGATCGGACCCAAGGTCTCGCATCGAACCATATTCCGGACCGGGTCTCGCACGAGAGGAGAGAAGCATGAAGCGCCATAGGCGTCCTACTCGCGGAGCGCTCGTGCAGTCATAGGGGGTGGCTGGCCCCTCCCGGGGGCACGTTCTCGGATCAGCTCGGTGCTTGTTAAGAGCCTGACAGTTAGCGCCGACATGTGTGCCTAAGGACGGGAGATGGGCAGGCATTTGATTAGGGTCGGCATTGCAAATCCGAGTCGCCCACGGCCGGAACCGCCCTCCGAAAGCGAGGCTACCTAGGCACTTGCAGGCCTTCCAGACTGCGGTAAGCAATATAAGGCTCGACTCTGTTGGGCCCAGGGCGTTCGGGGGTACACATTAAGCAGGTAGGTCAGACCTCACAATGTCTCAAGATCAGGGTGCGTGCCAACTTATTGTTGACGCGGCTCTGACGGACCAAGCGTGTAGAACTATTGTGGGCTAAGTCGGGGCCGGAGATTGCTCACTCCCGGAGAGTATCCGTTGTTTTCGGGTCCGTTCGGTATAGCGCGACGAGCATCCGGTGGAGTTAACGCATTACGCGTTCTTTCTGCGTCCGCCGAACGGGTCAGTGTCGCATACGACACGCGGTAGCTTTCACATCGAATTCAGTGACTCACCTATAGGCCTGCCATGGGCCGCCGGGCCCTGACGCACTCTGAGAATCATTCCGGGCGGTCCAGCCACGGGCTAACCGCCGACGGCGGTGAGTCTATCCCTGGCTTGCCAATGGTTGACGGGAACGCTACACCTGCATCTCGTGACTCCCCCTCTTGCTCGTCAGTGTCTAACTCATCTGGGGAACGGGGGGCTGGCGGTGGTGTTGTTAGCATAAGAATGGGATCTAATGGCCGCGCACCTGGGGGTTCGAACAGTGGGACCGACGGGGGGCCTCGCGCGGATCCAGGGGCAGCCTTAACCAGTGGTATCGATTCCTGTACCGCCTTCTCGTTGAGTGCCAGCGATGCTTAAGCGACGACTTTGGCGATGAACCCGTGGGTGATGGTGATCGCAGTCGGTCACTCCTCCCCACAGGAAAACAGTGAAAGGCGCCTGCGTGGGTTCGCTCAACGCCCTCACCCGGCCATTACAACGGGGTTTTGTACTCTAGGACCCGCCGCGTCACGGTCCACCAGCCAGGCCAAAGGTCACCCCGAGCCTGGAACTCAACGCCCACAACCAAATCCGGGGGAATGCGGATCGTGTTCCTACGGTTCTGACGCCGCTCACGATGACGCCGTTGCACGATCCCCTTATTTTTGGGCTCGCCGGCTGCCACCGGTTGTGTCTGTCCTTCGCTGCCGTCAAGTCGAGCACCTATGCTGTCGAGAGGCCCGCCCTCTGAGGGTTACCAAGGGGCGTTTAGTTTTTTCCTGGTAGGGGTAGCCAGGGCTTGCCTCCTCCCAAAGCTGAGATTCTTGCCCCAGCGCAATTGCGGTGAGACCTGAAGCGTTCGTAGCCATCCATCGCTGCTCGAGTGCGACATGCCGGCCCTCTGGCAACTGGGACGCGCCTCCGCCCCTAGGCACGCGGAATCCTCGACCGCCCAAGGCGGAGGCATGCGTGTTCGTGCCCCGGTTCCTCCGACATGCGCCCACATACCCGCCGGCCCGTGTCTTAGTATGAGGCGGGCGGAACCCCCTTCATGATGGCATCCGCTTTGGCAGTGCCCGATCTCACGGCGCGGCCAGGGGTCGAGAGATGGCCGCGTGCGGCGGACGTTCCCCAACACCCCCAAGAACCGTTTGCGGTTTGAGCTACGTTATGGGGAGTGCGACGAACCTCAGGCCTGTGTATCAGATACCAACGTGCGCCCGGGATGAGATCGGAGGGGGGATAGGGTATTGGATTGTCGGAGGCTTCTGACATCGAGTCATGCTTACGACCGATACCTCTGCAACGGTCCAGCGACGAAATGACTACACTGGCCTGCGCGTCTGACTGGAACCTCGGAGGCCCCCGCAATGCCCATTCAGGGCGGTATAGCGTGTTCTGGCAGCTGTATGGTGACCTCAACTGCAGGCTCCTCAAGCAGAGGTTATTGAGTGCGCTGAGTGCCGGTTGTCGACCGCCTTAAACACTCCTAGGCCCTCCTTTCCCGAAGGGCTGCGGACTCCACTCGGACGGCATGGTAGACACTGGGTATGGGGGACACCACCCGGCACTCTCGTAAGCGTTCGGCCTCGCCAGCATGGACTACATCGTGAAGCCATCCGTTCAGGCTGAAGGTGCACACCGGGGAGACAAGTAGCATTGGCTCGGATCACGAAGTTTTCCGTTCAAACTGCGCCCGTAATCGGTCCGGAATTTGGGCACGAGGCAGGGTGTCATAGATCGGATTGCCCAAGGCTGAGCCTGACCAGCGAATGTACGTCCAACCGTGGGATTCCAAGCCTTAATTCGACTCTCTCATCAAACCCCGAAGTACCGGCCGACAGGAAGCGGTCAACTTTGCAACCTTCCATCCCGGTTCGCCCCCGCCGGGTCGGTTGATCCAATATCAACCCTTCGGCGGGGATGTGGGAACTCTGAGCATCGAACAGGCGGCATTCCGCATTTTACACGTTACTGCATCGGCCTGTGTTCCAAAGCACCCACCCCTGCGGAGGCGCCTTACACAGATAAGGTGTGAGGTGGACATTGGCTAATCAACGACTGCATCTAGGTCGAGTAGAACACTCGAAAACATTGGGGCGGGCGTCCGAGCAGCCGTGCGAGGGCGGGTGGGTCTGGTCCCCCACGTCCGTCTGCCTGCGGACCAGAGACTTATTGACGGTTGACCTGGTCGTTCGGCGCTTGCCCGTGACGATGGAGGGTTCAGCATGAACGCGTATTCCGGGCAGAACAGCTGCCCGGGCGTAAGGGGGGTGAGGGGCACACTTGTCCACCCCAGGCCCTGTGCACATACTCACCGGACCTTGGCCACCGAACACCACCGGCCCCCGCGTCATACCCCTATGTACCCCGATCGAAGTACGATGAGGGGTACTTTAGACGTCCAGAGGCACCCACCTGCGTGGCAGAGCACGTGCTGCTGTCGGGACCACGCACCCGCAGGAGCCGTGATTTCCACAAAGAGGTAATGCGTAGCCCGGGGCTACTTCACATGGTGAACGTAGCTCGGCGCCCCCCGATGTACTGCTTAGGCGAAGGATCAGGTACAAGCACATTTGGAATTAGTAACTAGGAGAAGGTGGCCGTCGCCTCGTCTTCATCAAGGTTGATGGGTGACCCAGTCTAGCTATCCGTCTACGATGTATATTCTCGGCACGCTCTACATGCACACTGTGATGGTTGAAGAACCCAAAGGGTTGGCGCGCGGGACAACTGTGTGCTTCACGTTTCCGCGCGCCGTCCATTCGAAGTCGGCATGGCAGGGACCAGAGAAGTCCGCCGGCCAGCGGAGCGATACCCGCTCTTCCCATGCAAGGACAGTCACGGTCGGATTGACTTTGGAAAAGGACTATCTATAATCCACACTCGTCGCGGGATCCACGCTAGTCGCGGGTTCTTAGGATCGCTACGCCAGTACCGTAACATAGGGCCCCGCGTTATGACCGGTCGCAGACGAGCTCTCGGGGCAGGGGGGTCGTAGGCAGGCCAAATGCACAGCCATTGGGCTAGCAGGGGAAACCAAAAAGACTGCCCCTCGATCTGGCGTGTAGCGCTAGCCACGCCCGATTCGAGATTACCACGGCCAGTAGCGGAGTACCGACCCTCTGTCACGGGCTAGACGGCTGGCTGAATGGTGCCTGGTCGGTTCGGCCAGCTTACACGCAGGCAGACCCGGCACACCCGATCGCGCTAACCGGGGCCTGACCGCGAGCACGGTTCGCTACGACGAGCAAAGGGCAACATTCGCAGCCGCGTCTCGTCGCATCCAGAGCAGACGAGCCGAGCTGGCACGCCCGCTTGCGGACAGGTTTGCGCGGGCCACGCTAAGTAGTTAGGACTCATTTCGCGTAGGGGCACGGGCGCTCGGTGACTCTAGGTGATGTCATCTCCTGCAGCTCACCAGGCGGTGCGGCATTCAAGCAGAGAGCCAGTGAGGCGTGCCCTGTCGCGGCCTACGTCGGTGCAACCGCGTCATTGGCACCGGCGAGTCAGGTAGAGTCGTGCCGGTTCGGGTAACATTCTTTGTGAACTTCCTTAACCCCCAGCGAGCTGCACGACCTGTGGGCTTCCCTGTCAGACTTCCGGTGACCGGTCCGCGCCCCCTGCCGGCTCCTCTGTCGGACGCAACGGGGGTATTCGGAACCCACGTAGTTGGGGACGTGTTTCGTCGCAATGCCACCAGCACTAGGAGGTCCTTTCGGAATGTTCGTTAATCGCCCCTGCTGGTGCGTGACCTCCATTCCCGTAGCTAACGGCTCGTGCGGTACGTCACTCCAGGATACCCCTGCATGACTGGTGGGTGGTAGTCGACTTTCGGCCAGGGCACTGGGTTAAGCCCTGCGTAGGGTCGTGCCGGGCCGCAGAGCATCCCATACGTGGGGCTCCCTAGCGTCCCTGCAGTGGGGCCTTGACAAGGTTGCGTGGGATAACTAAACCTAACAGCTACTCCGGCCTCGGGTTGTAGCAGCACGGGGCAGGGGGAGGGGACGGATGGCTTCCCGCCCCGGCGCTCCCATTTCCGGTACGTGGAGTGGGCATATCGTGCCGTCGCGCGCCTCGCACATCGCGCGGCTTTTGACGCTCACCTCAGGCTCCTTTAGACTATAACGAAAGGGGGCACACTATAGGGTCCGTGGATGGACGCCGATCGCAGGCCGTCGGTAAATCTATGCCCGTACGGCTCAGGCCCGGAGAGATACGGCATCCCCGAGGTGCCGGTTCCCAGCTCTTGATAACCCCATGAAAAATTAGGCTTTTCCTCACAAGTCGTATCGAGGGGCCTCCATTGCCCGTTGGTTTTCGAGGCAAACATTGCGTGGTCCGCGTACGGAGCATTGTATCCGGCGGGAAAGCCGCGGGCTTGCGGCTCCCATGATGTACGGCTTTCGGCGAAGTGGCGCAGGTCAGCAGGCTCACTGATGAGCCCGCGGGAGGTGACCACAGGGTGAGAGCCCAAGAGCTCTGTGAAGCTTTCCTGTTCTGCATGCCTTGCGGTGCCACGGTTCACGCCCTATGCGAACTTCGACGGGATTTCGTTTTAGGGGCGCCAGGCTCCTCAACGTCGACCTACAGCACTACACTCGCATGGACTGCGCTCCAGCCAGAGTGGCATTACGACGCAACAGATAGCCCGATCCGGCGGCCTCCAAGAATCTCTGACGTATCGCCTCAGGCGCCTACGTCAAGTCAGCCACGCCGTTATGAGGCGCGGTGAGCCGTCACAGGTCCAGGCCCCCAAGCAGCGCGGACTCCGGTCTTCGACCCCACCGGCTCCGGCGGGAAAAGTCGATACGAGTCAATACGGCACCCGCGGCCCGTTTCAATCCGTGTTCCCGGCTAGCGCCAGATTGCTTGTTGCATGGCGGCGAGAGCCCCAGAGACTAGACGGGGCGCCGCCAGAAGGGAATGGAGGCGCGCGCTCAGCTTTCTGTAGCACGACCTTCTGAGTACGCGCTTTCCGCGGGCAAAGCTAGGTTCGACCTCATTAGTACCGGCGTGACATGGGGGCCACAATAATCAGCGCGAGGGAGACCTGTCGCACCCGTGTGGACTAGCCAAAGCCTTGTGCTAAAGCTTACGCGGTGTGGTAAGGGAGACTGGATCTACCCCCCGATGACTCCTTGCTCCCAAAGAAACTCGATCGGCTAGAAGGCGACTCCGCCATCAGCTCGTGCGGAATCGACGAAGTTCAGACGGGGCTAGTCAACCCGACCTCTCATCGGCCAGCCACCCGTCATGCGTCGCGCAGGGAGACGGACGCTGCGGCCAAGTTTCCGTTTATCAGGAACC\n",
      "ATGCTTACGACCGAACCTCTGCAGACGGCTCCAGCGACGCCAATGACTACACTGGCCTGCGCGTCTGACTGGAACTCGGAGGCCCCCGCAATGCCCATTCAGGCGGTATAGCGTGTTCTGGCAGCTGTGATGGTGACCTCAACTGAGGCTCCTCAAGCAGAGGTTATTGAGTGCCTGTAGTGCCGGTTGTGCGACCGCCTTAAACTCCTAGGCCTCCTTTCCCGAAGGGCTGCGACTCCACTCGGTACGGCATGTAGACACTGGGTATGGGGGACACCACCCGGCACTCTCGTAAGCGTTCGGCCTCGCCAGCATGGACTCATCGTGAAGCATCCGTTCAGGCTGAGGTGCACACCGGCGGAGACAAGTAGCTTGGCTCGGATCACGAAGTTTTCCGTTCAAATGCGCCCGTAATGTCCGGAATTTGGGCACGAGCAGGGTGTCAAGATCGGTTGGCCCAAGTGAGCCTGACCAGCGAATGTACGTCCAACCGTGGTTCCAAGCGCTTAATTCGACTCTCTCATCAAACCCGATACCGGCCGACAGGAGCGGTCAACTTTGCAACCTCTCCCGGTCGCCCCCGCCGGGTCGGTTGATCCAATTCAACCCCTTCGGCGGGCGATGGGGAACTCTGAGCATCGAAGGCGGCATTCCGCATTTTACCGTTACTGCGATCGGCCTGTGTCCAAAGCACCCACCCCTGCGGAGGCGCCTTACACAGATAAGGTGTGAGGGGACATTGCTAATCAACGACTGCATCTAGGTCGAGTAACCCGAAACATTGGGCGGGCGTCCGAGCGCCCTGCGACGGCGGGTGGGTCTGGTCCCCCACGTCCGTCTGCCTGCGGACCAGCAGACTTTGCGGTTGACCTGCGTCGTTCGGGCTTGCCCGTGACGATGGAGGGTTCCAGCATGAACGCGTATTCCGGGCAGATACAGCTGCCGGCGTAAGGGGGTGAAGGGGCACACTTGTCCACCCCAGCCCTGTGCACATACTCACCGGACCTTGGCCACCGAACACCACGCCCCCGCGTCATACCCCTATGTACCATCGAAGACGATGAAGGGGTACTTAGACGTCCAGAGGCACCCACCTGTCGTGGAGAGCACGTGCTGCTGTCGGGACCACGCACCCGCAGGGAGCCGTGATTTCCACAAAAGTAATGCGTAGCCCGGGCCTCTTCACAGGTGAACGTAGCTCGGGCGCCCCCCGGATGTATGCTTAGGCGAAGGATCAGGTACAAGCACATTTGGAATTGTAACTAGGAGAAGGTGGCGTCGCCTCGCTCATCAAGGTTGTGGGTGACCCAGTCTAGCTATCCGTCTACGATGTATATTCTCGGCACGCCTCTACATGAACACTGTGATGGTGAACCCAAAGGGTTGGCGCGGGACTAACTGGTGCTCCGTTTCCGCGTCGCCGTCAATTCGAGTCGGCATGGCAGGGACCAGAGAAGTCCGCCGGGCCAGCGGAGCGATACCGCTCTTCCCAGCAGGACAGCACGGTCGGATTGACTTGGAAAAGGACATCTATAATCACACTCGTCGCGGGACCCGCTAGGCGCCGGGTCTTAGGATCGCTACGCCAGTACCTAACATAGGGCCCGGCGTTATGACCGGTCGCAGACGAGCTCTCGGGGCAGGCGGGGTCGCAGGCAGCCAAATGCACAGCCATTGGGCTAGCAGGGGAAAACCAAAAAGAACGCCCCTCGATCTGGCGGTGCGCTAGCCACGCCCGATTCGAGATTACCACGGCCAGTAGCGGGACGTACCGACCTCGTCACGGGCTCAGACGTGCTGGCTGAAGGGTGCCTAGGTCGGTTCGGCCAGCTTACCGGGCAGATCCGGCAACCCGATCGCGCTAACCGGGGCCTGACCGCGAGCACGGTTCGCTACGATCGAGCACAAGGGAACTTCGCGCCGCGTCTCGTCGCATCAGAGCAGACGGCCGAGCTGGCACGCCCGCTGCGGACAGGTTTGCGCGGGCCGACGCTAAGTAGTTAGGACTCATTTCGCGTAGGGGACGGGCGCTCGGTAGACTCTAGGTGATGTCATCTCCTCAGCCACCAGCGGTACGGCATCAAGCAGAGGCCCAGTGAGGGTGCCCTGCGCGCCTACGTCGGTGCAACCGCGTCATGTCGACCGCGATCAGTAGGTCGTGCCGTCGGGTTACATTCTTTGTGAATTCTTCAACCCCCAGGAGCTGCACGACCTGTGGGCTTCCTGTCAGACTCCGGTGGACCGGTCCGCGCCCCCTGCCGGGCTCCTCTGTCGGACGCAACGGGGGATTCTGGAACCCACGTAGTTGGGGACGTGTTTCGCGCAATGCCACCAGCACCTAGGAGGTCCTTTCGAAGTTCGTTAATCGCCCCTCGGTGCTGGCCTCCATTCCCGTAGCGTTAGACGGTCTCGTGCGGTACGTCACTCAGGATACCCCTGCATGACTGGTGGTGGTATCGACTTGGCCAGGGCACGGTTAAGCCTGCGTAGGGCGTGCCGCGGCCGAAGCATCCCATACGTGGGGCT\n",
      "TGAGCAGACCACTGATCGTTGCCAGCTGGCCGGGTAGAACGCGCGGGGGGTTTCCGCATACCGGTGCAAAAGCCCTGTGAGCCAGTCCTCCGCCGAGCCGTGCTCCAACCTCAGGCTCCTAGGCTCGGCAAAAGCCGTGGGCTCCGATACATCCAATACACGCACGCCGTTGTGGTTTGACACGGTTGCAGATGGGGTGCGGAGGCGGCCCCGTTCCCCCCCGCTTCACGGGGTAAGATACGACGGCAGATAGCAGCTACCATTTGGTCGGTGGATGCCTTTCGCTCTAAGCCGCCTGACGGAGATCTTAAACAGGAGTCGCGTGGCTCGCAAGGAGGCAGAGTGACTCGACCATTTGGTCAGCCCCCGCGCTGCGCTCGGCCGGTTAAGCAGCGAGGTCCCCATCCTTGCGGCAAGTGTGGATGGTATGCCATGGTTCCCTCCAGGTCAGAGGGCCCCTTCGTAGCGATTCCGCCTTGGCACTTGCGAACACGGGGAAACCCCAAGTCACTCGCGGGACAGGATCTGTTGCGTCTGGACGGGAGGATTTACGCCGTCTACGAGCGCAATACGCCATTGTCAAGGGCACGGGAGAGGCGGTTAAGGCTTATCCCTCACGAGAGACGAGACGATTGCGGACCAGTTGGTTAGAAGCAGGTATTGGCGGTGGGCCGCCGCGAGCTTACCGCACGGTCGCAGGACATCGATCGACCCAAGGCTCGCATCGAACCAATTCCGGGCCGGGTACGCACGGATGAGGGAGAGAAGCATGAAGCGCCATAGGTCCTACTCGCGGAGCGCTCGTGCAGTCATAGGGGTGGCTAGGCCCCTCCCGGGGCGCAGACGTTCTCGGATCAGCTTCGGTGTTGTAAGAGCCTGCAGTTAGCCGCCTGATCATGTGTGCCCTAAGACGGGAGATGGGCAGGCATTGATAGGGTCGGCATTGCAATCCGAGTCGCCCACGGCCTAGGAACCGCCCTCCGAAAGCGAGGCTCCTAGGCACTTGCAGGCCTGCAGACTCGGTAAGCAAATAAGAGCTCTGACTCTGTTGGGCCCAGGGCGTTCGGGGGTACACATTAAGCAGGAGGTCGTACTACACAGCATGTCCAAGATCAGGGTTGCGTGCAATTATCTGTGGACGCGGCCTCTCGAAGCGGACCAAGCGTGTGAACTATTGTGGGCTAAGTCGGGGCCGGAGATTGCTCACCTCCGCGGAGATATCCGTTGTTTCGAGGTCGTTCGGTATAGCGCGACGAGCATCCGTGAGGATTCAACCCGCATTACGACGTTCTTTCTGCGCCGCCGAGCACGGGTCAGTGCGCAACGACACCGTTACGCTTTCACATCGGAATTCAGTGACCGACCTAAGGCCTGCCTGGGCCGCCGGGGCCGCTGACGCACTCTGGATCCATCCGGGCGGTCCAAGCCACGGGCTACCGCGCGACGCGGTGAGTACTATCTCCTAGGCTTGCCAAGTGGTTTGACGGGAACGCTACACCTTGCATCTCGGTGACTCCCCCTCTTGCCGTCAGTGTCTAACCATGGGAAGGGGGGGCTGGCGGTGGGTTGCTAGCATAAGAATGGATCTAATGGCCCGCGCACTGGGGGTTCGAACAAGTGGGACCGACGGTGCGGGGCCTCGGAGCGGATCCAGGGGCAGCCTTAGCCAGGGGTTATACGATTCCTGTACCCTTCTCGTTTGTGCCACTGATGCTTAAGCGACGACTTTGGCGATGACCCGCGGGCTGATGGTGATCGCAGTCGGTCACCTCCTCCCACAGGCAAAACAGTGAAGGTCGCCTGCCGGGGTTACGCCACGCGGCCCTCAGCCGCCAGTTAACAACGGGGTTTTGTACCTCTGACCCGCCCGCGTCACGGTCCACCAGCCAGGCAAAGGTCACCCCGAGCCTGGACTCACGCCGACAACGCAATCCGGGAAGACGGATCGTGTTCCTACGGGTTTCTGACGCCGCTCACGTGACGCCGTTGCACGATCCCTATTTTTGGGCTCCCGGCTGCCACCCGGTTTGTCCTGTCCTTCGCTCCGTCAAGTCGAGCATCCTAATGCTGTCGAGATGCGCCCGCCCTTGAGGGTTAACCAAGGGGCGTTTAGTTTTTTCCTGTAGGGGTAGCCCAGGCTTGCCTCCTCCCAAAGCTAGATTCTTGCCCCAGGCAATTGCGGCTGAGACCTGGAAAAGCGTTCGTAGCCATGCCATCCTGCTCGAGTGCGACTGCCGGCCCTCTGAGCAACGGGTACGCGCCTCCAGCCCCTGGCACGCGGAATCCTCGATCCGGCCCAAGGTCGGAGGCAGCGGTTTTCGTTGCCCCGGTTCCTCCGACATGCGCGCCACATACCCGCCTACCCGTGTCTTAGTATGAGGCGGGCGGAACCCCCTTATATGGCACCGCTTGGCAGTTGCCCGATCTCACGGCGACCGGCCAGGGTCAAGTGGGCCGCGTCAGCGGCTGACGTTACCCAACACCTCCAGTACTCGTTTAGCGGTTTTGAGCTATCAGTTATTCGGGGGGAGTGCGACGAACCTCAGGCTGTGGTATCAGATACCAACGTGCGCCCGGGATGAGATCGGAGGGGGGATAGGGTATGGATTGTCGAGAGGCTTCTGACATGAGTCATGCTTACGACCGAACCTCTGCAGACGTCCATGCGACGGCCTAATGAAACTACAGCTGGCCTGCGCGTCTAGACGGAACTCGGAAGGCACCCCGCAATGCCCAATTGCAGGCGGACTCCATAGCGTGTTCTGGCAGTCTGTGATGGTGACCTCAAAGCCTGAGGCTCCTCAAAGCAGAGGTTATTGAGTGCCATGTAGTACCGGTTTGTCGACCGCCTTAAACTCTAGGCCTCCTTTTCCCGAAGGGTCTGCGACTCCACTCGGGGTACGGCATGTAGACACTGGGTATGGGGGGGCACACCAACCCGGCACTCTGAAGCGTTCGGCCTCGCCAAGCATGGACCTCATCGTGAAGCATCGCTGTTCAGGCTGAGGTGTCACACCGGGGAGACAAGTAGCTTGGCTCGATCACGAATGTTTTCCATTAAATGACGCGCCTGTTAATGTCCGGAATTTGGGCACGAGCAGGTGTGTCAAGATCGGTTTGCCAAGTGAGCCTGACCAGCGGAATGTACGTCCAACGCGTGGTTCCAAGCGCTTAATTCGGACTCTCTCTATCAAACCCGAGTACCGGCCCGACGGAGGCGGTCAACTTTGCAACCACTCTCCCGGCGCCCCCGCCGGGTCCGGTTGATCCTAATTCAACCCCTCGGCGGGCGATGGGGAACTCTGAGCATCGACAAGGGCGGCATTCCGCCAATTTTACCGTTACTGCGATCGTGCCTGTGTCCAAAAGCACCCACCCCTGCGGAGGCGCCTTTACACAGATAAGGTGTGAGGGGACATTGCTAATCCACGACTCGCATCTAAGGTCGAGGCTAACCCGAAACATTGGGCGGGCGTCCGAGCGCCCTGCGGACGGCGGGGGGTCTGGTCCCCCACGTCCGTCTGTCCTGGCGGACTCAGCAGACTTTGCGGTTGACCTGGCGTCTTCGGGCTTCGCCCGTGACGGATGGAGGTGTTTCCAGCATCAGAACGCGTTTCCGGGCAGATACAGCTGGCCGGCGTAACGGGGGTGAAGGGGCACACTACTTGTCCACCCCAGCCCCTGTGCACATACTCACCGGACCTTGGCCACCGAACACCACCGCCCCGGCGTCATACCACCTATGTACCATCGAAGACGAGAGGGGGTACTTAGACGTCCAGAGGCACCTCACCTGTCGTGGAGAGCACGTGCTGACTGTCGGGACCACGCACCACGCAGGGAGCGTGATTTCCAACAAAAGTAATGCGTAGCCCGGGCCTCTCTTCACAGGTGAACGTAGCTCGGCCCACCCCGGATGTATGCTTAGGGCAAGGATCAGGTACAAGCATCATTTGGAATTGTAACTAGGAGAGTGGCGTCGCCTCGCTCATCAAGGTTTGTGGGTGACCCCAGTCATAGCTGTTCGTCTACGATGTAATATTCTCGGCATCGCCTACATGAACACGGTGATGGTGAGACACCAAAGGGTTGCGCGGGACTAACTGGTGGCGTCCGTTTCCCGCGTCCGCCGTCACATTCGAGTCGGCATGGACAGGACCAGAGAAGTCCGCCGGCCAGCGGAGCGATACCGCTCCTTCCCAGCGAGGACAGCACGGATCGGATTGACTTTGGTAAAGGACATCTATAACACACTCGTCGCGGAGACCCGCTAAGGGCGCCGGGTCTTAGGATCGCTAACGCCAGTACCTAACATAGGGCCCGGCGTTATGACCGCGGTCGCAGACGCAGCTCTCGGGGCAGGCGGGGGGTCGCAGGCAGCAAATGCACAGCCAACTGTGGCCCAGCAGGGGAAACCAAAAAGACGCCCCCCGATCTGGCGGTGCGCTGAGCCGCACGCCCGATTCGAGATTACCACGGCCAGTAGCGAGGACGTACCACCTCGTCACGGGCTAGACGGCCTGGCTGAAGGGTGTGCCTGGTCGGTCTCGGCCAGCTTACCGGGCAGACCGGCAACCACGATCGCGCTAACCCGGGGCCTCGACCGCGAGCACGGTATGCGCTACAGTACGAGCAAAGGGAAACTTCGCGCCCGCGTCTCGTCGCATCAGCGCAGACGGCCGAGCTGGCACGCCCCGCTCGGACCAGGTTTGCGCAGGGCCACGCTAAGTAGTTTCAGGACTCATTATGCGCGTAGGGGACGGGCGCTCGGATAGACTTCTAGAGTGATTGTCATTCTCCCTCAGCCACCAGCGGTCGGCATCAAGCAGAGGCCAGTGAGGGTGCCCTGCGCGCCTACGGTCGTCGGTGTCAACCGCGTCATTGTCACCGCGATCAGTAGGTCGTGCCGTCGGGTTATCATTCTTTAGCTGAATTCTTTCAACCCCCTAGGAGCTGCACGACCTGTGGGCTTCCTGTCAGACTCCGTGGTGACCGGTCCGCGCCCCTCCCTGCCGGCTCACTCTGCGGACGCAACCGGGGGATTCGGAACCCACGTAGTTGGGGACGTGTTTCGGCGCAATGCCACCAGCACCTAGGTAGGTCCTATTCGAAAGTTCGTTAATCGCCCCTCGGTGCTGGCCTCCATTCCCGGTCAGCGTTGACGGTCTTCGTGCGGTTAGCGTCACTCAGATACCCTCGCATGACCTGAGGTGGTGGTTGCGACTTGGCCAGAGGCACGGTTAATGCCTGCGTAGGGCGTGCCGCGGCCGCAAGCATCCCATACGTGGGGCTCCCTAGCGTCCCTGCAGTGCGGGCCTTGACAAGGATTCGTGGGATAACTAAGACCTAACAAGCTACTCCGCCTACGGGTTGTAGCACACTGGGCAGGGGGGAGGGACCGGATGGCTTCCCGCCCCAGGTGCCCCATTCGGTACGTGGAGTGGCATATCGCTGCCTCGCCGCCTCGCACTCGCGCGGCTTTTGACGCTCACCTGCAGTGCCGCTTAGACTATACGAAGGGGAGCAATATAGGTCCAGTGGATGGACGCCGATCGCAGGCCAGTCGGTAATCTATTCGCCCGTACGGCTCAGGCCCAGCGACTGGAGATACGGCATCCCCGAGGGCCGGTCGCCAGCTCTTGATAACCCCATGAAAAACTTAGGCCTTGTCCTCACAAGTCTATCGGGGGCCATTGGCCCGTTGGTTTCGAGGCAACATTGGTGGCTCGCGTACGGATCGCCATTGTTCCCGGCGGGAAAGCCCGGGCTTGCTGGCTCCATGATGTACGGCCTTTCGGCGAAGTGGCGCAGGTCAGCAGGCTCACTGATGAGCCCACGTCGGGAGGTGACACAGAGGTGAGAGCCAGAAGCTCTGTAAAGCTTTCCCGTTCTGCATGCCTTGCGGTGCCCGGTTCACGCCCTATGCGAAGCTTCGACGGGATATTCGTATTTTAGGGGCGCCAGGCTCTCACGTCGACCTACAGCACTACACTCGCATGGCTGCGCTCCCAAGCCAGAGTGGGCTTACGACCGCAAGACAGTATACCCGTCCGGACGGCCTCCCAAGAACTCTGACGTATCGTCCTCAGCGCCTACGTCCAAGTCGCCCGCCGCTATCGAGGTCGCGGTGAGCCGTCACAGGTCCGGCGCCCCAAGCAAGCGCGGACTACCGGTCTTGCGACCCCACCCGGCCCGGCGGGAAAAGTCGAACGCAGTCAAATACGGCACCGTCCGGCGCGTTCAATCCGTGTTCCCGGACTAGCGCCGAGATTGCTTGTTGCATGGCGGGCGAAGCCCCAGAGCTAGAGGGGCGCCGCCGAAAGGGAAGGGCGCGCGCTCGCTTCTGTGAGCACGACCTTCGATGTACGGGCTTTGTCCGCGGGCAAA\n",
      "ATCCATCCATGCTCCGACGTTGGACTGCCGGTCCCTCTGGCAACGCGACGCGCCTTCCGCCCTGGCACGCGGAATCCTCGGACCGCCCAAGGGAGGCAGCGTGTTCAGTGCCCCGGTTCCCTCCGACAAATGCGCCACAACCCGCCGCCCGTGTCTTAGTATGAGGCTGGGCGGAACACACCTTAATAGCCTCGCTGGCAGTACCCGATCTCACGGTCGCCGGCGCAGGGTCAAGTGGGGCCGTCGTGCGGCGGACGTTCCACCAACACCCCAGGACCGTTTTAGACGGCTTTGAGCTAGGTTATTTGGGGAGTGCGACGAACCTCAGGCTTGTATCAGATAACCAACGTGCGCCCGGGATGAGATCGAGGGGGGATAGAGGTATAGATTGTCGGAGGCGTTCTCGACATAGTCATGCTTACGACCCGAACCTGCTGCAACGGGTCCAGCGACGCCAATGACCTACACTGGTCTGCGCGATCTGACTGGAACTCGGAGGCCCACCGCAATGCCCATTCTAGGCGGTATAGCGTGTTCTGGCAGCTGTGTGGTGACCTCAACTGAGGCTCCTCAAGCAGAGGTTATTGAGTGCCTGTAGTGCCCGGTTGTCGACCGCCCTTAGGAACTCCTAGGCCTCCCTTTCCCGAAAGGGCTGGCGACTCCAGCCTCGGTACGGCATGTAGACACTGGGTATGGGGGACACCACCCGGCACTCTCTGTAAGCGTTCGGCCTCGCCAGCATGGACTCATCCGTGAAGCATCCGCTTCAGGCTAGGGTGCACAGCCGGGAGACAAGTAGCTTGGGCTCGGATCACGAAGTTTTCACGTTCAAATGCGCCCGTAATGTCCGGAATTTGGCACGAGCAGGGTGTCAAGATCGGTTGCCCAAGTGAGCCTGACCAGCGAATGATACGTCCTGAACCGTGGTTCCAAGGTGCTTAATTCGACTCCTCATCAAACCCGAGTACCGGGCCGAAGGAGCGGGTCAACTATTGCAACCTTCCGGTCCCCTCCGCCAGGGTCGGTATGATCCAATTCAACCCCTTCGGCGGGCGATGGGGAACGTCTAGCATCGAAGGCGGCATTCCGCATTTTTACCGTTACTGCGACAGGCCGTGTGTCGCAAAGCACCCACCCCTGCGGGAGGCCGCCTATACACAGGATAAGGTGTGAGGGGACAATCTAATCAACGACGCATCTAGGTTCGAGTAACCCGAAACATTGGGCGGGCGTCCGAGCGCCCTGCGACGGCGGTGGGTCTGGTCCCCCACGTCACGTCTGCCTGCGGGACCAGCCAGACTTTGCGGTTGACCTGGTCGTTCGGGCTGCCCGTCGTACGATGGAGGTTTCCTAGCATGAACGCGTATTTCCGGGCAGGATACAGCTGCCGGCGTAAGGGGGTGAAGAGGGCACACTTGTCCACCCCAGCCCTGTGCACATACTCACCGGACCTTGGCCACCGAACACCCGCCCCCGCGTCATACCCCTATGTACCCATCGAAGACGATCGAGGGGTACTTAGACGTCCAGAGGCACCCCACCTGTCGTGGAAGTAGCACGTAAGCTGCTGGTCGGGACCACGCACCCGCAGGGATGCCGTGATTTCCAAAAAGTAATGCGTAGCCCCGGCCTCTTCACAGGGAACGTAGCTCGGCGCCCCCCGGATGTATGCTGTAAGGAACGAAAGGATCAGAGTAACAAGCACATTTGAATTGTAACTAGGAGAAGGTGGCGTCTGCCTCGCTCACAAGGTTGTGGGTGACCCAGTCTAGCTATCCGGTCTTCGATGGTATATGTCTCGGCACGCCTACATGTAACACTGTGATGGTGAAACCAAAGGGTTGGCGCGGGACTAACTGGTGCTCGCAGTTTCCGCGTCGCCGTACAATTCAGTCGGCATGTGCAGGACCAGAGAAAGTCCGCCGGCCAGCGGAGCGATACCGCTCTTCCCAGCAGGACAGCACGGTCGGATTGAACTGGAAAAGGACATCTATAATCACACTCGTCGCAGGGACCCGCTAGCGCGCCGGGTCTTAGGATCGACTACTGCCAGTACCTAAATAGGGACCGGCGGTCTATGACCGGTCAGCAGACGAGCTCTCGGGGCAGGCGGGGTCGCAGGCAGCCGAAATGCACAGCCATTGGGCTAGCAGGGGAAACCTAAAAAGACGCCCCTCGATCCTGGCGGTGCGCTAGCCACCCCGATTCGAGATTACCACGGCCAGTAGCGGAGTACCGACCTCGTCACGGGCTAGACCGGCTGGCTGTAAGGGTGCCTGGTCGGTTCGGCCAGCTTACCGGGCCAGACACGGCAACCCATCGCGCTAACCGGGGCCTGACCGCGAGCACGGTTCGCTACGACGAGCAAAGGGAACTTCGCGCCGCGTCTCGTCGCATCAGAGCAGACGGCCGAGCTGGCACGCCCGCTGCGGACAGGTTTGGCGCGGGCCACTGCTAAGTAGTTAGGACTACATCTTCAGCGTAGGGGACGGGCGTCTCGGTAGACTCTAGGTGATGTCATCTCACTCAGCCCACCAGCGGTCGGCATAAGCAGAGGCCAGTGAAAGGGTGCCCTGCGCGCGCTACTGTCGGTGCAATCGCGTCATGTACACCGCGATCAGTAGGTCGTGCCGTCGGTTACATTCTTTGTGACATTCTTCACACCCCCACGGAGCTGCACGACCTGTGGGCTTCCTGTCAGACTCCGGTGACCGGTCCGCGCCCCCTGCCGGCTCCTACCTGTCGGACGCAACGGGGGATTTCGGAACCCACGTAGGTTGGGGACGTTGTTATCGCGCTAATGCCACCAGCACCTAGGAAGAGTCCATTTCGAAGTTCGTTAATCGCCCCTCGGTGCTGGCCTCCATTCCCGTAGTCGTTAGACGGCTCGTGCGGTAGTCACTCAGGATACCCCTGCATGACTTGGTGGTGGTATCGACTTGCGCCAGGGCACGGTTAAGCCTGCGTAGGGCGTGCCGCGGCCGCAAGCATCCCATACGTGGGGCTCCCTTAGCGTCGCCTGCAGTGGGGCCTTGACAAGGATTGCGTGGGATAACTAAGACACTACAGCTAACTCCGCCTCGGGTTGTATGCACACGGGCAGTGGGGAGGGACGGATGGCTTCCCGCCCCCAGGTGCTCCCATTCGCGTACGTGGAGTGGCATATCGCTGCCTCGCCCGACCTCGCACATCGCGCGCTTTTAGACGCTCACCTCAGTGCCCTTTGAGACTTTAATACGAAGGGGGCAATATAAGGTCCGTGGATGGACGCCGAATCGCAGGCCGTCGGTAATTACTGCCCTGTACGGCTCAGGCCCGGACGGAGACTACGGCATCCCCGAGGGCCGGATCCCAGCTCTTGATAACCCCATGAAAAGATTAGGCGTCCTCACAAAGTCTATCGGGGGCCCGATTGCCCGTTGGTTGCGAGGCTAACATGGTGGTCCGCGTACGGTAGCATTGTTCCCCGGCGGGAAGCCCGGGCTTGCGGCTCTCATGATGTACGGCTTTTACGGCGAAGTGGCGCAGGTCAGCAGGCTCATGATGAGCCCGCGGAGGTGACTACAGGGTGAGAGCCCAGAGCTCTGTGAAGCTTTCCCGTTCTCTGCATGCCTCTGCGTGCCCGGTTCACGCCCTATGCGGAAGCTTCACGGGATATTCGTATTTAGGGGCGCCAGGCTCTCAACGTCAGACCTACAGCACTACACTCGCATGGCTGCGCTCCGAGCCAGAGTGGCTTACGACGCAACAGTATACCCGTCCGGATCGGCCTCCAAGGAACTCTGACTGTATCGCCTCAGCGGCCTTACGTCATAGTCGCCCGCCGTTATGGAGGCGCCGGTGAGCCGTCACAGGTCCGGCCCCCAAGCAAGCGCGGACTCCGGTCTTCGACCCCACCGGCCCGGCGGGAAAAGTCGAACGATCAACTACGGCACCTCCGGCCCGTTCAATCCGGTGTACCCGGACTAGCGCCGAGATTCTTGTTGCATGGCGGGCGAGAAGCCCCAGAGCTAGAGGGGCGCCGCCAAAAGGGAAGGAGCGCGCGCTCAGCTTCATGTAGCACGACTTCGATGGTACGCGCTTTCCGCGGCAAAGTGGTTCCGATCCTCATTAGTACCGGCGTGACATGGGGGCACATAATCGACGGAGGAGACCTGTCGCACCCGTGTGGTACTACCAAAGCCTTGTGCTAAAAGCTCTACGCGGTGGGTAAGGGAGACTGGCTACGCCCCCCGATGACTCCCTTGCTCCCAACGCAGAACTCGATGCAGGCTAGGAAGGCGACTCCGCCATCATGCTGGTGCAGGAATCGACGAAGTTCAGACGGGGGCTAGT\n",
      "CAGGGAAGTGGCACGACGTCCTGAGGCCCTGAACGTGGCGTAGGCCACTTTGACCCGGTACTCTAGCAAGAGCAACGGGACCTTCGACGGTCGTCCAGGGTTGCGACGTAAGACGGCGCCCCAAGCCAGTCATCAGCCCGCGCTGTCTATACACCGACCAGGCCTCTCCGGGGAAATGCACACAGCGCTATTGTGCTTTAGAACAACATCAGAGGTCCCTAACCGAGCCTACCTCGCTGCTCCCACCGCCACCACTTCATTCATGCGGCGGAACGGCGTACGCACATACCGCCAGGGAGAGTCACCTTATAGTTCACCGGCGCAAGGCGCAGTGCCGCGTGATTCGCGTTGCGCCGGCCAGCCTCGGCAGTGACTAATCCGGTTGGCCGCGAGCCCGAGCGTAGCGCACGGCGATGTACGTTCCCGCGAGTACTCTCCGTGAGGACGCGCTCATCTCGCTGGGGCCGCCTAGTCCCTAACCGCGCGCAATGTAGCATCCGTACGATGTGTTTCTGACCACCCTCGCGGGGGCTCCCGTCCTTTCCCGATCAGTGCGTCACTATTCGCTTAGACATGAGCC\n",
      "CGCGTTGCGCCGGCCAGCCTCGAGCAAGTTGACCTAGATCCGGTTGAGCCGCGAGACCCGGCGTAGCGCACGGCGATGAGCGTTCCCAGCGAGTACTCTCCTGTGAGGACTGCGTTCACTCTCGCTGGGGCCAGCCTAAGTTCCCTGAACCGCCGCGCGAATGCTAGCAGTCCGTACGTCATGTGTTTCTCACCACCCTCGTCGGGGGCTCCGTCCTTCCCGATCAGTGCGTACTATTCGCTGAACATGAGCCCGGCGCCCGCTTCCCCCTCGGGACCTAGCCCCTCACGGAACCCGCTCATGAGCGAAAGGCCTCTGGGCGGCCACAGCGACAGAAGCTACGAGGCGCCGGAGCCACACCGTCCCTTCAGCCCGGTCGGCGACGGGATGCAGACCACATTATCTTTTCACGCAGGTGCTTAGGATACCCACTATGTACGAAATCTCGCCGGGGCCGGTAAGGGGTAGGTGCGCCGAAAGGCACAATACTGTTGCGGGGACCTCGGCAGATAGTTTTGGCTTGGAATGTGGTGTCAGCTTGTGAACCAGGGGAACGCCCCTGGGAAACCCTAATCCCGGACTCGCGACCTCCCGGGGTCGACTTGACTTCCGATCTCGCCAGGAACGCGCCCCGGCAGCGCGCGCCTTTGGTCTCAGACCAGATCATCTACTGGGCCGTTAGGAGCGGACCTAAGCAGAGGCCAGCGTGATAGCCTCCCCATGGCACTTCGTGCCGGGCTGTGAAAGCGGAGAGTGCCTGCGCGATACTAGAGATTCTCGCAGAGGTAAAGGCCGCACCCGGAGGGTGGGCCGGCCGTTCACACTATCCGATGTGAGGGGGCTGATACGACCCCGACGCATAGACGCAAACAATGTGCCCCATTAACAAGTCCAAGTAGTCGCAACCCCGGGGTGCCCATGTGGCTGAGACTGAGCAGGTCTCACTTACAGCCACCACTCCCGGAGGATTACACGCGTGCGGCAGATGTAGCGTCCCGGCAGGACGGGCCGGTCGCGGGATGCGTACCTTCGCGGAGTCGTCTCGACTGCGATGTCCGAGATCCCTATGTTGAAAGTCCCTCGAATACCCATAGACTAAGGTGGGTGATCCTACCGGCCAAGCGGCTTCAGTTACGTTGCGCAAGCAATACAGAGGCGCTGGCCGGCTCATGTGACTGCTGTTCTTCGCCTGAGGGCAGACCCCTGATCTTGCCAGCTGGCGCGGTAGTAAACGCGCTGGGGGGTTTACCGCATACCGGTGCAAAAAGCTCCCTGGAGCCAAGTCTCTCCGCCGGTAGCCGTCTCAACCTCAGGCTCTAGCTCGGGCAAAAGCCGTGGGCTCCGATAACCATCCAATACACGCACGCCCGTTGTGGGTTGACGGTTAGCAGATGTGGGTGCGGAGGGCGGCCGCCGTTCCCCCCGCTTCACCGGGGTAAGATACGACGCTGCAGATAGCAGCTTACCAATTATGGCGGGTGGCTGCTCTTTTCGCCTCTCAAGCGCCTGACGGAGCATCCTTAAACAGGAGTCGCCGTGGCTCACAAGGAGGCAGAGTGACCTCGACCAATTGGTGAGCCCCCGCGCCTGCGCTCGGCGCGGATAAGCAGCGAGGGCTCCCATCCTTGCGCCAAGGGGGATGCTAGCCAGGTTCCTACAGGCAGAGGCCCTTCGTAGCGATTCCGCCTGTCTGGCACTGCCGAACACGGGAAACCCAGCACTCGCCGGGAAAGGTACTCTGTATGGTCTCGGACGGGTACGGGATTTACAGCCGGTCTACGAGCGCAATACGCCATTGTCATAGGGGCACGTGGAGAGGCGGTTAAGTGGCTGTATCCCCTCACGAGGTCTGAGACGATGCCGGACCAGCTTGGTTAGAAGCAGGGTATTGGTGCGGTGGGCCGCCGGCGATGAAGCTTCCGCACGTCGCAGTAGAACATCGATCCGACCGCAAGGGCTCACGCCATCGAACCCAATTCCGGGCGGGTACGCACGAGAGGAGCGGAATCATGAAGCGCCATAGGTCCTACTTGTCGCGGTAGGCCTCGTGCATAGTCATAGGGTGTGGTTGCGTCCCCTCCCGGGGAGCACGGTCTCTCGGATCAGGCTCGGTGCTATGTAAGAGATCTGCAGTTAGCCGCCGACATGTTGCCCTAAACGGGAGGATGGGCAGGCTAGTTAGAATATTAGGGTCGCGCAATTGCAAATCTCGCACGTCGGCCCACGGCCGGAAGCCGCCATCCGCGAAAAGCGAGGCTCGCTAGCACTATGCAGAGCCTGCAGCTTGGCGGTAAGCAAATAAGGGCTCGCTCTGATTAGGCCCTAGGGCGCGTTCGAGGGGTACAATTAACGCCAGGAGGTTACAGTCTCACACATCGTCAAGATCGCAGGTGCGTGCAAATTATTGTTGGCGCGGCCTCTGATCGGATCCGAAGCGTGTGGAACTATTGTGGGCTAATGTCGGGGCCGGGATTGCTCACTCCGCGGAGATAATCCGTTGTTTCGAAGGTCGTTCCGGTAATAGCGCAGCGAGCATCCCGGTGGATTAACCCGCATTACTTGCGTTCTTGTCTAGCGTCCGCCGACACAGGGTCAGTGCGCACGACACGGTATGCTTGTCAATCGACATTCATTGACCACCTATAGGCCTGCCTGGGGCCGCCGTGGCCCTGACGGCACTCTGAATCATCCTGGGCGTCCAGCCATGGCTACCAGCCGACGCGGCTGATCTATCGCCTGGCGTTGCAATGGTTGTGGACCGGGAACGCTACACCTGCATCTCGTGACTCCCCCTCTTGTCCGTCAGTGTCGTAACACATGGGGAAGGGGGGGCTTGCCGGTGGGGATTTAGCACAAGTGATCGGATCTAAATAGGACCCGCCGCACTGGGGGTTCAGAACAGTGGGATCCGACGGGGGGGCCTCCGACGCGGACCAGCGGGGCACAGGCTCTTACCACAGGGTATCGATTCCATGTACCCTTCTCGTTGTGCCAGCGATGCTTATAGCGACGATCTTTGGCGATGACCCTGGGGCTGATGGTGATCGCAGTCGGTCACTCCTCCCACAGGAAAACAGTGAAGGAGCGCCTGCGGGGTTCGCCACGCCCTCACAACCGCCAGTCTACAACGGGGTTTTGCACTCTGACCCGCCCGCGTCACGTGTCCACCAGCCAGGCCAAAGGTCACCAACCGTATGCCTGGACTCCACGCCCGACAACGCAATCCGGGGAAGCGGATCGTGTTCCCTACGTGTTCTAGACGCCGCTCACGCTGCGCCGGTGTGCACGTCATCCCTATTTTTGGAGCGTCCGGCTGCCACCCGGTTTGTCCTGTCTCCTTTCGCTCCGTAATGTACGACGCACCTAATGCTGTCGAGATGGCCCGCCCTTGAGGGTTACCCAAGGGGGCGTTTAGGATTTTTTCGCTGTAGGGGTAGCCCAGGGCTTGCCTCCTCCCAAAGCTAGATTCTTGCCCACAGGCGGAATTGCGGTTGAGACCTCGCAAGCGTTCGTAGCCATCCATCCTGCTCGAGCTGGACTGCCGGCCGCTCTGGCAACGGGACGCGCCTCCAGACCCTGGCACGCGGAATCCTCGACGCGCCGCAAGGCGGAGGCAGCGGTTCCGTGCCCGGTTCTCCGACATGCGCGCCACATACCTCGCCGCCCGTGTCTTAGCTATGAGGCGGCGCGGAACCCCCTTATATGGCACCGCTTGGCAGGTGCCCAGATCTCACGGCGCCCGGCCAGGGTCAAGTGGGCCCGTGCGGCGGATCGTCTCTCCCAACACCCCAGGACCGTTTAGCTGGTTGTGAGCTACGTTATTGGGGAGTGCTACGAACCTCAGGCTTGTGTACTCAGAGTACCAACGTGCGGCGGTGACGAGAGTCGTGAGGGGGCGGATAGGGTTATGTGTTGATTCGGCAGGCTTCTGACATGAGTCATCGCTTAGCGCGACCGAACCTCTGCAGACGGTCCAGCCGAGCGCCGAATGACTACACTGGCCTGCGCGCTTCTGAACTGGAAACATCGGAAGGCCCCCGCAATGCCCATTCCAGGCGGTATAAGGCGGTGTTCTGTGCAGCTGCTGATGGTGACCTCAACTGAGGCTCCTCAAGCAGAGGTTATTGAGTGCCTGTAGTGCCTGGTTGTCCGACCCGCCTTAAACTCCTATGGCCTCCTTTCCCGAAGTGCTGCGGAACTCCACTCGGTACGGACCTATTAAGACACTGGGTATGGGGGGACACCAACTCGGCACTCTCGGTAAGCGTTCGGCCTCGCCGAGCATGGACTCATCGTGAAGCATCCGTTCAGGCTGAAGGTGCACACCGGGGCACGACAAGTATGCTTGGCTCGGATCACGAAGTTTTCCGTTCAAATTGCGCCCGTAATGTCCGGAATTTGGGGCACGAGCAGGGGTGTCAAGATCGTTGCTTTGCACAATGAGCCTGACCCAGCGAATGTACGTCCAACGGGTTCCAAGCGGCTATAATTCGACTCTCTCATCAAACCCGAGTACGGCCGACAGGAGCGGTCAACTTTCAACCTCTCCCGGTCGCCCCCGCCGGGCGGTGATCCAATTCACTCCCTTCGGCGGGCGATGGGGAACTCTGAGCATCGAGCCAGGCGCCGAATTCCGCATTTTACCGTGTACTGCGATCGGCCTGTGTTCCAAAGCACCACCCCTGCGGAGGCGCCTTACACAGAGTAAGCGTGTGAGGCGGACATTGCTAATCAACGACTGCATCTAGGGTTACGAGTACACCCGAAACTTGGGCGAGGCGTCCGAGCGCCCTGACCGACGGCGGGTGGGTCTGGTACCCCCACGTCCGTATGCCTGCGGACCAGCAGACTTTTGCGGTATGACCTGGTCGTTCGGGCTTGCCCGTGACATGCGAGAGGTTCCACATGACGCGTATCCGGGCAGATACAGCTGCCGGCGTTAAGGGGTGAAGGGGCGACAACTTGTCCACCCTCAGCCCTGTGACACATACCACCGGACTTGAGCCACCAGAACACACACGCCCCCCGCGTCATACCCCTATGTAGCTCATCGAAGACGATGAGGGTACTTGAGACGTGCCGAGGGCACCCACCTGTCGTGGAGAGCACGTGCTGTCTGTCTGGACCAACGCACCGCGCAGGGAGCCGTGATTTCCACAAAAGTAATGACGTGCCCGGGCCTCTTCACAGGTGAACGTAGCTCGGCGCCCCCCCGAGATGTATGCTTAGGCGAATGGATCAGGTACAAGCACATTTGGAATGTAACTAGGGAAGGTGGCGTCGCCGTCGCTCATCAATGGTTGTGGGTGACCCAAGTCTAGCTATCCGGCCTCACGATGTATATTCCTGCGTGCAACGCTCTACATGAACACTTGTGATGGTGAACCCAAAGGGGTTGCGCGGGACTAACTGGTGGCTCCGTTTCCGCGTCGCCAGTCAATTCGAGTCGGGCATGGGCAGGAGACCAGAGAAGTCCGCCTGGCCAGCGGACGAATACCGCTCTTCGCCAGCAGGACAGCTACGGTCGGAATTGACTTGGAAAAGGACATCTATAATCACACTCTCGCGGGACACCGCTAGGCGCCGGTGTCTTAGGATTCGTACGCCAGTACCTAACATAGGGCCCGGACGTTATGACCGGTCGCAGAACGCAGCTCTCTGGGGCAGGCGGGGTCGCAGGGCAGCAATGCACAGTCCATGGGCTAAGCAGGGGTAAACCAAAAAGACGCCCCTCGATTCATGAGCGTGCGCTAGCCACGCCGATATCGGAGATTACCACGGCCAGTAGCGGAGTACCGACCTCGTGCACGGGCTACGGCTGGCTGAAGGGTGATCGCTGGTCGGTTCGGCCAGCTTACCGGGCAGACCCAACCCGATCGCGCATAACCGGGGCCTGCCGCGAGCACGGTTTCGCTACGGTACGAGCGAAAGGTAACTTCGCGTACCGCGTCTCGTCGATACAGTAGCAGACGGCGAGCTGGCACGCGCCGCTGCGGCACAGGTAGTTGGCTGGGCCACGCTAAGTAGTTAGGACTCATGTCGTCGTAGGGGACGTGCGCTCGGTATACTCTAGGTGATGTCATCTCCTCAGCCACCAGCGGTCGGCATCCAAGCAGAGGCCCTAGTGAGGGTGCCCTGCGCGCCTACGTCTGGGTGCAAACCGCTCATGCTCACCGGATCAGTAGGTCGTCCGTCGCGGTTACATCTTTGTTGAATTCTTCAACCCCCAGGAGCTGACGACCTGTGGGCTTCCTGGTCAGACTCCGGTGACCGCGTCCAGCGCCCCCTGCGCGGCTCCATCTGTTCGGACGCAACGGGGGATTGCGGAACCCACGCTAGTTGGGGACGTGTTTTCGCGCAATGCCACCAGCACCCTTAGGAGGTCCTTTCGCAGTTCCGGTTAACTCGCCCCTACGGTGCTGGCCTCCATTCCCGTAGCGTTAGACTGGTCTCGCTGCGGTACTTCACTCAGGATACCACCTGCATGACTTGGTGAGTGGTATCGACTTTGCCAGGGCACAGGTTAGCCTGCAAGGGCGTCGCGCGGCCGCAAGCATTGCCCATAACGTGGGGCTCCCTAGCGTCCCTGCAGTGGGGCCTTGACAAGGTTGCGTGGCTGATAACTAAGACCTAACAGCTACTCCGCCTCGGGCTTGTAGCACGCGGGCAGGGGGATGGGAGCGGATGGCTTCCCGATCCCAGGTGCTCCCATTCGGTACGTGGAGTGGTCATATGCTGCCTCAGCCGCCTCGCACTCGGCGCGGCTTTTGACGCTCACCATCAGTGCATCTTAGACTATACGAACGGGGCAATATAGGTCCGTGTGATAGGACGCCGATCGCAGGCACGTCGGTAATGCTAATGCCCGTCACGGCTCAGTCCCGTGACGGAGATACGGCATCCCCAGAGGGGTCCGGTCCCAGCATCTTGATAGACCCCATGAATAAATTAGGCTTTCCTCACAAAGTCTATCGGGGGCCATTGCCCGTTGTAGTTTTCGAGGGCAAACATTGGGGTCCGCGTACGGAGCATTGCTTTCCCGGCGGGAAGCCCGGGCTTGCGGCTCCATGGATGTACGGCTCTTCGGCGAAGTGGCGACAAGGTCAGCAGCGCTCACTGATGAGCCCGCGGAGGTGGCACAGGGTGAGATGGCCCAGAGCTCTTGAAGCTTTCCCGTTCTGCATGCTATGCGGTGCCCGGTTCACGCCCTATCGCGAAGCGTTCTGGCGGGTTATTCGTTTTAGGGCGCCAGGCCTCTCACCGTCCGCCTACAGCACTTACACTCCGCATGGCTGCGCTCCAGCCAGAGTGGGTCTTACGACCGCAACAGTATACCCGTCCGGCGGCCTCCAAGAACTCTGACGTATCGGCCTCAGCGCCATACGCAAGTCGCCCGCCGTACTGGGCGCGGTGAGCCGATCACAGGTCCGGGCCCGCAAGCAAGCGCAACTCCGGTCTTTCGATCCCCACCCGGCCCGGCGGGAAAAGTCGATACGAGTCAATACGGCACCTCCGGGCCCGTATCAGATCCGTGTTCCGGACTAGCGCCGAGGATTCTTTGTTGCATGGCGGCGAAGAGCCCCAGAGCTAGAGGGGCCGCTCGGCCAAAGGGAAGGGCGCGCCTCAGCTTCTGTAGCACGACCTTCGATGTACGCGCTTTCCGCGGCAAAGTGGTTCCGACCTCATTAGTACCGGCGTGAATGGGGGCCATAATCGCGGAAGGGGAGACCTGTCGCACCCGTGTGGTACTACCAAAGCCATTGTGCTAAAAGCTATACGCGGTGGGTAAGGGCAGCACTGGCTACCCCCCGATGATCCCCGTTGCTCCCAAACAGAACTCATCGGCTAGAAGGCGACTCCGCCATCAGCTCGTGCGGAAATCGACGAAGTCAGGACGGGGGCTATCAACCGGCCTCTCATCGGCCAGCCACCCTCATGCGTCGCGCAGGCAGACGGACGCTGCTGGCCAAGGTTTCCGTTTATCGGGAACCTGGCTATCCAAATACTTCCGAGCGGTGTGCCAGACCATGTGTCACATGCACCTTCCGATAACCGGCACTTCTCATAGTGGCCCTGGACATTCACCGTGTAGTTGTCGCAGGAGCCTACCAAGGGTTAGGCCGGAAGACATTTTCGTTCCTACATCAAGACGATCTCATCTCGGAGATACGAGGTAGACGTGCAATCCTAGCCTTACCCCATGGCTCCGCCTGACCTGACCTTAGAGCGAGCCCCCATTGGAGCAGAAGGTCCGATTTCCCGTGATGTGTGCGATCGGGGTCCATCGCAGTTGCACTAGCTCACGATTACACGATTCTAACGACTACGTAACCCGTGGCGCACGCATGTCTCTAGGTGTTCAGTAACGCGGCCGTCGGGGGCGAGGGTAAGCATTCCTCATAGACCTAAGGGGGTCAGATTTCTGCGAATGCAGGTTTCGAGGCAGGAGAGCGGACAAAGAACTTACCGCTTGGTTGGGGACAGAGAGGAGCGTCAACTCCCTGCCGCCGAGTTCACTCTCGCAGGTCCAGAATAGGGGCTCCCGATTGTCTAGTACGGGGGCTATCAAGCTCACACTTGAGTTTTGTTGATATAGCTCAGGCCTCGAGGTTGCCAGATTCACATCGACTGTGCGTAGTGGGCAGGTCTAGCGCGTAACGAGGGCTACTCAGGCCCAAACAACAAGCAGCCCCTTACCATTACCCTACGGCCACGCTGAGGCCACACCGCCCTAAGCCATCTATACGAGCCCCGCTGGCCGAGGCCCCTCGTAATGCCCCCCTGTAAACATGGCTGCTTTCGCGGGGGGTTGAAGGAACCTGTGTTTGTAGTTGTGTATGTATTAAAAGTCCTGGCCGTACAGACGTCCACCGCCCCCCGGGGCACCAGCGACGCGAACTCTACTAATTTGTACGAGAGTTTGCTATGGGCTTCCAGGCTCAATTTACGTACGCGTGATCGGGCTCTCGCCTTCGTTATATCGCGAAACCGGGTCACCGTGTTGAACCAAACCCTGAGAATGGCGGGGGCTGGGATACGAGTCCAACGCAGCGACCCGCCGTAGACAAGACTCGCGCACTCCCCGGCTTGGGGAGAGGGCGCCAGGCCTTGATAGGTGACCGGTAGTGGGTTTCCGGCGGGAGCTATCTTCTGGTGGCTCCAGGTTGGTAAATCTACACCGCGGCGCTAGCACACAGGGAAGTGACCACCCCGCCCACATGCGCGCTGACATGCGAATGACTAATCCATACGGGCGCATCTACTCGGCGCAAAGCGCGAAGTGAACCGATCACGAATACCTTACGGCTGGCACGGACGTCAGAGGAGGCTATGGTACTGGAGCTGAGATCAGGGGTGCGGACGC\n",
      "TCTCGTACATGGACACATCCTGCTTACGAGCCGTAAGACCTGTTGAAAAGGCCCGAGGGAAGCGTGCCCAGACCGAGCGCAGGAGCTGACTTACCTAGCAGAGTAGACGTGTGCGCTTGAGCGTCGCGCAGTTATCAGGGAAGTGGACACGACGTCCTGAGAGCCCTTGAAGGTGCGATAGGCCACTTGACGCCAGGTCACTTCTAGCAAGGAGCACGCGGGCCTTCGCCGGTCGTCCAGGGTTGCGATTAAGACGCGCCCCCATAGCCAGTCAATCAGCCGCGCTGTCTACTACTACCGTAACGCAGGCGCTCTTCGGGGGAAAGACAACAGCGCTATTGTGGTTAGAACATCATTCCAGAGGTCCAACCGAGGCCTACCCTCGGCTCTCCCACCGCCCCACTTCATTCTACTGCAGGCGGAAACGGCGTACGCACATACCGCCAGGGAGAGCTCACCTTATAGTTCACACCGCAAGGCGCAGTGCCGAGCCATGATTCGCGCTTGCGCCGGCCAGCCTCGGGAGGTGACTAATCCGGTTGCCGCGGCCCGAAGCGTAGCGCCACGGCGATGTAACGTTCCAGGACGAGTACTCCCGTGAGGAGCCGCTCCGATCTCGCTTGTGGGCCGCCGTCAGTCCCGTAACCGCGCGTCAAATTGTAGCAGTCCGTACGGATGTGTTTCTGACCACCTCTCCGGGCGCTCCCTCTCCTTTCCGATGCAGGTGCGTCACTATTCGCTTAGAACGATGGCCCGGCGCCCAGGCTTCATCCCCATCTGGACCTAGCCCCTCTCGGAAGCCCGCCAGTCGTAAGCGAAAGGACCGCTGGGCGGACCACAGCGGCCAGATGTCTCAGGCCCGGAGGCTCACCACCGTCCCATGCCCGGCCGCGACGGATGCAGCCCCATTATCTTATCAACGCATGGAATAGGAACCCAATATGTACTAAAAGTCGCGGGGCTCGGTAGGGGTAGGGTGCGCGAAAGGCACACATCCTGTATGCGGGGAACCTCCAGATCAGTGCCTGAGTCTGGAAATGTGGTGTAGCCTGTGAACAGGGATCGCCCCTGGGACCCCTATCCGGACTTGCGACCTCCGCGGGTGACTTATCGCCGATCCTCAGAACCCGCGCGGCATCGCGTCGCTCTTGGTCAGACCGCACTATCTGGCGATGTTGAGGGGGCACAAGCAGAGGCTAGCGTGAAGCTCCCTCATGGCATTCGCGGGCTGTTGAGCGGAGAGTGCCCTGCCGCGAATGCTAGAGCCCCTTGCGAGGTAAAGAGCCGCACACGGATAGGTTAGGGCCGGCGATTCAGACATCCCGATGTGAGGGGGCTGCATACGGTCCCTTACCATATGACGCATAGCACACTCGGTTGCCCATTAACAAGGTCCAATAGTCGCACCCTCCGGGGATGCCATGGTAGCTAGAGACTGAAGCAGGCACTCTAGAACCCTCCGCAGGATTCCCACGGTGCTCCAGATAGCGTCCCGGCAGGGACTGGGGCCGGTACCAAGGACGCGGTCACTTGGGCGTCGGTTCGAGTCGCGATGTCCGAACTTCCCTAGTTGAAAAGTCCCCCGAATACCCTATAAGCTAGATGAGGTGATCTAGGCTCGGCCACACGCTTGATGTATACGTTGCGCAAGCAATCACAAGGCGCTGAGGGCTTCATTACTGACGTTTCTTCGCCTAGCAGACCACTGATCGTTGCCGCGGCCGCGGTACAACGTCGCGGGGGGTTTTCCGCATACCGGTCGCAAAAGCCCGCTGGGAGCCAGATATCTCCCCGCCGAGCCGTGCTCCAACCTCATGCGGCCCTCCTAGCTCGGCAACAGCCGTGGGCTCCGATTACATCCAATACCGCAAGCCGTTTGGATTGACCGGTGCAGTGGGGTGCGGAGGCGGCCCCGTTCCCCCCGCTTCAACCGGGGTAAGATACAAGGGCGCAGATAGGACGCTCCATTTGGCGGTCGATGGCTCTGTTCGCTCAAGCCGCACTGACGCGAGATCTTTAAACAGGAGTCGCGTCGGTTCGCAAGGACGCAAGAAGTGACGTCAGACCATTGGTGAGCCACCCGTCGCTGCGGCGTCGGCCGGTAAGCAGCGTAGGTCCCCCATCCTTAAGCGCGAGAGGTGGGATGGTATGCCAATGGTTACCCTACCAGGCCAGAGGGCGCCACCTTCGTAGACGATTCCGCCTTGGCACTGCGAACCACGGGAACCCCAGTCACTCGCCGGAAAGGAACTGTTGCGTCTGGAGCGGGAGGTTTTCCGCCCGATCTACGAGCGCAATACGCCATTGTCCAAGGGCCACTGGAGAGGGGCGGTTAGGCTTATCCCTCACGGGAGGACGAGAGATTGCGGAAAGTTAGGGTTGGAAGCAGGTATTGGCGTCTGGGCCGCCAGGAGGCTTCCGCACGTGCGCAAGTGACATCGATCGACCCTAAGGCTCGCATCGAACCAATTGCCGGGCCGGGTATCGCTACGAGAGGACGAGAAGCATGAAGCGCCATAGGTCCCTACTCGCGGAGCGCATCGTGCAGTCATAGGGGTGGCTGGCCCCTCCCGGGGGCAGCGTTCCTCGGTATCAGCTCGGTGTTGTAAGAGCCTGCGAGTTAGCGTCCGATCATGTGTGCCTAAGACGGGAGATGGGCAGGCATTGATTAGGGTCGGCATTGCAATCCGAGTCGCCCACGGGCCGGAACCAGCCCTCCGAAAAGCGAGGCTCCTAGGCACTTGCAGGCCTGCAGACTGCGGTAAGCAAAGTAAGGCTCGACTCTGTTGGGCCCAGGGCGTTCGGGGGTATCACATTAAGCAGGAGGTCAGACTCACACATGTCCAAGATCAGGGTGCGTGCAATTATTGTTGGCGCGGCCTCTGACGGACCAAGCGTGTGAACTACTTGTGGGCTAAGTCGGGGCCGGTAGATTGCTCACTCCGCGGAGATATCCGTTGTTTCGAGGTCGTTCGGTATAGGCGCGACGAGCATACCGGTGGGATTTTAACCGCATTAACGCTGTTCTTTCTGCGTCCGCCGACACGGGTCAGTGCGCAACGACACCGGTAGCTTTCACATCAATTCAGTGACCACCTATAGGCCTTGCCTGGGCCGCCGGGCCCTGACGCACTCTGAGATCATCCGGGCGGTCCAGCCACCGGGCTACCGCGCGACGCGAGTGAGTTATCCCTGGGCTTGGCCAATGGTTTCGACGGCGAACGCTACACCTGCATCTCGGTGACTCCCCCTCATTGCCGTTCAGTGTCTAACCATGGGAAGGGGGGCTGGGCCGTGGGTGTAGCATAAGAATGGGATCTAATGGCCCGCGCACTGGGGGTTCGAAACAGTGGACCGACGGGGGAGGCCTCCGACCGCGGATCCAGGGGCAGGCCTTATCCAGGGTATCGATCTCCTGTACCTTCTCGTTGTGCCAGCGATGCTTAAGGGAACGACTTATGCGATGACCCGGGGCTATGGTGATCGCAGTCGGTCACTCCTCCCACAGGGAAAACAGTGAAGGCGCCTGCGGGGTTCGCCACGACCCTCACGCCGCCATGACTAAACCGGGGTTTTGTACCTTCTGACCCGCCGCGTCACGGCCACCAGCCAGGCCAAAGCGTCCACCCCCGAGCCTGGACTCACGCGCCCACAACCAATCCGGGAAGCGGATCGTGTGTCCTAACGGTTCTGACGCCGCTCACGTGACGCCGTGCACGATCCCTCATTTTGGGCTCCCGCTGCCACCCGGTTTGTCCCTGTCCTTCGCTCACGTAAGTCGAGCACCTATGCTGTCGAGATGGCCCGCCCCTTGAGGGTTACCAAGCGGGCGTTTAGTTTTTTTCCTGTAGGGGTAGGCCCAGGGCTTGCCTCCTCCCAAAGCTAGATTCTTGCCCCAGGCACATTGCGGTGAGACCTGAAGCGTTCGTAGCATCCATCCTGCTCGAGTGGACTCCGGCCCCTCTGGCAACGGGACGCGCCTCCCGCCCTGGCACGCGGAATCCTCGACCGCCCAAGGCGGAGGCAGCGTGTTCGTGGCCCCGGTTCCTCCGACCATGCGCGCCACATACCCGCCTGCCCGTGTCTTAGTATGAGGCGGGCGGAACCCCCTTATATGGCACCGCGTTGGCAGTGCCCGATCTCACGGCGCCGGCCAGGGCTCAAGTGGGCCGCCGTGCGGCGGACGTTGCCCCAACCCCCAGACCGTTTAGCGGTTTGAAGCTACGTTATTGGGGAGTGCAGACGAACCTCAGGGCTGGTGTATCAGATAACCGAACGTGCGCCCGGGATGAGATCGGAGGGCGGGATAGGGTATTGGATTGTCGGAGGCTTCTGACATGAGTCATGCTTACGACCGGACAACCTCTGCTAGGACGGTCCAGCGACGCCAACTGACTACACTGGCCTGCGGCGTCTGACTGGAATCTCCGGTAGGCCCCCGCAATGGCACCATTCGAGGCGGGTATAGCGTGTTCTGGCAGCTGTGATGGTGACCTCAACTGAGGCTCCTCAAGCAGGGTTATTGAGTGCCTGTAGTGCCGGTTGTCGGACCGTCACTTAAACATCCTAGGCCTCCTTATCCCGAAGGGACTGCGACTCCACTCGGTACGGCATGTAGACACTGGGTATGTGGGGACACCACCCGAGCACTCTCGTAAGCGTTCGGCTCGCCAGCATGGACTCATCAGTGAGCATCCGTCAGGCTGAGGTGCACACCGGTGGAGACAAGTAGCTTGGCTCGGATCACGAAGTTTTCCGTTCAAATGCGCCCGTAATGTCCGGAATTTGGGCACGAGCAGGGTGTCAAGATCGGTTGCCCAGTGAGCCTTGACCAGCGCAATGTACGTCCAAACCGAATGGTTCCAAGCGCTTAATTCGACTCTCTCATCAAACCCGAGTACCGGCCGACAGGAGCGGTCAACTTTGCAACCTCTCCCGGTCGCCCCCGCCGGGTCGGTTGTCCAATTCGAACCCCTTCGGCGGGCGATGGGGGAGACATCTTGAGCATCGAAGGCGGCATTCCGCATTTTACCGTTACTGCGACCGGCCTGTGTCCAAAGCACCCACCCCTGCGGAGGCGCTCTTACACAGATAAGGTGAGTGAGGGGACATTGCTGATCAACGACTGCATCTAGGTCGAAGCTAACCCGAAACATTCGGGCGGGCGTCCGAGCGCCCCTGCGACTGCGGGTGGGTCTGGTCACCCACTGTCCGTCGCTGCGGACCAGCAGACTTTGCGGTTGACCTGGTCGTTCGGGCTTGCCCGTGACGATGGAGGGTTCCGCCATTGATAGGTATTCCGGGGCAGAGTACAGCTTGCCGGCGTAAGGGGGTGAAGGGGCACACTTGTCCACCCCAGCCCTGTGCACACTACTCATCCGGACCGTTTGGGCCACCGAACACAGCCCTCCCGTCATACCCCTATGTTACCTATCGAAGACGAGTGGAGGGGTACTTAGACCGTCCAGAGGCACCCACCTGTCGTGGAGAGCACGTGCTGCTGTACGGGACCACGCACCCGCAGGGAGCCGTGATTTCCACAAAAGTAAGCGTAGCCCCGGGCCTCTTCACAGGTGAACGTAGCTCGGCGGCCCCCCGGATGTATGCTTAGGCGAAGGATCAGGTACAAGCACATTTGGAATTGTAACTAGGAGAAGGTGAGTCGTCGCGCCGCTCATCAAGGTTGTGGTGACCCAGTCTAGCTATCGTTCTACGATGTAATATTCTCGGCACGCTCTACATGAACACTGGTGATGGTGAACCCGAAAGGGTTGGCTGCGGGACTAACTGGTGCTCCGTTTCCGCGTCGCCGTCAATTCGAGTCGGGCATCGGCAGGGACCAGAGAAGTCCGCCGGCCAGCGTGAGCGATACCGCTCTTCCCAGCAGGACGCACGGTCCGGATTGATTGGATAAAGGACTCTATTAATCACATCTGTCGCGTGGACCCGCTAGCGCCGGGTCTTAGGATCGCTACGCCTAGTACTAACATAGGGCCCGGCGTTAATGACCGGTCGCAGACGAGCTCTGGGGCAGGCGGGGCGTCGCAGGCAGCCAAATGCACAGCCATTGGGCTAGCAGGGGAAACCAAAAAGAATGCCCCTCGAGTCTGGCGGTGCGCTAGCCACGCCCGATTCGAGATTACACGGCCAGTAGCGGGAGTACCCGACCTCGGTCCACGGGCTAGACGGCTGGCGAAGGGTGCCTGGTCGGTTCGGCCAGCTTACCGGGCAGACCGGCAACCCGAATCGCGCTAACCGGGGCCTAGTACCGCGAGCACGGTTCGCACGACGTATGCAAAGGGAACTTCGCGCCGCGTCCTCGTCGCATCAAGAGCGAGACGGCCGACTGGCACGCCCGCTGGCGGAGCAGGTTTGCGCGGGCCACGCCTAAGTAGTTAGGACTCATTTCGTCGTAGGGGACGGGCGTCGGTAGACTCTGAGGTGATTTGTCATCTCCTCAGCCACCAGCGGTCGGCATCAAGCAGAGGCCAGTGAGGGTGCCCTGCGCGGCCTACGTCTTGGTGCAACCGCCTGTCATGTCACCGCGATCAGTAGGCGTGCCGTCGGGTTACATTCTTTGTGAATTCTTCACCCCAGGAGCTGCACCGACCTGTGGGTCTTCCTGTCAGGACTCCGGTGACCGTGTTCCGCGCCCCCTGCACGGCTCCTCTGTCGGACGAACGGGGGATTCCGGAACCCACGTAGTTGGGGACGTGTTTCGCGCAATGGCCACCAGCACCTAGGAGGGTCCTTTGCGAAGTTCGTTAATCGCCCCTCGGTGCTGGCCTCCATTCCCGTAGCGTTAGACGGGTCTCGTGCGGTACGTCACTCAGGATACCCCTGCATGACTGGTGGTGGTATCGAACTTGGCCAGGGCATCGGTAAGTCCTGCGCTAGGGCGTGCCGCGGCCGCAAGCATCCCATACGTGGGGCTCCCTAGCGTCCCTGCATGTGGGGCCTTGACAAGGTTGCCGTGGGGATAACTAAGACCTAACAGCTACTCCGCCTCGGGGTTGTAGCACACGGGCAGGGCGGAGGGACGGATGGCTCCCGCCCCAGGTGCTCCCATTCGGTACGTGGAGTGGCATATCGCTGGCCTCGCCGCCTCGCACATCGCGCGGCTTTTGACGCTTCACCTCAGTGCCCTTAACTATGACGAAGGGGGCCAATATAGGTCCGTCGGATGGACGGCCGATCGCAGGCCGTCGGTAATCTATCGCCCGTACGGCTCAGGCCCGGGACGAGAGATACGCCTCCCCGAGGGCCGGTCCCAGCTCTTGATAACCCCATGAAAAATTAGGCTTATCCCTCACAAGTCTATCGGGGGCCCATTGCCCCGTTGGTTTTCGAGGCAACATTGGTGGTCCGCGTACGGAGCATTGTTCCCGGCGGGGAAGCCCGGGCTTGCGGCTCCATGATGTACGGCTTTCGGCGAAGTGGCGCAGGTCAGCAGGCTCACTGATGAGCCCGCGGGGAGGTGACACAGGGTGAGAGCCCAGAGCTCTGTGGAAGCTTTCCCGTTCTGCATGCCTTGCAGGTGCCCGGCTTCACGCCCTAGCGAAGCTTCGACGGGATATATCGTTTTAGGGGCGCCAGGCTCTCAACGTCACCTACAGCACTACACTCGCATGGCTGCGCTCCAGCCAGAGTGGCTTACGACGCAACAGTATTACCCGTCCGGCGGCCTCCAAGAACTCTGACGTATCGCCTCAGCGCCTACGCAAGTTGCCCGCCGTTATGAGGCGCGGTGAGCCGTCACAGGTCCGGCCTCCCAAGCAAGTCGCGGACTCCGGTCTTCGACCCCCCGGCCCGGCGGGAAAAGTCGAACGAGTCAATACGGCACCTGCCGGCCCGTTCAATCCGTGTTCCCGGACTAGCGCCGAGATTCTTGTTGCATGGCGGGCGAGAGCCCCAGAGCTAGAGGGGCGCCGCCAAAGGGAGCGCGCGCTCAGCTTCTGTAGCACGACCTTCGAGTGTAACGCGCCTTTCCGCGGCAAAGTGGTTCCGAGCCTCATTAGTACCGGCGTGACATGGCGGGCACATAATCGCGGAGGGAGACCATGTCGCACCCGTGTGGTACTACCAAAGCCTTGTGGCTAAATGCTTACGCGGTGGGTAAGTGGAGACTGGCTACCCCCCCGATGACTCCCTTGCTCCCAACAGAACTCGATCGGGCTAGAAGGCGACTTCCGCCATCAGCTCGTGCGGAATGCGACGAAAGTCAGACGGGAGGCTAGTCTAACCGAGCCTCTCATCGGCCAGCCACCCGTCATGCGTCGCGCAGGAGACGGACGCTGCGGCCAAGTTTCCGTTTTCGGAACCTGCTATCCAAATACTTCCGAGCGAGTGATCGCCAGACCCATGTGTCACATGCACCTTCCGATAACCGGCGACTTCTCATAGTGCCCTGGACATTCACCTGTAGGTTGTCGCAGAGTAGGCCTACCAGGGTTAAGGCCGGACAGACATTTTCGTTCCTACACAAAGACGATCTCTATCTCGGATACGAGTAGACGTGCAATCCTAGCCTACCCCAGGCTCCCCTGTACCTGACCTCTAGGCGAGCCCCATTAGGGGCAGAAGGTCCGATTCTCCCGTGATGGTGCGATCGGGGTCCATGCGCAGTTGCATAGCTCACGATTACACCGATTTCTACGACTGTAACCGTGGCGCACCGCATGTCTCTAGGGTTCAGTAAGCGGCCGTCGGGGGGCCGAGGGTAAGCATTCCTCAAATAGACCTAAGGGGGCAGATTTCAGCGAATGCAGGTTTCGAGCAGGAGACGGCAAAGAACTTACGCTCGTGTTGGTTACAGGGGGAGCGTCAACTTCCCGCCGCCGAGCACTCTCGAGGCCAGATGGGGCCCCGATTGTCTAGTTACGGGGGACCAAGCATCACACTTGAGTTTTGTTGATTGTCAGGCTCTGGGAGGTTGCCTAGATTCACATCGACTGTCGTAGTGGGGGTCTTAGCCGTAAGCGAGGGCTACTCAGGCCCAAACAACAAGCACGCCCCTTACCATTACCCCTACGGCCACGCTGTAGGCCACACCGCCCTAAGCCATCTATACGAGCCCCGTGACCGAGGCCCCTCGTAATGCCCCCCTGTAAACATGGCTGCGTTCGGCGGGGGGTTGGGAACGTGTTGTAGTGTGTGTATTAAAGTCCCATGGCCGGACAGACGTACCCCCCCCGGGGCAACCATGCGACGGAACTCCTATAATTTGTACGAAGTGCTTGGGCTTCCAGGGCTCGAATTACGTACGCGTGTCGGGCTCTCGCCCTTGTTAATCCGAAACCCGGGTCACCGGTGTGACCCAAACCCTGAGAATGGCGGGGGTGGATACGATCACGCAGCGAACCGCCGTAGGACAGACATCGCGCACCCCCGGCTTGGGGAGAGGGCGCCAGGCCTTGATAAGGTGACCGGTGTAGGGTTTCCGGGCGGGAGCTAATCTTCTGGTGGCTCAGGTTGGTAAACTCAACCGCGGCGCTAGCACAGGAAGTGACCACCCGCCCACATGCGCGCTAGACTGCGAAGTAAACCAACCGGGCCTCTACATCGGGCAAAGCGCAGTAACCGATACGAATACCTTACGGCTGGCATTGGACGTCAGAGGAGCTATGGTACCTGGAGCTGAGACAGGGGTCGGCACGCGCGTGCGTGGATGGCCGGCTGCGGCTCACCCCTGCCGTACGCGACCAATTGGGTTGATAGGTCTTGTGATGCAGTGCGGCGGCCCAAGTTGTCACAGGGCCGACGCATCACTCAGATCTTTTCCTGTCTTAGGGCGTTCCAGCCGCGTTCGCGGAAGGGGGCCAACCGTTTACCAGCGCCTTGCCAGTCCATTACGCGACATGTTGGCGGGCCGGGGTCGGACCCGGGGTAACTCAACACGGCAACATTCTATTGGGCGTAGTCGCGGCCGTACCCTATTTGCCGCAGGAGATAGACGGAATGTCGTTAAGGCAGTGAACCTGGCGCAGCATGGCGTGCTCTA\n",
      "GCGCGGGGGTTTCCGCATACCGGACTGCAAAAGCCGCTGTGGAGCCAAGTCTCTCCGCCGAGCCGTGCTCGCAACCCTCAGGCTCCTAGACTCGGCAAACAGCCGTGGGCTCCGATACATCCAATTACACGCACGCCCGTTGTGGTTTGACCGGATTTGCAGATGGGGTGCGGATGGCGCCCCGTTCCCCCCGCTTACCGGGGCTAAGATACGACGGCAGATAGCAGCTACCATTTGGCGGGTGAGTGCCTTTCGCTCTAAGCCGCCTGACGGAGATCTTAAACAGGAGTCGCGTGGCTCGCAAGGAGGCAGAGTGACTCGACCATTGGGTCAGCCCCCGCGCTGCGCTCGGCCGGTAAGCAGCGAGGCCTCCATCCTTGCGCATAGGTGGATAGGTATGCCCATGGGTTCCTCTCAGGAAGAGGGCCCCTTCGTAGCGATTCCGCCTTGGCACTTGCGAACACGGAGAAACCCCAAGTCACTCGACGGGAAGGATCTGTTGTCGATCTGGACGGGGAGGATTTACGCCGTCTTACCGCAGCGCAAATACGCCATTGTCAAGGGCACGGGAGAGGCGGTTAAGGCTTATCCCTCACGATGGACGAGACGATTGCGGGACCAGTTGGTTAGAAGCAGGTAATTGGCGGTGGGCCAGCCGCTGAGGCTTCCGCACGTCGCAGTGACATCGATCGACCCAAGGCTCGCATCGAACCAATTCCGGGCCGGGTACGCACGAGAGGAGAGAAGCATGAAGCGCCATAGGTCCTACTCGCGGAGCGCTCGTCCAGTCACTAGGCGTGGCTGGCCCCTCCCTGGGGGCACGTTCTCGGGATCAGCTCGGTGCTTGTAAGAGCGCGTGCAGTTTAGCGCGAATCATGTGTGCCTAAGACGGGAGATGGGCCAGGCATTGATTAGGGTCGGCATTGCAATCCGAGTCGCCACACGGCCGGAACCGCCCTCCGAAAGCGAGGCTCCTAGGAGCACTTGCAGGCCTGCAGACTGCGAGTTAAGCAAATAAGGCTCGACTCTGTTGGGCCTCAGGGCGTTCGGGGGTACACAATTAAGCAGAGACGGTCAGACTCACACATGTCACGAGATCAGGGTGCGTGCAATTATTGTTGGCGCGGCCTCTGACGGACCAAGCGTGTGACTATTGTGGCTAAGTCGGGGCCGGAGATTGCTCACTCCGCGGAGATATCCGTTGTTTCGAGGTCGTTCGGTATAGCGCGACGAGATCCCGGTCGGATTAACCGGCATTACGCGTTCTTTCTGCGTCCGCCGACACGGGTCGAGTGCGCAACGACACCGGTAGCTTTCACATCGAATTCAGTGACCCACCTATAGGCCTGCCTGGGCCGGCCGGGCCCTGACGCACTCTGAAGATCATCCGGGCGGTCCAGCCACGGGCTACCGCCGACGCGGTGAGTCTAGTCCCTGGCTTGCCAATGGTTTGACGGGAACGCTACACCTGCATCTCGTGACTCCCCCTCTTGCCGTCAGTGTTCCATGGGAAGGGGGGCTGGCGGTGAGGTTGTAGCATAAGAATGGATCTAATGGCCTCCGCGCACTGGGGGTTCGAATCAGTGGGACCGACGGGGGGGCCTCCGACGCGGATCCAGGGGCAGCCTTACCAAGGGTATCGATTTCTGTAACCCTTCTCCGTTGTGCCAGCGATGCTCTAAGCGACGACTTTTGGCGATGACCCGGGGCTGATGGTGATCGCAGTCGTCACTCCTCCCACAGGAAAACCAGTGAAAGGCGCCTGCGGGGTTCGCCACGCCCTACACCGCCATTACAACGGGGTATTTGTACTCTGACCCGCCGCGTCACGGTCCACCAGCCAGGCCAAAGGTCACCCCAGAGCCTGGACTCACGCCCACAACCAATCCGGGGAAGCGGATCGTGTTCCTACGGTTCTGACGCCGTTCACGTGACGCCGTTGCACGATCCCTATTTTTGGGCTCCCGGCTGCCACCCGGTTTGTCCTGTCCTTCGCTCCGAAGTCGAGCACCTATGCTGTCGAGATGGCCCGCCCTTGAGGGTTACCAAGGGGTCGTTTAGTTTTTTCCTGTTAGGGTGTAGCCCAGTGGCTTGCCTCCTTCCCAAAGCTAGATTCTTGCCCCAGGCAATTGCGGTGAGACCTGACAGCGTTCGTAAGCATCCATCCTGCTCGAGTTGGACTGCCGGCCCTGCTGGCAACGGGACGCGCCTCCGCTCACCGGCACGCGGAATCCGTCGACCGCCCAAGGGCGGAAGGCAGCGTTTCGTGCCCCGGTTCCTCCGACATGCGCGCCACAATACCCTGCCGCCCGTGTCTTAGTATGAGGCGGGCGGAACCCGCTTATATGGCACCGCTTGGCAGTGGCCCGATCTCACGTGCGCCGGCCAAGGGTCTAAGTGGGCCGCAGTGCGGGCGGACGTTCCCCAACACCCCAGACCGTTTAGCGGTTTGAGCTACGTTATTTCGGGTGAGTGCGACGAACCTCAGGCTGTGTATGCAGATACCAACGTGCGCCCGGATGAGATCGGAGGGGGATAGGGTAGGATTGTCGGAGGCTTCCTGACATGAGTCCATGCTTACGACCGAGACCTCTGCAGACGGTCCAGCGTACGCCAATGACTAGCATCTGGGAGCCTGCGCGTCTAGACTGGAACTCGTGAGGCCCCCGCAATGCCCATTCAGGCGGTAAGCGGTGTTCTGGCAGCTGTGATGGTGCCTCAACTGAGGCTCTCTCAAGCTGAGGTTATTGAGTGCCGTAGTTGCCGGGTTGTCGACCGCCTTAAACCCTAGGCCTCCTTTCCCGAAGGGCTGCGACTCCCACTCGGTACGGCATGTAGACACTTGGGTGAATGGGGGACACCACCCGGCACTCTCGATTAAGCGTTCGGCCTCCCAGCATGGACTCATCGTAACGCATCCTTCACGGTGGAGCGTGCAACACCGGGGAGACAAGTAGCTTGGCTCGGATCACGAAGTTTTTGCCGTTCAAATGCGCCCGTAATGTCCGGAATTTGGGACGAGCAGGGTGTCAAGATCGGTTGCCCAAGTGAGCCCTGACCAGCGAATGTAGTCCAACCGTGTTCTCAAGCGCTTAATATCGACTCTCTCATCAAACCCGAGTACCGTGCCGACAGGAGCGGCAACTTTGCAACCTACCTCCCCGGTCGCGTCCCCGCCGGGTCGGTTGATTCCAATTCCGAACCCCTTCGGCGGGCGATGGGGATACTCTTGAGCATCGAAGTGCGGCATTCCGCATTTTACCGTATTACTGCGATCGGCCTGTGGTCCAAAGCACCTCACCCCTGCGGAGGCGCCTTACACATGTAAGGTGTGAGGGGACATTGCTAATCAACGATGCACTCTAGGTCAGTAACCCGAAACATTGGGCGGGCGTCCGAGCGCGCCTGCGACGGCGGGTGGGTCTGGTCCCCCACGTCCGTCTGCCTGCGGACCAGCAGATCTTTGCGCGTTGACCTGGGTCTGTTCGGGCTTGCCCGTCGACGATGTGAGGTTCCAGCATGAACCCGTTATTCCGGGCAGATACAGCTGTCGGCGTAAGGGGGTGAAGGGGCACACTTTGTCCCCCCAGCCCTGTGCACATACTCACCGACCCTTGGCCACCGAACACCACGCCCCCGCGTCATTATCCCCTATGTACCATCGAAGACGATGAGGGGTTTAGACGTCCAGAGGCACCCACTGTCGTGGAGAGCACGTGCTGCTGTCGGGACCACGCACCCGCAGCGGAGCCGTGATTTCCACAAACAGTAATGCGTAGCCCGGGGCCTCTTCACAGGTGAACGGTAGCTCGGCGCCCCCCGGATGTATAGCTTAGGCGAAGGATCAGGTACAGCACATTTGGAATTGTAACTAAGGAGAAGGTGGCGTCGCCTCGCTATCAAGGTTGTGGGTGACCCAGTCTAGCTATCCGTGCTACGATGTATATTCTCGGCAACGCTCCTACATGAACACTGTGATGGTGAACCCAAAGGGTTCGGCGCGGGACTAACCTGGTGCTCCGTTTCCGCGTGCGCCGTCAATTCGAGTCGGCATGGCAGGGACCAGAGATAGTCCGCCGGCCAGCGGAGCGATACCGCTCTTCCCAGCAGGACAGGACTGGTCTGGATTGACTTGGAAAAGGACATCTATAATCACACTCGTCGGCGGGACCCCGCTAGGCGCCGGGTCTTGGATCGGCTGACGCCAGTACCCTAACATAGGGCCGGCGTCTATGACCGGTCGCAGACGAGCTTCTCGGGGGCAGGCGGGCGTCGTCAGGCAGCCAAATGCTACAGCATTCGGGCAGCAGGGGAAACCAGAAAAGACGCCCCTGCGATCTGGCGGGTGCGACTAGCCCACGCCCCGATTTCGAGATTACCACGGCCAGTAGGCGGGAGTACCGACCTCGTCACGGGCTAGACGGCTGGCTGAAAGGCTGCGCTGGTCGGTTCGGCCAGCGTTACCGGGCAGCCGGCAACCCGGATCGCGCTAACCGGGGCCTGACCGCAGACACGGTTCGCTACGACGAGCAAAGGGAACTTCGCGCCGCGTCTCGTCAGCATCAGAGCAGACGGCCGAGCTGGCCACGACCCGCTGCGGACAGGTTTGCGCGGGTCCACGCTAAGTAAGTTAGGACTCATGTCGCGTAGGGGAACGGGCGCTCGCGGTAGACTCTAGGTGATGTCATCTCCTCGCCACCAGCGGTCGGCATGCAAGCAGAAGGCCAGTGAGGGTGCCCTGTCGCGCCTACGTCGGTGCAACCCGTCATGTCACCGCGACAGTAGGTCGTGCCGTTCGGGTTACATTCTTTGTGAATTCTTCAACCCCAAGGAGCTCACGAACCTGCCTGGGTCTTCCTGTCAGACTCCGGTGTCCGGTCCGCGCCCCCTGCCGGCTCCTCTGTCGGACGCAACGGGGGATTCGGAACCCACGTAGTGGGGATCTGTGTTTCGCCGCAATGCCACCAGCACCTAGGAGAGTCCTTTCGAAGTTCGTTAATCGCCCCTCGGTGCTGGCCTCCATTCCCGTAGCGTGTATGAACGGTCTCGTCGTACGTTCACTCAGGATACCCCTGCATGACTGGTGGGGATACGACTTGGCCATGGGCACGGTTAAGCCTGCGTAGGGGCGTGCCGCGGCCCAAGCATCCCTACGTGGGGCTCCCTAGCGTCCCTGCAGTGGGGCCTTGAAAGGTTGCGTGGGATAACTAAGACCTAACAGCTAACTCCGCCTTCGGGTTGTAGCACACGGGCAGGGGGAGGGACGGATGGCTTCCCGCCCCAGGTGCTCCATTCGGTACGATGGAGTGGGCATATCGCTGCCTCGCCGCCTCCAGCACCATCGCGACGGCTTTTGACGCTCACCTCAGTGCCCTTAGCGACTATACGAAGGGGCAATATAGGTCCGTCGGATGGACGCCGATCGCAGGCCGTCGGTAATCCTATTGCCCGTACGGCTCAGGCCCGGACGGAGAGAACGGCATCCCCGCAGGGCCGGTCCCAGCTCTGATAACCCCATGAAAAATTCAGGCTTTCCTCACAACGTCTATCGGGGCCCTTTGCCCGTTGGTTTTTCGAGGCAACATTGGTGGTCCGCGTACGGAGCATTGTTTCCCGGCTGGGAGCCCCGGGTTGCGGCTCCATGATGTACCGGCTTTCGGCCGAAGTGGCGCAGGTCAGCAGGCTCACTGATGAGACCCGCGGGAGGTGACACAGGGTGAGAGCCCAGCAGCTCTGTGTAGCTTTCCCGTTCTGCATGCCTTGCGGTGCCCGGTTCACGCCCTATGCGAAGCTTCGACAGGGATATTCGTTATTAGCGAGGCGCCAGGCATCTCAAACGTCGACCTACAGCACTACACTCGCATGGTCTGCGCTCCAGCCAGAGCTGGCTATACGACGCAACAGTATACCCGTCCGGCGGCCTCCAAGACTCTGACGTATCGCCTCAGGCGCCTACGTCAAGTCGCCCGCCGTTATGAGGCGCGGTGAAGCCGTCACAGGTCCGGCCCCCCAAGCAAGCGCGGACTCCGGTCTTCGACCCCCCCGGCCGGCGGGAAAAGTCGAACGAGTCAATACGGTCATCCTCTCGGCCCGTTCAATCCGTGTTCCCCGGACTAGCGCCGAGATTGCTTGTTGCATGGCGGGCGAGAAGCCCCAGAGCTAGAGGGGCGCCGCCAAAGGGAAGGGCGCGCGCATCAGCTTCTGTAGCACGACCTTCGATGTACGCGCTTTCCGCGGCAAAGGTGGTTCCGACCTCATGTAGTACCGGCGTGACATGGTGGGGCTACATAATCGCAGGAGGGAGAGCCTGTCGCACCCGTGTGGTACTACCAAAGCCTTGTGCGTAAAGCTTACGCGGTGGGTAAGGGCAGACTGGCTACCCCGCGCGTAGTGACTCACCTTGCTCCCAACAAGAACTCGTCTGGCTAAAGGCGATTCCGCCATCAGCTCGTGCGGCCAATCGACGAAGTTCAGACGGGAGGCTAGTCGAACCGTGCCTCTCATCGGCCAGCCTACCCGTCATTGCGTCGCGCAGGAGACGGACCTGCGGCAAGTTTCGTTTTATCGGAACCTGGCTATCCAAATACTTCCAGGCGATGTGGTGCCAGACCATGTGTCATACATGCACCTTCCGATAACCGGCACTTCTCATAGTGCCCTGGGACCGATTCACCTGGTTAGGTTGTCGGCAGAGTAGCCTACCAGGGTGTAAGGCCGGCACAGACATTTTCGTTCTACACAAGACGATCTCTATCTCGGAACGAGTGTAGACGTGCAATCCTAGCCTACCCCATGGCTCCCCTGACCTGACCTTAGGCGAGCCCCCGATTGGAGCAGAAGGTCCCGATTTCCCGTGATGTGCGATCGGGGGTCATCGCAGTTGCACTAGCTCAACGATTACAACTGATCTTCTAACGACTGTAATCCGATGGGCACGCATGTCTCTAGGGTTCAGTAAAGCGGCCGTCGGGGGCGAGGGTAAGCATTCCCCATAGACCTAAGGGGGCCAGATTTCCGCGAATGCAGGTTCGAGCGCAGGAAGACGGCAAAGAACTTACGTCTTGGTTGGTACAGGGGAGCTCAACTTCCCGCCGCCGAGCCACTCTCGGGTCCAAGATGGGGCCCCGATTGTCCTGGTACGGGGGACCAAGCTCACCTTGAGTTTTTGTTGTATATGTCAGGCCTGGGAGGTTGCCTAGATTCACATCGACGTGTCGTAGTGGGGGTCTAGCCGTAACGAGGGCTACCAGGCCCAAACAACAAGGCACGCCCCTTACCATTACCCTACGGCCACGCTGAGGCCGAACACCGCCCTAAGCCATCTATACGAGCCCCGCCTGGCCGAGGCCCCTCGTAATGCCCCCCTGTAAACATGGCTGCAGTTCGCGGGGGGGTTGGGGAACGTGTTTGTAGTGTGTGTATTAAAGTCCTGGCCGACAGACGTCACCGCCCCCTGGAGG\n",
      "GCAAGCAATACAAGGCGCTGGGGCTCATGTACTGCTTTCTTCGCCTGAGC\n",
      "CTCGTCATGGTACACATCCTGCTACGAGCCATAGACTGTTGAAAGCTCCGAGGAAGCGTGCCAGGCCCGATGCCGCAGGGAGCGACTTAGCTAGGTCAGAGTGAGACGTGTCGCTTGAGCGTCCGCAGTACAGGAAGTGGCACGACGATCCTGAGGCCCTGAACGTGGCGTAGGCCACTTTGACCCGGTACTCTAGCAAGAGCAAGCTGGGACCTTCGACGGTCGTCCAGGGTTGCGACGTAAGACGGCGCCCCAAGCCAGTCATCAGCCCGCGCTGTCTATACACCGACCAGGCCTCTCCGGGGAAAATGCACACAGCGCTATTGTGCTTTAGAACACACATCAGAGGTCCCATAACCGAGCCTACCTCGCTGCTCCCACCGCCACCACTTCATTCATGCGGCGGAACGGCGTACGCACATACCGCCAGGGGAGAGTCATCCTTTATAGTTCACCGCGCAAGGCGCAGTGGCCGCGTGATTCGCGTTGCGCCGGCCAGCCTCGGCAGTGACTAATCCGGTTGGCCGCGAGCCCGAGCGTAGCGCACGGCGATGTACGTTCCCGCGAGTACTCTCCGTGGAGGACGGCGCTCATCTCGCTGGGGCCGCCTAGTCTCTAACCCGCGCAATGTAGCATCCGTACGACTGTGTTTCTGACCGACCCTCGCGGGGGCTCCCGTCCTTTCCCGATCAGGCGTCACATTCGCTTACGACATGAGCCCGGCGCCCGCTTCTCCCCATCGGACCTAGCCCCTCTCGGAACCCGCCATGAGCGAAAGGCCGCTGGCGGACCACAGCGGCAGAAGCTACGAGGCAGCCGGAGCCACACCGTCCACAGCCCGGTCGCGACGGGATGCAGCACCCATTATCTTTCACGCAGTGCGTTAGGATACCCACTAATGTACTAATAAGTCCGCCGGGGCCTGGTAAGGGGTAGGTGCGCGAAAGGCACAATCCTGTTGCGGGGACCCTCCAGATAGTGCTTGACTGGAATGTGGTGTAGCTTGTGAACAGGGAACGCCGCCTGGGACCCTATCCGGACGTGCGACCTCCCCGGGGTAGACTTACTCCGATCTCAGAAGCCGCCCCGGCACGCGCGCTTGGTCAGACCGCACATACTGGCGTCACGTTGGGGGGCCTAAGCAGAGGCAGCGTGAAGCTCCGTCATGGCATTCGACGGGCTGTGAAGCGGAGAGTGCCTGCCGCGATGCTTAGAGCTCTCGCGGAGGTAAAGGCCGCACACGGTAGGTGGGCCGGCGTTTCACACATCCGATGTGAGGGGGGCTGCATACGTACCCCGACGCATAGACGCAAACAATGTGCCCATTTAACAGTCCAATAGTCCGCACCCCCGGGGTGCCATGTGGCTGAGACTGAGCAGGGTCCTCCTAGCACCCTCCCGGAGGATTCCACGGTGCGCCAGATAGCGTTCCCGGCAGGACTGGGCCGGTCGCCAGGAGCGGTCAACTTGACGGAGTCGTTCTGAGTGCGATGTTCCGGATACCTATGTTGAAAGTCCCTCGAATACCCATAAGCTAGGTGGGTGATCTAGCCGGCCAAGCGCTTGAGTTACGTTGCGCAAGCAATCACAAGGCGCTGGGGCTCTATGTACTGCTTTCTTCGCCTGAGCAGACCACTGATCGTTGCCACGCCTGGCCGGGTAGAACGCGCGGGGGGTTTCCGCATACCGGTGCAAAAGCCGCTGTGAGCCAGTCTCTCCGCCGAGCCGTTGCTCCAACCCTCAGGCTCCTAGCCTCGGCAAAAGCCGTGGGCTCCGATACATCCAATACACGCACGCCCGTTGTGGTTTGACCGGTTGCAGATGGGGTGCGGAGGCGGCCCCGTTCCCCCGCGCTTCACGGGGTAAGAACGACGTGCAGATAGCAGCTAACCATTGTGCGGTGATGCCTTTCGCTCTTAAGCCGCCTGACGGAGATCTTAAACAGGAGTCGACGTGGCCTCGACAAGGAGGCAGAGTGACTCGACCATTGGTCAGCCCCCGCGCTGCGCTCGGCCGGTAAGCAGCGAGGTCCCCATCCTTGCGCAAGGTGGATGGTATGCCATGGTTCCTCCAGGCAGAGGGCCCCTTCGTAGCGATTCCGCCTTGGCACTTGCGAACACGGGAAACCCCAAGTCACTCGCGGGAAGGATCTGTTTGCGTCTGGACGGGAGGATTTACGCCGTCTACGAGCGCAATTCGCCATTGTCAAAGGGCACTGGGAGAGGCGGTTAAGGCTTATGCCCTCACGAGGACGAGACGATTGCGGACCAGTTGGTTAGAAGCAGGTATTTGGCGGTGGGCCGCCGCGAGGCTTCGCACGGTCGCAGTGACATCGATCGACCCAAGGCTCGCATCGAACCAATTCCGAGGCCGGGTACGCGACGAGAGGAGAGAAGCATGAAGCTGCCATAGGTCCTACTCGCGGAGCGACTCTGCAGTCATAGGGGTGGCTGGCCCCTCCCGGGGGCACCGTTCTCGGATCAGCTCGGTGTTGTAAGAGCCTGCAGTTAGCGCCGATCATGTGTGCCTGAAGACGGAGAGATGGGCAGGCATTGTTAGGGTCGGTCATTGCAATCCGAGTCGCCCACGGCCGGAACCGCCCTCCGAAAGGAGGCTCCCTAGGCACTTGCAGGCCTGCAACTGCGGTAAGCAAATAAGGCTCGACTCTGTTGGGCCCAGGGCGTTCGGGGGTACACATTAAGCAGGAGGTCAGACTCACACATGTCCAAGAATCAGGGTGCGTGCAATTATTATGTTGGCGCGGCCTCTGACGGACCAAGCGTGTGAACTATTGTGGGCTAAGTGGGGCCAGGAGATTGCTCACTCCGCGAGATTATCCCGTTGTTTCGAGGTCGTTCGGTATAGCGCGACCGAGCATCCGGTGGATTAACCGCATTACGCGTTCTTTCTGACGTCCGCCGACACGGGTCAGTGCGCAACGACACCGGTAGCTTTCACATCGAATTCAGTGACCACCGATAGGCCGCCTGGGCCTGCCGGGCCTCTGACGCACTCTGAGATCAAATCCGGGCGGTCAGCCACGGGCTACCGCCGACGCGGTGAGTCTATCCCTGGCTCTGCCAGGTTTGAAGGGAACGCTACACCCTGCATCTCGTGACTCCCCTCTTGCCGTCCAGTGTCTAACCATGGGAAGGGGGGCTGGCGGTGGGTTGTAGCATAAGAATGGATCTAATGGCCGCGCACTGGGGGTTCGAACAGTGGGACCGACGGGGGGGCCTCCGACGCGGATCCAGGGGCAGCCTTACCAGGGTATCGATTCCTGTACCCTTCTCGTGTGCCAGCCGATGCTTAAGCGACGACTTTGGCGATGACCCGGGGCTGATGGTGATCGCAGGTCCGGTCACTTCCTCCCACAGGAAAACAGTGAAGGCGCCTGCGGGGTTCGCCAACGCCCCCTCACCCGCCATACAACGGGGTTTTGTACTCTGACCCGCGCGCGTCACGGTCCCACCAGCCAGGCCAAAGGTCACCCCGAGCCGGCTCACGCCCCACAACCAATCCGGGGAAGCGGATCGTGTTCCTACGGTTCTGACGCCGCTCACGTGGAGCGCCGTTGCACGATCCCTATTTTTGGGCTCCCGCGTCTGCCACCCGGTGTTGCTCCTGTCCTTCGCTTCCCTAAGTCGAGCACCTATGCTGTCGAGATGGCCCGCCCTTGAGGGTTGACCAAGGGGCTGTTTAGTTTTTTCCTGTAGGGGTACCCAGGGCTTGACCTCCTCCCAAAGCTAGATTCCTTGCCCCAGGCAATTGCGGTGAGACCTGAAGCGTTCGTAGCCTATCCCAATCCGCTCGAGTGGAACTGCCGGCCCCTCTGGCAACGGGACGCGCGCTCCGCCCCTGGCACGCGGAATCGCTCGACCGCCCAAGGCGGAGTGCAGCGTGGTTCGTAGCCCCGGTTCCTAGCCAGACATGCGCGCCACATACCCGCCCGCCCGTGTCTTAGTATGAGGCGGGCGAGAACCCCTTATATGGCACCGCTTAGCAGTGCCACGATCTCACGGCGCTCGGCCAGGGATCAGAAGTGGGCCGCGTAGCGGCGGACGTTCCCCAACACCCCAGACCGTTTAGCCGGTTTGAGCTACGTTATTGGGGAGTGCGACGAACCCAGGCTGTGTATCAGATACCAACGTGCGGCCCGGATGAGATCTGGAGGGGGGTATAGGGTATGGATTGTCGAGAGGCTTCTGACATCGAGTCATGCTTACGACCCGAACCTCTGCAGACGGTCCAGCGCACGCCAATGACTACACTGGCCCTGCGCGTCTGACTGGAACTCGGAAGCGCCCCCGCAAGTGCGCATTCAGGCGGTATAGCGTGTATCTGGCAGCTGGTGATGGTGACCTCAAAACTGAGGCTCCTCAGCGAGAGGTTATTGAGTGCCTGTAGTGCCGGTTGTCGACCGCCTTAAACTCCTAGGCCTCACTTTCCCGAAGGCTGCGACTCCACTCGGTACGGCATGTAGACACTGGGTATGGGGGGACACCACCCGCACTCTGCGTAAGCCGTTCGGCCTCGCCAGCATGGACTCATCGTGAAGCATCCGTTCATGGCTGAGGTGGCACACCGGGGAGACAAGTAGGCTTGGCTCGGATTCACGACAGTTTTCCGTTCAAATGCGCCCGTAATTTCCGGAATTTGGAGCACGAGGCAGGGTGTCAAGATCGGTTGGCCCAAGTGAGCCTGACCAGCGAATTGTACGGTCCAACCGTCGGTTCCAAGCGCATTAATTCGACTCTCCTCATCAAACCGCGAGTACCGGCCGACAGGAGCGGTCAACTTTGCAACCTCTCCCGGGTCGCCCCCGCCGGGTCGGTTTGATCCAATTCAACCCCTTCGGCGGGCGATGGGGTAACTCTGAGCATCGAAGGCGGCATTCCGCATTTTACCGTTACGCGATCGGCCTGTGTCCAAAGCACACCACCCCTGCGGAGGCGCCTTGACACAGATAAGGTGTGAGGGGGACATTGCTAATCAACGACTGCATCTAGGTCGAGTAACCCGACAACATTGGGCGGGCGTCGAGCGCCCTGCGACGGCGGGTGGGGTCTGGTCCCCCACGTCCGTCTGCCTGCGGACCAGCAGACTTTGCGGTTGACCTGGTCGTTCGGGCTTGCCCGTGACGATGGAGGGTTCCAGTCATGAACGCGTATTCGCGGGCAGATACAGCTGCCGGCGTAAGGGGGTGAAGGGGCACTCTTGTCCACCCCAGCCACTGTGCACATACTCACCGGACCTATGGCCACCGAACCACCACGCCCCCGCGTCATACCACCTATCGTACCATCGAAGACGATGAGGGGTACTTAGACGTCCAGAGGCTACCCACCTGTCGGGAGAGCACGTGCTGGCTGTCGGGACCACGCACCCGCAGGGGAGCCGTGATTTCCCATAAAGTAATGCGTAGCCCCGGGCCTCTTCACAGGTGGAACGTAGCTCGGGCGCCCCCCGTGATGTATGCTTAGTGCGAAGGATTCAGGTACAAGCACATTTCGGAATCTGTAACTAGGAGAAGGTGGCGTCGCCTCGCTCATCAAGGTTGTGGGTGAACCCAGTCTAGCTATCCGTCTACGATGTTATATTCTCGCACGCTCTACATGAACACTGTTGATGGTGAACCCTAAAGGGGTTGGCGCGGGACTAACTGGGTGCTCCGTTTCACGCGTCGCCGTCAATTCGAGTCGGCATTGGCAGGGAGCCCAGACGCAAGTCCGCCGGCCAGCGGAGCGATACCGCTCTTTCCGCAGGACAGCACGGTCGGATTGTACTTGGAAAAGGACTCTATAATCACACTCGTCGGCGGAGACCCGGCTGGCGCACGCGGTCCTGTAGGATCGCTACGCCAGTACCTAACATAGGGCCCGGCGTTATGACCGGTCGCAGACAGAGCTCTCGGGGCAGGCGGGGTCGCAGGCAGCCAAATGCACAGCCATTGGGCTAGCAGGGGAAACCAAAAAGACGCCCCTCGATCTGGCGGTGCGCATAGCCACGCCCGATTCGAGATTACCACGGCCAGTAGCGGGAGTACCGACCTCGTCACGGTGCTAGACGGCTGGCTGAAGGGTGCCTGGTTCGGTTCGGCCAGCTTACCGGGCAGACCGGCCAACCCGATCGCGCTAACTCGGGGGCCTGACCGCGAGGCACGTTCGCTACGACGAGCAAAGGGAACTTCGCGCCGCGTCTCGTCGGCATCAGAGCAGACGGCCGAGCTGGTCCACGCCCGCTCGCGGACAGGTTTGCGCCGGGCCACGCTAAGTAGTTAGGATCCTCACTTCCGTAGGGAGACGGGCGCTCGGTAGACTCTAGGTGATGTCATCTCCTCAGCGCTCACCAGCGGTCGGCATCAAGCAGAGGGCCAGTGAGGGTGCCCCTGCGCGCCTCACGTCGTGCAACCGCGTCTATGTCACGCGCGATCAGTAGGTCGTCCGTCGGGTTACATTCTTTGTGAATTCTTCAACCTCCCAGGAGCTGCACGACCTGTGGGCTTCCTGTCAGACTCCGGTGACCGGTCCGCGCACCCCTGCCGGCTCCTCTGTCGGACGCAACGGGGGATTCGGAACCCAACGTAGTTGGGGACGTGTTATCGCGCAAGTGCCACCAGCACCTAGGATGGTCCTTCGAAGTTCGTTTAATGCCCGTCGGTGCTGGCCTCCATTCCGCGTAGCGTTAGACGGTCTCGTGCGGTACGTCAACTCAGGGATACCCCTGGCATGACTGGTGGTGGTATCGACCTGTGGCCAGTGGCACGGGTTAATGCCTGCGTAGGGCGTGCCGCGGCCGCAAGCATCCATACGTGGAGGCTCCCTAGCCGTCCCTGCAGTGGGGGCCTTGACAAGGTTGCCGTGGGATAACTAAGACCTAACAGCTACTCCGGCCTCGGCGTTTGTAGCACACGGGCAGGGGGGAGGCGACGGATGGCTTCCCGCCCCAGGTGCATCCCATTCGGTCACGTGAGAGTGGGCATATCGCTCCTCGCCAGCCTCGCACATCGCGCGCGCTTTTGACGCGTCACCTCAGTGCCCTTAGACTAACGAAGGAGGGCAATATAGGTCCGTGGATGGATCGCCGATCGCAGGCCGTCGGTAATCTATGCCCGTACGGCTCAGGCCCGGACGGAGATACGGCATCCCCGAGGGACCCGGTCCAGCTCTTGATAACCCCATGAAAAATTAGGCTTTCCTCACAAGTCTATCGGGGGCCCATTGCCCGTTGGGTTTTCGCAGGCAAGCATTGGGTGGTCCGCGTACGGGAAGCATTGGTTCCGGCGGGAAGCCCGGGCTTGCGGCTCCATGAATGTACGGCTTTCGGCGAAGTGGCGCAGGTCAGCAGGGCTCGACTGATGAGCCCGGCGGTGCAGGTGACACAGGGTGGAGAGCCCAGAGCTCTGTGAAGCTTTCCCCGTTCCTGCATGCCTTGCGGTGCCCGGTTCACGGCCCTATGCGAAGCTTCGCGGGATATTCGTTTTAGGGGTCGCCAGGCTCTCAACGTCGACCTAACAGCACTACACTCGCATGGCTGCGTCTCCGAGCCAGAGTGGCTTACGACGCAACAGTATACGCCGTCCGGCCGGCCTCCAAGAACTCTGACGTATCGCCTCAGCGCCTACGTCAAGTCGCCCGCGCCGTTATGAGGCGCGGTGAGCCGTTCACAGGTCCGGCCCCCAAGCAAGCGCGGACTCCGGTCTTCGACCCCACCGGTCCCGGGCGGGAAAAGTCGAACGAGTCAACTGACGGCACCTCTCGGCCCGGTTCAAATCCGTGTTCCCGGACTAGTACGCCGAGATTCTTGCTTGCATTGGCGGGCGAGAGCCCCAGAGCTAGAGGGGCGCGCCAAAGGGACAGGGCGCGCGCTCAGCTTCTGTAGCACGACCTTCGATGTGACGCGGCTTTCCGCGGCAAAGTGGTTCTCGACCTCATTAGTACCGTTGCGTGACATGGGGGCACATAATTCGCGGAGGGAGACCTGTCGCACCCGTGTGGTACTACCAAAGCCTTTGTGCTAAGCTTACGCGGTGGGTAAGGGAGACTGGCTACCCCCCGATTGACTCCCTTGCTCCCAACAGAACTCGATCGGCTAGAAGGCGACTTCCCCATCAGCTCGTGCGGAATCGACGAAGTTCAGACGGGGGCTAGTCAACCGGCCTCTCATCGGCCAGCCACCCGTCATGCGTCGCGAGGAGCGGACGGCTGCGCGGCCAGAGTTTCCGTTTATCGGAACCTGCTATCCAAATACTTTCCGAGCGAGTGTGCCAGACCATGTGTCACATGCACCTTCCGATAACCGGGCACTTCTCATAGTGCCCTGGACATTCACCTGTAGGTTGTCGCAGAGTAGCCTACCAGGGTTAAAGGCCCGGAACAGACATTTTCGTTCCTACCACATAGACGATCCTATCTCGGATACGAGTAGACGTCGCAAATCCTAGCCTTACCCATGGCTCCCCTGACCTGACCTTAGGCCGAGCCCCCAATTGGAGCAGAAGGTCCGATTTCCCGTGATGTGCGATCGGGGTCCATCGCAGTTGCTACTAGGCTCACTAGATTACTACCGACGTTCTAACGACTGTACACGTGGCGCACGCATGTCTCTAGGGTCAGTAAGCGGCCGTCGTGGGGCGAGGGTAAGCAATTCCTCAATAGACCTAAGGGGGCAGATTTGCCGCGAATGCAGGTTTCGAGCAGGAGACGGCAAACGAACTTACGTTGGTTCGGACTAGGGGGAGCGTCACAACTTCCCGCCGCCGAGCACTTCGAGGTCCGAGATGGGGCCTCGATTGTCTAGTAGGGGGACCAAGCTCACAGCATTGAGTTTTTGTGATATGTCAGGCCTGGGGAGGTTGCCTAGATTCACATCGACTGTCGTAGTGGGGGTCTAGCCGTAACGAGGGCTACTCAGGCCCAAACAACAAGGCATCGCCCCTTACCATTACCCTACGGCCACGCTAGGCCAGCACCGCCCTAAGCCACTATACGAGCCCCGCTGGCCGAGCCCTCGCTAATGCCCCCCTGTAAACATGGCTGCGTTCGCGGGGGGTTGGGAACGTGTTTGTAGTGTGTGAGTATTAGAAGTCCTGGCCCGACAGACGTCACCGCCCCCCGGGGGCAACCAGTGCGACGGAACTCGCTATATACATTTGTACGAAGTGCTTGGGCTTCCAGGGGCTCAATTACGTACGCGTGATCGGGCTCTCGCCTTGTTTAATCCGAAACCCGGAGTCACCGGTTGAACCAAACACCTGAGAATGGCGGGGGTGGAGTACGATCCACGCAGCCGACCGCCGTAGGACAGACTTCGCGCACCCCCGGCTTGGGGAGAGGGCGCCGAGGCCTTGATAAGGTGACCGGTGTGGGTTTCCGGCGGGAGTCTAGATCTTCTGGTGGCTCAGGTTGGTATAACTAACCGCGGCGCTAGCACAGGGAAGTGACCACCCCGCCCACATGCGCGCTGACATGCGAAGTAATCCAACCGGGCGCTCTACTTCGGGCAAAGGCGCAGTAACCGATACGAATACCCTTCTACGGCTGGCATGGACGTCAAGAGGAGCCTATGGTAACTGGAGCTGAGACAGGGGTGCGGACGCGCGTGGTGGATGCCGGCTAGCGGCTCACCCCTGGCACGTACGCGACCAATTGGTGATAGGTCTTGTTGATGCAGTGCGGCGGCCCCAAGTGTCACAGGGCCGACGGCATCACTCCCAGATCTTTCCTGTCTGGGCGTTCCAGCCCGCGTCGCGGAAGGGGGGCCAACCGTTTACCAGCGCCTTAGCCAGTCCATTACGCGACGATGTTGGCGGGCCGGGGTGACCCGGGGTAAGCTCAACACGGAACATTCTAGGGCGGTAGTCGCGGCCGTATCCCTATTTGCCCAGGAGTTAGCCGGAATGTCGTGTAAGGCAGTGAACTCTGGGCACGTGGCGTGCTCTAAGCAGCAGCCTGTGATGAGGAGATCACCGAACGGCGTATGCTCTTTTTGATTTGCCGCG\n",
      "GCGGGGGCTCCCGTCCTTTCCCGATCAGTGCGTCACTATTCGCTTAGACATGAGCCCGGCGCCCGCTTCTCCCCATCGGACCTAGCCCCTCTCGGAACCCGCCAATGAGCGAAAGGCCGCTGGGCGGACCACAGCGGCAGAAGCTACGAGGCGCACGGAGCCACACCGTCCCAGCCCGGTGCGCGACGGTGATGCAGCACCCATTATCTTTCACGCAGTGGTTAGGATACCCACTATGTACTAAAAGGTCCGCCGGGGCCGGTAAGGGGTAGGTGCGCGAAAGGCACAATCCTGTTGACGGGGACCTCCAGATAGTGCTTGCTGGAATGTGGTGTAGCTTGTGAACAGGGAACGCCCCTGGGACCCTATCCGGACGTGCGACCTCCCGGGGTGACTTACTCCGATCTCAGAAGCCGCCCGGCACGCGCGCTTGGTCAGACCGCACTACTGGCGCCGTTGGGGGGCCTAAGCAGAGGCAGCGTGAAGCTCCTCATGGCATTCGACGGGCTGTGAGCGGAGAGTGCCTGCCGCGATGCTAGAGCTCTCGCGGAGGTAAAGGCCGCACACGGTAGGTGGGCCGGCGTTCACACATCCGATGTGAGGGGGGCTGCATACGTACCCCGACGCATAGACGCAAACAATGTGCCCATTAACAGTCCAATAGTCGCACCCCCGGGGTGCCATGGTGGCTGAGACTGAGTCCAGGGTCCTCCTAGCACCCTCCCGGGAGGATTCCACGGTGCGCCAGATACGCGTTCCCGGCAGGACTGGGCCGGTCGCCAGGAGCGGTCACTTGCGGAGTCGTTCGAGTGGCGATGTCCGAGATACCTATGTTGAAAGTGCCCTCGAATACCCATAAGCTAGGTGGGTGATCTAGCCGGCCAAGCGCTTGAGTTACGTTGCGCAAGCAATACAAGGGCGCTGGGGCTCATGTACTGCTTTCTTCGCCTGAGCAGACCACTGATCGTTGCCAGCTGGCCGGGTAGAACGCGCGGGGGGTTTCCGCATACCGCGTGCAAAAGCCGCTGTGAGCCAGTCTCTCCGCCGAGCCGTGCTCCAACCTCAGGCTCCTAGCTCGGCAAAAGCCGTGGGCTCCGATACATCCAATACACGCACGCCCGTTGTGGTTTGACCGGTTGCAGATGGGGTGCGGAGGCGGCCCCGTTCCCCCCGCTTGCACGGGGTAAGATACGACGGCAGATAGCACTACCATTTGGCGGTGATGCCATTTCGCTCTAAGCCGCCTGACGGAGATCTTAAACAGGAGTCGCGTGGCTCGCAAGGAGGCAGAGTGACTGCGATCCATTGGTCAGCCCCCGCGCTGCGCTCGGCCGGTAAGCTAGCGAGGTCCCCATCCTTGCCGCAAAGGTGGATGGTATGCCATGGTTCCTCCAGGCAGAGGGCCCCTTCGAGCGATTCCCGCCTTGGCACTTGCGAAACGGGAAACCCCAAGTCACTCGCGGGAAGGATCTGTTGCGTCTGACGGGAGGATTTACGCCGTGTCCTACGAGCGCAATACGCCATTGTCAATGGGCACGGGATGAGGCGGTTAAGGCTTATCCCTCACGAGGACGAGACGATTGCGGACCAGTTGGTTAGAAGCAGGTATTGGCGGTGGCCGCCGCGAGGCTTCCGCACGGTCGCAGTGACATCGATCGACCCAAGGCTCGCATCGAACCAATTCCGGGCCGGGTACGCACGAGAGGAGAGAAGCATGAAGCGCCATAGGTCCTACCGCGGAGCGCTCGTGCAGTCATAGGGGTGGCTGGCCCCTCCCGGGGGCACGTTCTCGGATCAGCTCGGTGTTGTAAGAGCCTGCAGTTAGCGCCGATCATGTGTGCCTGAAGACGGGAGATGGGCAGGCATTGATTAGGGTCGGCATTGCAATCCGAGTCGCTCCACGGCCGGAACCGCCCTCCGAAAGCGCAGAGCTCCTAGGCACTTGCAGGCCTGCAGACTGCGGTAAGCAAATAAGGCTCGACTCTGTTGGGCCCAGGGCGTTCGGGGGTACACATTAAGCAGGAGCGTCAGACTCACACATGTCCAAGATCAGGGTGCGTGCAATTATTGTTGGCGCGGCCTCTGACGGACCAAGCGTGTGAACTATTGTGGGGCTAAGTCGGGGCCGGAGATTGCTCACTCCGCGGAGATAATCCGTTGGTTTCGAGGTCGTTCGGTATCAGCGCGACGAGCATCCGGTGGATTAACCGCATTACGCGTTCTTTCTGCGTCCGCCGACACGGGTCAGTGCGTCAACGACACCGGTAGCTTTCACATCGAATTCAGTGACCACCTATAGGCCTGCCTGGGCCGCCGGGCCCTGACGCACTCTGAGATCATCCGGGCGGTCCAGCCACGGGCTACCGCCGACGCGGTGAGTCTATCCCTGGCTTGCCAATGGTTTGACGGGAACGCTACACCGCATCTCGTGACTCCCCCTCTTGCCAGTCAGTGTCTAACCATGGGATAGGGGGGCTGGCGGTGGGTTGTAGCATAAGAATGGATCTAATGCGCCCGCGCACTGGGGGTTCGAACAGTGGGACCGACGGGGGGGCCTCCGACGCGGATCCAGGGGCAGCTTACCAGGGTTTTCGATTCCTGTACCCTTCTCGTTGTGCCAGCGATGCTTAAGCGACGACTTTGGCGATGCCCGGGGCTGATGGTGATCGCAGTCGGTCACTCCTCCCACAGGAAAACAGTGAAGGCGCCTCGCGGGGTTCGCGCACGCCCTCACCCGCCATTACAACGGGGTTTTGTACTCTGACCCGCCGCGTCACGGTCCACCTAGCCAGGCCAAAGGTCACCCCGAGCCTGGGACTCACGCCCACAACCAACCGGGGAAGCGGATCGTGTTCCTACGGTTCTGACGCCGCTCACGTGACGCCGTTGCACGATCCCTATTTTTAGGGCTCCCGGCTGCCACCCGGTTTGTCCTGTCCTTCGCTCCGTAAGTCGAGCATCCTATGCTGTCGAGATGGCCCGCCCTTGAGGGTTACCAAGGGGCGTTTTAGTTTTTTCGCTGTAGGGGTAGCCCAGGGCTTGCCTCCTCCCAAAGCTAGATTCTTGCCCCAGGCAATTGCGGTGAGACCTGAAGCGTTCGTAGCCATCCATCCTGCTCGAGTGGACTGCCGGCCCTCTGGACCAACGGGACGCGCCTCCCCCCTGGCACGGCGGAATCCTCGACGCGCCAAGGCGGAGGCATGCGTGTTCGTGCCCCGGTTCCTCCGACCATGCGCGCCACATACCCGCCGCCCGTGTCTTAGTATAGAGGCGGGCGGAACCCCCTTATAATGGGACACCGCTTGGCAGTGCCCGATCTCAGGCGCCGGCCAGGGTCAAGTGGGCCGCGTGCGGCGGGACGTTCCCCTAACACCCCCAGACCGTTTAGCGGTTTGATGCTAGCGTTATTGGGAGAGTGCGACGAACCTCAGGCTGTGTATCAGATACCAACGTGCGCCCGGGATGAGATCGGAAGGGGGATAGGGTATGGATTGTCGGAGGCTTCTGACATGAGTCATGCTTACGACCGAACCTCTGCAGACGGTCCAGCGACGCCAATGACTACACTGGCCTGCGCGTCTGACTGCGACTCGGAGGCCCCCGCAATGCCCATTCAGGCGGTATAGCGTGTTCTGGCAGCTGTGAAGGTGACCCAACTGAGGCTCCTCAAGCAGAGGTTATTGAGTGCCTGTAGTGCCGGTTGTCGACCGCCTTAAACTCCTAGGCCTCCTTTCCCGAAGGGCTGCGACTCCACTGCGGTACGGCATGTAGACACTGGGTATGGGGGACACCACCCGGCACTCTCGTAAGCGTTCGGCCTCGCCAGCATGGACTCATCGTGAAGCATCCGTTCAGGCTGAGGTGCACACCGGGGAGACAAGTAGCTTGGCTCGGATCACGAAGTTTTCCGTTCAAACTGCGCCCGTAATGTCCGGAATTTGGGCACGAGCAGGGTGTCAAGATCGGTTGCCCAAGTGAGCCTGACCAGCGAATGTACGCCAACCGTGGTTCAAGCGCTTAATTCGACTCTCTCATCAAACCCGAGTACCGGCCGACAGGAGCGGTCAACTTTGCAACCTCTCCCGGTCGCCCCCGCCGGGTCGGTTGATCCAATTCAGACCCCTTCGGCGGGCGATGGGGAACTCTGAGCATCGAAGGCGGCATTCCGCATTTTACCGTTACTGCGATCGGCCTGTGTCCAAAGCACCCACCCCTGCGGAGGCGGCCTTACACAGATAAGGTGTGAGGGGACATTGCTAATCAACGACTGCATCTAGGTCGAGTAACCCGAAACATTGGGCGGGCGTCCGAGCGCCCTGCGACGGCGGGTGGGTCTGGTCCCCCACGTCCGTCTGCCTGCGGACCAGCAGACTTTGCACGGTTGAACCTGGTCGTTCGGGCTTGCCCGGTGCACCGATGGAGGGGTTCCAGCATGAACGCGTATTCCGGGCAGATACAGCTGCCGGCGTAAGGGGGTGAAGGGGCACACTTGTCCACCCACAGCCCTGTGCACATACTCACCGGACCTTGGCCACCGAACACCACGCCCCCGCGTCATACCCCTATGTACCATCGAAGACGATGAGGGGTACTTAGACGTCCAGAGGCTACCCACCTGTCGTCGGAGAGCACGTGCTGCTGTCGGGACCACGCACCCGCAGGGAGCCGTGATTTCCACAAGTAATGCGTAGCCCGGGCCTCTTCACAGGGTGAACGTAGCTCGGCGCCCCCCGGATGTAGCTTAGGCGAAGGATCAGGTACAAGCACATTTGGAATTGTAACTAGGAGAAGGTGGCGTCGACCTCGCTCATCAAGGTTGTGGGTGACCCAGATCTAGCTATCCGTCTACGATGTAATATTCTCGGCACGCTCTACATGAACACATGTGATTGGTGAAACCCAAAGGGTTGGCGCGGGACTAACTGGTGCTCCGTTTCCGCGTCGCCGTCATTCGAGTCGGCATGGCAGGGACCAGAGGAAGTCCGCCGGCCAGCGGAGCGATAGCCGCTCTTCCCAGCAGGACAGCACGGTCGGATTGACTTGGAAAAGGACATCTAATAATCACACTCGTCGCGGGACCCGCTAGGCGACCGGGTCTTAGGATCGCTACCGCCAGTACCTAACATAGGGCCCGGCGTTATGACCGGTCGCAGCACGAGCTCTCGGGGCAGGCGGGGTCGCAGGCAGCCAAATGCACAGCCATTGGGCTAGCAGGGGAAACCAAAAAGACGCCCCTCGATCTGGCGGTGCGCTAGTCCACGCCCGATTCGAGATTACCACGGCCAGTAGCGGGAGTACCGACCTCGTCACGGGCTAGACGGCTGGCTGAAGGGTGCCTGGTCGGTTCGGCCAGCTTACCGGGCAGACCGGCAACCGGATCGCGCTAACCGGGGCCTGACCGCGAGCACGGTTCGCTACGACGAGCAAAGGGAACTTCGCGCCGCGTCTCGTCGCATCAGAGCAGACGGCCGAGCTGGGCACGCCCGCTGCGGACAGGTTTGCGCGGGCCACGCTAAGTAGTTAGGACTCATTTCGCGTAGGGGACGGGCGTCGGTAGACTCTAGGGTGATGTCATCTCCTCAGCCACCAGCGGTCGGCATCAAGCAGAGGCCAGTGATGGTGCCCTGCGCGCCTACGTCGGTGCAACCGCGTCATGTCACCGCGATCAGTAGGTCGTGCCGTCGGGTTACATTCTTTGTGAATTCTTCAACCCCCAGGAGCTGCACGACCTGTGGGCTTCCTGTCAGACTCCGGTGACCGGTCCGCAGCCCCCTGCCGGCTCCTCTGTCGGACGCAACGGGGGATTCGGAGACCCACGTAGTTGGGGACGTGTTTCGCGCAATGCCACCAGCACCTAGGAGGTCCTTTCGAAGTTCGTTAATCGCCCCTCGGTGCTGGCCTCCATTCCCGTAGCGTTAGACGGTTCTCGTGCGGTACGTCACTCAGGATACCCCTGCATGACTGGTGGTGGTATCTGACTTGGCCAGGGCACGGTTAAGCCTGCTGTAGGGCGTGCCGCGGCCGCAAGCATCCCGATACGTGGGGGCTCCCTAGCGATCCCTGCAGTGGGGCCTTGACAAGGTTGCGTGGGATAACTAAGACCTAACAGCTACTTCCGCCTCGGGTTGTAGCACACGGGCAGGGCGGAGGGACGGATGGCTTCCCGCCCCCAGGTGCTCCCATTCGGTACGTGGAGTGGCATATCGCTGCCTCGCCTGCCTGCACATCGCGCGGCTTTTGACGCTCACCTCAGTGCCCTTAGACTATACGAAGGGGGCAATATAGGTCCGTGGATGGACGCCGATCGCAGGCCTGTCGGTAATCTATGCCCGTACGGCTCAGGCCCGGACGGAGATACGGCATCCCCGACGGGCCGGTCCCCAGCCTCTTGATAACCCCATGAAAAATTAGGCTTTCCTCACTAAGTCTATCGGGGGCCCATTGCCCGTTGGTTTTCGAGGGCAACATTGGTGGTCCGCGTACGGAGCATTGTTCCCGGCGGGAAGCCCGGGCTTGCGGCTCCATGATGTACGGCTTTCGGCGAAGTGGCGCAGGTCAGGCAGGCTCACTGATGAGCCCGACGGGAGGTGACACAGGGTGAGAGCCCAGAGCTCTGTGAAGCTTTCCCGTTCTGCATGCCTTGCGGTGCCCGGTTCACGCCCTATGCGAAGCTGTCCGACGGGATATTCGTTTTAGGGGGCGCCAGGCTCTCAACGTCGACCTACAGCACTACACTCTGCATGGCTGCGCTCCAGCCAGAGTGGCTTACGACGCAACAGTATACCCGTCCGGGCGGCCTCCAAGAACCTGACGTATCGCCTCAGGCGCCTACGTCAAGTCGCCCGCCGTTATGAGGCGCGGTGAGCCGTCACAGGTCCGGCCCCCAAGCAAGCGCGGACTCCGGTCTTCGACCCCACCGGCCCGGCGGGAAAAGTCGAACGAGTCAATACGGCACCTCCGGCCCGTTCAATCCGTGTTCCGGACTAGCGCCGAGATTCTTGTTGCATGGCGGGCGAGAGCCCCAGAGCTAGAGGGGCGCCGCCAAAGGGAAGGGCGCTCGCTCAGCTTCTGTAGCACGACCTTCGATGTACGCGCTTGTCCGCGGCAAAGTGGTCCGACCTCATTAGTACCGGCGTGACATGGCGGGCACATAATCGCGGAGGGAGACCTGTCGCACCCGTGTGGTACTACCAAAGGCCTTGTGCTAAAGCTTACGCGGTGGGTAAGGGAGACTGGCTACCCCCGATGACTCCCTTGCCTCCCAACAGAACTCGATCGGCTAGGAAGGCGACTCCGCCATCAGCTCGTGCGGAATCGACGAAGTTCAGACGGGGGCTAGTCAACCGGCCTCTCATCGGCCAGCCACCCGTCATGCGTCGCGCAGGAGACGGACGCTGCGGCCAAGTTTCCGTTTATCGGAACCTGCTATCCAAATACTTCCGAGCGAGTGTGCCAGACCATGTGTCACATGCACCTTCCGATAACCGGCACTTCTCATAGTCCCTGGACATTCACCTGTGAGGTGTCGCAGAGTAGCCTACCAGGGTTAAGGCCGGACAGACATTTTCGTTCCTACACAAGACGATTCTCTATCTCGGATACGAGTAGACCGTGCAATCCTACCTACCCCATGGCTCCCCTGACCTGACCTTAGGCGAGCCCCCATTGGAGCAGAAGGTCCGATTTCCCGTGATGCTGCGATTCGGGGTCCAGTGCAGTTGCACTAGCTCACGATTACACCGATTTCTAACGACTGTAACCGTGGCGCACGCATGTCTCTAGGGTTCAGTAAGCGGCCGCTCGGGGGCGAGGGTAAGCATTCCTCAATAGACCTAAGGGGGCAGATTTCGCGAATGCAGGTTTCGAGCTAGGAGACGGCAAAGAACTTACGCTTGGTTGGTACAGGGGAAGCGTCAACTTCCCGCCGCCGAGCGACTCTGCGAGGTCCAGATGGGCAGCCCCGATTGTCTAGTACGGGGGACCAAGCTCACACTTGAGTTTTGTTGATATGTCAGGCCTGGGAGGTTGCCTAGATTCACATCGACTGTCGTAGTGGGGGTCTAGCCGTAACCGAGGGCTACTCAGGCCCAAACAACAAGCACGCCCCTTACCATTACCCTACGGCCACGCTGAGGCCACACCGCCCTAAGCCATCTATACGAGCCCCGCTGGCCGAGGCCCCTCGTAATGCCCCCCTGTAAACATGGCTGCGTCGCGGGGGGTTGGGAACGTGTTTGTAGTGTGTGTATTAAAGTCCTGGCGCGACAGACGTCACCGCCCCCCGGGGCAACCATAGCGACGGAACTCCTATAATTTGTACGAAGTGCTTGGGCTTCCAGGGCTCAATTACGTACGCGTCGATCGGGCTCTCGCCTTGTTAATCCGAAACCCGGGTCACCGGTTGGAACCAAACCCTGAGAATGGCGGCGGGTGGATACGATCCACGCAGCGACCGCCGTAGGACAGACTCGCGCACCCCCGGCTTGGGGAGGAGGGCGCCAGGCCTTGATAAGGTGACCGGTGTGGGTTTCCGGCGGGAGCTAATCTTCTGGTGGCTACAGGTTGGTAAACTAACCGCGGCGCTAGCACAGGAAGTGACCACCCCGCCCACATGCGCGCTGACATGCGAAGTAATCCAACCGGGCGCTCTACTCGGGCAAAGCGCAGTAACCGATACGAATACCTTAACGGCTGGCATGGACGTCAGAGGAGCTATCGGTACTGGAGCTGAGACAGGGGTGCGGACGCGCGTGGTGGATGCCGGCTGCGGCTCACCCCTGGCCGTACGCGACCAATTGGTTGATAGGTCTTCGTTGATGCCAGTG\n",
      "TTTCACATCGAATTCAGTGACCACCTGATAGGCCTGCCTGGGCGCGCCGGGCCCTGACGTACACCCTAGAGCATCTACCGGGAGCTGGTCCACGCCACGGGACGCGCGACCGCGGCTGGAGTCTATACCCTGGCTCTGCCAACTGGTTTACGGGAACGGCTACACCTGCATCTCGTGACTCCCCCTCTTGCCGCTGGTGTCTACACCATGGGAAGGGGGGCTGGCGGTGGGTTGTAGCATAAGAATGGATCTAAATGGCCCGCGCACCTGGGCGGTTCGCAACAGTGGGACCGACGGGGGGGCTCCGCGCGGATCCAGGGGCAGCCATACCAGGTATCGATTCCTGTACCGCATTCTTTCGTTGGTGCCAGCGATGGCTTAGGCGAGACTTGGGCGGATGACCGGGGCTGGAGGTGATGCAGTCGTCACTGCCTCCCAACAGGAAAACAGGGAAGGCGCCTGCGTGGGTTCGCCACGCCCTGCACCGCCATTACAACGGGGTTTTGCTACTCTGACCCGCCCGTCGACGTCTACCAGCCAGGCCAAACGGTCTCCCCCAGCCTGGACTCACGCCCACAACCGATCCGGGGAAGGGACAGTGTTCCTACCGGTTCTGACGCCCGCTCACGTAGACGCCCAGTTCGCACGATCCTATTTTTGGGCTCCCGGCTGCCACCTCGGTTTTGTCCTGTCCTTCGCTCCGTAACGCGAGCAGCCTATTGCTGTCGAGATTGGCGCCGCCCTTGAGGGTTACCAAGGGGCGGTATAGTTTTTCCTGAGGGGTAGCCCCAGGGCTTGCCTACCTCCTCAAAGCTAAGATTCTTGCCCCACGAGCAATTGCGGTGAGACCTGAAGCGTTCGTAGCCATCCATCCTAGCTCGAGTGGACTGCCGGGCCCTCGGGGCAACCGGGACGCGCCTGCGCCCCCTGGCACAGCGTAGAATCCTCGCCTGCCCTAAGCGCGGAGGCGTGCGTGTTCGTGCTCCCGGTTCCTCGGACATGCGCGCCCACATACCCGCCGCCCGTGTCTTAGTATGAGGCGGCGGAACCCCCTTATATGGCACACCGCTTGGCAGTGCCCTGATCTCACGGCTGCCGGCCAGGGTCAAGTGGGCCGCTGCGCGCGGACGTTCCCCAACACCCCAGACCGTTTAGCGGATTTGAGCTACTTAATTGGGGGAGTGCGACGAACCTCAGACGCTGTAGTAATCAGTATACCAACGTCGCCCGGGATAGATCGGAGGGGGTGACTAGGGGTATGGATTGTCGGAAGGCTTCTGACATGCAGTCATGCTCTCACGACCGAACCTCTTGTACGACGGGGCCGCGACGCCAAAGTCGACTACACTGCTGCCGGCGTCTAGACTGGAAACTCGGAGGCCCCCGCAATGCCCATTCCCACGGCAGGTATAGCGTGTTCTGGCAGCGTGATGGTGACCTCAACTGAGCTCCTCAGCAGAGGTTATATGAGTGCCTGTAGTGCCGGTTGTTCGCCGCCCTTAAACCCTTAGGCCTCCTTGTTCCCCGAAGGGCTTGCGACTCCACTCGGTACGGCATGTAGACACATGGGTATGGGGGACACCAAACCGCGGCAACACTCGTAAGCGTTCGGCTCGCCAGGTCAATGGAACTTCATCGTGAAGCATGCCGTTCTAGGCGAGGTGCAACCGGGAGACAAGCTAGCTTGGCTCGGATCACGAAGTTTTCCGTTTCAAATGCGCCCGTAATGTCCGGAATTTGGGCACGAGCATGGGTGTCAAAGATCGGTTGCCCAAGTGAGCCTGACCAGCGGAATTACGTCCAACCGTGGTTACCAAGCGCTTAATTCGACTCTCTCATCAAACCGAGTACCGGCCGACAGGAGCGGTCAACTTTGCAAACCTCTCCCGGTCGCCACCCGCCGGTGTCGGTTGATGCCAATTCTAACCCCCTTCGGCGGGCGATGGGGAACTCTGAGCATCGAAGGGCGGCATTCCGCATTTTACCGTTACTGCGATCGGCCGTGTGTCACAACAAGCACCCGACCCCTGCGGAGGCGCCATTACACAGATAAGGTGTGACGGGGACATTGCTAATCAAACGACTGCATCTCAGGTCGAGTAACCCGAAACAATTGGGCGGGCGTCCGAGCGCCCTGCGACCGGCGGGTGGGTCTGGTCCCCCACGTCCGTCTGCCTGCGGACCAGACAGATCTTTGCGGTTGACCTGGTCGTTCGGGCTTGCCCGTGACGATGGAGGGTATCCAGCATGAACGCGTATTCCGGGCAGATACATGCTGCCGGCGAAGGGGGTGAGAGGGGCACACTTGTCCGGACCCCAGTGCCCTGTGCAATACTCACCGGACTCTTGGCCGACCCGAACACCACGCCCCCGCGTCCATACCCCTATCCATCGAAGACGATGAGGGGTACATTTAGACGTCCAGAGGCACCCACCTGCTCGTGGAGCGGAGGCACGTGCTGCTGTCGGGACCAACGCACCACGCAGGGAGCCGTGATCTTTCTCACAAAAGTAATGCGTAGCCCGGGCCTTCTTTCTACGGGTGAACGTAGCTCTGGCGCACCCCCGGGATGTATGCTTAGGCGAAGGATCAGGTACAGCACATTTGGAATTGTAACTAGGAGAAGGTGGCGTCGCCTCGCCATCAAGGTTGTGGGTGACCCAGTCTAGCTATCGTCTACGATGTATATTCTCGGCACGCTCTACATGAACACTGATGATGGTGTAACCCAAAGGGTTGGCGCGGGACTAACTGGTGCCCGTTTCCGCGTCAGCCGTCAATTCGAGTCGGCATGGCAGGGACAGAGAAGTTCCGCCGGGCCAGCGGAGCGATACCGCCTCTTCCCAGCAGGACGCACGGTCGGATTGACTTCGGAAAAAGGACATCTATAATCACACTCGTCGCGGGACACCGCTAGGCGCCGGGTCTTAGGATCGCTAGCCAGTACCTAACATAGGGCCCGCGCGTTTGGACCGGTCGCAGACGAGCTCCGGGGCAGGCGGGGTCTCAGGCAGCCAAGTGCACAGCTCATTGGGGCTCAGCAGGGGAAAGCCAAAAAGACGCCCCTCGATCTGGCTGTGCGCTAGCCACGCCCGATTCGAGATTACCACGGCCAGTAGCGCGGAGTACCGACCTCGTCACGTGGCTAGACGGCTGGACATGAAGGGTGCCGTGGTCGGTTCAGGCCAGCTTACCGGGCAGACCGGCAACCCGATCGCGCTAACGGGGCCTGACCGCGAGGCACGGTTCGCTACGACGAGCAAAGGGAAACTTCGCGCCCGCGTCTGCGTCGCATCAGAGCAGACGGCCGAGCTGGCACGCCCGCTGCGGACAGCGTTTGCGCGAGGCACACGCTAAGTAGTTAGGACCTCATTTCGCGTGGGAGACGGGCGCTCGGTAGACTCTAGGTGTGTCGATCTCCTCAGCCACCAGCGGATCGGCATCAAGCAGAGGCCAGTGAGGGTGGCCTGTCGCGCCCTACGTCGGTGCAACCGCGTCCATGTCACGCGATCAGTAGGTCGTGCGGCTCGGGTTACATTCTTTGTGCAATTCTTCAACCCCCAGGAGCTGCACGACCTGTGGGCTTCCTGTACAGACTCCGGTGACCGGTCCGCGCCCCCTGCCGGCTCCTCTGTCGGACGCAACGGGGGATTCGGAACCCCGTAGTTGGTGGACGTGTTTCGCGCAATGCCCACCAGCACCCTAGGAGTCCTTTCGAAGTTCGTTAATCGCCCCCGGTGCTGGCCTCCATTCCCGTAGCGTTAGACGGTCTCGTGCGGTACGTCACTCAGGATACCCCTGCATACTGGTGGTGGTATCGACTTGGCCAGGGCACGGTTAAGCCTGCGTAGCGGCGTGCCGCGGCCGCAAGCTATCCCATACGTGGGGCTCCCTAGCGTCCCTGCCAGTGGGGCCTTGACAAGTGTTGACGTGGGATAACTAAGACCTAACAGCTACTCCGCCTCGGGTTGTAGCACACGGGCAGGGGGAAGGGACGGATGGGCTTCCCGCCCCAGGTGCTCCCATTCGGTACGTGAGTGGCATATCGCTGCCTCGCCGCACTCGCACATCGCGCGGCTTTTGACGCTCACCTCAGTGCCCCTTAGACTATACGAAGGGGTGCCAATATAAGGGTCCGTGAGATGGACGCCGATCGCGGCCGTGCGGTATATCTATGCCCGTACGGCTCAGGCCCGGAAACGGAAGATACGGCATCCCCGATTAGGGTCCGGTCCGCAGCTCTTGATAACCCCATGAAAAATTAGGCTTTCCCTCACAAGTCATATCGGGGGCCCATTGCCCGTTGGTTTTCGAGGCAACATTGGTGGTCCGCGTGCACGGAGACATTGTTCTCCGGCGGGAAGCCCGGGCTTGCGGCTCCATGATGTACGGCTTTCGGCGAAGTGGCGCAGGTCAGCGGCTCACTGATGAGCCCGCGGGAGGTGAACAGGGTGAGAAGCCCAGAGCTCTGTGAAGCTTTCCCCGTTCTGCATGCCTTGCGGTGCCCGGGTTCACGCCCTATGCGTAGCTTCAGACGGAGAATATTCGTTTTAGGGGCGCCAGGCTCTCAACGTCGACGTCTACAGCACTCACACTCGCATGGCTGCCGCTCCAGCAGAGTGGCTTACGACGCAACAGTATACCCGTCCGGCGGCCTCCAAGAACTCTGACGTTATCGCCTCAGCGCCTACGTCAAGTCGCCCGCCGTTATGAGGCGCGGTGGAGCCGTCACAGGTCCGGCCACCAAGCAAACGCGGACTCCGGTCTTCCGACTCCCACCGGCCCAGCGGGAAAAGTCGAACGAGTCAATACGGCACCTCCCGGCCCGTTCAATCCGTGTCTCTCCGGACTAGCGCCGAGATTCTTGTTGCATGGGCGGGCGAGAGCCCCAGAGCTAGAGGGGCGCCGCCAAAGGGACAGGGCGCGCGCTCAGCTTCTGTAGCACGACCTTCGATGTACGCGCTTTCCGCGGCAAAGTGGTTCCGACCCTCATTCAGTACCGGCGTGACATGGGGATGGCACATAATCGCGGAGGGAGACCTGTCGCACCGTGTGGTACTACCAAAGCCTTGTGCTAAAGCTTACGCGGGTAGGTAAGGACGACTGGCTACCCCCCGATGACTCACCATTGCTCCCCAACAGAAGCTCGATCGGCTAGAAGGGCGACTCCGCCAATTCAGCTCGTTGCGGAATCGACGAAGTTCAGACGGGGGCTGTTCAACCGGCCTCTCATGCGAGCCAGCACCCGTCATGCGTCGCGCAGGAGACTGGACGCGGCGGCCAAGTTTCCGTTTATCGGAACCTGCTATCCAAATACTTCCGAGCGAGATGTGCCAGACCATGTGTCACATGCAC\n",
      "AGGCGCCGGAGCCACACCGTCCCAGCCGGTCGCGAGGGGATGAACGCACCACATTCCTTTCCACGCAGTGTTAGGATCGACCCACTATGTACTTAAAGTCCGACGGGGCCGGTAAGGGGATAGGTGCGCCAAAGGCAAGCCATTCCTGTCTGCGGGGCCTCAGATAGTGCTTAGCTGGAATGTGGGGATGTAGCGTTGTGCAACAGGATACCGGACCCTTGGGACCTCTATCCGGACGGGACACTCCCAGGGGTGCTTACGCCGATCCAGAGAGCCGCCCCGGCCCGCGCGTTGGTCACCACCGCACTACTGGCGCCAGTTGGGGGCCCTAAGCAGGAAGGCGCGTGAAGCTCCCTTAGGCATTGCGAGGGGCTGTGAAGCGGAGAAGTGCCTGCCGCGAAGCTAGAGCTCTCGGCGGAGGTAAAAGGGCCGACACGGTAGGTTGGGCCAGGCAGTTCACAATAGCCGAGGTGAGGGGGTGCTGCATAGTACCCGACGCATAGACCGCAAACATTGCCCATTAACCGAGTTCCCCAATGGAGGCGCACCTCCGGCGTGCCATGTGGCGCTGAATGAGCAGGGGTCCTCCTAGGACACTGGCTCCCCGGAGGGATTCCACCGGTGCGCCAGATAGCGTTATCCCGACAGGATCTGGTGCGGTCGCTCAGGAGCGGTCACATTGCGGGCAGGGTCGTTCGAGTTGCGATGTCCGTAGATACCTATGTTGAGTCACCGCCGAATCCCAATAAGCTAGGTGGTGTTATCTACCCGGCCAAGCGTCGTTGAGTTCTACGTATGCGCATGGCAATACAAGGCGCTGGGGCTCATGTAGCTGCTTCTTCGCACTGAGGCTGAACCACTGATCGTTTGCAAGCGGCCGGGTGAACGCCCGGAGGGGTTTACCGCATTACACGGGTGCAAAAGCCGCTGTGAGCGCAAGTCTTCTCCGCCGAGCAGTGCTCCAACCCGATTCAGCGCTCCTAGCTCGGGCAAAACCTGGGCTCTGAATAGCATCCTAATACACGTCGACGCCCGTGTGGTTTGTACCGGTTGGCAGAGGGGGTGCGGAGGCGGCCCCGTTGCCCCCCGCTCAGGGGGTAACGATACGACAGCAGATACAGCTCCATTTGGTCGGCGATGCCTTTCGGTCCATGAGAGCCAGCTTCTTACGGAGTAATCTAAACAGGAGTCGCGTGGCTCAGCAAGAGGGCAGCAGGACTGCGAAACCTTGTGTCAGCCCCCGCGCTAGCGCTGGCTGGTAAGAGAGTGACGTCCCCATTCCTTGCTGCAAGGTAGATGGTATGCCTATAGGTTCCTACCAGGCTAGAGTGGGCCACCTTCGTAGCGATTCGCCCTTGGCAGCTCGAGCGAACAACGTGGGAAATCCCCCAAGTCAGCTTCGCGGAAGAAGGAGTCCTGTTGTGCGTCTGTTGACGGGAGGATTATGACCCCGTTACGAGCGCCAGGATATACGCATTGTCAAGGGCACGGAGAGGCGGTGGAAGGTTATCGCCACGTAGGACGAGACGATTGCGGACCCGTTGTGCAGAAGCATGGGTATTGGCGGTGGGCGCGCCGCGAGGCTTCCGCACAGTCGCAGTTGGAATACCTCCGATCGCCCAAGGGCGATCGCATCCGGAAACCAATTCCGGGCCGGGGCACGCGCGGAGAGAGAGGAGATAGCATGAAGCGCCATAGTGGGTCCTACTCGCAGGAGCCCTCGGCATCTAGGCGGTCGGCTGGCCCTCCGGGGGCACTTCCGGTGCGCTATCGGAGTGAAAGAGCCTCGAGTATAGCGCCGATATCAATTGTGCGCCACTTAAGCGGGGATTTGCGGACAGGCTTGATTAGGGTCCGGCATTGCAACCGTCGCCCACGGCCGGAATCCGCACTCCGAAAGCGAGGCTCTAGCGCACTTCAGGTGCCTGCAGGACTGCGGTAGCCAAATACAGCGCTCGACTCTGTTTGGGCGCAGCGTTCGGGGTCTACAATTAAAGCCATAGGAGTGTGCAGATGCTAGCACGATGTCCAAGATCAGGGTGCGTGCAATTATTGTTGGCGCGGCTCTGACGGTACCAGGCCGAAGTGAATATTGTGGGCTAATCGGGGCCGGAGATTCCTACTCCGGGAGATAGTCCGTTGGGTTTCGAGGTCGGTTCGGTATTGAGCGCGGCGGCACCGGTGGAGTTAACACGGCGATTACGCGTTCTTTTCCTGCGGTCCGCCGACCTGGCGCTCACTGGTCAACGACACCGGTACCGCGATTTTCACATCCGAATTCAGTGACCCACCTAATGAGGCCTGCCTCGCCGCCGGGCCCTGACGCACTCTGAGATACATCCGGATCGGTCCAGCCACGGCGCTACGGCCGCACGCTGGTGAGTCTATCGCTGGCTCATGCCAATGGCTTGCACGGGAACGCTGACAGCCTGCAGTCTCGCTGACTCGCCCTCTTAGCCGCTACCAGTGTTATACACTGAGAAGGTGGGTAGGCGGTTGTGGTTGTAGCATTAAGAATAGGAATCTTAAATGGACCGGCGCACTGGGGTTCGAACAGTGGACGAACGGGGGGGGCCTCCGAATCGCGGATACCAGGGGCTGACCAACCTAGCGGGTATCGAGTTCCTGTACCCTTCTCGTTGTGCAGGATGATTAAGGCGACGATTTGGTACGATGACCCCCGGGCTGATGGTAATCAGCAGTCGAGTCAACTATCTCCACGCACAGCAGAAAACAGTGAAGGGCGCCTGCGGGCTCGCCACGCCCCTCACCCGGCCAATTACAATGGAGGTTTTTTATCTGCCCGCTGCCGTCACGGTCCACCAGCCAGGCTCAAAGGTCACCCCGAGCCTGGATCAGCGCCCACAAACCAATCCGGGGAACGAGATCGGTTCCTAGCGGTTCTCTGAGCCGCTCACTGACGACCGTTTGACACATCCCGCATTTTTGGGCTCCGCTGCACACGGTTTGTCCTGTCCTTCGCTTCCGTAACCCGAGCACTATGCCTGTCAGATGGCCCGCCCTTGAGGGGTAAACAAGGGCCGAATTTAGTCTTTTTCGGTGTGGGGTGCCCGGGTGCTTTCCTCCCAAAGCTGATTCTTGCCCAGGCATTGCGGTGAGACACTGAGAAGCGTTCGTAGCCATCCATTCCTGCTGAGTAGGAGTCCGGCACCATACATGGCAACGGGAGCGCGCCTCCGCCCTGCACGCGGATATCCACGACTCGCCCAAGCGCGGGAGGCAGCTGTTTACGTGCCCCGTTCACTCCGCACATGCGCGCCACATACGCCGCCACTGTGCTGTAGTAGATCGAGGCGGGGCGGAACCCCCTTATATGGAACCGCTTGGCTAGGTCCTCGATCTCACGGCGCCAGGTCTAGGAGTCAAGTGGGCCGCGGTGTCGGCCAGGACGTTCCCAACATTCCCCCAGACCGCTTTAGCCGGGTTGAGCTACGTTATTGGGGAGTGACGACTGAACCTCAGGCTGTGTATCAGATACGCTAACGTGCGCCCAGGGATGAGATCGGAGGGGAGGATAGGGTATGGAATTGTCAGGAGGCTTCTGACATGAGTCAATGCTTACGACCGAACCTCTGCAGACGGTCCAGCGACGTCCAGATGACTACACTGGCCTGCGCGTCTGACTGGAAACCTCGGAGGCCCCCCCGCAATGCCCATTCAGGTCGGGACTATACGTGTTCTGGCGAGTAGTGATGGTGACCTCAACTGAGGCTCCTCAAGCAGAGGTATTGAGTGCCTGTAGTGCCGGTTGTCGACCGCCTTAAAGCTCCTAGGCCTCCTTTCCCGAAGGGCTGCGACTCACTCGGTATCGGCATGTAGACAACTGGGGTGATGGGGGGACACCACCCGGCACTCTCGTTAGCGTTGGCCTCGCCAGCATGGACCTCATCGTGGAAGCAATCCGTTCAGGCTGAGCGTGCACAGCGGGGAGACAAGTAGCTTGAGCTCGGATCACGAAGTTTTCGCGTTCAAAGTTGCGCCCGCTATCATGTCCGGAATTTGGGCACCGAGCAGGGTGTCAAGATCGGTTGCCCAAGTGAGCCTGACCATGCGAATGTACGTCCAACCGTGGTTCCAGGCGTCTTAATTCGACCTCTCTCCTCAACCCGAGTACCGGCCGACAGGAGCGGTTTCAACTTTGCAACCTCTACCCGGTCGGCCCCGCCGGGCGGTCGGTTGATCCAATTCAAAGCCCCTTCGGCTGGGCGTGGTGGAACTCTGAGCACGAAGGCGGCATTCTCGCGAATTTTACCGTTTACTGCGATCGGCCATGTGTCCAAAGCACCCACCCCTGCGGAGGGCGCCTTACACAGATAAGGTGTGAAGGGGACATTGCTAATCAAACGACTGCATCCTAAGGTCGAGTAACCAGAAAACAATATGAGGCGGGCGTCGCGAGCGCCCTGCGACGGCGGGTCGGGTCTGGTCCCCACGTCCGTCTGGCCGTCGCGGAACCAGCAGACTTTGCGGTTGACCTGGTTATCGGGCTTGCCCGTGACGATGGAGGGTTCCCAGCATGAAGCGTATCCGGAGCAGATACAGCTGCCGGGCGTAAGGGGTAGAAGGGGCACACTTGTCCACCCACAGCACCTGTGCAATACTCACCGGACCTTGGCCACGAGACACCACGCCCCCGCGTCATACCCCTATGTACCATCGAAGACGATGAGGGGTACTTAGACGTCCAAGAGGCACCCACCTGCTACCGTGGAGAGCACCGTCGCATGCTGTGCGGGACCCACGCATCCGCAGGGAGCCGTGATTTCCACAAAAGTAATGCGTACCCGGGCCTCTGTTCACATGGTGAACGTAGCTCGGCGCCCACCCGATAGTATGCTTAGGCGAAGGATCAGGTACACAGCAATTTGGAATTTGTAACTAGGAGAAGGTGGCGTCGCCCTCGCTCGATCAAGGTTGTATGTGGTTGACCCAGTCTAGCTATCCTGTCTATCGAGTCATATTCTCGGCACGCTCTACATGAACACTGTGATGGTGAACCCAAAGGGTTGGCGCGGTGACTAACTTAGGTGCTCCGTTTCGCGTCGCCGTCAATTCCGAGTCGGCATGGCAGGGACCCAGACGGGAAGTTCCGCCGCCAGCGGAGCCGATACCGCTTCTTCCCAGCAGCGGACAGCACGTGCCGGATTGACTGGAAAGGACATCTATATCACATCGTCGCGGGACCCGCTAGGCGCCCGGGTCTTAGGATGCCACGCCAGTACCTAACATAGGGCCGGGCGTTACTGACCGGTCGCAGACGAGCTCTCGGGGCAGGCGGGGTCCAGGCAGCCAAATGCACAGCCAATTTGGGCTAGCAGGGGAAACCAAAAAGACGTCCCCTCGATCTGGCGGTCTGCGCTGCCACGCCCGGATTCAGGAGATTACCACCGGCCCAGATAGCGGGGAGTACCGACCTCGTCACGGGCTAGACGGCTGGCTGAAGGGTGCCCTGGTCGGTTCGGCCAGCTACCGGGCAGACCGGTCAACCCGATCGCGCTAACCGGGGCCTGACCGCGAGCACGGTTCGCTACGAACGAGCCAAAAGGGAACTTGCGCGCCGCCGTCTCGTGCATCAGAGCAGACGGCCGAGCTGGCACGCCCGCTGCGGACAGGTTTGCGCGGGGCCACGCAAGTAGTTAGGACTCATTTCGCGTAGGGGCAGGGCGCTCGGGTGTGACTCTAGGTGATGTCATTTCTCCTCTAGCCACCCAGCGGTCTGGCATCAAGCAGAGGCCAGTGAGGGTGCCCTGCGTCGCCTACGCTCGGTACAACCGCGTCATGTCACCGCGATCGAGTAGGTCGTGACCGTCCGGGTTACATTCTTTGTGAATTCGTTCAACCCCCAGGAGCTGCACGACCTGTGGGCTTCCTTCAGAACTCCGGTCGACCGGTCCGCGCCCCCTGCCGGCTCCTCTGTCGGACGCATACGGGGATTACGGAAACCACATAGTTTGGGGACTGTTTCGCGGCAATGCCCACCAAGCACCTAGGAGGTCCTTTCGAAGTTCGTTAATCGCCCCTCGGGTAGCTGGGCCTCACATTCCCGTACGCGTTAGACGGTCTCGTGCGGTACGTCACTCAGGATAACCCCTGCATGACTGTGTGGTGGCTATCGACTTGGGCCAGGGGCACGGCTTAAGCCTTGGCGTAGGGCGTGCCGCGGCCGCAAGCATCCCATACGTGGGTGCTCCCTAGACGTCCCTGCAGTGGGGCCTTGACAAGGGTTGCGTGGGAGTAACTAAGACCTAACAGCTATCCCGCCTCGGGTTGTAGCACACGGGTAGGGGGGATGGACGGATGGGCTTCCACCGCCCCAGGTGCTCCCATTCGGTACGTGGGAGTGGCATATCGCTGCCTCGCCGCCTCGCACATCCGCGGCTTTTGACGCTCACCTCAGTGCCTCTTAGACTATACGAAGGGGGCAATATAGGTCCGTGGATGGACGCCGATCACAGGCCGTCGGTAATCATATGCCCGTACGGCTCAGGCCCGGACGGAATACGGCATCCCCGAGGGCCGGTCCCAGCTCTTGATAACCCCAGAAAAATTAGGCTTTCCTCACAAGTCTATCGGGGGCCCATTGCCCAGTTGGTTTTTCGAGGCAACATTGGTGGTCCGCGTACGGAGCATTGTTCCTCGGCGGGAAGACCCGGGCTTCGGCGGACTCCATGATGTACGGCTTTGCGGCGAAGGGCGCAGGTCAGCTAGGCTTCACTGATGAGCCGCGGGAGGGACACACGGGTGTAGAGCCCAGAGCTCTGTGAAGCTTTCCCGTTCTGCATGCCTTGCGTGTCCCGGTTCACGCCCTATGCGAGAGCTTCGACGGGGATATTCGTTTTAGGGGCGCCAGGCTCTCAACGTCTGACCTAAGCACTACACTCGCATTGGCTGGCTCCAGCCAGAGTGGCGTTACGACGCAACTAGTATACCCGTCCGGAGGCCTCACAAGAACTCACTGACGTCATCGCCTCAGCAGCCTACGTCAAGGTCGCCCGCCGTTATGGAGGCGCGGTGAGCCGTGCACAGGTCCGGCCCCCAAGCAAGCGCGGACTCCGGTTTCGACCCCAACCGGCCCGGCGGGAAACGTCGAACGAGTCAGACTACGGCCCCTCCGGCCCGTTCAACCGTGGTTCCCGGACTAGCGCCGAGATTCTTGATTGCATTGGCGGGCGAGGCCCAGAGCTAGAGGGGCGCCGCCAAAGGAAGGGCGCGCGCTCAGCATTCTTAGCACGCACCTTCGTATAGTAACGCAGCTTTCCGCGGCAAGAGTCGGGTTCCGACTCATTAGTACGCGGGTGACATGGGGGGCACATAATCGCGGAGGGAGACCTTCGACACCGTGCTGGTACTACCAAAAGCCTTGTGCTAACGCTTACGCGGTGGGTTAAGGGAGACTGGCTACCCCCCCGATGACTCCCTTGCTCCCAACGAGAACTCGATCGGCTAGAAGGCGACTCCCGCCATCAGCTCGTGCGGAATCGACGAAGCTTCAGACGGGTGAGCTTAGTCAACCGGCCTCTCATCTGGCCAGCCACCCGTCATGCGTCGCGCAGGAGCCCGAGAACGCTGCGGCCAAGGTTTCCGTTTATCGAAACCTGCTATCACAAATAACTTGCACGAGGCGAGGTGCCCAGACCATGTGTCACATGCACACTTCCGATAACCGGCATCTTCTCATAGTGCCTGGCTCATTCACCTGTAGGTTGTCGCAGAGTAGCCTACCTAGGGTCCTAAGGCCGGACAGACATTTTCGTTCTCTACACGAAGACGATCTCGTATCTCGGATACGAGTAGACGTGCAATCCTGCCTACCCCATGGCTCCCCTGACCTGACCTTAGGCGAGGCCCCCATTGGAGCAGAAGAGTCCGATTTCCCGTGATGTGCGATCGGGGTCCATCGCAGTTGCACTAGCTCACGATTACACCGATTTCTCAACGACTGTAACCGTGGCGCACGCATGTCTCTTTAGGGTTCAGTAAGCGGCCGTCGGTGGGGCGAGGGTAAGCAATACCTCAATAGACCTCAAGGGTGGCAAGATTTCGCGGATGAGGGTTTCCAGCAGGAGACGGCAAAGAACTTACGCTTGGTTGGTACCAGGGGAGCGTTCAAACTTCCCGCCGCCGGAGCACTCTCGATAGGATCCAGATGGGGCCCCGATTGTCTAGTACGGGGGGACCAAAGCTCACACTTGAGTTTTGTTGATATGCTCAGGAACCTGGCGGAGGTTCCTAGGATTCACATCGATGTCGTAGTGGGGGTCTAGCGTAACGAGGGCTAC\n",
      "CGCATGTCATCGTTGCCCGCGAGTACTCTCCGTGAGGACGCGCTCTCTCGGCTGGGGCGCCCTAGTCCCTATACCGCCGTGCAATGTATAGCATCCGTACGGAATTGTTCTGACTTCCCTCGGTGGGGGGTCCCGTCACTCTTCCCCGATCGCGTGCGTCAACTAATTCGGCTTATGACATGAGCCCCGGCGCCCGCTGTTCTCCCCATCGGACACTTAGCACCCGTTCAGGGGAACCCGCCTATGGCAGGCGAAAGGCCGTCTGTGGGGGACCCACCAGCGGCAAAGCGACGAGGCCCCGGAGCCCCACGTCCCAGCCCGGTTACGGAGCAGGGATGCAGCACCCATTATTTTCAACGCAGGGTTAGAGATACCCACCCATGTACTTAAAAGTCCCGCCGGGCCGGTAAAGGGGTATAGGTGTCGCGGAGGCATCAATCTGTTGCGGGGACAGCTCCCAGAAGTGCTTGCTGCAAGTGTTGGTGGTAGTGCTTGTGAACAGGGAACAGCCCCGGGACCCATCCGGACGTGCGACCCTCGCCGAGGGGGGCTACTCCGATCTCCAGAAGGCGCGCGCACGCGCGCTTGTGTCAGACCGACTATCTATGGCGCCCGTTGGGGGGCCTAGCAGAGCCGCGGTGAAGCTCATCATGGCATCGGGACGGCTGTGGAGCCGGAGAGTCGAACTGGCGCGATGCTAGAGCTCTCGCGGAGGTAAAGGGCCGCAAACCGGTAGGGTGGGCCGGCGTATTCACTACATCCGTAATGTGAGGCGGCGGCATGCATCATCGTACCCCGACGCCATAGAGCGCAAAACAAAACGTGCCACTTACAAGTCCAATTCGCACCCCCGGGTAGCCATTGTAGGCTGGAGACTGAGCAGGGAGTCCTCACCTATATCCCCGGGACGGATTCCACCGGCTGCCCAGATTAGCGATACCCGGCAGGGATGGAGAGCCGGTCTGTCCAGGAGACGGTTCACTTGCGGAGTCGTTCCGAATGCGATTCCGAAATACCTATGTTGGAAAAGTCCCTCAGTACCCACTAAGCTAGGGGGGGGTTATCTAGCCGGGCCAAGCGCTTGAGTTACCGTTGGCAAGCGAATCATAGCGCTCGGGGCTCATGTACTGCTGTTCTTCGCTGAGCAGACCAACTGATCGTTGCCACGCTGGCCTGGGTAGAACGTACGCGGTGGGTCTTCCGCACTCACCTGGTGCGAAAGCACGCTGTGAGCCATGTTGTTCCGCCGAGCCCGGTGCTCCAACCTCAAGGCCTTCTACTCAGGCAAAGCCGTTGGGCTCCGATACACCCGAATACGTACGCACGCCCGTTGGTGGTTAGACCGAGATTGCAGATGGGGTTGCGGGGCGGCCGCCCGTTCCCCCCGCTTCCACCGGGTAGATAAGCGACGGCAGATAGCGAGCTACCATATTCGCGGTGATGCCTTTCGTCTTAAGAACCGCCTGACGACGATCCTTAAAGCAGGAGATCGCTAGGCTCGGCATAGGAGGCAGAGTGACTCCGACCATTGGGTCAGCCCTCCCGCGCGGCGCTCGGCCGGCTAAGCAGCGCAGAGATCCGCCATCCTTGCGCAAGCGTGGTGGTATGCATGGTTCCTACATGGCAGAGGCGCCCCTTACGTGAGCCGATTCCGTCTTGGCACTTGGACAACACGGGAAATCCCCATAGTCACTCGCGGCTAAGGGGGACCTGTTCGTCTAGACGGGAGCCATTTACCCGTGCTTCACGACCGCCAATACGCCATTTCAACAGGGCACGGGAGGCGGTTTAGGCTTATCCCTCACGAGGTACCGAGACGTATTCGACAGAACCGAGTTTGGGTTAGAAGCAGGTATTGCGGTGGGCCCGGCCGCGAGGCTTCCGCACGTCGCAGCTTGACTATCGATCGACCACCAGAGCTCGCATCCGGAACCAATCCGGGCCAGGAAGTACGCTAACGAAGAGGACCGTGAAGGATGAGAGCCGCTCGATCAGGTCTACTTCGCGGAGCGCTCTGTGGCAGTCCGTAGGGGTGCCGGGTGCCCTCCCCGGGGGCCACAAGTTTCTCGGATCCAGCTTAGGTGTTCTGTAAGAGGCCTGACAGGTTAGCGCCGAATCTATGTGTGCCTAAGACGGAGATGGGCAAGGGCATTGATTAGAGTTCGGCAGTTGCAACTCCCGAGTCGCCCACGGGCGCAGGAACCAGCCCTCCGAAGCGAGACTGCCTAGGCACTGTGCGAGGCCTGCAGATTCTGCGCGTATAGCAAATTAAGGCTCGATCTCTGTTTGGGCCCAGGCGTTCGGGGGTACCACATTCAAGCAGAGAGGTCAGACTCAGCACATGTCCAAGACAGGGTGCGTGCAGATATATTGTTGGCACGACGGCACTCTGAGGATCCAAGCGTGCTGAACAATTGTGGGCTAACGCTCGGTGCCCGTGAGAATTGCTCACTCCGCGGAGATTATCCGTTGTTTCGTAGGTCGGTATCGGTTATAGCGCGACGACGCATCCGGGGATTAACGGCATTAACGGCGTTCTTTTAAGCAAGTCCGCCGTAACACGGGTCAAGTGCAGCAACGAACACCGTGAGTATCTTTCAAACATCAATTCAAGTGGACCACCTATAGGTCCTGCTGGGCACGCCGGGCCCTCTGACGCACTCCGTGAGATCATTCAGGGGGCGGTCCGCCACGGGTCTACCGCCACGCCGGTGATAGTGCGTATCCTGCTTGCCAATGGTTTGAACGGGGAACGCTACACCTGCATCTCGTGACTCCCCCTCTTGCGTCAGTGTCTAACCATGGGAAGGGGGGCTGGCGGTGGGTTGTAGCATAAGAATTGGATCTAATGGCCCGCGCTACTGGGGGTTCGAACAGTGGGTACCGATCGGGGGGGCCATCCGACGCGGATCCAGGGGCAGCCTTACCAGGGTATCGATTCCTGTACCCTTCTCGTCTGATGCCAGCAGATGCTTAAGCGACGACTTTGGCGGATTGACCCGGGGCTGATGTGATACGCAGTCGGTCACTCCTCCACGAGGAAAACAGTGAAGGCGCCTGCGGGGTTCGCCACTCCCTCAGCCCGCCATTACAACGGGGTTTTGATACTCTGACGCCGCCGCGTCACGGTCTCACCAGCCAGGCCAAAGGTCACCCCGAGCCTGGACTCACGCCCACAACCAATCCGGGGAAGCAGGATCGTGTTCCTACGGTTCTGACGCCGCTCACGTGACGCCGTTGCACGATCCCTTTTGTTGGGCTCACCGGCTGCCACCCGGTTTGTCCTGTCCTTCGCTCACGTAAGTCGGCACCTATGGCTGTCGAGATGGCCCGCCCTTGAGGTTACCAAGGGGCGTTTAGTGTTTTTCCTGTAGGGGTAGCCCAGGGCTTGCCTCTCCCAAAGCTAGATTCTTGCCCCGAGGCCAATTGCGGTGAGACCGTGAAGGCGTTCGTAGCCATCCACTCCTGGCTCGAGTGGACTGCCGGCCCTTCGTGGCAACGGGACGCGCTCCGCCCCATGGCACGCGAATCCTCGACCGCCCAAGGCGGAGGCAGCGTGTTCGTGCCCCGGTCCTCCGACATGCCGCGCCACATACCCGCCGCCCGTGTCTTAGTATGAGGCGGGCGGGAACCCCCCATTATATGGGCAACCGCTTGGCAGTGCCCGATCTCACGGCGCCGGCCAGGGTCAAGTGGGCCGCAGTGCGGCGGACGTTCCCCCAACACCCCAGAACCGATTAGCGGTTTGAGACTACGTTATTGAGGGAGTGCGACGAACCTCAGGCTGTGTCATCAGAGCTACCAACGTGGCGCCCGGGGGATGAGATCAGGAGGGGGGATAGGGTATGGATTGTCGGATGGCTTCTGGACATGAGTCAATGCTTTACGACCGAACCTCGTGCAGACGGTTCCAGCACGCCCATGACTACACTGGCCTGCGCGCTGACTGGGAAACTCGGAGGGCCCCCGCAATGCCCATTCAGGGCGGTATAGCGTGTTCTGGCCAGCTGTGATGGTGACCTCAACTGTGGCTCCTCCAAGCAGAGGTTATTTGAGTGCCTGTAGTGCCGGTTGTCGACCGCCTTAAACTCCTAGGCCTCCTTTCCCGAAGGGCTGCGACTCCACTCGGTACGGCATGGTAAGACACTGGGTATGGGGGACACCACCCGGCCTCTCGTAAGCGTTCGGCCTCGCCAGCATGGACTCATCGTGAGAGCATCCGCTTCGAGGCTGAGGGTGACACCGGGGAGACAAGTAGCTTGGCTCGGATCACGAAGTTTTCCGTTCAAATGCGCCCGTAATGTCGCGGAATTTGGGCACGAGCAGGGTGTCAAGATCGGTTGCCAAGTGAGCCTGACCGAGCGAATTGTACGTCCAACCGTGGTTCCAAGCGCTTAATTCCGACTCTTCTCATCAAACCGATTACCGGCCGACAGGAGCGGTCAACTTTGCAACCTCTCCCGGTCGCCCCTGCCGGGATCGGTTGATCCAATTCAAGCCCCTTCGGCGGGCGATGGGGAACTCTAAGAGCAGTCGAAGGCGGCATCCGCATATTTACCGTTACTGCGATCGGCCTGATGTCCAAAGCACCCCCCCCTGCGGAGGCGCCTTACAGATAAGGTGGTGAGGGGACATTGCTAATCAACGACTGCATCAGGTCGAGTAACCCGAAACATTGGGCGGGGCGTCCGAGCGCCCTGCGACGGCGGGTGGGTCTGGTCCCCCACGTCCGTCTGCCTGCGGACCAGCAGACTTTGCGGATTGACCTGGTCGTTCGGGCCTTGCCCGTGACAGATGGAGGGTTCCAGCACTGAACGCGTATTCCGGGCAGATACAGCTGCCGGCGTAAGGGGGTGAAGGGGCACACTTGTCCACCCAGCCCTGTGGCACATATCTCACCGGACCTTGGCCACCGAACACCCACGCCCCCGCGTCATAGACCCCTATGTACGCATCGAAGACGATGAGGGGTACTTAGACGTCCAGAAGGCACCCATCCTGTCGTGGAGAGCACGTCGCTGCTGTCGTGGACCACGCACCCGCAGGGACGCCGTGATTTCCACAAAGTAATTGCGTAGCCCGGGCCTCTTCACAGGTTGAACGTAGCTCGGCGCCCCCTCGGATGTATGCTTAGGGTCGAAGGATCAGGTACAAGCACATTTGGAATTGTAACTGAGGAGAAGGTGGCGTCGCCTCGCTCATCAATGGTTGTGGGTGACCCGAGTCTATGCTATGCCGTCGTACGATGTATATTCTCGGGCACGCTTCTACATGAACACTGTGATGGTGAACCCAAAGGGTTTGGCGCGGGACTAACTGGTGCTCGTTTCCCGTCGACCGTCAATTCGAGTCGGCATGGCAGGGACCAGAGAAGTCCGCCGGCCAAGCGGAGCGATACCGCTCTTCCAGCAGGACAGCACGGTCGGATCTGACTTGGAAAAGGACATCTATAATCACACTCGTCGGCGGGACCCGCTAGGCCAGCCGGGTCTTACGGATCGCTACGCCCAGTACCTAACATAGGGCCCCGCGTTATGACCGGTCGCAGTACGAGCTCTCGGGGACAGGCGGGGTCGCAGGCTAGCCAAATGCACAGCCATGTGGGCTAGCAGGGGAAACCAAAAAGACGCCCCCTCGATCTCGGCGGTGCGCTAGCCACGCCCGATTCGAGATTTACCACGCCAGTAGCGGGAGTACCGACCTCGATCACGGGCTAGACGGCTGGCTGAAGGGTGCCTGGTCGGTTCGGCCAGCTTACCGGGCAGACCGGCAACCCGATCGCGCCTAACCAGGGGCCTGACCGCGAGCACGGTTTCGCTACGACGAGCAAAGGGAACTTCGCTCCGCGTCTCCGTCGCATAGAGGCAGACGGCCAGTGGCACCGCTCCGCTGCGGACAGGTTTGCGCGGGCCACGCTAAGTAGTTAGGACTCATTTCGCGTAGGGGACGGCGCTCGGTAGAGCTCTAGGTGACTGTCATCTCTCTCAGCCACCAGCGGTCGGCATCAAGCAGAGGCCAGTGAGGGTGCCCTGCGCGCCTACGTCGGTGCATACCGCGTCATGTCCACCGCGAATCAGTAGGTCGTGCCGGATCGGGTTACATTCTTTGTGAATTCTTCAACACCCCAGGAGTGCTGCACGACCCTGTGGGCTTCCTGTCAGACTCCGGTGACCGGTCACGCGCCCCCTGTCCGGCTCCTCTAGTCGGACGCAACGGGGGATTCGGAACCCCAACGTAGATGGGGACGTGTATTCGCGCAATAGCCACCAGCACCTAGGTAGGTACCTTTCGAAGTTCGGTTAATCGCCCCCTCGGTAGCTGGCCTTCCATTCCCGTAGCGTTGACGGTCTCGTGCGGTACGTCACTCAGGATACCCCGTGCAATGACTGGTGGTGGTATCGACTTGGCCAGGGCACGGTTAAGCCTGCGTAGGGCGTGCCGCGGCCGCAAGCATCCCATCAGCGTGGGGCTCCCTAGCGTCCCTGCAGTGGGGCCTTGGACAAGGTTGCGTGGGATAACTAGACCTAACAGCTACTCCGCCTCGGGTTGTAGCACACGGGCAAAGGGGGAGGGACGGATGGCTTCCCGCCCAGGTGCTACCATTCGGTACGTGGAGTGGCATATCGCTGCCTCGGCCGCCTCGGCACCTCCGCGCGCGCTTTTGTACGCTCACCTCAGTGCCCTTAGACTATACGAAGGGGGCAATATAGGTCCGTGGAATGGACGCCGATCGCAGGCCGTCGGTAATCTATGCCCGTAACGGCTCAGGCCCGACGGTAGTATACGGCATCCCCGAGGGCCGGTCCCAGCTCTTGATAACCCCAGTGAAAAATCTAGGCTTTCCTCACAAGTCTATCGGGGGCCCATTGCCCGTTGGTTTTCGAGGCAACATTTGGTGGTCCGCGTACGGATGCATTGTTCCCGGCGGGAAGCCCCGGGCTTGCGGCTCACATGTGTACGGCTTTCAGGCGAGAGTGGCGCAGCGTCAGCAGGCTCACTGCATGAGCCCGTCGGGAGGTGACACAGGGTGAGAGCCCAGAGCTCTGTGAAGCTTTCCCCGTTCTGCATGCCTTGCGGTGCCCGGTTCACGCCCTATGCGAGCTTTCGACGGGATATTCGTTTTAGGGGCGCCAGGCTCTCAACGTCGACCTACAGCACTACACCTCGCATGGCTGCGCTCCAGCCAGAGTGGCTTACGACGCAACAGTATACCCGTCCGGCGGCCTCCAAGAACTCTGACGTATCGCCTCAGCGCGGTACGTCAAGTCGGCCCGCCGTTATGAGGCGCGGTGAGCCGTCACAGGTCGGGCCCCCAAGCAAGCGCGGACTCCGGTCTTCGACCCCACCGGCCCGGCGGGAAAAGATCGTAACGAGTCAATACGGCACCTCCGGCCCGATTCAATCCGTTTCCCGGACTAGCGGCCGAGATTCTTGTTGCATGGCGGGTCGAGAGCCCCAGAAGCTAGAGGGGCGGCCGCCTGAAAGGGAAGGGCGCGCGCTCAGCTTCTGTAGCACGACCTTCGATGTACGCGCTTTCCGCGGCAAAGTGGTTCGACCTCATTAGTACCGGCGTGACATGGGGGCACATAATCGCGGAGGGAGACCTGTCGCACCCGTGTGGTACTACCAAAGCCTTGTGCTAAAGTCTTACGCGGTGGGTAAGGGAGACTGGCTACCCCCCGATGACCTCCCTTGCTCCCAACAGAAACTCGATCGGCTAGAAGGCGACTCCGCACATCAGCTCGTGCGGAATCGACGAAGTTCAGACGGGGGCTAGTCAACCGGCCTACTCAATCGGCCAGCCACCCGTCATGCGTCGCGCAGGAGAACGAGACGCTGCGGCCAAGTTTCCGTTTATCGGAACCTGCTATCCAAATACTTCCGAGCGAGTGTGCCAGACCATTGTGTCACATGCACCTTCCAGATAACCCGGCACTTCTCATAGTGCCCTGGACATTCACCTGTAGGCTTCGTCGCAGAGTAGCCTACCAGGGTTAAGGCCGGACAGACATTTTCGTTCTACACAAGACGGATCTCTAGTCTCGGATACGAGTGAGACGTGCAATCCTAGCCTACCCATGGCTCCCCTAGACCTGACCATTCAGGCGAGCCCCCATTGGAGCAGTAAGGTCCGATTTCCCGGTTATGTGCGATCGTGGTCCATCGCAGTGCACAGCTCACGATTACAGCCGATTTCTACGACTGTAACCGTGGTCGCACGCATGTCTCTAGGGTTCAGTAAGCGGCCGTCGGGGGCGAGGGATAAGCATTCCTCAAATAGACCTAAGGGGGGCAGATTTCGCGAATGCAGGTTTCGAGCAGGAGACGGCCAAGAACTTACGCTTGGTTGGTACAGGGGAGCGGTCAACTTCCCGCCGCCGAGCACTCTCAGGGTCCGAATGGGGCCCCGCATTGTCTAGTACGGGGGACCAAGCTCACACTTGAGTTTTGTTGATAGTGTCAGGCCTGGGAGGTTGCAAGATTCTACATCGACTGGTCGTAGTGGGGGGTCTAGCCGTAACGACGGCGCTACTCAGGCCCAAACAGAACAAGCACGCCCCTTACCATTACCCTACGTAGCCACGCTGAGGCCACACCGCCCTAAGCCATCTATACGAGCCCCGCTGGCCGAGGCCCCTCGTCAAATGCCCCCCTGTAAACATGGCTGCGTTCGCGGGGGGTTGGGAACTGTTTTGTAGTGTGTGTAGTTAAAGTCCTGGCCGAGCACGACGTCCACCTGCCCCCCCGGGGACAACCATGCGACTGGTAACTCCTATAATTTGTACGAAGTGCTTGGGCTTCCCAGGGCTCAATTACGTAGCGTGATCGGGCTCTCCCTTGGTTAATCCCGAATACCCGGGTCACCGGTTGATACCAAACCCTGAGAATGGCGGGGGGTGGATACGATCCACCGCGAGCGACCGCCGTAGGAAAGACTCGCGCACCCCCGGCTTGGGGAGAGGGCGCCAGGCCTTGATAAGGTGACCGGTGTGGGTTTCCGGGCGGGAGCTAATCTTCTGGTGGCTCAGGTTGGTGTAAACTCAACCGCGGCGCTAGCACAGGAAGTGACCACTCCCGGCCCACATGCGCGCGCTGACATGCGAAGTAATCCAACCGGGCGCTCTACTCGGGCAAAGCGCAGGTAACCAGATACTGAATACCTTACGGCTGGGCATGGACGCAGAGGACTATGGTACTTGGAGTGAGACAGGGGGTGCGGACGCGCGTGGTGGGATGCCGGCTGCGGCTCACCCCTGGCCGTACCGGACCAATTGGTTGATAAGGTCTTGTTGATGCAGTGTCGGCGGGCC\n",
      "TGCCGGTTGTCGACCGCCTTAAACTCCTAGGCCTCCTTTCCCGAAGGGCTTGCGACTTCCACTCGGTACGGCATGTAGACACTGGGTTATGGGGGACACCACCCGGCACTCTCGTAAGCCGTTCGGCCTCGCCTAGCATGGACTCATCGTGAAGCATCCCGTTCAGTGCTGAGGTGCACACCGGCGGAGACAAGTAGCTTGGCTCGGATCACGAAGTTTTCCGTTCAAATGCGCCCGTAATGTCCGGAATTTGGGCACGAGCAGGGTTGTCAAGATCGGTTGCCCAAGTGAGCCTGACCAGCGAATGTACGTCCAACCGTGGTTCCAAGCGCTTAATTCGACTCTCTCATCAAACCCGAGTACCGGCCCGACAGGAGCGGTCAACTTTGCAACCTCTCCCGGTCGCCCCCGCCGGGTCGGTTGATCCAATATCAACCCCTTCGGCGGGCGATGGGGAACTCTGAGCATCGAAGGCGGCATTCCGCATTTTACTCGTTACTGCGATCGGCCTGTGTCAAAGCACCCACCCCTGCGGAGGCGCCCTTACACAGACTAAGGTGTGAGGGGACATTGCTAATCAACGACTGACATCTAGGTCGAGTAACCCGAAACATTGGGCGGGCGTCCGAGCGCCCTGCGACGGCGGGTGGGTCTGGTCCCCCCACGTCCGTCTGCCTGCGGACCAGCAGACTTTGCGGTTGACCTGGTCGTTCGGGCTTGCCCGTGACGATAGGAGGGTTCCAGCATGAAACGCGTATTCCGGGCAGATACAGCTGCCGGCGTAAGGGGGTGAAGGGGCCACACTTGTCCACCCCAGCCCTGTGCACATACTCACCGGACCTTGGCCACCGAACACCACGCCCCCGCGTCATACCCCTATGTACCATCGAAGACGATGAGGGGTACTTAGACGTCCAGAGGCACCCACCTGTCGTGGAGAGCACGTGCTGCTGTCGGGACCACGTACACCCGCAGGAGAGCCGTGATTTCCACAAACAGTAATGCGTAGCCCGGGCCTCTTCACAGGTGAACGTAGCTCGGGCCCCCCGGATGTATGGCTTAGGCGAAGGATCAGGTACAAGCACATTTGGAATTGTAACTAGGAGAAGGTGGCGTCGCCTCGCTCATCAAGGTTGTGGGTGACCCAGTCTAGCTATCCGTCTACGATGTATATTCTCGGCACTGCTCTACATGAACACTGTGATGGTGAACCCAAAGGGGTTGGCGCGGGACTAACTGGTGCTCCGTTTCCGCGTCGCCGTCAATTCGAGTCGGCATGGCAGGGACCAGAGAAGTCCGCCGGCCAGCGGAGCGATACCGCTCTTCCCAGCAGACAGCACGGTCGGATTGACTTGGAAAAGGACATCTATAATCACACTCGTCGCGGGACCCGCTAGGACGCCGGGTCTTAGGATCGCTACGCCAGTACCTAACATAGGGCCCGGCGTTTATGACCGGTCGCAGACGAGCTCTCGGGGCAGGCGGGGTCGCAAGGCAGCCAAATGCACAGCCATTGGGCTAGCAGGGGAAACCAACAAAGACGCCCCTCGATCTGGCGGTGCGCTAGCCACGCCCGATTCGGAGATTACCACGGCCAGTAGCGGGAGTACCGACCTCGTCACGGGCTAGACGGCTGGCTGAAGGGTGCCTGGTCGGTTCGGCCAGCTTACCGGGCAGACCGGCAACCCGATCGCGCTAACCGGGGCCTGACCGCGAGCACGGTTCGCTACGACGAGCAAAGGGAACTTCGCGCCGCGTCTCGTCGCATCAGAGCAGACGGCCGAGCTGGCACGACCCGCTGCGGACAGGTTTGCGCGGGCCACGCTAAGTAGTTAGGACTCATTTCGCGTAGGGGACGGGCGCTCGGTAGACTCTAGGTGATGTCATCTCCTCAGCCACCAGCGGTCGGCATCAAAGCAGAGGCCAGTGAGGTGCCCTGCGCGCCTACGTCGGTGCAACCGCGTCATGTCACCGCGATTCAGTAGGTCGTGCCGTCGGGTTACATTCTTTGTGAATTCTTCAACCCCCAGGAGCTGCACGACCTGTGGGCTTCCTGTCAGACTCCGGTGACCGGTCCGCGCCCCCTGCCGGCTCCTCTGTCGGACGCAACGGGGGATTCGGAACCCACGTAGTTGGGGACGTGTTTCGCGCAGATGCCACCAGCACCTAGGAGGTCCTTCTCGAAGTTCGCTTAATCGCCCCTCGGTGCTGGCCTCCATCTCCCGTAGCGTTAGACGGTCTCGTGCGGTACTGTCACTCAGGATACCCCTGCATGACTGGTGGTGGTATCGGACTTGGCCAGGGCACGGTTAAGCCTGCGTAGGGCGTGCCGCGGCCGCAAAGCATCCCAATACGTGGGGCTCCCTAGCTGTCCCTGCACGTGGGG\n",
      "CTCGTCATGGTACACATCCTGCTACGAGCCAGAGACTGTTGAAAGCCCGAGGAAGCTGTGCCAGTGACCGATGCGCAGGGAGCGACTTAGCTAGGCAGAGTGAGACGTGTCGCTTGAGCGTCCGCATGTACAGGGAAGTGGCACGACGTCTCTGAGGCCCTGAACGTGGCGTAGGCCACTTTGACCCGGTATTCTAGCAAGAGCAACGGGACCTTCGACGGGTCGTCCAGGGTTGCGACGTAAGACGGCGCCCCAAGCCAGTCATCAGCTCCCGCGCTGGTCTATACACACGACCAGGCCTCTCCGCGGGATAATGCACACAGCGCTATTGTGCTTTAGAACAACATCAGAGGTCCCTAACCGAGCCTACCTACGCTGCTCCCAACCGCCACCACTTCATTCTGCGGCGGAACGGCGTACGCAGCATACCGCCAGGGAGAGTCACCTTATAGTTCAACCGGCGCAAGGCGCAGTGCCGCGTGATTCGCGTTGCGCCGGCCAGCCTCGGTCAGTAGAACTAATCCGGTTGGCCGCGAGCCCGAGGTAGCGCACGGCGATGTATCGTTCCCGCGAGTACTCTCCGTAGAGGACGCGCTCATCTCGCTGGGGCCGCCTAGTCCCTAACCGCGCGCAATGTAGCATCCGTACGATGTGTTTCTGACCCACCCTCGCGGGGGCTACCCGTCCTTTCCGATCAGTAGGTCACTATTCGCTTAGACATGAGCCCGGCGCCCGCTTCTCCCCATCGGACTCTAGCCCCTCTCTGGAACCCCGGCCATGAGCGAAAGGCCGCTGGGCGGACCACAGCGGCAGAAGCTACGAGGCGCCGGAGCCCACCGTCCCAGCCCGGTCGCGAACGGGATGCAGCACCCATATCTTTCACGCAGTGGTTAGGATACCCACTATGAGTAAAAGTCCGCCGGGGCCGGTAAGGGGTAGGTGCGCGAAAGGCACAATACCTGTTGCGGGGACCTCCAGATATGCTTGCCTGGAATGTGGTGAGCTTGTGTAACAGGGAACGCCCCTGTGGACCCTATCCGGACGTGCGAACTCCCGGGGTGACTTACTCCGATCTCAGAAGCCGCCCGGCACGCGGCTTGGTCAGACCGCACTACTGCGCCGTTGGGGGGCCTAAGCAGAGGCAGCGTGAATGCTCCGTCATGGCATTCGACGGGCTGTGAGCGGAGAGTCGCCTGCCGCTGATGCTAGAGCTCTCGCGGAGGTAAAGCGCCGCAGCACGGTAGGTGGGCCGGCGTTCACACTATCCGATGTGGGAGGGTGGGCATGCATAGCGTACCCCGACGCATAGACGCAAACAATGTGCCCATTAACAGTCCAATAAGTCGCACCCCGGCCGGGGTGCCATTGTGGGCTGAGACTGAGCGGGGTCCTCCTAGCACCCTCCCGGAGGATTCCACGGTGCGCCAGATAGCGATTCCCGGCAGGCTGGGCCGGTCGCCAGGAGCGGTCACTTCCGGAGTCGTTCGAGTGCGATGTCCGAGAGACCTATGTTGAAGAGTCCGCTCAATAGACCCATCAATGCTAGGTGGGGTGTATCTAGCCGGCCAAGCGCTTGAGTTACGTTAGCGCAAGCAATACAAGGCGCTGGGGCTCATGTACTGCTTCTTCGCCTGAGTCAGACCACTGATCGTTGTCCAGCGGCCGGGTAGAACGTCTGCGGGGGGTTTCCGCATACGCGGTGCAAAAGCCGCTGTGAGTCCACGTTCTCCTCCGCGAGCCGTGCTCCAACCTCAGGCTCCTAGCCTCGGCAAAAGCCGTGGGCTCCGATACATCCCAATACACGCAACGCCCGTTGTGGTTTGCACCGGTTGCAGATGGGGTGCGGAGGCGGCCCCGTTCCCCCCGCTTCACGGGGTAAGATACGACGGCAGAGTAGCACTAATCCATTTGTGCGTGTGATGCCTTTCGCTCTAAGCCGCCTGACGGAGATCTTAAACAGGAGTCGCGTGGCTCGCAACGGCAGGCAGAGTGACTCGCACCATTGGTCAGCCCCCGCGTCTGCGCTTCGGCCGGTAGAGCCAGGAGGTCCCCATCCTTGCGCAAGGTGGATGGTTATGTCCATGGTTCCTCAGGCAGAGGGCCGCCGTTCGTAGCGATTCCGCCTTGGCACTTGCGAACACGGGAGAACCCCAAGTCCACTCGCGGGACAGGATCTGTTGCGTCTGGACGGGAGGATTTAGCCGTCTACGAGCGCAATACGCCATTGCAAGGGCACCGGGAGAGGCGGTTAAGGCTTATCCCTCACGGAGGACTGAGACGATTGGGACCAGTTGGTTAGAAGCAGGTATTGGCGGTGGGCCTGCCGCGCAGGCTTCCGCACGGTCGCAGTGGACATCGATCGACCAACAAGGCTCATCGATACCAACATGTCCGGGCCGGGTACGCACGAGAGGAGAGAAGCATGAAGCGCCACCTACGGTCCTACTCGCGGAAGCGCTCGTGCAGTCATAGGGGTGGCTGGCCCCTCCCGGGGTGCACGTTCTCGGATCAGCTCGGTGTTGTAAGAGCCTGCAGTTAGCGCCGATCGTATGTGTGCCTAACGACGTGGAATGGACCAGGCATTGATTAGGGTCGGCATTGCAATCCGAGTCGCCCACGGGCCGGAACCGGCCCTCCGAAAGCGAGGCTCCTAGGCACTTGCAGGCACTGCAGACTGCGGTAAGCAAATAGGCTCGACTCTGTTGGGCCCAGGGCGTTCGGGGGTACACATTAAGCAGGAGGCAGACTCACACATGTCCCAAGATCAGGGTGCGTGCAATTATTGTTGGCGCGGCCTGTACGGACCAAGCGTGTGAACTATTGTGGGCTAAGTCGGGGCCGGAGATTTGCTCACTCCGCGGAGATATTCCGTTGTTCTCGAGGTTCGTTCGTGTAAGCGGCGACGAGCATCCGGTGGATTAACCGCATTACGCGTTCTTTCTGCGTCCGCCGACACGGGTCAGCTGCGCAACGACCACCGGTAGCTTTCACATGCGGATTCAGTGACCACCTATAGCGCCTGCCTGGGCCGCCCGGGCCCTGACGCACTCTGGATCATCCGGGCGGTCCCAGCCACGGGCTACCGCCGACGCTGGTGAGTCTATCCCTGGCTTGCCAATGTGTTTGACGGGGAACGCTACACCTGCATCTCGTGACTCCCCCTCTTGCCGCAGGGTCTAACCATGGAAGGGGGGCTGGCGGATGGGTTCGTAGCATAAGAATGGATCTAATGGCCCGCGCACTGGGGTTCGAACTAGGTGGGACCGACGGGGGGGCCTCCGACGCGGATCCAGGGGTCAGCCTTACCAGGGTGATCGATTCCTGTACCCTTCTCGTTGTGCCAGTACGATGCTTAAGCGACGACTTTGGCGATGACCCAGGGGCTGATGGTGATCGCAAGTCAGGTCACTCCTCCCACAGGAATAACAGTGAAGGCGCCTGCGGGGTTCCGCCACGCCCTCACCCCCATTACAACGTGGGTTTGTACTCTGACCCGCCGCGTCACGGTCCAACCAGCCCAGGCCAAAGGTCACCCCGAGCCTGGACTCACGCCCACAACCAATCCGGGGAATGTGGATCGTGTTCCTCACGGTTCTGACGCCGCTCACGTGACGCCGTATGCACGATCCCTATTTTTGGGCTCCGGCTGCCAGCCGGTTTGTCCTGTCCTTCGCTCCGTAAGTCGATGCACCATATGCTGTCGAGATGGCCACGCCCCTTGAGGGTTACCAAGGGGCGTTTAGTTTTTTCCTGTAGCGGGTAGCCCGGGCTTGCTCCTACCAAAGCTAGATTCTGCCCCAGGCAATTGCGGTGAGACCTGAAGCGTTTCGTAGCCATCCATCCTGCTCGAGTGTGACTGCCGGCCCTCTGGCACGGAGTACGCGCCTCCGCCCCTGGCACGCGGAATCTCCGACCGCCCAAGGCGGAGGCAGCGTGTTCGTGCCCCGTGTTCCTCCGACATGCGCGCCACATACCTCGCCGCCCGTGTCTTGAGTATGAGGACGGGCGGACCCCCTTATATGGCACTCGCTTGCAGTGCCCGATCTCACGGCGCCGGCCTAGGGTCAAGTGGGCCGGCGTGCGGCGGACGTGTCCCCAACACCCAAGACCGTTTAGGGTTTGAGCTACGTTATTGGGGAGTGCGACGAACCGTCAGGCTACGTGTATCAGATACCAACGTGTTCGCCCGGGATGAGATCGGAGGGGGGATGGGTATGGATTGTCGGAGGCTCTGACATGAGTCATGCTTACGACCGAACCTCTGCAGACGGTCGCAGCGACGCCAATGAGCTACCACTGGCCTGCGCGTCTGTACTGGGAACTCGGAGGCCCCCGCAAGCCCTATTCAGGACGTGTATACGTGTTCTGGCAGCTGTGCATGGTGACCAGTCCACTGAGGACTCCTCAAGCAGAGGTTATTGAGTGCCTGTAGTGCCGGGTTGTCGAGCCGCCTTAAATCCTATGGCCTCCTTTCCCGAAGGGCTGACGACTCCTACTCGAGTACGGCATGTAGACCACATGGGTATGGGGGATCACCACCCGGCACTCTCGTAAGCGTTCGGCTCGCTACAGCATGGACTCATCGTGAAGCATCCGTATCAGGCTGAGGTGCACACCGGGGGACAAGTAGCTTGGCTCGGATCACGAAGTTTTCGTTCAAATGCGCCCGTAATGTCCGGAATTTGGGCACGGAGCAGGAGTGTCAGAATCGGTTGCCCAAGTGAGCCTGACCAGCGAATGCTACGTGCCAACCGGTGGTTCCAAGCGCTTAATTCGACTCTCTCATCAAACCCGAGTACTCGGCCGACAGGAGTCGGTCAACTTTGCAACCTCTGCCCGGTCGCCCCCGACCTGGGTCGGTTGATCCAATTCGAACACCCTTCGGCGGGCGATGGGGAACTCTGAGCATCGAAAGGCGGCATTCCGCATTTACCGTTACTGTCGATCGGCCTGTGTCCAAAAGCACCCAACCCCGTCGGAGGCGCCTTACACAGATAAGGTGTGAGGGGAACATTGCTTAATCATACGACTGCATCTAGGTCGAGTAACCCGAATACATTGGGCGGGCGTCGAGCGCCCTGCGACGGTCGGGTGGGTCTGGTTCCCCACAGTCCCGTCTGCACTGCGGTACCAGCAGACTTGCGGTTGACCTGGTCGTTCGGGCTGGCCCTTGTGACGATGGAGGGTTCCAGATGAACGACGTATTCACGGGCAGATACAGCTGCCGGCGTAAGGGGGGTGAGAGGGCACACTTTGTCCACCCAGCCCTTGTGGCACATAACCTCACCCGGACCTGTGGCCACCTGAACACCACGCCCCCGCGTCATACCCCTATGTTCACCATCGAAGACGATGAGGTGGTACTTAGACGTCCAGAGGCACCCACCTGCTCGTGGAGAGCACGTGCTGCTGTCGGGACCACGCACCCGCAGGGAGCCGTGATTTCCACAAAAGTAATGCGTAGCCGCGGGGCCATCTATCACAGTGAACGTCAGGCCGCGCGCCCCCTCGGATGTATGCTGTAGGCGACAGGATCAGGTACAAGCACATTGGAATTGTAACTAGGAGAGGTGGCGTCGCCTGCTTCAGTCAAGGTTGTGGGTGACTCCAGTTCTAGCTATCCGTCTACGATGTATATTCTCGGGCACGCTCTACATGAACACTGTGATGGTGAAACCCAAAGGGTTGGCGCGGGATAACTGGGTGCTCCGGTTTCCGCGTCGCGTCAATTCGAGTCGGCATAGGCAGGGACCAAGAAGTCGGCGCCGGCCAGCGGTAGCGATGACCGCTCTTCCCAGCACGACAGCACGAGTCGGATTGACTTGGAAAAGGACATCTATAATCACACCGTCGCGGGACCCGCTAGGCGCCGGGTACTTAGGATCGCTACGCCAGTACCATAACATAGGGCCCGGCGTTATGGACCGGTCGCAGACAGCAGCTCTCGGGGGCAGCGCTGGGGTCGCAAGGCCAGCCAAATGCACAGCCTTGGGCTAGCAGGGGAAACCAAAAAGACGCCCCCCGACTTGGCGGTGCGCTAGCCACGCCCGATTACAGAGATTACCACGGCCAGTAGCGGGAGTACTCGACCTCGTCACGGGCTAGACGGCGGCTGAACGGGTGCCTGGTCGTTCGGCCAGCTTTAACCGGGCAGATCCGGCCAACCCATCGCTCTAACCGGGGCCTGACCTGCGACACGGTTACGACTACTGACGAGCCAAAGGGAACTTCGCGCCGGTCTCAAGTCGCATCAGAGCAGACGGCCGAGCTGGCACGCCCGCTGCGGACAGGTTTGCGCGGGCCACGCTAAGTAGTTAGGACTCATTTCGCGTAGGGGACGGGCGCTCGGTAGACTCTAGGTGATGCTCAATCTCACTCAGCCACCAGCGGTCGGCATGCAAGCAGAGGCCCAGTGAGGGTGCCCTGCGCGACCTACCAGTCGCGTGCAACCGCGTCATGTCACCGCGATCAGTAGGGTCGTGCCGTCGGGTTACACTTCTTTGTGACATTGCTTCAACCCCCAGGAGTCTGCACGACACTGGGGCTTCCTGTCAGACTCCGGTGACCGGTCCGCGGCCCCCTGCCGGCTCCTCTGTCGGACTCAACGGGGGATTCGGAACCCACGTAGTTGGGGACGTGTTTCGCGCAATGCCACCAGCACCTAGGAGGTTCCTTTCGAAGTTCGTTACTCGCCTCCCGGTGCTGGCCTCCACTTCCCGTAGCCGTTAGACGGTCTCGTGCGTACGTCACTCAGAGATACTTCCTGCATGACTGGTGGTATGGTATCGACTTGGCCAGGGCACGGTTAAGGCGCTGCGTAGGGCGTGCCGCGGCACGCAAGCCCCATACGTGGGGCTCCCTAGCGTCCCTGAGTGGGGCTCTTGACAAGGTTGCGTAGGGAATAACTAAGACCTAACTAGCTACTCCGCCTCGGGTTGTAGCCCACACGCGGCAGGGGGAGGGACGGATGGCTTCCCGCCCCAAGGTGCTCCCATTCGGTACGTGGAGCTGGCATATCGCTGCCTCGGCCGACCTCGCACATCGCGCGGTTTTGACGCTCACCTCAGTGCCCTTAGTATCTATACGATAGGGGGCAATATAGGTCCGTGGTGGACGCCGATCGCAGGCCGTCGGTAATCTATGCCCGTACGGCCTCAGTGCCCGGTACGGAGGATACGGCATCCCCGAGGGCCGGTCCCAGCCTCTTCGATAACCCCATGAAAAATTGAGGCTTTCCTCACAATCTATCGGGGGACCCATTGCCCGTTGGTTTTCGATGGCAACATTGGTGGTCAGCGTACGGAGCATTGTTCCCGGCGGGAAGCCCGGGCTTTGCGGCTCCATGATGTATCGGCTTTCGGCCGAAGTGCGCAGGTCAGCAGGCTCACTGATAGAGCCCGCGGGGGTGACACAGGGTGAGAGCACCAGAGCTCTGTGAAGCTTTCCCGTTCTGCATGCCTTGCGGTGCCCGGTTCACCCCTATGCGAAGCCTTCACGGGCATATTCGTTTAGGGGCGCCAGGACTCTCGAACAGTCGACCTACGACTACACTCGCATGGCTGCGCTCCAGCCAGACGTGGCTTACGACGCAACAGTATACCCGTCCGGCGGGCCTCCAAGAACTCCTGACGTATCGCCTCAGCGCCTCACGTCAAGTCGCCCGCCGTTATGCAGGCGCGGGAGCCGTCACAGGATCCGGCCCCAAGCAAGCGCCGGACTCCGGTCTTCGACCTCCACCGGCCCGTGCGGGTAAAAGTCGAACGAAGTCCAATACGGCACCTCCCGGCCCGTTCAATTCCGTGTTCCCGGCTAGTCGCCGAGATTGCTTGTTCATGGCGGGCGAGAGCCCACAGAGCTAGAGGGGCGCCGCCAAAGGGAAGGGCGCGCGCTCAAGCTTTCTGTAGACGAACCTTCGATGTTACGCGCTTTCCGCGGCAAAGTGGTTTCCCGACCTCATTAGTACCGGGCGTGACATGGGGGCACATATATCGCGGAGGGAGACCTGTCGCACCCGTGTGGTACTACCAAAGCACTTGTGCCTAAGCTACGCGGGGGTAACGGGAGACTGGACTACCCCCCGATGACTCCCTTGCTTACCCAACAGAACTCGATCGGCGTAGAAGGCGACTCCGCCATCAGCTCTGTGCGGAATCGACGAAGTTCAGACGGGGGCTAGTCAACCGGCCTCTCAACGCCAGCCCACCCGTCATCGTCGCAGCAGGAGACGGACCCTGCGGCCAAGTTTCCGTTTATCGGAACCTGCTATCCAAATACTTCCGAGCGAGTGTGCCAGACCATGTGTCACATGCCCTTCCGATAACCCGGCTGATCTTCTCATAGTGCCCTGGACATTCACCTGTGAGGTTGTCGCGAGTAGCCTACCAGGGTTAAGCCGGACAGACATTTTCGTTCCTACACAAGACGATTCTCTATCTCGGATACGAGTAGACGTGCAATCCTAGCCTACCCCAATGGCTCCCCTGACCTGACCTTAGGCGAGCACCCCATTTGGAAGCAGAAGGTCCGATTTCCCGTGATGTGCGATCGGGGTCCATATCGCAGTTGCACTAGCTTCACGATTACCACCGATTTCTAACGACTGTTAACCGTGGGCGCACGCATGTCTCTAGGGTACTCAGTAAGCGGCCCGTCGGGGGCGAGGGTAAGCACTTCCTCAATAGACCTCAAGGGGGGCAGATTTCGCGAATGCAGGTTTCGAGCAGGAGACGTGCAAAGAACTTACGCTTGGGTTGGTACAGGTGGAGCGTCAACTTCCCGCCGCCGAGCACTCTCGAGGTCCAGATGGGGGCCCCGATTGTGCTAGTACGGGGGCACCAGCTGCACACTTGAGTTTTGTTTGATATGTCAGGCCTGGGAGGTTGCCTAGATTCACATCGACTGTCGTAGTGGGCGGTCCTAGCCGTAACGAGGGCTACTCAGGCCCAAACAACAAGCACCCCCCTTACCATTACCTACGGCCAACGCTAGAGGCCCACACCGCCCTAAGCCATCTATCACGAGCCCCGTGGCGCTGAGGGCCCCTCGTAATGCCCCCCTGTAAACATGGCTGCGTGTCGCGGGGGGTATGGGAACGTGTTTGTAGTGTGTGTATTAAAGTCCTGGCCGACATGATCGTCACCGCCCCCCGCGGAGCTAACCATGCGACGGAACTCCTATAATTTGTACGAAGTGCTTGGGCTTCCAGATGGCTCATCTACGTCGCGTGATCGGGCTCTCGCCTTGTTAAGTCCGAAACCCGGGTCACCGGTTGAACCCAAACCCTGAGAATGGCGGGGGTGATACGATCCACGCAGCGGACCGCCTGTAGGACAAGACTCGCGACACCCCCGGCTTGGGGAGAGGGCGCCAGGCCTTGAATAAGGTGACCGGTGTAGGGTTTCCGGCGGGAGCTAATCTTCTGGTGGCTCAGGTTGGTAAACTAACCGCGGCGCTAGCACAGGAAGTGACCACTCCCGCCCACATGCCGAAATGACATGCGAAGTAATCCAACCTGGGCGGCTCTACTCGGGCAACAGCGCAGTCAACCGATACGAATACCTTACGGGCTGGCATGGACGCAGAGGGCTATGGTACTGGAGCTGAGAACAGGGGTGCGGACGCGCGTGGTGGATGACCGGCTGCGGCTCACCCGCTGGCCGTACGCGACCAATTGGTTGATAGGTCTTGTTGATGGCAGTTAGCGGCGGCCCAAGTGTTCACAGGGCCGACCGCATCACTCAGATCCTTTCCCTTGTCTGGGCGTTCCAGCCCGCGTGCGGGCAAGGGGGCCAACCGTCTTTACAAGCGCCTATAGCCAGTGCCATTACGCGACGATGTTGGCGGGCCTGGGGTCTGACCCGGGGTAACTCAACACGGAACATTCTAGGGCGTAGTCGCGGCCGTACCCTATTCTGCCCAGGAGTGAGCGGAATGTCCGTTAAGGCAGTGAACCTGAGGCTACTGGCGGCTCTAAGCAGGAGCCTGTGATGAGGAGATCCCG\n",
      "CCGCCGGGGCCGGTAAGGGGTAGGTGCGCGAAAGGCACAATCCTGTTGCGGGGACCTCCAGATAGTGCTTGCTGAGAATGTGGTGTAGCTTGTGAACAGGGAACGCCCCTGGGACCCTATACCGGAGCGTGCGACCTCCCGGGGTGACTTACTCCGGACTCTCAGAAGCCGCCCGAGCACGCGCGCTTGTCAGACCGCACTACTGGCGCCGTTTGGGGGGCCTAGAGCAGAGGCAGCGTGAAGCTCCTCATGGCATTGCGACGGGCTGGAGCGGAGAGTGCCTGACCGCGATGCTGAGCTCTCGCGGAGGTAAAGGCCGCACACGGTAGGTGGGCCGGCGTTCACACATCCGATGTGAGGGGGGCTGCATACGTACCCCGACGCATAGACGCAAACAACTGTGCCCATTAACAGTCCCAATAGTCAGCACCCCCGGGCGTGCCATGTCGGCTGAGACTGAGCTAGGGTCCTCCTAGCACCCTCCCGGAGGATTCCACGGTGCGCCAGAGTAGCGTTCCCGGCAGGACTGGGCCGGTCGCCAAGGGCGGTCACTTGCGGAGTCGTTCGAGTGTCGATTGTCCGAAGATACCTATGTTGAAAGTCCCTCGAATACCCATAAGCTAGGTGGGTGATCTAGCCGGCCAAGCGCTTGAGTACGTTGCGCAAGCAATACAAGGCGCTGGGGCTCATGTCTGCTTTCTTCGCCTGAGCAGACCACTGATCGTTGCCAGCTGGCCGGGTAAGAACGCGCGGGGGGTTTCCGCATACCGGTGCAAAATGCCGCTGTGAGCCAGTCTCTCCGCCGAGCCGTGCTCCAACCTCAGGCTCCTAGCTCGGCAAAAGCCGTGGGCTCCGATACTCCAATACACGCACGCCCGTTGGGTTTGACCGGTTGCTAGATGGGGTGCGGAGGCGGCCCCGTTCCCCCCGCTTCACGGGGTAAGATACGACGGCAGATAGCAGCTACCATTTGGGCGGTGATGTCCTTTCGCTCTAAAGCCGCCTGACGGAGATCTTAAACAGGAGTCGCCTGGCTCGCAAGGAGGCAGAGTGACTCGACCATATGGTCAGCCCCCGCGCTGCGCTCGGCTCGGTAAGGCAGCGAGGTCCCCATTCCTCTCGCAAGGTGGATGGTATGCCATGGTTCCTCCAGGCAGAGGGCCCCTTCGTAGCGATTCCGCCTTGGCACTTGCGAACACCGGGAAACCCCAAGTCACTCGCGTGGAAGGATCTGTTGCGTCTGGACGGGAGGATTTACGCCGTCTACGAGCGCAATACGCCATTGTCAAGGGCACGGGAGAGGCGGTTAAGGCTTATCCCTCACGAGGACGAGACGATTGCGGACCAGTTGGTATAGAAGCAGGTATTGGCGGTGGGCCGCCGCGAGGCTTCCGCACGGTCGCAGTGACATCGATCGACCCAAGGCTCGCAATCGAACCAATTCCGGGCGGGTACGCACGAGAGGAGAGAAGCATGAAGCGCCATAGGTTCCTACTCGCGGAGCGCTCGTGCAGTCATAGGGGTGGCGGCCCCTCCCGGGGGCACGTTCTCGGATCACTCGGTGTTGTAAGAGCCTGCAGTTAGCGCCGATCATGTGTGCCTAAGACGGGAGATGGGCAGGCATTGATTAGGGTCGGCATTGCAATCCGAGTCGCCCACGGCCGGAACCGCCCTCCGAAAGCGAGGGCTCCTAGGCACTTGCAGGCCTGCAGACTGCGGTAAGCAAATAAGGCTCGACTCTGTTGGGCCCAGGGCGTTCGGGGGTACACATTAAGCACTGGAGGTCAGACTCACACATGTCCAAGATCAGGGTGCGTGCAATTATTGTTGGCGCGGCCTCTGACGGACCAAGCGTGTGAACTATTGTGGGCTAAGTTCGGGGCCGGAGATTGCTCACTCCGCGGAGATATCCGTTGTTTCGAGGTCGTTCGGTATAGCGCGACGAGCATCCGGTGGATTAACCGCATTACGCGTTCTTTCTGCGTCCGCCGAACACGGGTCAGTGCGCAACGACACGCGGTAGCTTTCACATCGAATTCAGTGACCACCTATAGGCCTGCACTGGGCCGCCGGGCCCTGACGCACCGTCGTGAGATCATCCGGGCGGTCCAGCCACGGGCTACCGTCCGCACGCGGTGAGTCTATCCCTGGCTTGCCAATGGTTTGACGGGAACGCTACACCTGGCATCTCGTGCACTCCCCCTCTTGCCGTCAGTGTCTAAACCATGGGAAGGGGGGCTGAGCGGTGGGTTGTAGCATAAGAATGGATCTAATGGCCCGCGCACTGGGGGTTCGAACAGTGGGACCGACGGGGGGGCCTCCGACGCGGATCCAGGGGCAGCCTTACCAGTGGTATCGATTCCTGTACCCTTCTCAGTTGTGCCAGCGATGACTTAAGCGACGACTTTGGCGATGACCCGGGGCTGATGGTGATCGCAGTCGGTCACTCCTCCCACAGGAAAACAGTAGAAGCGCGCCTGCGGGGTTCTGCCACGCCCTCACCCGCCATTACAACGGGGTTTTGTACTCTGACCGCGCCGCCTCACGGTCCACCAGCCAGGGCCAAAGGTCACCCGAGCCTGGACTCACGCCCACAACCAATCCGGGGGAAGCGGATCGTGTTCCTACGGTTCTGACGCCGCCTCACGTGACGCCGTTGCACGATCCCTATTTTTGGGCTCCCGGCTGCCACCCGGTTTGTCCTGTCCTTCGCTCCGTAAGTCGAGCACCTATGCTGTCGAGATGGCCCGCCCTTGAGGGGTTACCAGGGGCGTTTAGTTTTTTCCTGTAGGGGTAGCACCAGGGCTTGCCTCCTCCCAAAAGCTAGATTCTTGCCCCAGGCAATTGCGGTGAGAACCTGGAAGCGTTCGTAGCCATCGCATCCTGCTCGAGTGGACTGCCGGCACCTCTGGCAACGGGACGCGCCTCCGCCCCTGGCACGCGGAATCCTCGACCCGCCCATAGGCGGAGGCAGCGTGTTCGTGCCCCGGTTCCTCCGACATGCGCGCCACATACCCGCCGCCCGTGTCTTAGTATGAGGCGGGCGGAACCGCCTTGATATGGCACCGCTTGGCAGTGCCCGATCTCCGGCGCCGGCCAGGGTCAAGTGGGCCGCGTGCGGCGGACGTTCCCCAACACCCCAGACCGTTTAGCGGTTTGAGCTACGTTATTGGGGAGTGCGACGAACCTCAGGCTGTGTATCAGAGTACCAACGTGCGCCCGGGATGAGATCGGAGGGGGGATAGGGTATGGATTGTCGGAGGCTTCTGACATGAGTCATGCTTACGACCGAACCTCTGCAGACGGTCCAGCGCACGCCAATGACTACACTGGCCTGCGCGTCTTGACTGGAACTCGGAGGCCCCCGCAATGCCCATTCAGGCGGTATAGCGTGTTCTGGCAGCTGTGATGGTGACCTCAAACTGAGGCTCCTCAAGCAGAGGTTATTGAGTGCCTGTAGTGCCGGTTGTCGACCGCCTTAAACTCCTAGGCCTCCTTATCCCGAAGGGCTGCGACTCCACCTCGCGTACGGCATGTAGACACTGGGTATGGGGGACACCACCCGGCACTCTCGTAAGCGTTCGGCCTCGCCAGCATGGACTCATCGTGAAGACATCCGTTCAGGCTGAGGTGCACACCGGGGAGACAAGTAGCTTGGCTCGGATCACGAAGTTTTCCGTTCAAATGCGCCCGTAATGTCCGGAATTTTGGGCACGAGCAGGGTGTCAAGATCGGTTGCCCAAGTGAGGCCTGACCAGCGAATGTACGTCCAACCGTCGGTTCCCAAGCGCTTAATTCGACTCGCTCTATCAAACCCGAGTACCGGCCGACAGGAGCGGTCAACTTTGCAACCTCTCCCGGTCAGCCCACCGCCGGGTCGGTTGATCCAATTCAACCCCTTCGGCGGCGCGATGGGGCAACTCTGAGCATCGAAGGCGGCATTCGCGCATTTTACCGTTACTGCGATCGGCCTGTGTCCAAAGCACAACCACCCCTGCGGAGGCGCCTTACACAGATAAGGTGTGAGGGAGACATTGCTAATCAACAGACTGCATCTAGGTCGAGTAACCCGAAACATTGGGGGGCGTCCGAGCGCCCTGCGACGGCGGGTGGGTCGGGTCCCCCACGTCCGCTGCCTGCGAGACCAGCAGACTTGTGCGGTTGACCCTGGTCGTTCGGGCTTGCCCCGGTGACATGGAGGGTTCACAGCCAGTGAACGCCGAGTTCCGGGCAGATACAGCTGGCCGGCGTAAGGGAGGGGAAGGGGCACACTTCGTCCACCCCCAGCGCCTGTGCACATACTCTACCGGGACCTAGGGCCACCGAAAACCACGCCCCCGCGTTCTATACCCCCTATGTACCATCGAGACGATGAGGGGTACTTAGACTCCAGAGGCACCCACCCTGCAGTGGAGAGCACGTGCTGCTGTCGGGACGCACGCACCCGCAGGGAGCCGTGATTTCCATCAAAAGTAATGCGTAGCCCGGCCTCTTCACAGGTGAACGTAGCTCGCGCCCCCCGGATGTATGCTTAGGCGAAGGATCAGTCAAGCACAATTTGGAATGTAACTAGGAGGACGGTGGCGTCGCCTCGCTCATCAAGGTTGTGGGTGACCCAGTCTGAGACTATCCGTCTACGATGATATATTCTCGGCACGCTCTACATGAACACTGATGATGGTGATACCCAAGGGTTGGCGCCGGGACTAACTGAGTGCTCCGATTTCCCGCGGTGCGCCTTCAATTCGAGTCGGCATGAGCAGGGAACCAGAGAAGTCCGCCGGCCCAGCGGAGGATACCGCTCTTCCCAGCAGGGACACGTCACGGTCCGGATTGACCTTGGAAAAGGACACTATAATCACACTCGTCGCGGGACCCGCTAGGCGCCGGGTCTTAGGATCTGCTACGCCAGTCCCTAACATAGGGCCCGCGCGGTTTATGACCGGTCGCAGACGAGCTCTCGGGGCAGGCGGGCGTCGCAGGCACGCCAAATGCACCCATTGGGCTAGCAGGGGAAACCCAAAAAACGCCCCTCGATCTGGCGGTGCAGTAGCCACGCCCGATTCGAGATTACCACGGCCAGTAGCGGGAGTACCGACCTCGTCACGCGTGCCAGACGGCGGGCTGAAGGGTGCCTGGTCGGGTTCGGCCAGCTTCCGGGCAGGACCCTGGCAACCCGATCGCGCTTAACCGGGGGCCTGACCGCGAGCACGGTTCGTACGACGTGCAAATGGGAACTTCGCGCCGCGTCTCGTCGCATCAGAGCAACGGGCCGAGCTGGCCGCCCGCTGACGGACAGGTTTGCGCGGGCCACGCTTAAGTAGTTGGACTCATTTCGCGTAGGGAGACGGGCGTCTCGGTAGACTCTAGGTGATGTCATCTCCAATCAGCCACCAGCGGTCGGCATCAAGCTAAGAGGCCCAGTGAGGGTGCCCTCCGCGCCTACGTCGGGTGTCAATCGCGTCATGTCACCGCGGATCAGTAGGTCGATGCCGTCGGTTACATTCTTTGGAAATCCTTCACCCCCAGGTACGCTGCACGACCTGTGGGCTTCCTGTCAGACTCCGGTGACCGGTCCGCCAGCCCCCTGCCGGCTCCTCTGTCGGACGCAACGGGGGATTCGGAACCCACGTAAGTTGGGGACGTGTTTCGGCGTCAATGCCACCAGCACTAGGAGGTCCTTTCGAAGTTCGTTAATCCCCCGTGCGGTGTCTGGCCTTCCATTCCGTAGCGTTAGACGGTCTCGTGCGGTACGTCACTTCGGATACCCCTGCATAGACTGGTGGTGGTATCGACTTCGCCAGGGCACGGTTAAGCCTGCGTAGGGCGTGCCGCGGCCGCAAGCATCCCATACGTGGGGCTCCCTAGCGTCCGACTGCAGTGGGGCCTTGACAAGGTTGCGTGGGATAACTAAGACCTAACAGCTACTCCGCCTCGGGTTGTAGCACACGGCAGGGGGAGAGGACGGATGGCTTCCCGCCCCAGCGGTTGCTCCCATTCGGTTACGGGGAGTGGCATATCGCTCCCTCGCCGCCTCGCCACATCGCCGGAGCTTTTGAACCGCTCACCTCAGTGCCCTTAGACTATAGAAGGGGGCAATAATAGGTCCGGGGATGGACGCCGATCGCCGAGGCACGTCGGTAATCTATGCCCGTACGGCTCAGGCCCGGAGACGGAGATACGGCATCCCCCGAGAGGCCGGTCCCAGCTCTTGAAACCCCATGAAAAAATTAGGCTTTCCTCACAAGTCTATCGGGGGCCCATTGCCCCGTTGGTTTTCGAGGCAACATTGGTGGTCCGCGTACGGAGCATTGTTCCCGGCAGGGATAGCCCGGGCTTTCGCTCCATGATGTAAACGGCTTCCGGCGAAAGTGGGCGCAGGTCAAGCAGGCTACTGATGAGCCCGCGGGAGGTGACACAGGGTGAGAGCCCAGAGCTCTGTGGAAGCTTTCCCGTTCATGCATGACCTTGCGGGCCCGGTTCCGCCCTAATGCGAAGCTTCGACGGGATATTCCTTCTAGGGGCGCCATGGCTCTCAAACAGTCGAGCCGTACAGCGACTACACTCGCATGGCTGCGCTCCAGCTCAGAGTGGCTTACGACGCAACAGTATACCCGTCCGGCGGCCTCCAAGAACTCTGACTATGCGACCTCAGCGCCTATCGTAAGTCGCCCGCACGTGTATGAGGCGCGGCTGACACGTCACACGGTCCGGCCGCCCAATGCAAGCGCGGACTCCGGTCTTCAGACGCCCACCGGCCCGGCGGGAGAAAGTGAAACGAGTCAATACGGCCCTCCGGCCCGTTCAATCCGTGTTCCCGCGACTAGCGCCGAGATTCTTGTTGCATGGCGGGCGAGAGCCCCAGAGCTAGAGGGAGCGCCGCCAAAGGGAAGGGCGCGCGCTCAGCTTTCTGGTAGCAACGACCTTCCGTGTACGCGTCTTTTCCGCGGCAAAGTTGGTTTCCGGACCTACATGTAGTACCGGCGTGACATGGCGGCACATAATTCGCGGAGGGAGCCGTGTCCCGTCACCCGTGTGGCTACTACCAAAGCCTTGTGCTAAATAGCTCTACGCGGTGGGTAAGGGAGACCGCTACCCCCCGATGACTCCCCTTGCTTCCTCAACAGAACCGATCGTGACAGAAGGCGACTCCTGCCATCAGCTCGTGCGGAATCGACGAAGTTCAGACGGGGGTACTAGTACCGGCCTCTCATCGGCCAGTCCACCCGTCATGCGTTCGCGCAGGAGACGGACGCTGCGCCCAAGTTTCCGTTTATCGGAACCTGCTATCCAAATACTTCCGAGCGAGTGTGCCAGACTCATGTGTCCACATGGCACCTTCCGATAAAGCCGGCACTTCATCATAGTGCCCTGGACATTCACCTTGTAGGTTGTCTGCAGAGTAGCCTACCAGGGTTAAGGCCGGACAGACATTTTACGTTCCTACACAGACGATCTCTTAATCTCGGATACGAGTAGACGTCAATCCTAGCCTAGCCCATGGCTCCCCCTGAGCCTAACCTTAGGCGAGCCCCCATTGGAGCAGAAGGTCCGATTTCCCGTCGATGTGCGATCGGGGTCCATCGCAGTCTGCACAGTCAGATTATCACCGATTTCTAACGACTGTAGACCGTGGCGCACGCATGTCTCTAGGGTTCAGTAAGCGGCCAGTCGGGGGGCAGGGTAAGCATTTCCTCAATAGACCCTAAGGGGGCAGATTTCGCAGAATGCAGGTTTCGAGCAGGAGACGGCAAGAACTTTTACGCTTGGTTGGTACAGGGGAGCGTCAACTTCCCGCCGTCCGAGCACTCTCGAGGGGTCCAGATGGAGGGCCCCGATTGTTCTAGTACGGGTGGACCAAGCTGCAAACACTTGAGTTTTGTTGATATAGTCACGGCCTGGGAGGTTGCCTAGTTCATCAATCGACTGTCGTAGTGTGGGGTCTAGCCGTCAACGAGGGCTACTCAGGCCCAAACAACAAGCACGCCTCCGCTTACCAATTACCCCAACGGCCACGCTTGAGGCCACACCGCCCTCGAAGCCATCTAATACGAGCCCC\n",
      "ACCGATCGGGGGGGCCTCCGTTACGCGGATCCAGGGGCAGCCATTACCAGGGTATTCGATTCCTGTTACACCTTCTCGTTGTGGCCAGCGATGCTTAAGCGACGACTTTGGCCGATGACCCGGGGCTGATGGTGATCGCAGTCGGTCAGCTTCCTCCCACAGGAAAACAGTGAAGGCGCCTGCGGGGTTCGCCACGCCCCTCACCCGCATTACAACGGGGTTTTGTACTCTGACCCCGCCCGCCGGTCCACCAGACGCAGGCCAAAGGTCACCCCGAGCCTGGACTCGACGCCCACAACCAATCCGGGGACAGCGGATCGTGTTCCTACGGTTCTGACGCCGCTCACGTGACGCTCGTTGCACGTTCCTATTTTTGGGCTCCCGGCTGCCACCCGTTTGTCCTGTCCATTCGCTCCGGTAAGTCGAGCGACCTATGCTGTCGAGATGGCCCGCCCTTAGGGTTACCAAGGGGGCGTTTAGATTTTTTCCTGTAGGGGTAGCCCAGGGCTTGCCTCCTACCCAAAGCAGATTTCTTGCCCCAGGGCAATTGCGGTGAGACCTGAAGCGTTCGTAGCCATCCATCTGCTCGAGTGGACTGCCGGCCCTCTGGCAGCACGGGACGCGCCTCCGCCCCTGGACGCGGAATCCTCGACCGCCCAAGGCGAGGCAGGCGTGTTTCGTGCCCACGGTTCTCCGACATGCTTGCGCCACATACCCGCCGCCCGTGTCTTAGTATGAGGCGGGCGGAACCCCCTTATATGGCACCGCTTGGCAGTGCCCGATCTCACGGCGCCGGCCAGGGTCAAGTGGGCCGCGTACGGCGGACGTTCCCAACACCCCGGACGTTTAGCGGTTTTGATGCTTACGTTATTGGGGAGTGCGACGAACCTCAGGCTGTGTATCAGATACCAACGTTGCGCCCGGGATGAGATCGGAGGGGGGATAGGGTTGGATTGTCGGAGGTTCTGACATGAGTCATGCTTACGACCGAACCTGCTGCAGACGGTCCAGCGACTGCCAATGACTACACTGGCCTGCAGGCGATCTGACTGGAACTCAGGAGGGCCCCCGCAATGCCCATTCAGGCGGTATAGCGTGTTCTGGCAGCTGTGATGGTGACCTCAACTGAGGCTCCTCATAGCAGAGGTTATTGAGTAGGCCTGTAGTGCCGGTTGCTCGACCGCATCTTAAACTCCTAGGCCTCCTTTCGCCGAAGGGCTGCGACTCCACTCCGGTACGCGCATGTAGACACTGGGGTATGGGGACACCACCCGGCACTCTCGATAAGCGTTCGCGCCTCGCCAGCATGGACTCATCGTGAAGCATCCGTTCAGGCTGAGGTGCACACCGGGGAGACAATAGCTTGGCTCGGATCACGAAGTTTTCCGTTCAAATGCGCCCGTAATGTCCGGAATTTGGCGCACGAGCACGGGTGTCAAGATCGGGTTGCCCAAGTGAGGTGACCAGCGAATGTACGTCCAACCGTGGTTCCAATGCGCTTAATTCGACTCTTCTCATCAAACCCGAGTACCGGCCGACAGGAGCGGTGCAACTTTTGCAGAACCTCTCGCCGGTCGCCCCCGGCCGGGTCGGTTGATCCATTCACACCCCTTCGGCCGGGCGATGGGGCACTCTGAGCATCGGAAGGCGGCAATTCCGCATTTTACCGTTACTGCAGATCGGCCTGTGTCCAAAGCACCCACCCCTGCGGAAGGCGCCTTCACACAGATAAGGGTGAGGGGACATTGCTAATCAACGACTGCATCTAGGTCGAGTAACTCCGAAACATTGGGCGGGCGTCCGACGCCCTGCGACGGCGGGTGGGTCTAGGTCCCCCATCCGTCTGCCTGCGGACCACCAGACTTGCGGTTGACCTTGGTCGTTACTGGAGCTTGACCCGTGACGATGGTAAGGGTTCCAGCATGAACGCGTATTCCGGGCAGATACAGCTGCCGGCGTAAGGGGGTGAAGGGGCACACTTGTCGCACCGCAGCCCTGTGCACATACTCACCGGACCTTGGCCACCGAACACCAGCAGCCCCCGCGTATACCCCTATGTACTCATCGAAGACGATGAGGGGTACTTAGACGGGTCCAGAGGCACCCACCTGTCGTGGAGAGCACGTTGCTGCTGTCGGGACCACGCACCCGCAGGGAGCCGTGATTTCCACAAAAGTAATGCGTAGGGCCCGGGCCTCTTCACAGGTGAACGAAGCTCGGCGCCCCCTCGGATGTATGCTTAGAGCGAAGGATCAGGTACAGCACATTTGGAATTGTTAACTAGGACGAAGGTGGCGTCAGCCTCGCACATCAAGGTTGTGGGTGACTCCAGTTAGCTATCCGTCTACGATGTATATTCTCGGCAACGCCTACATGAAACACTGGTGACTGGTGAACCCAAAGGGTTGGCGCGGGGACTACGTGGTGCTCCGTTTCCGCGTCGCGCGTCACATTCGTGTCGGCATGGCAGGGACCAGAGACAGTCCGCCGGCCCAGCGGAGCGATACCGCGTCTTCCCAAGCAGGGACAGCACGGTCGGTATTGACTTTGGAAAAGGACATCTATAATTCACACTCGGTCGCGGGAACCCCTAGGCGCCGGGGTCTTCAGGATCGCTATCGCCAGTACCTAACATAGGGCCCGGCTTATGACCGGTCGCAGACGAGCTACTCGGGCTGCATGGCGGGGTCGCAGGGCAGCCAAATGCACAGCACATTTGGGCTAGCAGGGGAAACCAAAAAGACGCCCCTCGATCTTGGCGGCTGCGCTAGCCACGCCCGATTACGTAGATTACCACGGCAGTAGCGGGTAGTACCGACCTCGTCACGGGCTATGACGGCTGGCTGAAGGGTGCCTGGTCGGTTCGGCCAAGCTTTACCGGGCAGACCTGGCAGACCCGATTGCGCATAACCGGGGCCTGTACCGCGAGCGACGGTTCGCTACGACGAGCAAAGGGATACTTCGCGCCGCGATCTCCGTCGCATCAGAGCAGAACGGCCTGACCGCTGGCACGCCCGCTGCGGACAGGTTTGCGCGGGCGCACGCTAAGCTAGTTAGCGACTCATTTCGCGTAGGGGACGGGCGCTCGGTAGACTCTAGGCTGAATGTCATCTCCTCAGCCACCAGCGGTCGGCATCAACGCAGAGGCCAGTGAGGGTGCCCTGCGCGCCTACGTCGGTGCAACCGCGATCATGTCACCGCGATCAGTAGGTCGTAGCCGTCGGGTTAACATTTGCTTTGTGAATTCTTCAACCCCACGGGAGTCTGCACGACCTGTGGGGCTTCCTGTCAGACGTCCGGGACCGGTCCGCGCCCCCTGCTCAGGCTACCTCTGTCAGGACGCACACGAGGGGATTCGGAACCCACGTAGTTGGGTGACGTGTTTCGCGAATGCCACCACACCATAGGAGGTCCTTTCGAAGTTCGTTAAGTCGCCACCCTCGGTGCTGGCCTCCATTCCCGTAGCGTTAGACGGTCTTCGTGCGGTAGCGTCACTAGGATACCCCTGCATGACTGGGGGTGGTATCGACTTGCCAGGGGCACGGATAAGCCTGCGTATGGGCGTGCCGCTGGCCGCAGCATCCTCATACGTGTGGGCTCCCTATGCGTCCCTGCAGTGGGGCCTTGACAAGGTTGCGTGGGATAACTAAGACACCCTAACAGCTAACTCCGCCTCGGGTTGTAGCACAACGGGCAGGGGGAGGGACGGATGGTTCCCGCCCCAGGTGTCTCCCATTCGGTACAGTGGAGTGGCATATCGCTGCCTCGCACGCCTCGCACATCGCGCGCGCTTTTGACGCTCACCTCAGTGCCCTTAGACTATACGAAGGGGGCAATATAAGGTCCGTGGAATGGACAGCCGATCGCAGGCCGTCGGTAATCTATGCCCGTACGGCATCAGGCCCGGACGGAGAGTACGGCATCCCCGAGGGCGGTCCCAGCTCTTGATAACCCCATGAAAAATTAGGCTTTCCTCACAAGTCTATCGGGGGCCCATTGCCCGTTGGTTTTCGAGGCAACATTGGTTGGTCCGCGTACGGAGCATTGTTCCCGGCGGGAAGCCCGGGCTTGCGGCTCCATGATGTACGGCTTTCGGCGAAGTGGCGCAGGTCAGCAGGCTCACTGATGAGCCCGCGGGAGGTGACACAGGGTGAGAGCCCAGAGCTCTGTGAAGCTTTCCCGTTCTGCATGCCTTGCGGTGCCCGGTTCACGCCCTATGCGAAGCTTCGACGGGATATTGTTTTAGGGGCGCCAGGCTCTCAACGTCGACCTACAGCACTACACTCGCATGGCTGCGCTCCAGCCAGAGTGGCTTACGACGCAACAGTTATACCCGTCCGGCGGCCTCCAAGAACTCTGACGTATCGCCTCAGCGCCTACGTCAAGTCGCCCGCCGTTATGAGGCGCGGTGAGCCGTCACAGGTCCGGCCCCCAAGCAAGCGCGGACTCCGGTCCTTCGACCCCACCGGCCCGGCGGGAAAAGTTCGAACGAGTCAATACGGCACCTCCGGCCCGTATCAATCCGTGTTCCCGGACTAGCGCCGAGATTCTTGTTGCATGGCGGGCGAGAGCCCCAGAGCTAGAGGGGCGCCGCCAAAGGGGAAGGGCGCGCGCTCAGCTTCTGTAGCACGACCTTCGATGTACGCGCTTTCCGCGGCAAAGTGGTTCCGACCTCATTAGTACCGGCGTGACAATGGGGGCACATAATCGCGGAGGGAGACCTGTCGCACCCGTGTGGTACTACCAAAGCCTTGTGCTAAAGCTTACGCGGTGGGTAAGGGAGACTGGCTACCCCCCGATGACTCCCTTGCTCCCAACAAACTCGATCGGCTAGAAGGCGACTCCGCCATCAGCTCGTGCGGAATCGACGAAGTTCAGACGGGGGCTAGTCAACCGGCCTCTCATCGGCCAGCCACCCGTCATGCGTCGCGCAGTGAGACGGACGCTGCGGCCAAGTTTCCGTTTATCGGAACCTGCTATCCAAATACTTCCGAGCGAGTGTGCCAGACCATGTGTCACATGCACCTTCCGATAACCGGCACTTCTCATAGTGCCCTGGACATTCCACCTGTAGGTTGTCGCAGAGTAGCCTACCAGGGTTAAGGCCGGACAGACATTTTCGTTCCTACACAAGACGATCTCTATCTCGGATACGAGTAGACGTGCAATCCTAGCCTACCCCATGGCTCCCCTGTACCTGACCTTAGGCGAGCCCCCATTGGAGCAGAAGGTCCGATTTCCCGTGATGTGCGATCGGGGTCCATCGCAGTTGCACTAGCTCACGATTACACCGATTTCTAACGACTGTAACCGTGGCGCACGCATGTCTCTAGGGTTCAGTAAGCGGCCGTCGGGGGCGAGGGTAAGCATTCCTCAATAGACCTAAGGGGGCAGATTTCGACGAATGCAGGTTTCGAGCAGGAGACGGCAAAGAACTTACCGCTTGGTTGGTACAGGGGAGCGTCAACTTCCCGCCGCCGAGCACTCTCGAGGTCCAATGGGGCCCCGATTGTCTAGTACGGGGGACCAAGCTCACACTTGAGTTTTGTTGATATGTCAGGCCTGGGAGGTTGCCTAGATTCACATCGACTGTCGTAGTGGGGGTCTAGCCGTAACGAGGGCTACTCAGGCCCAAACAACAAGCACATGCCCCTTACCATTACCCTACGGCCACGCTGAGGCCACACCGCCCTAAGCCATCTATACGAGCCCCGCTGGCCGAGGCCCCTCCGTAATGCCCCCCTGTAAACATGGCTGCGTTCGCGGGGGGTTGGGAACGTGTTTGTAGTGTGTAGTATTAAAGTCCTTGGCCGACAGACGTCACCGCCCCCCGGGGCAACCATGCGACGGAACTCCTATAATTTGTACGAGTGCTTGGCTTCCAGGGCTCAATTACGTACGCGTGATCGGGCTCTCGCCTTGTTAATCCGAAACCCGGGTACACCGGTTGAAACCAAACCCCTGAGAATGGCGGGGGTGGATACGATCCACGCAGCGACCGCCGTAGGACAGACTCGCGCACCCCTCGGCTTGGGGAGAGGGCGCCAGGCCTTGATAAGGTGACCGGTGTGGGTTTCCGGCGGGAGCTAATCATTCTGGTGGCTCAGGTTGGTAAACTAACCGCGGCGCTAGCACAGGAAGTGACCACCCCGCCCACATGCGCGCTGACATGCGAAGTAATCCAACCGGGCGCTCTACTCGGGCAAAGCGCAGTAACCGATACGAATACCTTAACGGCTGGCATGGACGTCAGAGGAGCTATGGTACATAGGAGCTGAGACAGGGGTGCGGACGCGCGTGGTGGATGCCGGCTGCGGCTCACCCCTGGCCTGTACGCGACCAATTGGTTGATAGGTCTTGTTGATGCAGTTGCGGCGGCCCAACGTGTCACAGGGCCGACGCATCACTCAGATCTTTTCCTGTCTGGGCGGTTCACAGCCCGCGTCGCGGAAGGGGGCCAGACCGTTTACCAGCGCCTTAGCTCAGTCCATTACGCGACATGTTGGCGGGCCGGGGTCGACCGGGGTAACTCAACACGGAACATTCTAGGGCGTAGTCCGCGGCCGTACCCTATTTGCCCAGGAGTAGCGGAATGTCGTTAAGGCAGTGAACCTGGGCACTGGCGTGCTCTAAGCAGAGCCTGTGATGAGGAGATCCCGAACGGCGTGTGCTCTTTTTGATTTGCCGACGGAGACCAGCGCTTCACGCGCCATTTGCCCAGCATGACGGACCTTGCCACCGCGACTTGATGTTGCCGCGAAGAGAGACTGATGCGTACC\n",
      "GCCTGCTCGCGATTGCTAGAGCTTCTCGCGGAGGTAAAGGCCGCACACCGGTAGGGTGGGCCGGCGTTCACACATCCGATGTGAGGGGAGGTGCTTACGTACCCCGACGCATAGACGAAAACAATGTTGCCCCATTAACAGTCCAATAGTCGCCACCCCCGGGGTGCCATGTGGCTGAGACTGAGGCAGGGCTCCTCCTAGCACCCTCCCGGAGGATTCCACGGTGCGCCAGATATGCGTTCCCGGCAGGACTGGCCGGTCGGCCAAGGAGCGGTCACTTGCGAGAGTCTGTTCGAGTGCGATGTCCGAGATACCTATGATTGAAAGTTCCCTCGAATACCCATAAGCTAGGTCGGGTGATCTAGCCGGCCAAGCGCTTGAGTTACGTTGCGCAAGCAAGTACAGGCGCTGGGGCTCATTGTACTGCTTTCTTCGCCTGAGCACCGACCACTTGTATCGTTGCCAGCTGCGGGTACAACGCGCGGGGTTTCCGCATACCGGGTGCAAAAGCCGCTGTTGAGCCAGTCTCTCCGCCGAGCCGTGCTCCAACCCTCAGGCTCCTAGCTCGGCAAAAGCCGTGGGCTCCGATACATCCAATACACGCACGCCCGCTTGTGGTTTGACGCGGTCGCAGATGGGGTGCGGACGGCGGCCCCGTTCCCCCCGCTTCACGGGGTTAAAGATACGAACGGCAGTAGCAGCTACTCATTTGGCGGGTGTAATGCCTTTCGCTCTAAGCCGCCTGACGGAGATCTTAAACAGCGGAGTCGCGTGGCTCGCAAGGAGGCAGAGTGACTCGACCATTGGTCACCCCCGCGCTGCGCTCGGTCCGGTAAGCAGCGAGGGTCCCTCATCCTTTGCGCAAGGTGGATGGTATGCCATGGTTCCTCCAGGCAGAGAGGCCCCTTCGTAGCGATTCCGACCTTGGGCACTTGCGAACACGGGAAACCCCCAAGTCACTACGCCGGGAAGGATCATGTTGTCGTCTGGACGGGAGGATTTACGCCGTCTACGAGCGCGAATACGCCATTGTCAAGGGGCACGGGAGAGGCGGTTAAGGCTTATCCCCTCACGAGGACGAGACGATTGCGGAACCAGTTGGTTAGAAGCAGGTATGTGGCGGTGGGCCCGCCGCGAGGCTTCCGCACGGTCGCAGTGACATCGATCGGAGCCCAAGGCCTCGCATTCGAACCCAATTCCGGGCCGGGTAGCACGAGAGGAAGAGAAGGCATGAAGCGCCATAGGTCCTACTCGCGGAGCGCTCGTGCAGCATAGGGCGGTGGCTGGGCCCTCTCCCGGGGGCACGTTCTCGGAATCAGCTCGGTTTGTAAGAGGTCCTGCAGTTAGCGCCGATCATGTGTGCCTAAGACGGGAGATGGGAGGCATTGATTAGGGTCGGCATTGCAATCCGAGTCGCCCACGGCCGGAACCGCCCTGCCGAAGCGAGGCTCCTAGGCATTGCAGGCCTGCAGAACTGCGGTAAGCAAATAAGGCTCGACTCTGTTGGGCCCAGGGCGTTCAGGGGTACACATTAAGCAGGACGTCAGACTCACACATGTCCGAGATCAGGGTGGCGTGCAATTATTGTTGGCGCTGGCCTCTGAACGGACCAAGCGTGTGAACTATTGTGGGCTAAGTCGAGAGGCCGGAGATTGCTCACTCCGCGGAGATATCGTTGCTTTCGAAGGTTCGTTCGGTATAGCGCGACGAGCATCCGGTGGGAGTTAACCGCATTACGACCCGTTCTTTCTGGCGTCCGCCGACACGGGTCAGTCGCGCCAACGACACCGGTAGCTTTCACATCGAATTCAGTGGACCACCTATAGGCCTGCCTGGGCCGCCGGGCCCTGACGCACTCTGAGATCATCCGGGCGGTCCAGCCACGGGCTACCGCCACGCGGGAAGTCTATCCCTGCTTGCCAATGGTTTGACGGGAACGCTACACCTGCATCTCGTGACTCCCCCTCTTGCCGTCAGTGTCTAACCATGGGGAGGGGGGCTGGCGGTGGGTTGTAGCATAAGAATGGATCTAATGGCACCGCGCACTGGGGGTTCTGAACCAGATGGGACCGCGGGGGCCTCCGAGCAGGATCAGGGGCAGCGCTTTACCAGGGTATCGATTCCTGTACCCTTCTCGTTGTGCCAGCAGATGCTTAACGACAGACTCTATGGCGATGACCCGGGGCTGATGGTGATACGCAGTACGGTCACTCACTCCCACAGCGAAAACAGTGAAGGCGGCCTGCGGGGTTCGCTCACGCCCTCATCCACGCCATTACAACGGGGTTCTTGTACTCTGACCCGCCGCAGTCACGGTCCACCAGCCAGCGCCAAAGGTCACCCCCGAGACCTGGACTCACGCCCACAACCAATCCGGGGAAGCCGATCGTGTTCTACGGTCTCCGCCAGCTCACGTGACGTCCGTTGGCACGATCCCTAATTTTTTGGGCTCCCGGCTGCCACCCGGTTTGTCCTGTCCGTTCGCTCCGTAAGTCGAGCACCTATGCTGTCGAGATGGCCCGCCCTTGAGGTGTTACCAAGGCGGCGTTTAGTTTTTTCCTGTAGGGGTAGCCAGGGGCTTGCCTCGCATCCCAAAGCCTAGATTCTTGCGCCCCCAGGCAATTGCGGTGAGACCTGAAGCGTTCCGTAGCCTATCACATCCTGCTCGAGTGGACTGCCGGCCCTCTGGCAACGGGACGCGCCTCCGCCCCTGGCATCGCGGAATCCTCGACCGCCCAAGGCGGAGGCAGCGTGTCCGTGCCCCGGTTCACTCCGACATGCGCGCACATACCCGCCGCCGCGTGTCTTTTAGCTATGAGGCGGGCGAACCCCCTTATATGGCACCGCTTGGCAGTGCCCGATACTCACGGCGCCGGCCAGTGGACAAGTGGGGTCGCGTGCGGCGGTCACGTTCCCCAAACACCCCAGACCGTTTAGCGGTTGTGTGAGCTACGTTATTGGGGAGTGCGAACGAACCTCAGGTCTGTGTATCGAATACCCAACGTGCGCACCGGGATGAGATCGGAGGGGGGATAGGGTAGGATTGTCGGAGGCTGTCTGACATGAGATCATCTTACGACCGAACCTCTGCAGACGGTCCAGCGACGCCAATGACTACACTCGCCTGCGCCGTCTGACTGGACTCCGGAGGCCCCCGCAATGCCCATTCAGGCGGTATGAGCGTGTTCGTGGCAGCTGTGATGGGTGAGCCTCAACTGAGGCTCCTCAAGCAGAGGTTATTGAGTGCCTGTACGTGCCGGTTGTCGACCGCCTTAGAACTCCTAGGGCCTCTCCTTTCCCGAAGGGCTGCGACTCACACTCGAGTACGGCATGTAGACACTGGGTAACTGGGGGACACCACCCCGGCACTCTACGTAAGCGTTCGGCCTCGCCAGCATGAATACCATCGTGAAGCATCCGTTCAGTGCTGAGTGCACCCGGGGAGACAAGGTAGCTTGGCTAACGGATCGACGAAGTTTGTACGTTCAAAATGCGCCCGTATGTCCCGGAATTTGGGCCCACGAGCAGGGTGTCAAGATCGGTTAGCCCAAGTGCAGCCTGACTCAGCGAATGTACGTCCAACCGTGGTCCAGCGCTTAATGTACGACTCTCTCATCAAACCCTGAGTTAGCCGGCCGACAGGAGCTGGTCAACTTGTCAACCATCATCCCGGTCGCCCCCGCCGGGTCGGTTGATCCAATTCAACCCCTTCGGCGGGCGATGGGGGAACTACTGAGCATCAAGGCGGCATTCCGCATTTTACCGTTACTGCGATCGCCTGTGTCCAAAGCACCCACCCCTGCCGGAGGCGCACTTACACAAGATAAGGTGTGAGGGGGACATTTGCGTAATCAACGACTGCAGCTCTAGGTCGAAGTAACCCGAAACCATGGGCGGGCGTCCGAGCGCCACTAAGCGACGGCGGTGGTCAATGGTCCCCCACGTCTATCTGCCTGCGGACCAGGCAGACTTCTGCGGTTGACCGTGGTCGTTCGGGCTTGCCCGTGACGATGGAGGGTTCCGCCATGAACGCGTATCCGGGCAGATACAAGCTGCCCGCGTAAGGGGGTGAAGGGGGCCACACTTGTCACCACAGCCCTGTGCACCATACTCACCGCGACCTTGGCCACCGAACACCACGCCCCCGCGTCATACCCCCTATGTACTCATCGAAGACGATGAGCGGGTAGCTTAAGACGTCCAGAGGCACCCACACATGTCGTGGAGAGCACGTGGCTGCTGTCGGGACCACGCACCCGCAGGGAGCCGTGATTTCGCTAAAAAGTAATGACGTAGCCCGTGGCCTCGTTCACAGGTGAACGTAGCTCGGCGCCCCCCGTGATGTACTGCTTAGGGCGAAGGACCAGGCTACAAGGCACAATTTGGAATTGTAATCTAGCGAGAAGGTGGCGTCGCCTCGCTCATCAAGGTTGTGGGTGACCCAGTCTAGTATCCGTCTACAGTGATATTGCTCGAGCTACCGCTCTATCATGAACACTGTGATGGGACACCCCAAAGGGTTGGCGCGTGGACTAAATGGTGCTCCGTTTCCGCGTCGCCGTCAATTCCGGAGTCGGCATGGCAGGGACCAGCAGAAGTCCGCCGGCCAGCGGAGCGATACCCGCTTCTTCCCAGCATGGTACAGCACGGTCGGATTGACTTGGAAAGGCAATCATAATCGACACTCGATACGCGGGACCCGTAGGCGCCGGGGTCTTAGGATCGCTACGCCAGTACCTAACATAGGGCCCGGCGTTGATGACCGGTCGCAGACGAGCTCTCGGGGCAGGCGGGGTCGCAGGCAAGCCAAATGCACAGCCATTGAGCTAGCGAGGGGAAACCAAAAAGCACGCAGCCCTCGATCTGGCGGTGCGCTAGCCGAGCGCCCGATTGAGATTACCAGGCCAGTAGCGGGAGTACCGACCTCGGTCACGGCTAGAACGGCTGGCTGAAGGGTGCCTGGTCGGTTCGGCCAGACTTACCGGGCAGAACCGGCAACCCGATCGCGCTAACCGGGGCCTGACCGCGAGCACGCGTTCGCTACGACGAGCAAAGGGAACTTCGTCGCCGCGTCTCGTCGCATTCAGAGCCAGACGGCCGAGCTAGGCACGCCCGCTGCGAGTACCAGGTTTGCGCGGGCACGCTAAGTAGTTAGGACTCATTTCGCGTAGGGGACGGGCGACTCGGTAGACTCTAGGTGATATGTCGATCTCTCAGCCACCAGCGGCTCGGCATCAAGCAGAGGCCAGTGAGGGATGCCCATGCGCGCTCTACGTCGGCTGCAACGCGTCATGTCACCGCGATCAGTAGGCCGTTGCCGTCGGGTTACATTCTTGTGATTCTTCACACCCCCAGGACGCTGCACGACCTGTGGGCGTTCCTGTCGACTCCGGTGACCGGTCCGCGCCCCCTGCCGGCTCCTCTGTCGAGACGCAACGGGGGATTGGAACCCACGTAGTTGGGACGTGTTTCGCGCAATGCCACCAGCACCTACGGAGGTCCTTTCGAAGTCTCGTTAATCGCCCCAGTCGGTCTGGCCTCCCATTCCCGTAGCGTTAGACGGTCTCGTGCGGTAACGCTCACTCAGATACCCCTGCAGTGACTTGGTGGGTGGTTATCGACTTGGTCAGGGCACGGTTAACGTCCTGCAGTAGCGGCGTGCCGCGGCCGCAAGCATCCCGATACGTGGGGCCTCCCTAGCGTCCCTGCAGGGGGCCTTGACAAGGTTGCGTGGGATAACAAGACCTAACAGCTACTCCGCCTCGGGTTGTAGCACACGGGCAGGAGGGAGGGACGGATGGCTTCCCGCCCCAGGTGCTCCCATTCGGTCGTGGAGTGAGTCATATCGCTGCCTCGCCGCTCGCACATCCGCGGCTTTTGACGCTCACCTCAGTGCCACTTAGACTATACGAAGGGGGCAATATAGTGTCCGTGGATGGACGCCGGATCGCAGGCCGTCGGTAATCTATGCCCCGTACGGCTCAGGCCCGGACGGAGATACGGCATCCCCGAGGGCGCGGGTTCCCCAGCTCTTGATACCCCCATGAAAAATTAGGCTTTCCTCACAAGTACTGATCGGGCCCATTGCCCGTTGGTTCTTCGAGGCAAACATTGGTGGGTCCGCGTACGGAGCATTGTTCCACGAGCGGGGAAGCCCGGGCTTGGCTGGCTCCATTGATGTACGGCTTTCGCGCGAAGTGAGGCGCAGGGTCAGCAGGCTCACTGATGAGCCCGCGGGGAGGTGACAACAGGGTGGAGCCCCAGAGCTCTGTGGAAGCTTTCCCGTTCTGCATAGCCTTGCGGTGCCCGGTTTCACGCCCTGATGTCTGAACTTCGGACGGGATATTCGTTTTAGGGGCTGCCAGGCTCTCAACGTCGACCTACAGCACTACACTCGCATGGCTGGCGCTCCAGCCAGAGTGGCTTTACGACGCAACAGTATACCCGTCCGGCGGCCTCCA\n",
      "CGCTTGGTCAGACCGCACTACTGGCGCCGTTGGGGGGCCTAAGCAGAGGCAGCGTGAAGTCTACCTCATGGCATTCGACGGGCTGTGAGCGGAGAGTGCCTGCCGCGATGCTTAGAGCTCTCGCGGAGGTAAAGGCCGCACACGGTAGGTGGGCCGGCGTTCACACATCCGATGTGAGGGGGGCTGCAGTACGTACCCCGACGCATAGACGCAAACAATGTGCCCACGTATAACAGTCAATAAGTCGCACCCCCGGGGTGCCATGTGGCTGAGACTGAGTCAGGGTCCTCCTAGCACCCTCCCGGAGGATTCCACGGTGCGCCAGATAGCCGTTCCCGGCAGGACTGGGCCGGTTCGCCAGGAGCGGTCACTTGCGGAGTCGTTCGAGTGCGATGTCCGAGATACCTATGTTGAAAGTCCCTCGAATACCCATAAGCTAGGTGGGTGATCTAGCCGGCCAAGCGCTTGAGTTTACGTTGCGCAAGCAATACAAGGCGCTGGGGCTCATGTACTGCTTTCTTCGCCTTGAGCAGACCACTGGATCGTTGCCAGCTGGCCGGGTCAGAACTCGCGGGGGGTTTCCGCATACCGGTGCAAAAGCCGCTGTGAGCCAGTCTCTCCGCCGAGCCGTGCTCCCAACCTCAGGCTCCTAGCTCGGCAAAAGCCGTGGGCTCCGATACATCCAATACACGCACGCCCGTTGTGGTTTGAACCGGTGTGCAGATGGGGTGCGGAGGCCGGCCCCGTTCCCCCCGCTTCACGGGGTAAGATACGACGGCAGATAGCAGCTACCATTTGGCGGTGATGCCTTTCGCTCTAAGCCGCCTGACGGAGATCTTAACAGGAGTCGCGTGGCTCGCAAGGAGGCAGAGTGACTCGACCATTGGTCAGCCCCCGCGCTGCGCTCGGCCGGTAAGCAGCGAGGTCCCCATCCTTGCGCAAGGTGGATGGTATGGCCATGGTTCCTCCAGGCAGAGGGCCCCTTCGTAGCGATTCCGCCTTGGCACTTGCGAACACGGGCAAACCCCAAGTCACTCGCGGGAAGGATCTGTTGCGTCTGGGACGGGAGGATTTACGCCGTCTACGAGCGCAATACCGCCATTGTCAAGGGGCACGGGACGAGGCGGTTAAGATTTATCCCTCACGAGGACGAGACCGATTGCGGACCAGTTGGTTAGAAGCTAGGTATTGGCGGTGGGCCGCCGCGAGGCCTTCCGCACGGTCGCAGTGACATCGCATCGACCCAGAGGCTCGCATCGAACCAATTCTCGGGCCGGGTACGCACGAGAGGAGAGAAGCATGAAGCGCCATAGGTCCTACTCGCGGAGCGCTCGTGCAGTCATAGGGGTGGCTGGCCCCTCCCTGGGGGCACTTCTCGGATCAGCTCGGTGTCGTAAGAGCCTGCAGTTAGCGCCGATCATGTGTGCCTAAGACGGGAGATGGGCAGGCATTGATTAGGGTCGCGCATTGCAATCCGAGTCGCCCACGGCTCGGAACCGCCCTCCGAAAGCGAGGCTCCTAGGCACTTGCAGGCCTGCAGACTGCGGTAAGCATAATAAGGCTCGACTCTGTTTGGGCCCAGGGCGTTCGGGGGTACACATTAAGCAGGAGGTCAGACTCACACATGTCCAAGATCAGGGTGCGTGCAATTATTGTTGGCGCGGCCTCTGACGGACCAGAGCGTGTGAACTATTGTGGGCTAAGTCGGGGCCGGAATTAGCTCACTCCGCGGAGATATCCGTTGTTTCGAGGGCGCTTCGGTATAGCGCGACGAGCATCCGGTGGATTAACCGCATTACGCGTTCTTTCTGCGTCCGCCGACACGGGTCAGTGCGCAACGTACACCGGTAGCTTTCACATCGAATTCAGTGACCACCTATAGGCCTGCCTGGGCCGCCGGGCCCTGACGCACTCTGAGATCATCCGGGCGGTCCAGCCCACGGGCTACCGCCGACGCGGTGAGTCTATCCCTGGCTTGCCAATGGTTTGACGGGAACGCTACACCTGCTCTCGTGAGCTCCCCGCTCTTGCCGTCTAGTGTCCTAACCATGGGAAGGGGGGCTGGCGGTGGGTTGTAGCATAAGAATGGATCTAATTGGGCCCAGCGCACTGGGGGTTCGAACAGTGGGACCGACGGGGGGGCCTCCGACGCGGATCCAGGGGCAGCCTTACCCAGGGTATCGATTCCTGTACCCTTCTCGTTGTGCCAGCGATGCTTAAGCGACACTTTGGCGATGAGCCCGGGGGCTGATGGTGATCGCAGTCGGTCACTCCTCCCACAGGAAAACAGTGAAGGCGCCTGCGGGGTTCGCCACGCCCTCACCCGCCATTACAACGGGGTTTTGTACTCTGACCCGCCGCGTCACGGTCCACCAGCCAGGCCAAAGGTACCCCGAGCCTGGACTCACGCCCACAACCAATCCGGGGAAGCGGATCGTGTTCCTACGGTTCTGACGCCGCTCACGTGACGCCGTTGCACGATCCCTATTTTTGGGCTCCCGGCTGCCACCCGGTTTGTCCTGTCCTTCGCTCCGTAAGTCGAGCACCTATGCTGTCGAGATGGCCCGCCCTTGAGGGTTACCAAGGGCGCGTTTAGTTTTTTCCTGTAGGGGTAGCCTCAGGGCTTGCCTCCTCCCAAAGCTAGATTTCTTGCCCCAGGCAATTGCGGTGAGACCTGAAGCTGTTCGTAGCCATCCATCCTGCTGAGTGGACTGCCGGCCCTCTGGCAACGGGACGCGCCTCGCGCCCCTGGCACGCGGAATCCTCGACCGCCCAAGGCGGAGGCAGCGTGGTTCGTGCCCCGGTTCCTCCGACATGCGCGGCCACATACCCGCCGCCCGTGTCTTAGTATGAGGCGGGCGGAACCCCCTATATGGCACCGCTTGGCAGTGCCCGATCTCACGGCGCCGGCCAGGTGTCAAGTGGGCCGCGTGGCGGCGGACGTTCCCCAACACCCCAGACCGTTTAGCGGTTTGAGCTACGTTATTGGGGAGTGCGACAGAACCTCAGGCTGTGTATCAGATACCAACGTGCGCCCGGGATGAGATCGGAGGGGGGATAGGGTATGGATTGTGGAGGCTTCTGACATGAGTCATGCTTTACGACCGAACTCTACTGCAGACGGTCCCAGCGACGCCAATGACTCACTGGCCTGCGCGTCTGACTGGAACTCGGAGGCCTCCCGCAATGCCATTCAGGCGGTATAGCGTGTTCTGGCCAGCTGTGATGGTGACCTCAACTGAGGCTCCTTCAAGCAGAAGGTTATTGAGTGGCCTGTAGTGCCGGTTGTCGACCGCCTTAAACTCCTAGGTCCTCCTTTCCCGAAAGGGCTGCGACTCCACTCGGTACGTGCATGTAGAACTGGGTATGGGGGACACCACCCGGCACTCTCGTTAAGCGTTCGGCCTCGCCAGCATAGGACTCATCGTGAAGCATCCGTTCAGGCTGAGGTGCACACCGGGGAGACAAGTAGCTTGGCTCGGATCACGAAGTTTTCCGTTCAAATGGCGCCCGTAATGTCCGGAATTTGGGCGACGAGCAGGGTGTCAAGATCGGTTGCCCAAGTGAGCCTGACCAGCGAATGTAACGTCCAACCGTGGTTCCAAGCGCTTAATTCCGACTCTCTCATCAAACCCGAGTACCGGCCGACAGGAGCGGTACAACTTTGGCAACCTCTCCCGGTCGCCCCCGCCGGGTCGGTTGATCCACATTCAACCCCTTCGGCGGGCGATGGGGAACTCTGAGCATCGAAGGCGGCATTCTCGCATTTTACGCGTTACTGCGATCGGCCTGTGTCCAAAGCACCCACCCCTGCGGAGGCGCCTTACACAGATAAGGTGTGAGGGGACATTGCTAATCAACGACTGCATCTAGGTCGAGTAACCCGAAACATTGGGCGGGCGTCCGAGCGCCCTGCGACGGCGGGTGGGTCTGGTCCCCCACGTCCGTCTGCCTGCGAGACCAGCAGACTTTGCGGTTGCACCTGGTCGTTCGGGCTTGCCCGTGACGATGGAGGGTTCCAGCATGAACGACGTATTCCGGGCAGATACAGCTGCCGGCGTAAGGGGGGAAGGGGCACACTTGTCCACCCCAGCCCTGTGACACATACTCACCGGACCTGGCCACCGAACACCACGCCCCCGCGTCATACCCCTATGTACCATCGAAGACGATGAGGGGTACTTAGACGTCCAGAGGCACCCACCTGTCGTGGAGAGCACGTGCTGCTGTCGGGACCACGCACCCGCAGGGAGCCGTGATTTCCACAAAAGTAATGCGTAGCCCGGGCCTCTTCACAGGTGAACGATAGCTCGGCGCGCCCCCGGATGTATGCTTAGGCGCAAGGATCAGGTACAAGCACATTGGAATTGTAAGCTAGGAGAAGGTGGCGTCGCCTCCGCTCATCAAGGTTGGTGGGTGGACCCAGTCTAGTATCCGTCTACGATGTATATTCTCGCACGCTCTACATGAACACTGTGATGGTGCAGACCCAAAGGGTTGGCGCGGGACTAACTGGTGCTCCGTTCCGCGTCGCCGTCAATTCGAGTCGGCAATGGCAGGGACCAGAGAAGTCCGCCGGCCAGCGGAGCGATACCGCTCTTCCCAGCAGACAGCACGGTCGGATTGACTTGGAAAAGGGACATCTATAATCACACTCGTCGCGGGACCCGCTAGGCGCCGGGTCTTAGGATCGCCTACGACCAGTACCTACATAGGGCCCGGCGTTATGACCGGTCGCAGACGAGCTCTCGGGCGCAGGCGGGGTCGCAGGCAGCCAAATCACAGCCATTGGGCTACGCAGGGGAAACCAAAAGACGCCCCTCGATCTGGCGGTGCGCTAGCCACGCCCGATTCGAGATTACCACGGCACAGTAGCGGGAGTACCAGACCTCGTCACCGGGCTAGACGGCTGGTGAAGGGTGCCTGGTCGGTTCGGCCAGCTTACCGGGCAGACCGGCAACCCGATCGCGCTAACCGGGGCCTGACCGCGATGCACGGTTCGCGTACTGACGAGCAAAGGGAACTTCGCGCCGCGTCTTCGTCGCATCAGAGTACAGACGGCCGAGCTGGCACGCCCGCTGCGGACAGGTTTGCGCGGGCCACGCTAAGTCAGTTAGGACTCCCATTTCGCGGTAGGGGACGGGCGCTCGGTAGACCTCTAGGTGATGTGATTCTCCTCAGCACACTGCAGCGGTCGGCATCAAGCAGAGGCCAGTGAGGGTGCCCTGCGCGCCTACGTCGGTGCAACCGCGTCATGTCACCGCGATCAGTAGGTCGTGCCGATCGGGTTACATTCTTTGTGAATTCTTCAACCCCCAGGAAGCTGCACGACCTGTGGGCTTCCTGTCCAACTCCGGTGACCGGTCCGCGCCCCCTGCCGGCTCCTCTGTTCGGACCAACGGTGGGATTCGCGAAACCCCACGTAGATTGGGGACGTGTTTCGCGCAATGCCACCAGCACCTAGGAGGTCCTTTCGAAGTTCGTTAATCGCACCCTCGGTGCTGGCCTCCAGTTCCCAGTAGCGTTAAGACTGGTCTCGTGCGGTACGGTCACTCAGGATACCCCTGCATGACTGGTGGTGGTATCGACCTGTGGCCAGGGCACGGTTTAAGCCTTGCGTAGGGCGTGCCGCGGCCGCAAGCATCCCTATACGTGGGGCTCCCTACGCGTCCCTGCAGTGGGGGCATTGACAAGGTGCGTGGGATAACTAAGACCTAACAGCTACTTGCCGCCTCGGGTTGTAAGCACACGGGCAGGGGGAGGGACGGATGGCTTCCCGCCCCAGGTGCTCCCATTCGGTACGTGGAGTGGCATATCGCTGCCTCGCCGCCTCGCACATCGCGCGGCTTTTCGACGCTCACCTCCAGTGCCCTTAGACTTACGAACGGGGGCAATATAGGTCCGTGGATGGACGCCGATCGCAGGCCGTCGGTAATCTATGCCCGTACGGCCTCAGGCCTCGGACGGACGATACGGCA\n"
     ]
    }
   ],
   "source": [
    "print(*sequence, sep='\\n')"
   ]
  },
  {
   "cell_type": "code",
   "execution_count": 43,
   "metadata": {},
   "outputs": [
    {
     "name": "stdout",
     "output_type": "stream",
     "text": [
      "1=1D8=1I4=1I1D15=1I1=1I1D5=1D1=1I2=1I7=1I6=1D15=1X9=1I1=1D3=1I6=1D19=1D12=1I8=1I1=1D11=1X4=1D1I10=1X\n",
      "CTATAGTTCAACCGCCGCAAGGCGCAGTGCGCGCGTGATGCGTCGTTGCGACCGGCCGCCTCGGCAGTGACTCATCCGGTTGAGCGCGGAGCCCAGCGTA\n"
     ]
    }
   ],
   "source": [
    "print(cigar[0][0:100])\n",
    "print(sequence[0][0:100])"
   ]
  },
  {
   "cell_type": "code",
   "execution_count": 44,
   "metadata": {},
   "outputs": [
    {
     "name": "stdout",
     "output_type": "stream",
     "text": [
      "C-TATAGTTCACCG-CGCAAGGCGCAGTGCC-CGTGA-TCGCGTTGCGCCGGCC-GCCTCGGCAGTGACTCATCCGGTTGG-CGCGAGCCC-AGCGTAGCGCACGGCGATG-ACGTTCCCGCGAGTACTCTCC-TGAGGACGCGCACATC-CGCTGGGGCCACCTA-TCCCTAAC-GCGCGCAATGTAGCATCCGTACGATGTGTTTCTGACCACCCTCGCGGGGGCTCCCGTCCTTTCCCGATCAGTGCGTCACTATTCG--TAGACATGAGCCCGG-GCCCGCTTCTCCCCATCGG-CCTAGCCCCTCTCGGAACCCGCCATGAGCTAAAGGCCG-T--GCGGACCACAGCGGCAG-AGCTACGA-GCGCCGGAGCCACACCGTCCCA-CCCGGTCGCG-C-GGATGCAGCACCCATTATCT-TCA-GCAGTGGTTAGGATACCCACTATGTACT-AAAGTCCGCCCGGGAC-GTA-GGGGTAGGTGCGCTAAAG--ACAATCCTGTTGCGGGGACCT-CAGA-AGTGCTTGCTGGAATGTGGTGTAGCTTGT-AA-GGGGAACGCCCCTGGGACCCTATCCGGACGTGCGACCTTCCGGTGTGACTTACTCCGATCTCAGAAGCCGCC-GG-ACGCGCGCCTGGTCAGACC-CACTACTGGC-CCGTTGGGGGGCCTAAGCAGAGGCAGCGTGAAGCTCCTCATGGCATTCGACG-G-TGTGAGCGGAGAGTGCCTGCCGCGATGCTAGAGCTCTC-CGGAGGTAAAGGCCGCACACGGTAGGTGG-CCGGTGTTCACACA-CCGATGTGAGGGGGGCTGCGTACGTACCCCGACGCATAGACGCAAACAATGTGCCCATTCACAGTCCAATAGGC-CACC-CCGGGGTGCCATGTGGCTGA-ACTGAGCAGG-TCCTCCTAGCACCCTCCCGGAGGATT-CAC-GTGCGCCAGATAGCGTTCCCGGCAGGGCTGGGCCGGTCGCCAGGAGCGGTCACTTGC-GAGTCGTTCGAGTGCGATGTCCGAGATACCTATGTTGAAAGTCCCTCGAATACCCATAAGCTAGGTGGGT-ATCTAGCCGGCCAAGCGCTTGAGTTACGTTGCGCAAGCAATACAAGGCGCTGGGGCTCATGTACTGCTTTCTTCGCCTGAGCAGACCACTGATCGTTGCCAGCTGGCCGGGTAGAACGCGCGGGGGGTTTCCGCATACCGGTGCAAAAGCCGCTGTGAGCCAGTCTCTCCGCCGAGCCGTGCTCCAACCTCAGGCTCCTAGCTCGGCAAAAGCCGTGGGCTCCGATACATCCAATACACGCACGCCCGTTGTGGTT-GACCGGTTGCAGATGGGGTGCG-AGGCGGCCCCGTTCCCCCCGCTTCACGGGGTAAGATACGACGGCAGATAGCAGCTACCATTTGGCGGTGATGCCTTTCGCTCTAAGCCGCCTGACGGAGATCTTAAACAGGAGTCGCGTGGCTCGCAA-GAGGCAGAGTGACTCGACCATTGGTCAGCCCCCGCGCTGCGC-CGGCCGGTAAGCAGCGAGGTCCCCA-CCTTGCGCAAGGTGGATGGTATGCCATGGTTCCTCCAGGCAGAGGGCCCCTTCGTAGCGATTCCGCCTTGGCACTTGCGAACACGGGAAACCCCAAGTCACTCGCGGGAAGGATC-GTT-CGTCTGGACGGGAGGATTTACGCCGT-TACGAGCGCAATACGCCATTGTCAAGGGCACGGGAGAGGCGGTTAAGGCTTATCCCTCACGAGGACGAGACGATTGCGG-CCAGTTGGTTAGAAGCAGGTATTGGCGGTGGGCCGCCGCGAGGCTTCCGCACGGTCGCAGTGACATCGATCGACCCAAGGCTCGCATCGAACCAATTCCG-GCCGGGTCCGCACGAGAGGAGAGAAGCATGAAGCGCCATAGGTCCTACTCGCGGAGCGCTCGTGCAGTCATAGGGGTGGCTGGCCCCT-CCGGGGGCACGTTCTCGGATCAGCTCGGTGTTGTAAGAGCCTGCAGTTAGCGCCGA-CATGTGTGCCTAAGACGGGAGATGGGCAGGCATTGATTAGGGTCGGCATTGCAATCCGAGTCGCCCACGGCCGGAACCGCCCTCCGAAAGCGAGGCTCCTAGGCACTTGCAGGCCTCCAGACTGCGGTAAGCAAATAAGGCTCGACTCTGTTGGGCCCAGGGCGTTCGGGGGTACACATTAAGCAGGAGGTCAGACTCACA-ATGTCCAAGATCAGGGTGCGTGCAATTATTGTTG-CGCGGC-TCTGACGGACCAAGCGTGTGAACTATTGTGGGCTAAGTCGGGGCCGGAGATTGCTCACTCC-CGGAGATATCCGTTGTTTCG-GGTCGTTCGGTATAGCGCGACGAGCATCCGGTGGATTAAC-GCATTACGCGTTCTTTCTGCGTCCGCCGA-ACGGGTCAGTGCGCAACGACACCGGTAGCTTTCACATCGAATTCAGTGACCACCTATAGGCCTGCCTGGGCCGCCGGGCCCTGACGCACTCTGAGATCATCCGGGCGGTCCAGC-ACGGGCTACCGCCGACGCGGTGAGTCTATCCCTGGCTTGCCAATGG-TTGACGGGAACGCTACACCTGCATCTCGTGACTCCCCCTCTTGCCGTCAGTGTCTAACCATGGGAAGGGGGGCTGGCGGTGGGTTGTAGCATAAGAATGGATCTAATGGC-CGCGCACTGGGGGTTCGAACAGTGGGACCGACGGGGG-GCCT-CG-CGCGGATCCAGGGGCAGCCTTACCAGGGTATCGATTCCTGTACCCTTCTCGTTGTGCCAGCGATGCTTAAGCGACGACTTTGGCGATGACCCGGGG-TGATGGTGATCGCAGTCGGTCACTCCTCCCACAGGAAAACAGTGAAGGCGCCTGCGGGGTTCGCCACGCCCTCACCCGCCATTACAACGGGGTTTTGTACTCTGACCCGCCGCGTCACGGTCCACCAGCCAGGCCAAAGGTCACCCCGAGCCTGGACTCACGCCCACAACCAATCCGGGGAAGCGGATCGTGTTCCTACGGTTCTGACGCCGCTCACGTGACGCCGTTGCACGATCCCTATTTTTGGGCTCCCGGCTGCCA-CCGGTTTGTC-TGTCCTTCGCTCCGTAAGTCGAGCACCTATGCTGTCGAGA-GGCCCGCCCTTGAGGGTTACCAAGGGGCGTTTAGTTTTTTCCTGTAGGGGTAGC-CAGGGCTTGCCTCCTCCCAAAGCTAGATTCTTGCCCCAGGCAATTGCGGTGAGACCTGAAGCGTTCGTAGCCATCCATCCTGCTCGAGTGGACTGCCGGCCCTCTGGCAACGGGACGCGCCTCCGCCCCTGGCACGCGGAATCCTCGACCGCCCAAGGCGGAGGCAGCGTGTTCGTGCCCCGGTTCCTCCGACATGCGC-CCACATACCCGCCGCCCGTGTCTTAGTATGAGGCGGGCGGAACCCCCTTATATGGCACCGCTTGGCAGTGCCCGATCTCACGGCG-CGGCCAGGGTCAAGT-GGCCGCGTGCGGCGGACGTTCCCCAACACCCCAGACCGTTT-GCGGTTTGAGCTACGTTAT-GGGGAGTGCGACGAACCTCAGGCTGTGTATCAGATACCAACGTGCGCCCGGGATGAGATCGGAGGGGGGATAGGGTATGGATTGTCGGAGGCTTCTGACATGAGTCATGCTTACGACCGAACCTCTGCA-ACGGTCCAGCGACG--AATGACTACACTGGCCTGCGCGTCTGACTGGAACTCGGAGGCCCCCGCAATGCCCATTCAGGCGGTATAGCGTGTTCTGGCAGCTGT-ATGGTGACCTCAACTGAGGCTCCTCAAGCAGAGGTTATTGAGTGCCTG-AGTGCCGGTTGTCGACCGCCTTAAACTCCTAGGCCTCCTTTCCCGAAGGGCTGCGACTCCACTCGG-ACGGCATGTAGACACTGGGTATGGGGGACACCACCCGGCACTCTCGTAAGCGTTCGGCCTCGCCAGCATGGACTCATCGTGAAGCATCCGTTCAGGCTGAGGTGCACACCGGGGAGACAAGTAGCTTGGCTCGGATCACGAAGTTTTCCGTTCAAATGCGCCCGTAATGTCCGGAATTTGGGCACGAGCAGGGTGTCAAGATCGGTTGCCCAAGTGAGCCTGACCAGCGAATGTACGTCCAACCGTGGTTCCAAGC-CTTAATTCGACTCTCTCATCAAACCCGAGTACCGGCCGACAGGAGCGGTCAACTTTGCAACCTCTCCCGGTCGCCCCCGCCGGGTCGGTTGATCCAATTCAAC-CCTTCGGCGGG-GATGGGGAACTCTGAGCATCGAAGGCGGCATTCCGCATTTTACCGTTACTGC-ATCGGCCTGTGTCCAAAGCACCCACCCCTGCGGAGGCGCCTTACACAGATAAGGTGTGAGGGGACATTGCTAATCAACGACTGCATCTAGGTCGAGTAACCCGAAACATTGGGCGGGCGTCCGAGCGCCGTGCGAGGGCGGGTGGGTCTGGTCCCCCACGTCCGTCTGCCTGCGGACCAG-AGACTTTGCGGTTGACCTGGTCGTTCGGGCTTGCCCGTGACGATGGAGGGTTC-AGCATGAACGCGTATTCCGGGCAGA-ACAGCTGCCGGCGTAAGGGGGTG-AGGGGCACACTTGTCCACCCCAGCCCTGTGCACATACTCACCGGACCTTGGCCACCGAACACCACGCCCCCGCGTCATACCCCTATGTACCATCGAAGACGATGAGGGGTACTTAGACGTCCAGAGGCACCCACCTG-CGTGGAGAGCACGTGCTGCTGTCGGGACCACGCACCCGCAGG-AGCCGTGATTTCCACAAAAGTAATGCGTAGCCCGGGGCTCTTCACAGGTGAACGTAGCTCGGCGCCCCCC-GATGTATGCTTAGGCGAAGGATCAGGTACAAGCACATTTGGAATTGTAACTAGGAGAAGGTGGCGTCGCCTCGCTCATCAAGGTTGTGGGTGACCCAGTCTAGCTATCCGTCTACGATGTATATTCTCGGCACGCTCTACATGCACACTGTGATGGTGAACCCAAAGGGTTGGCGCGGGAC-AACTGGTGCTCCGTTTCCGCG-CGCCGTC-ATTCGAGTCGGCATGGCAGGGACCAGAGAAGTCCGCCGGCCAGCGGAGCGATACCGCTCTTCCCAGCAGGACAGCACGGTCGGATTGACTTGGAAAAGGACATCTATAATCACACTCGTCGCGGGACCCGCTAGTCG-CGGGTCTTAGGATCGCTACGCCAGTACCTAACATAGGGCCC-GCGTTATGACCGGTCGCAGACGAGCTCTCGGGGCAGG-GGGGTCG-AGGCAGCCAAATGCACAGCCATTGGGCTAGCAGGGGAAACCAAAAAGACGCCCCTCGATCTGGCGGTGCGCTAGCCACGCCCGATTCGAGATTACCACGGCCAGTAGC-GGAGTACCGACCTCGTCACGGGCTAGACGGCTGGCTGAA-GGTGCCTGGTCGGTTCGGCCAGCTTACCGGGCAGACCGGCAACCCGATCGCGCTAACCGGGGCCTGACCGCGAGCACGGTTCGCTACGACGAGCAAAGGGAACTTCGCGCCGCGTCTCGTCGCATCAGAGCAGACGGCCGAGCTGGCACGCCCGCTGCGGACAGGTTTGCGCGGGCCACGCTAAGTAGTTAGGACTCATTTCGCGTAGGGGACGGGCGCTCGGT-GACTCTAGGTGATGTCATCTCCTCAGCCACCAGCGGTCGGCATCAAGCAGAGGCCAGTGAGGGTGCCCTGCGCGCCTACGTCGGTGCAACCGCGTCATG-CACCGCGATCAGTAGGTCGTGCCGTCGGGTAACATTCTTTGTGAATTCTT-AACCCCCAGGAGCTGCACGACCTGTGGGCTTCCTGTCAGACTCCGGTGACCGGTCCGCGCCCC-TGCCGGCTCCTCTGTCGGACGCAACGGGGGATTCGGAACCCACGTAGTTGGGGACGTGTTTCGCGCAATGCCACCAGCAC-TAGGAGGTCCTTTCGAAGTTCGTTAATCGCCCCTCGGTGCTGACCTCCATTCCCGTAGC--TA-ACGG-CTCGTGCGGTACGTCACTCAGGATACCCCTGCATGACTGGTGGTGGTATCGACTTGGCCAGGGCACGG-TAAGCCTGCGTAGGGCGTGCCG-GGCCGCAAGCATCCCATACGTGGGGCTCCCTAGCGTCCCTGCAGTGGGGCCTTGACAAGGTTGCGTGGGATAACTAA-ACCTAACAGCTACTCCGCCTCGGGTTGTAGCACACGGGCAGGGGGAGGGACGGATGGCTTCCCGC-CC-GGCGCTCCCATTCGGTACGTGGAGTGGCATATCG-TGCCTCGCCGCCTCGCACATCGCGCGGCTTTTGACGCTCACCTCAG-GCCCTTAGACTATACGAAGGGGGCAATATAGGTCCGTGGATGGACGCCGATCGCAGGCCGTCGGTAATCTATGCCCGTACGGCTCAGGCCCGGA-G-AGATACGGCATCCCCGAGGGCCGGTCCCAGCTCTTGATAACCCCATGAAAAATTAGGCTTTCCTCACAAGTCTATCGGGGGCCCATTGCCCGTTGGTTTTCGAGGCAACATTGGTGGTCCGCGTACGGAGCATTGTTCC-GGCGGGAAGCCCGGGCTTGCGGCTCCATGATGTACGGCTTTCGGCGAAGTGGCGCAGGTCAGCAGGCTCACTGATGAGCCCGCGGGAGGTGACACAGGGTGAGAGCCCAGAGCTCTGTGAAGCTTTCCTGTTCTGCATGCCTTGCGGTGCCCGGTTCACGCCCTATGCGAA-CTTCGACGGGAT-TTCGTTTTAGGGGCGCCAGGCTCTCAACGTCGACCTACAGCACTACACTCGCATGGCTGCGCTCCAGCCAGAGTGGCTTACGACGCAACAG-ATACCCGTCCGGCGGCCTCCAAGAACTCTGACGTATCGCCTCAGCGCCTACGTCAAGTCGCCCGCCGTTATGAGGCGCGGTGAGCCGTCACAGGTCCGGCCCCCAAGC-AGCGCGGACTCCGGTCTTCGACCCCACCGGCCCGGCGGGAAAAGTCGAACGAGTCAATACGGCACC-CCGGCCCGTTCAATCCGTGTTCCCGG-CTAGCGCC-AGATTCTTGTTGCATGGCGG-CGAGAGCCCCAGAGCTAGAGGGGCGCCGCCAAAGGGAAGGGCGCGCGCTCAGCTTCTGTAGCACGACCTTCGA-GTACGCGCTTTCCGCGGCAAAGTGGTT-CGACCTCATTAGTACCGGCGTGACATGGGGGCACATAATCGCGGAGGGAGACCTGTCGCACCCGTGTGG-ACTACCAAAGCCTTGTGCTAAAGCTTACGCGGTGGGTAAGGGAGACTGGCTACCCCCCGATGACT-CCTTGCTCCCAA-AGAACTCGATCGGCTAGAAGGCGACTCCGCCATCAGCTCGTGCGGAATCGACGAAGTTCAGACGGGG-CTAGTCAACCGACCTCTCATCGGCCAGCCACCCGTCATGCGTCGCGCAGGAGACGGACGCTGCGGCCAAGTTTCCGTTTATCGGAACC\n",
      "ATGCTTACGACCGAACCTCTGCAGACGGTCCAGCGACGCCAATGACTACACTGGCCTGCGCGTCTGACTGGAACTCGGAGGCCCCCGCAATGCCCATTCAGGCGGTATAGCGTGTTCTGGCAGCTGTGATGGTGACCTCAACTGAGGCTCCTCAAGCAGAGGTTATTGAGTGCCTGTAGTGCCGGTTGTCGACCGCCTTAAACTCCTAGGCCTCCTTTCCCGAAGGGCTGCGACTCCACTCGGTACGGCATGTAGACACTGGGTATGGGGGACACCACCCGGCACTCTCGTAAGCGTTCGGCCTCGCCAGCATGGACTCATCGTGAAGCATCCGTTCAGGCTGAGGTGCACACCGGGGAGACAAGTAGCTTGGCTCGGATCACGAAGTTTTCCGTTCAAATGCGCCCGTAATGTCCGGAATTTGGGCACGAGCAGGGTGTCAAGATCGGTTGCCCAAGTGAGCCTGACCAGCGAATGTACGTCCAACCGTGGTTCCAAGCGCTTAATTCGACTCTCTCATCAAACCCGA-TACCGGCCGACAGGAGCGGTCAACTTTGCAACCTCTCCCGGTCGCCCCCGCCGGGTCGGTTGATCCAATTCAACCCCTTCGGCGGGCGATGGGGAACTCTGAGCATCGAAGGCGGCATTCCGCATTTTACCGTTACTGCGATCGGCCTGTGTCCAAAGCACCCACCCCTGCGGAGGCGCCTTACACAGATAAGGTGTGAGGGGACATTGCTAATCAACGACTGCATCTAGGTCGAGTAACCCGAAACATTGGGCGGGCGTCCGAGCGCCCTGCGACGGCGGGTGGGTCTGGTCCCCCACGTCCGTCTGCCTGCGGACCAGCAGACTTTGCGGTTGACCTGGTCGTTCGGGCTTGCCCGTGACGATGGAGGGTTCCAGCATGAACGCGTATTCCGGGCAGATACAGCTGCCGGCGTAAGGGGGTGAAGGGGCACACTTGTCCACCCCAGCCCTGTGCACATACTCACCGGACCTTGGCCACCGAACACCACGCCCCCGCGTCATACCCCTATGTACCATCGAAGACGATGAGGGGTACTTAGACGTCCAGAGGCACCCACCTGTCGTGGAGAGCACGTGCTGCTGTCGGGACCACGCACCCGCAGGGAGCCGTGATTTCCACAAAAGTAATGCGTAGCCCGGGCCTCTTCACAGGTGAACGTAGCTCGGCGCCCCCCGGATGTATGCTTAGGCGAAGGATCAGGTACAAGCACATTTGGAATTGTAACTAGGAGAAGGTGGCGTCGCCTCGCTCATCAAGGTTGTGGGTGACCCAGTCTAGCTATCCGTCTACGATGTATATTCTCGGCACGCTCTACATGAACACTGTGATGGTGAACCCAAAGGGTTGGCGCGGGACTAACTGGTGCTCCGTTTCCGCGTCGCCGTCAATTCGAGTCGGCATGGCAGGGACCAGAGAAGTCCGCCGGCCAGCGGAGCGATACCGCTCTTCCCAGCAGGACAGCACGGTCGGATTGACTTGGAAAAGGACATCTATAATCACACTCGTCGCGGGACCCGCTAGGCGCCGGGTCTTAGGATCGCTACGCCAGTACCTAACATAGGGCCCGGCGTTATGACCGGTCGCAGACGAGCTCTCGGGGCAGGCGGGGTCGCAGGCAGCCAAATGCACAGCCATTGGGCTAGCAGGGGAAACCAAAAAGACGCCCCTCGATCTGGCGGTGCGCTAGCCACGCCCGATTCGAGATTACCACGGCCAGTAGCGGGAGTACCGACCTCGTCACGGGCTAGACGGCTGGCTGAAGGGTGCCTGGTCGGTTCGGCCAGCTTACCGGGCAGACCGGCAACCCGATCGCGCTAACCGGGGCCTGACCGCGAGCACGGTTCGCTACGACGAGCAAAGGGAACTTCGCGCCGCGTCTCGTCGCATCAGAGCAGACGGCCGAGCTGGCACGCCCGCTGCGGACAGGTTTGCGCGGGCCACGCTAAGTAGTTAGGACTCATTTCGCGTAGGGGACGGGCGCTCGGTAGACTCTAGGTGATGTCATCTCCTCAGCCACCAGCGGTCGGCATCAAGCAGAGGCCAGTGAGGGTGCCCTGCGCGCCTACGTCGGTGCAACCGCGTCATGTCACCGCGATCAGTAGGTCGTGCCGTCGGGTTACATTCTTTGTGAATTCTTCAACCCCCAGGAGCTGCACGACCTGTGGGCTTCCTGTCAGACTCCGGTGACCGGTCCGCGCCCCCTGCCGGCTCCTCTGTCGGACGCAACGGGGGATTCGGAACCCACGTAGTTGGGGACGTGTTTCGCGCAATGCCACCAGCACCTAGGAGGTCCTTTCGAAGTTCGTTAATCGCCCCTCGGTGCTGGCCTCCATTCCCGTAGCGTTAGACGGTCTCGTGCGGTACGTCACTCAGGATACCCCTGCATGACTGGTGGTGGTATCGACTTGGCCAGGGCACGGTTAAGCCTGCGTAGGGCGTGCCGCGGCCG-AAGCATCCCATACGTGGGGCT\n",
      "TGAGCAGACCACTGATCGTTGCCAGCTGGCCGGGTAGAACGCGCGGGGGGTTTCCGCATACCGGTGCAAAAGCC-CTGTGAGCCAGTC-CTCCGCCGAGCCGTGCTCCAACCTCAGGCTCCTAGCTCGGCAAAAGCCGTGGGCTCCGATACATCCAATACACGCACGC-CGTTGTGGTTTGACCGGTTGCAGATGGGGTGCGGAGGCGGCCCCGTTCCCCCCGCTTCACGGGGTAAGATACGACGGCAGATAGCAGCTACCATTTGGCGGTGATGCCTTTCGCTCTAAGCCGCCTGACGGAGATCTTAAACAGGAGTCGCGTGGCTCGCAAGGAGGCAGAGTGACTCGACCATTGGTCAGCCCCCGCGCTGCGCTCGGCCGGTAAGCAGCGAGGTCCCCATCCTTGCGCAAGGTGGATGGTATGCCATGGTTCCTCCAGGCAGAGGGCCCCTTCGTAGCGATTCCGCCTTGGCACTTGCGAACACGGGAAACCCCAAGTCACTCGCGGGAAGGATCTGTTGCGTCTGGACGGGAGGATTTACGCCGTCTACGAGCGCAATACGCCATTGTCAAGGGCACGGGAGAGGCGGTTAAGGCTTATCCCTCACGAGGACGAGACGATTGCGGACCAGTTGGTTAGAAGCAGGTATTGGCGGTGGGCCGCCGCGA-GCTTCCGCACGGTCGCAG-GACATCGATCGACCCAAGGCTCGCATCGAACCAATTCCGGGCCGGGTACGCACGAGAGGAGAGAAGCATGAAGCGCCATAGGTCCTACTCGCGGAGCGCTCGTGCAGTCATAGGGGTGGCTGGCCCCTCCCGGGGGCACGTTCTCGGATCAGCTCGGTGTTGTAAGAGCCTGCAGTTAGCGCCGATCATGTGTGCCTAAGACGGGAGATGGGCAGGCATTGA-TAGGGTCGGCATTGCAATCCGAGTCGCCCACGGCCGGAACCGCCCTCC-AAAGCGAGGCTCCTAGGCACTTGCAGGCCTGCAGACT-CGGTAAGCAAATAAGGCTCGACTCTGTTGGGCCCAGGGCGTTCGGGGGTACACATTAAGCAGGAGGTC-GACTCACACATGTCCAAGATCAGGGTGCGTGCAATTATTG-TGGCGCGGCCTCTGACGGACCAAGCGTGTGAACTATTGTGGGCTAAGTCGGGGCCGGAGATTGCTCACTCCGCGGAGATATCCGTTGTTTCGAGGTCGTTCGGTATAGCGCGACGAGCATCCGGAGGATTAACCGCATTACGCGTTCTTTCTGCG-CCGCCGACACGGGTCAGTGCGCAACGACACCGTTAGCTTTCACATCGAATTCAGTGACCACCTA-AGGCCTGCCTGGGCCGCCGGGCCCTGACGCACTCTG-GATCATCCGGGCGGTCCAGCCACGGGCTACCGCCGACGCGGTGAGTCTATCTCTGGCTTGCCAATGGTTTGACGGGAACGCTACACCTGCATCTCGTGACTCCCCCTCTTGCCGTCAGTGTCTAACCATGGGAAGGGGGGCTGGCGGTGGGTTGTAGCATAAGAATGGATCTAATGGCCCGCGCACTGGGGGTTCGAACAGTGGGACCGACGGGGGGGCCTCGGA-GCGGATCCAGGGGCAGCCTTACCAGGGTATCGATTCCTGTACCCTTCTCGTTGTGCCA-CGATGCTTAAGCGACGACTTTGGCGATGACCCGGGGCTGATGGTGATCGCAGTCGGTCACTCCTCCCACAGGAAAACAGTGAAGGCGCCTGCGGGGTTCGCCACGCCCTCA-CCGCCATTACAACGGGGTTTTGTACTCTGACCCGCCGCGTCACGGTCCACCAGCCAGGC-AAAGGTCACCCCGAGCCTGGACTCACG-CCACAACCAATCCGG-GAAGCGGATCGTGTTCCTACGGTTCTGACGCCGCTCACGTGACGCCGTTGCACGATCCCTATTTTTGGGCTCCCGGCTGCCACCCGGTTTGTCCTGTCCTTCGCTCCGTAAGTCGAGCACCTATGCTGTCGAGATGGCCCGCCCTTGAGGGTTACCAAGGGGCGTTTAGTTTTTTCCTGTAGGGGTAGCCCAG-GCTTGCCTCCTCCCAAAGCTAGATTCTTGCCCCAGGCAATTGCGGTGAGACCTGAAGCGTTCGTAGCCATCCATCCTGCTCGAGTGGACTGCCGGCCCTCTGGCAACGGGACGCGCCTCCGCCCCTGGCACGCGGAATCCTCGACCGCCCAAGGCGGAGGCAGCG-GTTCGTGCCCCGGTTCCTCCGACATGCGCGCCACATACCCGCCACCCGTGTCTTAGTATGAGGCGGGCGGAACCCCCTTATATGGCACCGCTTGGCAGTGCCCGATCTCACGGCGCCGGCCAGGGTCAAGTGGGCCGCGTGCGGCG-ACGTTCC-CAACACCCCAGACCGTTTAGCGGTTTGAGCTACGTTATTGGGGAGTGCGACGAACCTCAGGCTGTGTATCAGATACCAACGTGCGCCCGGGATGAGATCGGAGGGGGGATAGGGTATGGATTGTCGGAGGCTTCTGACATGAGTCATGCTTACGACCGAACCTCTGCAGAC-GTCCAGCGACGCCAATGACTACACTGGCCTGCGCGTCTGAC-GGAACTCGGAGGCCCCCGCAATGCCCATTCAGGCGGTATAGCGTGTTCTGGCAGCTGTGATGGTGACCTCAACTGAGGCTCCTCAAGCAGAGGTTATTGAGTGCCTGTAGTACCGGTTGTCGACCGCCTTAAACTC-TAGGCCTCCTTTCCCGAAGGGCTGCGACTCCACTCGGTACGGCATGTAGACACTGGGTATGGGGGACACCACCCGGCACTCT-G-AAGCGTTCGGCCTCGCCAGCATGGACTCATCGTGAAGCATCCGTTCAGGCTGAGGTGCACACCGGGGAGACAAGTAGCTTGGCTCG-ATCACGAAGTTTTCCATT-AAATGCGCCCGTAATGTCCGGAATTTGGGCACGAGCAGGGTGTCAAGATCGGTTGC-CAAGTGAGCCTGACCAGCGAATGTACGTCCAACCGTGGTTCCAAGCGCTTAATTCGACTCTCTCATCAAACCCGAGTACCGGCCGAC-GGAGCGGTCAACTTTGCAACCTCTCCCGG-CGCCCCCGCCGGGTCGGTTGATCCAATTCAACCCCT-CGGCGGGCGATGGGGAACTCTGAGCATCGAAGGCGGCATTCCG-ATTTTACCGTTACTGCGATCGGCCTGTGTCCAAAGCACCCACCCCTGCGGAGGCGCCTTACACAGATAAGGTGTGAGGGGACATTGCTAATC-ACGACTGCATCTAGGTCGAGTAACCCGAAACATTGGGCGGGCGTCCGAGCGCCCTGCGACGGCGGG-GGGTCTGGTCCCCCACGTCCGTCTGCCTGCGGACCAGCAGACTTTGCGGTTGACCTGGTC-TTCGGGCTTGCCCGTGACGATGGAGGGTTCCAGCATGAACGCGT-TTCCGGGCAGATACAGCTGCCGGCGTAAGGGGGTGAAGGGGCACACTTGTCCACCCCAGCCCTGTGCACATACTCACCGGACCTTGGCCACCGAACACCACGCCC-CGCGTCATACCCCTATGTACCATCGAAGACGA-GAGGGGTACTTAGACGTCCAGAGGCACCCACCTGTCGTGGAGAGCACGTGCTGCTGTCGGGACCACGCACCCGCAGGGAG-CGTGATTTCCACAAAAGTAATGCGTAGCCCGGGCCTCTTCACAGGTGAACGTAGCTCGGC-CCCCCCGGATGTATGCTTAGGC-AAGGATCAGGTACAAGCACATTTGGAATTGTAACTAGGAGA-G-TGGCGTCGCCTCGCTCATCAAGGTTGTGGGTGACCCAGTCTAGCTTT-CGTCTACGATGTATATTCTCGGCACGC-CTACATGAACAC-GTGATGGTGAACCCAAAGGGTT-GCGCGGGACTAACTGGTGCTCCGTTTCCGCGTCGCCGTCAATTCGAGTCGGCATGGCA-GGACCAGAGAAGTCCGCCGGCCAGCGGAGCGATACCGCTCTTCCCAGCAGGACAGCACGGTCGGATTGACTTGG-AAAGGACATCTATAA-CACACTCGTCGCGGGACCCGCTAGGCGCCGGGTCTTAGGATCGCTACGCCAGTACCTAACATAGGGCCCGGCGTTATGACCGGTCGCAGACGAGCTCTCGGGGCAGGCGGGGTCGCAGGCAGC-AAATGCACAGCCATTGG-C-AGCAGGGGAAACCAAAAAGACGCCCCCCGATCTGGCGGTGCGCTAGCCACGCCCGATTCGAGATTACCACGGCCAGTAGCGGGAGTACC-ACCTCGTCACGGGCTAGACGGCTGGCTGAAGGGTGCCTGGTCGGTTCGGCCAGCTTACCGGGCAGACCGGCAACCCGATCGCGCTAACCGGGGCCTGACCGCGAGCACGGTTCGCTACGACGAGCAAAGGGAACTTCGCGCCGCGTCTCGTCGCATCAGCGCAGACGGCCGAGCTGGCACGCCCGCT-CGGACAGGTTTGCGCGGGCCACGCTAAGTAGTTAGGACTCATTTCGCGTAGGGGACGGGCGCTCGGTAGACTCTAGGTGATGTCATCTCCTCAGCCACCAGCGGTCGGCATCAAGCAGAGGCCAGTGAGGGTGCCCTGCGCGCCTACGTCGGTGCAACCGCGTCATGTCACCGCGATCAGTAGGTCGTGCCGTCGGGTTACATTCTTTGTGAATTCTTCAACCCCCAGGAGCTGCACGACCTGTGGGCTTCCTGTCAGACTCCGGTGACCGGTCCGCGCCCCCTGCCGGCTCCTCTG-CGGACGCAACGGGGGATTCGGAACCCACGTAGTTGGGGACGTGTTTCGCGCAATGCCACCAGCACCTAGGAGGTCCTTTCGAAGTTCGTTAATCGCCCCTCGGTGCTGGCCTCCATTCCCGTAGCGTT-GACGGTCTCGTGCGGTACGTCACTCA-GATACCCC-GCATGACTGGTGGTGGT-TCGACTTGGCCAGGGCACGGTTAAGCCTGCGTAGGGCGTGCCGCGGCCGCAAGCATCCCATACGTGGGGCTCCCTAGCGTCCCTGCAGTGGGGCCTTGACAAGGTT-CGTGGGATAACTAAGACCTAACAGCTACTCCGCCTCGGGTTGTAGCACACGGGCAGGGGGAGGGACGGATGGCTTCCCGCCCCAGGTGC-CCCATTCGGTACGTGGAGTGGCATATCGCTGCCTCGCCGCCTCGCAC-TCGCGCGGCTTTTGACGCTCACCTCAGTGCCCTTAGACTATACGAAGGGGGCAATATAGGTCCGTGGATGGACGCCGATCGCAGGCCGTCGGTAATCTATGCCCGTACGGCTCAGGCCCGGACGGAGATACGGCATCCCCGAGGGCCGGTCCCAGCTCTTGATAACCCCATGAAAAATTAGGCTTTCCTCACAAGTCTATCGGGGGC-CATTGCCCGTTGGTTT-CGAGGCAACATTGGTGGT-CGCGTACGGAGCATTGTTCCCGGCGGGAAGCCCGGGCTTGCGGCTCCATGATGTACGGCTTTCGGCGAAGTGGCGCAGGTCAGCAGGCTCACTGATGAGCCCGCGGGAGGTGACACAGGGTGAGAGCC-AGAGCTCTGT-AAGCTTTCCCGTTCTGCATGCCTTGCGGTGCCCGGTTCACGCCCTATGCGAAGCTTCGACGGGATATTCGTTTTAGGGGCGCCAGGCTCTCA-CGTCGACCTACAGCACTACACTCGCATGGCTGCGCTCCAGCCAGAGTGGCTTACGACGCAACAGTATACCCGTCCGGCGGCCTCCAAGAACTCTGACGTATCGCCTCAGCGCCTACGTCAAGTCGCCCGCCG-TATGAGGCGCGGTGAGCCGTCACAGGTCCGGCCCCCAAGCAAGCGCGGACTCCGGTCTTCGACCCCACCGGCCCGGCGGGAAAAGTCGAACGAGTCAATACGGCACCTCCGG-CCGTTCAATCCGTGTTCCCGGACTAGCGCCGAGATTCTTGTTGCATGGCGGGCGA-AGCCCCAGAGCTAGAGGGGCGCCGCCAAAGGGAAGGGCGCGCGCTC-GCTTCTGTAGCACGACCTTCGATGTACG-GCTTTCCGCGGCAAA\n",
      "ATCCATCCTGCTCGAGTGGACTGCCGGCCCTCTGGCAACG-GACGCGCCTCCGC-CCTGGCACGCGGAATCCTCGACCGCCCAA-G-GGAGGCAGCGTGTTCGTGCCCCGGTTCCTCCGACATGCGC-C-ACA-ACCCGCCGCCCGTGTCTTAGTATGAGGCGGGCGGAACCC-CTTA-ATAGC-CCGCT-GGCAGTACCCGATCTCACGGCGCCGGCCAGGGTCAAGTGGGCCGCGTGCGGCGGACGTTCCCCAACACCCCAGACCGTTTAGCGGTTTGAGCTAGGTTATTGGGGAGTGCGACGAACCTCAGGCT-TGTATCAGATACCAACGTGCGCCCGGGATGAGATC-GAGGGGGGATAGGGTATAGATTGTCGGAGGCTTCTGACAT-AGTCATGCTTACGACCGAACCTCTGCA-ACGGTCCAGCGACGCCAATGACTACACTGGTCTGCGCGTCTGACTGGAACTCGGAGGCCCCCGCAATGCCCATTCAGGCGGTATAGCGTGTTCTGGCAGCTGTG-TGGTGACCTCAACTGAGGCTCCTCAAGCAGAGGTTATTGAGTGCCTGTAGTGCCGGTTGTCGACCGCCTTAAACTCCTAGGCCTCCTTTCCCGAAGGGCTGCGACTCCACTCGGTACGGCATGTAGACACTGGGTATGGGGGACACCACCCGGCACTCTCGTAAGCGTTCGGCCTCGCCAGCATGGACTCATCGTGAAGCATCCGTTCAGGCT-AGGTGCACACCGG-GAGACAAGTAGCTTGGCTCGGATCACGAAGTTTTCCGTTCAAATGCGCCCGTAATGTCCGGAATTTGG-CACGAGCAGGGTGTCAAGATCGGTTGCCCAAGTGAGCCTGACCAGCGAATGTACGTCCAACCGTGGTTCCAAG-GCTTAATTCGACTC-CTCATCAAACCCGAGTACCGGCCGA-AGGAGCGGTCAACTTTGCAACCT-TC-CGGTC-CCCCCGCCGGGTCGGTTGATCCAATTCAACCCCTTCGGCGGGCGATGGGGAACTCT-AGCATCGAAGGCGGCATTCCGCATTTTACCGTTACTGCGA-CGGCCTGTGTCCAAAGCACCCACCCCTGCGGAGGCGCCTTACACAGATAAGGTGTGAGGGGACA-T-CTAATCAACGAC-GCATCTAGGTCGAGTAACCCGAAACATTGGGCGGGCGTCCGAGCGCCCTGCGACGGCG-GTGGGTCTGGTCCCCCACGTCCGTCTGCCTGCGGACCAGCAGACTTTGCGGTTGACCTGGTCGTTCGGGC-TGCCCGTGACGATGGAG-GTTCCAGCATGAACGCGTATTCCGGGCAGATACAGCTGCCGGCGTAAGGGGGTGAAGGGGCACACTTGTCCACCCCAGCCCTGTGCACATACTCACCGGACCTTGGCCACCGAACACC-CGCCCCCGCGTCATACCCCTATGTACCATCGAAGACGATGAGGGGTACTTAGACGTCCAGAGGCACCCACCTGTCGTGGAGAGCACGTGCTGCTGTCGG-ACCACGCACCCGCAGGGAGCCGTGATTTCCA-AAAAGTAATGCGTAGCCCG-GCCTCTTCACAGG-GAACGTAGCTCGGCGCCCCCCGGATGTATGCTTAGGCGAAGGATCAGGTACAAGCACATTT-GAATTGTAACTAGGAGAAGGTGGCGTCGCCTCGCTCA-CAAGGTTGTGGGTGACCCAGTCTAGCTATCCGTCT-CGATGTATATTCTCGGCACGC-CTACATGAACACTGTGATGGTGAACC-AAAGGGTTGGCGCGGGACTAACTGGTGCTCCGTTTCCGCGTCGCCGTCAATTC-AGTCGGCATGGCA-GGACCAGAGAAGTCCGCCGGCCAGCGGAGCGATACCGCTCTTCCCAGCAGGACAGCACGGTCGGATTGACT-GGAAAAGGACATCTATAATCACACTCGTCGCGGGACCCGCTAGGCGCCGGGTCTTAGGATCGCTACGCCAGTACCTAA-ATAGGG-CCGGCGTTATGACCGGTCGCAGACGAGCTCTCGGGGCAGGCGGGGTCGCAGGCAGCCAAATGCACAGCCATTGGGCTAGCAGGGGAAACCAAAAAGACGCCCCTCGATCTGGCGGTGCGCTAGCCAC-CCCGATTCGAGATTACCACGGCCAGTAGC-GGAGTACCGACCTCGTCACGGGCTAGACGGCTGGCTGAAGGGTGCCTGGTCGGTTCGGCCAGCTTACCGGGCAGACCGGCAACCC-ATCGCGCTAACCGGGGCCTGACCGCGAGCACGGTTCGCTACGACGAGCAAAGGGAACTTCGCGCCGCGTCTCGTCGCATCAGAGCAGACGGCCGAGCTGGCACGCCCGCTGCGGACAGGTTTGCGCGGGCCACGCTAAGTAGTTAGGACTCATTTCGCGTAGGGGACGGGCGCTCGGTAGACTCTAGGTGATGTCATCTCCTCAGCCACCAGCGGTCGGCAT-AAGCAGAGGCCAGTGAGGGTGCCCTGCGCGCCTACGTCGGTGCAATCGCGTCATGTCACCGCGATCAGTAGGTCGTGCCGTCG-GTTACATTCTTTGTGAATTCTTCAACCCCCAGGAGCTGCACGACCTGTGGGCTTCCTGTCAGACTCCGGTGACCGGTCCGCGCCCCCTGCCGGCTCCTCTGTCGGACGCAACGGGGGATTCGGAACCCACGTAGTTGGGGACGTGTTTCGCGCAATGCCACCAGCACCTAGGAGGTCCTTTCGAAGTTCGTTAATCGCCCCTCGGTGCTGGCCTCCATTCCCGTAGCGTTAGACGG-CTCGTGCGGTA-GTCACTCAGGATACCCCTGCATGACTGGTGGTGGTATCGACTTGGCCAGGGCACGGTTAAGCCTGCGTAGGGCGTGCCGCGGCCGCAAGCATCCCATACGTGGGGCTCCCTAGCGTCCCTGCAGTGGGGCCTTGACAAGGTTGCGTGGGATAACTAAGACCT-ACAGCTACTCCGCCTCGGGTTGTAGCACACGGGCAGGGGGAGGGACGGATGGCTTCCCGCCCCAGGTGCTCCCATTCGGTACGTGGAGTGGCATATCGCTGCCTCGCCGCCTCGCACATCGCGCG-CTTTTGACGCTCACCTCAGTGCCCTTAGACTATACGAAGGGGGCAATATAGGTCCGTGGATGGACGCCGATCGCAGGCCGTCGGTAAT-TATGCCCGTACGGCTCAGGCCCGGACGGAGATACGGCATCCCC-AGGGCCGGTCCCAGCTCTTGATAACCCCATGAAAAATTAGGCG-TCCTCACAAGTCTATCGGGGGCCCATTGCCCGTTGGTT--CGAGGCAACAT-GGTGGTCCGCGTACGGAGCATTGTTCCCGGCGGGAAGCCCGGGCTTGCGGCTCCATGATGTACGGCTTTCGGCGAAGTGGCGCAGGTCAGCAGGCTCA-TGATGAGCCCGC-GGAGGTGACACAGGGTGAGAGCCCAGAGCTCTGTGAAGCTTTCCCGTTCTGCATGCCTTGC-GTGCCCGGTTCACGCCCTATGCGAAGCTTC-ACGGGATATTCG-TTTAGGGGCGCCAGGCTCTCAACGTCGACCTACAGCACTACACTCGCATGGCTGCGCTCCAGCCAGAGTGGCTTACGACGCAACAGTATACCCGTCCGGCGGCCTCCAAGAACTCTGACGTATCGCCTCAGCGCCTACGTCAAGTCGCCCGCCGTTATGAGGCGCGGTGAGCCGTCACAGGTCCGGCCCCCAAGCAAGCGCGGACTCCGGTCTTCGACCCCACCGGCCCGGCGGGAAAAGTCGAACGA-TCAATACGGCACCTCCGGCCCGTTCAATCCGTGTACCCGGACTAGCGCCGAGATTCTTGTTGCATGGCGGGCGAGAGCCCCAGAGCTAGAGGGGCGCCGCCAAAGGGAAGGGCGCGCGCTCAGCTTCTGTAGCACGAC-TTCGATGTACGCGCTTTCCGCGGCAAAGTGGTTCCGACCTCATTAGTACCGGCGTGACATGGGGGCACATAATCGCGGAGG-AGACCTGTCGCACCCGTGTGGTACTACCAAAGCCTTGTGCTAAAGCTTACGCGGTGGGTAAGGGAGACTGGCTACCCCCCGATGACTCCCTTGCTCCCAACAGAACTCGATCGGCTAGAAGGCGACTCCGCCATCAGCT-GTGCGGAATCGACGAAGTTCAGACGGGGGCTAGT\n",
      "CAGGGAAGTGGCACGACGTCCTGAGGCCCTGAACGTGGCGTAGGCCACTTTGACCCGGTACTCTAGCAAGAGCAACGGGACCTTCGACGGTCGTCCAGGGTTGCGACGTAAGACGGCGCCCCAAGCCAGTCATCAGCCCGCGCTGTCTATACACCGACCAGGCCTCTCCGGGGAAATGCACACAGCGCTATTGTGCTTTAGAACAACATCAGAGGTCCCTAACCGAGCCTACCTCGCTGCTCCCACCGCCACCACTTCATTCATGCGGCGGAACGGCGTACGCACATACCGCCAGGGAGAGTCACCTTATAGTTCACCGGCGCAAGGCGCAGTGCCGCGTGATTCGCGTTGCGCCGGCCAGCCTCGGCAGTGACTAATCCGGTTGGCCGCGAGCCCGAGCGTAGCGCACGGCGATGTACGTTCCCGCGAGTACTCTCCGTGAGGACGCGCTCATCTCGCTGGGGCCGCCTAGTCCCTAACCGCGCGCAATGTAGCATCCGTACGATGTGTTTCTGACCACCCTCGCGGGGGCTCCCGTCCTTTCCCGATCAGTGCGTCACTATTCGCTTAGACATGAGCC\n",
      "CGCGTTGCGCCGGCCAGCCTCGGCAGTGACTAATCCGGTTGGCCGCGAGCCCG-GCGTAGCGCACGGCGATG-ACGTTCCCGCGAGTACTCTCCGTGAGGACGCG-TCATCTCGCTGGGGCCGCCTAGTCCCTAACCGCGCGC-ATGTAGCATCCGTACGATGTGTTTCTCACCACCCTCGCGGGGGCTC-CGTCC-TTCCCGATCAGTGCGT-ACTATTCGC-T-GACATGAGCCCGGCGCCCGCTTC-CCCC-TCGGACCTAGCCCCTCACGGAACCCGCCATGAGCGAAAGGCCTCTGGGCGG-CCACAGCGACAGAAGCTACGAGGCGCCGGAGCCACACCGTCCCAGCCCGGTCGCGACGGGATGCAG-ACCCATTATCTTTCACGCAGTGCTTAGGATACCCACTATGTAC-GAAA-TCCGCCGGGGCCGGTAAGGGGTAGGTGCGCGAAAGGCACAAT-CTGTTGCGGGGACCTCCAGATAGTT-TTGCTGGAATGTGGTGTAGCTTGTGAACAGGGAACGCCC-TGGGACCCTATCCGGAC-TGCGACCTCCCGGGGTGACTTACTCCGATCTCAGAAGC-GCCCGGCACGCGCGCTTGGTCAGACCGCACTACTGG-GCCGTTGGGCGGCCTAAGCAGAGGCAGCGTGAAGCTCC-CATGGCATTCGCCGGGCTGTGAGCGGAGAGTGCCTGC-GCGAT-CTAGAG-TCTCGCAGAGGTAAAGGCCGCAC-CGG-AGGTGGGCCGGCGTTCACACATCCGATGTGAGGG-GGCTG-ATACG-ACCCCGACGCATAGACGCAAACAATGTGCCCATTAACAGTCCAATAGTCGCA-CCCCGGGGTGCCATGTGGCTGAGACTGAGCA-GGT-CTCCTAGCACCCTCCCGGAGGATTACACGGTGCG-CAGATAGCGT-CCCGGCAGGAC-GGGCCGGTCG-C-GGAGC-GT-ACTTGCGGAGTCGTTCGAT-GCGATGTCCGAGATCCCTATGTTGAAAGTCCCTCGAATACCCAT-AGCTAGGTGGGTGATCTA-CCGGCCAAGCGCTTCAGTT-CGTTGCGCAAGCAATACAAGGCGCTGGGGCTCATGTACTGCTTTCTTCGCCTG-GCAGACCCCTGATC-TTGCCAGCTGGCC-GG-AGAACGCGCGGGGGGTTTCCGCATACCGGTGCAAAAGCCCCTG-GAGCCAGTCTCTCCGCCGAGCCGT-CTC-AACCTCAGGCTC-TAGCTCGGCAAAAGCCGTGGGCTCCGATACATCCAATACACGCACGCCCGTTGTGGT-TGAC-GGTTGCAGATGGGGTGCGGAGGCGGCCCCGTTCCCCCCGCTTCACGGGGTAAGATACGACGGCAGATAGCAGCTACCATTTGGCGGTGCTGCCTTTCGCTCTAAG-CGCCTGACGGAGATCTTAAACAGGAGTCGCGTGGCTC-CAAGGAGGCAGAGTGACTCGACCATTGGT-AGCCCCCGCGCTGCGCTCGGCCGGTAAGCAGCGAGG-CCCCATCCTTGCGCAAGG-GGATGCTA-GCCA-GGTTCCTACAGGCAG--GGC-CCTTCGTAGCGATTCCGCCTTGGCACT-GCGAACACGGGAAACCC--AG-CACTCGCGGGAAGGATCTGTTG-GTCTGGACGGGAGGATTTACGCCGTCTACGAGCGCAATACGCCATTGTCAAGGGCACGGGAGAGGCGGTTAAGGCTTATCCCTCACGAGG-CGAGACGA-TGCGGACCAGTTGGTTAGAAGCAGGTATTGGCGGTGGGCCGCCGCGAGGCTTCCGCAC-GTCGCAGTGACATCGATCGACCCAAGGCTCGCATCGAACCAATTCCGGGC-GGGTACGCACGAGAGGAGGGAA-CATGAAGCGCCATAGGTCCTAC-CGCGGAGC-CTCGTGCAGTCATAGGGGTGG-TGGCCCCTCCCGGGGGCACGTTCTCGGATCAGCTCGGTGTTGTAAGAG-CTGCAGTTAGCGCCGA-CATGT-TGCCTAA-ACGGGAGATGGGCAGGCATTGATTAGGGTCGGCATTGCAATCTGAGTCGCCCACGGCCGGAACCG-CCTCCGAAAGCGAGGCTCCTA-GCACTTGCAGGCCTGCAG-CTGCGGTAAGCAAATAAGGCTCG-CTCTGTT-GGCCCAGGGCGTTCGGGGGTACA-ATTAAGCAGGAGGTCAGTCTCACACATGT-CAAGATGAG-GTGCGTGCAATTATTGTTGGCGCGGCCTCTGACGGACCAAGCGTGTGAACTATTGTGGGCTAAGTCGGGGC-GG-GATTGCTCACTCCGCGGAGATATCCGTTGTTTCGAGGTCGTTCGGTATAGCGCG-CGAGCATCCGGTGGATTAACCGCATTACGCGTTCTTTCTGCGTCCGCCGACACGGGTCAGTGCGCA-CGACA-CGGTAGCTTTCA-ATCGAATTCA-TGACCACCTATAGGCCTGCCTGGGCCGCCGGGCCCTGACGCACTCTGA-ATCATCCGGGCG-TCCAGCCA--GGCTACCGCCGACGCGGTGA-TCTATCCCTGGCTTGC-AATGGTTTGACGGGAACGCTACACCTGCATCTCGTGACTCCCCCTCTTGCCGTCAGTGTCTAACAATGGGAAGGGGGGCTG-CGGTGGGTT-TAGCACAAGGATGGATCTAATGGCCCGCGCACTGGGGGTTCGAACAGTGGGACCGACGGGGGGGCCTCCGACGCGGA-CCAGGGGCAGCCTTACCAGGGTATCGATTCCTGTACCCTTCTCGTTGTGCCAGCGATGCTTAAGCGACGACTTTGGCGATGACCCGGGGCTGATGGTGATCGCAGTCGGTCACTCCTCCCACAGGAAAACAGTGAAGGCGCCTGCGGGGTTCGCCACGCCCTCACCCGCCATTACAACGGGGTTTTGCACTCTGACCCGCCGCGTCACGGTCCACCAGCCAGGCCAAAGGTCACCCCGAGCCTGGACTCACGCCCACAACCAATCCGGGGAAGCGGATCGTGTTCCTACGGTTCTGACGCCGCTCACGTG-CGCCGTTGCACGATCCCTATTTTTGGGCTCC-GGCTGCCACCCGGTTTGTCCTGTCCTTCGCTCCGTAAGTCGAGCACCTATGCTGTCGAGATGGCCCGCCCTTGAGGGTTACCAAGGGGCGTTTAGTTTTTTCCTGTAGGGGTAGCCCAGGGCTTGCCTCCTCCCAAAGCTAGATTCTTGCCCCAGGCAATTGCGGTGAGACCTGAAGCGTTCGTAGCCATCCATCCTGCTCGAGTGGACTGCCGGCCCTCTGGCAACGGGACGCGCCTCCGCC-CTGGCACGCGGAATCCTCGACCGCCCAAGGCGGAGGCAGCG-GTTCGTGCCC-GGTT-CTCCGACATGCGCGCCACATACCCGCCGCCCGTGTCTTACTATGAGGCGGGCGGAACCCCCTTATATGGCACCGCTTGGCAGTGCCCGATCTCACGGCGCCGGCCAGGGTCAAGTGGGCC-CGTGCGGCGGACGTTCCCCAACACCCCAGACCGTTTAGCGGTTTGAGCTACGTTATTGGGGAGTGCTACGAACCTCAGGCTGTGTATCAGATACCAACGTGCGGC-GGGACGAGATCGGAGGGGGGATAGGGTATGG-TTGTCGGAGGCTTCTGACATGAGTCATGCTTACGACCGAACCTCTGCAGACGGTCCAGCGACGCCAATGACTACACTGGCCTGCGCGTCTGACTGGAACTCGGAGGCCCCCGCAATGCCCATTCAGGCGGTATAGCGTGTTCTGGCAGCTGTGATGGTGACCTCAACTGAGGCTCCTCAAGCAGAGGTTATTGAGTGCCTGTAGTGCCGGTTGTCGACCGCCTTAAACTCCTAGGCCTCCTTTCCCGAA-GGCTGCGACTCCACTCGGTACGGCAT-TAGACACTGGGTATGGGGGACACCAC-CGGCACTCTCGTAAGCGTTCGGCCTCGCCAGCATGGACTCATCGTGAAGCATCCGTTCAGGCTGAGGTGCACACCGGGGAGACAAGTAGCTTGGCTCGGATCACGAAGTTTTCCGTTCAAATGCGCCCGTAATGTCCGGAATTTGGGCACGAGCAGGGTGTCAAGATCGGTTGCACAA-TGAGCCTGACCAGCGAATGTACGTCCAAC-G-GGTTCCAAGCGCTTAATTCGACTCTCTCATCAAACCCGAGTA-CGGCCGACAGGAGCGGTCAACTTT-CAACCTCTCCCGGTCGCCCCCGCCGGG-CGG-TGATCCAATTC-ACCCCTTCGGCGGGCGATGGGGAACTCTGAGCATCGAAGGCGG-ATTCCGCATTTTACCGTTACTGCGATCGGCCTGTGTCCAAAGCACC-ACCCCTGCGGAGGCGCCTTACACAGATAAGGTGTGAGGGGACATTGCTAATCAACGACTGCATCTAGGTCGAGTAACCCGAAAC-TTGGGCGGGCGTCCGAGCGCCCTGCGACGGCGGGTGGGTCTGGTCCCCCACGTCCGTATGCCTGCGGACCAGCAGACTTTGCGGTTGACCTGGTCGTTCGGGCTTGCCCGTGAC-ATGGAGGGTTCCA-CATG-ACGCGTAT-CCGGGCAGATACAGCTGCCGGCGTAAG-GGGTGAAGGGGCACACTTGTCCACCCCAGCCCTGTGCACATAC-CACCGGA-CTTGGCCACCAAACACCACGCCCCCGCGTCATACCCCTATGTACCATCGAAGACGATGA-GGGTACTTAGACGTCC-GAGGCACCCACCTGTCGTGGAGAGCACGTGCTGCTGTC-GGACCACGCACCCGCAGGGAGCCGTGATTTCCACAAAAGTAATGCGT-GCCCGGGCCTCTTCACAGGTGAACGTAGCTCGGCGCCCCCCGGATGTATGCTTAGGCGAAGGATCAGGTACAAGCACATTTGGAAT-GTAACTAGG-GAAGGTGGCGTCGCCTCGCTCATCAAGGTTGTGGGTGACCCAGTCTAGCTATCCGTC-ACGATGTATATTCTC-GCACGCTCTACATGAACACTGTGATGGTGAACCCAAAGGGTTG-CGCGGGACTAACTGGTGCTCCGTTTCCGCGTCGCCGTCAATTCGAGTCGGCATGGCAGGGACCAGAGAAGTCCGCCGGCCAGCGGA-CGATACCGCTCTTCCCAGCAGGACAGCACGGTCGGATTGACTTGGAAAAGGACATCTATAATCACACTC-TCGC-GGACCCGCTAGGCGCCGGGTCTTAGGATCG-TACGCCAGTACCTAACATAGGGCCCGGCGTTATGACCGGTCGCAGACGAGCTCTCGGGGCAGGCGGGGTCGCAGGCAG-CAA-TGCACAGCCAT-GGGCTAGCAGGGGAAACCAAAAAGACGCCCCTCGATCTGGCG-TGCGCTAGCCACG-CCGATTCGAGATTACCACGGCCAGTAGCGG-AGTACCGACCTCGTCACGGGCTA--CGGCTGGCTGAAGGGTGCCTGGTCGGTTCGGCCAGCTTACCGGGCAGACC--CAACCCGATCGCGCTAACCGGGGCCTG-CCGCGAGCACGGTTCGCTACGACGAGCAAAGGT-ACTTCGCGCCGCGTCTCGTCG-ATCAGAGCAGACGGC-GAGCTGGCACGCCCGCTGCGGACAGGTTTG-GCGGGCCACGCTAAGTAGTTAGGACTCAT-TCGCGTAGGGGACG-GCGCTCGGTA-ACTCTAGGTGATGTCATCTCCTCAGCCACCAGCGGTCGGCATCAAGCAGAGGCCAGTGAGGGTGCCCTGCGCGCCTACGTCGGTGCAACCGC-TCATGTCACCG-GATCAGTAGGTCGT-CCGTCGGGTTACAT-CTTTGTGAATTCTTCAACCCCCAGGAGCTG-ACGACCTGTGGGCTTCCTGTCAGACTCCGGTGACCGGTCCGCGCCCCCTGCCGGCTCCTCTGTCGGACGCAACGGGGGATTCGGAACCCACGTAGTTGGGGACGTGTTTCGCGCAATGCCACCAGCACCTAGGAGGTCCTTTCGCAGTTCGTTAATCGCCCCTCGGTGCTGGCCTCCATTCCCGTAGCGTTAGACGGTCTCGTGCGGTACTTCACTCAGGATACCCCTGCATGACTGGTGGTGGTATCGACTTTGCCAGGGCACGGTTA-GCCTGC--AGGGCGTGC-GCGGCCGCAAGCATCCCATACGTGGGGCTCCCTAGCGTCCCTGCAGTGGGGCCTTGACAAGGTTGCGTGGGATAACTAAGACCTAACAGCTACTCCGCCTCGGGTTGTAGCAC-CGGGCAGGGGGAGGGACGGATGGCTTCCCG-CCCAGGTGCTCCCATTCGGTACGTGGAGTGGCATAT-GCTGCCTCGCCGCCTCGCAC-TCGCGCGGCTTTTGACGCTCACCTCAGTGCTCTTAGACTATACGAAG-GGGCAATATAGGTCCGTGGATGGACGCCGATCGCAGGCCGTCGGTAATCTATGCCCGTACGGCTCAGTCCCGGACGGAGATACGGCATCCCCGAGGGCCGGTCCCAGCTCTTGATAACCCCATGAAAAATTAGGCTTTCCTCACAAGTCTATCGGGGGCC-ATTGCCCGTTGGTTTTCGAGGCAACATTGG-GGTCCGCGTACGGAGCATTGTTCCCGGCGGGAAGCCCGGGCTTGCGGCTCCATGATGTACGGCTTTCGGCGAAGTGGCGCAGGTCAGCAGGCTCACTGATGAGCCCGCG-GAGGTGGCACAGGGTGAGAGCCCAGAGCTCT-TGAAGCTTTCCCGTTCTGCATG-CTTGCGGTGCCCGGTTCACGCCCTATGCGAAGCTTCGGCGGGTTATTCGTTTTAGGG-CGCCAGGCTCTCA-CGTCG-CCTACAGCACTACACTCGCATGGCTGCGCTCCAGCCAGAGTGGCTTACGACGCAACAGTATACCCGTCCGGCGGCCTCCAAGAACTCTGACGTATCGCCTCAGCGCCTACG-CAAGTCGCCCGCCGT-ATG-GGCGCGGTGAGCCGT-ACAGGTCCGGCC-CCAAGCAAGCGC-AACTCCGGTCTTCGACCCCACCGGCCCGGCGGGAAAAGTCGAACGAGTCAATACGGCACCTCCGGCCCGTTCAATCCGTGTT-CCGGACTAGCGCCGAGATTCTTGTTGCATGGC-GGCGAGAGCCCCAGAGCTAGAGGGGCGCCGCCAAAGGGAAGGGCGCGC-CTCAGCTTCTGTAGCACGACCTTCGATGTACGCGCTTTCCGCGGCAAAGTGGTTCCGACCTCATTAGTACCGGCGTGA-ATGGGGGC-CATAATCGCGGAGGGAGACCTGTCGCACCCGTGTGGTACTACCAAAGCCTTGTGCTAAAGCTTACGCGGTGGGTAAGGGAGACTGGCTACCCCCCGATGA-TCCCTTGCTCCCAACAGAACTC-ATCGGCTAGAAGGCGACTCCGCCATCAGCTCGTGCGGAATCGACGAAGT-CAGACGGGGGCTA-TCAACCGGCCTCTCATCGGCCAGCCACCC-TCATGCGTCGCGCAGGAGACGGACGCTGCGGCCAAGTTTCCGTTTATCGGAACCTGCTATCCAAATACTTCCGAGCG-GTGTGCCAGACCATGTGTCACATGCACCTTCCGATAACCGGCACTTCTCATAGTGCCCTGGACATTCACCTGTA-GTTGTCGCAG-G-AGCCTACCAGGGTT-AGG-CGGA-AGACATTTTCGTTCCTACACAAGACGATCTC-ATCTCGGATACGAGTAGACGTGCAATCCTAGCCTACCCCATGGCTCCCCTGACCTGACCTTAGGCGAGCCCCCATTGGAGCAGAAGGTCCGATTTCCCGTGATGTGCGATCGGGGTCCATCGCAGTTGCACTAGCTCACGATTACA-CGA-TTCTAACGACTGTAACCGTGGCGCACGCATGTCTCTAGGGTTCAGTAAGCGGCCGTCGGGGGCGAGGGTAAGCATTCCTC-ATAGACCTAAGGGGGCAGATTTCGCGAATGCAGGTTTCGAGCAGGAGACGGCAAAGAACTTACGCTTGGTTGG-ACAGGGGAGCGTCAACT-CCCGCCGCCGAGCACTCTCGAGGTCCAGATGGGGCCCCGATTGTCTAGTACGGGGCATCAAGCTCACACTTGAGTTTTGTTGATATGTCAGGCCTCG-AGGTTGCC-AGATTCACATCGACTGTCGTAGTGGGGGTCTAGCCGTAACGAGGGCTACTCAGGCCCAAACAACAAGCA-GCCCCTTACCATTACCCTACGGCCACGCTGAGGCCACACCGCCCTAAGCCATCTATACGAGCCCCGCTGGCCGAGGCCCCTCGTAATGCCCCCCTGTAAACATGGCTGC-TTCGCGGGGGGTTGGGAACGTGTTTGTAGTGTGTGTATTAAAGTCCTGGCCGACAGACGTCACCGCCCCCCGGGGC-ACCA-GCGACGGAACT-CTATAATTTGTACGAAGTGCTTGGGCTTCCAG-GCTCAATTACGTACGCGTGATCGGGCTCTCGCCTTGTTAATCCGAAAC-CGGGTCACCGGTTGAACCAAACCCTGAGAATGGCGGGGGTGGATACGATCCACGCAGCGACCGCCGTAGAA-AGACTCGCGCACCCCCGGCTTGGGGAGAGGGCGCCAGGCCTTGATA-GGTGACCGGTGTGGGTTTCCGGCGGGAGCTA-TCTTCTGGTGGCTCAGGTTGGTAAACTAACCGCGGCGCTAGCACAGGAAGTGACCACCCCGCCCACATGCGCGCTGACATGCGAAGTAATCCAA-CGGGCGCTCTACTCGGGCAAAGCGCAGTAACCGATAC-AATACCTTACGGCTGGCA-GGACGTCAGAGGAGCTATGGTACTGGAGCTGAGACAGGGGTGCGGACGC\n",
      "CTCGTCATGG-ACACATC-TGCTACGAGCC-GAGACTGTTGAAAGCCCGAGGAAGCGTGCCAG-ACCGA-GCGCA-G-AGCGACTTA-CTAG-CAGAGT-AGACGTGTCGCTTGAGCGTCCGCAGTACAGGGAAGTGG-ACGACGTCCTGAGGCCCTGAA-GTG-CGAAGGCCACTT-GACCCGGTACTCTAGCAAGAGCA-CGGG-CCTTCG-CGGTCGTCCAGGGTTGCGA--TAAGACG-CGCCCCAAGCCAGTCATCAG-CCGCGCTGTCTCTACACCGACCAGGCCTCTTCGGGGAAA-G-ACACAGCGCTATTGTGG-TTAGAACA-CATCAGAGGT-CC-AACCGAGCCTACCTCGCT-CTCCCACCGCC-CCACTTCATTCATGCGGCGGAACGGCGTACGCACATACCGCCAGGGAGAGTCACCTTATAGTTCACC--CGCAAGGCGCAGTGCCGC-TGATTCGCGTTGCGCCGGCCAGCCTCGGGAGTGACTAATCCGGTT-GCCGCG-GCCCGAGCGTAGCGCACGGCGATGTACGTT-CCGCGAGTACTC-CCGTGAGGA-GCGCTCATCTCGCTGGGGCCGCCTAGTCCCTAACCGCGCGCAATGTAGCATCCGTACGATGTGTTTCTGACCACCCTC-CGGGCGCTCCC-TCCTTT-CCGATCAGTGCGTCACTATTCGCTTAGACATG-GCCCGGCGCCCGCTTCTCCCCATCGGACCTAGCCCCTCTCGGAACCCGCCATGAGCGAAAGGCCGCTGGGCGGACCACAGCGGCAGATGCT-C-AGGC-CCGGAGCCACACCGTCCCAGCCCGG-CGCGACGG-ATGCAGC-CCCATTATCTTTCACGCA-TGG-TAGGA-ACCCAATATGTACTAAAAGT-CGC-G-GGCCGGT-AGGGGTAGGTGCGCGAAAGGCACAATCCTGTT-CGGGGACCTCCAGATAGTGC-TGCTGGAATGTGGTGTAGC-TGTGAACAGGGATCGCCCCTGGGACCCTATCCGGACTTGCGACCTCCCG-GGTGACTTACGCCGATCTCAGAA-CCG-CCGGCACGCGCGCTTGGTCAGACCGCACTACTGGCG-TGTTGGGGGGCC-AAGCAGAGGCAGCGTGAAGCTCCTCATGGCATTCG-CGGGCTGTGAGCGGAGAGTGCCTGCCGCGATGCTAGAGC-CT-GCG-AGGTAAAGGCCGCACACGGTAGGTGGGCCGGCGTTCAGACATCCGATGTGAGGG-GGCTGCATACGT-C-CCTAC-CATAGACGCA-ACAATGTGCCCATTAACAGTCCAATAGTCGCACCCCCGGGGTGCCATGTG-CTGAGACTGAGCAGG-AC-TC-TAG-ACCCTCC-GCAGGATTCCACGGTGCTCCAGATAGCGT-CCCGGCAGGACTGGGCCGGTC-C-AGGAGCGGTCACTTG-GG-GTCGTTCGAGTGCGATGTCCGA-AT-CCTA-GTTGAAAGTCCC-CGAATACCCATAAGCTAG-TGGGTGATCTAGCCGGCCAA-CGCTTGAGTTACGTTGCGCAAGCAATACAAGGCGCTGGGGCTCAT-TACTGCTTTCTTCGCCT-AGCAGACCACTGATCGTTGCC-GC-GGCCGGGTA-AACGCGCGGGGG-TTTCCGCATACCGGTGCAAAAGCCGCTGGGAGCCAGTATCTCCGCCGAGCCGTGCTCCAACCTCAGGCTCCTAGCTCGGC-AAAGCCGTGGGCTCCGATACATCCAATAC-CGCA-GCC-GTT-TGGATTGACCGG-TGCAG-TGGGGTGCGGAGGCGGCCCCGTTCCCCCCGCTTCACGGGGTAAGATACG-C-GCAGATAGGAGCT-CCATTTGGCGGTGATGCCTTTCGCTC-AAGCCGCCTGACGGAGATCTTAAACAGGA-TCGCGTGGTTCGCAAGGAG-CAGAGTGACTCGACCATTGGT-AGCCCCCGCGCTGCGCTCGGCCGGTAAGCAGCGAGGTCCCCATCCTTGCGCAAGGTGGATGGTATGCCATGGTTCCTCCAGGCAGAGGGCCCCTTCGTAGCGATTCCGCCTTGGCACT-GCGAACACGGGAA-CCCCA-GTCACTCGCCGGAAGGA-CTGTTGCGTCTGGACGGGAGG-TTT-CGCCGTCTACGAGCGCAATACGCCATTGTCAAGGGCACGG-AG-GGCGGTT-AGGCTTATCCCTCACGAGGACGAGA-GATTGCGGAA-AGTTGGTT-GAAGCAGGTATTGGCGTTGGGCCGCCG-GAGGCTTCCGCACGG-CGCAGTGACATCGATCGACCCAAGGCTCGCATCGAACCAATTCCGGGCCGGGTACGCACGAGAGGAGAGAAGCATGAAGCGCCATAGGTCCTACTCGCGGAGCGCTCGTGCAGTCATAGGGGTGGCTGGCCCCTCCCGGGGGCACGTTCTCGGATCAGCTCGGTGTTGTAAGAGCCTGCAGTTAGCGCCGATCATGTGTGCCTAAGACGGGAGATGGGCAGGCATTGATTAGGGTCGGCATTGCAATCCGAGTCGCCCACGGCCGGAACCGCCCTCCGAAAGCGAGGCTCCTAGGCACTTGCAGGCCTGCAGACTGCGGTAAGCAAATAAGGCTCGACTCTGTTGGGCCCAGGGCGTTCGGGGGTACACATTAAGCAGGAGGTCAGACTCACACATGTCCAAGATCAGGGTGCGTGCAATTATTGTTGGCGCGGCCTCTGACGGACCAAGCGTGTGAACTATTGTGGGCTAAGTCGGGGCCGGAGATTGCTCACTCCGCGGAGATATCCGTTGTTTCGAGGTCGTTCGGTATAGCGCGACGAGCATCCGGTGGATTAACCGCATTACGCGTTCTTTCTGCGTCCGCCGACACGGGTCAGTGCGCAACGACACCGGTAGCTTTCACATC-AATTCAGTGACCACCTATAGGCCTGCCTGGGCCGCCGGGCCCTGACGCACTCTGAGATCATCCGGGCGGTCCAGCCACGGGCTACCGCCGACGCGGTGAGT-TATCCCTGGCTTGCCAATGGTTTGACGGGAACGCTACACCTGCATCTCGTGACTCCCCCTCTTGCCGTCAGTGTCTAACCATGGGAAGGGGGGCTGG-GGTGGG-TGTAGCATAAGAATGGATCTAATGGCCCGCGCACTGGGGGTTCGAACAGT-GGACCGACGGGGGGGCCTCCGACGCGGATCCAGGGGCAGCCTTACCAGGGTATCGATTCCTGTACC-TTCTCGTTGTGCCAGCGATGCTTAAG-GACGACTTT-GCGATGACCCGGGGCT-ATGGTGATCGCAGTCGGTCACTCCTCCCACAGGAAAACAGTGAAGGCGCCTGCGGGGTTCGCCACGCCCTCACGCGCCATGACAACGGGGTTTTGTACTCTGACCCGCCGCGTCACGG-CCACCAGCCAGGCCAAAGGTCACCCCGAGCCTGGACTCACGCCCACAACCAATCC-GGGAAGCGGATCGTGTTCCTACGGTTCTGACGCCGCTCACGTGACGCCGT-GCACGATCCCTAT-TTTGGGCTCCC-GCTGCCACCCGGTTTGTCCTGTCCTTCGCTCCGTAAGTCGAGCACCTATGCTGTCGAGATGGCCCGCCCTTGAGGGTTACCAAGGGGCGTTTAGTTTTTTCCTGTAGGGGTAGCCCAGGGCTTGCCTCCTCCCAAAGCTAGATTCTTGCCCCAGGCAATTGCGGTGAGACCTGAAGCGTTCGTAGC-ATCCATCCTGCTCGAGTGGACT-CCGGCCCTCTGGCAACGGGACGCGCCTCCGCC-CTGGCACGCGGAATCCTCGACCGCCCAAGGCGGAGGCAGCGTGTTCGTGCCCCGGTTCCTCCGACATGCGCGCCACATACCCGCCGCCCGTGTCTTAGTATGAGGCGGGCGGAACCCCCTTATATGGCACCGCTTGGCAGTGCCCGATCTCACGGCGCCGGCCAGGGTCAAGTGGGCCGCGTGCGGCGGACGTTCCCCAAC-CCCCAGACCGTTTAGCGGTTTGAGCTACGTTATTGGGGAGTGCGACGAACCTCAGGCTGTGTATCAGATACCAACGTGCGCCCGGGATGAGATCGGAGGGGGGATAGGGTATGGATTGTCGGAGGCTTCTGACATGAGTCATGCTTACGACCGAACCTCTGCAGACG-TCCAGCGACGCCAATGACTACACTGGCCTGCGCGTCTGACTGGAACTCGGAGGCCCCCGCAATGCCCATTCAGGCGGTATAGCGTGTTCTGGCAGCTGTGATGGTGACCTCAACTGAGGCTCCTCAAGCAG-GGTTATTGAGTGCCTGTAGTGCCGGTTGTCGACCGCCTTAAACTCCTAGGCCTCCTTTCCCGAAGGGCTGCGACTCCACTCGGTACGGCATGTAGACACTGGGTATGGGGGACACCACCCGGCACTCTCGTAAGCGTTCGG-CTCGCCAGCATGGACTCATCGTG-AGCATCCG-TCAGGCTGAGGTGCACACCGGGGAGACAAGTAGCTTGGCTCGGATCACGAAGTTTTCCGTTCAAATGCGCCCGTAATGTCCGGAATTTGGGCACGAGCAGGGTGTCAAGATCGGTTGCCCA-GTGAGCCTGACCAGCGAATGTACGTCCAACCGTGGTTCCAAGCGCTTAATTCGACTCTCTCATCAAACCCGAGTACCGGCCGACAGGAGCGGTCAACTTTGCAACCTCTCCCGGTCGCCCCCGCCGGGTCGGTTG-TCCAATTCAACCCCTTCGGCGGGCGATGGGGAACTCTGAGCATCGAAGGCGGCATTCCGCATTTTACCGTTACTGCGA-CGGCCTGTGTCCAAAGCACCCACCCCTGCGGAGGCGCCTTACACAGATAAGGTGTGAGGGGACATTGCTGATCAACGACTGCATCTAGGTCGAGTAACCCGAAACATTGGGCGGGCGTCCGAGCGCCCTGCGAC-GCGGGTGGGTCTGGTCACCCACGTCCGTC-G-CTGCGGACCAGCAGACTTTGCGGTTGACCTGGTCGTTCGGGCTTGCCCGTGACGATGGAGGGTTCC-GCATGAA-G-GTATTCCGGGCAGATACAGCTGCCGGCGTAAGGGGGTGAAGGGGCACACTTGTCCACCCCAGCCCTGTGCACATACTCACCGGACCTTGGCCACCGAACAC-A-GCCCCC-CGTCATACCCCTATGTACCATCGAAGACGATGAGGGGTACTTAGACGTCCAGAGGCACCCACCTGTCGTGGAGAGCACGTGCTGCTGTCGGGACCACGCACCCGCAGGGAGCCGTGATTTCCACAAAAGTAA-GCGTAGCCCGGGCCTCTTCACAGGTGAACGTAGCTCGGCGCCCCCCGGATGTATGCTTAGGCGAAGGATCAGGTACAAGCACATTTGGAATTGTAACTAGGAGAAGGTGGCGTCGCC-CGCTCATCAAGGTTGTGG-TGACCCAGTCTAGCTATC-GTCTACGATGTATATTCTCGGCACGCTCTACATGAACACTGTGATGGTGAACCCAAAGGGTTGGCGCGGGACTAACTGGTGCTCCGTTTCCGCGTCGCCGTCAATTCGAGTCGGCATGGCAGGGACCAGAGAAGTCCGCCGGCCAGCGGAGCGATACCGCTCTTCCCAGCAGGAC-GCACGGTCGGATTGA-TTGGAAAAGGAC-TCTATAATCACACT-GTCGCGGGACCCGCTA-GCGCCGGGTCTTAGGATCGCTACGCCAGTAC-TAACATAGGGCCCGGCGTTATGACCGGTCGCAGACGAGCTCT-GGGGCAGGCGGGGTCGCAGGCAGCCAAATGCACAGCCATTGGGCTAGCAGGGGAAACCAAAAAGATGCCCCTCGATCTGGCGGTGCGCTAGCCACGCCCGATTCGAGATTAC-ACGGCCAGTAGCGGGAGTACCGACCTCGTCACGGGCTAGACGGCTGGC-GAAGGGTGCCTGGTCGGTTCGGCCAGCTTACCGGGCAGACCGGCAACCCGATCGCGCTAACCGGGGCCTGACCGCGAGCACGGTTCGC-ACGACGAGCAAAGGGAACTTCGCGCCGCGTCTCGTCGCATCAGAGCAGACGGCCGA-CTGGCACGCCCGCTGCGGACAGGTTTGCGCGGGCCACGCTAAGTAGTTAGGACTCATTTCGCGTAGGGGACGGGCG-TCGGTAGACTCTAGGTGATGTCATCTCCTCAGCCACCAGCGGTCGGCATCAAGCAGAGGCCAGTGAGGGTGCCCTGCGCGCCTACGTCGGTGCAACCGCGTCATGTCACCGCGATCAGTAGG-CGTGCCGTCGGGTTACATTCTTTGTGAATTCTTC-ACC-CCAGGAGCTGCACGACCTGTGGGCTTCCTGTCAGACTCCGGTGACCGGTCCGCGCCCCCTGCCGGCTCCTCTGTCGGACG-AACGGGGGATTCGGAACCCACGTAGTTGGGGACGTGTTTCGCGCAATGCCACCAGCACCTAGGAGGTCCTTTCGAAGTTCGTTAATCGCCCCTCGGTGCTGGCCTCCATTCCCGTAGCGTTAGACGGTCTCGTGCGGTACGTCACTCAGGATACCCCTGCATGACTGGTGGTGGTATCGACTTGGCCAGGGCACGG-TAAGCCTGCGTAGGGCGTGCCGCGGCCGCAAGCATCCCATACGTGGGGCTCCCTAGCGTCCCTGCAGTGGGGCCTTGACAAGGTTGCGTGGGATAACTAAGACCTAACAGCTACTCCGCCTCGGGTTGTAGCACACGGGCAGGGGGAGGGACGGATGGC-TCCCGCCCCAGGTGCTCCCATTCGGTACGTGGAGTGGCATATCGCTGCCTCGCCGCCTCGCACATCGCGCGGCTTTTGACGCTCACCTCAGTGCCCTTA-ACTATACGAAGGGGGCAATATAGGTCCGTGGATGGACGCCGATCGCAGGCCGTCGGTAATCTATGCCCGTACGGCTCAGGCCCGGACGGAGATAC-GCCTCCCCGAGGGCCGGTCCCAGCTCTTGATAACCCCATGAAAAATTAGGCTTTCCTCACAAGTCTATCGGGGGCCCATTGCCCGTTGGTTTTCGAGGCAACATTGGTGGTCCGCGTACGGAGCATTGTTCCCGGCGGGAAGCCCGGGCTTGCGGCTCCATGATGTACGGCTTTCGGCGAAGTGGCGCAGGTCAGCAGGCTCACTGATGAGCCCGCGGGAGGTGACACAGGGTGAGAGCCCAGAGCTCTGTGAAGCTTTCCCGTTCTGCATGCCTTGCGGTGCCCGGTTCACGCCCTA-GCGAAGCTTCGACGGGATATTCGTTTTAGGGGCGCCAGGCTCTCAACGTC-ACCTACAGCACTACACTCGCATGGCTGCGCTCCAGCCAGAGTGGCTTACGACGCAACAGTATACCCGTCCGGCGGCCTCCAAGAACTCTGACGTATCGCCTCAGCGCCTACG-CAAGTTGCCCGCCGTTATGAGGCGCGGTGAGCCGTCACAGGTCCGGCCCCCAAGCAAGCGCGGACTCCGGTCTTCGACCCC-CCGGCCCGGCGGGAAAAGTCGAACGAGTCAATACGGCACCTCCGGCCCGTTCAATCCGTGTTCCCGGACTAGCGCCGAGATTCTTGTTGCATGGCGGGCGAGAGCCCCAGAGCTAGAGGGGCGCCGCCAAAGGG-A-G-CGCGCGCTCAGCTTCTGTAGCACGACCTTCGATGTACGCGCTTTCCGCGGCAAAGTGGTTCCGACCTCATTAGTACCGGCGTGACATGGGGGCACATAATCGCGGAGGGAGACCTGTCGCACCCGTGTGGTACTACCAAAGCCTTGTGCTAAAGCTTACGCGGTGGGTAAGGGAGACTGGCTACCCCCCGATGACTCCCTTGCTCCCAACAGAACTCGATCGGCTAGAAGGCGACTCCGCCATCAGCTCGTGCGGAATCGACGAAGT-CAGACGGGGGCTAGTCAACCGGCCTCTCATCGGCCAGCCACCCGTCATGCGTCGCGCAGGAGACGGACGCTGCGGCCAAGTTTCCGTTT-TCGGAACCTGCTATCCAAATACTTCCGAGCGAGTGTGCCAGACCATGTGTCACATGCACCTTCCGATAACCGGCACTTCTCATAGTGCCCTGGACATTCACCTGTAGGTTGTCGCAGAGTAGCCTACCAGGGTTAAGGCCGGACAGACATTTTCGTTCCTACACAAGACGATCTCTATCTCGGATACGAGTAGACGTGCAATCCTAGCCTACCCCA-GGCTCCCCTGACCTGACCTTAGGCGAGCCCC-ATTGGGGCAGAAGGTCCGATTTCCCGTGATGTGCGATCGGGGTCCATCGCAGTTGCA-TAGCTCACGATTACACCGATTTCTA-CGACTGTAACCGTGGCGCACGCATGTCTCTAGGGTTCAGTAAGCGGCCGTCGGGGGCGAGGGTAAGCATTCCTCAATAGACCTAAGGGGGCAGATTTCGCGAATGCAGGTTTCGAGCAGGAGACGGCAAAGAACTTACGCT-G-TTGGTACAGGGGAGCGTCAACTTCCCGCCGCCGAGCACTCTCGAGG-CCAGATGGGGCCCCGATTGTCTAGTACGGGGGACCAAGCTCACACTTGAGTTTTGTTGAT-TGTCAGGCCTGGGAGGTTGCCTAGATTCACATCGACTGTCGTAGTGGGGGTCTAGCCGTAACGAGGGCTACTCAGGCCCAAACAACAAGCACGCCCCTTACCATTACCCTACGGCCACGCTGAGGCCACACCGCCCTAAGCCATCTATACGAGCCCCG-TGACCGAGGCCCCTCGTAATGCCCCCCTGTAAACATGGCTGCGTTCGCGGGGGGTTGGGAACGTG-TTGTAGTGTGTGTATTAAAGTCCTGGCCGACAGACGT-ACC-CCCCCCGGGGCAACCATGCGACGGAACTCCTATAATTTGTACGAAGTGCTTGGGCTTCCAGGGCTCAATTACGTACGCGTG-TCGGGCTCTCGCCTTGTTAATCCGAAACCCGGGTCACCGGTTGA-CCAAACCCTGAGAATGGCGGGGGTGGATACGATC-ACGCAGCGACCGCCGTAGGACAGACTCGCGCACCCCCGGCTTGGGGAGAGGGCGCCAGGCCTTGATAAGGTGACCGGTGTGGGTTTCCGGCGGGAGCTAATCTTCTGGTGGCTCAGGTTGGTAAACTAACCGCGGCGCTAGCACAGGAAGTGACCACC-CGCCCACATGCGCGCTGAC-TGCGAAGTAA-C-AACCGGGC-CTCTACTCGGGCAAAGCGCAGTAACCGATACGAATACCTTACGGCTGGCATGGACGTCAGAGGAGCTATGGTACTGGAGCTGAGACAGGGGTG-GCACGCGCGTGGTGGATGCCGGCTGCGGCTCACCCC--GCCGTACGCGACCAATTGGTTGATAGGTCTTGT-GATGCAGTGCGGCGGCCCAAGTGTCACAGGGCCGACGCATCACTCAGATCTTTTCCTGTCTGGGCGTTCCAGC-CGCGTCGCGGAAGGGGGCCAACCGTTTACCAGCGCCTT-GCCAGTCCATTACGCGACATGTTGGCGGGCCGGGGTCGACCCGGGGTAACTCAACACGGAACATTCT-GGGCGTAGTCGCGGCCGTACCCTATTTGCCCAGGAGTAGCGGAATGTCGTTAAGGCAGTGAACCTGGGCACTGGCGTGCTCTA\n",
      "GCGCGGGG-GTTTCCGCATACCGGTGCAAAAGCCGCTGTGAGCCAGTCTCTCCGCCGAGCCGTGCTCCAACCTCAGGCTCCTAGCTCGGCAAAAGCCGTGGGCTCCGATACATCCAATACACGCACGCCCGTTGTGGTTTGACCGGTTGCAGATGGGGTGCGGAGGC-GCCCCGTTCCCCCCGCTT-ACGGGGTAAGATACGACGGCAGATAGCAGCTACCATTTGGCGGTGATGCCTTTCGCTCTAAGCCGCCTGACGGAGATCTTAAACAGGAGTCGCGTGGCTCGCAAGGAGGCAGAGTGACTCGACCATTGGTCAGC-CCCGCGCTGCGCTCGGCCGGTAAGCAGCGAGG-CCCCATCCTTGCGCAAGGTGGATGGTATGCCATGGTTCCTCCAGG-AGAGGGCCCCTTCGTAGCGATTCCGCCTTGGCACTTGCGAACACGGGAAACCCCAAGTCACTCGCGGGAAGGATCTGTTGCGTCTGGACGGGAGGATTTACGCCGTCTACGAGCGCAATACGCCATTGTCAAGGGCACGGGAGAGGCGGTTAAGGCTTATCCCTCACGAGGACGAGACGATTGCGGACCAGTTGGTTAGAAGCAGGTATTGGCGGTGGGCCGCCGCGAGGCTTCCGCACG-TCGCAGTGACATCGATCGACCCAAGGCTCGCATCGAACCAATTCCGGGCCGGGTACGCACGAGAGGAGAGAAGCATGAAGCGCCATAGGTCCTACTCGCGGAGCGCTCGT-CAGTCATAGG-GTGGCTGGCCCCTCCCGGGGGCACGTTCTCGGATCAGCTCGGTGTTGTAAGAGCCTGCAGTTAGCG-CGATCATGTGTGCCTAAGACGGGAGATGGGCAGGCATTGATTAGGGTCGGCATTGCAATCCGAGTCGCCCACGGCCGGAACCGCCCTCCGAAAGCGAGGCTCCTAGGCACTTGCAGGCCTGCAGACTGCGGTAAGCAAATAAGGCTCGACTCTGTTGGGCCCAGGGCGTTCGGGGGTACACATTAAGCAGGAGGTCAGACTCACACATGT-CAAGATCAGGGTGCGTGCAATTATTGTTGGCGCGGCCTCTGACGGACCAAGCGTGTG-ACTATTGT-GGCTAAGTCGGGGCCGGAGATTGCTCACTCCGCGGAGATATCCGTTGTTTCGAGGTCGTTCGGTATAGCGCGACGAG-ATCCGGTGGATTAACCGCATTACGCGTTCTTTCTGCGTCCGCCGACACGGGTCAGTGCGCAACGACACCGGTAGCTTTCACATCGAATTCAGTGACCACCTATAGGCCTGCCTGGGCCGCCGGGCCCTGACGCACTCTGAGATCATCCGGGCGGTCCAGCCACGGGCTACCGCCGACGCGGTGAGTCTATCCCTGGCTTGCCAATGGTTTGACGGGAACGCTACACCTGCATCTCGTGACTCCCCCTCTTGCCGTCAGTGT-T--CCATGGGAAGGGGGGCTGGCGGTAGGTTGTAGCATAAGAATGGATCTAATGGCCCGCGCACTGGGGGTTCGAACAGTGGGACCGACGGGGGGGCCTCCGACGCGGATCCAGGGGCAGCCTTACCAGGGTATCGATTC-TGTACCCTTCTCGTTGTGCCAGCGATGCTTAAGCGACGACTTTGGCGATGACCCGGGGCTGATGGTGATCGCAGTCG-TCACTCCTCCCACAGGAAAACAGTGAAGGCGCCTGCGGGGTTCGCCACGCCCTCAC-CGCCATTACAACGGGGTTTTGTACTCTGACCCGCCGCGTCACGGTCCACCAGCCAGGCCAAAGGTCACCCCGAGCCTGGACTCACGCCCACAACCAATCCGGGGAAGCGGATCGTGTTCCTACGGTTCTGACGCCGTTCACGTGACGCCGTTGCACGATCCCTATTTTTGGGCTCCCGGCTGCCACCCGGTTTGTCCTGTCCTTCGCTCCG-AAGTCGAGCACCTATGCTGTCGAGATGGCCCGCCCTTGAGGGTTACCAAGGGGCGTTTAGTTTTTTCCTGTAGGGGTAGCCCAGGGCTTGCCTCCTCCCAAAGCTAGATTCTTGCCCCAGGCAATTGCGGTGAGACCTGAAGCGTTCGTAGC-ATCCATCCTGCTCGAGTGGACTGCCGGCCCTCTGGCAACGGGACGCGCCTCCGCCCC-GGCACGCGGAATCCTCGACCGCCCAAGGCGGAGGCAGCGT-TTCGTGCCCCGGTTCCTCCGACATGCGCGCCACATACCCGCCGCCCGTGTCTTAGTATGAGGCGGGCGGAA-CCCCTTATATGGCACCGCTTGGCAGTGCCCGATCTCACGGCGCCGGCCAGGGTCAAGTGGGCCGCGTGCGGCGGACGTTCCCCAACACCCCAGACCGTTTAGCGGTTTGAGCTACGTTATTGGGGAGTGCGACGAACCTCAGGCTGTGTATCAGATACCAACGTGCGCCCG-GATGAGATCGGAGGG-GGATAGGGTA-GGATTGTCGGAGGCTTCTGACATGAGTCATGCTTACGACCGAACCTCTGCAGACGGTCCAGCGACGCCAATGACTACACTGGCCTGCGCGTCTGACTGGAACTCGGAGGCCCCCGCAATGCCCATTCAGGCGGTA-AGCGTGTTCTGGCAGCTGTGATGGTG-CCTCAACTGAGGCTCCTCAAGCTGAGGTTATTGAGTGCC-GTAGTGCCGGTTGTCGACCGCCTTAAAC-CCTAGGCCTCCTTTCCCGAAGGGCTGCGACTCCACTCGGTACGGCATGTAGACACTGGGTATGGGGGACACCACCCGGCACTCTCGTAAGCGTTCGG-CTC-CCAGCATGGACTCATCGT-AAGCATCC-TTCAGG-TGAGGTGCACACCGGGGAGACAAGTAGCTTGGCTCGGATCACGAAGTTTTCCGTTCAAATGCGCCCGTAATGTCCGGAATTTGGG-ACGAGCAGGGTGTCAAGATCGGTTGCCCAAGTGAGCCTGACCAGCGAATGTA-GTCCAACCGTG-TTCCAAGCGCTTAATTCGACTCTCTCATCAAACCCGAGTACCGGCCGACAGGAGCGG-CAACTTTGCAACCTCTCCCGGTCGCCCCCGCCGGGTCGGTTGATCCAATTCAACCCCTTCGGCGGGCGATGGGGAACTCTGAGCATCGAAGGCGGCATTCCGCATTTTACCGTTACTGCGATCGGCCTGTGTCCAAAGCACCCACCCCTGCGGAGGCGCCTTACACAG-TAAGGTGTGAGGGGACATTGCTAATCAACGA-TGCATCTAGGTC-AGTAACCCGAAACATTGGGCGGGCGTC-GAGCGCCCTGCGACGGCGGGTGGGTCTGGTCCCCCACGTCCGTCTGCCTGCGGACCAGCAGACTTTGCGGTTGACCTGGTCGTTCGGGCTTGCCCGTGACGATGGAGG-TTCCAGCATGAACCCGTATTCCGGGCAGATACAGCTGTCGGCGTAAGGGGGTGAAGGGGCACACTTGTCC-CCCCAGCCCTGTGCACATACTCACC-GACCTTGGCCACCGAACACCACGCCCCCGCGTCATACCCCTATGTACCATCGAAGACGATGAGGGGT--TTAGACGTCCAGAGGCACCCAC-TGTCGTGGAGAGCACGTGCTGCTGTCGGGACCACGCACCCGCAGGGAGCCGTGATTTCCACAAAAGTAATGCGTAGCCCGGGCCTCTTCACAGGTGAACGTAGCTCGGCGCCCCCCGGATGTATGCTTAGGCGAAGGATCAGGTACA-GCACATTTGGAATTGTAACTAGGAGAAGGTGGCGTCGCCTCGCT-ATCAAGGTTGTGGGTGACCCAGTCTAGCTATCCGTCTACGATGTATATTCTCGGCACGCTCTACATGAACACTGTGATGGTGAACCCAAAGGGTTGGCGCGGGACTAACTGGTGCTCCGTTTCCGCGTCGCCGTCAATTCGAGTCGGCATGGCAGGGACCAGAGAAGTCCGCCGGCCAGCGGAGCGATACCGCTCTTCCCAGCAGGACAGGACGGTCGGATTGACTTGGAAAAGGACATCTATAATCACACTCGTCGCGGGACCCGCTAGGCGCCGGGTCTT-GGATCGCTACGCCAGTACCTAACATAGGGC-CGGCGTTATGACCGGTCGCAGACGAGCTCTCGGGGCAGGCGGGGTCGCAGGCAGCCAAATGCACAG-CATTGGGC-AGCAGGGGAAACCAAAAAGACGCCCCTCGATCTGGCGGTGCGCTAGCCACGCCCGATTCGAGATTACCACGGCCAGTAGCGGGAGTACCGACCTCGTCACGGGCTAGACGGCTGGCTGAA-GGTGCCTGGTCGGTTCGGCCAGCTTACCGGGCAG-CCGGCAACCCGATCGCGCTAACCGGGGCCTGACCGC-AGCACGGTTCGCTACGACGAGCAAAGGGAACTTCGCGCCGCGTCTCGTCGCATCAGAGCAGACGGCCGAGCTGGCACGCCCGCTGCGGACAGGTTTGCGCGGGCCACGCTAAGTAGTTAGGACTCATGTCGCGTAGGGGACGGGCGCTCGGTAGACTCTAGGTGATGTCATCTCCTC-GCCACCAGCGGTCGGCATCAAGCAGAGGCCAGTGAGGGTGCCCTGCGCGCCTACGTCGGTGCAACC-CGTCATGTCACCGCGA-CAGTAGGTCGTGCCGTCGGGTTACATTCTTTGTGAATTCTTCAACCCCAAGGAGCT-CACGACCTGTGGGCTTCCTGTCAGACTCCGGTGTCCGGTCCGCGCCCCCTGCCGGCTCCTCTGTCGGACGCAACGGGGGATTCGGAACCCACGTAG-TGGGGACGTGTTTCGCGCAATGCCACCAGCACCTAGGAGGTCCTTTCGA-GTTCGTTAATCGCCCCTCGGTGCTGGCCTCCATTCCCGTAGCGTTAGACGGTCTCGT-CG-TACGTCACTCAGGATACCCCTGCATGACTGGTGG-GGTA-CGACTTGGCCAGGGCACGGTTAAGCCTGCGTAGGGCGTGCCGCGGCC-CAAGCATCCC-TACGTGGGGCTCCCTAGCGTCCCTGCAGTGGGGCCTTGA-AAGGTTGCGTGGGATAACTAAGACCTAACAGCTACTCCGCCTCGGGTTGTAGCACACGGGCAGGGGGAGGGACGGATGGCTTCCCGCCCCAGGTGCTCC-ATTCGGTACGTGGAGTGGCATATCGCTGCCTCGCCGCCTCGCACATCGCGCGGCTTTTGACGCTCACCTCAGTGCCCTTAGACTATACGAAGG-GGCAATATAGGTCCGTGGATGGACGCCGATCGCAGGCCGTCGGTAATCTATGCCCGTACGGCTCAGGCCCGGACGGAGAGACGGCATCCCCGAGGGCCGGTCCCAGCTCT-GATAACCCCATGAAAAATTAGGCTTTCCTCACAAGTCTATCGG-GGCCCTTTGCCCGTTGGTTTTCGAGGCAACATTGGTGGTCCGCGTACGGAGCATTGTTCCCGGCGGGA-GCCCGGG-TTGCGGCTCCATGATGTACGGCTTTCGGCGAAGTGGCGCAGGTCAGCAGGCTCACTGATGAGCCCGCGGGAGGTGACACAGGGTGAGAGCCCAGAGCTCTGTGTAGCTTTCCCGTTCTGCATGCC-TGCGGTGCCCGGTTCACGCCCTATGCGAAGCTTCGACGGGATATTCGTTTTAGGGGCGCCAGGCTCTCAACGTCGACCTACAGCACTACACTCGCATGGCTGCGCTCCAGCCAGAGTGGCTTACGACGCAACAGTATACCCGTCCGGCGGCCTCCAAGA-CTCTGACGTATCGCCTCAGCGCCTACGTCAAGTCGCCCGCCGTTATGAGGCGCGGTGAGCCGTCACAGGTCCGGCCCCCAAGCAAGCGCGGACTCCGGTCTTCGACCCC-CCGGCC-GGCGGGAAAAGTCGAACGAGTCAATACGGCACCTCCGGCCCGTTCAATCCGTGTTCCCGGACTAGCGCCGAGATTCTTGTTGCATGGCGGGCGAGAGCCCCAGAGCTAGAGGGGCGCCGCCAAAGGGAAGGGCGCGCGCTCAGCTTCTGTAGCACGACCTTCGATGTACGCGCTTTCCGCGGCAAAGTGGTTCCGACCTCATTAGTAC-GGCGTGACATGGGGGCACATAATCGCGGAGGGAGACCTGTCGCACCCGTGTGGTACTACCAAAGCCTTGTGCTAAAGCTTACGCGGTGGGTAAGGGAGACTGGCTACCCCCCGATGACTCCCTTGCTCCCAACAGAACTCG-TCGGCTA-AAGGCGATTCCGCCATCAGCTCGTGCGGAATCGACGAAGTTCAGACGGGGGCTAGTCAACCGGCCTCTCATCGGCCAGCCACCCGTCATGCGTCGCGCAGGAGACGGAC-CTGCGGC-AAGTTT-CGTTTATCGGAACCTGCTATCCAAATACTTCCG-GCGAGTGTGCCAGACCATGTGTCACATGCACCTTCCGATAACCGGCACTTCTCATAGTGCCCTGGACATTCACCTGTAGGTTGTCGCAGAGTAGCCTACCAGGGTTAAGGCCGGACAGACATTTTCGTTC-TACACAAGACGATCTCTATCTCGGA-ACGAGTAGACGTGCAATCCTAGCCTACCCCATGGCTCCCCTGACCTGACCTTAGGCGAGCCCCCATTGGAGCAGAAGGTCCGATTTCCCGTGATGTGCGATCGGGGT-CATCGCAGTTGCACTAGCTCACGATTACACTGATTTCTAACGACTGTAACCGTGG-GCACGCATGTCTCTAGGGTTCAGTAAGCGGCCGTCGGGGGCGAGGGTAAGCATTCC-CA-TAGACCTAAGGGGGCAGATTTCGCGAATGCAGG-TTCGAGCAGGAGACGGCAAAGAACTTACGCTTGGTTGGTACAGGGGAGC-TCAACTTCCCGCCGCCGAGCACTCTCG-GGTCCAGATGGGGCCCCGATTGTCT-GTACGGGGGACCAAGCTCAC-CTTGAGTTTTGTTGATATGTCAGGCCTGGGAGGTTGCCTAGATTCACATCGACTGTCGTAGTGGGGGTCTAGCCGTAACGAGGGCTAC-CAGGCCCAAACAACAAGCACGCCCCTTACCATTACCCTACGGCCACGCTGAGGCCACACCGCCCTAAGCCATCTATACGAGCCCCGCTGGCCGAGGCCCCTCGTAATGCCCCCCTGTAAACATGGCTGCGTTCGCGGGGGGTTGGGAACGTGTTTGTAGTGTGTGTATTAAAGTCCTGGCCGACAGACGTCACCGCCCCCTGGG\n",
      "GCAAGCAATACAAGGCGCTGGGGCTCATGTACTGCTTTCTTCGCCTGAGC\n",
      "CTCGTCATGGTACACATCCTGCTACGAGCCATAGACTGTTGAAAGCCCGAGGAAGCGTGCCAGGCCCGATGCGCAGGGAGCGACTTAGCTAGGCAGAGTGAGACGTGTCGCTTGAGCGTCCGCAGTACA-GGAAGTGGCACGACGTCCTGAGGCCCTGAACGTGGCGTAGGCCACTTTGACCCGGTACTCTAGCAAGAGCAACGGGACCTTCGACGGTCGTCCAGGGTTGCGACGTAAGACGGCGCCCCAAGCCAGTCATCAGCCCGCGCTGTCTATACACCGACCAGGCCTCTCCGGGGAAATGCACACAGCGCTATTGTGCTTTAGAACAACATCAGAGGTCCCTAACCGAGCCTACCTCGCTGCTCCCACCGCCACCACTTCATTCATGCGGCGGAACGGCGTACGCACATACCGCCAGGGAGAGTCACCTTATAGTTCACC-GCGCAAGGCGCAGTGCCGCGTGATTCGCGTTGCGCCGGCCAGCCTCGGCAGTGACTAATCCGGTTGGCCGCGAGCCCGAGCGTAGCGCACGGCGATGTACGTTCCCGCGAGTACTCTCCGTGAGGACGCGCTCATCTCGCTGGGGCCGCCTAGTCC-TAACC-CGCGCAATGTAGCATCCGTACGATGTGTTTCTGACCACCCTCGCGGGGGCTCCCGTCCTTTCCCGATCAG-GCGTCAC-ATTCGCTTAGACATGAGCCCGGCGCCCGCTTCTCCCCATCGGACCTAGCCCCTCTCGGAACCCGCCATGAGCGAAAGGCCGCTGG-CGGACCACAGCGGCAGAAGCTACGAGGCGCCGGAGCCACACCGTCCCAGCCCGGTCGCGACGGGATGCAGCACCCATTATCTTTCACGCAGTGGTTAGGATACCCACTATGTACTAAAAGTCCGCCGGGGCCGGTAAGGGGTAGGTGCGCGAAAGGCACAATCCTGTTGCGGGGACCTCCAGATAGTGCTTGCTGGAATGTGGTGTAGCTTGTGAACAGGGAACGCCCCTGGGACCCTATCCGGACGTGCGACCTCCCGGGGTGACTTACTCCGATCTCAGAAGCCGCCCGGCACGCGCGCTTGGTCAGACCGCACTACTGGCGCCGTTGGGGGGCCTAAGCAGAGGCAGCGTGAAGCTCCTCATGGCATTCGACGGGCTGTGAGCGGAGAGTGCCTGCCGCGATGCTAGAGCTCTCGCGGAGGTAAAGGCCGCACACGGTAGGTGGGCCGGCGTTCACACATCCGATGTGAGGGGGGCTGCATACGTACCCCGACGCATAGACGCAAACAATGTGCCCATTAACAGTCCAATAGTCGCACCCCCGGGGTGCCATGTGGCTGAGACTGAGCAGGGTCCTCCTAGCACCCTCCCGGAGGATTCCACGGTGCGCCAGATAGCGTTCCCGGCAGGACTGGGCCGGTCGCCAGGAGCGGTCACTTGCGGAGTCGTTCGAGTGCGATGTCCG-GATACCTATGTTGAAAGTCCCTCGAATACCCATAAGCTAGGTGGGTGATCTAGCCGGCCAAGCGCTTGAGTTACGTTGCGCAAGCAATACAAGGCGCTGGGGCTCATGTACTGCTTTCTTCGCCTGAGCAGACCACTGATCGTTGCCAGCTGGCCGGGTAGAACGCGCGGGGGGTTTCCGCATACCGGTGCAAAAGCCGCTGTGAGCCAGTCTCTCCGCCGAGCCGTGCTCCAACCTCAGGCTCCTAGCTCGGCAAAAGCCGTGGGCTCCGATACATCCAATACACGCACGCCCGTTGTGGTTTGACCGGTTGCAGATGGGGTGCGGAGGCGGCCCCGTTCCCCCCGCTTCACGGGGTAAGA-ACGACGGCAGATAGCAGCTACCATT-GGCGGTGATGCCTTTCGCTCTAAGCCGCCTGACGGAGATCTTAAACAGGAGTCGCGTGGCTCGCAAGGAGGCAGAGTGACTCGACCATTGGTCAGCCCCCGCGCTGCGCTCGGCCGGTAAGCAGCGAGGTCCCCATCCTTGCGCAAGGTGGATGGTATGCCATGGTTCCTCCAGGCAGAGGGCCCCTTCGTAGCGATTCCGCCTTGGCACTTGCGAACACGGGAAACCCCAAGTCACTCGCGGGAAGGATCTGTTGCGTCTGGACGGGAGGATTTACGCCGTCTACGAGCGCAATTCGCCATTGTCAAGGGCACGGGAGAGGCGGTTAAGGCTTATCCCTCACGAGGACGAGACGATTGCGGACCAGTTGGTTAGAAGCAGGTATTGGCGGTGGGCCGCCGCGAGGCTT-CGCACGGTCGCAGTGACATCGATCGACCCAAGGCTCGCATCGAACCAATTCCGGGCCGGGTACGCACGAGAGGAGAGAAGCATGAAGCGCCATAGGTCCTACTCGCGGAGCGCTC-TGCAGTCATAGGGGTGGCTGGCCCCTCCCGGGGGCACGTTCTCGGATCAGCTCGGTGTTGTAAGAGCCTGCAGTTAGCGCCGATCATGTGTGCCTAAGACGGGAGATGGGCAGGCATTG-TTAGGGTCGGCATTGCAATCCGAGTCGCCCACGGCCGGAACCGCCCTCCGAAAG-GAGGCTCCTAGGCACTTGCAGGCCTGCA-ACTGCGGTAAGCAAATAAGGCTCGACTCTGTTGGGCCCAGGGCGTTCGGGGGTACACATTAAGCAGGAGGTCAGACTCACACATGTCCAAGATCAGGGTGCGTGCAATTATTGTTGGCGCGGCCTCTGACGGACCAAGCGTGTGAACTATTGTGGGCTAAGT-GGGGCCGGAGATTGCTCACTCCGC-GAGATATCCGTTGTTTCGAGGTCGTTCGGTATAGCGCGACGAGCATCCGGTGGATTAACCGCATTACGCGTTCTTTCTGCGTCCGCCGACACGGGTCAGTGCGCAACGACACCGGTAGCTTTCACATCGAATTCAGTGACCACC-ATAGGCC-GCCTGGGCCGCCGGGCCCTGACGCACTCTGAGATCATCC-GGCGGTC-AGCCACGGGCTACCGCCGACGCGGTGAGTCTATCCCTGGCTTGCC-A-GGTTTGAAGGGAACGCTACACCTGCATCTCGTGACTCC-CCTCTTGCCGTCAGTGTCTAACCATGGGAAGGGGGGCTGGCGGTGGGTTGTAGCATAAGAATGGATCTAATGG-CCGCGCACTGGGGGTTCGAACAGTGGGACCGACGGGGGGGCCTCCGACGCGGATCCAGGGGCAGCCTTACCAGGGTATCGATTCCTGTACCCTTCTCG-TGTGCCAGCGATGCTTAAGCGACGACTTTGGCGATGACCCGGGGCTGATGGTGATCGCAGTCGGTCACTCCTCCCACAGGAAAACAGTGAAGGCGCCTGCGGGGTTCGCCACGCCCTCACCCGCCA-TACAACGGGGTTTTGTACTCTGACCCGCCGCGTCACGGTCCACCAGCCAGGCCAAAGGTCACCCCGAGCC-GG-CTCACGCCCACAACCAATCCGGGGAAGCGGATCGTGTTCCTACGGTTCTGACGCCGCTCACGTGACGCCGTTGCACGATCCCTATTTTTGGGCTCCCGGCTGCCACCCGGTTTGTCCTGTCCTTCGCTCCCTAAGTCGAGCACCTATGCTGTCGAGATGGCCCGCCCTTGAGGGTTACCAAGGGGCGTTTAGTTTTTTCCTGTAGGGGTA-CCCAGGGCTTGCCTCCTCCCAAAGCTAGATTCTTGCCCCAGGCAATTGCGGTGAGACCTGAAGCGTTCGTAGCCATCCATCC-GCTCGAGTGGACTGCCGGCCCTCTGGCAACGGGACGCGCCTCCGCCCCTGGCACGCGGAATCCTCGACCGCCCAAGGCGGAGGCAGCGTGTTCGTGCCCCGGTTCCTCCGACATGCGCGCCACATACCCGCCGCCCGTGTCTTAGTATGAGGCGGGCGGAACCC-CTTATATGGCACCGCTTAGCAGTGCCCGATCTCACGGCGCCGGCCAGGGTCAAGTGGGCCGCGTGCGGCGGACGTTCCCCAACACCCCAGACCGTTTAGCGGTTTGAGCTACGTTATTGGGGAGTGCGACGAACC-CAGGCTGTGTATCAGATACCAACGTGCGCCC-GGATGAGATCGGAGGGGGGATAGGGTATGGATTGTCGGAGGCTTCTGACATGAGTCATGCTTACGACCGAACCTCTGCAGACGGTCCAGCGACGCCAATGACTACACTGGCCTGCGCGTCTGACTGGAACTCGGAGGCCCCCGCAATGCGCATTCAGGCGGTATAGCGTGTTCTGGCAGCTGTGATGGTGACCTCAACTGAGGCTCCTC-AGCAGAGGTTATTGAGTGCCTGTAGTGCCGGTTGTCGACCGCCTTAAACTCCTAGGCCTCCTTTCCCGAAGG-CTGCGACTCCACTCGGTACGGCATGTAGACACTGGGTATGGGGGACACCACCC-GCACTCTCGTAAGCGTTCGGCCTCGCCAGCATGGACTCATCGTGAAGCATCCGTTCAGGCTGAGGTGCACACCGGGGAGACAAGTAGCTTGGCTCGGATCACGAAGTTTTCCGTTCAAATGCGCCCGTAATTTCCGGAATTTGGGCACGAGCAGGGTGTCAAGATCGGTTGCCCAAGTGAGCCTGACCAGCGAATGTACGTCCAACCGTGGTTCCAAGCGCTTAATTCGACTCTCTCATCAAACCCGAGTACCGGCCGACAGGAGCGGTCAACTTTGCAACCTCTCCCGGTCG-CCCCGCCGGGTCGGTTGATCCAATTCAACCCCTTCGGCGGGCGATGGGGAACTCTGAGCATCGAAGGCGGCATTCCGCATTTTACCGTTAC-GCGATCGGCCTGTGTCCAAAGCACCCACCCCTGCGGAGGCGCCTTACACAGATAAGGTGTGAGGGGACATTGCTAATCAACGACTGCATCTAGGTCGAGTAACCCGAAACATTGGGCGGGCGTC-GAGCGCCCTGCGACGGCGGGTGGGTCTGGTCCCCCACGTCCGTCTGCCTGCGGACCAGCAGACTTTGCGGTTGACCTGGTCGTTCGGGCTTGCCCGTGACGATGGAGGGTTCCAGCATGAACGCGTATTCCGGGCAGATACAGCTGCCGGCGTAAGGGGGTGAAGGGGCACTCTTGTCCACCCCAGCCCTGTGCACATACTCACCGGACCTTGGCCACCGAACACCACGCCCCCGCGTCATACCCCTATGTACCATCGAAGACGATGAGGGGTACTTAGACGTCCAGAGGCACCCACCTGTCG-GGAGAGCACGTGCTGCTGTCGGGACCACGCACCCGCAGGGAGCCGTGATTTCC-CAAAAGTAATGCGTAGCCCGGGCCTCTTCACAGGTGAACGTAGCTCGGCGCCCCCCGGATGTATGCTTAGGCGAAGGATCAGGTACAAGCACATTTGGAATTGTAACTAGGAGAAGGTGGCGTCGCCTCGCTCATCAAGGTTGTGGGTGACCCAGTCTAGCTATCCGTCTACGATGTATATTCTCG-CACGCTCTACATGAACACTGTGATGGTGAACCCAAAGGGTTGGCGCGGGACTAACTGGTGCTCCGTTTCCGCGTCGCCGTCAATTCGAGTCGGCATGGCAGGGACCAGAGAAGTCCGCCGGCCAGCGGAGCGATACCGCTCTTT-C-GCAGGACAGCACGGTCGGATTGACTTGGAAAAGGAC-TCTATAATCACACTCGTCGCGGGACCCGCT-GGCGCCGGGTCTTAGGATCGCTACGCCAGTACCTAACATAGGGCCCGGCGTTATGACCGGTCGCAGACGAGCTCTCGGGGCAGGCGGGGTCGCAGGCAGCCAAATGCACAGCCATTGGGCTAGCAGGGGAAACCAAAAAGACGCCCCTCGATCTGGCGGTGCGCTAGCCACGCCCGATTCGAGATTACCACGGCCAGTAGCGGGAGTACCGACCTCGTCACGGGCTAGACGGCTGGCTGAAGGGTGCCTGGTCGGTTCGGCCAGCTTACCGGGCAGACCGGCAACCCGATCGCGCTAACCGGGGCCTGACCGCGAGCACG-TTCGCTACGACGAGCAAAGGGAACTTCGCGCCGCGTCTCGTCGCATCAGAGCAGACGGCCGAGCTGGCACGCCCGCTGCGGACAGGTTTGCGCGGGCCACGCTAAGTAGTTAGGACTCACTTC-CGTAGGGGACGGGCGCTCGGTAGACTCTAGGTGATGTCATCTCCTCAGCCACCAGCGGTCGGCATCAAGCAGAGGCCAGTGAGGGTGCCCTGCGCGCCTACGTCG-TGCAACCGCGTCATGTCACCGCGATCAGTAGGTCGT-CCGTCGGGTTACATTCTTTGTGAATTCTTCAACCCCCAGGAGCTGCACGACCTGTGGGCTTCCTGTCAGACTCCGGTGACCGGTCCGCGCCCCCTGCCGGCTCCTCTGTCGGACGCAACGGGGGATTCGGAACCCACGTAGTTGGGGACGTGTTTCGCGCAATGCCACCAGCACCTAGGAGGTCCT-TCGAAGTTCGTTAAT-GCCC-TCGGTGCTGGCCTCCATTCCCGTAGCGTTAGACGGTCTCGTGCGGTACGTCACTCAGGATACCCCTGCATGACTGGTGGTGGTATCGACTTGGCCAGGGCACGGTTAAGCCTGCGTAGGGCGTGCCGCGGCCGCAAGCATC-CATACGTGGGGCTCCCTAGCGTCCCTGCAGTGGGGCCTTGACAAGGTTGCGTGGGATAACTAAGACCTAACAGCTACTCCGCCTCGGGTTGTAGCACACGGGCAGGGGGAGGGACGGATGGCTTCCCGCCCCAGGTGCTCCCATTCGGTACGTGGAGTGGCATATCGCT-CCTCGCCGCCTCGCACATCGCGCGGCTTTTGACGCTCACCTCAGTGCCCTTAGACTA-ACGAAGGGGGCAATATAGGTCCGTGGATGGACGCCGATCGCAGGCCGTCGGTAATCTATGCCCGTACGGCTCAGGCCCGGACGGAGATACGGCATCCCCGAGGGCCGGT-CCAGCTCTTGATAACCCCATGAAAAATTAGGCTTTCCTCACAAGTCTATCGGGGGCCCATTGCCCGTTGGTTTTCGAGGCAACATTGGTGGTCCGCGTACGGAGCATTGTTC-CGGCGGGAAGCCCGGGCTTGCGGCTCCATGATGTACGGCTTTCGGCGAAGTGGCGCAGGTCAGCAGGCTCACTGATGAGCCCGCGGGAGGTGACACAGGGTGAGAGC-CAGAGCTCTGTGAAGCTTTCCCGTTCTGCATGCCTTGCGGTGCCCGGTTCACGCCCTATGCGAAGCTTCG-CGGGATATTCGTTTTAGGGGCGCCAGGCTCTCAACGTCGACCTACAGCACTACACTCGCATGGCTGCGCTCCAGCCAGAGTGGCTTACGACGCAACAGTATACCCGTCCGGCGGCCTCCAAGAACTCTGACGTATCGCCTCAGCGCCTACGTCAAGTCGCCCGCCGTTATGAGGCGCGGTGAGCCGTCACAGGTC-GGCCCCCAAGCAAGCGCGGACTCCGGTCTTCGACCCCACCGGCCCGGCGGGAAAAGTCGAACGAGTCAATACGGCACCTCCGGCCCGTTCAATCCGTGTTCCCGGACTAGCGCCGAGATTCTTGTTGCATGGCGGGCGAGAGCCCCAGAGCTAGAGGGGCG-CGCCAAAGGGAAGGGCGCGCGCTCAGCTTCTGTAGCACGACCTTCGATGTACGCGCTTTCCGCGGCAAAGTGGTTCCGACCTCATTAGTACCGGCGTGACATGGGGGCACATAATCGCGGAGGGAGACCTGTCGCACCCGTGTGGTACTACCAAAGCCTTGTGCT-AAGCTTACGCGGTGGGTAAGGGAGACTGGCTACCCCCCGATGACTCCCTTGCTCCCAACAGAACTCGATCGGCTAGAAGGCGACTCC-CCATCAGCTCGTGCGGAATCGACGAAGTTCAGACGGGGGCTAGTCAACCGGCCTCTCATCGGCCAGCCACCCGTCATGCGTCGCG-AGGAG-CGGACGCTGCGGCCAAGTTTCCGTTTATCGGAACCTGCTATCCAAATACTTCCGAGCGAGTGTGCCAGACCATGTGTCACATGCACCTTCCGATAACCGGCACTTCTCATAGTGCC-TGGACATTCACCTGTAGGTTGTCGCAGAGTAGCCTACCAGGGTTAAGGCCGGACAGACATTTTCGTTCCTACACAAGACGATC-CTATCTCGGATACGAGTAGACGTGCAATCCTAGCCTA-CCCATGGCTCCCCTGACCTGACCTTAGGCGAGCCCCCATTGGAGCAGAAGGTCCGATTT-CCGTGATGTGCGATCGGGGTCCATCGCAGTTGCACTAGCTCACGATTACACCGAGTTCTAACGACTGTA-CCGTGGCGCACGCATGTCTCTAGGGT-CAGTAAGCGGCCGTCGGGGGCGAGGGTAAGCATTCCTCAATAGACCTAAGGGGGCAGATTTCGCGAATGCAGGTTTCGAGCAGGAGACGGCAAAGAACTTACG-TTGGTTGG-ACAGGGGAGCGTCAACTTCCCGCCGCCGAGCACT-TCGAGGTCCAGATGGGGC-CCGATTGTCTAGTA-GGGGGACCAAGCTCACACTTGAGTTTT-TTGATATGTCAGGCCTGGGAGGTTGCCTAGATTCACATCGACTGTCGTAGTGGGGGTCTAGCCGTAACGAGGGCTACTCAGGCCCAAACAACAAGCACGCCCCTTACCATTACCCTACGGCCACGCT-AGGCCACACCGCCCTAAGCCA-CTATACGAGCCCCGCTGGCCGA-G-CCCTCGTAATGCCCCCCTGTAAACATGGCTGCGTTCGCGGGGGGTTGGGAACGTGTTTGTAGTGTGTGTATTAAAGTCCTGGCCGACAGACGTCACCGCCCCCCGGGGCAACCATGCGACGGAACTCCTATAATTTGTACGAAGTGCTTGGGCTTCCAGGGCTCAATTACGTACGCGTGATCGGGCTCTCGCCTTGTTAATCCGAAACCCGGGTCACCGGTTGAACCAAACCCTGAGAATGGCGGGGGTGGATACGATCCACGCAGCGACCGCCGTAGGACAGACTCGCGCACCCCCGGCTTGGGGAGAGGGCGCCAGGCCTTGATAAGGTGACCGGTGTGGGTTTCCGGCGGGAGCTAATCTTCTGGTGGCTCAGGTTGGTAAACTAACCGCGGCGCTAGCACAGGAAGTGACCACCCCGCCCACATGCGCGCTGACATGCGAAGTAATCCAACCGGGCGCTCTACTCGGGCAAAGCGCAGTAACCGATACGAATACCTTACGGCTGGCATGGACGTCAGAGGAGCTATGGTACTGGAGCTGAGACAGGGGTGCGGACGCGCGTGGTGGATGCCGGCTGCGGCTCACCCCTGGCCGTACGCGACCAATTGGT-GATAGGTCTTGTTGATGCAGTGCGGCGGCCCAAGTGTCACAGGGCCGACGCATCACTCAGATCTT-TCCTGTCTGGGCGTTCCAGCCCGCGTCGCGGAAGGGGGCCAACCGTTTACCAGCGCCTTAGCCAGTCCATTACGCGACATGTTGGCGGGCCGGGGT-GACCCGGGGTAACTCAACACGGAACATTCTAGGGCGTAGTCGCGGCCGTACCCTATTTGCCCAGGAGTAGCGGAATGTCGTTAAGGCAGTGAACCTGGGCACTGGCGTGCTCTAAGCAGAGCCTGTGATGAGGAGATCCCGAACGGCGTG--CTCTTTTTGATTTGCCG-CG\n",
      "CGGGGGCTCCCGTCCTTTCCCGATCAGTGCGTCACTATTCGCTTAGACATGAGCCCGGCGCCCGCTTCTCCCCATCGGACCTAGCCCCTCTCGGAACCCGCCATGAGCGAAAGGCCGCTGGGCGGACCACAGCGGCAGAAGCTACGAGGCGCCGGAGCCACACCGTCCCAGCCCGGTCGCGACGGGATGCAGCACCCATTATCTTTCACGCAGTGGTTAGGATACCCACTATGTACTAAAAGTCCGCCGGGGCCGGTAAGGGGTAGGTGCGCGAAAGGCACAATCCTGTTGCGGGGACCTCCAGATAGTGCTTGCTGGAATGTGGTGTAGCTTGTGAACAGGGAACGCCCCTGGGACCCTATCCGGACGTGCGACCTCCCGGGGTGACTTACTCCGATCTCAGAAGCCGCCCGGCACGCGCGCTTGGTCAGACCGCACTACTGGCGCCGTTGGGGGGCCTAAGCAGAGGCAGCGTGAAGCTCCTCATGGCATTCGACGGGCTGTGAGCGGAGAGTGCCTGCCGCGATGCTAGAGCTCTCGCGGAGGTAAAGGCCGCACACGGTAGGTGGGCCGGCGTTCACACATCCGATGTGAGGGGGGCTGCATACGTACCCCGACGCATAGACGCAAACAATGTGCCCATTAACAGTCCAATAGTCGCACCCCCGGGGTGCCATGTGGCTGAGACTGAGCAGGGTCCTCCTAGCACCCTCCCGGAGGATTCCACGGTGCGCCAGATAGCGTTCCCGGCAGGACTGGGCCGGTCGCCAGGAGCGGTCACTTGCGGAGTCGTTCGAGTGCGATGTCCGAGATACCTATGTTGAAAGTCCCTCGAATACCCATAAGCTAGGTGGGTGATCTAGCCGGCCAAGCGCTTGAGTTACGTTGCGCAAGCAATACAAGGCGCTGGGGCTCATGTACTGCTTTCTTCGCCTGAGCAGACCACTGATCGTTGCCAGCTGGCCGGGTAGAACGCGCGGGGGGTTTCCGCATACCGGTGCAAAAGCCGCTGTGAGCCAGTCTCTCCGCCGAGCCGTGCTCCAACCTCAGGCTCCTAGCTCGGCAAAAGCCGTGGGCTCCGATACATCCAATACACGCACGCCCGTTGTGGTTTGACCGGTTGCAGATGGGGTGCGGAGGCGGCCCCGTTCCCCCCGCTTCACGGGGTAAGATACGACGGCAGATAGCA-CTACCATTTGGCGGTGATGCCTTTCGCTCTAAGCCGCCTGACGGAGATCTTAAACAGGAGTCGCGTGGCTCGCAAGGAGGCAGAGTGACTCGACCATTGGTCAGCCCCCGCGCTGCGCTCGGCCGGTAAGCAGCGAGGTCCCCATCCTTGCGCAAGGTGGATGGTATGCCATGGTTCCTCCAGGCAGAGGGCCCCTTCG-AGCGATTCCGCCTTGGCACTTGCGAA-ACGGGAAACCCCAAGTCACTCGCGGGAAGGATCTGTTGCGTCT-GACGGGAGGATTTACGCCGTCTACGAGCGCAATACGCCATTGTCAAGGGCACGGGAGAGGCGGTTAAGGCTTATCCCTCACGAGGACGAGACGATTGCGGACCAGTTGGTTAGAAGCAGGTATTGGCGGT-GGCCGCCGCGAGGCTTCCGCACGGTCGCAGTGACATCGATCGACCCAAGGCTCGCATCGAACCAATTCCGGGCCGGGTACGCACGAGAGGAGAGAAGCATGAAGCGCCATAGGTCCTAC-CGCGGAGCGCTCGTGCAGTCATAGGGGTGGCTGGCCCCTCCCGGGGGCACGTTCTCGGATCAGCTCGGTGTTGTAAGAGCCTGCAGTTAGCGCCGATCATGTGTGCCTAAGACGGGAGATGGGCAGGCATTGATTAGGGTCGGCATTGCAATCCGAGTCGCCCACGGCCGGAACCGCCCTCCGAAAGCGAGGCTCCTAGGCACTTGCAGGCCTGCAGACTGCGGTAAGCAAATAAGGCTCGACTCTGTTGGGCCCAGGGCGTTCGGGGGTACACATTAAGCAGGAGGTCAGACTCACACATGTCCAAGATCAGGGTGCGTGCAATTATTGTTGGCGCGGCCTCTGACGGACCAAGCGTGTGAACTATTGTGGGCTAAGTCGGGGCCGGAGATTGCTCACTCCGCGGAGATATCCGTTGTTTCGAGGTCGTTCGGTATAGCGCGACGAGCATCCGGTGGATTAACCGCATTACGCGTTCTTTCTGCGTCCGCCGACACGGGTCAGTGCGCAACGACACCGGTAGCTTTCACATCGAATTCAGTGACCACCTATAGGCCTGCCTGGGCCGCCGGGCCCTGACGCACTCTGAGATCATCCGGGCGGTCCAGCCACGGGCTACCGCCGACGCGGTGAGTCTATCCCTGGCTTGCCAATGGTTTGACGGGAACGCTACACC-GCATCTCGTGACTCCCCCTCTTGCCGTCAGTGTCTAACCATGGGAAGGGGGGCTGGCGGTGGGTTGTAGCATAAGAATGGATCTAATGGCCCGCGCACTGGGGGTTCGAACAGTGGGACCGACGGGGGGGCCTCCGACGCGGATCCAGGGGCAG-CTTACCAGGGTTTCGATTCCTGTACCCTTCTCGTTGTGCCAGCGATGCTTAAGCGACGACTTTGGCGATG-CCCGGGGCTGATGGTGATCGCAGTCGGTCACTCCTCCCACAGGAAAACAGTGAAGGCGCCTGCGGGGTTCGCCACGCCCTCACCCGCCATTACAACGGGGTTTTGTACTCTGACCCGCCGCGTCACGGTCCACCAGCCAGGCCAAAGGTCACCCCGAGCCTGGACTCACGCCCACAACCAA-CCGGGGAAGCGGATCGTGTTCCTACGGTTCTGACGCCGCTCACGTGACGCCGTTGCACGATCCCTATTTTTGGGCTCCCGGCTGCCACCCGGTTTGTCCTGTCCTTCGCTCCGTAAGTCGAGCACCTATGCTGTCGAGATGGCCCGCCCTTGAGGGTTACCAAGGGGCGTTTAGTTTTTTCCTGTAGGGGTAGCCCAGGGCTTGCCTCCTCCCAAAGCTAGATTCTTGCCCCAGGCAATTGCGGTGAGACCTGAAGCGTTCGTAGCCATCCATCCTGCTCGAGTGGACTGCCGGCCCTCTGGCAACGGGACGCGCCTCC-CCCCTGGCACGCGGAATCCTCGACCGCC-AAGGCGGAGGCAGCGTGTTCGTGCCCCGGTTCCTCCGACATGCGCGCCACATACCCGCCGCCCGTGTCTTAGTATGAGGCGGGCGGAACCCCCTTATATGGCACCGCTTGGCAGTGCCCGATCTCA-GGCGCCGGCCAGGGTCAAGTGGGCCGCGTGCGGCGGACGTTCCCCAACACCCCAGACCGTTTAGCGGTTTGAGCTACGTTATTGGGGAGTGCGACGAACCTCAGGCTGTGTATCAGATACCAACGTGCGCCCGGGATGAGATCGGAAGGGGGATAGGGTATGGATTGTCGGAGGCTTCTGACATGAGTCATGCTTACGACCGAACCTCTGCAGACGGTCCAGCGACGCCAATGACTACACTGGCCTGCGCGTCTGACTGG-ACTCGGAGGCCCCCGCAATGCCCATTCAGGCGGTATAGCGTGTTCTGGCAGCTGTGAAGGTGACC-CAACTGAGGCTCCTCAAGCAGAGGTTATTGAGTGCCTGTAGTGCCGGTTGTCGACCGCCTTAAACTCCTAGGCCTCCTTTCCCGAAGGGCTGCGACTCCACTCGGTACGGCATGTAGACACTGGGTATGGGGGACACCACCCGGCACTCTCGTAAGCGTTCGGCCTCGCCAGCATGGACTCATCGTGAAGCATCCGTTCAGGCTGAGGTGCACACCGGGGAGACAAGTAGCTTGGCTCGGATCACGAAGTTTTCCGTTCAAATGCGCCCGTAATGTCCGGAATTTGGGCACGAGCAGGGTGTCAAGATCGGTTGCCCAAGTGAGCCTGACCAGCGAATGTACG-CCAACCGTGGTT-CAAGCGCTTAATTCGACTCTCTCATCAAACCCGAGTACCGGCCGACAGGAGCGGTCAACTTTGCAACCTCTCCCGGTCGCCCCCGCCGGGTCGGTTGATCCAATTCAACCCCTTCGGCGGGCGATGGGGAACTCTGAGCATCGAAGGCGGCATTCCGCATTTTACCGTTACTGCGATCGGCCTGTGTCCAAAGCACCCACCCCTGCGGAGGCGCCTTACACAGATAAGGTGTGAGGGGACATTGCTAATCAACGACTGCATCTAGGTCGAGTAACCCGAAACATTGGGCGGGCGTCCGAGCGCCCTGCGACGGCGGGTGGGTCTGGTCCCCCACGTCCGTCTGCCTGCGGACCAGCAGACTTTGCGGTTGACCTGGTCGTTCGGGCTTGCCCGTGACGATGGAGGGTTCCAGCATGAACGCGTATTCCGGGCAGATACAGCTGCCGGCGTAAGGGGGTGAAGGGGCACACTTGTCCACCCCAGCCCTGTGCACATACTCACCGGACCTTGGCCACCGAACACCACGCCCCCGCGTCATACCCCTATGTACCATCGAAGACGATGAGGGGTACTTAGACGTCCAGAGGCACCCACCTGTCGTGGAGAGCACGTGCTGCTGTCGGGACCACGCACCCGCAGGGAGCCGTGATTTCCAC-AA-GTAATGCGTAGCCCGGGCCTCTTCACAGGTGAACGTAGCTCGGCGCCCCCCGGATGTA-GCTTAGGCGAAGGATCAGGTACAAGCACATTTGGAATTGTAACTAGGAGAAGGTGGCGTCGCCTCGCTCATCAAGGTTGTGGGTGACCCAGTCTAGCTATCCGTCTACGATGTATATTCTCGGCACGCTCTACATGAACACTGTGATGGTGAACCCAAAGGGTTGGCGCGGGACTAACTGGTGCTCCGTTTCCGCGTCGCCGTC-ATTCGAGTCGGCATGGCAGGGACCAGAGAAGTCCGCCGGCCAGCGGAGCGATACCGCTCTTCCCAGCAGGACAGCACGGTCGGATTGACTTGGAAAAGGACATCTATAATCACACTCGTCGCGGGACCCGCTAGGCGCCGGGTCTTAGGATCGCTACGCCAGTACCTAACATAGGGCCCGGCGTTATGACCGGTCGCAGACGAGCTCTCGGGGCAGGCGGGGTCGCAGGCAGCCAAATGCACAGCCATTGGGCTAGCAGGGGAAACCAAAAAGACGCCCCTCGATCTGGCGGTGCGCTAGCCACGCCCGATTCGAGATTACCACGGCCAGTAGCGGGAGTACCGACCTCGTCACGGGCTAGACGGCTGGCTGAAGGGTGCCTGGTCGGTTCGGCCAGCTTACCGGGCAGACCGGCAACC-GATCGCGCTAACCGGGGCCTGACCGCGAGCACGGTTCGCTACGACGAGCAAAGGGAACTTCGCGCCGCGTCTCGTCGCATCAGAGCAGACGGCCGAGCTGGCACGCCCGCTGCGGACAGGTTTGCGCGGGCCACGCTAAGTAGTTAGGACTCATTTCGCGTAGGGGACGGGCG-TCGGTAGACTCTAGGTGATGTCATCTCCTCAGCCACCAGCGGTCGGCATCAAGCAGAGGCCAGTGA-GGTGCCCTGCGCGCCTACGTCGGTGCAACCGCGTCATGTCACCGCGATCAGTAGGTCGTGCCGTCGGGTTACATTCTTTGTGAATTCTTCAACCCCCAGGAGCTGCACGACCTGTGGGCTTCCTGTCAGACTCCGGTGACCGGTCCGCGCCCCCTGCCGGCTCCTCTGTCGGACGCAACGGGGGATTCGGAACCCACGTAGTTGGGGACGTGTTTCGCGCAATGCCACCAGCACCTAGGAGGTCCTTTCGAAGTTCGTTAATCGCCCCTCGGTGCTGGCCTCCATTCCCGTAGCGTTAGACGGTCTCGTGCGGTACGTCACTCAGGATACCCCTGCATGACTGGTGGTGGTATCGACTTGGCCAGGGCACGGTTAAGCCTGCGTAGGGCGTGCCGCGGCCGCAAGCATCCCATACGTGGGGCTCCCTAGCGTCCCTGCAGTGGGGCCTTGACAAGGTTGCGTGGGATAACTAAGACCTAACAGCTACTCCGCCTCGGGTTGTAGCACACGGGCAGGGGGAGGGACGGATGGCTTCCCGCCCCAGGTGCTCCCATTCGGTACGTGGAGTGGCATATCGCTGCCTCGCCGCCT-GCACATCGCGCGGCTTTTGACGCTCACCTCAGTGCCCTTAGACTATACGAAGGGGGCAATATAGGTCCGTGGATGGACGCCGATCGCAGGCCGTCGGTAATCTATGCCCGTACGGCTCAGGCCCGGACGGAGATACGGCATCCCCGAGGGCCGGTCCCAGCTCTTGATAACCCCATGAAAAATTAGGCTTTCCTCACAAGTCTATCGGGGGCCCATTGCCCGTTGGTTTTCGAGGCAACATTGGTGGTCCGCGTACGGAGCATTGTTCCCGGCGGGAAGCCCGGGCTTGCGGCTCCATGATGTACGGCTTTCGGCGAAGTGGCGCAGGTCAGCAGGCTCACTGATGAGCCCGCGGGAGGTGACACAGGGTGAGAGCCCAGAGCTCTGTGAAGCTTTCCCGTTCTGCATGCCTTGCGGTGCCCGGTTCACGCCCTATGCGAAGCTTCGACGGGATATTCGTTTTAGGGGCGCCAGGCTCTCAACGTCGACCTACAGCACTACACTCGCATGGCTGCGCTCCAGCCAGAGTGGCTTACGACGCAACAGTATACCCGTCCGGCGGCCTCCAAGAAC-CTGACGTATCGCCTCAGCGCCTACGTCAAGTCGCCCGCCGTTATGAGGCGCGGTGAGCCGTCACAGGTCCGGCCCCCAAGCAAGCGCGGACTCCGGTCTTCGACCCCACCGGCCCGGCGGGAAAAGTCGAACGAGTCAATACGGCACCTCCGGCCCGTTCAATCCGTGTTC-CGGACTAGCGCCGAGATTCTTGTTGCATGGCGGGCGAGAGCCCCAGAGCTAGAGGGGCGCCGCCAAAGGGAAGGGCGC-CGCTCAGCTTCTGTAGCACGACCTTCGATGTACGCGCTTTCCGCGGCAAAGTGGT-CCGACCTCATTAGTACCGGCGTGACATGGGGGCACATAATCGCGGAGGGAGACCTGTCGCACCCGTGTGGTACTACCAAAGCCTTGTGCTAAAGCTTACGCGGTGGGTAAGGGAGACTGGCTACCCCC-GATGACTCCCTTGCTCCCAACAGAACTCGATCGGCTAGAAGGCGACTCCGCCATCAGCTCGTGCGGAATCGACGAAGTTCAGACGGGGGCTAGTCAACCGGCCTCTCATCGGCCAGCCACCCGTCATGCGTCGCGCAGGAGACGGACGCTGCGGCCAAGTTTCCGTTTATCGGAACCTGCTATCCAAATACTTCCGAGCGAGTGTGCCAGACCATGTGTCACATGCACCTTCCGATAACCGGCACTTCTCATAGT-CCCTGGACATTCACCTGTAGGT-GTCGCAGAGTAGCCTACCAGGGTTAAGGCCGGACAGACATTTTCGTTCCTACACAAGACGATCTCTATCTCGGATACGAGTAGACGTGCAATCCTA-CCTACCCCATGGCTCCCCTGACCTGACCTTAGGCGAGCCCCCATTGGAGCAGAAGGTCCGATTTCCCGTGATGTGCGATCGGGGTCCAT-GCAGTTGCACTAGCTCACGATTACACCGATTTCTAACGACTGTAACCGTGGCGCACGCATGTCTCTAGGGTTCAGTAAGCGGCCGTCGGGGGCGAGGGTAAGCATTCCTCAATAGACCTAAGGGGGCAGATTTCGCGAATGCAGGTTTCGAGCAGGAGACGGCAAAGAACTTACGCTTGGTTGGTACAGGGGAGCGTCAACTTCCCGCCGCCGAGCACTCTCGAGGTCCAGATGGGGCCCCGATTGTCTAGTACGGGGGACCAAGCTCACACTTGAGTTTTGTTGATATGTCAGGCCTGGGAGGTTGCCTAGATTCACATCGACTGTCGTAGTGGGGGTCTAGCCGTAACGAGGGCTACTCAGGCCCAAACAACAAGCACGCCCCTTACCATTACCCTACGGCCACGCTGAGGCCACACCGCCCTAAGCCATCTATACGAGCCCCGCTGGCCGAGGCCCCTCGTAATGCCCCCCTGTAAACATGGCTGCGT-CGCGGGGGGTTGGGAACGTGTTTGTAGTGTGTGTATTAAAGTCCTGGCCGACAGACGTCACCGCCCCCCGGGGCAACCATGCGACGGAACTCCTATAATTTGTACGAAGTGCTTGGGCTTCCAGGGCTCAATTACGTACGCGTGATCGGGCTCTCGCCTTGTTAATCCGAAACCCGGGTCACCGGTTGAACCAAACCCTGAGAATGGCGGGGGTGGATACGATCCACGCAGCGACCGCCGTAGGACAGACTCGCGCACCCCCGGCTTGGGGAGAGGGCGCCAGGCCTTGATAAGGTGACCGGTGTGGGTTTCCGGCGGGAGCTAATCTTCTGGTGGCTCAGGTTGGTAAACTAACCGCGGCGCTAGCACAGGAAGTGACCACCCCGCCCACATGCGCGCTGACATGCGAAGTAATCCAACCGGGCGCTCTACTCGGGCAAAGCGCAGTAACCGATACGAATACCTTACGGCTGGCATGGACGTCAGAGGAGCTATGGTACTGGAGCTGAGACAGGGGTGCGGACGCGCGTGGTGGATGCCGGCTGCGGCTCACCCCTGGCCGTACGCGACCAATTGGTTGATAGGTCTTGTTGATGCAGTG\n",
      "TTTCACATCGAATTCAGTGACCACCTATAGGCCTGCCTGGGCCGCCGGG-CCTGACGCAC-CTG-GATCA-CCGGGCGGTCCAGCCACGGG--A-CGCCGACGCGGTGAGTCTATCCCTGGCTTGCCAATGGTTT-ACGGGAACGCTACACCTGCATCTCGTGACTCCCCCTCTTGCCGT-GGTGTCTAACCATGGGAAGGGGGGCTGGCGGTG-GTTGTAGCATAAGAATGGATCTAATGGCCCGCGCACTGGGGGTTCGAACAGTGGGACCGACGGGGGGG-CTCCG-CGCGGATCCAGGGGCAGCCATACCAGG-TATCGATTCCTGTACCCTTCTCGTTGTGCCAGCGATGCTTA-GCGA-GACT-TGGCGATGACC-GGGGCTGA-GGTGAT-GCAGTC-GTCACTCCTCCCACAGGAAAACAG-GAAGGCGCCTGCGGGGTTCGCCACGCCCTCA-CCGCCATTACAA-GGGGTTTTGTACTCTGACCCGCC-CGTCACG-TCTACCAGCCAGGCCAAAGGTCTCCCC-AGCCTGGACTCACGCCCACAACC-ATCCGGGGAAG-GGA-CGTGTTCCTACGGTTCTGACGCCGCTCACGTGACGCCGTTGCACGATCC-TATTTTTGGGCTCCCGGCTGCCACCCGGTTTGTCCTGTCCTTCGCTCCGTAAG-CGAGCACCTATGCTGTCGAGATGGCCCGCCCTTGAGGGTTACCAAGGGGCGTATAGTT-TTTCCTG-AGGGGTAGCCCAGGGCTTGCCTCCTCCCAAAGCTAGATTCTTGCCCCAGGCAATTGCGGTGAGACCTGAAGCGTTCGTAGCCATCCATCCTGCTCGAGTGGACTGCCGGCCCTCGGGCAACGGGACGCGCCTGCGCCCCTGGCACGCGGAATCCTCG-CCGCCCAAGGCGGAGGC-GCGTGTTCGTGCCCCGGTTCCTCGGACATGCGCGCCACATACCCGCCGCCCGTGTCTTAGTATGAGGC-GGCGGAACCCCCTTATATGGCACCGCTTGGCAGTGCCCGATCTCACGGCGCCGGCCAGGGTCAAGTGGGCCGC-TGCGGCGGACGTTCCCCAACACCCCAGACCGTTTAGCGGTTTGAGCTAC-TTATTGGGGAGTGCGACGAACCTCAGGCTGTGTATCAGATACCAACGT-CGCCCGGGAT-AGATCGGAGGGGGGATAGGGTATGGATTGTCGGAGGCTTCTGACATGAGTCATGCTTACGACCGAACCTCTGC-GACGG-CC-GCGACGCCAATGACTACACTG--CTGCGCGTCTGACTGGAACTCGGAGGCCCCCGCAATGCC-ATTCAGGCGGTATAGCGTGTTCTGGCAGC-GTGATGGTGACCTCAACTGA-GCTCCTC-AGCAGAGGTTATTGAGTGCCTGTAGTG-CGGTTGTCG-CCGCCTTAAAC-CCTAGGCCTCCTTTCCCGAAGGGCTGCGACTCCACTCGGTACGGCATGTAGACACTGGGTATGGGGGACACCACCCGGCACACTCGTAAGCGTTCGG-CTCGCCAGCATGGACTCATCGTGAAGCATCCGTTCAGGC-GAGGTGCA-ACC-GGGAGACAAGTAGCTTGGCTCGGATCACGAAGTTTTCCGTTCAAATGCGCCCGTAATGTCCGGAATTTGGGCACGAGCAGGGTGTCAAGATCGGTTGCCCAAGTGAGCCTGACCAGCGAAT-TACGTCCAACCGTGGTTCCAAGCGCTTAATTCGACTCTCTCATCAAAC-CGAGTACCGGCCGACAGGAGCGGTCAACTTTGCAACCTCTCCCGGTCGCCCCCGCCGGGTCGGTTGATCCAATTCAACCCCTTCGGCGGGCGATGGGGAACTCTGAGCATCGAAGGCGGCATTCCGCATTTTACCGTTACTGCGATCGGCCTGTGTCCAAAGCACCCACCCCTGCGGAGGCGCCTTACACAGATAAGGTGTGAGGGGACATTGCTAATCAACGACTGCATCTAGGTCGAGTAACCCGAAACATTGGGCGGGCGTCCGAGCGCCCTGCGACGGCGGGTGGGTCTGGTCCCCCACGTCCGTCTGCCTGCGGACCAGCAGACTTTGCG-TTGACCTGGTCGTTCGGGCTTGCCCGTGACGATGGAGGGTTCCAGCATGAACGCGTATTCCGGGCAGATACAGCTGCCGGCG-AAGGGGGTGAAGGGGCACACTTGTCCACCCCAGCCCTGTGCA-ATACTCACCGGACCTTGGCCACCGAACACCACGCCCCCGCGTCATACCCCTA--T-CCATCGAAGACGATGAGGGGTACTTAGACGTCCAGAGGCACCCACCTGTCGTGGAGAGCACGTGCTGCTGTCGGGACCACGCACCCGCAGGGAGCCGTGATTTCCACAAAAGTAATGCGTAGCCCGGGCCTCTTCAC-GGTGAACGTAGCTCGGCGCCCCCCGGATGTATGCTTAGGCGAAGGATCAGGTACA-GCACATTTGGAATTGTAACTAGGAGAAGGTGGCGTCGCCTCGC-CATCAAGGTTGTGGGTGACCCAGTCTAGCTATC-GTCTACGATGTATATTCTCGGCACGCTCTACATGAACACTGTGATGGTGAACCCAAAGGGTTGGCGCGGGACTAACTGGTGC-CCGTTTCCGCGTCGCCGTCAATTCGAGTCGGCATGGCAGGGA-CAGAGAAGTCCGCCGGCCAGCGGAGCGATACCGCTCTTCCCAGCAGGAC-GCACGGTCGGATTGACTTGGAAAAGGACATCTATAATCACACTCGTCGCGGGACCCGCTAGGCGCCGGGTCTTAGGATCGCTA-GCCAGTACCTAACATAGGGCCCGGCGTT-TGACCGGTCGCAGACGAGCTC-CGGGGCAGGCGGGGTCTCAGGCAGCCAAGTGCACAGCCATTGGGCTAGCAGGGGAAACCAAAAAGACGCCCCTCGATCTGGCTGTGCGCTAGCCACGCCCGATTCGAGATTACCACGGCCAGTAGCGGGAGTACCGACCTCGTCACGGGCTAGACGGCTGGCTGAAGGGTGCCTGGTCGGTTCGGCCAGCTTACCGGGCAGACCGGCAACCCGATCGCGCTAAC-GGGGCCTGACCGCGAGCACGGTTCGCTACGACGAGCAAAGGGAACTTCGCGCCGCGTCTCGTCGCATCAGAGCAGACGGCCGAGCTGGCACGCCCGCTGCGGACAGGTTTGCGCGGGCCACGCTAAGTAGTTAGGACTCATTTCGCGT-GGGGACGGGCGCTCGGTAGACTCTAGGTG-TGTCATCTCCTCAGCCACCAGCGGTCGGCATCAAGCAGAGGCCAGTGAGGGTGGCCTGCGCGCCTACGTCGGTGCAACCGCGTCATGTCA-CGCGATCAGTAGGTCGTGCGGTCGGGTTACATTCTTTGTGAATTCTTCAACCCCCAGGAGCTGCACGACCTGTGGGCTTCCTGTCAGACTCCGGTGACCGGTCCGCGCCCCCTGCCGGCTCCTCTGTCGGACGCAACGGGGGATTCGGAACCC-CGTAGTTGGGGACGTGTTTCGCGCAATGCCACCAGCACCTAGGA-GTCCTTTCGAAGTTCGTTAATCGCCCC-CGGTGCTGGCCTCCATTCCCGTAGCGTTAGACGGTCTCGTGCGGTACGTCACTCAGGATACCCCTGCAT-ACTGGTGGTGGTATCGACTTGGCCAGGGCACGGTTAAGCCTGCGTAGGGCGTGCCGCGGCCGCAAGCATCCCATACGTGGGGCTCCCTAGCGTCCCTGCAGTGGGGCCTTGACAAGGTTGCGTGGGATAACTAAGACCTAACAGCTACTCCGCCTCGGGTTGTAGCACACGGGCAGGGGGAGGGACGGATGGCTTCCCGCCCCAGGTGCTCCCATTCGGTACGTG-AGTGGCATATCGCTGCCTCGCCGCCTCGCACATCGCGCGGCTTTTGACGCTCACCTCAGTGCCCTTAGACTATACGAAGGGGGCAATATAGGTCCGTGGATGGACGCCGATCGC-GGCCGTCGGTAATCTATGCCCGTACGGCTCAGGCCCGGACGGAGATACGGCATCCCCGAGGGCCGGTCCCAGCTCTTGATAACCCCATGAAAAATTAGGCTTTCCTCACAAGTCTATCGGGGGCCCATTGCCCGTTGGTTTTCGAGGCAACATTGGTGGTCCGCGTACGGAGCATTGTTCCCGGCGGGAAGCCCGGGCTTGCGGCTCCATGATGTACGGCTTTCGGCGAAGTGGCGCAGGTCAGC-GGCTCACTGATGAGCCCGCGGGAGGTGA-ACAGGGTGAGAGCCCAGAGCTCTGTGAAGCTTTCCCGTTCTGCATGCCTTGCGGTGCCCGGTTCACGCCCTATGCG-AGCTTCGACGGGATATTCGTTTTAGGGGCGCCAGGCTCTCAACGTCGACCTACAGCACTACACTCGCATGGCTGCGCTCCAGC-AGAGTGGCTTACGACGCAACAGTATACCCGTCCGGCGGCCTCCAAGAACTCTGACGTATCGCCTCAGCGCCTACGTCAAGTCGCCCGCCGTTATGAGGCGCGGTGAGCCGTCACAGGTCCGGCC-CCAAGCAAACGCGGACTCCGGTCTTCGACCCCACCGGCCC-GCGGGAAAAGTCGAACGAGTCAATACGGCACCTCCGGCCCGTTCAATCCGTGTTCCCGGACTAGCGCCGAGATTCTTGTTGCATGGCGGGCGAGAGCCCCAGAGCTAGAGGGGCGCCGCCAAAGGGAAGGGCGCGCGCTCAGCTTCTGTAGCACGACCTTCGATGTACGCGCTTTCCGCGGCAAAGTGGTTCCGACCTCATTAGTACCGGCGTGACATGGGGGCACATAATCGCGGAGGGAGACCTGTCGCA-CCGTGTGGTACTACCAAAGCCTTGTGCTAAAGCTTACGCGGT-GGTAA-GGAGACTGGCTACCCCCCGATGACTCCCTTGCTCCCAACAGAACTCGATCGGCTAGAAGGCGACTCCGCCATCAGCTCGTGCGGAATCGACGAAGTTCAGACGGGGGCT-GTCAACCGGCCTCTCATCGGCCAG-CACCCGTCATGCGTCGCGCAGGAGACGGACGC-GCGGCCAAGTTTCCGTTTATCGGAACCTGCTATCCAAATACTTCCGAGCGAGTGTGCCAGACCATGTGTCACATGCAC\n",
      "AGGCGCCGGAGCCACACCGTCCCAGC-CGGTCGCGA-GGGATGAAGCACCCATTC-CTTTCACGCAGT-GTTAGGATACCCACTATGTACTTAAAGTCCG-CGGGGCCGGTAAGGGGTAGGTGCGC-AAAGGCACCATCCTGTTGCGGGG-CCT-CAGATAGTGCTTGCTGGAATGTGGTGTAGCTTGTGAACAG-GAACGCCC-TGGGACCCTATCCGGACG-G-GACCTCCCGGGGTG-CTTAC-CCGATC-CAGAAGCCG-CCGGC-CGCGCG-TTGGTCACCCCGCACTACTGGCGCCGTTGGGGGCCCTAAGCAGAGGC-GCGTGAAGCTCCTTA-GGCATTCGA-GGGCTGTGAGCGGAGAGTGCCTGCCGCGAAGCTAGAGCTCTCGCGGAGGTAAAGGCCG-ACACGGTAGGTGGGCCAGCGT-CACA-ATCCGAGGTGAGGGGGGCTGCATA-GTACC-CGACGCATAGACGCAAACA-T-TGCCCATTAACAGTCCAATAG-CGCACCTCCGG-GTGCCATGTGGCTGA-A-TGAGCAGGGTCCTCCTAGCACGCTCCCGGAGGATTCCACGGTGCGCCAGATAGCGTTCCCGACAGGACTGGGC-GGTCGCCAGGAGCGGTCACTTGCGGAGTCGTTCGAGTGCGATGTCCGAGATACCTATGTTGA--GTCCCGCGAAT-CCCATAAGCTAGGTGGGT-ATCTACCCGGCCAAGCGCTTGA-TTACGTTGCGCAGGCAATACAAGGCGCTGGGGCTCATGTACTGC-TTCTTCGCCTGAGCTGACCACTGATCGTTG-CAGC-GGCCGGGT-GAACGC-CGGGGGGTTTCCGCATACCGGTGCAAAAGCCGCTGTGAGCCAGTCTCTCCGCCGAGCAGTGCTCCAACCTCAGGCTCCTAGCTCGGCA-AA-CC-TGGGCTC-GATACATCCAATACACGCACGCCCGT-GT-GTTTGACCGGTTGCAGAGGGGGTGCGGAGGCGGCCCCGTTCCCCCCGCT-CA-GGGGTAAGATACGACG-CAGATA-CAGCT-CCATTTGGCGG-GATGCCTTTCG--CTAAGCCGCCTTACGGAGATC-TAAACAGGAGTCGCGTGGCTCGCAA-GAGGCAGAG-GACTCGACC-TTGGTCAGCCCCCGCGCTGCGCT-GGC-GGTAAG-AGTGA-GTCCCCATCCTTGCGCAAGGTG-ATGGTATGCCATAGTTCCTCCAGGCAGAGGGCCCCTTCGTAGCGATT-CGCCTTGGCACTCGCGAACACGGGAAACCCCAAGTCACTCGCGGGAAGGATCTGTTGCGTCTGGACGGGAGGATTTAC-CCGT-TACGAGCGCAATACG-CATTGTCAAGGGCACGG-AGAGGCGGT-AAGG-TTATCGC-CACGAGGACGAGACGATTGCGGACC-GTTGGC-AGAAGCAGGTATTGGCGGTGGGCCGCCGCGAGGCTTCCGCACG-TCGCAGTGA-ATCGATCG-CCCAAGGCTCGCATCGAACCAATTCCGGGCCGGG-ACG--CGAGAGGAGAGAAGCATGAAGCGCCATAGGTCCTACTCGCGGAGC-CTCG-GCA-TC-TAGGGGTGGCTGGC-CCTC-CGGGGGCAC-TTC-CGG-TC-GCTCGG-G-TGAAAGAGCCT-CAGTTAGCGCCGATCATGTGCGCCTAAG-CGGG-GATGGGCAGGC-TTGATTAGGGTCGGCATTGCAA-CCG--TCGCCCACGGCCGGAACCG-CCTCCGAAAGCGAGGCT-CTAGGCACTT-CAGGCCTGCAGACTGCGGTA-GCAAATAAGGCTCGACTCTGTTGGGCGCA--GCGTTCGGG-GT-CACATTAAGCAGGAGGTCAGA-TCACACATGTCCAAGATCAGGGTGCGTGCAATTATTGTTGGCGCGG-CTCTGACGGACCAGGCG-GTGAA-TATTGTGGGCTAA-TCGGGGCCGGAGATTCCT-ACTCCG-GGAGATATCCGTTGTTTCGAGGTCGTTCGGTATAGCGCG-CG-GCA-CCGGTGGATTAACCGCATTACGCGTTCTTTCTGCGTCCGCCGAC-CGCGTCACTG-GCAACGACACCGGTAGCTTTCACATCGAATTC-GTGACCACCTATAGGCCTGCCTCG-CCGCCGGGCCCTGACGCACTCTGAGATCATCCG-G-GGTCCAGCCACGGGCTACGGCCGACGCGGTGAGTCTATC-CTGGCTTGCCAATGG-TTGACGGGAACGCTACACCTGCATCTCGTGAC-C-CCCTCTTGCCGTCAGTGT-TAAC-AT-GGAAGGTGGG-TGGCGGTGGGTTGTAGCATAAGAATGGATCTAATGG-CCGCGCACT-GGGGTTCGAACAGT-GGAC-GACGGGGGGGCCTCCGACGCGGATCCAGGGGCTGCC--AC-AGGGTATCGATTCCTGTACCCTTCTCGTTGTG-CAG-GATGATTAAGCGACGA-TTTGGCGATGACCCGGG-CTGATGGT-ATCGCAGTCGGTCACTACTCCCACAG-AAAACAGTGAAGGCGCCTGCGGGC-TCGCCACGCCCTCACCCGCCATTACAATGGGGTTTT-TA-TCTG-CCCGC-GCGTCACGGTCCACCAGCCAGGCCAAAGGTCACCCCGAGCCTGGA-TCACGCCCACAACCAATCCGGGGAA-CGGATCG-GTTCCTACGGTTCTGA-G-CGCTCAC-TGACGCCGTTGCAC-ATCCC-ATTTTTGGGCTC-CG-CTG-CAC-CGGTTTGTCCTGTCCTTCGCTCCGTAACCCGAGCAC-TATGCTGTC-AGATGGCCCGCCCTTGAGGGTAAC-AAGGG-CGTTTAGTTTTTTC-TGT-GGGGT-GCCC-GGG--TGCTTCCTCCCAAAGCT-GATTCTTGCCC-AGGCA-TTGCGGTGAGACCTGAAGCGTTCGTAGCCATCCATCCTGCT-GAGTGGA-T-CCGGCCCTCTGGCAACGGGACGCGCCTCCGC-CCT-GCACGCGGAATCCACGACCGCCCAAGGCGGAGGCAGC-TGTTCGTGCCCCG-TTCCTCCGACATGCGCGCCACATACCCGCC-CT-GTG-CTTAGTATGAGGCGGGCGGAACCCCCTTATATGG-ACCGCTTGGCAG-GCCCGATCTCACGGCG-CGGC-AGGGTCAAGTGGGCCGCGTGCGGCGGACGTTCCC-AACACCCCAGACCGTTTAGCGGT-TGAGCTACGTTATTGGGGAGTGCGACGAACCTCAGGCTGTGTATCAGATACCAACGTGCGCCCGGGATGAGATCGGAGGGGGGATAGGGTATGGATTGTCGGAGGCTTCTGACATGAGTCATGCTTACGACCGAACCTCTGCAGACGGTCCAGCGACGCCAATGACTACACTGGCCTGCGCGTCTGACTGGAACTCGGAGGCCCCCGCAATGCCCATTCAGGCGGTATA-CGTGTTCTGGCAG-TGTGATGGTGACCTCAACTGAGGCTCCTCAAGCAGAGG-TATTGAGTGCCTGTAGTGCCGGTTGTCGACCGCCTTAAACTCCTAGGCCTCCTTTCCCGAAGGGCTGCGACTC-ACTCGGTACGGCATGTAGACACTGGGTATGGGGGACACCACCCGGCACTCTCGTTAGCGTT-GGCCTCGCCAGCATGGACTCATCGTGAAGCATCCGTTCAGGCTGAGGTGCACAC-GGGGAGACAAGTAGCTTGGCTCGGATCACGAAGTTTTCCGTTCAAATGCGCCCGTAATGTCCGGAATTTGGGCACGAGCAGGGTGTCAAGATCGGTTGCCCAAGTGAGCCTGACCAGCGAATGTACGTCCAACCGTGGTTCCA-GCGCTTAATTCGACTCTCTCCTCAA-CCCGAGTACCGGCCGACAGGAGCGGTCAACTTTGCAACCTCTCCCGGTCG-CCCCGCCGGGTCGGTTGATCCAATTCAACCCCTTCGGCGGGCG-TGGGGAACTCTGAGCA-CGAAGGCGGCATTCCGCATTTTACCGTTACTGCGATCGGCCTGTGTCCAAAGCACCCACCCCTGCGGAGGCGCCTTACACAGATAAGGTGTGAGGGGACATTGCTAATCAACGACTGCATCTAGGTCGAGTAA-CCGAAACATTGGGCGGGCGTCCGAGCGCCCTGCGACGGCGGGTGGGTCTGGTCCC-CACGTCCGTCTGCCTGCGGACCAGCAGACTTTGCGGTTGACCTGGTTAT-CGGGCTTGCCCGTGACGATGGAGGGTTCCAGCATGAA-GCGTAT-CCGGGCAGATACAGCTGCCGGCGTAAGG-GGTGAAGGGGCACACTTGTCCACCCCAGCCCTGTGCA-ATACTCACCGGACCTTGGCCAC-GAACACCACGCCCCCGCGTCATACCCCTATGTACCATCGAAGACGATGAGGGGTACTTAGACGTCCAGAGGCACCCACCTGTCGTGGAGAGCACGTGCTGCTGTCGGGACCACGCAC-CGCAGGGAGCCGTGATTTCCACAAAAGTAATGCGTA-CCCGGGCCTCTTCACAGGTGAACGTAGCTCGGCGCCCCCCG-AAGTATGCTTAGGCGAAGGATCAGGTACAAGCA-ATTTGGAATTGTAACTAGGAGAAGGTGGCGTCGCCTCGCTCATCAAGGTTGTGGGTGACCCAGTCTAGCTATCCGTCTACGA-GTATATTCTCGGCACGCTCTACATGAACACTGTGATGGTGAACCCAAAGGGTTGGCGCGGGACTAACTGGTG-TCCGTTTC-GCGTCGCCGTCAATTCGAGTCGGCATGGCAGGGACCAGAGAAGTCCGCCG-CCAGCGGAGCGATACCGCTCTTCCCAGCAGGACAGCACGG-CGGATTGACT-GG-AAAGGACATCTATA-TCACA-TCGTCGCGGGACCCGCTAGGCGCCGGGTCTTAGGAT-GCCACGCCAGTACCTAACATAGGGCC-GGCGTTATGACCGGTCGCAGACGAGCTCTCGGGGCAGGCGGGGTC-CAGGCAGCCAAATGCACAGCCATTGGGCTAGCAGGGGAAACCAAAAAGACGCCCCTCGATCTGGCGGTGCGCT-GCCACGCCCGATTCGAGATTACCACGGCCAGTAGCGGGAGTACCGACCTCGTCACGGGCTAGACGGCTGGCTGAAGGGTGCCTGGTCGGTTCGGCCAGCT-ACCGGGCAGACCGGCAACCCGATCGCGCTAACCGGGGCCTGACCGCGAGCACGGTTCGCTACGACGAGCAAAGGGAACTTCGCGCCGCGTCTCGT-GCATCAGAGCAGACGGCCGAGCTGGCACGCCCGCTGCGGACAGGTTTGCGCGGGCCACGC-AAGTAGTTAGGACTCATTTCGCGTAGGGG-CGGGCGCTCGGTTGACTCTAGGTGATGTCATCTCCTCAGCCACCAGCGGTCGGCATCAAGCAGAGGCCAGTGAGGGTGCCCTGCGCGCCTACGTCGGTACAACCGCGTCATGTCACCGCGATCAGTAGGTCGTGCCGTCGGGTTACATTCTTTGTGAATTCTTCAACCCCCAGGAGCTGCACGACCTGTGGGCTTCCT-TCAGACTCCGGTGACCGGTCCGCGCCCCCTGCCGGCTCCTCTGTCGGACGCAACGGG-GATTCGGAA-CCAC-TAGTTGGGGAC-TGTTTCGCGCAATGCCACCAGCACCTAGGAGGTCCTTTCGAAGTTCGTTAATCGCCCCTCGGTGCTGGCCTCCATTCCCGTAGCGTTAGACGGTCTCGTGCGGTACGTCACTCAGGATACCCCTGCATGACTGGTGGTGGTATCGACTTGGCCAGGGCACGGTTAAGCCTGCGTAGGGCGTGCCGCGGCCGCAAGCATCCCATACGTGGGGCTCCCTAGCGTCCCTGCAGTGGGGCCTTGACAAGGTTGCGTGGGATAACTAAGACCTAACAGCTAC-CCGCCTCGGGTTGTAGCACACGGG-AGGGGGATGGACGGATGGCTTCCCGCCCCAGGTGCTCCCATTCGGTACGTGGAGTGGCA-ATCGCTGCCTCGCCGCCTCGCACATC-CGCGGCTTTTGACGCTCACCTCAGTGCCCTTAGACTATACGAAGGGGGCAATATAGGTCCGTGGATGGACGCCGATCACAGGCCGTCGGTAATCTATGCCCGTACGGCTCAGGCCCGGACGGA-ATACGGCATCCCCGAGGGCCGGTCCCAGCTCTTGATAACCCCA-GAAAAATTAGGCTTTCCTCACAAGTCTATCGGGGGCCCATTGCCCGTTGGTTTTCGAGGCAACATTGGTGGTCCGCGTACGGAGCATTGTTCCCGGCGGGAAGCCCGGGCTTGCGGCTCCATGATGTACGGCTTTCGGCGAAG-GGCGCAGGTCAGCAGGCTCACTGATGAGC-CGCGGGAGG-GACACAGGGTGAGAGCCCAGAGCTCTGTGAAGCTTTCCCGTTCTGCATGCCTTGCGGT-CCCGGTTCACGCCCTATGCGAAGCTTCGACGGGATATTCGTTTTAGGGGCGCCAGGCTCTCAACGTCGACCTA-AGCACTACACTCGCATGGCTG-GCTCCAGCCAGAGTGGCTTACGACGCAACAGTATACCCGTCCGGAGGCCTCCAAGAACTCTGACGTATCGCCTCAGCGCCTACGTCAAGTCGCCCGCCGTTATGAGGCGCGGTGAGCCGTCACAGGTCCGGCCCCCAAGCAAGCGCGGACTCCGGT-TTCGACCCCACCGGCCCGGCGGGAAACGTCGAACGAGTCAATACGGC-CCTCCGGCCCGTTCAA-CCGTGTTCCCGGACTAGCGCCGAGATTCTTGTTGCATGGCGGGCGAG-GCCC-AGAGCTAGAGGGGCGCCGCCAAAGG-AAGGGCGCGCGCTCAGCTTCT-TAGCACGACCTTCGATGTACGCGCTTTCCGCGGCAAAGTGGTTCCGAC-TCATTAGTACCGG-GTGACATGGGGGCACATA-TCGCGGAGGGAGACCT-TCGCACC-GTGTGGTACTACCAAAGCCTTGTGCTAACGCTTACGCGGTGGGTAAGGGAGACTGGCTACCCCCCGATGACTCCCTTGCTCCCAACAGAACTCGATCGGCTAGAAGGCGACTCCGCCATCAGCTCGTGCGGAATCGACGAAGTTCAGACGGGGGCTAGTCAACCGGCCTCTCATCGGCCAGCCACCCGTCATGCGTCGCGCAGGAGCCGGACGCTGCGGCCAAGTTTCCGTTTATC-GAACCTGCTATCCAAATACTTCCGAGCGAG-GTGCCAGACCATGTGTCACATGCACATTCCGATAACCGGCACTTCTCATAGTG-CCTGGCCATTCACCTGTAGG-TGTCGCAGAGTAGCCTACCAGGGTTAAGGCCGGACAGACATTTTCGTTCCTACACAAGACGATCTCTATCTCGGATACGAGTAGACGTGCAATCCT-GCCTACCCCATGGCTCCCCTGACCTGACCTTAGGCGAGCCCCCATTGGAGCAGAAGGTCCGATTTCCCGTGATGTGCGATCGGGGTCCATCGCAGTTGCACTAGCTCACGATTACACCGATTTCTAACGACTGTAACCGTGGCGCACGCATGTCTCTAGGGTTCAGTAAGCGGCCGTCGGGGGCGAGGGTAAGCA-TCCTCAATAGACCTAAGGGGGCAGATTTCGCGA-TG-AGGTTTC-AGCAGGAGACGGCAAAGAACTTACGCTTGGTTGGTACAGGGGAGCGTCAACTTCCCGCCGCCGAGCACTCTCGAGGTCCAGATGGGGCCCCGATTGTCTAGTACGGGGGACCAAGCTCACACTTGAGTTTTGTTGATATGTCAGGCCTGGGAGGTT-CCTAGATTCACATCGA-TGTCGTAGTGGGGGTCTAG-CGTAACGAGGGCTAC\n",
      "CGATGTACGTTCCCGCGAGTACTCTCCGTGAGGACGCGCTC-TCTCGCTGGGGC-GCCTAGTCCCTAACCGCG-GCAATGTAGCATCCGTACGAT-TGTT-CTGAC-TCCCTCGGGGGGG-TCCCGTCCTTTCCCG-TCGGTGCGTCACTATTCGCTTAGACATGAGCCC-GCGCCCGCTTCTCCCCATCGGACCTAGCCCCT-TCGGAACCCGCCATGAGCGAAAGGCCGCTGGG-GGACCACAGCGGCA-AAGC-ACGAGGC-CCGGAGCC-CAC-GTCCCAGCCCGGTCG-GACGGGATGCAGCACCCATTAT-TTTCACGCAG-GGTTAGGATACCCACCATGTACTAAAAGTCCGCC-GGGCCGGTAAGGGGTAGGTGCGCG-GAGGCACAAT-CTGTTGCGGGGACCTCCAGA-AGTGCTTGCTGCAATGTGGTGTAGCTTGTGAACAGGGAACGCCCC-GGGACCC-ATCCGGACGTGCGACCTCCCGGGG-GGC-TACTCCGATCTCAGAAG-CGCGC-GCACGCGCGCTTGGTCAGACCG-ACTACTGGCGCCGTTGGGGGGCCTA-GCAGA-GCCGCGTGAAGCTC-TCATGGCA-TCGACGG-CTGTGAGCGGAGAGTG-CTGGCGCGATGCTAGAGCTCTCGCGGAGGTAAAGGCCGCA-ACGGTAGGTGGGCCGGCGTTCACACATCCGATGTGAGG-GGGCTGCATACGTACCCCGACGCATAGACGCAAACAAAGTG-CCATT-ACAGTCCAAT--TCGCACCCCC-GGGTGCCATGTGGCTGAGACTGAGCAGGGTCCTCCTA-TAC-C--CCGGAGGATTCCACGGTGC-CCAGATAGCGATCCCGGCAGGA-TGGGCCGGT-GCCAGGAGCGGTCACTTGCGGAGTCGTTCGA-TGCGAT-TCCGAAATACCTATGTTGAAAGTCCCTC-AGTACCCATAAGCTAGG-GGGTTATCTAGCCGGCCAAGCGCTTGAGTTACGTTG-GCAAGCAAT-CAA-GCGCTGGGGCTCATGTACTGCTTTCTTCGC-TGAGCAGACCACTGATCGTTGCCAGCTGGCCGGGTAGAACGCGCGGGGG-TTTCCGCATACCGGTGCGAAAGCCGCTGTGAGCCAGT-T-TCCGCCGAGCCGTGCTCCAACCTCAGGCTC-TA-CTCGGC-AAAGCCGTGGGCTCCGATACACCCAATACACG-ACGCCCGTTGTGGTTAGACCGGTTGCAGATGGGGTGCGG-GGCGGCCCCGTTCCCCCCGCTTCAC-GGGTA-GATACGACGGCAGATAGCAGCTACCATTT-GCGGTGATGCCTTTCG-TCTAAGCCGCCTGACG-AGATCTTAAACAGGAGTCGC-TGGCTCGCAAGGAGGCAGAGTGACTCGACCATTGGTCAGCCCCCGCGC-GCGCTCGGCCGGTAAGCAGCGAGGTCCCCATCCTTGCGCAAGGTGG-TGGTATGC-ATGGTTCCTACAGGCAGAGGGCCCCTTCGTAGCGATTCCGTCTTGGCACTTGC-AACACGGGAA-CCCCAAGTCACTCGCGGTAGGGA-CTGTT-CGTCTAGACGGGAGCATTTAC--CGTCTACGAGC-CAATACGCCATT-TCAAGGGCAC-GG-GAGGCGGTT--GGCTTATCCCTCACGAGGACGAGACGATTGC-GACCAGTTGGTTAGAAG-AGGTATT-GCGGTGGGCCGCCGCGAGGCTTCCGCACG-TCGCAGTGACATCGATCGACCC-AGGCTCGCATCGGACCAA-TCCGGGCCGGGTACGCACGAGAGGAGTGAAGGATGAAGCGCCATAGGTC-TACTCGCGGAGCGCTCGTGCAGTCGTAGGGGT-GC-GG-CCCTCCCGGGGGCACGTTCTCGGATCAGCTAGGTGTTGTAAGAGCCTGCAGTTAGCGCCGATCATGTGTGCCTAAGACGG-AGATGGGCAGGCATTGATTAGAGTCGGCATTGCAATCCGAGTCGCCCACGGCCGGAACCGCCCTCCG-AAGCGAG-CTCCTAGGCACTTGCAGGCCTGCAGACTGCGGTAAGCAAATAAGGCTCGACTCTGTTGGGCCCAG-GCGTTCGGGGGTACACATTAAGCAGGAGGTCAGACTCACACATGTCCAAGA-CAGGGTGCGTGCAATTATTGTTGGCGCGGCCTCTGA-GGACCAAGCGTGTGAACAATTGTGGGCTAAGTCGGTGCCGGAGATTGCTCACTCCGCGGAGATATCCGTTGTTTCGAGGTCGTTCGGTATAGCGCGACGAGCATCCGG-GGATTAAC-GCATTACGCGTTCTTT-TGCGTCCGCCGACACGGGTCAGTGCGCAACGACACCGGTATCTTTCACATC-AATTCAGTGACCACCTATAGGCCTGC-TGGGCCGCCGGGCCCTGACGCACTCTGAGATC-TCAGGGCGGTCC-GCCACGGGCTACCGCC-ACGCGGTGAGTCTAT-CCT-GCTTGCCAATGGTTTGACGGGAACGCTACACCTGCATCTCGTGACTCCCCCTCTTGC-GTCAGTGTCTAACCATGGGAAGGGGGGCTGGCGGTGGGTTGTAGCATAAGAATGGATCTAATGGCCCGCGCACTGGGGGTTCGAACAGTGGGACCGACGGGGGGGCCTCCGACGCGGATCCAGGGGCAGCCTTACCAGGGTATCGATTCCTGTACCCTTCTCGTTGTGCCAGCGATGCTTAAGCGACGACTTTGGCGATGACCCGGGGCTGAT-GTGATCGCAGTCGGTCACTCCT-CCACAGGAAAACAGTGAAGGCGCCTGCGGGGTTCGCCACTCCCTCACCCGCCATTACAACGGGGTTTTGTACTCTGACCCGCCGCGTCACGGTCCACCAGCCAGGCCAAAGGTCACCCCGAGCCTGGACTCACGCCCACAACCAATCCGGGGAAGCGGATCGTGTTCCTACGGTTCTGACGCCGCTCACGTGACGCCGTTGCACGATCCCT-TTTTTGGGCTCCCGGCTGCCACCCGGTTTGTCCTGTCCTTCGCTCCGTAAGTCG-GCACCTATGCTGTCGAGATGGCCCGCCCTTGAG-GTTACCAAGGGGCGTTTAGTTTTTTCCTGTAGGGGTAGCCC-GGGCTTGCCT-CTCCCAAAGCTAGATTCTTGCCCCAGGCAATTGCGGTGAGACCTGAAGCGTTCGTAGCCATCCATCCTGCTCGAGTGGACTGCCGGCCCTCTGGCAACGGGACGCGC-TCCGCCCCTGGCACGC-GAATCCTCGACCGCCCAAGGCGGAGGCAGCGTGTTCGTGCCCCGG-TCCTCCGACATGCGCGCCACATACCCGCCGCCCGTGTCTTAGTATGAGGCGGGCGGAACCCCCTTATATGGCACCGCTTGGCAGTGCCCGATCTCACGGCGCCGGCCAGGGTCAAGTGGGCCGCGTGCGGCGGACGTTCCCCAACACCCCAGACCG-TTAGCGGTTTGAGCTACGTTATTGGGGAGTGCGACGAACCTCAGGCTGTGTATCAGATACCAACGTGCGCCCGGGATGAGATCGGAGGGGGGATAGGGTATGGATTGTCGGAGGCTTCTGACATGAGTCATGCTTACGACCGAACCTCTGCAGACGGTCCAGC-ACGCC-ATGACTACACTGGCCTGCGCG-CTGACTGGAACTCGGAGGCCCCCGCAATGCCCATTCAGGCGGTATAGCGTGTTCTGGCAGCTGTGATGGTGACCTCAACTGTGGCTCCTCAAGCAGAGGTTATTGAGTGCCTGTAGTGCCGGTTGTCGACCGCCTTAAACTCCTAGGCCTCCTTTCCCGAAGGGCTGCGACTCCACTCGGTACGGCATGTAGACACTGGGTATGGGGGACACCACCCGGC-CTCTCGTAAGCGTTCGGCCTCGCCAGCATGGACTCATCGTGAAGCATCCGTTCAGGCTGAGGTG-ACACCGGGGAGACAAGTAGCTTGGCTCGGATCACGAAGTT-TCCGTTCAAATGCGCCCGTAATGTCCGGAATTTGGGCACGAGCAGGGTGTCAAGATCGGTTGCC-AAGTGAGCCTGACCAGCGAATGTACGTCCAACCGTGGTTCCAAGCGCTTAATTCGACTCTCTCATCAAACC-GA-TACCGGCCGACAGGAGCGGTCAACTTTGCAACCTCTCCCGGTCGCCC-CGCCGGGTCGGTTGATCCAATTCAACCCCTTCGGCGGGCGATGGGGAACTCTGAGCATCGAAGGCGGCA-TCCGCATTTTACCGTTACTGCGATCGGCCTGTGTCCAAAGCACCCCCCCCTGCGGAGGCGCCTTACA--GATAAGGTGTGAGGGGACATTGCTAATCAACGACTGCATC-AGGTCGAGTAACCCGAAACATTGGGCGGGCGTCCGAGCGCCCTGCGACGGCGGGTGGGTCTGGTCCCCCACGTCCGTCTGCCTGCGGACCAGCAGACTTTGCGGTTGACCTGGTCGTTCGGGCTTGCCCGTGACGATGGAGGGTTCCAGCATGAACGCGTATTCCGGGCAGATACAGCTGCCGGCGTAAGGGGGTGAAGGGGCACACTTGTCCACCC-AGCCCTGTGCACATACTCACCGGACCTTGGCCACCGAACACCACGCCCCCGCGTCATACCCCTATGTACCATCGAAGACGATGAGGGGTACTTAGACGTCCAGAGGCACCCACCTGTCGTGGAGAGCACGTGCTGCTGTCGGGACCACGCACCCGCAGGGAGCCGTGATTTCCACA-AAGTAATGCGTAGCCCGGGCCTCTTCACAGGTGAACGTAGCTCGGCGCCCCCCGGATGTATGCTTAGGCGAAGGATCAGGTACAAGCACATTTGGAATTGTAACTAGGAGAAGGTGGCGTCGCCTCGCTCATCAAGGTTGTGGGTGACCCAGTCTAGCTATCCGTCTACGATGTATATTCTCGGCACGCTCTACATGAACACTGTGATGGTGAACCCAAAGGGTTGGCGCGGGACTAACTGGTGCT-CGTTTCC-CGTCGCCGTCAATTCGAGTCGGCATGGCAGGGACCAGAGAAGTCCGCCGGCCAGCGGAGCGATACCGCTCTT-CCAGCAGGACAGCACGGTCGGATTGACTTGGAAAAGGACATCTATAATCACACTCGTCGCGGGACCCGCTAGGCGCCGGGTCTTAGGATCGCTACGCCAGTACCTAACATAGGGCCCG-CGTTATGACCGGTCGCAGACGAGCTCTCGGGGCAGGCGGGGTCGCAGGCAGCCAAATGCACAGCCATTGGGCTAGCAGGGGAAACCAAAAAGACGCCCCTCGATCTGGCGGTGCGCTAGCCACGCCCGATTCGAGATTACCACG-CCAGTAGCGGGAGTACCGACCTCGTCACGGGCTAGACGGCTGGCTGAAGGGTGCCTGGTCGGTTCGGCCAGCTTACCGGGCAGACCGGCAACCCGATCGCGCTAACCGGGGCCTGACCGCGAGCACGGTTCGCTACGACGAGCAAAGGGAACTTCGCTCCGCGTCTCGTCGCAT-AGAGCAGACGGCC-AG-TGGCACGCCCGCTGCGGACAGGTTTGCGCGGGCCACGCTAAGTAGTTAGGACTCATTTCGCGTAGGGGACG-GCGCTCGGTAGACTCTAGGTGATGTCATCTCCTCAGCCACCAGCGGTCGGCATCAAGCAGAGGCCAGTGAGGGTGCCCTGCGCGCCTACGTCGGTGCAACCGCGTCATGTCACCGCGATCAGTAGGTCGTGCCGTCGGGTTACATTCTTTGTGAATTCTTCAACCCCCAGGAGCTGCACGACCTGTGGGCTTCCTGTCAGACTCCGGTGACCGGTCCGCGCCCCCTGCCGGCTCCTCTGTCGGACGCAACGGGGGATTCGGAACCCACGTAGT-GGGGACGTGTTTCGCGCAATGCCACCAGCACCTAGGAGGTCCTTTCGAAGTTCGTTAATCGCCCCTCGGTGCTGGCCTCCATTCCCGTAGCGTT-GACGGTCTCGTGCGGTACGTCACTCAGGATACCCCTGCATGACTGGTGGTGGTATCGACTTGGCCAGGGCACGGTTAAGCCTGCGTAGGGCGTGCCGCGGCCGCAAGCATCCCATACGTGGGGCTCCCTAGCGTCCCTGCAGTGGGGCCTTGACAAGGTTGCGTGGGATAACTA-GACCTAACAGCTACTCCGCCTCGGGTTGTAGCACACGGGCAGGGGGAGGGACGGATGGCTTCCCGC-CCAGGTGCTACCATTCGGTACGTGGAGTGGCATATCGCTGCCTCGCCGCCTCGCAC-TCGCGCGGCTTTTGACGCTCACCTCAGTGCCCTTAGACTATACGAAGGGGGCAATATAGGTCCGTGGATGGACGCCGATCGCAGGCCGTCGGTAATCTATGCCCGTACGGCTCAGGCCC-GACGGAGATACGGCATCCCCGAGGGCCGGTCCCAGCTCTTGATAACCCCATGAAAAATTAGGCTTTCCTCACAAGTCTATCGGGGGCCCATTGCCCGTTGGTTTTCGAGGCAACATTGGTGGTCCGCGTACGGAGCATTGTTCCCGGCGGGAAGCCCGGGCTTGCGGCTCCATG-TGTACGGCTTTCGGCGAAGTGGCGCAGGTCAGCAGGCTCACTGATGAGCCCGCGGGAGGTGACACAGGGTGAGAGCCCAGAGCTCTGTGAAGCTTTCCCGTTCTGCATGCCTTGCGGTGCCCGGTTCACGCCCTATGCGA-GCTTCGACGGGATATTCGTTTTAGGGGCGCCAGGCTCTCAACGTCGACCTACAGCACTACACTCGCATGGCTGCGCTCCAGCCAGAGTGGCTTACGACGCAACAGTATACCCGTCCGGCGGCCTCCAAGAACTCTGACGTATCGCCTCAGCGCGTACGTCAAGTCGCCCGCCGTTATGAGGCGCGGTGAGCCGTCACAGGTC-GGCCCCCAAGCAAGCGCGGACTCCGGTCTTCGACCCCACCGGCCCGGCGGGAAAAGTCGAACGAGTCAATACGGCACCTCCGGCCCGTTCAATCCGT-TTCCCGGACTAGCGCCGAGATTCTTGTTGCATGGCGGGCGAGAGCCCCAGAGCTAGAGGGGCGCCGCCAAAGGGAAGGGCGCGCGCTCAGCTTCTGTAGCACGACCTTCGATGTACGCGCTTTCCGCGGCAAAGTGGTT-CGACCTCATTAGTACCGGCGTGACATGGGGGCACATAATCGCGGAGGGAGACCTGTCGCACCCGTGTGGTACTACCAAAGCCTTGTGCTAAAGCTTACGCGGTGGGTAAGGGAGACTGGCTACCCCCCGATGACTCCCTTGCTCCCAACAGAACTCGATCGGCTAGAAGGCGACTCCGCCATCAGCTCGTGCGGAATCGACGAAGTTCAGACGGGGGCTAGTCAACCGGCCTCTCATCGGCCAGCCACCCGTCATGCGTCGCGCAGGAGACGGACGCTGCGGCCAAGTTTCCGTTTATCGGAACCTGCTATCCAAATACTTCCGAGCGAGTGTGCCAGACCATGTGTCACATGCACCTTCCGATAACCGGCACTTCTCATAGTGCCCTGGACATTCACCTGTAGGTTGTCGCAGAGTAGCCTACCAGGGTTAAGGCCGGACAGACATTTTCGTTC-TACACAAGACGATCTCTATCTCGGATACGAGTAGACGTGCAATCCTAGCCTACCC-ATGGCTCCCCTGACCTGACCTTAGGCGAGCCCCCATTGGAGCAGAAGGTCCGATTTCCCGT-ATGTGCGATCGTGGTCCATCGCAG-TGCAC-AGCTCACGATTACACCGATTTCT-ACGACTGTAACCGTGGCGCACGCATGTCTCTAGGGTTCAGTAAGCGGCCGTCGGGGGCGAGGGTAAGCATTCCTCAATAGACCTAAGGGGGCAGATTTCGCGAATGCAGGTTTCGAGCAGGAGACGGC-AAGAACTTACGCTTGGTTGGTACAGGGGAGCGTCAACTTCCCGCCGCCGAGCACTCTC-AGGTCC-GATGGGGCCCCGATTGTCTAGTACGGGGGACCAAGCTCACACTTGAGTTTTGTTGATATGTCAGGCCTGGGAGGTTGC-AAGATTCACATCGACTGTCGTAGTGGGGGTCTAGCCGTAACGAGGGCTACTCAGGCCCAAACAACAAGCACGCCCCTTACCATTACCCTACGGCCACGCTGAGGCCACACCGCCCTAAGCCATCTATACGAGCCCCGCTGGCCGAGGCCCCTCGTAATGCCCCCCTGTAAACATGGCTGCGTTCGCGGGGGGTTGGGAACGT-TTTGTAGTGTGTGTATTAAAGTCCTGGCCGACAGACGTCACCGCCCCCCGGGGCAACCATGCGACGGAACTCCTATAATTTGTACGAAGTGCTTGGGCTTCCAGGGCTCAATTACGTA-GCGTGATCGGGCTCTC-CCTTGTTAATCCGAAACCCGGGTCACCGGTTGAACCAAACCCTGAGAATGGCGGGGGTGGATACGATCCACGCAGCGACCGCCGTAGGAAAGACTCGCGCACCCCCGGCTTGGGGAGAGGGCGCCAGGCCTTGATAAGGTGACCGGTGTGGGTTTCCGGCGGGAGCTAATCTTCTGGTGGCTCAGGTTGGTAAACTAACCGCGGCGCTAGCACAGGAAGTGACCACCCCGCCCACATGCGCGCTGACATGCGAAGTAATCCAACCGGGCGCTCTACTCGGGCAAAGCGCAGTAACCGATACGAATACCTTACGGCTGGCATGGACG-CAGAGGA-CTATGGTACTGGAG-TGAGACAGGGGTGCGGACGCGCGTGGTGGATGCCGGCTGCGGCTCACCCCTGGCCGTACG-GACCAATTGGTTGATAGGTCTTGTTGATGCAGTGCGGCGGCC\n",
      "TGCCGGTTGTCGACCGCCTTAAACTCCTAGGCCTCCTTTCCCGAAGGGCTGCGACTCCACTCGGTACGGCATGTAGACACTGGGTATGGGGGACACCACCCGGCACTCTCGTAAGCGTTCGGCCTCGCCAGCATGGACTCATCGTGAAGCATCCGTTCAGGCTGAGGTGCACACCGGGGAGACAAGTAGCTTGGCTCGGATCACGAAGTTTTCCGTTCAAATGCGCCCGTAATGTCCGGAATTTGGGCACGAGCAGGGTGTCAAGATCGGTTGCCCAAGTGAGCCTGACCAGCGAATGTACGTCCAACCGTGGTTCCAAGCGCTTAATTCGACTCTCTCATCAAACCCGAGTACCGGCCGACAGGAGCGGTCAACTTTGCAACCTCTCCCGGTCGCCCCCGCCGGGTCGGTTGATCCAATTCAACCCCTTCGGCGGGCGATGGGGAACTCTGAGCATCGAAGGCGGCATTCCGCATTTTACCGTTACTGCGATCGGCCTGTGT-CAAAGCACCCACCCCTGCGGAGGCGCCTTACACAGATAAGGTGTGAGGGGACATTGCTAATCAACGACTGCATCTAGGTCGAGTAACCCGAAACATTGGGCGGGCGTCCGAGCGCCCTGCGACGGCGGGTGGGTCTGGTCCCCCACGTCCGTCTGCCTGCGGACCAGCAGACTTTGCGGTTGACCTGGTCGTTCGGGCTTGCCCGTGACGATGGAGGGTTCCAGCATGAACGCGTATTCCGGGCAGATACAGCTGCCGGCGTAAGGGGGTGAAGGGGCACACTTGTCCACCCCAGCCCTGTGCACATACTCACCGGACCTTGGCCACCGAACACCACGCCCCCGCGTCATACCCCTATGTACCATCGAAGACGATGAGGGGTACTTAGACGTCCAGAGGCACCCACCTGTCGTGGAGAGCACGTGCTGCTGTCGGGACCACGCACCCGCAGGGAGCCGTGATTTCCACAAAAGTAATGCGTAGCCCGGGCCTCTTCACAGGTGAACGTAGCTCGG-GCCCCCCGGATGTATGCTTAGGCGAAGGATCAGGTACAAGCACATTTGGAATTGTAACTAGGAGAAGGTGGCGTCGCCTCGCTCATCAAGGTTGTGGGTGACCCAGTCTAGCTATCCGTCTACGATGTATATTCTCGGCACGCTCTACATGAACACTGTGATGGTGAACCCAAAGGGTTGGCGCGGGACTAACTGGTGCTCCGTTTCCGCGTCGCCGTCAATTCGAGTCGGCATGGCAGGGACCAGAGAAGTCCGCCGGCCAGCGGAGCGATACCGCTCTTCCCAGCA-GACAGCACGGTCGGATTGACTTGGAAAAGGACATCTATAATCACACTCGTCGCGGGACCCGCTAGGCGCCGGGTCTTAGGATCGCTACGCCAGTACCTAACATAGGGCCCGGCGTTATGACCGGTCGCAGACGAGCTCTCGGGGCAGGCGGGGTCGCAGGCAGCCAAATGCACAGCCATTGGGCTAGCAGGGGAAACCAAAAAGACGCCCCTCGATCTGGCGGTGCGCTAGCCACGCCCGATTCGAGATTACCACGGCCAGTAGCGGGAGTACCGACCTCGTCACGGGCTAGACGGCTGGCTGAAGGGTGCCTGGTCGGTTCGGCCAGCTTACCGGGCAGACCGGCAACCCGATCGCGCTAACCGGGGCCTGACCGCGAGCACGGTTCGCTACGACGAGCAAAGGGAACTTCGCGCCGCGTCTCGTCGCATCAGAGCAGACGGCCGAGCTGGCACGCCCGCTGCGGACAGGTTTGCGCGGGCCACGCTAAGTAGTTAGGACTCATTTCGCGTAGGGGACGGGCGCTCGGTAGACTCTAGGTGATGTCATCTCCTCAGCCACCAGCGGTCGGCATCAAGCAGAGGCCAGTGAGG-TGCCCTGCGCGCCTACGTCGGTGCAACCGCGTCATGTCACCGCGATCAGTAGGTCGTGCCGTCGGGTTACATTCTTTGTGAATTCTTCAACCCCCAGGAGCTGCACGACCTGTGGGCTTCCTGTCAGACTCCGGTGACCGGTCCGCGCCCCCTGCCGGCTCCTCTGTCGGACGCAACGGGGGATTCGGAACCCACGTAGTTGGGGACGTGTTTCGCGCAATGCCACCAGCACCTAGGAGGTCCTTTCGAAGTTCGTTAATCGCCCCTCGGTGCTGGCCTCCATTCCCGTAGCGTTAGACGGTCTCGTGCGGTACGTCACTCAGGATACCCCTGCATGACTGGTGGTGGTATCGACTTGGCCAGGGCACGGTTAAGCCTGCGTAGGGCGTGCCGCGGCCGCAAGCATCCCATACGTGGGGCTCCCTAGCGTCCCTGCAGTGGGG\n",
      "CTCGTCATGGTACACATCCTGCTACGAGCCAGAGACTGTTGAAAGCCCGAGGAAGCGTGCCAGGACCGATGCGCAGGGAGCGACTTAGCTAGGCAGAGTGAGACGTGTCGCTTGAGCGTCCGCAGTACAGGGAAGTGGCACGACGTCCTGAGGCCCTGAACGTGGCGTAGGCCACTTTGACCCGGTA-TCTAGCAAGAGCAACGGGACCTTCGACGGTCGTCCAGGGTTGCGACGTAAGACGGCGCCCCAAGCCAGTCATCAGCCCGCGCTGTCTATACACCGACCAGGCCTCTCCGGGGAAATGCACACAGCGCTATTGTGCTTTAGAACAACATCAGAGGTCCCTAACCGAGCCTACCTCGCTGCTCCCACCGCCACCACTTCATTC-TGCGGCGGAACGGCGTACGCACATACCGCCAGGGAGAGTCACCTTATAGTTCACCGGCGCAAGGCGCAGTGCCGCGTGATTCGCGTTGCGCCGGCCAGCCTCGGCAGTGACTAATCCGGTTGGCCGCGAGCCCGAG-GTAGCGCACGGCGATGTACGTTCCCGCGAGTACTCTCCGTGAGGACGCGCTCATCTCGCTGGGGCCGCCTAGTCCCTAACCGCGCGCAATGTAGCATCCGTACGATGTGTTTCTGACCACCCTCGCGGGGGCTCCCGTCCTTTC-CGATCAGTG-GTCACTATTCGCTTAGACATGAGCCCGGCGCCCGCTTCTCCCCATCGGACCTAGCCCCTCTCGGAACCCGCCATGAGCGAAAGGCCGCTGGGCGGACCACAGCGGCAGAAGCTACGAGGCGCC-GAGCC-CACCGTCCCAGCCCGGTCGCGACGGGATGCAGCACCCA-TATCTTTCACGCAGTGGTTAGGATACCCACTATG-AGTAAAAGTCCGCCGGGGCCGGTAAGGGGTAGGTGCGCGAAAGGCACAATCCTGTTGCGGGGACCTCCAGATA-TGCTTGCTGGAATGTGGTG-AGCTTGTGAACAGGGAACGCCCCTGGGACCCTATCCGGACGTGCGAC-TCCCGGGGTGACTTACTCCGATCTCAGAAGCCGCCCGGCACGCG-GCTTGGTCAGACCGCACTACT-GCGCCGTTGGGGGGCCTAAGCAGAGGCAGCGTGAAGCTCCTCATGGCATTCGACGGGCTGTGAGCGGAGAGTGCCTGCCGCGATGCTAGAGCTCTCGCGGAGGTAAAGGCCGCACACGGTAGGTGGGCCGGCGTTCACACATCCGATGTGAGGGGGGCTGCATACGTACCCCGACGCATAGACGCAAACAATGTGCCCATTAACAGTCCAATAGTCGCACCCCCGGGGTGCCATGTGGCTGAGACTGAGC-GGGTCCTCCTAGCACCCTCCCGGAGGATTCCACGGTGCGCCAGATAGCGTTCCCGGCAGG-CTGGGCCGGTCGCCAGGAGCGGTCACTT-CGGAGTCGTTCGAGTGCGATGTCCGAGA-ACCTATGTTGAAAGTCCCTC-AATACCCATAAGCTAGGTGGGTGATCTAGCCGGCCAAGCGCTTGAGTTACGTTGCGCAAGCAATACAAGGCGCTGGGGCTCATGTACTGC-TTCTTCGCCTGAGCAGACCACTGATCGTTGCCAGC-GGCCGGGTAGAACGCGCGGGGGGTTTCCGCATACCGGTGCAAAAGCCGCTGTGAGCCAGTCTCTCCGC-GAGCCGTGCTCCAACCTCAGGCTCCTAGCTCGGCAAAAGCCGTGGGCTCCGATACATCCAATACACGCACGCCCGTTGTGGTTTGACCGGTTGCAGATGGGGTGCGGAGGCGGCCCCGTTCCCCCCGCTTCACGGGGTAAGATACGACGGCAGATAGCA-CTACCATTTGGCGGTGATGCCTTTCGCTCTAAGCCGCCTGACGGAGATCTTAAACAGGAGTCGCGTGGCTCGCAAGGAGGCAGAGTGACTCGACCATTGGTCAGCCCCCGCGCTGCGCTCGGCCGGTAAGCAG-GAGGTCCCCATCCTTGCGCAAGGTGGATGGTATGCCATGGTTCCT-CAGGCAGAGGGCCCCTTCGTAGCGATTCCGCCTTGGCACTTGCGAACACGGGAAACCCCAAGTCACTCGCGGGAAGGATCTGTTGCGTCTGGACGGGAGGATTTA-GCCGTCTACGAGCGCAATACGCCATTG-CAAGGGCACGGGAGAGGCGGTTAAGGCTTATCCCTCACGAGGACGAGACGATTG-GGACCAGTTGGTTAGAAGCAGGTATTGGCGGTGGGCCGCCGCGAGGCTTCCGCACGGTCGCAGTGACATCGATCGACCCAAGGCTC--ATCGAACCAATTCCGGGCCGGGTACGCACGAGAGGAGAGAAGCATGAAGCGCCATAGGTCCTACTCGCGGAGCGCTCGTGCAGTCATAGGGGTGGCTGGCCCCTCCCGGGGGCACGTTCTCGGATCAGCTCGGTGTTGTAAGAGCCTGCAGTTAGCGCCGATCATGTGTGCCTAAGACGGGA-ATGG-CAGGCATTGATTAGGGTCGGCATTGCAATCCGAGTCGCCCACGGCCGGAACCGCCCTCCGAAAGCGAGGCTCCTAGGCACTTGCAGGCCTGCAGACTGCGGTAAGCAAATA-GGCTCGACTCTGTTGGGCCCAGGGCGTTCGGGGGTACACATTAAGCAGGAGG-CAGACTCACACATGTCCAAGATCAGGGTGCGTGCAATTATTGTTGGCGCGGCCTGT-ACGGACCAAGCGTGTGAACTATTGTGGGCTAAGTCGGGGCCGGAGATTGCTCACTCCGCGGAGATATCCGTTGTTTCGAGGTCGTTCGGTA-AGCGCGACGAGCATCCGGTGGATTAACCGCATTACGCGTTCTTTCTGCGTCCGCCGACACGGGTCAGTGCGCAACGACACCGGTAGCTTTCACATCG-ATTCAGTGACCACCTATAGGCCTGCCTGGGCCGCCGGGCCCTGACGCACTCTG-GATCATCCGGGCGGTCCAGCCACGGGCTACCGCCGACGCGGTGAGTCTATCCCTGGCTTGCCA-TGGTTTGACGGGAACGCTACACCTGCATCTCGTGACTCCCCCTCTTGCCG-CAG-GTCTAACCAT-GGAAGGGGGGCTGGCGGTGGGTTGTAGCATAAGAATGGATCTAATGGCCCGCGCACTGGG-GTTCGAACAGTGGGACCGACGGGGGGGCCTCCGACGCGGATCCAGGGGCAGCCTTACCAGGGTATCGATTCCTGTACCCTTCTCGTTGTGCCAGCGATGCTTAAGCGACGACTTTGGCGATGACCCGGGGCTGATGGTGATCGCAGTCGGTCACTCCTCCCACAGGAAAACAGTGAAGGCGCCTGCGGGGTTCGCCACGCCCTCACCC-CCATTACAACGGGG-TTTGTACTCTGACCCGCCGCGTCACGGTCCACCAGCCAGGCCAAAGGTCACCCCGAGCCTGGACTCACGCCCACAACCAATCCGGGGAAG-GGATCGTGTTCCTACGGTTCTGACGCCGCTCACGTGACGCCGTTGCACGATCCCTATTTTTGGGCTCC-GGCTGCCAGCCGGTTTGTCCTGTCCTTCGCTCCGTAAGTCGAGCACCTATGCTGTCGAGATGGCCCGCCCTTGAGGGTTACCAAGGGGCGTTTAGTTTTTTCCTGTAGGGGTAGCCC-GGGCTTG-CTCCTACCAAAGCTAGATTC-TGCCCCAGGCAATTGCGGTGAGACCTGAAGCGTTCGTAGCCATCCATCCTGCTCGAGTGGACTGCCGGCCCTCTGGCA-CGGGACGCGCCTCCGCCCCTGGCACGCGGAATC-TCGACCGCCCAAGGCGGAGGCAGCGTGT-CGTGCCCCGGTTCCTCCGACATGCGCGCCACATACCCGCCGCCCGTGTCTTAGTATGAGGCGGGCGGA-CCCCCTTATATGGCACTGCTTG-CAGTGCCCGATCTCACGGCGCCGGCCAGGGTCAAGTGGGCCGCGTGCGGCGGACGTTCCCCAACACCC-AGACCGTTTAG-GGTTTGAGCTACGTTATTGGGGAGTGCGACGAACCTCAGGCTGTGTATCAGATACCAACGTGCGCCCGGGATGAGATCGGAGGGGGGAT-GGGTATGGATTGTCGGAGGCT-CTGACATGAGTCATGCTTACGACCGAACCTCTGCAGACGGTCCAGCGACGCCAATGACTACACTGGCCTGCGCGTCTGACTGGAACTCGGAGGCCCCCGCAA-GCCCATTCAGGCGGTATA-CGTGTTCTGGCAGCTGTGATGGTGACCTCCACTGAGGCTCCTCAAGCAGAGGTTATTGAGTGCCTGTAGTGCCGGTTGTCGACCGCCTTAAA-TCCTAGGCCTCCTTTCCCGAAGGGCTGCGACTCCACTCGGTACGGCATGTAGACACTGGGTATGGGGGACACCACCCGGCACTCTCGTAAGCGTTCGGC-TCGCCAGCATGGACTCATCGTGAAGCATCCGTTCAGGCTGAGGTGCACACCGGGG-GACAAGTAGCTTGGCTCGGATCACGAAGTTTT-CGTTCAAATGCGCCCGTAATGTCCGGAATTTGGGCACGAGCAGGGTGTC-AGATCGGTTGCCCAAGTGAGCCTGACCAGCGAATGTACGTCCAACCGTGGTTCCAAGCGCTTAATTCGACTCTCTCATCAAACCCGAGTACCGGCCGACAGGAGCGGTCAACTTTGCAACCTCTCCCGGTCGCCCCCGCCGGGTCGGTTGATCCAATTCAACCCCTTCGGCGGGCGATGGGGAACTCTGAGCATCGAAGGCGGCATTCCGCATTT-ACCGTTACTGCGATCGGCCTGTGTCCAAAGCACCCACCCCT-CGGAGGCGCCTTACACAGATAAGGTGTGAGGGGACATTGCTAATCAACGACTGCATCTAGGTCGAGTAACCCGAAACATTGGGCGGGCGT-CGAGCGCCCTGCGACGGCGGGTGGGTCTGGT-CCCCACGTCCGTCTGCCTGCGGACCAGCAGACTT-GCGGTTGACCTGGTCGTTCGGGCT-GCCCGTGACGATGGAGGGTTCCAG-ATGAACGCGTATTCCGGGCAGATACAGCTGCCGGCGTAAGGGGGTGAAGG-GCACACTTGTCCACCC-AGCCCTGTGCACATACTCACCGGACCTTGGCCACCGAACACCACGCCCCCGCGTCATACCCCTATGTACCATCGAAGACGATGAGGGGTACTTAGACGTCCAGAGGCACCCACCTGTCGTGGAGAGCACGTGCTGCTGTCGGGACCACGCACCCGCAGGGAGCCGTGATTTCCACAAAAGTAATGCGTAGCCCGGGCCTCTTCACA-GTGAACGTAGC-CGGCGCCCCCCGGATGTATGCTTAGGCGAAGGATCAGGTACAAGCACATT-GGAATTGTAACTAGGAGA-GGTGGCGTCGCCT-GCTCATCAAGGTTGTGGGTGACCCAGTCTAGCTATCCGTCTACGATGTATATTCTCGGCACGCTCTACATGAACACTGTGATGGTGAACCCAAAGGGTTGGCGCGGGA-TAACTGGTGCTCCGTTTCCGCGTCGC-GTCAATTCGAGTCGGCATGGCAGGGACCA-AGAAGTCCGCCGGCCAGCGGAGCGATACCGCTCTTCCCAGCACGACAGCACGGTCGGATTGACTTGGAAAAGGACATCTATAATCACAC-CGTCGCGGGACCCGCTAGGCGCCGGGTCTTAGGATCGCTACGCCAGTACCTAACATAGGGCCCGGCGTTATGACCGGTCGCAGACGAGCTCTCGGGGCAGGCGGGGTCGCAGGCAGCCAAATGCACAGCC-TTGGGCTAGCAGGGGAAACCAAAAAGACGCCCC-CGAT-TGGCGGTGCGCTAGCCACGCCCGATTCGAGATTACCACGGCCAGTAGCGGGAGTACCGACCTCGTCACGGGCTAGACGGC-GGCTGAAGGGTGCCTGGTCG-TTCGGCCAGCTTACCGGGCAGACCGGCAACCC-ATCGC-CTAACCGGGGCCTGACCGCGA-CACGGTTCGCTACGACGAGCAAAGGGAACTTCGCGCCG-GTCTCGTCGCATCAGAGCAGACGGCCGAGCTGGCACGCCCGCTGCGGACAGGTTTGCGCGGGCCACGCTAAGTAGTTAGGACTCATTTCGCGTAGGGGACGGGCGCTCGGTAGACTCTAGGTGATGTCATCTCCTCAGCCACCAGCGGTCGGCATCAAGCAGAGGCCAGTGAGGGTGCCCTGCGCGCCTACGTCGGTGCAACCGCGTCATGTCACCGCGATCAGTAGGTCGTGCCGTCGGGTTACATTCTTTGTGAATTCTTCAACCCCCAGGAGCTGCACGACCTG-GGGCTTCCTGTCAGACTCCGGTGACCGGTCCGCGCCCCCTGCCGGCTCCTCTGTCGGACTCAACGGGGGATTCGGAACCCACGTAGTTGGGGACGTGTTTCGCGCAATGCCACCAGCACCTAGGAGGTCCTTTCGAAGTTCGTTA-TCGCCCC-CGGTGCTGGCCTCCATTCCCGTAGCGTTAGACGGTCTCGTGC-GTACGTCACTCAGGATACTCCTGCATGACTGGTGGTGGTATCGACTTGGCCAGGGCACGGTTAAGCCTGCGTAGGGCGTGCCGCGGCCGCAAGC--CCCATACGTGGGGCTCCCTAGCGTCCCTG-AGTGGGGCCTTGACAAGGTTGCGTGGGATAACTAAGACCTAACAGCTACTCCGCCTCGGGTTGTAGCACACGGGCAGGGGGAGGGACGGATGGCTTCCCGCCCCAGGTGCTCCCATTCGGTACGTGGAGTGGCATATCGCTGCCTCGCCGCCTCGCACATCGCGCGG-TTTTGACGCTCACCTCAGTGCCCTTAGACTATACGAAGGGGGCAATATAGGTCCGTGG-TGGACGCCGATCGCAGGCCGTCGGTAATCTATGCCCGTACGGCTCAGGCCCGGACGGAGATACGGCATCCCCGAGGGCCGGTCCCAGCTCTTGATAACCCCATGAAAAATTAGGCTTTCCTCACAA-TCTATCGGGGGCCCATTGCCCGTTGGTTTTCGAGGCAACATTGGTGGTCAGCGTACGGAGCATTGTTCCCGGCGGGAAGCCCGGGCTTGCGGCTCCATGATGTACGGCTTTCGGCGAAGTG-CGCAGGTCAGCAGGCTCACTGATGAGCCCGCGGG-GGTGACACAGGGTGAGAGCCCAGAGCTCTGTGAAGCTTTCCCGTTCTGCATGCCTTGCGGTGCCCGGTTCAC-CCCTATGCGAAGCTTC-ACGGGATATTCGTTT-AGGGGCGCCAGGCTCTCAACGTCGACCTAC-G-ACTACACTCGCATGGCTGCGCTCCAGCCAGAGTGGCTTACGACGCAACAGTATACCCGTCCGGCGGCCTCCAAGAACTCTGACGTATCGCCTCAGCGCCTACGTCAAGTCGCCCGCCGTTATGAGGCGCGG-GAGCCGTCACAGGTCCGGC-CCCAAGCAAGCGCGGACTCCGGTCTTCGACCCCACCGGCCCGGCGGGAAAAGTCGAACGAGTCAATACGGCACCTCCGGCCCGTTCAATCCGTGTTCCCGG-CTAGCGCCGAGATTCTTGTT-CATGGCGGGCGAGAGCCCCAGAGCTAGAGGGGCGCCGCCAAAGGGAAGGGCGCGCGCTCAGCTTCTGTAG-ACGACCTTCGATGTACGCGCTTTCCGCGGCAAAGTGGTTCCGACCTCATTAGTACCGGCGTGACATGGGGGCACATAATCGCGGAGGGAGACCTGTCGCACCCGTGTGGTACTACCAAAGCCTTGTGCTA-AGCT-ACGCGG-GGGTAAGGGAGACTGGCTACCCCCCGATGACTCCCTTGCTCCCAACAGAACTCGATCGGCTAGAAGGCGACTCCGCCATCAGCTCGTGCGGAATCGACGAAGTTCAGACGGGGGCTAGTCAACCGGCCTCTCA-C-GCCAGCCACCCGTCAT-CGTCGCGCAGGAGACGGAC-CTGCGGCCAAGTTTCCGTTTATCGGAACCTGCTATCCAAATACTTCCGAGCGAGTGTGCCAGACCATGTGTCACATGC-CCTTCCGATAACCGGCACTTCTCATAGTGCCCTGGACATTCACCTGTAGGTTGTCGC-GAGTAGCCTACCAGGGTTAAG-CCGGACAGACATTTTCGTTCCTACACAAGACGATCTCTATCTCGGATACGAGTAGACGTGCAATCCTAGCCTACCCCATGGCTCCCCTGACCTGACCTTAGGCGAGCCCCCATTGGAGCAGAAGGTCCGATTTCCCGTGATGTGCGATCGGGGTCCATCGCAGTTGCACTAGCTCACGATTACACCGATTTCTAACGACTGTA-CCGTGGCGCACGCATGTCTCTAGGGTTCAGTAAGCGGCCGTCG-GGGCGAGGGTAAGCATTCCTCAATAGACCTAAGGGGGCAGATTTCGCGAATGCAGGTTTCGAGCAGGAGACGGCAAAGAACTTACGCTTGGTTGGTACAGGGGAGCGTCAACTTCCCGCCGCCGAGCACTCTCGAGGTCCAGATGGGGCCCCGATTGTCTAGTACGGGGGACCA-GCTCACACTTGAGTTTTGTTGATATGTCAGGCCTGGGAGGTTGCCTAGATTCACATCGACTGTCGTAGTGGGGGTCTAGCCGTAACGAGGGCTACTCAGGCCCAAACAACAAGCAC-CCCCTTACCATTA-CCTACGGCCACGCTGAGGCCACACCGCCCTAAGCCATCTATACGAGCCCCG-TGGCCGAGGCCCCTCGTAATGCCCCCCTGTAAACATGGCTGCGTTCGCGGGGGGTTGGGAACGTGTTTGTAGTGTGTGTATTAAAGTCCTGGCCGACAGACGTCACCGCCCCCCGGGGCAACCATGCGACGGAACTCCTATAATTTGTACGAAGTGCTTGGGCTTCCAGGGCTCA-TTACGT-CGCGTGATCGGGCTCTCGCCTTGTTAATCCGAAACCCGGGTCACCGGTTGAACCAAACCCTGAGAATGGCGGGGGT-GATACGATCCACGCAGCGACCGCCGTAGGACAGACTCGCGCACCCCCGGCTTGGGGAGAGGGCGCCAGGCCTTGATAAGGTGACCGGTGTGGGTTTCCGGCGGGAGCTAATCTTCTGGTGGCTCAGGTTGGTAAACTAACCGCGGCGCTAGCACAGGAAGTGACCACCCCGCCCACATGC-CGATGACATGCGAAGTAATCCAACCGGGCGCTCTACTCGGGCAAAGCGCAGTAACCGATACGAATACCTTACGGCTGGCATGGACG-CAGAGG-GCTATGGTACTGGAGCTGAGACAGGGGTGCGGACGCGCGTGGTGGATGCCGGCTGCGGCTCACCCCTGGCCGTACGCGACCAATTGGTTGATAGGTCTTGTTGATGCAGTGCGGCGGCCCAAGTGTCACAGGGCCGACGCATCACTCAGATCTTTCCCTGTCTGGGCGTTCCAGCCCGCGTCG-GGAAGGGGGCCAACCGTTTAC-AGCGCCTTAGCCAGTCCATTACGCGACATGTTGGCGGGCCGGGGTCGACCCGGGGTAACTCAACACGGAACATTCTAGGGCGTAGTCGCGGCCGTACCCTATTTGCCCAGGAGTAGCGGAATGTCGTTAAGGCAGTGAACCTGGGCACTGGCG-GCTCTAAGCAGAGCCTGTGATGAGGAGATCCCG\n",
      "CCGCCGGGGCCGGTAAGGGGTAGGTGCGCGAAAGGCACAATCCTGTTGCGGGGACCTCCAGATAGTGCTTGCTGGAATGTGGTGTAGCTTGTGAACAGGGAACGCCCCTGGGACCCTATCCGGACGTGCGACCTCCCGGGGTGACTTACTCCGATCTCAGAAGCCGCCCGGCACGCGCGCTT-GTCAGACCGCACTACTGGCGCCGTTGGGGGGCCTAAGCAGAGGCAGCGTGAAGCTCCTCATGGCATTCGACGGGCTG-GAGCGGAGAGTGCCTGCCGCGATGCT-GAGCTCTCGCGGAGGTAAAGGCCGCACACGGTAGGTGGGCCGGCGTTCACACATCCGATGTGAGGGGGGCTGCATACGTACCCCGACGCATAGACGCAAACAATGTGCCCATTAACAGTCCAATAGTCGCACCCCCGGGGTGCCATGTGGCTGAGACTGAGCAGGGTCCTCCTAGCACCCTCCCGGAGGATTCCACGGTGCGCCAGATAGCGTTCCCGGCAGGACTGGGCCGGTCGCCAGG-GCGGTCACTTGCGGAGTCGTTCGAGTGCGATGTCCGAGATACCTATGTTGAAAGTCCCTCGAATACCCATAAGCTAGGTGGGTGATCTAGCCGGCCAAGCGCTTGAG-TACGTTGCGCAAGCAATACAAGGCGCTGGGGCTCATGT-CTGCTTTCTTCGCCTGAGCAGACCACTGATCGTTGCCAGCTGGCCGGGTAGAACGCGCGGGGGGTTTCCGCATACCGGTGCAAAAGCCGCTGTGAGCCAGTCTCTCCGCCGAGCCGTGCTCCAACCTCAGGCTCCTAGCTCGGCAAAAGCCGTGGGCTCCGATAC-TCCAATACACGCACGCCCGTTG-GGTTTGACCGGTTGCAGATGGGGTGCGGAGGCGGCCCCGTTCCCCCCGCTTCACGGGGTAAGATACGACGGCAGATAGCAGCTACCATTTGGCGGTGATGCCTTTCGCTCTAAGCCGCCTGACGGAGATCTTAAACAGGAGTCGCCTGGCTCGCAAGGAGGCAGAGTGACTCGACCATTGGTCAGCCCCCGCGCTGCGCTCGGCCGGTAAGCAGCGAGGTCCCCATCCTT-CGCAAGGTGGATGGTATGCCATGGTTCCTCCAGGCAGAGGGCCCCTTCGTAGCGATTCCGCCTTGGCACTTGCGAACACGGGAAACCCCAAGTCACTCGCGGGAAGGATCTGTTGCGTCTGGACGGGAGGATTTACGCCGTCTACGAGCGCAATACGCCATTGTCAAGGGCACGGGAGAGGCGGTTAAGGCTTATCCCTCACGAGGACGAGACGATTGCGGACCAGTTGGTTAGAAGCAGGTATTGGCGGTGGGCCGCCGCGAGGCTTCCGCACGGTCGCAGTGACATCGATCGACCCAAGGCTCGCATCGAACCAATTCCGGG-CGGGTACGCACGAGAGGAGAGAAGCATGAAGCGCCATAGGTCCTACTCGCGGAGCGCTCGTGCAGTCATAGGGGTGGC-GGCCCCTCCCGGGGGCACGTTCTCGGATCA-CTCGGTGTTGTAAGAGCCTGCAGTTAGCGCCGATCATGTGTGCCTAAGACGGGAGATGGGCAGGCATTGATTAGGGTCGGCATTGCAATCCGAGTCGCCCACGGCCGGAACCGCCCTCCGAAAGCGAGGCTCCTAGGCACTTGCAGGCCTGCAGACTGCGGTAAGCAAATAAGGCTCGACTCTGTTGGGCCCAGGGCGTTCGGGGGTACACATTAAGCAGGAGGTCAGACTCACACATGTCCAAGATCAGGGTGCGTGCAATTATTGTTGGCGCGGCCTCTGACGGACCAAGCGTGTGAACTATTGTGGGCTAAGTCGGGGCCGGAGATTGCTCACTCCGCGGAGATATCCGTTGTTTCGAGGTCGTTCGGTATAGCGCGACGAGCATCCGGTGGATTAACCGCATTACGCGTTCTTTCTGCGTCCGCCGACACGGGTCAGTGCGCAACGACACCGGTAGCTTTCACATCGAATTCAGTGACCACCTATAGGCCTGCCTGGGCCGCCGGGCCCTGACGCACTCTGAGATCATCCGGGCGGTCCAGCCACGGGCTACCGCCGACGCGGTGAGTCTATCCCTGGCTTGCCAATGGTTTGACGGGAACGCTACACCTGCATCTCGTGACTCCCCCTCTTGCCGTCAGTGTCTAACCATGGGAAGGGGGGCTGGCGGTGGGTTGTAGCATAAGAATGGATCTAATGGCCCGCGCACTGGGGGTTCGAACAGTGGGACCGACGGGGGGGCCTCCGACGCGGATCCAGGGGCAGCCTTACCAGGGTATCGATTCCTGTACCCTTCTCGTTGTGCCAGCGATGCTTAAGCGACGACTTTGGCGATGACCCGGGGCTGATGGTGATCGCAGTCGGTCACTCCTCCCACAGGAAAACAGTGAAGGCGCCTGCGGGGTTCGCCACGCCCTCACCCGCCATTACAACGGGGTTTTGTACTCTGACCCGCCGCCTCACGGTCCACCAGCCAGGCCAAAGGTCACC-CGAGCCTGGACTCACGCCCACAACCAATCCGGGGAAGCGGATCGTGTTCCTACGGTTCTGACGCCGCTCACGTGACGCCGTTGCACGATCCCTATTTTTGGGCTCCCGGCTGCCACCCGGTTTGTCCTGTCCTTCGCTCCGTAAGTCGAGCACCTATGCTGTCGAGATGGCCCGCCCTTGAGGGTTACC-AGGGGCGTTTAGTTTTTTCCTGTAGGGGTAGCCCAGGGCTTGCCTCCTCCCAAAGCTAGATTCTTGCCCCAGGCAATTGCGGTGAGACCTGAAGCGTTCGTAGCCATCCATCCTGCTCGAGTGGACTGCCGGCCCTCTGGCAACGGGACGCGCCTCCGCCCCTGGCACGCGGAATCCTCGACCGCCCAAGGCGGAGGCAGCGTGTTCGTGCCCCGGTTCCTCCGACATGCGCGCCACATACCCGCCGCCCGTGTCTTAGTATGAGGCGGGCGGAACCCC-TTATATGGCACCGCTTGGCAGTGCCCGATCTC-CGGCGCCGGCCAGGGTCAAGTGGGCCGCGTGCGGCGGACGTTCCCCAACACCCCAGACCGTTTAGCGGTTTGAGCTACGTTATTGGGGAGTGCGACGAACCTCAGGCTGTGTATCAGATACCAACGTGCGCCCGGGATGAGATCGGAGGGGGGATAGGGTATGGATTGTCGGAGGCTTCTGACATGAGTCATGCTTACGACCGAACCTCTGCAGACGGTCCAGCGACGCCAATGACTACACTGGCCTGCGCGTCTGACTGGAACTCGGAGGCCCCCGCAATGCCCATTCAGGCGGTATAGCGTGTTCTGGCAGCTGTGATGGTGACCTCAACTGAGGCTCCTCAAGCAGAGGTTATTGAGTGCCTGTAGTGCCGGTTGTCGACCGCCTTAAACTCCTAGGCCTCCTTTCCCGAAGGGCTGCGACTCCACTCGGTACGGCATGTAGACACTGGGTATGGGGGACACCACCCGGCACTCTCGTAAGCGTTCGGCCTCGCCAGCATGGACTCATCGTGAAGCATCCGTTCAGGCTGAGGTGCACACCGGGGAGACAAGTAGCTTGGCTCGGATCACGAAGTTTTCCGTTCAAATGCGCCCGTAATGTCCGGAATTTGGGCACGAGCAGGGTGTCAAGATCGGTTGCCCAAGTGAGCCTGACCAGCGAATGTACGTCCAACCGTGGTTCCAAGCGCTTAATTCGACTCGCTCATCAAACCCGAGTACCGGCCGACAGGAGCGGTCAACTTTGCAACCTCTCCCGGTCGCCCCCGCCGGGTCGGTTGATCCAATTCAACCCCTTCGGCGGGCGATGGGGAACTCTGAGCATCGAAGGCGGCATTCCGCATTTTACCGTTACTGCGATCGGCCTGTGTCCAAAGCACCCACCCCTGCGGAGGCGCCTTACACAGATAAGGTGTGAGGGGACATTGCTAATCAACGACTGCATCTAGGTCGAGTAACCCGAAACATTGGG-GGGCGTCCGAGCGCCCTGCGACGGCGGGTGGGTCGGGTCCCCCACGTCCG-CTGCCTGCGGACCAGCAGACTTTGCGGTTGACCTGGTCGTTCGGGCTTGCCCGTGAC-ATGGAGGGTTCCAGCATGAACGCG-ATTCCGGGCAGATACAGCTGCCGGCGTAAGGGGGGGAAGGGGCACACTTGTCCACCCCAGCCCTGTGCACATACTCACCGGACCT-GGCCACCGAA-ACCACGCCCCCGCGTCATACCCCTATGTACCATCGA-GACGATGAGGGGTACTTAGAC-TCCAGAGGCACCCACCTG-CGTGGAGAGCACGTGCTGCTGTCGGGACCACGCACCCGCAGGGAGCCGTGATTTCCACAAAAGTAATGCGTAGCCC-GGCCTCTTCACAGGTGAACGTAGCTCG-CGCCCCCCGGATGTATGCTTAGGCGAAGGATCAG-T-CAAGCACATTTGGAAT-GTAACTAGGAG-AGGTGGCGTCGCCTCGCTCATCAAGGTTGTGGGTGACCCAGTCTAGCTATCCGTCTACGATGTATATTCTCGGCACGCTCTACATGAACACTGTGATGGTGAACCCAA-GGGTTGGCGCGGGACTAACTGGTGCTCCGTTTCCGCGTCGCCTTCAATTCGAGTCGGCATGGCAGGGACCAGAGAAGTCCGCCGGCCAGCGGAG-GATACCGCTCTTCCCAGCAGGACAGCACGGTCGGATTGACTTGGAAAAGGACA-CTATAATCACACTCGTCGCGGGACCCGCTAGGCGCCGGGTCTTAGGATCGCTACGCCAGT-CCTAACATAGGGCCCGGCGTTATGACCGGTCGCAGACGAGCTCTCGGGGCAGGCGGGGTCGCAGGCAGCCAAATGCAC--CCATTGGGCTAGCAGGGGAAACCAAAAA-ACGCCCCTCGATCTGGCGGTGCG-TAGCCACGCCCGATTCGAGATTACCACGGCCAGTAGCGGGAGTACCGACCTCGTCACGGGCCAGACGGCGGGCTGAAGGGTGCCTGGTCGGTTCGGCCAGCTT-CCGGGCAGACCGGCAACCCGATCGCGCTAACCGGGGCCTGACCGCGAGCACGGTTCG-TACGACGTGCAAAGGGAACTTCGCGCCGCGTCTCGTCGCATCAGAGCA-ACGGCCGAGCTGGC-CGCCCGCTGCGGACAGGTTTGCGCGGGCCACGCTAAGTAGTT-GGACTCATTTCGCGTAGGGGACGGGCGCTCGGTAGACTCTAGGTGATGTCATCTCCTCAGCCACCAGCGGTCGGCATCAAGCAGAGGCCAGTGAGGGTGCCCTCCGCGCCTACGTCGGTGCAA-CGCGTCATGTCACCGCGATCAGTAGGTCGTGCCGTCGG-TTACATTCTTTG-GAA--CTTCA-CCCCCAGGAGCTGCACGACCTGTGGGCTTCCTGTCAGACTCCGGTGACCGGTCCGCGCCCCCTGCCGGCTCCTCTGTCGGACGCAACGGGGGATTCGGAACCCACGTAGTTGGGGACGTGTTTCGCGCAATGCCACCAGCAC-TAGGAGGTCCTTTCGAAGTTCGTTAATC-CCCCTCGGTGCTGGCCTCCATT-CCGTAGCGTTAGACGGTCTCGTGCGGTACGTCACTC-GGATACCCCTGCATGACTGGTGGTGGTATCGACTT-GCCAGGGCACGGTTAAGCCTGCGTAGGGCGTGCCGCGGCCGCAAGCATCCCATACGTGGGGCTCCCTAGCGTCCCTGCAGTGGGGCCTTGACAAGGTTGCGTGGGATAACTAAGACCTAACAGCTACTCCGCCTCGGGTTGTAGCACACG-GCAGGGGGAGGGACGGATGGCTTCCCGCCCCAGGTGCTCCCATTCGGTACGGGGAGTGGCATATCGCTCCCTCGCCGCCTCGCACATCGC-CGGCTTTTGACGCTCACCTCAGTGCCCTTAGACTATA-GAAGGGGGCAATATAGGTCCGGGGATGGACGCCGATCGCAGGCCGTCGGTAATCTATGCCCGTACGGCTCAGGCCCGGACGGAGATACGGCATCCCCGAGGGCCGGTCCCAGCTCTTGA-AACCCCATGAAAAATTAGGCTTTCCTCACAAGTCTATCGGGGGCCCATTGCCCGTTGGTTTTCGAGGCAACATTGGTGGTCCGCGTACGGAGCATTGTTCCCGGCGGGAAGCCCGGGCTT-CG-CTCCATGATGTACGGCTTCCGGCGAAGTGGCGCAGGTCAGCAGGCT-ACTGATGAGCCCGCGGGAGGTGACACAGGGTGAGAGCCCAGAGCTCTGTGAAGCTTTCCCGTTCTGCATGCCTTGCGG-GCCCGGTTC-CGCCCTATGCGAAGCTTCGACGGGATATTC-TTCTAGGGGCGCCAGGCTCTCAACGTCGACCTACAGCACTACACTCGCATGGCTGCGCTCCAGCCAGAGTGGCTTACGACGCAACAGTATACCCGTCCGGCGGCCTCCAAGAACTCTGAC-TATCGCCTCAGCGCCTACGT-AAGTCGCCCGCCGTTATGAGGCGCGGTGA-CCGTCACAGGTCCGGCCCCCAAGCAAGCGCGGACTCCGGTCTTCGACCCCACCGGCCCGGCGGGAAAAGT-GAACGAGTCAATACGGC-CCTCCGGCCCGTTCAATCCGTGTTCCCGGACTAGCGCCGAGATTCTTGTTGCATGGCGGGCGAGAGCCCCAGAGCTAGAGGGGCGCCGCCAAAGGGAAGGGCGCGCGCTCAGCTTCTGTAGCACGACCTTCG-TGTACGCGCTTTCCGCGGCAAAGTGGTTCCGACCTCATTAGTACCGGCGTGACATGG-GGCACATAATCGCGGAGGGAG-CCTGTCGCACCCGTGTGGTACTACCAAAGCCTTGTGCTAAAGCTTACGCGGTGGGTAAGGGAGAC--GCTACCCCCCGATGACTCCCTTGCTCCCAACAGAAC-CGATCGGC-AGAAGGCGACTCCGCCATCAGCTCGTGCGGAATCGACGAAGTTCAGACGGGGGCTAGT--ACCGGCCTCTCATCGGCCAGCCACCCGTCATGCGTCGCGCAGGAGACGGACGCTGC-GCCAAGTTTCCGTTTATC-GAACCTGCTATCCAAATACTTCCGAGCGAGTGTGCCAGACCATGTGTCACATGCACCTTCCGATAACCGGCACTTCTCATAGTGCCCTGGACATTCACCTGTAGGTTGTCGCAGAGTAGCCTACCAGGGTTAAGGCCGGACAGACATTTTCGTTCCTACACA-GACGATCTCTATCTCGGATACGAGTAGACGT-CAATCCTAGCCTAGCCCATGGCTCCCCTGACCTAACCTTAGGCGAGCCCCCATTGGAGCAGAAGGTCCGATTTCCCGTGATGTGCGATCGGGGTCCATCGCAGTTGCAC-AG-TCA-GATTACACCGATTTCTAACGACTGTAACCGTGGCGCACGCATGTCTCTAGGGTTCAGTAAGCGGCCGTCGGGGGC-AGGGTAAGCATTCCTCAATAGACCTAAGGGGGCAGATTTCGCGAATGCAGGTTTCGAGCAGGAGACGGCA-AGAACTTACGCTTGGTTGGTACAGGGGAGCGTCAACTTCCCGCCGCCGAGCACTCTCGAGGTCCAGATGGGGCCCCGATTGTCTAGTACGGGGGACCAAGCTCACACTTGAGTTTTGTTGATATGTCAGGCCTGGGAGGTTGCCTAG-TTCACATCGACTGTCGTAGTGGGGGTCTAGCCGTAACGAGGGCTACTCAGGCCCAAACAACAAGCACGCCCCTTACCATTACCCAACGGCCACGCTGAGGCCACACCGCCCTAAGCCATCTATACGAGCCCC\n",
      "ACCGACGGGGGGGCCTCCGACGCGGATCCAGGGGCAGCCTTACCAGGGTATCGATTCCTGTACCCTTCTCGTTGTGCCAGCGATGCTTAAGCGACGACTTTGGCGATGACCCGGGGCTGATGGTGATCGCAGTCGGTCACTCCTCCCACAGGAAAACAGTGAAGGCGCCTGCGGGGTTCGCCACGCCCTCACCCGC-ATTACAACGGGGTTTTGTACTCTGACCCGCC-CG-C-CGGTCCACCAGCCAGGCCAAAGGTCACCCCGAGCCTGGACTCACGCCCACAACCAATCCGGGGAAGCGGATCGTGTTCCTACGGTTCTGACGCCGCTCACGTGACGCCGTTGCACGTTC-CTATTTTTGGGCTCCCGGCTGCCACCCG-TTTGTCCTGTCCTTCGCTCCGTAAGTCGAGCACCTATGCTGTCGAGATGGCCCGCCCTT-AGGGTTACCAAGGGGCGTTTAGTTTTTTCCTGTAGGGGTAGCCCAGGGCTTGCCTCCTCCCAAAGC-AGATTCTTGCCCCAGGCAATTGCGGTGAGACCTGAAGCGTTCGTAGCCATCCATC-TGCTCGAGTGGACTGCCGGCCCTCTGGCAACGGGACGCGCCTCCGCCCCTGG-ACGCGGAATCCTCGACCGCCCAAGGCG-AGGCAGCGTGTTCGTGCCCCGGTT-CTCCGACATGCGCGCCACATACCCGCCGCCCGTGTCTTAGTATGAGGCGGGCGGAACCCCCTTATATGGCACCGCTTGGCAGTGCCCGATCTCACGGCGCCGGCCAGGGTCAAGTGGGCCGCGTACGGCGGACGTTC-CCAACACCCC-GA-CGTTTAGCGGTTTGAGCTACGTTATTGGGGAGTGCGACGAACCTCAGGCTGTGTATCAGATACCAACGTGCGCCCGGGATGAGATCGGAGGGGGGATAGGGT-TGGATTGTCGGAGG-TTCTGACATGAGTCATGCTTACGACCGAACCTCTGCAGACGGTCCAGCGACGCCAATGACTACACTGGCCTGCGCGTCTGACTGGAACTCGGAGGCCCCCGCAATGCCCATTCAGGCGGTATAGCGTGTTCTGGCAGCTGTGATGGTGACCTCAACTGAGGCTCCTCAAGCAGAGGTTATTGAGTGCCTGTAGTGCCGGTTGTCGACCGCCTTAAACTCCTAGGCCTCCTTTCCCGAAGGGCTGCGACTCCACTCGGTACGGCATGTAGACACTGGGTATGGG-GACACCACCCGGCACTCTCGTAAGCGTTCGGCCTCGCCAGCATGGACTCATCGTGAAGCATCCGTTCAGGCTGAGGTGCACACCGGGGAGACAA-TAGCTTGGCTCGGATCACGAAGTTTTCCGTTCAAATGCGCCCGTAATGTCCGGAATTTGGGCACGAGCAGGGTGTCAAGATCGGTTGCCCAAGTGAGG-TGACCAGCGAATGTACGTCCAACCGTGGTTCCAAGCGCTTAATTCGACTCTCTCATCAAACCCGAGTACC-GCCGACAGGAGCGGTCAACTTTGCAACCTCTCCCGGTCGCCCCCGCCGGGTCGGTTGATCC-ATTCAACCCCTTCGGCGGGCGATGGGG-ACTCTGAGCATCGAAGGCGGCATTCCGCATTTTACCGTTACTGCGATCGGCCTGTGTCCAAAGCACCCACCCCTGCGGAGGCGCCTTACACAGATAAGG-GTGAGGGGACATTGCTAATCAACGACTGCATCTAGGTCGAGTAACCCGAAACATTGGGCGGGCGTCCGA-CGCCCTGCGACGGCGGGTGGGTCTGGTCCCCCA--TCCGTCTGCCTGCGGACCACCAGAC-TTGCGGTTGACCTGGTCGTTCGGGCTTGCCCGTGACGATGGAGGGTTCCAGCATGAACGCGTATTCCGGGCAGATACAGCTGCCGGCGTAAGGGGGTGAAGGGGCACACTTGTCCACCGCAGCCCTGTGCACATACTCACCGGACCTTGGCCACCGAACACCACGCCCCCGCGT-ATACCCCTATGTACCATCGAAGACGATGAGGGGTACTTAGACGTCCAGAGGCACCCACCTGTCGTGGAGAGCACGTGCTGCTGTCGGGACCACGCACCCGCAGGGAGCCGTGATTTCCACAAAAGTAATGCGTAGCCCGGGCCTCTTCACAGGTGAACG-AGCTCGGCGCCCCCCGGATGTATGCTTAGGCGAAGGATCAGGTACA-GCACATTTGGAATTGTAACTAGGAGAAGGTGGCGTCGCCTCGCACATCAAGGTTGTGGGTGACCCAGT-TAGCTATCCGTCTACGATGTATATTCTCGGCACGC-CTACATGAACACTGTGATGGTGAACCCAAAGGGTTGGCGCGGGACTA-CTGGTGCTCCGTTTCCGCGTCGCCGTCAATTCGTGTCGGCATGGCAGGGACCAGAGAAGTCCGCCGGCCAGCGGAGCGATACCGCTCTTCCCAGCAGGACAGCACGGTCGGATTGACTTGGAAAAGGACATCTATAATCACACTCGTCGCGGGACCC-CTAGGCGCCGGGTCTTAGGATCGCTACGCCAGTACCTAACATAGGGCCCGGC-TTATGACCGGTCGCAGACGAGCTCTCGGGGCAGGCGGGGTCGCAGGCAGCCAAATGCACAGCCATTGGGCTAGCAGGGGAAACCAAAAAGACGCCCCTCGATCTGGCGGTGCGCTAGCCACGCCCGATTCGAGATTACCACGG-CAGTAGCGGGAGTACCGACCTCGTCACGGGCTAGACGGCTGGCTGAAGGGTGCCTGGTCGGTTCGGCCAGCTTACCGGGCAGACCGGCAACCCGAT-GCGCTAACCGGGGCCTGACCGCGAGCACGGTTCGCTACGACGAGCAAAGGGAACTTCGCGCCGCGTCTCGTCGCATCAGAGCAGACGGCCGAGCTGGCACGCCCGCTGCGGACAGGTTTGCGCGGGCCACGCTAAGTAGTTAGGACTCATTTCGCGTAGGGGACGGGCGCTCGGTAGACTCTAGGTGATGTCATCTCCTCAGCCACCAGCGGTCGGCATCAAGCAGAGGCCAGTGAGGGTGCCCTGCGCGCCTACGTCGGTGCAACCGCGTCATGTCACCGCGATCAGTAGGTCGTGCCGTCGGGTTACATTCTTTGTGAATTCTTCAACCCCCGGGAGCTGCACGACCTGTGGGCTTCCTGTCAGACTCCGG-GACCGGTCCGCGCCCCCTGCCGGCTCCTCTGTCGGACGCAACGGGGGATTCGGAACCCACGTAGTTGGGGACGTGTTTCGCG-AATGCCACCA-CACCTAGGAGGTCCTTTCGAAGTTCGTTAATCGCCCCTCGGTGCTGGCCTCCATTCCCGTAGCGTTAGACGGTCTCGTGCGGTACGTCACT-AGGATACCCCTGCATGACTGG-GGTGGTATCGACTT-GCCAGGGCACGGATAAGCCTGCGTAGGGCGTGCCGCGGCCGCA-GCATCCCATACGTGGGGCTCCCTAGCGTCCCTGCAGTGGGGCCTTGACAAGGTTGCGTGGGATAACTAAGACCTAACAGCTACTCCGCCTCGGGTTGTAGCACACGGGCAGGGGGAGGGACGGATGG-TTCCCGCCCCAGGTGCTCCCATTCGGTACGTGGAGTGGCATATCGCTGCCTCGCCGCCTCGCACATCGCGCGGCTTTTGACGCTCACCTCAGTGCCCTTAGACTATACGAAGGGGGCAATATAGGTCCGTGGATGGACGCCGATCGCAGGCCGTCGGTAATCTATGCCCGTACGGCTCAGGCCCGGACGGAGATACGGCATCCCCGAGGGC-GGTCCCAGCTCTTGATAACCCCATGAAAAATTAGGCTTTCCTCACAAGTCTATCGGGGGCCCATTGCCCGTTGGTTTTCGAGGCAACATTGGTGGTCCGCGTACGGAGCATTGTTCCCGGCGGGAAGCCCGGGCTTGCGGCTCCATGATGTACGGCTTTCGGCGAAGTGGCGCAGGTCAGCAGGCTCACTGATGAGCCCGCGGGAGGTGACACAGGGTGAGAGCCCAGAGCTCTGTGAAGCTTTCCCGTTCTGCATGCCTTGCGGTGCCCGGTTCACGCCCTATGCGAAGCTTCGACGGGATATT-GTTTTAGGGGCGCCAGGCTCTCAACGTCGACCTACAGCACTACACTCGCATGGCTGCGCTCCAGCCAGAGTGGCTTACGACGCAACAGTATACCCGTCCGGCGGCCTCCAAGAACTCTGACGTATCGCCTCAGCGCCTACGTCAAGTCGCCCGCCGTTATGAGGCGCGGTGAGCCGTCACAGGTCCGGCCCCCAAGCAAGCGCGGACTCCGGTCTTCGACCCCACCGGCCCGGCGGGAAAAGTCGAACGAGTCAATACGGCACCTCCGGCCCGTTCAATCCGTGTTCCCGGACTAGCGCCGAGATTCTTGTTGCATGGCGGGCGAGAGCCCCAGAGCTAGAGGGGCGCCGCCAAAGGGAAGGGCGCGCGCTCAGCTTCTGTAGCACGACCTTCGATGTACGCGCTTTCCGCGGCAAAGTGGTTCCGACCTCATTAGTACCGGCGTGACATGGGGGCACATAATCGCGGAGGGAGACCTGTCGCACCCGTGTGGTACTACCAAAGCCTTGTGCTAAAGCTTACGCGGTGGGTAAGGGAGACTGGCTACCCCCCGATGACTCCCTTGCTCCCAACA-AACTCGATCGGCTAGAAGGCGACTCCGCCATCAGCTCGTGCGGAATCGACGAAGTTCAGACGGGGGCTAGTCAACCGGCCTCTCATCGGCCAGCCACCCGTCATGCGTCGCGCAGGAGACGGACGCTGCGGCCAAGTTTCCGTTTATCGGAACCTGCTATCCAAATACTTCCGAGCGAGTGTGCCAGACCATGTGTCACATGCACCTTCCGATAACCGGCACTTCTCATAGTGCCCTGGACATTCACCTGTAGGTTGTCGCAGAGTAGCCTACCAGGGTTAAGGCCGGACAGACATTTTCGTTCCTACACAAGACGATCTCTATCTCGGATACGAGTAGACGTGCAATCCTAGCCTACCCCATGGCTCCCCTGACCTGACCTTAGGCGAGCCCCCATTGGAGCAGAAGGTCCGATTTCCCGTGATGTGCGATCGGGGTCCATCGCAGTTGCACTAGCTCACGATTACACCGATTTCTAACGACTGTAACCGTGGCGCACGCATGTCTCTAGGGTTCAGTAAGCGGCCGTCGGGGGCGAGGGTAAGCATTCCTCAATAGACCTAAGGGGGCAGATTTCGCGAATGCAGGTTTCGAGCAGGAGACGGCAAAGAACTTACGCTTGGTTGGTACAGGGGAGCGTCAACTTCCCGCCGCCGAGCACTCTCGAGGTCCA-ATGGGGCCCCGATTGTCTAGTACGGGGGACCAAGCTCACACTTGAGTTTTGTTGATATGTCAGGCCTGGGAGGTTGCCTAGATTCACATCGACTGTCGTAGTGGGGGTCTAGCCGTAACGAGGGCTACTCAGGCCCAAACAACAAGCACGCCCCTTACCATTACCCTACGGCCACGCTGAGGCCACACCGCCCTAAGCCATCTATACGAGCCCCGCTGGCCGAGGCCCCTCGTAATGCCCCCCTGTAAACATGGCTGCGTTCGCGGGGGGTTGGGAACGTGTTTGTAGTGTGTGTATTAAAGTCCTGGCCGACAGACGTCACCGCCCCCCGGGGCAACCATGCGACGGAACTCCTATAATTTGTACGA-GTGCTTGG-CTTCCAGGGCTCAATTACGTACGCGTGATCGGGCTCTCGCCTTGTTAATCCGAAACCCGGGTCACCGGTTGAACCAAACCCTGAGAATGGCGGGGGTGGATACGATCCACGCAGCGACCGCCGTAGGACAGACTCGCGCACCCCCGGCTTGGGGAGAGGGCGCCAGGCCTTGATAAGGTGACCGGTGTGGGTTTCCGGCGGGAGCTAATCTTCTGGTGGCTCAGGTTGGTAAACTAACCGCGGCGCTAGCACAGGAAGTGACCACCCCGCCCACATGCGCGCTGACATGCGAAGTAATCCAACCGGGCGCTCTACTCGGGCAAAGCGCAGTAACCGATACGAATACCTTACGGCTGGCATGGACGTCAGAGGAGCTATGGTACTGGAGCTGAGACAGGGGTGCGGACGCGCGTGGTGGATGCCGGCTGCGGCTCACCCCTGGCCGTACGCGACCAATTGGTTGATAGGTCTTGTTGATGCAGTGCGGCGGCCCAAGTGTCACAGGGCCGACGCATCACTCAGATCTTTTCCTGTCTGGGCGTTCCAGCCCGCGTCGCGGAAGGGGGCCAACCGTTTACCAGCGCCTTAGCCAGTCCATTACGCGACATGTTGGCGGGCCGGGGTCGA-CCGGGGTAACTCAACACGGAACATTCTAGGGCGTAGTCGCGGCCGTACCCTATTTGCCCAGGAGTAGCGGAATGTCGTTAAGGCAGTGAACCTGGGCACTGGCGTGCTCTAAGCAGAGCCTGTGATGAGGAGATCCCGAACGGCGTGTGCTCTTTTTGATTTGCCGACGGAGACCAGCGCTTCACCGCCATTTGCCCAGCATGACGGACCTTGCCACCGCGACTTGATGTTGCCGCGAAGAGAACTGATGCGTACC\n",
      "GCCTGCCGCGATGCTAGAGCTCTCGCGGAGGTAAAGGCCGCACACGGTAGGTGGGCCGGCGTTCACACATCCGATGTGAGGGGGG-TGC-TACGTACCCCGACGCATAGACG-AAACAATGTGCCCATTAACAGTCCAATAGTCGCACCCCCGGGGTGCCATGTGGCTGAGACTGAGCAGGGTCCTCCTAGCACCCTCCCGGAGGATTCCACGGTGCGCCAGATAGCGTTCCCGGCAGGACTG-GCCGGTCGCCAGGAGCGGTCACTTGCGGAGTCGTTCGAGTGCGATGTCCGAGATACCTATGTTGAAAGTTCCTCGAATACCCATAAGCTAGGTGGGTGATCTAGCCGGCCAAGCGCTTGAGTTACGTTGCGCAAGCAATACA-GGCGCTGGGGCTCATGTACTGCTTTCTTCGCCTGAGCAGACCACTGATCGTTGCCAGCTG-C-GGGTACAACGCGCGG-G-GTTTCCGCATACCGGTGCAAAAGCCGCTGTGAGCCAGTCTCTCCGCCGAGCCGTGCTCCAACCTCAGGCTCCTAGCTCGGCAAAAGCCGTGGGCTCCGATACATCCAATACACGCACGCCCGTTGTGGTTTGACCGGTCGCAGATGGGGTGCGGAGGCGGCCCCGTTCCCCCCGCTTCACGGGGTAAGATACGACGGCAG-TAGCAGCTACCATTTGGCGGTGATGCCTTTCGCTCTAAGCCGCCTGACGGAGATCTTAAACAGGAGTCGCGTGGCTCGCAAGGAGGCAGAGTGACTCGACCATTGGTCA-CCCCCGCGCTGCGCTCGGCCGGTAAGCAGCGAGGTCCCCATCCTTGCGCAAGGTGGATGGTATGCCATGGTTCCTCCAGGCAGAGGGCCCCTTCGTAGCGATTCCGCCTTGGCACTTGCGAACACGGGAAACCCCAAGTCACTCGCGGGAAGGATCTGTTGCGTCTGGACGGGAGGATTTACGCCGTCTACGAGCGCAATACGCCATTGTCAAGGGCACGGGAGAGGCGGTTAAGGCTTATCCCTCACGAGGACGAGACGATTGCGGACCAGTTGGTTAGAAGCAGGTATTGGCGGTGGGCCGCCGCGAGGCTTCCGCACGGTCGCAGTGACATCGATCGACCCAAGGCTCGCATCGAACCAATTCCGGGCCGGGTA-GCACGAGAGGAGAGAAGCATGAAGCGCCATAGGTCCTACTCGCGGAGCGCTCGTGCAG-CATAGGGGTGGCTGGCCCCTCCCGGGGGCACGTTCTCGGATCAGCTCGGT-TTGTAAGAGCCTGCAG-TAGCGCCGATCATGTGTGCCTAAGACGGGAGATGGG-AGGCATTGATTAGGGTCGGCATTGCAATCCGAGTCGCCCACGGCCGGAACCGCCCTCCGA-AGCGAGGCTCCTAGGCA-TTGCAGGCCTGCAGACTGCGGTAAGCAAATAAGGCTCGACTCTGTTGGGCCCAGGGCGTTC-GGGGTACACATTAAGCAGGACGTCAGACTCACACATGTCC-AGATCAGGGTGCGTGCAATTATTGTTGGCGCGGCCTCTGACGGACCAAGCGTGTGAACTATTGTGGGCTAAGTCGGGGCCGGAGATTGCTCACTCCGCGGAGATAT-CGTTGTTTCGAGGTCGTTCGGTATAGCGCGACGAGCATCCGGTGGATTAACCGCATTACGCGTTCTTTCTGCGTCCGCCGACACGGGTCAGTGCGCAACGACACCGGTAGCTTTCACATCGAATTCAGTGACCACCTATAGGCCTGCCTGGGCCGCCGGGCCCTGACGCACTCTGAGATCATCCGGGCGGTCCAGCCACGGGCTACCGCC-ACGCGG-GAGTCTATCCCTG-CTTGCCAATGGTTTGACGGGAACGCTACACCTGCATCTCGTGACTCCCCCTCTTGCCGTCAGTGTCTAACCATGGGA-GGGGGGCTGGCGGTGGGTTGTAGCATAAGAATGGATCTAATGGCCCGCGCACTGGGGGTTCGAACAGTGGGACCG-CG-GGGG-CCTCCGA-GCGGATC-AGGGGCAGCCTTACCAGGGTATCGATTCCTGTACCCTTCTCGTTGTGCCAGCGATGCTTAA-CGACGACTTTGGCGATGACCCGGGGCTGATGGTGATCGCAGTCGGTCACTCCTCCCACAGGAAAACAGTGAAGGCGCCTGCGGGGTTCGCCACGCCCTCACCCGCCATTACAACGGGGTTTTGTACTCTGACCCGCCGCGTCACGGTCCACCAGCCAGGCCAAAGGTCACCCCGAGCCTGGACTCACGCCCACAACCAATCCGGGGAAGC-GATCGTGTTC-TACGG-TCT--CGCCGCTCACGTGACGCCGTTGCACGATCCCTATTTTTGGGCTCCCGGCTGCCACCCGGTTTGTCCTGTCCTTCGCTCCGTAAGTCGAGCACCTATGCTGTCGAGATGGCCCGCCCTTGAGGGTTACCAAGGGGCGTTTAGTTTTTTCCTGTAGGGGTAGCC-AGGGCTTGCCTCCTCCCAAAGCTAGATTCTTGCCCCAGGCAATTGCGGTGAGACCTGAAGCGTTCGTAGCCATCCATCCTGCTCGAGTGGACTGCCGGCCCTCTGGCAACGGGACGCGCCTCCGCCCCTGGCACGCGGAATCCTCGACCGCCCAAGGCGGAGGCAGCGTGT-CGTGCCCCGGTTCCTCCGACATGCGCGC-ACATACCCGCCGCCCGTGTCTTAGTATGAGGCGGGC-GAACCCCCTTATATGGCACCGCTTGGCAGTGCCCGATCTCACGGCGCCGGCCAGGGACAAGTGGGTCGCGTGCGGCGGACGTTCCCCAACACCCCAGACCGTTTAGCGGTTTGAGCTACGTTATTGGGGAGTGCGACGAACCTCAGGCTGTGTATCA-ATACCAACGTGCGCCCGGGATGAGATCGGAGGGGGGATAGGGTA-GGATTGTCGGAGGCT-CTGACATGAGTCAT-CTTACGACCGAACCTCTGCAGACGGTCCAGCGACGCCAATGACTACACTG-CCTGCGCGTCTGACTGG-ACTCGGAGGCCCCCGCAATGCCCATTCAGGCGGTATAGCGTGTTCTGGCAGCTGTGATGGTGACCTCAACTGAGGCTCCTCAAGCAGAGGTTATTGAGTGCCTGTAGTGCCGGTTGTCGACCGCCTTAAACTCCTAGGCCTCCTTTCCCGAAGGGCTGCGACTCCACTCGGTACGGCATGTAGACACTGGGTATGGGGGACACCACCCGGCACTCTCGTAAGCGTTCGGCCTCGCCAGCATGAA-TCATCGTGAAGCATCCGTTCAGGCTGA-GTGCAC-CCGGGGAGACAAGTAGCTTGGCTCGGATCACGAAGTTTTACGTTCAAATGCGCCCGTA-TGTCCGGAATTTGGGCACGAGCAGGGTGTCAAGATCGGTTGCCCAAGTGAGCCTGACCAGCGAATGTACGTCCAACCGTGGT-CCA-GCGCTTAATTCGACTCTCTCATCAAACCCGAGTACCGGCCGACAGGAGCGGTCAAC-TTGCAACCTCTCCCGGTCGCCCCCGCCGGGTCGGTTGATCCAATTCAACCCCTTCGGCGGGCGATGGGGAACTCTGAGCATC-AAGGCGGCATTCCGCATTTTACCGTTACTGCGATCG-CCTGTGTCCAAAGCACCCACCCCTGCGGAGGCGCCTTACACAGATAAGGTGTGAGGGGACATTGCTAATCAACGACTGCATCTAGGTCGAGTAACCCGAAACA-TGGGCGGGCGTCCGAGCGCCCTGCGACGGCGG-TGG-TCTGGTCCCCCACGTCA-TCTGCCTGCGGACCAGCAGACTTTGCGGTTGACCTGGTCGTTCGGGCTTGCCCGTGACGATGGAGGGTTCC-GCATGAACGCGTA-TCCGGGCAGATACAGCTGCC-GCGTAAGGGGGTGAAGGGGCACACTTGTC-ACCACAGCCCTGTGCACATACTCACCGGACCTTGGCCACCGAACACCACGCCCCCGCGTCATACCCCTATGTACCATCGAAGACGATGAGGGGTACTTAGACGTCCAGAGGCACCCACCTGTCGTGGAGAGCACGTGCTGCTGTCGGGACCACGCACCCGCAGGGAGCCGTGATTTCCA-AAAAGTAATGCGTAGCCCGGGCCTCTTCACAGGTGAACGTAGCTCGGCGCCCCCCGGATGTATGCTTAGGCGAAGGACCAGGTACAAGCACATTTGGAATTGTAACTAGGAGAAGGTGGCGTCGCCTCGCTCATCAAGGTTGTGGGTGACCCAGTCTAG-TATCCGTCTAC-A-GTATATTCTCGGCACGCTCTACATGAACACTGTGATGG-GAACCCAAAGGGTTGGCGCGGGACTAA-TGGTGCTCCGTTTCCGCGTCGCCGTCAATTCGAGTCGGCATGGCAGGGACCAGAGAAGTCCGCCGGCCAGCGGAGCGATACCGCTCTTCCCAGCAGGACAGCACGGTCGGATTGACTTGGAA-AGG-CATC-ATAATCACACTCGTCGCGGGACCCG-TAGGCGCCGGGTCTTAGGATCGCTACGCCAGTACCTAACATAGGGCCCGGCGTTATGACCGGTCGCAGACGAGCTCTCGGGGCAGGCGGGGTCGCAGGCAGCCAAATGCACAGCCATTG-GCTAGCAGGGGAAACCAAAAAGACGCCCCTCGATCTGGCGGTGCGCTAGCCACGCCCGATT-GAGATTACCA-GGCCAGTAGCGGGAGTACCGACCTCGTCAC-GGCTAGACGGCTGGCTGAAGGGTGCCTGGTCGGTTCGGCCAGCTTACCGGGCAGACCGGCAACCCGATCGCGCTAACCGGGGCCTGACCGCGAGCACGGTTCGCTACGACGAGCAAAGGGAACTTCGCGCCGCGTCTCGTCGCATCAGAGCAGACGGCCGAGCTGGCACGCCCGCTGCGGACAGGTTTGCGCGGG-CACGCTAAGTAGTTAGGACTCATTTCGCGTAGGGGACGGGCGCTCGGTAGACTCTAGGTGATGTCATCTC-TCAGCCACCAGCGGTCGGCATCAAGCAGAGGCCAGTGAGGGTGCCCTGCGCGCCTACGTCGGTGCAAC-GCGTCATGTCACCGCGATCAGTAGG-CGTGCCGTCGGGTTACATTCT-TGTG-ATTCTTCAACCCCCAGGAGCTGCACGACCTGTGGGCTTCCTGTC-GACTCCGGTGACCGGTCCGCGCCCCCTGCCGGCTCCTCTGTCGGACGCAACGGGGGATT-GGAACCCACGTAGTTGG-GACGTGTTTCGCGCAATGCCACCAGCACCTAGGAGGTCCTTTCGAAGTTCGTTAATCGCCCCTCGGT-CTGGCCTCCATTCCCGTAGCGTTAGACGGTCTCGTGCGGTACGTCACTCA-GATACCCCTGCATGACTGGTGGTGGTATCGACTTGG-CAGGGCACGGTTAAGCCTGCGTAGGGCGTGCCGCGGCCGCAAGCATCCCATACGTGGGGCTCCCTAGCGTCCCTGCAG-GGGGCCTTGACAAGGTTGCGTGGGATAAC-AAGACCTAACAGCTACTCCGCCTCGGGTTGTAGCACACGGGCAGGGGGAGGGACGGATGGCTTCCCGCCCCAGGTGCTCCCATTCGGT-CGTGGAGTGGCATATCGCTGCCTCGCCG-CTCGCACATC-CGCGGCTTTTGACGCTCACCTCAGTGCCCTTAGACTATACGAAGGGGGCAATATAGGTCCGTGGATGGACGCCGATCGCAGGCCGTCGGTAATCTATGCCCGTACGGCTCAGGCCCGGACGGAGATACGGCATCCCCGAGGGCCGGTCCCAGCTCTTGAT-ACCCCATGAAAAATTAGGCTTTCCTCACAAGTCTATCGG--GCCCATTGCCCGTTGGTTTTCGAGGCAACATTGGTGGTCCGCGTACGGAGCATTGTTCCCGGCGGGAAGCCCGGGCTTGCGGCTCCATGATGTACGGCTTTCGGCGAAGTGGCGCAGGTCAGCAGGCTCACTGATGAGCCCGCGGGAGGTGACACAGGGTG-GAGCCCAGAGCTCTGTGAAGCTTTCCCGTTCTGCATGCCTTGCGGTGCCCGGTTCACGCCCTATGCGAA-CTTCGACGGGATATTCGTTTTAGGGGCGCCAGGCTCTCAACGTCGACCTACAGCACTACACTCGCATGGCTGCGCTCCAGCCAGAGTGGCTTACGACGCAACAGTATACCCGTCCGGCGGCCTCCA\n",
      "CGCTTGGTCAGACCGCACTACTGGCGCCGTTGGGGGGCCTAAGCAGAGGCAGCGTGAAGCTCCTCATGGCATTCGACGGGCTGTGAGCGGAGAGTGCCTGCCGCGATGCTAGAGCTCTCGCGGAGGTAAAGGCCGCACACGGTAGGTGGGCCGGCGTTCACACATCCGATGTGAGGGGGGCTGCATACGTACCCCGACGCATAGACGCAAACAATGTGCCCATTAACAGT-CAATAGTCGCACCCCCGGGGTGCCATGTGGCTGAGACTGAGCAGGGTCCTCCTAGCACCCTCCCGGAGGATTCCACGGTGCGCCAGATAGCGTTCCCGGCAGGACTGGGCCGGTCGCCAGGAGCGGTCACTTGCGGAGTCGTTCGAGTGCGATGTCCGAGATACCTATGTTGAAAGTCCCTCGAATACCCATAAGCTAGGTGGGTGATCTAGCCGGCCAAGCGCTTGAGTTACGTTGCGCAAGCAATACAAGGCGCTGGGGCTCATGTACTGCTTTCTTCGCCTGAGCAGACCACTGATCGTTGCCAGCTGGCCGGGTAGAACTCGCGGGGGGTTTCCGCATACCGGTGCAAAAGCCGCTGTGAGCCAGTCTCTCCGCCGAGCCGTGCTCCAACCTCAGGCTCCTAGCTCGGCAAAAGCCGTGGGCTCCGATACATCCAATACACGCACGCCCGTTGTGGTTTGACCGGTTGCAGATGGGGTGCGGAGGCGGCCCCGTTCCCCCCGCTTCACGGGGTAAGATACGACGGCAGATAGCAGCTACCATTTGGCGGTGATGCCTTTCGCTCTAAGCCGCCTGACGGAGATCTT-AACAGGAGTCGCGTGGCTCGCAAGGAGGCAGAGTGACTCGACCATTGGTCAGCCCCCGCGCTGCGCTCGGCCGGTAAGCAGCGAGGTCCCCATCCTTGCGCAAGGTGGATGGTATGCCATGGTTCCTCCAGGCAGAGGGCCCCTTCGTAGCGATTCCGCCTTGGCACTTGCGAACACGGGAAACCCCAAGTCACTCGCGGGAAGGATCTGTTGCGTCTGGACGGGAGGATTTACGCCGTCTACGAGCGCAATACGCCATTGTCAAGGGCACGGGAGAGGCGGTTAAGA-TTATCCCTCACGAGGACGAGACGATTGCGGACCAGTTGGTTAGAAGCAGGTATTGGCGGTGGGCCGCCGCGAGGCTTCCGCACGGTCGCAGTGACATCGATCGACCCAAGGCTCGCATCGAACCAATTCCGGGCCGGGTACGCACGAGAGGAGAGAAGCATGAAGCGCCATAGGTCCTACTCGCGGAGCGCTCGTGCAGTCATAGGGGTGGCTGGCCCCTCCCGGGGGCAC-TTCTCGGATCAGCTCGGTGTCGTAAGAGCCTGCAGTTAGCGCCGATCATGTGTGCCTAAGACGGGAGATGGGCAGGCATTGATTAGGGTCGGCATTGCAATCCGAGTCGCCCACGGCCGGAACCGCCCTCCGAAAGCGAGGCTCCTAGGCACTTGCAGGCCTGCAGACTGCGGTAAGCAAATAAGGCTCGACTCTGTTGGGCCCAGGGCGTTCGGGGGTACACATTAAGCAGGAGGTCAGACTCACACATGTCCAAGATCAGGGTGCGTGCAATTATTGTTGGCGCGGCCTCTGACGGACCAAGCGTGTGAACTATTGTGGGCTAAGTCGGGGCCGGA-ATTGCTCACTCCGCGGAGATATCCGTTGTTTCGAGG-CGTTCGGTATAGCGCGACGAGCATCCGGTGGATTAACCGCATTACGCGTTCTTTCTGCGTCCGCCGACACGGGTCAGTGCGCAACGACACCGGTAGCTTTCACATCGAATTCAGTGACCACCTATAGGCCTGCCTGGGCCGCCGGGCCCTGACGCACTCTGAGATCATCCGGGCGGTCCAGCCACGGGCTACCGCCGACGCGGTGAGTCTATCCCTGGCTTGCCAATGGTTTGACGGGAACGCTACACCTGC-TCTCGTGACTCCCCCTCTTGCCGTCAGTGTCTAACCATGGGAAGGGGGGCTGGCGGTGGGTTGTAGCATAAGAATGGATCTAATGGCCCGCGCACTGGGGGTTCGAACAGTGGGACCGACGGGGGGGCCTCCGACGCGGATCCAGGGGCAGCCTTACCAGGGTATCGATTCCTGTACCCTTCTCGTTGTGCCAGCGATGCTTAAGCGAC-ACTTTGGCGATGACCCGGGGCTGATGGTGATCGCAGTCGGTCACTCCTCCCACAGGAAAACAGTGAAGGCGCCTGCGGGGTTCGCCACGCCCTCACCCGCCATTACAACGGGGTTTTGTACTCTGACCCGCCGCGTCACGGTCCACCAGCCAGGCCAAAGGT-ACCCCGAGCCTGGACTCACGCCCACAACCAATCCGGGGAAGCGGATCGTGTTCCTACGGTTCTGACGCCGCTCACGTGACGCCGTTGCACGATCCCTATTTTTGGGCTCCCGGCTGCCACCCGGTTTGTCCTGTCCTTCGCTCCGTAAGTCGAGCACCTATGCTGTCGAGATGGCCCGCCCTTGAGGGTTACCAAGGGGCGTTTAGTTTTTTCCTGTAGGGGTAGCCCAGGGCTTGCCTCCTCCCAAAGCTAGATTCTTGCCCCAGGCAATTGCGGTGAGACCTGAAGCGTTCGTAGCCATCCATCCTGCT-GAGTGGACTGCCGGCCCTCTGGCAACGGGACGCGCCTCCGCCCCTGGCACGCGGAATCCTCGACCGCCCAAGGCGGAGGCAGCGTGTTCGTGCCCCGGTTCCTCCGACATGCGCGCCACATACCCGCCGCCCGTGTCTTAGTATGAGGCGGGCGGAACCCCCT-ATATGGCACCGCTTGGCAGTGCCCGATCTCACGGCGCCGGCCAGGGTCAAGTGGGCCGCGTGCGGCGGACGTTCCCCAACACCCCAGACCGTTTAGCGGTTTGAGCTACGTTATTGGGGAGTGCGACGAACCTCAGGCTGTGTATCAGATACCAACGTGCGCCCGGGATGAGATCGGAGGGGGGATAGGGTATGGATTGT-GGAGGCTTCTGACATGAGTCATGCTTACGACCGAACCTCTGCAGACGGTCCAGCGACGCCAATGACT-CACTGGCCTGCGCGTCTGACTGGAACTCGGAGGCCCCCGCAATG-CCATTCAGGCGGTATAGCGTGTTCTGGCAGCTGTGATGGTGACCTCAACTGAGGCTCCTCAAGCAGAGGTTATTGAGTGCCTGTAGTGCCGGTTGTCGACCGCCTTAAACTCCTAGGCCTCCTTTCCCGAAGGGCTGCGACTCCACTCGGTACGGCATGTAGA-ACTGGGTATGGGGGACACCACCCGGCACTCTCGTAAGCGTTCGGCCTCGCCAGCATGGACTCATCGTGAAGCATCCGTTCAGGCTGAGGTGCACACCGGGGAGACAAGTAGCTTGGCTCGGATCACGAAGTTTTCCGTTCAAATGCGCCCGTAATGTCCGGAATTTGGGCACGAGCAGGGTGTCAAGATCGGTTGCCCAAGTGAGCCTGACCAGCGAATGTACGTCCAACCGTGGTTCCAAGCGCTTAATTCGACTCTCTCATCAAACCCGAGTACCGGCCGACAGGAGCGGTCAACTTTGCAACCTCTCCCGGTCGCCCCCGCCGGGTCGGTTGATCCAATTCAACCCCTTCGGCGGGCGATGGGGAACTCTGAGCATCGAAGGCGGCATTCCGCATTTTACCGTTACTGCGATCGGCCTGTGTCCAAAGCACCCACCCCTGCGGAGGCGCCTTACACAGATAAGGTGTGAGGGGACATTGCTAATCAACGACTGCATCTAGGTCGAGTAACCCGAAACATTGGGCGGGCGTCCGAGCGCCCTGCGACGGCGGGTGGGTCTGGTCCCCCACGTCCGTCTGCCTGCGGACCAGCAGACTTTGCGGTTGACCTGGTCGTTCGGGCTTGCCCGTGACGATGGAGGGTTCCAGCATGAACGCGTATTCCGGGCAGATACAGCTGCCGGCGTAAGGGGG-GAAGGGGCACACTTGTCCACCCCAGCCCTGTGCACATACTCACCGGACCT-GGCCACCGAACACCACGCCCCCGCGTCATACCCCTATGTACCATCGAAGACGATGAGGGGTACTTAGACGTCCAGAGGCACCCACCTGTCGTGGAGAGCACGTGCTGCTGTCGGGACCACGCACCCGCAGGGAGCCGTGATTTCCACAAAAGTAATGCGTAGCCCGGGCCTCTTCACAGGTGAACGTAGCTCGGCGCCCCCCGGATGTATGCTTAGGCGAAGGATCAGGTACAAGCACATT-GGAATTGTAACTAGGAGAAGGTGGCGTCGCCTCGCTCATCAAGGTTGTGGGTGACCCAGTCTAG-TATCCGTCTACGATGTATATTCTCG-CACGCTCTACATGAACACTGTGATGGTGAACCCAAAGGGTTGGCGCGGGACTAACTGGTGCTCCGTT-CCGCGTCGCCGTCAATTCGAGTCGGCATGGCAGGGACCAGAGAAGTCCGCCGGCCAGCGGAGCGATACCGCTCTTCCCAGCAG-ACAGCACGGTCGGATTGACTTGGAAAAGGACATCTATAATCACACTCGTCGCGGGACCCGCTAGGCGCCGGGTCTTAGGATCGCTACGCCAGTACCT-ACATAGGGCCCGGCGTTATGACCGGTCGCAGACGAGCTCTCGGGGCAGGCGGGGTCGCAGGCAGCCAAAT-CACAGCCATTGGGCTAGCAGGGGAAACCA-AAAGACGCCCCTCGATCTGGCGGTGCGCTAGCCACGCCCGATTCGAGATTACCACGGCCAGTAGCGGGAGTACCGACCTCGTCACGGGCTAGACGGCTGG-TGAAGGGTGCCTGGTCGGTTCGGCCAGCTTACCGGGCAGACCGGCAACCCGATCGCGCTAACCGGGGCCTGACCGCGAGCACGGTTCGCTACGACGAGCAAAGGGAACTTCGCGCCGCGTCTCGTCGCATCAGAGCAGACGGCCGAGCTGGCACGCCCGCTGCGGACAGGTTTGCGCGGGCCACGCTAAGTAGTTAGGACTCATTTCGCGTAGGGGACGGGCGCTCGGTAGACTCTAGGTGATGTGATCTCCTCAGCCACCAGCGGTCGGCATCAAGCAGAGGCCAGTGAGGGTGCCCTGCGCGCCTACGTCGGTGCAACCGCGTCATGTCACCGCGATCAGTAGGTCGTGCCGTCGGGTTACATTCTTTGTGAATTCTTCAACCCCCAGGAGCTGCACGACCTGTGGGCTTCCTGTCA-ACTCCGGTGACCGGTCCGCGCCCCCTGCCGGCTCCTCTGTCGGAC-CAACGGGGGATTCGGAACCCACGTAGTTGGGGACGTGTTTCGCGCAATGCCACCAGCACCTAGGAGGTCCTTTCGAAGTTCGTTAATCGCCCCTCGGTGCTGGCCTCCATTCCCGTAGCGTTAGACGGTCTCGTGCGGTACGTCACTCAGGATACCCCTGCATGACTGGTGGTGGTATCGACTTGGCCAGGGCACGGTTAAGCCTGCGTAGGGCGTGCCGCGGCCGCAAGCATCCCATACGTGGGGCTCCCTAGCGTCCCTGCAGTGGGGC-TTGACAAGG-TGCGTGGGATAACTAAGACCTAACAGCTACTCCGCCTCGGGTTGTAGCACACGGGCAGGGGGAGGGACGGATGGCTTCCCGCCCCAGGTGCTCCCATTCGGTACGTGGAGTGGCATATCGCTGCCTCGCCGCCTCGCACATCGCGCGGCTTTTGACGCTCACCTCAGTGCCCTTAGACT-TACGAAGGGGGCAATATAGGTCCGTGGATGGACGCCGATCGCAGGCCGTCGGTAATCTATGCCCGTACGGCTCAGGCCCGGACGGAGATACGGCA\n"
     ]
    }
   ],
   "source": [
    "import re\n",
    "\n",
    "list_sequence_with_cigar = []\n",
    "\n",
    "for i in range(len(sequence)):\n",
    "    output_sequence = \"\"\n",
    "    index = 0\n",
    "# обрабатываем каждую команду в строке CIGAR\n",
    "    for operation in re.findall(\"\\d+[A-Z=]\", cigar[i]):\n",
    "        length = int(operation[:-1])  # длина операции\n",
    "        action = operation[-1]  # тип операции\n",
    "        if action in [\"M\", \"X\", \"=\"]:  # если операция – матч или замена\n",
    "            output_sequence += sequence[i][index:index+length]  # добавляем соответствующий участок последовательности\n",
    "            index += length\n",
    "        elif action == \"D\":  # если операция – удаление\n",
    "            output_sequence += \"-\" * length  # добавляем пропуск заданной длины\n",
    "        elif action == \"I\":  # если операция – вставка\n",
    "            index += length  # пропускаем заданную вставку\n",
    "        else:\n",
    "            raise ValueError(\"Некорректный тип операции CIGAR\")  # выбрасываем ошибку, если встретилась некорректная операция\n",
    "    list_sequence_with_cigar.append(output_sequence)\n",
    "print(*list_sequence_with_cigar, sep='\\n')  # выводим получившуюся последовательность"
   ]
  },
  {
   "cell_type": "code",
   "execution_count": 45,
   "metadata": {},
   "outputs": [],
   "source": [
    "write_seq_in_file_with_length('simlord_with_cigar.fasta', list_sequence_with_cigar, 0, 0)"
   ]
  },
  {
   "cell_type": "code",
   "execution_count": null,
   "metadata": {},
   "outputs": [],
   "source": []
  },
  {
   "cell_type": "code",
   "execution_count": null,
   "metadata": {},
   "outputs": [],
   "source": []
  },
  {
   "cell_type": "code",
   "execution_count": 2,
   "metadata": {},
   "outputs": [
    {
     "name": "stdout",
     "output_type": "stream",
     "text": [
      "[-97, -96, -94, -94, -79, -77, -72, -72, -71, -71, -67, -67, -64, -64, -63, -62, -62, -61, -60, -58, -56, -52, -48, -47, -42, -41, -39, -36, -32, -31, -30, -26, -24, -23, -22, -21, -19, -16, -16, -14, -10, -8, -5, -3, -1, 0, 2, 2, 3, 3, 5, 9, 9, 14, 20, 22, 27, 32, 32, 35, 35, 39, 39, 41, 41, 43, 48, 53, 57, 57, 58, 59, 59, 59, 60, 60, 61, 62, 63, 63, 64, 66, 71, 72, 76, 78, 78, 80, 82, 84, 87, 87, 89, 90, 92, 92, 93, 94, 96, 98]\n"
     ]
    }
   ],
   "source": [
    "a = [78, -32, 5, 39, 58, -5, -63, 57, 72, 9, 53, -1, 63, -97, -21, -94, -47, 57, -8, 60, -23, -72, -22, -79, 90, 96, -41, -71, -48, 84, 89, -96, 41, -16, 94, -60, -64, -39, 60, -14, -62, -19, -3, 32, 98, 14, 43, 3, -56, 71, -71, -67, 80, 27, 92, 92, -64, 0, -77, 2, -26, 41, 3, -31, 48, 39, 20, -30, 35, 32, -58, 2, 63, 64, 66, 62, 82, -62, 9, -52, 35, -61, 87, 78, 93, -42, 87, -72, -10, -36, 61, -16, 59, 59, 22, -24, -67, 76, -94, 59]\n",
    "\n",
    "n = len(a)\n",
    "\n",
    "# реализация алгоритма сортировки выбором\n",
    "for i in range(n - 1):\n",
    "    maxi = -100000\n",
    "    for j in range(n - i):\n",
    "        if maxi < a[j]:\n",
    "            maxi = a[j]\n",
    "            index = j\n",
    "    a[j], a[index] = a[index], a[j]\n",
    "print(a)"
   ]
  },
  {
   "cell_type": "code",
   "execution_count": 5,
   "metadata": {},
   "outputs": [
    {
     "name": "stdout",
     "output_type": "stream",
     "text": [
      "None\n",
      "[1, 2, 3, 4, 1, 3, 4, 5, 5, 6]\n",
      "None\n"
     ]
    }
   ],
   "source": [
    "list1 = [1,2,3,4]\n",
    "list2 = [1,5,3,4, 5, 6]\n",
    "print(list2.sort())\n",
    "print(list1 + list2)\n",
    "print((list1 + list2).sort())"
   ]
  },
  {
   "cell_type": "code",
   "execution_count": null,
   "metadata": {},
   "outputs": [],
   "source": []
  }
 ],
 "metadata": {
  "kernelspec": {
   "display_name": "Python 3 (ipykernel)",
   "language": "python",
   "name": "python3"
  },
  "language_info": {
   "codemirror_mode": {
    "name": "ipython",
    "version": 3
   },
   "file_extension": ".py",
   "mimetype": "text/x-python",
   "name": "python",
   "nbconvert_exporter": "python",
   "pygments_lexer": "ipython3",
   "version": "3.11.3"
  }
 },
 "nbformat": 4,
 "nbformat_minor": 4
}
