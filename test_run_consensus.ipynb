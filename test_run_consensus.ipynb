{
 "cells": [
  {
   "cell_type": "code",
   "execution_count": null,
   "metadata": {},
   "outputs": [],
   "source": [
    "from consensus import build_consensus\n",
    "\n",
    "build_consensus(adapter_fasta='Путь до адаптера в формате fasta',\n",
    "                path_to_reads='Путь до полимеразного прочтения')"
   ]
  },
  
   ],
   "source": [
    "from consensus import build_consensus\n",
    "\n",
    "build_consensus(adapter_fasta='Путь до адаптера в формате fasta',\n",
    "                path_to_reads='Путь до полимеразного прочтения',\n",
    "                path_to_outdir='Полный путь до папки, куда будут записаны результаты')"
   ]
  },
  {
   "cell_type": "code",
   "execution_count": null,
   "metadata": {},
   "outputs": [],
   "source": [
    "from consensus import build_consensus\n",
    "\n",
    "build_consensus(adapter_fasta='Путь до адаптера в формате fasta',\n",
    "                path_to_reads='Путь до полимеразного прочтения',\n",
    "                path_to_outdir='Полный путь до папки, куда будут записаны результаты',\n",
    "                muscle_bin_full_path='Полный путь до исполняемого файла muscle')"
   ]
  },
  {
   "cell_type": "code",
   "execution_count": null,
   "metadata": {},
   "outputs": [],
   "source": [
    "from consensus import build_consensus\n",
    "\n",
    "build_consensus(adapter_fasta='Путь до адаптера в формате fasta',\n",
    "                path_to_reads='Путь до полимеразного прочтения',\n",
    "                path_to_outdir='Полный путь до папки, куда будут записаны результаты',\n",
    "                muscle_bin_full_path='Полный путь до исполняемого файла muscle',\n",
    "                name_consensus='Имя файла, куда будет записан консенсус.fastq',\n",
    "                path_to_minimap2='Полный путь до исполняемого файла minimap2')"
   ]
  }
 ],
 "metadata": {
  "kernelspec": {
   "display_name": "simlord",
   "language": "python",
   "name": "python3"
  },
  "language_info": {
   "codemirror_mode": {
    "name": "ipython",
    "version": 3
   },
   "file_extension": ".py",
   "mimetype": "text/x-python",
   "name": "python",
   "nbconvert_exporter": "python",
   "pygments_lexer": "ipython3",
   "version": "3.12.2"
  }
 },
 "nbformat": 4,
 "nbformat_minor": 2
}
